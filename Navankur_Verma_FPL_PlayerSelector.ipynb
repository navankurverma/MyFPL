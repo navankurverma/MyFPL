{
 "cells": [
  {
   "cell_type": "markdown",
   "execution_count": 1,
   "metadata": {},
   "source": [
    "\n",
    "# Fantasy Premier League - Player Selector\n",
    "# Navankur Verma - navankurverma@gmail.com"
   ]
  },
  {
   "cell_type": "markdown",
   "execution_count": 1,
   "metadata": {},
   "source": [
    "[(Parent link)](https://navankurverma.github.io/MyFPL/Navankur_Verma_FPL.html)"
   ]
  },
  {
   "cell_type": "markdown",
   "execution_count": 1,
   "metadata": {},
   "source": [
    "Libraries Used:"
   ]
  },
  {
   "cell_type": "code",
   "execution_count": 1,
   "metadata": {
    "execution": {
     "iopub.execute_input": "2021-03-29T04:08:09.694798Z",
     "iopub.status.busy": "2021-03-29T04:08:09.694143Z",
     "iopub.status.idle": "2021-03-29T04:08:11.745633Z",
     "shell.execute_reply": "2021-03-29T04:08:11.746118Z"
    }
   },
   "outputs": [],
   "source": [
    "import requests\n",
    "import json\n",
    "import pandas as pd\n",
    "import numpy as np\n",
    "import matplotlib\n",
    "import matplotlib.pyplot as plt\n",
    "import seaborn as sns\n",
    "import cufflinks as cf\n",
    "import plotly.express as px\n",
    "%matplotlib inline"
   ]
  },
  {
   "cell_type": "markdown",
   "execution_count": 2,
   "metadata": {},
   "source": [
    "### Pull General FPL Data \n",
    "[Move to top](#Fantasy-Premier-League---Player-Selector)"
   ]
  },
  {
   "cell_type": "code",
   "execution_count": 2,
   "metadata": {
    "execution": {
     "iopub.execute_input": "2021-03-29T04:08:11.755943Z",
     "iopub.status.busy": "2021-03-29T04:08:11.750144Z",
     "iopub.status.idle": "2021-03-29T04:08:11.877541Z",
     "shell.execute_reply": "2021-03-29T04:08:11.876987Z"
    }
   },
   "outputs": [],
   "source": [
    "#Whole Data\n",
    "fpl = requests.get(\"https://fantasy.premierleague.com/api/bootstrap-static/\")\n",
    "fpl = fpl.json()"
   ]
  },
  {
   "cell_type": "code",
   "execution_count": 3,
   "metadata": {
    "execution": {
     "iopub.execute_input": "2021-03-29T04:08:11.887930Z",
     "iopub.status.busy": "2021-03-29T04:08:11.884618Z",
     "iopub.status.idle": "2021-03-29T04:08:11.889088Z",
     "shell.execute_reply": "2021-03-29T04:08:11.889524Z"
    }
   },
   "outputs": [],
   "source": [
    "if 'teams' in fpl:\n",
    "    teams = pd.DataFrame(fpl['teams'])\n",
    "    teams = teams.iloc[:,[0,3,5,9,10,14,15,16,17,18,19]] #picking only valuable columns\n",
    "    teams.rename(columns = {'code': 'team_code', 'id': 'team_id', 'name': 'team_name'}, inplace = True)\n",
    "    teams\n",
    "else:\n",
    "    print('Teams data not found')"
   ]
  },
  {
   "cell_type": "code",
   "execution_count": 4,
   "metadata": {
    "execution": {
     "iopub.execute_input": "2021-03-29T04:08:11.897294Z",
     "iopub.status.busy": "2021-03-29T04:08:11.895733Z",
     "iopub.status.idle": "2021-03-29T04:08:11.897914Z",
     "shell.execute_reply": "2021-03-29T04:08:11.898351Z"
    }
   },
   "outputs": [],
   "source": [
    "if 'element_types' in fpl:\n",
    "    element_types = pd.DataFrame(fpl['element_types'])\n",
    "    element_types.rename(columns= {'id': 'element_type'}, inplace = True)\n",
    "    element_types\n",
    "else:\n",
    "    print('Element_types data not found')"
   ]
  },
  {
   "cell_type": "code",
   "execution_count": 5,
   "metadata": {
    "execution": {
     "iopub.execute_input": "2021-03-29T04:08:11.919156Z",
     "iopub.status.busy": "2021-03-29T04:08:11.917876Z",
     "iopub.status.idle": "2021-03-29T04:08:11.921407Z",
     "shell.execute_reply": "2021-03-29T04:08:11.920935Z"
    }
   },
   "outputs": [],
   "source": [
    "if 'elements' in fpl:\n",
    "    players = fpl['elements']\n",
    "    players = pd.DataFrame(players)\n",
    "else:\n",
    "    print('Players data not found')"
   ]
  },
  {
   "cell_type": "markdown",
   "execution_count": 6,
   "metadata": {},
   "source": [
    "#### Cleaning Public Data\n",
    "[Move to top](#Fantasy-Premier-League---Player-Selector)"
   ]
  },
  {
   "cell_type": "code",
   "execution_count": 6,
   "metadata": {
    "execution": {
     "iopub.execute_input": "2021-03-29T04:08:11.927065Z",
     "iopub.status.busy": "2021-03-29T04:08:11.926500Z",
     "iopub.status.idle": "2021-03-29T04:08:11.935921Z",
     "shell.execute_reply": "2021-03-29T04:08:11.936415Z"
    }
   },
   "outputs": [
    {
     "data": {
      "text/plain": [
       "chance_of_playing_next_round           181\n",
       "chance_of_playing_this_round           181\n",
       "code                                     0\n",
       "cost_change_event                        0\n",
       "cost_change_event_fall                   0\n",
       "                                      ... \n",
       "corners_and_indirect_freekicks_text      0\n",
       "direct_freekicks_order                 593\n",
       "direct_freekicks_text                    0\n",
       "penalties_order                        619\n",
       "penalties_text                           0\n",
       "Length: 67, dtype: int64"
      ]
     },
     "execution_count": 1,
     "metadata": {},
     "output_type": "execute_result"
    }
   ],
   "source": [
    "players.isnull().sum()"
   ]
  },
  {
   "cell_type": "code",
   "execution_count": 7,
   "metadata": {
    "execution": {
     "iopub.execute_input": "2021-03-29T04:08:11.943377Z",
     "iopub.status.busy": "2021-03-29T04:08:11.941657Z",
     "iopub.status.idle": "2021-03-29T04:08:11.944013Z",
     "shell.execute_reply": "2021-03-29T04:08:11.944536Z"
    }
   },
   "outputs": [],
   "source": [
    "#Replacing missing values with Zeroes\n",
    "players['chance_of_playing_next_round'] = players['chance_of_playing_next_round'].fillna(0)\n",
    "players['chance_of_playing_this_round'] = players['chance_of_playing_this_round'].fillna(0)"
   ]
  },
  {
   "cell_type": "code",
   "execution_count": 8,
   "metadata": {
    "execution": {
     "iopub.execute_input": "2021-03-29T04:08:11.953334Z",
     "iopub.status.busy": "2021-03-29T04:08:11.949530Z",
     "iopub.status.idle": "2021-03-29T04:08:11.956134Z",
     "shell.execute_reply": "2021-03-29T04:08:11.956590Z"
    }
   },
   "outputs": [
    {
     "data": {
      "text/plain": [
       "chance_of_playing_next_round             0\n",
       "chance_of_playing_this_round             0\n",
       "code                                     0\n",
       "cost_change_event                        0\n",
       "cost_change_event_fall                   0\n",
       "                                      ... \n",
       "corners_and_indirect_freekicks_text      0\n",
       "direct_freekicks_order                 593\n",
       "direct_freekicks_text                    0\n",
       "penalties_order                        619\n",
       "penalties_text                           0\n",
       "Length: 67, dtype: int64"
      ]
     },
     "execution_count": 1,
     "metadata": {},
     "output_type": "execute_result"
    }
   ],
   "source": [
    "players.isnull().sum()"
   ]
  },
  {
   "cell_type": "markdown",
   "execution_count": 9,
   "metadata": {},
   "source": [
    "Column Description by its index:  \n",
    "14,12,35,26,27,8 <- id, name, teamName, position  \n",
    "29,30,31,32 <- Transfer details  \n",
    "25,0,1 <- Chances of playing  \n",
    "7, 11,13,15,20,28,18,22 <- fpl related details  \n",
    "36,37,38,39,40,41,42,43,44,45,46,47,48,49,50,51,52 <- onfield stats  \n",
    "Selecting only above columns:"
   ]
  },
  {
   "cell_type": "code",
   "execution_count": 9,
   "metadata": {
    "execution": {
     "iopub.execute_input": "2021-03-29T04:08:11.964163Z",
     "iopub.status.busy": "2021-03-29T04:08:11.962790Z",
     "iopub.status.idle": "2021-03-29T04:08:11.964797Z",
     "shell.execute_reply": "2021-03-29T04:08:11.965239Z"
    }
   },
   "outputs": [],
   "source": [
    "players.rename(columns = {'id': 'element'}, inplace = True)\n",
    "players_details = players.iloc[:,[14,12,35,26,27,8, 36,37,38,39,40,41,42,43,44,45,46,47,48,49,50,51,52, 7,11,13,15,20,28,18,22,29,30,31,32,25,0,1]]"
   ]
  },
  {
   "cell_type": "markdown",
   "execution_count": 10,
   "metadata": {},
   "source": [
    "Joining players data with their corresponding details and teams:"
   ]
  },
  {
   "cell_type": "code",
   "execution_count": 10,
   "metadata": {
    "execution": {
     "iopub.execute_input": "2021-03-29T04:08:11.978744Z",
     "iopub.status.busy": "2021-03-29T04:08:11.974941Z",
     "iopub.status.idle": "2021-03-29T04:08:11.987924Z",
     "shell.execute_reply": "2021-03-29T04:08:11.987397Z"
    }
   },
   "outputs": [],
   "source": [
    "players_details = players_details.merge(teams[[\"team_code\",\"team_name\"]],\n",
    "                                        on = \"team_code\").merge(element_types[[\"singular_name\",\"element_type\"]],\n",
    "                                                                on = \"element_type\")\n",
    "players_details.drop(['team','team_code'], axis=1, inplace = True)\n",
    "players_details.set_index('element', inplace = True)"
   ]
  },
  {
   "cell_type": "code",
   "execution_count": 11,
   "metadata": {
    "execution": {
     "iopub.execute_input": "2021-03-29T04:08:11.994564Z",
     "iopub.status.busy": "2021-03-29T04:08:11.993320Z",
     "iopub.status.idle": "2021-03-29T04:08:12.015037Z",
     "shell.execute_reply": "2021-03-29T04:08:12.015645Z"
    }
   },
   "outputs": [
    {
     "data": {
      "text/html": [
       "<div>\n",
       "<style scoped>\n",
       "    .dataframe tbody tr th:only-of-type {\n",
       "        vertical-align: middle;\n",
       "    }\n",
       "\n",
       "    .dataframe tbody tr th {\n",
       "        vertical-align: top;\n",
       "    }\n",
       "\n",
       "    .dataframe thead th {\n",
       "        text-align: right;\n",
       "    }\n",
       "</style>\n",
       "<table border=\"1\" class=\"dataframe\">\n",
       "  <thead>\n",
       "    <tr style=\"text-align: right;\">\n",
       "      <th></th>\n",
       "      <th>first_name</th>\n",
       "      <th>web_name</th>\n",
       "      <th>element_type</th>\n",
       "      <th>minutes</th>\n",
       "      <th>goals_scored</th>\n",
       "      <th>assists</th>\n",
       "      <th>clean_sheets</th>\n",
       "      <th>goals_conceded</th>\n",
       "      <th>own_goals</th>\n",
       "      <th>penalties_saved</th>\n",
       "      <th>...</th>\n",
       "      <th>selected_by_percent</th>\n",
       "      <th>transfers_in</th>\n",
       "      <th>transfers_in_event</th>\n",
       "      <th>transfers_out</th>\n",
       "      <th>transfers_out_event</th>\n",
       "      <th>status</th>\n",
       "      <th>chance_of_playing_next_round</th>\n",
       "      <th>chance_of_playing_this_round</th>\n",
       "      <th>team_name</th>\n",
       "      <th>singular_name</th>\n",
       "    </tr>\n",
       "    <tr>\n",
       "      <th>element</th>\n",
       "      <th></th>\n",
       "      <th></th>\n",
       "      <th></th>\n",
       "      <th></th>\n",
       "      <th></th>\n",
       "      <th></th>\n",
       "      <th></th>\n",
       "      <th></th>\n",
       "      <th></th>\n",
       "      <th></th>\n",
       "      <th></th>\n",
       "      <th></th>\n",
       "      <th></th>\n",
       "      <th></th>\n",
       "      <th></th>\n",
       "      <th></th>\n",
       "      <th></th>\n",
       "      <th></th>\n",
       "      <th></th>\n",
       "      <th></th>\n",
       "      <th></th>\n",
       "    </tr>\n",
       "  </thead>\n",
       "  <tbody>\n",
       "    <tr>\n",
       "      <th>1</th>\n",
       "      <td>Mesut</td>\n",
       "      <td>Özil</td>\n",
       "      <td>3</td>\n",
       "      <td>0</td>\n",
       "      <td>0</td>\n",
       "      <td>0</td>\n",
       "      <td>0</td>\n",
       "      <td>0</td>\n",
       "      <td>0</td>\n",
       "      <td>0</td>\n",
       "      <td>...</td>\n",
       "      <td>0.5</td>\n",
       "      <td>3441</td>\n",
       "      <td>0</td>\n",
       "      <td>54656</td>\n",
       "      <td>41</td>\n",
       "      <td>u</td>\n",
       "      <td>0.0</td>\n",
       "      <td>0.0</td>\n",
       "      <td>Arsenal</td>\n",
       "      <td>Midfielder</td>\n",
       "    </tr>\n",
       "    <tr>\n",
       "      <th>4</th>\n",
       "      <td>Pierre-Emerick</td>\n",
       "      <td>Aubameyang</td>\n",
       "      <td>3</td>\n",
       "      <td>1931</td>\n",
       "      <td>9</td>\n",
       "      <td>1</td>\n",
       "      <td>7</td>\n",
       "      <td>23</td>\n",
       "      <td>1</td>\n",
       "      <td>0</td>\n",
       "      <td>...</td>\n",
       "      <td>11.0</td>\n",
       "      <td>1107103</td>\n",
       "      <td>4143</td>\n",
       "      <td>3428065</td>\n",
       "      <td>72326</td>\n",
       "      <td>a</td>\n",
       "      <td>100.0</td>\n",
       "      <td>100.0</td>\n",
       "      <td>Arsenal</td>\n",
       "      <td>Midfielder</td>\n",
       "    </tr>\n",
       "    <tr>\n",
       "      <th>9</th>\n",
       "      <td>Granit</td>\n",
       "      <td>Xhaka</td>\n",
       "      <td>3</td>\n",
       "      <td>2057</td>\n",
       "      <td>1</td>\n",
       "      <td>2</td>\n",
       "      <td>7</td>\n",
       "      <td>25</td>\n",
       "      <td>0</td>\n",
       "      <td>0</td>\n",
       "      <td>...</td>\n",
       "      <td>0.5</td>\n",
       "      <td>43485</td>\n",
       "      <td>213</td>\n",
       "      <td>79002</td>\n",
       "      <td>695</td>\n",
       "      <td>a</td>\n",
       "      <td>100.0</td>\n",
       "      <td>100.0</td>\n",
       "      <td>Arsenal</td>\n",
       "      <td>Midfielder</td>\n",
       "    </tr>\n",
       "    <tr>\n",
       "      <th>18</th>\n",
       "      <td>Nicolas</td>\n",
       "      <td>Pépé</td>\n",
       "      <td>3</td>\n",
       "      <td>1049</td>\n",
       "      <td>5</td>\n",
       "      <td>2</td>\n",
       "      <td>1</td>\n",
       "      <td>16</td>\n",
       "      <td>0</td>\n",
       "      <td>0</td>\n",
       "      <td>...</td>\n",
       "      <td>1.3</td>\n",
       "      <td>132101</td>\n",
       "      <td>1691</td>\n",
       "      <td>200914</td>\n",
       "      <td>7363</td>\n",
       "      <td>a</td>\n",
       "      <td>100.0</td>\n",
       "      <td>100.0</td>\n",
       "      <td>Arsenal</td>\n",
       "      <td>Midfielder</td>\n",
       "    </tr>\n",
       "    <tr>\n",
       "      <th>19</th>\n",
       "      <td>Lucas</td>\n",
       "      <td>Torreira</td>\n",
       "      <td>3</td>\n",
       "      <td>0</td>\n",
       "      <td>0</td>\n",
       "      <td>0</td>\n",
       "      <td>0</td>\n",
       "      <td>0</td>\n",
       "      <td>0</td>\n",
       "      <td>0</td>\n",
       "      <td>...</td>\n",
       "      <td>0.1</td>\n",
       "      <td>3459</td>\n",
       "      <td>0</td>\n",
       "      <td>17657</td>\n",
       "      <td>10</td>\n",
       "      <td>u</td>\n",
       "      <td>0.0</td>\n",
       "      <td>0.0</td>\n",
       "      <td>Arsenal</td>\n",
       "      <td>Midfielder</td>\n",
       "    </tr>\n",
       "  </tbody>\n",
       "</table>\n",
       "<p>5 rows × 37 columns</p>\n",
       "</div>"
      ],
      "text/plain": [
       "             first_name    web_name  element_type  minutes  goals_scored  \\\n",
       "element                                                                    \n",
       "1                 Mesut        Özil             3        0             0   \n",
       "4        Pierre-Emerick  Aubameyang             3     1931             9   \n",
       "9                Granit       Xhaka             3     2057             1   \n",
       "18              Nicolas        Pépé             3     1049             5   \n",
       "19                Lucas    Torreira             3        0             0   \n",
       "\n",
       "         assists  clean_sheets  goals_conceded  own_goals  penalties_saved  \\\n",
       "element                                                                      \n",
       "1              0             0               0          0                0   \n",
       "4              1             7              23          1                0   \n",
       "9              2             7              25          0                0   \n",
       "18             2             1              16          0                0   \n",
       "19             0             0               0          0                0   \n",
       "\n",
       "         ...  selected_by_percent  transfers_in  transfers_in_event  \\\n",
       "element  ...                                                          \n",
       "1        ...                  0.5          3441                   0   \n",
       "4        ...                 11.0       1107103                4143   \n",
       "9        ...                  0.5         43485                 213   \n",
       "18       ...                  1.3        132101                1691   \n",
       "19       ...                  0.1          3459                   0   \n",
       "\n",
       "         transfers_out  transfers_out_event  status  \\\n",
       "element                                               \n",
       "1                54656                   41       u   \n",
       "4              3428065                72326       a   \n",
       "9                79002                  695       a   \n",
       "18              200914                 7363       a   \n",
       "19               17657                   10       u   \n",
       "\n",
       "        chance_of_playing_next_round chance_of_playing_this_round team_name  \\\n",
       "element                                                                       \n",
       "1                                0.0                          0.0   Arsenal   \n",
       "4                              100.0                        100.0   Arsenal   \n",
       "9                              100.0                        100.0   Arsenal   \n",
       "18                             100.0                        100.0   Arsenal   \n",
       "19                               0.0                          0.0   Arsenal   \n",
       "\n",
       "        singular_name  \n",
       "element                \n",
       "1          Midfielder  \n",
       "4          Midfielder  \n",
       "9          Midfielder  \n",
       "18         Midfielder  \n",
       "19         Midfielder  \n",
       "\n",
       "[5 rows x 37 columns]"
      ]
     },
     "execution_count": 1,
     "metadata": {},
     "output_type": "execute_result"
    }
   ],
   "source": [
    "players_details.head()"
   ]
  },
  {
   "cell_type": "markdown",
   "execution_count": 12,
   "metadata": {},
   "source": [
    "#### Most Suitable Player to Buy Currently\n",
    "[Move to top](#Fantasy-Premier-League---Player-Selector)"
   ]
  },
  {
   "cell_type": "code",
   "execution_count": 12,
   "metadata": {
    "execution": {
     "iopub.execute_input": "2021-03-29T04:08:12.023632Z",
     "iopub.status.busy": "2021-03-29T04:08:12.022927Z",
     "iopub.status.idle": "2021-03-29T04:08:12.534500Z",
     "shell.execute_reply": "2021-03-29T04:08:12.535067Z"
    }
   },
   "outputs": [
    {
     "data": {
      "text/html": [
       "        <script type=\"text/javascript\">\n",
       "        window.PlotlyConfig = {MathJaxConfig: 'local'};\n",
       "        if (window.MathJax) {MathJax.Hub.Config({SVG: {font: \"STIX-Web\"}});}\n",
       "        if (typeof require !== 'undefined') {\n",
       "        require.undef(\"plotly\");\n",
       "        requirejs.config({\n",
       "            paths: {\n",
       "                'plotly': ['https://cdn.plot.ly/plotly-latest.min']\n",
       "            }\n",
       "        });\n",
       "        require(['plotly'], function(Plotly) {\n",
       "            window._Plotly = Plotly;\n",
       "        });\n",
       "        }\n",
       "        </script>\n",
       "        "
      ]
     },
     "metadata": {},
     "output_type": "display_data"
    },
    {
     "data": {
      "application/vnd.plotly.v1+json": {
       "config": {
        "plotlyServerURL": "https://plot.ly"
       },
       "data": [
        {
         "customdata": [
          [
           "Arsenal"
          ],
          [
           "Arsenal"
          ],
          [
           "Arsenal"
          ],
          [
           "Arsenal"
          ],
          [
           "Arsenal"
          ],
          [
           "Arsenal"
          ],
          [
           "Arsenal"
          ],
          [
           "Arsenal"
          ],
          [
           "Arsenal"
          ],
          [
           "Arsenal"
          ],
          [
           "Arsenal"
          ],
          [
           "Arsenal"
          ],
          [
           "Arsenal"
          ],
          [
           "Arsenal"
          ],
          [
           "Arsenal"
          ],
          [
           "Aston Villa"
          ],
          [
           "Aston Villa"
          ],
          [
           "Aston Villa"
          ],
          [
           "Aston Villa"
          ],
          [
           "Aston Villa"
          ],
          [
           "Aston Villa"
          ],
          [
           "Aston Villa"
          ],
          [
           "Aston Villa"
          ],
          [
           "Aston Villa"
          ],
          [
           "Aston Villa"
          ],
          [
           "Aston Villa"
          ],
          [
           "Aston Villa"
          ],
          [
           "Aston Villa"
          ],
          [
           "Aston Villa"
          ],
          [
           "Aston Villa"
          ],
          [
           "Aston Villa"
          ],
          [
           "Brighton"
          ],
          [
           "Brighton"
          ],
          [
           "Brighton"
          ],
          [
           "Brighton"
          ],
          [
           "Brighton"
          ],
          [
           "Brighton"
          ],
          [
           "Brighton"
          ],
          [
           "Brighton"
          ],
          [
           "Brighton"
          ],
          [
           "Brighton"
          ],
          [
           "Brighton"
          ],
          [
           "Brighton"
          ],
          [
           "Brighton"
          ],
          [
           "Brighton"
          ],
          [
           "Brighton"
          ],
          [
           "Brighton"
          ],
          [
           "Brighton"
          ],
          [
           "Brighton"
          ],
          [
           "Brighton"
          ],
          [
           "Burnley"
          ],
          [
           "Burnley"
          ],
          [
           "Burnley"
          ],
          [
           "Burnley"
          ],
          [
           "Burnley"
          ],
          [
           "Burnley"
          ],
          [
           "Burnley"
          ],
          [
           "Burnley"
          ],
          [
           "Burnley"
          ],
          [
           "Burnley"
          ],
          [
           "Chelsea"
          ],
          [
           "Chelsea"
          ],
          [
           "Chelsea"
          ],
          [
           "Chelsea"
          ],
          [
           "Chelsea"
          ],
          [
           "Chelsea"
          ],
          [
           "Chelsea"
          ],
          [
           "Chelsea"
          ],
          [
           "Chelsea"
          ],
          [
           "Chelsea"
          ],
          [
           "Crystal Palace"
          ],
          [
           "Crystal Palace"
          ],
          [
           "Crystal Palace"
          ],
          [
           "Crystal Palace"
          ],
          [
           "Crystal Palace"
          ],
          [
           "Crystal Palace"
          ],
          [
           "Crystal Palace"
          ],
          [
           "Crystal Palace"
          ],
          [
           "Crystal Palace"
          ],
          [
           "Crystal Palace"
          ],
          [
           "Crystal Palace"
          ],
          [
           "Everton"
          ],
          [
           "Everton"
          ],
          [
           "Everton"
          ],
          [
           "Everton"
          ],
          [
           "Everton"
          ],
          [
           "Everton"
          ],
          [
           "Everton"
          ],
          [
           "Everton"
          ],
          [
           "Everton"
          ],
          [
           "Everton"
          ],
          [
           "Everton"
          ],
          [
           "Everton"
          ],
          [
           "Everton"
          ],
          [
           "Fulham"
          ],
          [
           "Fulham"
          ],
          [
           "Fulham"
          ],
          [
           "Fulham"
          ],
          [
           "Fulham"
          ],
          [
           "Fulham"
          ],
          [
           "Fulham"
          ],
          [
           "Fulham"
          ],
          [
           "Fulham"
          ],
          [
           "Fulham"
          ],
          [
           "Fulham"
          ],
          [
           "Fulham"
          ],
          [
           "Fulham"
          ],
          [
           "Fulham"
          ],
          [
           "Leicester"
          ],
          [
           "Leicester"
          ],
          [
           "Leicester"
          ],
          [
           "Leicester"
          ],
          [
           "Leicester"
          ],
          [
           "Leicester"
          ],
          [
           "Leicester"
          ],
          [
           "Leicester"
          ],
          [
           "Leicester"
          ],
          [
           "Leicester"
          ],
          [
           "Leicester"
          ],
          [
           "Leicester"
          ],
          [
           "Leicester"
          ],
          [
           "Leicester"
          ],
          [
           "Leicester"
          ],
          [
           "Leicester"
          ],
          [
           "Leeds"
          ],
          [
           "Leeds"
          ],
          [
           "Leeds"
          ],
          [
           "Leeds"
          ],
          [
           "Leeds"
          ],
          [
           "Leeds"
          ],
          [
           "Leeds"
          ],
          [
           "Leeds"
          ],
          [
           "Leeds"
          ],
          [
           "Leeds"
          ],
          [
           "Leeds"
          ],
          [
           "Leeds"
          ],
          [
           "Leeds"
          ],
          [
           "Leeds"
          ],
          [
           "Liverpool"
          ],
          [
           "Liverpool"
          ],
          [
           "Liverpool"
          ],
          [
           "Liverpool"
          ],
          [
           "Liverpool"
          ],
          [
           "Liverpool"
          ],
          [
           "Liverpool"
          ],
          [
           "Liverpool"
          ],
          [
           "Liverpool"
          ],
          [
           "Liverpool"
          ],
          [
           "Liverpool"
          ],
          [
           "Liverpool"
          ],
          [
           "Liverpool"
          ],
          [
           "Liverpool"
          ],
          [
           "Liverpool"
          ],
          [
           "Liverpool"
          ],
          [
           "Man City"
          ],
          [
           "Man City"
          ],
          [
           "Man City"
          ],
          [
           "Man City"
          ],
          [
           "Man City"
          ],
          [
           "Man City"
          ],
          [
           "Man City"
          ],
          [
           "Man City"
          ],
          [
           "Man City"
          ],
          [
           "Man City"
          ],
          [
           "Man City"
          ],
          [
           "Man City"
          ],
          [
           "Man City"
          ],
          [
           "Man Utd"
          ],
          [
           "Man Utd"
          ],
          [
           "Man Utd"
          ],
          [
           "Man Utd"
          ],
          [
           "Man Utd"
          ],
          [
           "Man Utd"
          ],
          [
           "Man Utd"
          ],
          [
           "Man Utd"
          ],
          [
           "Man Utd"
          ],
          [
           "Man Utd"
          ],
          [
           "Man Utd"
          ],
          [
           "Man Utd"
          ],
          [
           "Man Utd"
          ],
          [
           "Man Utd"
          ],
          [
           "Man Utd"
          ],
          [
           "Man Utd"
          ],
          [
           "Newcastle"
          ],
          [
           "Newcastle"
          ],
          [
           "Newcastle"
          ],
          [
           "Newcastle"
          ],
          [
           "Newcastle"
          ],
          [
           "Newcastle"
          ],
          [
           "Newcastle"
          ],
          [
           "Newcastle"
          ],
          [
           "Newcastle"
          ],
          [
           "Newcastle"
          ],
          [
           "Newcastle"
          ],
          [
           "Newcastle"
          ],
          [
           "Newcastle"
          ],
          [
           "Newcastle"
          ],
          [
           "Sheffield Utd"
          ],
          [
           "Sheffield Utd"
          ],
          [
           "Sheffield Utd"
          ],
          [
           "Sheffield Utd"
          ],
          [
           "Sheffield Utd"
          ],
          [
           "Sheffield Utd"
          ],
          [
           "Sheffield Utd"
          ],
          [
           "Sheffield Utd"
          ],
          [
           "Sheffield Utd"
          ],
          [
           "Sheffield Utd"
          ],
          [
           "Southampton"
          ],
          [
           "Southampton"
          ],
          [
           "Southampton"
          ],
          [
           "Southampton"
          ],
          [
           "Southampton"
          ],
          [
           "Southampton"
          ],
          [
           "Southampton"
          ],
          [
           "Southampton"
          ],
          [
           "Southampton"
          ],
          [
           "Southampton"
          ],
          [
           "Southampton"
          ],
          [
           "Southampton"
          ],
          [
           "Southampton"
          ],
          [
           "Southampton"
          ],
          [
           "Southampton"
          ],
          [
           "Southampton"
          ],
          [
           "Southampton"
          ],
          [
           "Spurs"
          ],
          [
           "Spurs"
          ],
          [
           "Spurs"
          ],
          [
           "Spurs"
          ],
          [
           "Spurs"
          ],
          [
           "Spurs"
          ],
          [
           "Spurs"
          ],
          [
           "Spurs"
          ],
          [
           "Spurs"
          ],
          [
           "Spurs"
          ],
          [
           "Spurs"
          ],
          [
           "Spurs"
          ],
          [
           "Spurs"
          ],
          [
           "Spurs"
          ],
          [
           "West Brom"
          ],
          [
           "West Brom"
          ],
          [
           "West Brom"
          ],
          [
           "West Brom"
          ],
          [
           "West Brom"
          ],
          [
           "West Brom"
          ],
          [
           "West Brom"
          ],
          [
           "West Brom"
          ],
          [
           "West Brom"
          ],
          [
           "West Brom"
          ],
          [
           "West Brom"
          ],
          [
           "West Brom"
          ],
          [
           "West Brom"
          ],
          [
           "West Brom"
          ],
          [
           "West Ham"
          ],
          [
           "West Ham"
          ],
          [
           "West Ham"
          ],
          [
           "West Ham"
          ],
          [
           "West Ham"
          ],
          [
           "West Ham"
          ],
          [
           "West Ham"
          ],
          [
           "West Ham"
          ],
          [
           "West Ham"
          ],
          [
           "West Ham"
          ],
          [
           "West Ham"
          ],
          [
           "West Ham"
          ],
          [
           "Wolves"
          ],
          [
           "Wolves"
          ],
          [
           "Wolves"
          ],
          [
           "Wolves"
          ],
          [
           "Wolves"
          ],
          [
           "Wolves"
          ],
          [
           "Wolves"
          ],
          [
           "Wolves"
          ],
          [
           "Wolves"
          ],
          [
           "Wolves"
          ],
          [
           "Wolves"
          ],
          [
           "Wolves"
          ],
          [
           "Wolves"
          ],
          [
           "Wolves"
          ]
         ],
         "hovertemplate": "<b>%{hovertext}</b><br><br>Player Type=Midfielder<br>points_per_game=%{x}<br>now_cost=%{y}<br>size=%{marker.size}<br>team_name=%{customdata[0]}<extra></extra>",
         "hovertext": [
          "Mesut Özil",
          "Pierre-Emerick Aubameyang",
          "Granit Xhaka",
          "Nicolas Pépé",
          "Lucas Torreira",
          "Reiss Nelson",
          "Emile Smith Rowe",
          "Bukayo Saka",
          "Matteo Guendouzi",
          "Gabriel Teodoro Martinelli",
          "Willian Willian",
          "Daniel Ceballos",
          "Mohamed Naser Elneny",
          "Thomas Partey",
          "Martin Ødegaard",
          "Henri Lansbury",
          "Conor Hourihane",
          "José Ignacio Jota",
          "Jack Grealish",
          "John McGinn",
          "Mahmoud Ahmed Trézéguet",
          "Marvelous Nakamba",
          "Anwar El Ghazi",
          "Douglas Luiz Douglas Luiz",
          "Ross Barkley",
          "Bertrand Traoré",
          "Jacob Ramsey",
          "Morgan Sanson",
          "Kaine Hayden",
          "Carney Chukwuemeka",
          "Jaden Philogene-Bidace",
          "Adam Lallana",
          "Pascal Groß",
          "Davy Pröpper",
          "Aaron Mooy",
          "Solomon March",
          "Leandro Trossard",
          "Alireza Jahanbakhsh",
          "José Izquierdo",
          "Yves Bissouma",
          "Steven Alzate",
          "Alexis Mac Allister",
          "Jayson Molumby",
          "Percy Tau",
          "Jakub Moder",
          "Reda Khadra",
          "Teddy Jenks",
          "Max Sanders",
          "Jensen Weir",
          "Moisés Caicedo",
          "Dale Stephens",
          "Jack Cork",
          "Ashley Westwood",
          "Johann Berg Gudmundsson",
          "Robbie Brady",
          "Josh Brownhill",
          "Dwight McNeil",
          "Josh Benson",
          "Mace Goodridge",
          "Anthony Mancini",
          "Jorge Luiz Jorginho",
          "Mateo Kovacic",
          "N'Golo Kanté",
          "Hakim Ziyech",
          "Christian Pulisic",
          "Mason Mount",
          "Callum Hudson-Odoi",
          "Billy Gilmour",
          "Kai Havertz",
          "Faustino Anjorin",
          "James McArthur",
          "James McCarthy",
          "Cheikhou Kouyaté",
          "Andros Townsend",
          "Luka Milivojevic",
          "Wilfried Zaha",
          "Jeffrey Schlupp",
          "Max Meyer",
          "Jairo Riedewald",
          "Brandon Pierrick",
          "Eberechi Eze",
          "Fabian Delph",
          "Gylfi Sigurdsson",
          "Bernard Bernard",
          "André Filipe André Gomes",
          "Alex Iwobi",
          "Jean-Philippe Gbamin",
          "Tom Davies",
          "Anthony Gordon",
          "Allan Allan",
          "James Rodríguez",
          "Abdoulaye Doucouré",
          "Tyler Onyango",
          "Nathan Broadhead",
          "Ruben Loftus-Cheek",
          "Kevin McDonald",
          "Stefan Johansen",
          "Tom Cairney",
          "Anthony Knockaert",
          "Neeskens Kebano",
          "Ivan Ricardo Cavaleiro",
          "Josh Onomah",
          "Jean Michaël Seri",
          "Aboubakar Kamara",
          "André-Frank Anguissa",
          "Harrison Reed",
          "Mario Lemina",
          "Ademola Lookman",
          "Adrien Silva",
          "Marc Albrighton",
          "Matty James",
          "Dennis Praet",
          "Youri Tielemans",
          "Ayoze Pérez",
          "Demarai Gray",
          "James Maddison",
          "Hamza Choudhury",
          "Harvey Barnes",
          "Wilfred Ndidi",
          "Nampalys Mendy",
          "Cengiz Ünder",
          "Thakgalo Leshabela",
          "Sidnei Tavares",
          "Shane Flynn",
          "Pablo Hernández",
          "Mateusz Klich",
          "Adam Forshaw",
          "Jack Harrison",
          "Kalvin Phillips",
          "Hélder Wander Costa",
          "Tyler Roberts",
          "Jay-Roy Grot",
          "Ian Carlo Poveda-Ocampo",
          "Jamie Shackleton",
          "Jordan Stevens",
          "Mateusz Bogusz",
          "Raphael Raphinha",
          "Jack Jenkins",
          "James Milner",
          "Georginio Wijnaldum",
          "Jordan Henderson",
          "Xherdan Shaqiri",
          "Alex Chamberlain",
          "Sadio Mané",
          "Fabio Henrique Fabinho",
          "Mohamed Salah",
          "Harry Harry Wilson",
          "Naby Keita",
          "Curtis Jones",
          "Harvey Elliott",
          "Diogo Jota",
          "Thiago Thiago",
          "Leighton Clarkson",
          "Jake Cain",
          "Ilkay Gündogan",
          "Kevin De Bruyne",
          "Riyad Mahrez",
          "Raheem Sterling",
          "Bernardo Mota Bernardo Silva",
          "Phil Foden",
          "Tommy Doyle",
          "Rodrigo Rodrigo",
          "Ferran Torres",
          "Adrián Bernabé",
          "Cole Palmer",
          "Felix Nmecha",
          "Claudio Gomes",
          "Juan Mata",
          "Nemanja Matic",
          "Paul Pogba",
          "Frederico Fred",
          "Bruno Miguel Fernandes",
          "Andreas Pereira",
          "Marcus Rashford",
          "Scott McTominay",
          "Daniel James",
          "Mason Greenwood",
          "Tahith Chong",
          "James Garner",
          "Donny van de Beek",
          "Facundo Pellistri",
          "Amad Diallo",
          "Shola Shoretire",
          "Joseph Willock",
          "Jonjo Shelvey",
          "Matt Ritchie",
          "Christian Atsu",
          "Isaac Hayden",
          "Rolando Aarons",
          "Allan Saint-Maximin",
          "Miguel Almirón",
          "Sean Sean Longstaff",
          "Jeff Hendrick",
          "Matthew Matty Longstaff",
          "Jacob Murphy",
          "Ryan Fraser",
          "Elliot Anderson",
          "John Fleck",
          "Oliver Norwood",
          "John Lundstram",
          "Ben Osborn",
          "Sander Berge",
          "Oliver Burke",
          "Luke Freeman",
          "Iliman Ndiaye",
          "Zak Brunt",
          "Frankie Maguire",
          "Theo Walcott",
          "Takumi Minamino",
          "Oriol Oriol Romeu",
          "Nathan Redmond",
          "Stuart Armstrong",
          "James Ward-Prowse",
          "Sofiane Boufal",
          "Josh Sims",
          "William Smallbone",
          "Moussa Djenepo",
          "Nathan Tella",
          "Ibrahima Diallo",
          "Kgaogelo Chauke",
          "Will Ferry",
          "Caleb Watts",
          "Alexandre Jankewitz",
          "Ryan Finnigan",
          "Moussa Sissoko",
          "Erik Lamela",
          "Heung-Min Son",
          "Lucas Lucas Moura",
          "Bamidele Alli",
          "Pierre-Emile Højbjerg",
          "Harry Winks",
          "Steven Bergwijn",
          "Gedson Fernandes",
          "Giovani Lo Celso",
          "Oliver Skipp",
          "Tanguy Ndombele",
          "Gareth Bale",
          "Alfie Devine",
          "Jake Livermore",
          "Kamil Grosicki",
          "Matt Phillips",
          "Romaine Sawyers",
          "Jonathan Leko",
          "Kyle Edwards",
          "Sam Field",
          "Rekeem Harper",
          "Robert Snodgrass",
          "Grady Diangana",
          "Matheus Pereira",
          "Conor Gallagher",
          "Filip Krovinovic",
          "Okay Yokuslu",
          "Jesse Lingard",
          "Mark Noble",
          "Jack Wilshere",
          "Andriy Yarmolenko",
          "Manuel Lanzini",
          "Felipe Anderson Felipe Anderson",
          "Jarrod Bowen",
          "Declan Rice",
          "Tomas Soucek",
          "Pablo Fornals",
          "Saïd Benrahma",
          "Conor Coventry",
          "João Filipe Iria Moutinho",
          "Leander Dendoncker",
          "Adama Traoré",
          "Rúben Diogo Neves",
          "Daniel Podence",
          "Morgan Gibbs-White",
          "Pedro Neto",
          "Bruno André Jordao",
          "Vitor Vitinha",
          "Meritan Shabani",
          "Owen Otasowie",
          "Theo Corbeanu",
          "Taylor Perry",
          "Luke Cundle"
         ],
         "legendgroup": "Midfielder",
         "marker": {
          "color": "#636efa",
          "size": [
           0.30000000000000004,
           4.5,
           3.0,
           7.050000000000001,
           0.30000000000000004,
           0.30000000000000004,
           1.7999999999999998,
           1.7999999999999998,
           0.30000000000000004,
           0.6000000000000001,
           7.050000000000001,
           0.6000000000000001,
           1.5,
           3.0,
           6.0,
           0.30000000000000004,
           0.30000000000000004,
           0.30000000000000004,
           0.30000000000000004,
           3.3000000000000003,
           3.0,
           1.7999999999999998,
           5.1000000000000005,
           2.4,
           1.5,
           3.3000000000000003,
           2.4,
           2.0999999999999996,
           0.30000000000000004,
           0.30000000000000004,
           0.30000000000000004,
           6.0,
           5.1000000000000005,
           1.0499999999999998,
           0.30000000000000004,
           0.30000000000000004,
           10.8,
           0.6000000000000001,
           0.30000000000000004,
           3.6000000000000005,
           0.6000000000000001,
           1.7999999999999998,
           0.30000000000000004,
           0.30000000000000004,
           2.0999999999999996,
           0.30000000000000004,
           0.30000000000000004,
           0.30000000000000004,
           0.30000000000000004,
           0.30000000000000004,
           0.6000000000000001,
           1.7999999999999998,
           3.0,
           1.7999999999999998,
           1.0499999999999998,
           3.3000000000000003,
           6.300000000000001,
           0.30000000000000004,
           0.30000000000000004,
           0.30000000000000004,
           6.300000000000001,
           3.0,
           5.1000000000000005,
           3.6000000000000005,
           2.55,
           7.050000000000001,
           2.0999999999999996,
           0.30000000000000004,
           5.1000000000000005,
           0.30000000000000004,
           0.30000000000000004,
           1.7999999999999998,
           4.5,
           3.6000000000000005,
           8.100000000000001,
           3.0,
           1.5,
           0.30000000000000004,
           3.0,
           0.30000000000000004,
           3.6000000000000005,
           0.30000000000000004,
           5.1000000000000005,
           1.7999999999999998,
           4.050000000000001,
           2.0999999999999996,
           0.30000000000000004,
           2.55,
           0.30000000000000004,
           3.3000000000000003,
           0.30000000000000004,
           2.55,
           0.30000000000000004,
           0.30000000000000004,
           2.7,
           0.30000000000000004,
           0.30000000000000004,
           0.30000000000000004,
           0.30000000000000004,
           0.30000000000000004,
           3.3000000000000003,
           0.6000000000000001,
           0.30000000000000004,
           0.30000000000000004,
           2.7,
           3.6000000000000005,
           4.800000000000001,
           4.5,
           0.30000000000000004,
           4.050000000000001,
           0.30000000000000004,
           0.30000000000000004,
           6.0,
           3.3000000000000003,
           0.30000000000000004,
           0.30000000000000004,
           1.5,
           0.6000000000000001,
           6.6000000000000005,
           1.0499999999999998,
           0.6000000000000001,
           0.6000000000000001,
           1.5,
           0.30000000000000004,
           0.30000000000000004,
           1.7999999999999998,
           0.30000000000000004,
           4.800000000000001,
           2.0999999999999996,
           1.7999999999999998,
           2.55,
           0.30000000000000004,
           0.30000000000000004,
           0.30000000000000004,
           0.30000000000000004,
           0.30000000000000004,
           6.0,
           0.30000000000000004,
           2.0999999999999996,
           4.050000000000001,
           0.30000000000000004,
           1.0499999999999998,
           1.0499999999999998,
           4.800000000000001,
           2.55,
           4.050000000000001,
           0.30000000000000004,
           1.5,
           4.050000000000001,
           0.30000000000000004,
           4.050000000000001,
           3.0,
           0.30000000000000004,
           0.30000000000000004,
           5.1000000000000005,
           8.100000000000001,
           11.4,
           1.5,
           2.4,
           4.2,
           0.30000000000000004,
           2.7,
           3.0,
           0.30000000000000004,
           0.30000000000000004,
           0.30000000000000004,
           0.30000000000000004,
           0.30000000000000004,
           1.7999999999999998,
           0.30000000000000004,
           4.5,
           7.5,
           0.30000000000000004,
           5.550000000000001,
           4.800000000000001,
           3.6000000000000005,
           4.050000000000001,
           0.30000000000000004,
           0.30000000000000004,
           0.30000000000000004,
           0.30000000000000004,
           0.30000000000000004,
           0.30000000000000004,
           3.6000000000000005,
           3.6000000000000005,
           0.6000000000000001,
           0.30000000000000004,
           3.0,
           0.30000000000000004,
           1.5,
           1.5,
           0.6000000000000001,
           1.0499999999999998,
           0.30000000000000004,
           3.6000000000000005,
           4.800000000000001,
           0.30000000000000004,
           3.3000000000000003,
           3.3000000000000003,
           3.3000000000000003,
           1.0499999999999998,
           0.30000000000000004,
           1.7999999999999998,
           0.30000000000000004,
           0.6000000000000001,
           0.30000000000000004,
           0.30000000000000004,
           0.30000000000000004,
           2.0999999999999996,
           0.30000000000000004,
           2.55,
           5.1000000000000005,
           8.55,
           0.30000000000000004,
           0.30000000000000004,
           0.30000000000000004,
           2.0999999999999996,
           3.3000000000000003,
           2.55,
           0.30000000000000004,
           0.30000000000000004,
           1.0499999999999998,
           0.30000000000000004,
           0.30000000000000004,
           1.5,
           2.0999999999999996,
           6.300000000000001,
           7.800000000000001,
           2.7,
           4.2,
           0.9000000000000001,
           0.6000000000000001,
           0.30000000000000004,
           0.9000000000000001,
           0.30000000000000004,
           3.6000000000000005,
           11.100000000000001,
           0.30000000000000004,
           0.30000000000000004,
           0.30000000000000004,
           4.050000000000001,
           0.30000000000000004,
           0.30000000000000004,
           0.30000000000000004,
           0.30000000000000004,
           0.30000000000000004,
           1.0499999999999998,
           0.6000000000000001,
           4.050000000000001,
           5.1000000000000005,
           0.30000000000000004,
           3.6000000000000005,
           8.55,
           1.5,
           0.30000000000000004,
           0.30000000000000004,
           0.6000000000000001,
           0.30000000000000004,
           4.800000000000001,
           3.6000000000000005,
           4.800000000000001,
           2.0999999999999996,
           3.0,
           0.30000000000000004,
           5.1000000000000005,
           2.55,
           4.5,
           6.300000000000001,
           0.30000000000000004,
           0.6000000000000001,
           4.5,
           0.30000000000000004,
           0.30000000000000004,
           0.30000000000000004,
           0.6000000000000001,
           0.30000000000000004,
           0.30000000000000004,
           0.30000000000000004
          ],
          "sizemode": "area",
          "sizeref": 0.03525,
          "symbol": "circle"
         },
         "mode": "markers",
         "name": "Midfielder",
         "orientation": "v",
         "showlegend": true,
         "type": "scatter",
         "x": [
          "0.0",
          "4.4",
          "2.3",
          "2.9",
          "0.0",
          "1.0",
          "3.3",
          "3.8",
          "0.0",
          "1.7",
          "3.0",
          "2.1",
          "1.8",
          "1.9",
          "2.6",
          "0.0",
          "5.0",
          "0.0",
          "5.9",
          "3.1",
          "2.1",
          "1.8",
          "3.8",
          "2.4",
          "3.1",
          "3.5",
          "1.4",
          "1.0",
          "0.0",
          "0.0",
          "0.0",
          "2.0",
          "3.4",
          "1.3",
          "0.0",
          "3.3",
          "4.1",
          "1.2",
          "0.0",
          "2.1",
          "2.4",
          "2.5",
          "1.0",
          "1.5",
          "1.7",
          "1.0",
          "0.0",
          "0.0",
          "0.0",
          "0.0",
          "1.1",
          "2.0",
          "2.7",
          "2.6",
          "2.3",
          "2.2",
          "3.1",
          "1.7",
          "0.0",
          "0.0",
          "4.5",
          "2.1",
          "2.2",
          "3.3",
          "2.3",
          "4.2",
          "2.7",
          "1.0",
          "2.8",
          "0.0",
          "2.5",
          "1.6",
          "2.5",
          "2.8",
          "2.1",
          "5.2",
          "2.6",
          "0.0",
          "2.2",
          "0.0",
          "3.2",
          "1.2",
          "3.3",
          "2.0",
          "1.8",
          "2.3",
          "0.0",
          "1.9",
          "1.0",
          "1.8",
          "4.3",
          "2.8",
          "0.0",
          "0.0",
          "2.3",
          "0.0",
          "0.0",
          "2.7",
          "0.0",
          "1.2",
          "2.5",
          "1.0",
          "0.0",
          "0.7",
          "2.2",
          "2.3",
          "1.9",
          "3.5",
          "0.0",
          "2.3",
          "0.0",
          "2.7",
          "3.8",
          "2.6",
          "1.0",
          "5.2",
          "1.4",
          "5.0",
          "3.4",
          "1.9",
          "1.8",
          "1.0",
          "1.5",
          "0.0",
          "1.5",
          "2.9",
          "0.0",
          "4.0",
          "2.3",
          "2.9",
          "1.6",
          "0.0",
          "1.0",
          "1.3",
          "0.0",
          "0.0",
          "4.5",
          "0.0",
          "1.8",
          "2.7",
          "2.7",
          "2.0",
          "1.3",
          "4.6",
          "2.2",
          "6.2",
          "0.0",
          "1.5",
          "2.1",
          "0.0",
          "4.8",
          "1.8",
          "0.0",
          "0.0",
          "6.2",
          "5.4",
          "5.6",
          "5.3",
          "3.4",
          "4.9",
          "0.0",
          "2.6",
          "3.2",
          "0.0",
          "0.0",
          "0.0",
          "0.0",
          "2.9",
          "1.9",
          "3.4",
          "2.2",
          "7.2",
          "0.0",
          "4.8",
          "3.1",
          "2.8",
          "2.2",
          "0.0",
          "0.0",
          "1.4",
          "0.0",
          "0.0",
          "1.0",
          "2.1",
          "2.4",
          "1.4",
          "0.0",
          "1.7",
          "0.0",
          "3.2",
          "3.0",
          "1.7",
          "2.6",
          "2.0",
          "2.4",
          "2.2",
          "1.0",
          "2.3",
          "1.5",
          "1.8",
          "1.5",
          "2.2",
          "2.0",
          "0.0",
          "1.0",
          "0.0",
          "0.0",
          "3.6",
          "2.7",
          "2.5",
          "1.9",
          "3.6",
          "4.3",
          "0.0",
          "0.0",
          "1.7",
          "1.9",
          "1.4",
          "1.5",
          "0.0",
          "0.0",
          "0.7",
          "-0.5",
          "0.0",
          "1.9",
          "1.3",
          "6.4",
          "2.8",
          "1.6",
          "2.7",
          "1.3",
          "2.4",
          "0.0",
          "1.8",
          "0.0",
          "3.1",
          "4.8",
          "0.0",
          "1.4",
          "2.7",
          "2.0",
          "1.7",
          "0.0",
          "1.0",
          "1.0",
          "1.0",
          "1.3",
          "2.1",
          "3.6",
          "2.7",
          "1.5",
          "2.1",
          "8.0",
          "1.1",
          "0.0",
          "1.1",
          "1.8",
          "1.0",
          "3.6",
          "2.6",
          "4.2",
          "3.5",
          "2.2",
          "0.0",
          "2.3",
          "2.2",
          "2.1",
          "3.2",
          "3.6",
          "1.2",
          "4.1",
          "0.0",
          "1.3",
          "0.0",
          "1.4",
          "0.0",
          "0.0",
          "0.0"
         ],
         "xaxis": "x",
         "y": [
          6.7,
          11.5,
          5.2,
          7.6,
          4.7,
          5.1,
          4.2,
          5.3,
          4.7,
          4.9,
          7.5,
          4.7,
          4.2,
          4.9,
          6.0,
          4.3,
          5.9,
          5.9,
          7.5,
          5.5,
          5.2,
          4.3,
          5.3,
          4.8,
          5.9,
          5.9,
          4.5,
          5.5,
          4.5,
          4.5,
          4.5,
          6.2,
          5.8,
          4.8,
          5.0,
          5.0,
          5.8,
          5.4,
          5.5,
          4.4,
          4.2,
          5.3,
          4.5,
          4.9,
          5.0,
          4.5,
          4.5,
          4.5,
          4.5,
          5.0,
          4.2,
          5.0,
          5.3,
          5.4,
          5.0,
          4.9,
          5.7,
          4.5,
          4.5,
          4.4,
          4.7,
          5.3,
          4.9,
          7.9,
          8.2,
          7.0,
          5.7,
          4.4,
          8.2,
          4.5,
          5.2,
          4.3,
          4.8,
          5.5,
          5.6,
          7.1,
          5.3,
          4.7,
          4.4,
          4.3,
          5.8,
          4.8,
          6.8,
          5.7,
          5.3,
          5.9,
          5.0,
          5.2,
          4.3,
          5.2,
          7.7,
          5.2,
          4.5,
          4.5,
          5.9,
          4.7,
          4.7,
          5.2,
          5.0,
          4.7,
          5.3,
          4.6,
          4.6,
          4.8,
          4.5,
          4.4,
          4.5,
          5.1,
          4.4,
          5.2,
          4.3,
          5.2,
          6.5,
          6.0,
          5.1,
          7.1,
          4.6,
          6.7,
          4.8,
          4.2,
          5.7,
          4.4,
          4.4,
          4.5,
          5.7,
          5.2,
          4.8,
          5.4,
          4.9,
          5.0,
          4.6,
          4.7,
          4.2,
          4.8,
          4.3,
          4.3,
          5.7,
          4.5,
          5.3,
          5.3,
          5.4,
          6.4,
          6.3,
          11.8,
          5.4,
          12.4,
          5.1,
          5.2,
          4.4,
          4.3,
          6.7,
          5.5,
          4.5,
          4.5,
          6.1,
          11.9,
          8.1,
          11.4,
          7.4,
          6.1,
          4.4,
          5.3,
          6.9,
          4.5,
          4.4,
          4.5,
          4.5,
          5.8,
          4.7,
          7.6,
          5.3,
          11.5,
          4.8,
          9.5,
          4.9,
          6.2,
          7.0,
          4.4,
          4.4,
          6.6,
          5.2,
          5.4,
          4.5,
          4.7,
          5.3,
          4.9,
          5.2,
          4.6,
          4.8,
          5.1,
          5.6,
          4.6,
          4.5,
          4.8,
          4.9,
          5.6,
          4.5,
          5.6,
          4.5,
          4.9,
          4.7,
          4.9,
          4.1,
          5.0,
          4.5,
          4.5,
          4.4,
          5.8,
          6.0,
          4.5,
          6.4,
          5.5,
          5.9,
          5.4,
          4.3,
          4.4,
          5.4,
          4.3,
          4.5,
          4.4,
          4.5,
          4.5,
          4.5,
          4.5,
          4.7,
          5.7,
          9.4,
          6.6,
          7.4,
          4.9,
          5.1,
          7.0,
          4.7,
          6.9,
          4.4,
          5.9,
          9.7,
          4.4,
          4.7,
          5.2,
          5.1,
          4.6,
          4.5,
          4.7,
          4.8,
          4.3,
          5.6,
          5.0,
          5.3,
          5.5,
          4.9,
          4.5,
          6.2,
          4.5,
          4.9,
          5.5,
          6.4,
          6.1,
          5.9,
          4.7,
          5.3,
          5.9,
          6.0,
          4.5,
          5.2,
          4.6,
          6.0,
          5.1,
          5.3,
          4.9,
          5.7,
          4.3,
          4.7,
          4.4,
          4.5,
          4.5,
          4.5,
          4.5
         ],
         "yaxis": "y"
        },
        {
         "customdata": [
          [
           "Arsenal"
          ],
          [
           "Arsenal"
          ],
          [
           "Arsenal"
          ],
          [
           "Arsenal"
          ],
          [
           "Arsenal"
          ],
          [
           "Arsenal"
          ],
          [
           "Arsenal"
          ],
          [
           "Arsenal"
          ],
          [
           "Arsenal"
          ],
          [
           "Arsenal"
          ],
          [
           "Arsenal"
          ],
          [
           "Arsenal"
          ],
          [
           "Aston Villa"
          ],
          [
           "Aston Villa"
          ],
          [
           "Aston Villa"
          ],
          [
           "Aston Villa"
          ],
          [
           "Aston Villa"
          ],
          [
           "Aston Villa"
          ],
          [
           "Aston Villa"
          ],
          [
           "Aston Villa"
          ],
          [
           "Aston Villa"
          ],
          [
           "Aston Villa"
          ],
          [
           "Brighton"
          ],
          [
           "Brighton"
          ],
          [
           "Brighton"
          ],
          [
           "Brighton"
          ],
          [
           "Brighton"
          ],
          [
           "Brighton"
          ],
          [
           "Brighton"
          ],
          [
           "Brighton"
          ],
          [
           "Brighton"
          ],
          [
           "Brighton"
          ],
          [
           "Brighton"
          ],
          [
           "Burnley"
          ],
          [
           "Burnley"
          ],
          [
           "Burnley"
          ],
          [
           "Burnley"
          ],
          [
           "Burnley"
          ],
          [
           "Burnley"
          ],
          [
           "Burnley"
          ],
          [
           "Burnley"
          ],
          [
           "Burnley"
          ],
          [
           "Burnley"
          ],
          [
           "Burnley"
          ],
          [
           "Burnley"
          ],
          [
           "Chelsea"
          ],
          [
           "Chelsea"
          ],
          [
           "Chelsea"
          ],
          [
           "Chelsea"
          ],
          [
           "Chelsea"
          ],
          [
           "Chelsea"
          ],
          [
           "Chelsea"
          ],
          [
           "Chelsea"
          ],
          [
           "Chelsea"
          ],
          [
           "Chelsea"
          ],
          [
           "Crystal Palace"
          ],
          [
           "Crystal Palace"
          ],
          [
           "Crystal Palace"
          ],
          [
           "Crystal Palace"
          ],
          [
           "Crystal Palace"
          ],
          [
           "Crystal Palace"
          ],
          [
           "Crystal Palace"
          ],
          [
           "Crystal Palace"
          ],
          [
           "Crystal Palace"
          ],
          [
           "Crystal Palace"
          ],
          [
           "Crystal Palace"
          ],
          [
           "Crystal Palace"
          ],
          [
           "Crystal Palace"
          ],
          [
           "Everton"
          ],
          [
           "Everton"
          ],
          [
           "Everton"
          ],
          [
           "Everton"
          ],
          [
           "Everton"
          ],
          [
           "Everton"
          ],
          [
           "Everton"
          ],
          [
           "Everton"
          ],
          [
           "Everton"
          ],
          [
           "Everton"
          ],
          [
           "Everton"
          ],
          [
           "Fulham"
          ],
          [
           "Fulham"
          ],
          [
           "Fulham"
          ],
          [
           "Fulham"
          ],
          [
           "Fulham"
          ],
          [
           "Fulham"
          ],
          [
           "Fulham"
          ],
          [
           "Fulham"
          ],
          [
           "Fulham"
          ],
          [
           "Fulham"
          ],
          [
           "Fulham"
          ],
          [
           "Fulham"
          ],
          [
           "Fulham"
          ],
          [
           "Fulham"
          ],
          [
           "Leicester"
          ],
          [
           "Leicester"
          ],
          [
           "Leicester"
          ],
          [
           "Leicester"
          ],
          [
           "Leicester"
          ],
          [
           "Leicester"
          ],
          [
           "Leicester"
          ],
          [
           "Leicester"
          ],
          [
           "Leicester"
          ],
          [
           "Leicester"
          ],
          [
           "Leicester"
          ],
          [
           "Leicester"
          ],
          [
           "Leeds"
          ],
          [
           "Leeds"
          ],
          [
           "Leeds"
          ],
          [
           "Leeds"
          ],
          [
           "Leeds"
          ],
          [
           "Leeds"
          ],
          [
           "Leeds"
          ],
          [
           "Leeds"
          ],
          [
           "Leeds"
          ],
          [
           "Leeds"
          ],
          [
           "Leeds"
          ],
          [
           "Leeds"
          ],
          [
           "Liverpool"
          ],
          [
           "Liverpool"
          ],
          [
           "Liverpool"
          ],
          [
           "Liverpool"
          ],
          [
           "Liverpool"
          ],
          [
           "Liverpool"
          ],
          [
           "Liverpool"
          ],
          [
           "Liverpool"
          ],
          [
           "Liverpool"
          ],
          [
           "Liverpool"
          ],
          [
           "Liverpool"
          ],
          [
           "Man City"
          ],
          [
           "Man City"
          ],
          [
           "Man City"
          ],
          [
           "Man City"
          ],
          [
           "Man City"
          ],
          [
           "Man City"
          ],
          [
           "Man City"
          ],
          [
           "Man City"
          ],
          [
           "Man City"
          ],
          [
           "Man City"
          ],
          [
           "Man City"
          ],
          [
           "Man City"
          ],
          [
           "Man City"
          ],
          [
           "Man Utd"
          ],
          [
           "Man Utd"
          ],
          [
           "Man Utd"
          ],
          [
           "Man Utd"
          ],
          [
           "Man Utd"
          ],
          [
           "Man Utd"
          ],
          [
           "Man Utd"
          ],
          [
           "Man Utd"
          ],
          [
           "Man Utd"
          ],
          [
           "Man Utd"
          ],
          [
           "Man Utd"
          ],
          [
           "Man Utd"
          ],
          [
           "Man Utd"
          ],
          [
           "Man Utd"
          ],
          [
           "Newcastle"
          ],
          [
           "Newcastle"
          ],
          [
           "Newcastle"
          ],
          [
           "Newcastle"
          ],
          [
           "Newcastle"
          ],
          [
           "Newcastle"
          ],
          [
           "Newcastle"
          ],
          [
           "Newcastle"
          ],
          [
           "Newcastle"
          ],
          [
           "Newcastle"
          ],
          [
           "Newcastle"
          ],
          [
           "Sheffield Utd"
          ],
          [
           "Sheffield Utd"
          ],
          [
           "Sheffield Utd"
          ],
          [
           "Sheffield Utd"
          ],
          [
           "Sheffield Utd"
          ],
          [
           "Sheffield Utd"
          ],
          [
           "Sheffield Utd"
          ],
          [
           "Sheffield Utd"
          ],
          [
           "Sheffield Utd"
          ],
          [
           "Sheffield Utd"
          ],
          [
           "Sheffield Utd"
          ],
          [
           "Sheffield Utd"
          ],
          [
           "Southampton"
          ],
          [
           "Southampton"
          ],
          [
           "Southampton"
          ],
          [
           "Southampton"
          ],
          [
           "Southampton"
          ],
          [
           "Southampton"
          ],
          [
           "Southampton"
          ],
          [
           "Southampton"
          ],
          [
           "Southampton"
          ],
          [
           "Southampton"
          ],
          [
           "Spurs"
          ],
          [
           "Spurs"
          ],
          [
           "Spurs"
          ],
          [
           "Spurs"
          ],
          [
           "Spurs"
          ],
          [
           "Spurs"
          ],
          [
           "Spurs"
          ],
          [
           "Spurs"
          ],
          [
           "Spurs"
          ],
          [
           "Spurs"
          ],
          [
           "Spurs"
          ],
          [
           "Spurs"
          ],
          [
           "Spurs"
          ],
          [
           "West Brom"
          ],
          [
           "West Brom"
          ],
          [
           "West Brom"
          ],
          [
           "West Brom"
          ],
          [
           "West Brom"
          ],
          [
           "West Brom"
          ],
          [
           "West Brom"
          ],
          [
           "West Brom"
          ],
          [
           "West Brom"
          ],
          [
           "West Brom"
          ],
          [
           "West Brom"
          ],
          [
           "West Ham"
          ],
          [
           "West Ham"
          ],
          [
           "West Ham"
          ],
          [
           "West Ham"
          ],
          [
           "West Ham"
          ],
          [
           "West Ham"
          ],
          [
           "West Ham"
          ],
          [
           "West Ham"
          ],
          [
           "West Ham"
          ],
          [
           "West Ham"
          ],
          [
           "West Ham"
          ],
          [
           "Wolves"
          ],
          [
           "Wolves"
          ],
          [
           "Wolves"
          ],
          [
           "Wolves"
          ],
          [
           "Wolves"
          ],
          [
           "Wolves"
          ],
          [
           "Wolves"
          ],
          [
           "Wolves"
          ],
          [
           "Wolves"
          ],
          [
           "Wolves"
          ],
          [
           "Wolves"
          ],
          [
           "Wolves"
          ],
          [
           "Wolves"
          ],
          [
           "Wolves"
          ],
          [
           "Wolves"
          ],
          [
           "Wolves"
          ]
         ],
         "hovertemplate": "<b>%{hovertext}</b><br><br>Player Type=Defender<br>points_per_game=%{x}<br>now_cost=%{y}<br>size=%{marker.size}<br>team_name=%{customdata[0]}<extra></extra>",
         "hovertext": [
          "Sokratis Sokratis",
          "David David Luiz",
          "Cédric Cédric",
          "Shkodran Mustafi",
          "Pablo Marí",
          "Héctor Bellerín",
          "Calum Chambers",
          "Sead Kolasinac",
          "Rob Holding",
          "Kieran Tierney",
          "William Saliba",
          "Gabriel Gabriel",
          "Ahmed El Mohamady",
          "Neil Taylor",
          "Bjorn Engels",
          "Kortney Hause",
          "Tyrone Mings",
          "Matt Targett",
          "James Bree",
          "Ezri Konsa",
          "Frédéric Guilbert",
          "Matthew Cash",
          "Shane Duffy",
          "Dan Burn",
          "Lewis Dunk",
          "Martín Montoya",
          "Adam Webster",
          "Joël Veltman",
          "Matthew Clarke",
          "Ben White",
          "Bernardo Bernardo",
          "Tariq Lamptey",
          "Michal Karbownik",
          "James Tarkowski",
          "Phil Bardsley",
          "Erik Pieters",
          "Kevin Long",
          "Ben Mee",
          "Matthew Lowton",
          "Ben Gibson",
          "Charlie Taylor",
          "Jimmy Dunne",
          "Bobby Thomas",
          "Anthony Driscoll-Glennon",
          "Richard Nartey",
          "César Azpilicueta",
          "Marcos Alonso",
          "Antonio Rüdiger",
          "Kurt Zouma",
          "Emerson Emerson",
          "Andreas Christensen",
          "Fikayo Tomori",
          "Reece James",
          "Benjamin Chilwell",
          "Thiago Thiago Silva",
          "Gary Cahill",
          "Mamadou Sakho",
          "James Tomkins",
          "Joel Ward",
          "Martin Kelly",
          "Patrick van Aanholt",
          "Nathan Ferguson",
          "Tyrick Mitchell",
          "Scott Dann",
          "Sam Woods",
          "Ryan Inniss",
          "Nathaniel Clyne",
          "Reece Hannam",
          "Seamus Coleman",
          "Lucas Digne",
          "Michael Keane",
          "Jonjoe Kenny",
          "Yerry Mina",
          "Mason Holgate",
          "Jarrad Branthwaite",
          "Niels Nkounkou",
          "Ben Godfrey",
          "Kyle John",
          "Ryan Astley",
          "Maxime Le Marchand",
          "Tim Ream",
          "Michael Hector",
          "Cyrus Christie",
          "Joe Bryan",
          "Alfie Mawson",
          "Zeze Steven Sessegnon",
          "Antonee Robinson",
          "Kenny Tete",
          "Denis Odoi",
          "Ola Aina",
          "Joachim Andersen",
          "Tosin Adarabioyo",
          "Terence Kongolo",
          "Wes Morgan",
          "Christian Fuchs",
          "Jonny Evans",
          "Ricardo Domingos Pereira",
          "Daniel Amartey",
          "Filip Benkovic",
          "Çaglar Söyüncü",
          "James Justin",
          "Luke Thomas",
          "Timothy Castagne",
          "Wesley Fofana",
          "Vontae Daley-Campbell",
          "Liam Cooper",
          "Barry Douglas",
          "Luke Ayling",
          "Stuart Dallas",
          "Ezgjan Alioski",
          "Pascal Struijk",
          "Leif Davis",
          "Oliver Casey",
          "Robin Koch",
          "Diego Llorente",
          "Charlie Cresswell",
          "Gaetano Berardi",
          "Konstantinos Tsimikas",
          "Joel Matip",
          "Virgil van Dijk",
          "Andrew Robertson",
          "Trent Alexander-Arnold",
          "Joseph Gomez",
          "Neco Neco Williams",
          "Nathaniel Phillips",
          "Rhys Rhys Williams",
          "Ozan Kabak",
          "Ben Davies",
          "Fernando Fernandinho",
          "Nicolás Otamendi",
          "Kyle Walker",
          "John Stones",
          "Benjamin Mendy",
          "João Pedro Cavaco Cancelo",
          "Nathan Aké",
          "Aymeric Laporte",
          "Oleksandr Zinchenko",
          "Eric Garcia",
          "Rúben Santos Dias",
          "Luke Mbete",
          "Taylor Harwood-Bellis",
          "Chris Smalling",
          "Marcos Rojo",
          "Phil Jones",
          "Harry Maguire",
          "Luke Shaw",
          "Axel Tuanzebe",
          "Victor Lindelöf",
          "Eric Bailly",
          "Timothy Fosu-Mensah",
          "Aaron Wan-Bissaka",
          "José Diogo Dalot",
          "Brandon Williams",
          "Teden Mengi",
          "Alex Nicolao Telles",
          "Federico Fernández",
          "Ciaran Clark",
          "Florian Lejeune",
          "Jamaal Lascelles",
          "Paul Dummett",
          "Javier Manquillo",
          "Emil Krafth",
          "Fabian Schär",
          "DeAndre Yedlin",
          "Kelland Watts",
          "Jamal Lewis",
          "Chris Basham",
          "Enda Stevens",
          "George Baldock",
          "Jack Jack Robinson",
          "John Egan",
          "Jack O'Connell",
          "Ethan Ampadu",
          "Jayden Bogle",
          "Max Lowe",
          "Phil Jagielka",
          "Kean Bryan",
          "Kyron Gordon",
          "Ryan Bertrand",
          "Jack Stephens",
          "Jannik Vestergaard",
          "Kyle Walker-Peters",
          "Jan Bednarek",
          "Yan Valery",
          "Jake Vokins",
          "Mohammed Salisu",
          "Kayne Ramsay",
          "Allan Tchaptchet",
          "Danny Rose",
          "Toby Alderweireld",
          "Serge Aurier",
          "Eric Dier",
          "Ben Davies",
          "Davinson Sánchez",
          "Ryan Sessegnon",
          "Japhet Tanganga",
          "Juan Foyth",
          "Matt Doherty",
          "Cameron Carter-Vickers",
          "Sergio Reguilón",
          "Joe Rodon",
          "Ainsley Maitland-Niles",
          "Kieran Gibbs",
          "Kyle Bartley",
          "Ahmed El-Sayed Hegazi",
          "Conor Townsend",
          "Oluwasemilogo Adesewo Ibidapo Ajayi",
          "Darnell Furlong",
          "Dara O'Shea",
          "Cedric Kipre",
          "Branislav Ivanovic",
          "Lee Peltier",
          "Angelo Ogbonna",
          "Aaron Cresswell",
          "Ryan Fredericks",
          "Arthur Masuaku",
          "Fabián Balbuena",
          "Issa Diop",
          "Ben Johnson",
          "Vladimir Coufal",
          "Craig Dawson",
          "Frederik Alves",
          "Jamal Baptiste",
          "Ryan Bennett",
          "Willy Boly",
          "Conor Coady",
          "Romain Saïss",
          "Jonathan Jonny",
          "Oskar Buur",
          "Max Kilman",
          "Rúben Gonçalo Vinagre",
          "Fernando Marçal",
          "Ki-Jana Hoever",
          "Nélson Semedo",
          "Rayan Ait Nouri",
          "Lewis Richards",
          "Christian Marques",
          "Nigel Lonwijk",
          "Hugo Bueno"
         ],
         "legendgroup": "Defender",
         "marker": {
          "color": "#EF553B",
          "size": [
           0.30000000000000004,
           5.1000000000000005,
           1.7999999999999998,
           0.30000000000000004,
           2.0999999999999996,
           0.30000000000000004,
           3.0,
           0.30000000000000004,
           0.30000000000000004,
           4.050000000000001,
           0.30000000000000004,
           1.0499999999999998,
           5.4,
           0.30000000000000004,
           0.30000000000000004,
           0.30000000000000004,
           5.7,
           5.4,
           0.30000000000000004,
           5.7,
           0.30000000000000004,
           0.30000000000000004,
           0.30000000000000004,
           1.7999999999999998,
           7.5,
           0.30000000000000004,
           0.30000000000000004,
           6.0,
           0.30000000000000004,
           4.5,
           0.30000000000000004,
           0.30000000000000004,
           0.30000000000000004,
           2.0999999999999996,
           0.30000000000000004,
           1.0499999999999998,
           0.30000000000000004,
           2.55,
           2.0999999999999996,
           0.30000000000000004,
           1.7999999999999998,
           0.30000000000000004,
           0.30000000000000004,
           0.30000000000000004,
           0.30000000000000004,
           10.8,
           3.3000000000000003,
           7.050000000000001,
           2.55,
           0.30000000000000004,
           11.55,
           0.30000000000000004,
           6.300000000000001,
           6.6000000000000005,
           0.30000000000000004,
           7.800000000000001,
           0.30000000000000004,
           0.30000000000000004,
           8.55,
           0.30000000000000004,
           7.5,
           0.30000000000000004,
           0.30000000000000004,
           0.30000000000000004,
           0.30000000000000004,
           0.30000000000000004,
           0.30000000000000004,
           0.30000000000000004,
           0.6000000000000001,
           6.0,
           7.5,
           0.30000000000000004,
           0.30000000000000004,
           4.800000000000001,
           0.30000000000000004,
           0.30000000000000004,
           4.800000000000001,
           0.30000000000000004,
           0.30000000000000004,
           0.30000000000000004,
           0.30000000000000004,
           0.30000000000000004,
           0.30000000000000004,
           0.6000000000000001,
           0.30000000000000004,
           0.30000000000000004,
           1.7999999999999998,
           4.2,
           0.30000000000000004,
           3.6000000000000005,
           7.199999999999999,
           6.0,
           0.30000000000000004,
           0.30000000000000004,
           0.30000000000000004,
           3.0,
           2.0999999999999996,
           5.1000000000000005,
           0.30000000000000004,
           4.5,
           0.30000000000000004,
           0.0,
           4.5,
           3.6000000000000005,
           0.30000000000000004,
           1.5,
           0.30000000000000004,
           4.5,
           4.5,
           3.6000000000000005,
           3.6000000000000005,
           0.30000000000000004,
           0.30000000000000004,
           0.6000000000000001,
           4.5,
           0.30000000000000004,
           0.30000000000000004,
           0.30000000000000004,
           0.30000000000000004,
           0.30000000000000004,
           6.6000000000000005,
           8.100000000000001,
           0.30000000000000004,
           1.0499999999999998,
           5.550000000000001,
           1.0499999999999998,
           6.0,
           0.30000000000000004,
           0.9000000000000001,
           0.30000000000000004,
           2.0999999999999996,
           7.800000000000001,
           2.4,
           4.800000000000001,
           0.30000000000000004,
           3.0,
           1.5,
           0.6000000000000001,
           6.300000000000001,
           0.30000000000000004,
           0.30000000000000004,
           0.30000000000000004,
           0.30000000000000004,
           0.30000000000000004,
           10.05,
           13.5,
           0.30000000000000004,
           7.800000000000001,
           3.3000000000000003,
           0.30000000000000004,
           9.0,
           0.30000000000000004,
           0.6000000000000001,
           0.30000000000000004,
           0.30000000000000004,
           0.30000000000000004,
           4.050000000000001,
           0.30000000000000004,
           9.600000000000001,
           3.3000000000000003,
           1.0499999999999998,
           6.6000000000000005,
           0.30000000000000004,
           0.30000000000000004,
           0.30000000000000004,
           1.0499999999999998,
           0.30000000000000004,
           3.3000000000000003,
           5.1000000000000005,
           0.30000000000000004,
           0.30000000000000004,
           0.30000000000000004,
           2.55,
           0.30000000000000004,
           0.30000000000000004,
           0.0,
           2.0999999999999996,
           0.30000000000000004,
           5.550000000000001,
           0.30000000000000004,
           4.5,
           3.3000000000000003,
           3.6000000000000005,
           0.30000000000000004,
           0.30000000000000004,
           1.0499999999999998,
           0.30000000000000004,
           0.30000000000000004,
           0.30000000000000004,
           4.800000000000001,
           2.0999999999999996,
           0.30000000000000004,
           2.4,
           7.199999999999999,
           0.30000000000000004,
           2.0999999999999996,
           0.30000000000000004,
           4.2,
           0.30000000000000004,
           4.2,
           2.7,
           6.300000000000001,
           0.30000000000000004,
           9.600000000000001,
           0.30000000000000004,
           7.5,
           0.30000000000000004,
           5.550000000000001,
           6.300000000000001,
           0.30000000000000004,
           0.6000000000000001,
           0.30000000000000004,
           0.30000000000000004,
           6.0,
           0.6000000000000001,
           0.30000000000000004,
           0.30000000000000004,
           4.050000000000001,
           1.5,
           3.6000000000000005,
           5.1000000000000005,
           0.30000000000000004,
           0.30000000000000004,
           0.30000000000000004,
           1.0499999999999998,
           7.800000000000001,
           3.6000000000000005,
           4.800000000000001,
           0.30000000000000004,
           0.30000000000000004,
           0.30000000000000004,
           0.30000000000000004,
           0.6000000000000001,
           4.050000000000001,
           0.6000000000000001,
           0.30000000000000004,
           0.30000000000000004,
           0.30000000000000004,
           0.30000000000000004
          ],
          "sizemode": "area",
          "sizeref": 0.03525,
          "symbol": "circle"
         },
         "mode": "markers",
         "name": "Defender",
         "orientation": "v",
         "showlegend": true,
         "type": "scatter",
         "x": [
          "0.0",
          "2.1",
          "3.1",
          "1.0",
          "3.0",
          "3.8",
          "3.5",
          "2.0",
          "3.4",
          "3.5",
          "0.0",
          "3.3",
          "2.7",
          "-1.0",
          "0.0",
          "7.0",
          "4.0",
          "4.1",
          "0.0",
          "3.8",
          "0.0",
          "3.9",
          "0.0",
          "1.9",
          "3.9",
          "0.0",
          "2.8",
          "3.3",
          "0.0",
          "2.9",
          "1.7",
          "3.2",
          "0.0",
          "3.1",
          "0.5",
          "2.5",
          "1.8",
          "3.9",
          "3.3",
          "0.0",
          "3.0",
          "4.0",
          "0.0",
          "0.0",
          "0.0",
          "5.1",
          "4.3",
          "4.9",
          "5.1",
          "3.5",
          "3.4",
          "0.0",
          "3.8",
          "5.0",
          "4.5",
          "2.6",
          "1.0",
          "3.0",
          "3.2",
          "0.0",
          "2.8",
          "0.0",
          "2.7",
          "2.8",
          "0.0",
          "0.0",
          "2.2",
          "0.0",
          "2.0",
          "3.8",
          "3.6",
          "1.2",
          "3.3",
          "3.2",
          "0.0",
          "1.0",
          "2.7",
          "0.0",
          "0.0",
          "0.5",
          "1.4",
          "0.0",
          "0.0",
          "1.1",
          "0.0",
          "0.0",
          "2.1",
          "2.8",
          "0.3",
          "3.5",
          "3.6",
          "3.5",
          "0.0",
          "1.0",
          "2.7",
          "3.3",
          "2.2",
          "2.0",
          "0.0",
          "2.3",
          "4.4",
          "0.8",
          "3.7",
          "3.1",
          "0.0",
          "2.5",
          "0.0",
          "2.5",
          "4.2",
          "2.7",
          "2.7",
          "1.0",
          "0.0",
          "2.8",
          "2.6",
          "0.0",
          "0.0",
          "1.0",
          "4.2",
          "3.0",
          "3.9",
          "3.5",
          "1.4",
          "2.0",
          "2.9",
          "1.7",
          "3.0",
          "0.0",
          "2.6",
          "0.0",
          "3.8",
          "6.8",
          "3.9",
          "5.3",
          "3.5",
          "3.6",
          "4.0",
          "1.0",
          "4.7",
          "0.0",
          "0.0",
          "0.0",
          "0.0",
          "0.0",
          "3.9",
          "4.3",
          "0.3",
          "3.9",
          "3.4",
          "0.0",
          "4.4",
          "0.0",
          "1.0",
          "0.0",
          "3.1",
          "2.1",
          "2.2",
          "0.0",
          "2.4",
          "2.2",
          "2.2",
          "2.4",
          "1.6",
          "2.2",
          "0.0",
          "1.9",
          "1.5",
          "1.4",
          "1.8",
          "1.6",
          "1.5",
          "1.5",
          "1.9",
          "2.5",
          "1.1",
          "0.6",
          "1.9",
          "0.0",
          "2.8",
          "2.5",
          "3.8",
          "3.8",
          "3.0",
          "1.0",
          "1.0",
          "1.2",
          "-3.0",
          "0.0",
          "0.0",
          "3.9",
          "4.4",
          "2.8",
          "2.6",
          "2.6",
          "0.0",
          "2.7",
          "0.0",
          "3.0",
          "0.0",
          "3.7",
          "2.8",
          "2.8",
          "0.5",
          "3.1",
          "6.0",
          "3.3",
          "1.7",
          "2.4",
          "1.4",
          "0.0",
          "1.6",
          "0.5",
          "3.6",
          "4.7",
          "2.2",
          "3.7",
          "3.3",
          "2.8",
          "2.1",
          "3.6",
          "4.6",
          "0.0",
          "0.0",
          "0.0",
          "3.5",
          "3.0",
          "4.0",
          "2.3",
          "1.0",
          "3.6",
          "0.5",
          "1.5",
          "1.0",
          "2.9",
          "2.6",
          "0.0",
          "0.0",
          "0.0",
          "0.0"
         ],
         "xaxis": "x",
         "y": [
          4.8,
          5.4,
          4.6,
          5.0,
          4.4,
          5.1,
          4.5,
          4.8,
          4.2,
          5.3,
          4.0,
          4.9,
          4.3,
          4.2,
          4.4,
          4.4,
          5.4,
          5.1,
          4.5,
          4.7,
          4.3,
          5.0,
          4.3,
          4.2,
          5.0,
          4.5,
          4.3,
          4.4,
          4.4,
          4.5,
          3.9,
          4.6,
          4.5,
          5.3,
          4.4,
          4.3,
          4.3,
          4.9,
          4.4,
          3.9,
          4.4,
          3.8,
          3.9,
          3.9,
          4.0,
          5.8,
          5.7,
          4.7,
          5.3,
          4.7,
          4.7,
          4.7,
          5.0,
          5.8,
          5.6,
          4.5,
          4.4,
          4.4,
          4.3,
          4.1,
          5.4,
          3.8,
          3.8,
          4.2,
          4.0,
          4.0,
          4.5,
          4.0,
          4.8,
          6.2,
          5.1,
          4.3,
          5.5,
          4.8,
          3.9,
          4.0,
          5.0,
          4.0,
          4.0,
          4.1,
          4.2,
          4.1,
          4.2,
          4.5,
          4.3,
          4.3,
          4.4,
          4.3,
          4.2,
          4.6,
          4.5,
          4.5,
          4.3,
          4.4,
          4.5,
          5.5,
          5.9,
          3.9,
          4.3,
          5.3,
          4.9,
          4.1,
          5.7,
          5.0,
          4.0,
          4.3,
          3.8,
          4.4,
          5.1,
          4.3,
          4.0,
          3.9,
          3.8,
          4.3,
          4.4,
          4.0,
          4.0,
          4.9,
          5.4,
          6.2,
          7.1,
          7.3,
          5.2,
          3.8,
          4.0,
          4.0,
          5.0,
          4.8,
          5.4,
          4.9,
          6.1,
          5.3,
          5.9,
          6.1,
          5.4,
          6.0,
          5.5,
          4.7,
          6.1,
          4.0,
          4.0,
          4.9,
          4.8,
          4.8,
          5.5,
          5.2,
          4.1,
          4.8,
          4.8,
          4.3,
          5.7,
          4.8,
          4.2,
          3.9,
          5.3,
          4.7,
          4.5,
          4.3,
          4.2,
          4.4,
          4.2,
          4.2,
          4.9,
          4.3,
          3.9,
          4.2,
          4.6,
          5.0,
          4.9,
          4.2,
          4.7,
          4.7,
          4.3,
          4.3,
          4.3,
          3.9,
          3.9,
          4.0,
          5.0,
          4.6,
          4.7,
          4.7,
          4.8,
          4.7,
          3.9,
          4.3,
          4.0,
          4.0,
          4.7,
          5.4,
          5.2,
          4.7,
          4.6,
          5.2,
          4.7,
          4.9,
          4.3,
          5.6,
          3.9,
          5.5,
          5.0,
          4.6,
          4.3,
          4.4,
          4.1,
          4.4,
          4.8,
          4.5,
          4.2,
          4.3,
          4.4,
          4.0,
          4.7,
          5.9,
          4.2,
          4.3,
          4.2,
          4.3,
          3.9,
          4.6,
          4.5,
          4.0,
          4.0,
          4.4,
          5.4,
          4.8,
          4.9,
          5.4,
          3.9,
          3.9,
          4.1,
          4.7,
          4.4,
          5.2,
          5.0,
          4.0,
          3.9,
          4.0,
          4.0
         ],
         "yaxis": "y"
        },
        {
         "customdata": [
          [
           "Arsenal"
          ],
          [
           "Arsenal"
          ],
          [
           "Aston Villa"
          ],
          [
           "Aston Villa"
          ],
          [
           "Aston Villa"
          ],
          [
           "Aston Villa"
          ],
          [
           "Aston Villa"
          ],
          [
           "Brighton"
          ],
          [
           "Brighton"
          ],
          [
           "Brighton"
          ],
          [
           "Brighton"
          ],
          [
           "Brighton"
          ],
          [
           "Brighton"
          ],
          [
           "Burnley"
          ],
          [
           "Burnley"
          ],
          [
           "Burnley"
          ],
          [
           "Burnley"
          ],
          [
           "Burnley"
          ],
          [
           "Burnley"
          ],
          [
           "Burnley"
          ],
          [
           "Chelsea"
          ],
          [
           "Chelsea"
          ],
          [
           "Chelsea"
          ],
          [
           "Crystal Palace"
          ],
          [
           "Crystal Palace"
          ],
          [
           "Crystal Palace"
          ],
          [
           "Crystal Palace"
          ],
          [
           "Crystal Palace"
          ],
          [
           "Everton"
          ],
          [
           "Everton"
          ],
          [
           "Everton"
          ],
          [
           "Everton"
          ],
          [
           "Everton"
          ],
          [
           "Everton"
          ],
          [
           "Fulham"
          ],
          [
           "Fulham"
          ],
          [
           "Fulham"
          ],
          [
           "Leicester"
          ],
          [
           "Leicester"
          ],
          [
           "Leicester"
          ],
          [
           "Leeds"
          ],
          [
           "Leeds"
          ],
          [
           "Leeds"
          ],
          [
           "Leeds"
          ],
          [
           "Liverpool"
          ],
          [
           "Liverpool"
          ],
          [
           "Man City"
          ],
          [
           "Man City"
          ],
          [
           "Man City"
          ],
          [
           "Man Utd"
          ],
          [
           "Man Utd"
          ],
          [
           "Man Utd"
          ],
          [
           "Newcastle"
          ],
          [
           "Newcastle"
          ],
          [
           "Newcastle"
          ],
          [
           "Newcastle"
          ],
          [
           "Newcastle"
          ],
          [
           "Sheffield Utd"
          ],
          [
           "Sheffield Utd"
          ],
          [
           "Sheffield Utd"
          ],
          [
           "Sheffield Utd"
          ],
          [
           "Sheffield Utd"
          ],
          [
           "Sheffield Utd"
          ],
          [
           "Southampton"
          ],
          [
           "Southampton"
          ],
          [
           "Southampton"
          ],
          [
           "Southampton"
          ],
          [
           "Southampton"
          ],
          [
           "Spurs"
          ],
          [
           "Spurs"
          ],
          [
           "Spurs"
          ],
          [
           "West Brom"
          ],
          [
           "West Brom"
          ],
          [
           "West Brom"
          ],
          [
           "West Brom"
          ],
          [
           "West Brom"
          ],
          [
           "West Brom"
          ],
          [
           "West Brom"
          ],
          [
           "West Ham"
          ],
          [
           "West Ham"
          ],
          [
           "West Ham"
          ],
          [
           "West Ham"
          ],
          [
           "West Ham"
          ],
          [
           "Wolves"
          ],
          [
           "Wolves"
          ],
          [
           "Wolves"
          ],
          [
           "Wolves"
          ],
          [
           "Wolves"
          ],
          [
           "Wolves"
          ]
         ],
         "hovertemplate": "<b>%{hovertext}</b><br><br>Player Type=Forward<br>points_per_game=%{x}<br>now_cost=%{y}<br>size=%{marker.size}<br>team_name=%{customdata[0]}<extra></extra>",
         "hovertext": [
          "Alexandre Lacazette",
          "Edward Nketiah",
          "Wesley Wesley",
          "Mbwana Samatta",
          "Keinan Davis",
          "Indiana Vassilev",
          "Ollie Watkins",
          "Glenn Murray",
          "Florin Andone",
          "Neal Maupay",
          "Aaron Connolly",
          "Andi Zeqiri",
          "Danny Welbeck",
          "Jay Rodriguez",
          "Ashley Barnes",
          "Chris Wood",
          "Matej Vydra",
          "Max Thompson",
          "Lewis Richardson",
          "Joel Mumbongo",
          "Olivier Giroud",
          "Timo Werner",
          "Tammy Abraham",
          "Michy Batshuayi",
          "Christian Benteke",
          "Connor Wickham",
          "Jordan Ayew",
          "Jean-Philippe Mateta",
          "Cenk Tosun",
          "Dominic Calvert-Lewin",
          "Richarlison Richarlison",
          "Moise Kean",
          "Ellis Simms",
          "Joshua King",
          "Bobby Decordova-Reid",
          "Aleksandar Mitrović",
          "Josh Maja",
          "Jamie Vardy",
          "Kelechi Iheanacho",
          "Islam Slimani",
          "Patrick Bamford",
          "Rodrigo Rodrigo",
          "Niall Huggins",
          "Joe Gelhardt",
          "Roberto Firmino",
          "Divock Origi",
          "Sergio Agüero",
          "Gabriel Fernando Jesus",
          "Liam Delap",
          "Odion Ighalo",
          "Anthony Martial",
          "Edinson Cavani",
          "Andy Carroll",
          "Dwight Gayle",
          "Joelinton Cássio Joelinton",
          "Yoshinori Muto",
          "Callum Wilson",
          "Rhian Brewster",
          "Billy Sharp",
          "David McGoldrick",
          "Oliver McBurnie",
          "Lys Mousset",
          "Antwoine Hackford",
          "Shane Long",
          "Danny Ings",
          "Che Adams",
          "Michael Obafemi",
          "Daniel N'Lundulu",
          "Harry Kane",
          "Carlos Vinicius Carlos Vinicius",
          "Dane Scarlett",
          "Callum Callum Robinson",
          "Hal Robson-Kanu",
          "Charlie Austin",
          "Kenneth Zohore",
          "Karlan Grant",
          "Cheikh Diaby",
          "Mbaye Diagne",
          "Michail Antonio",
          "Sébastien Haller",
          "Jordan Hugill",
          "Albian Ajeti",
          "Ademipo Odubeko",
          "Raúl Jiménez",
          "Léo Bonatini",
          "Leonardo Campana",
          "Fabio Fabio Silva",
          "Patrick Cutrone",
          "Willian José Willian José"
         ],
         "legendgroup": "Forward",
         "marker": {
          "color": "#00cc96",
          "size": [
           10.8,
           0.30000000000000004,
           0.30000000000000004,
           0.30000000000000004,
           1.2000000000000002,
           0.30000000000000004,
           5.1000000000000005,
           0.30000000000000004,
           0.30000000000000004,
           6.6000000000000005,
           1.0499999999999998,
           1.0499999999999998,
           4.5,
           2.0999999999999996,
           0.30000000000000004,
           7.800000000000001,
           6.300000000000001,
           0.30000000000000004,
           0.6000000000000001,
           0.30000000000000004,
           1.0499999999999998,
           2.55,
           0.30000000000000004,
           0.30000000000000004,
           5.1000000000000005,
           0.30000000000000004,
           3.0,
           0.6000000000000001,
           0.30000000000000004,
           4.800000000000001,
           8.100000000000001,
           0.30000000000000004,
           0.30000000000000004,
           1.7999999999999998,
           1.5,
           1.5,
           2.4,
           7.5,
           14.099999999999998,
           0.30000000000000004,
           6.300000000000001,
           0.6000000000000001,
           0.30000000000000004,
           0.30000000000000004,
           3.0,
           0.30000000000000004,
           3.0,
           7.199999999999999,
           0.30000000000000004,
           0.30000000000000004,
           2.55,
           1.0499999999999998,
           1.0499999999999998,
           1.5,
           3.3000000000000003,
           0.30000000000000004,
           0.30000000000000004,
           1.5,
           1.7999999999999998,
           3.0,
           1.5,
           1.0499999999999998,
           0.30000000000000004,
           0.30000000000000004,
           1.5,
           8.55,
           0.30000000000000004,
           1.0499999999999998,
           11.100000000000001,
           1.7999999999999998,
           0.30000000000000004,
           0.30000000000000004,
           1.7999999999999998,
           0.30000000000000004,
           0.30000000000000004,
           0.6000000000000001,
           0.30000000000000004,
           3.3000000000000003,
           6.6000000000000005,
           0.30000000000000004,
           0.30000000000000004,
           0.30000000000000004,
           0.30000000000000004,
           0.30000000000000004,
           0.30000000000000004,
           0.30000000000000004,
           1.7999999999999998,
           0.30000000000000004,
           2.55
          ],
          "sizemode": "area",
          "sizeref": 0.03525,
          "symbol": "circle"
         },
         "mode": "markers",
         "name": "Forward",
         "orientation": "v",
         "showlegend": true,
         "type": "scatter",
         "x": [
          "4.4",
          "1.9",
          "0.0",
          "0.0",
          "1.0",
          "0.0",
          "4.3",
          "0.0",
          "0.0",
          "3.6",
          "2.4",
          "1.0",
          "3.1",
          "2.0",
          "2.7",
          "3.5",
          "1.8",
          "0.0",
          "1.0",
          "0.7",
          "3.1",
          "3.6",
          "3.4",
          "2.1",
          "2.9",
          "0.0",
          "2.4",
          "3.0",
          "0.8",
          "5.4",
          "3.9",
          "1.0",
          "0.0",
          "1.0",
          "2.7",
          "2.2",
          "3.1",
          "5.9",
          "3.4",
          "1.0",
          "5.4",
          "2.8",
          "1.0",
          "0.0",
          "3.8",
          "1.1",
          "1.9",
          "4.2",
          "1.0",
          "1.0",
          "3.4",
          "3.3",
          "1.8",
          "1.8",
          "2.1",
          "0.0",
          "5.5",
          "1.3",
          "2.4",
          "2.7",
          "1.8",
          "1.2",
          "1.0",
          "1.1",
          "4.3",
          "3.9",
          "1.0",
          "1.0",
          "7.1",
          "1.5",
          "1.0",
          "2.5",
          "0.9",
          "1.0",
          "0.0",
          "2.2",
          "0.0",
          "2.9",
          "4.5",
          "2.6",
          "0.0",
          "0.0",
          "0.0",
          "4.3",
          "0.0",
          "0.0",
          "1.7",
          "1.0",
          "2.2"
         ],
         "xaxis": "x",
         "y": [
          8.2,
          5.4,
          6.0,
          5.9,
          4.2,
          4.3,
          6.6,
          4.8,
          4.8,
          6.2,
          5.2,
          5.0,
          5.5,
          5.8,
          6.0,
          6.2,
          4.8,
          4.5,
          4.5,
          4.5,
          6.7,
          9.2,
          7.1,
          5.7,
          5.5,
          4.4,
          5.6,
          5.6,
          6.0,
          7.6,
          8.0,
          5.7,
          4.5,
          5.2,
          5.3,
          5.5,
          5.5,
          10.1,
          5.7,
          4.9,
          6.7,
          5.7,
          4.5,
          4.5,
          9.1,
          5.1,
          10.3,
          9.2,
          4.3,
          6.1,
          8.6,
          7.8,
          5.1,
          5.9,
          5.7,
          4.8,
          6.5,
          4.4,
          5.5,
          5.2,
          5.6,
          5.8,
          4.4,
          5.1,
          8.4,
          5.8,
          4.6,
          4.5,
          11.6,
          6.9,
          4.5,
          5.2,
          5.2,
          5.1,
          4.8,
          5.7,
          4.5,
          6.0,
          6.7,
          6.1,
          5.5,
          5.5,
          4.5,
          8.1,
          4.8,
          4.8,
          5.2,
          5.9,
          6.8
         ],
         "yaxis": "y"
        },
        {
         "customdata": [
          [
           "Arsenal"
          ],
          [
           "Arsenal"
          ],
          [
           "Arsenal"
          ],
          [
           "Arsenal"
          ],
          [
           "Aston Villa"
          ],
          [
           "Aston Villa"
          ],
          [
           "Aston Villa"
          ],
          [
           "Aston Villa"
          ],
          [
           "Brighton"
          ],
          [
           "Brighton"
          ],
          [
           "Brighton"
          ],
          [
           "Brighton"
          ],
          [
           "Burnley"
          ],
          [
           "Burnley"
          ],
          [
           "Burnley"
          ],
          [
           "Chelsea"
          ],
          [
           "Chelsea"
          ],
          [
           "Chelsea"
          ],
          [
           "Chelsea"
          ],
          [
           "Crystal Palace"
          ],
          [
           "Crystal Palace"
          ],
          [
           "Crystal Palace"
          ],
          [
           "Crystal Palace"
          ],
          [
           "Everton"
          ],
          [
           "Everton"
          ],
          [
           "Everton"
          ],
          [
           "Everton"
          ],
          [
           "Everton"
          ],
          [
           "Fulham"
          ],
          [
           "Fulham"
          ],
          [
           "Fulham"
          ],
          [
           "Fulham"
          ],
          [
           "Leicester"
          ],
          [
           "Leicester"
          ],
          [
           "Leeds"
          ],
          [
           "Leeds"
          ],
          [
           "Leeds"
          ],
          [
           "Leeds"
          ],
          [
           "Liverpool"
          ],
          [
           "Liverpool"
          ],
          [
           "Liverpool"
          ],
          [
           "Liverpool"
          ],
          [
           "Liverpool"
          ],
          [
           "Man City"
          ],
          [
           "Man City"
          ],
          [
           "Man City"
          ],
          [
           "Man City"
          ],
          [
           "Man City"
          ],
          [
           "Man Utd"
          ],
          [
           "Man Utd"
          ],
          [
           "Man Utd"
          ],
          [
           "Man Utd"
          ],
          [
           "Man Utd"
          ],
          [
           "Newcastle"
          ],
          [
           "Newcastle"
          ],
          [
           "Newcastle"
          ],
          [
           "Newcastle"
          ],
          [
           "Sheffield Utd"
          ],
          [
           "Sheffield Utd"
          ],
          [
           "Sheffield Utd"
          ],
          [
           "Sheffield Utd"
          ],
          [
           "Southampton"
          ],
          [
           "Southampton"
          ],
          [
           "Southampton"
          ],
          [
           "Southampton"
          ],
          [
           "Spurs"
          ],
          [
           "Spurs"
          ],
          [
           "Spurs"
          ],
          [
           "West Brom"
          ],
          [
           "West Brom"
          ],
          [
           "West Brom"
          ],
          [
           "West Ham"
          ],
          [
           "West Ham"
          ],
          [
           "West Ham"
          ],
          [
           "West Ham"
          ],
          [
           "West Ham"
          ],
          [
           "Wolves"
          ],
          [
           "Wolves"
          ],
          [
           "Wolves"
          ],
          [
           "Wolves"
          ]
         ],
         "hovertemplate": "<b>%{hovertext}</b><br><br>Player Type=Goalkeeper<br>points_per_game=%{x}<br>now_cost=%{y}<br>size=%{marker.size}<br>team_name=%{customdata[0]}<extra></extra>",
         "hovertext": [
          "Bernd Leno",
          "Mathew Ryan",
          "Matt Macey",
          "Rúnar Alex Rúnarsson",
          "Emiliano Martínez",
          "Tom Heaton",
          "Jed Steer",
          "Ørjan Nyland",
          "Christian Walton",
          "Jason Steele",
          "Robert Sánchez",
          "Thomas McGill",
          "Nick Pope",
          "Bailey Peacock-Farrell",
          "Will Norris",
          "Willy Caballero",
          "Kepa Arrizabalaga",
          "Edouard Mendy",
          "Karlo Ziger",
          "Wayne Hennessey",
          "Vicente Guaita",
          "Stephen Henderson",
          "Jack Butland",
          "Jonas Lössl",
          "Jordan Pickford",
          "João Virgínia",
          "Robin Olsen",
          "Harry Tyrer",
          "Fabricio Fabri",
          "Marcus Bettinelli",
          "Marek Rodák",
          "Alphonse Areola",
          "Kasper Schmeichel",
          "Danny Ward",
          "Francisco Casilla",
          "Kamil Miazek",
          "Illan Meslier",
          "Elia Caprile",
          "Adrián Adrián",
          "Alisson Alisson",
          "Caoimhin Kelleher",
          "Liam Hughes",
          "Jakub Ojrzynski",
          "Claudio Bravo",
          "Ederson Ederson",
          "Zack Steffen",
          "James Trafford",
          "Scott Carson",
          "Sergio Romero",
          "David de Gea",
          "Dean Henderson",
          "Lee Grant",
          "Nathan Bishop",
          "Karl Darlow",
          "Martin Dubravka",
          "Mark Gillespie",
          "Daniel Langley",
          "Simon Moore",
          "Wes Foderingham",
          "Aaron Ramsdale",
          "Michael Verrips",
          "Alex McCarthy",
          "Angus Gunn",
          "Fraser Forster",
          "Harry Lewis",
          "Hugo Lloris",
          "Paulo Gazzaniga",
          "Joe Hart",
          "David Button",
          "Sam Johnstone",
          "Andy Lonergan",
          "David Martin",
          "Darren Randolph",
          "Lukasz Fabianski",
          "Roberto Roberto",
          "Nathan Trott",
          "John Ruddy",
          "Rui Pedro Patrício",
          "Matija Sarkic",
          "Andreas Söndergaard"
         ],
         "legendgroup": "Goalkeeper",
         "marker": {
          "color": "#ab63fa",
          "size": [
           4.050000000000001,
           0.30000000000000004,
           0.30000000000000004,
           0.30000000000000004,
           7.199999999999999,
           0.30000000000000004,
           0.30000000000000004,
           0.30000000000000004,
           0.30000000000000004,
           0.30000000000000004,
           4.800000000000001,
           0.30000000000000004,
           3.3000000000000003,
           0.30000000000000004,
           0.30000000000000004,
           0.30000000000000004,
           0.30000000000000004,
           12.0,
           0.30000000000000004,
           0.30000000000000004,
           9.3,
           0.30000000000000004,
           0.30000000000000004,
           0.30000000000000004,
           6.300000000000001,
           1.0499999999999998,
           0.30000000000000004,
           0.30000000000000004,
           0.30000000000000004,
           0.30000000000000004,
           0.30000000000000004,
           6.0,
           5.1000000000000005,
           0.30000000000000004,
           0.30000000000000004,
           0.30000000000000004,
           10.05,
           0.30000000000000004,
           3.6000000000000005,
           5.550000000000001,
           0.30000000000000004,
           0.30000000000000004,
           0.30000000000000004,
           0.30000000000000004,
           4.5,
           0.30000000000000004,
           0.30000000000000004,
           0.30000000000000004,
           0.30000000000000004,
           3.6000000000000005,
           7.800000000000001,
           0.30000000000000004,
           0.30000000000000004,
           0.30000000000000004,
           6.6000000000000005,
           0.30000000000000004,
           0.30000000000000004,
           0.30000000000000004,
           0.30000000000000004,
           6.300000000000001,
           0.30000000000000004,
           0.6000000000000001,
           0.30000000000000004,
           4.050000000000001,
           0.30000000000000004,
           7.800000000000001,
           0.30000000000000004,
           0.30000000000000004,
           0.30000000000000004,
           9.0,
           0.30000000000000004,
           0.30000000000000004,
           0.6000000000000001,
           4.5,
           0.30000000000000004,
           0.30000000000000004,
           0.6000000000000001,
           5.550000000000001,
           0.30000000000000004,
           0.30000000000000004
          ],
          "sizemode": "area",
          "sizeref": 0.03525,
          "symbol": "circle"
         },
         "mode": "markers",
         "name": "Goalkeeper",
         "orientation": "v",
         "showlegend": true,
         "type": "scatter",
         "x": [
          "3.6",
          "2.4",
          "0.0",
          "1.0",
          "5.5",
          "0.0",
          "0.0",
          "0.0",
          "0.0",
          "0.0",
          "3.9",
          "0.0",
          "4.6",
          "0.0",
          "0.0",
          "1.0",
          "3.8",
          "4.7",
          "0.0",
          "0.0",
          "3.6",
          "0.0",
          "0.0",
          "0.0",
          "3.4",
          "2.0",
          "2.4",
          "0.0",
          "0.0",
          "0.0",
          "1.0",
          "3.8",
          "3.9",
          "0.0",
          "2.0",
          "0.0",
          "4.5",
          "0.0",
          "3.7",
          "3.7",
          "5.0",
          "0.0",
          "0.0",
          "0.0",
          "4.4",
          "2.0",
          "0.0",
          "0.0",
          "0.0",
          "3.6",
          "4.2",
          "0.0",
          "0.0",
          "3.2",
          "4.2",
          "0.0",
          "0.0",
          "0.0",
          "0.0",
          "2.7",
          "0.0",
          "3.3",
          "0.0",
          "4.0",
          "0.0",
          "4.1",
          "0.0",
          "0.0",
          "2.0",
          "3.4",
          "0.0",
          "0.0",
          "3.5",
          "4.1",
          "0.0",
          "0.0",
          "1.0",
          "3.6",
          "0.0",
          "0.0"
         ],
         "xaxis": "x",
         "y": [
          5.0,
          4.2,
          4.0,
          4.4,
          5.4,
          4.5,
          3.9,
          4.0,
          4.0,
          3.9,
          4.5,
          3.9,
          5.5,
          4.0,
          4.0,
          4.6,
          4.7,
          5.1,
          4.0,
          4.3,
          4.8,
          4.0,
          4.5,
          4.3,
          4.8,
          4.3,
          4.5,
          4.0,
          3.9,
          4.3,
          4.3,
          4.6,
          5.4,
          4.3,
          4.2,
          4.0,
          4.7,
          4.0,
          4.2,
          5.9,
          4.5,
          4.0,
          4.0,
          4.5,
          6.1,
          4.4,
          4.0,
          3.9,
          4.9,
          5.3,
          5.2,
          4.0,
          4.0,
          5.0,
          4.8,
          4.3,
          3.9,
          4.3,
          4.3,
          4.6,
          4.0,
          4.5,
          4.3,
          4.0,
          4.0,
          5.6,
          4.3,
          4.3,
          3.9,
          4.5,
          4.0,
          3.9,
          4.3,
          5.0,
          4.5,
          4.0,
          4.3,
          5.3,
          4.4,
          4.0
         ],
         "yaxis": "y"
        }
       ],
       "layout": {
        "annotations": [
         {
          "showarrow": false,
          "text": "Bubble Size : Player Form",
          "x": 1.15,
          "xref": "paper",
          "y": 1.1,
          "yref": "paper"
         }
        ],
        "legend": {
         "itemsizing": "constant",
         "title": {
          "text": "Player Type"
         },
         "tracegroupgap": 0
        },
        "showlegend": true,
        "template": {
         "data": {
          "bar": [
           {
            "error_x": {
             "color": "#2a3f5f"
            },
            "error_y": {
             "color": "#2a3f5f"
            },
            "marker": {
             "line": {
              "color": "#E5ECF6",
              "width": 0.5
             }
            },
            "type": "bar"
           }
          ],
          "barpolar": [
           {
            "marker": {
             "line": {
              "color": "#E5ECF6",
              "width": 0.5
             }
            },
            "type": "barpolar"
           }
          ],
          "carpet": [
           {
            "aaxis": {
             "endlinecolor": "#2a3f5f",
             "gridcolor": "white",
             "linecolor": "white",
             "minorgridcolor": "white",
             "startlinecolor": "#2a3f5f"
            },
            "baxis": {
             "endlinecolor": "#2a3f5f",
             "gridcolor": "white",
             "linecolor": "white",
             "minorgridcolor": "white",
             "startlinecolor": "#2a3f5f"
            },
            "type": "carpet"
           }
          ],
          "choropleth": [
           {
            "colorbar": {
             "outlinewidth": 0,
             "ticks": ""
            },
            "type": "choropleth"
           }
          ],
          "contour": [
           {
            "colorbar": {
             "outlinewidth": 0,
             "ticks": ""
            },
            "colorscale": [
             [
              0.0,
              "#0d0887"
             ],
             [
              0.1111111111111111,
              "#46039f"
             ],
             [
              0.2222222222222222,
              "#7201a8"
             ],
             [
              0.3333333333333333,
              "#9c179e"
             ],
             [
              0.4444444444444444,
              "#bd3786"
             ],
             [
              0.5555555555555556,
              "#d8576b"
             ],
             [
              0.6666666666666666,
              "#ed7953"
             ],
             [
              0.7777777777777778,
              "#fb9f3a"
             ],
             [
              0.8888888888888888,
              "#fdca26"
             ],
             [
              1.0,
              "#f0f921"
             ]
            ],
            "type": "contour"
           }
          ],
          "contourcarpet": [
           {
            "colorbar": {
             "outlinewidth": 0,
             "ticks": ""
            },
            "type": "contourcarpet"
           }
          ],
          "heatmap": [
           {
            "colorbar": {
             "outlinewidth": 0,
             "ticks": ""
            },
            "colorscale": [
             [
              0.0,
              "#0d0887"
             ],
             [
              0.1111111111111111,
              "#46039f"
             ],
             [
              0.2222222222222222,
              "#7201a8"
             ],
             [
              0.3333333333333333,
              "#9c179e"
             ],
             [
              0.4444444444444444,
              "#bd3786"
             ],
             [
              0.5555555555555556,
              "#d8576b"
             ],
             [
              0.6666666666666666,
              "#ed7953"
             ],
             [
              0.7777777777777778,
              "#fb9f3a"
             ],
             [
              0.8888888888888888,
              "#fdca26"
             ],
             [
              1.0,
              "#f0f921"
             ]
            ],
            "type": "heatmap"
           }
          ],
          "heatmapgl": [
           {
            "colorbar": {
             "outlinewidth": 0,
             "ticks": ""
            },
            "colorscale": [
             [
              0.0,
              "#0d0887"
             ],
             [
              0.1111111111111111,
              "#46039f"
             ],
             [
              0.2222222222222222,
              "#7201a8"
             ],
             [
              0.3333333333333333,
              "#9c179e"
             ],
             [
              0.4444444444444444,
              "#bd3786"
             ],
             [
              0.5555555555555556,
              "#d8576b"
             ],
             [
              0.6666666666666666,
              "#ed7953"
             ],
             [
              0.7777777777777778,
              "#fb9f3a"
             ],
             [
              0.8888888888888888,
              "#fdca26"
             ],
             [
              1.0,
              "#f0f921"
             ]
            ],
            "type": "heatmapgl"
           }
          ],
          "histogram": [
           {
            "marker": {
             "colorbar": {
              "outlinewidth": 0,
              "ticks": ""
             }
            },
            "type": "histogram"
           }
          ],
          "histogram2d": [
           {
            "colorbar": {
             "outlinewidth": 0,
             "ticks": ""
            },
            "colorscale": [
             [
              0.0,
              "#0d0887"
             ],
             [
              0.1111111111111111,
              "#46039f"
             ],
             [
              0.2222222222222222,
              "#7201a8"
             ],
             [
              0.3333333333333333,
              "#9c179e"
             ],
             [
              0.4444444444444444,
              "#bd3786"
             ],
             [
              0.5555555555555556,
              "#d8576b"
             ],
             [
              0.6666666666666666,
              "#ed7953"
             ],
             [
              0.7777777777777778,
              "#fb9f3a"
             ],
             [
              0.8888888888888888,
              "#fdca26"
             ],
             [
              1.0,
              "#f0f921"
             ]
            ],
            "type": "histogram2d"
           }
          ],
          "histogram2dcontour": [
           {
            "colorbar": {
             "outlinewidth": 0,
             "ticks": ""
            },
            "colorscale": [
             [
              0.0,
              "#0d0887"
             ],
             [
              0.1111111111111111,
              "#46039f"
             ],
             [
              0.2222222222222222,
              "#7201a8"
             ],
             [
              0.3333333333333333,
              "#9c179e"
             ],
             [
              0.4444444444444444,
              "#bd3786"
             ],
             [
              0.5555555555555556,
              "#d8576b"
             ],
             [
              0.6666666666666666,
              "#ed7953"
             ],
             [
              0.7777777777777778,
              "#fb9f3a"
             ],
             [
              0.8888888888888888,
              "#fdca26"
             ],
             [
              1.0,
              "#f0f921"
             ]
            ],
            "type": "histogram2dcontour"
           }
          ],
          "mesh3d": [
           {
            "colorbar": {
             "outlinewidth": 0,
             "ticks": ""
            },
            "type": "mesh3d"
           }
          ],
          "parcoords": [
           {
            "line": {
             "colorbar": {
              "outlinewidth": 0,
              "ticks": ""
             }
            },
            "type": "parcoords"
           }
          ],
          "pie": [
           {
            "automargin": true,
            "type": "pie"
           }
          ],
          "scatter": [
           {
            "marker": {
             "colorbar": {
              "outlinewidth": 0,
              "ticks": ""
             }
            },
            "type": "scatter"
           }
          ],
          "scatter3d": [
           {
            "line": {
             "colorbar": {
              "outlinewidth": 0,
              "ticks": ""
             }
            },
            "marker": {
             "colorbar": {
              "outlinewidth": 0,
              "ticks": ""
             }
            },
            "type": "scatter3d"
           }
          ],
          "scattercarpet": [
           {
            "marker": {
             "colorbar": {
              "outlinewidth": 0,
              "ticks": ""
             }
            },
            "type": "scattercarpet"
           }
          ],
          "scattergeo": [
           {
            "marker": {
             "colorbar": {
              "outlinewidth": 0,
              "ticks": ""
             }
            },
            "type": "scattergeo"
           }
          ],
          "scattergl": [
           {
            "marker": {
             "colorbar": {
              "outlinewidth": 0,
              "ticks": ""
             }
            },
            "type": "scattergl"
           }
          ],
          "scattermapbox": [
           {
            "marker": {
             "colorbar": {
              "outlinewidth": 0,
              "ticks": ""
             }
            },
            "type": "scattermapbox"
           }
          ],
          "scatterpolar": [
           {
            "marker": {
             "colorbar": {
              "outlinewidth": 0,
              "ticks": ""
             }
            },
            "type": "scatterpolar"
           }
          ],
          "scatterpolargl": [
           {
            "marker": {
             "colorbar": {
              "outlinewidth": 0,
              "ticks": ""
             }
            },
            "type": "scatterpolargl"
           }
          ],
          "scatterternary": [
           {
            "marker": {
             "colorbar": {
              "outlinewidth": 0,
              "ticks": ""
             }
            },
            "type": "scatterternary"
           }
          ],
          "surface": [
           {
            "colorbar": {
             "outlinewidth": 0,
             "ticks": ""
            },
            "colorscale": [
             [
              0.0,
              "#0d0887"
             ],
             [
              0.1111111111111111,
              "#46039f"
             ],
             [
              0.2222222222222222,
              "#7201a8"
             ],
             [
              0.3333333333333333,
              "#9c179e"
             ],
             [
              0.4444444444444444,
              "#bd3786"
             ],
             [
              0.5555555555555556,
              "#d8576b"
             ],
             [
              0.6666666666666666,
              "#ed7953"
             ],
             [
              0.7777777777777778,
              "#fb9f3a"
             ],
             [
              0.8888888888888888,
              "#fdca26"
             ],
             [
              1.0,
              "#f0f921"
             ]
            ],
            "type": "surface"
           }
          ],
          "table": [
           {
            "cells": {
             "fill": {
              "color": "#EBF0F8"
             },
             "line": {
              "color": "white"
             }
            },
            "header": {
             "fill": {
              "color": "#C8D4E3"
             },
             "line": {
              "color": "white"
             }
            },
            "type": "table"
           }
          ]
         },
         "layout": {
          "annotationdefaults": {
           "arrowcolor": "#2a3f5f",
           "arrowhead": 0,
           "arrowwidth": 1
          },
          "autotypenumbers": "strict",
          "coloraxis": {
           "colorbar": {
            "outlinewidth": 0,
            "ticks": ""
           }
          },
          "colorscale": {
           "diverging": [
            [
             0,
             "#8e0152"
            ],
            [
             0.1,
             "#c51b7d"
            ],
            [
             0.2,
             "#de77ae"
            ],
            [
             0.3,
             "#f1b6da"
            ],
            [
             0.4,
             "#fde0ef"
            ],
            [
             0.5,
             "#f7f7f7"
            ],
            [
             0.6,
             "#e6f5d0"
            ],
            [
             0.7,
             "#b8e186"
            ],
            [
             0.8,
             "#7fbc41"
            ],
            [
             0.9,
             "#4d9221"
            ],
            [
             1,
             "#276419"
            ]
           ],
           "sequential": [
            [
             0.0,
             "#0d0887"
            ],
            [
             0.1111111111111111,
             "#46039f"
            ],
            [
             0.2222222222222222,
             "#7201a8"
            ],
            [
             0.3333333333333333,
             "#9c179e"
            ],
            [
             0.4444444444444444,
             "#bd3786"
            ],
            [
             0.5555555555555556,
             "#d8576b"
            ],
            [
             0.6666666666666666,
             "#ed7953"
            ],
            [
             0.7777777777777778,
             "#fb9f3a"
            ],
            [
             0.8888888888888888,
             "#fdca26"
            ],
            [
             1.0,
             "#f0f921"
            ]
           ],
           "sequentialminus": [
            [
             0.0,
             "#0d0887"
            ],
            [
             0.1111111111111111,
             "#46039f"
            ],
            [
             0.2222222222222222,
             "#7201a8"
            ],
            [
             0.3333333333333333,
             "#9c179e"
            ],
            [
             0.4444444444444444,
             "#bd3786"
            ],
            [
             0.5555555555555556,
             "#d8576b"
            ],
            [
             0.6666666666666666,
             "#ed7953"
            ],
            [
             0.7777777777777778,
             "#fb9f3a"
            ],
            [
             0.8888888888888888,
             "#fdca26"
            ],
            [
             1.0,
             "#f0f921"
            ]
           ]
          },
          "colorway": [
           "#636efa",
           "#EF553B",
           "#00cc96",
           "#ab63fa",
           "#FFA15A",
           "#19d3f3",
           "#FF6692",
           "#B6E880",
           "#FF97FF",
           "#FECB52"
          ],
          "font": {
           "color": "#2a3f5f"
          },
          "geo": {
           "bgcolor": "white",
           "lakecolor": "white",
           "landcolor": "#E5ECF6",
           "showlakes": true,
           "showland": true,
           "subunitcolor": "white"
          },
          "hoverlabel": {
           "align": "left"
          },
          "hovermode": "closest",
          "mapbox": {
           "style": "light"
          },
          "paper_bgcolor": "white",
          "plot_bgcolor": "#E5ECF6",
          "polar": {
           "angularaxis": {
            "gridcolor": "white",
            "linecolor": "white",
            "ticks": ""
           },
           "bgcolor": "#E5ECF6",
           "radialaxis": {
            "gridcolor": "white",
            "linecolor": "white",
            "ticks": ""
           }
          },
          "scene": {
           "xaxis": {
            "backgroundcolor": "#E5ECF6",
            "gridcolor": "white",
            "gridwidth": 2,
            "linecolor": "white",
            "showbackground": true,
            "ticks": "",
            "zerolinecolor": "white"
           },
           "yaxis": {
            "backgroundcolor": "#E5ECF6",
            "gridcolor": "white",
            "gridwidth": 2,
            "linecolor": "white",
            "showbackground": true,
            "ticks": "",
            "zerolinecolor": "white"
           },
           "zaxis": {
            "backgroundcolor": "#E5ECF6",
            "gridcolor": "white",
            "gridwidth": 2,
            "linecolor": "white",
            "showbackground": true,
            "ticks": "",
            "zerolinecolor": "white"
           }
          },
          "shapedefaults": {
           "line": {
            "color": "#2a3f5f"
           }
          },
          "ternary": {
           "aaxis": {
            "gridcolor": "white",
            "linecolor": "white",
            "ticks": ""
           },
           "baxis": {
            "gridcolor": "white",
            "linecolor": "white",
            "ticks": ""
           },
           "bgcolor": "#E5ECF6",
           "caxis": {
            "gridcolor": "white",
            "linecolor": "white",
            "ticks": ""
           }
          },
          "title": {
           "x": 0.05
          },
          "xaxis": {
           "automargin": true,
           "gridcolor": "white",
           "linecolor": "white",
           "ticks": "",
           "title": {
            "standoff": 15
           },
           "zerolinecolor": "white",
           "zerolinewidth": 2
          },
          "yaxis": {
           "automargin": true,
           "gridcolor": "white",
           "linecolor": "white",
           "ticks": "",
           "title": {
            "standoff": 15
           },
           "zerolinecolor": "white",
           "zerolinewidth": 2
          }
         }
        },
        "title": {
         "text": "Most Suitable Player to Buy Currently"
        },
        "xaxis": {
         "anchor": "y",
         "domain": [
          0.0,
          1.0
         ],
         "title": {
          "text": "Points Per Game"
         }
        },
        "yaxis": {
         "anchor": "x",
         "domain": [
          0.0,
          1.0
         ],
         "tickprefix": "£",
         "title": {
          "text": "Price"
         }
        }
       }
      },
      "text/html": [
       "<div>                            <div id=\"77abe341-d210-44eb-b7b8-11972aa56193\" class=\"plotly-graph-div\" style=\"height:525px; width:100%;\"></div>            <script type=\"text/javascript\">                require([\"plotly\"], function(Plotly) {                    window.PLOTLYENV=window.PLOTLYENV || {};                                    if (document.getElementById(\"77abe341-d210-44eb-b7b8-11972aa56193\")) {                    Plotly.newPlot(                        \"77abe341-d210-44eb-b7b8-11972aa56193\",                        [{\"customdata\": [[\"Arsenal\"], [\"Arsenal\"], [\"Arsenal\"], [\"Arsenal\"], [\"Arsenal\"], [\"Arsenal\"], [\"Arsenal\"], [\"Arsenal\"], [\"Arsenal\"], [\"Arsenal\"], [\"Arsenal\"], [\"Arsenal\"], [\"Arsenal\"], [\"Arsenal\"], [\"Arsenal\"], [\"Aston Villa\"], [\"Aston Villa\"], [\"Aston Villa\"], [\"Aston Villa\"], [\"Aston Villa\"], [\"Aston Villa\"], [\"Aston Villa\"], [\"Aston Villa\"], [\"Aston Villa\"], [\"Aston Villa\"], [\"Aston Villa\"], [\"Aston Villa\"], [\"Aston Villa\"], [\"Aston Villa\"], [\"Aston Villa\"], [\"Aston Villa\"], [\"Brighton\"], [\"Brighton\"], [\"Brighton\"], [\"Brighton\"], [\"Brighton\"], [\"Brighton\"], [\"Brighton\"], [\"Brighton\"], [\"Brighton\"], [\"Brighton\"], [\"Brighton\"], [\"Brighton\"], [\"Brighton\"], [\"Brighton\"], [\"Brighton\"], [\"Brighton\"], [\"Brighton\"], [\"Brighton\"], [\"Brighton\"], [\"Burnley\"], [\"Burnley\"], [\"Burnley\"], [\"Burnley\"], [\"Burnley\"], [\"Burnley\"], [\"Burnley\"], [\"Burnley\"], [\"Burnley\"], [\"Burnley\"], [\"Chelsea\"], [\"Chelsea\"], [\"Chelsea\"], [\"Chelsea\"], [\"Chelsea\"], [\"Chelsea\"], [\"Chelsea\"], [\"Chelsea\"], [\"Chelsea\"], [\"Chelsea\"], [\"Crystal Palace\"], [\"Crystal Palace\"], [\"Crystal Palace\"], [\"Crystal Palace\"], [\"Crystal Palace\"], [\"Crystal Palace\"], [\"Crystal Palace\"], [\"Crystal Palace\"], [\"Crystal Palace\"], [\"Crystal Palace\"], [\"Crystal Palace\"], [\"Everton\"], [\"Everton\"], [\"Everton\"], [\"Everton\"], [\"Everton\"], [\"Everton\"], [\"Everton\"], [\"Everton\"], [\"Everton\"], [\"Everton\"], [\"Everton\"], [\"Everton\"], [\"Everton\"], [\"Fulham\"], [\"Fulham\"], [\"Fulham\"], [\"Fulham\"], [\"Fulham\"], [\"Fulham\"], [\"Fulham\"], [\"Fulham\"], [\"Fulham\"], [\"Fulham\"], [\"Fulham\"], [\"Fulham\"], [\"Fulham\"], [\"Fulham\"], [\"Leicester\"], [\"Leicester\"], [\"Leicester\"], [\"Leicester\"], [\"Leicester\"], [\"Leicester\"], [\"Leicester\"], [\"Leicester\"], [\"Leicester\"], [\"Leicester\"], [\"Leicester\"], [\"Leicester\"], [\"Leicester\"], [\"Leicester\"], [\"Leicester\"], [\"Leicester\"], [\"Leeds\"], [\"Leeds\"], [\"Leeds\"], [\"Leeds\"], [\"Leeds\"], [\"Leeds\"], [\"Leeds\"], [\"Leeds\"], [\"Leeds\"], [\"Leeds\"], [\"Leeds\"], [\"Leeds\"], [\"Leeds\"], [\"Leeds\"], [\"Liverpool\"], [\"Liverpool\"], [\"Liverpool\"], [\"Liverpool\"], [\"Liverpool\"], [\"Liverpool\"], [\"Liverpool\"], [\"Liverpool\"], [\"Liverpool\"], [\"Liverpool\"], [\"Liverpool\"], [\"Liverpool\"], [\"Liverpool\"], [\"Liverpool\"], [\"Liverpool\"], [\"Liverpool\"], [\"Man City\"], [\"Man City\"], [\"Man City\"], [\"Man City\"], [\"Man City\"], [\"Man City\"], [\"Man City\"], [\"Man City\"], [\"Man City\"], [\"Man City\"], [\"Man City\"], [\"Man City\"], [\"Man City\"], [\"Man Utd\"], [\"Man Utd\"], [\"Man Utd\"], [\"Man Utd\"], [\"Man Utd\"], [\"Man Utd\"], [\"Man Utd\"], [\"Man Utd\"], [\"Man Utd\"], [\"Man Utd\"], [\"Man Utd\"], [\"Man Utd\"], [\"Man Utd\"], [\"Man Utd\"], [\"Man Utd\"], [\"Man Utd\"], [\"Newcastle\"], [\"Newcastle\"], [\"Newcastle\"], [\"Newcastle\"], [\"Newcastle\"], [\"Newcastle\"], [\"Newcastle\"], [\"Newcastle\"], [\"Newcastle\"], [\"Newcastle\"], [\"Newcastle\"], [\"Newcastle\"], [\"Newcastle\"], [\"Newcastle\"], [\"Sheffield Utd\"], [\"Sheffield Utd\"], [\"Sheffield Utd\"], [\"Sheffield Utd\"], [\"Sheffield Utd\"], [\"Sheffield Utd\"], [\"Sheffield Utd\"], [\"Sheffield Utd\"], [\"Sheffield Utd\"], [\"Sheffield Utd\"], [\"Southampton\"], [\"Southampton\"], [\"Southampton\"], [\"Southampton\"], [\"Southampton\"], [\"Southampton\"], [\"Southampton\"], [\"Southampton\"], [\"Southampton\"], [\"Southampton\"], [\"Southampton\"], [\"Southampton\"], [\"Southampton\"], [\"Southampton\"], [\"Southampton\"], [\"Southampton\"], [\"Southampton\"], [\"Spurs\"], [\"Spurs\"], [\"Spurs\"], [\"Spurs\"], [\"Spurs\"], [\"Spurs\"], [\"Spurs\"], [\"Spurs\"], [\"Spurs\"], [\"Spurs\"], [\"Spurs\"], [\"Spurs\"], [\"Spurs\"], [\"Spurs\"], [\"West Brom\"], [\"West Brom\"], [\"West Brom\"], [\"West Brom\"], [\"West Brom\"], [\"West Brom\"], [\"West Brom\"], [\"West Brom\"], [\"West Brom\"], [\"West Brom\"], [\"West Brom\"], [\"West Brom\"], [\"West Brom\"], [\"West Brom\"], [\"West Ham\"], [\"West Ham\"], [\"West Ham\"], [\"West Ham\"], [\"West Ham\"], [\"West Ham\"], [\"West Ham\"], [\"West Ham\"], [\"West Ham\"], [\"West Ham\"], [\"West Ham\"], [\"West Ham\"], [\"Wolves\"], [\"Wolves\"], [\"Wolves\"], [\"Wolves\"], [\"Wolves\"], [\"Wolves\"], [\"Wolves\"], [\"Wolves\"], [\"Wolves\"], [\"Wolves\"], [\"Wolves\"], [\"Wolves\"], [\"Wolves\"], [\"Wolves\"]], \"hovertemplate\": \"<b>%{hovertext}</b><br><br>Player Type=Midfielder<br>points_per_game=%{x}<br>now_cost=%{y}<br>size=%{marker.size}<br>team_name=%{customdata[0]}<extra></extra>\", \"hovertext\": [\"Mesut \\u00d6zil\", \"Pierre-Emerick Aubameyang\", \"Granit Xhaka\", \"Nicolas P\\u00e9p\\u00e9\", \"Lucas Torreira\", \"Reiss Nelson\", \"Emile Smith Rowe\", \"Bukayo Saka\", \"Matteo Guendouzi\", \"Gabriel Teodoro Martinelli\", \"Willian Willian\", \"Daniel Ceballos\", \"Mohamed Naser Elneny\", \"Thomas Partey\", \"Martin \\u00d8degaard\", \"Henri Lansbury\", \"Conor Hourihane\", \"Jos\\u00e9 Ignacio Jota\", \"Jack Grealish\", \"John McGinn\", \"Mahmoud Ahmed Tr\\u00e9z\\u00e9guet\", \"Marvelous Nakamba\", \"Anwar El Ghazi\", \"Douglas Luiz Douglas Luiz\", \"Ross Barkley\", \"Bertrand Traor\\u00e9\", \"Jacob Ramsey\", \"Morgan Sanson\", \"Kaine Hayden\", \"Carney Chukwuemeka\", \"Jaden Philogene-Bidace\", \"Adam Lallana\", \"Pascal Gro\\u00df\", \"Davy Pr\\u00f6pper\", \"Aaron Mooy\", \"Solomon March\", \"Leandro Trossard\", \"Alireza Jahanbakhsh\", \"Jos\\u00e9 Izquierdo\", \"Yves Bissouma\", \"Steven Alzate\", \"Alexis Mac Allister\", \"Jayson Molumby\", \"Percy Tau\", \"Jakub Moder\", \"Reda Khadra\", \"Teddy Jenks\", \"Max Sanders\", \"Jensen Weir\", \"Mois\\u00e9s Caicedo\", \"Dale Stephens\", \"Jack Cork\", \"Ashley Westwood\", \"Johann Berg Gudmundsson\", \"Robbie Brady\", \"Josh Brownhill\", \"Dwight McNeil\", \"Josh Benson\", \"Mace Goodridge\", \"Anthony Mancini\", \"Jorge Luiz Jorginho\", \"Mateo Kovacic\", \"N'Golo Kant\\u00e9\", \"Hakim Ziyech\", \"Christian Pulisic\", \"Mason Mount\", \"Callum Hudson-Odoi\", \"Billy Gilmour\", \"Kai Havertz\", \"Faustino Anjorin\", \"James McArthur\", \"James McCarthy\", \"Cheikhou Kouyat\\u00e9\", \"Andros Townsend\", \"Luka Milivojevic\", \"Wilfried Zaha\", \"Jeffrey Schlupp\", \"Max Meyer\", \"Jairo Riedewald\", \"Brandon Pierrick\", \"Eberechi Eze\", \"Fabian Delph\", \"Gylfi Sigurdsson\", \"Bernard Bernard\", \"Andr\\u00e9 Filipe Andr\\u00e9 Gomes\", \"Alex Iwobi\", \"Jean-Philippe Gbamin\", \"Tom Davies\", \"Anthony Gordon\", \"Allan Allan\", \"James Rodr\\u00edguez\", \"Abdoulaye Doucour\\u00e9\", \"Tyler Onyango\", \"Nathan Broadhead\", \"Ruben Loftus-Cheek\", \"Kevin McDonald\", \"Stefan Johansen\", \"Tom Cairney\", \"Anthony Knockaert\", \"Neeskens Kebano\", \"Ivan Ricardo Cavaleiro\", \"Josh Onomah\", \"Jean Micha\\u00ebl Seri\", \"Aboubakar Kamara\", \"Andr\\u00e9-Frank Anguissa\", \"Harrison Reed\", \"Mario Lemina\", \"Ademola Lookman\", \"Adrien Silva\", \"Marc Albrighton\", \"Matty James\", \"Dennis Praet\", \"Youri Tielemans\", \"Ayoze P\\u00e9rez\", \"Demarai Gray\", \"James Maddison\", \"Hamza Choudhury\", \"Harvey Barnes\", \"Wilfred Ndidi\", \"Nampalys Mendy\", \"Cengiz \\u00dcnder\", \"Thakgalo Leshabela\", \"Sidnei Tavares\", \"Shane Flynn\", \"Pablo Hern\\u00e1ndez\", \"Mateusz Klich\", \"Adam Forshaw\", \"Jack Harrison\", \"Kalvin Phillips\", \"H\\u00e9lder Wander Costa\", \"Tyler Roberts\", \"Jay-Roy Grot\", \"Ian Carlo Poveda-Ocampo\", \"Jamie Shackleton\", \"Jordan Stevens\", \"Mateusz Bogusz\", \"Raphael Raphinha\", \"Jack Jenkins\", \"James Milner\", \"Georginio Wijnaldum\", \"Jordan Henderson\", \"Xherdan Shaqiri\", \"Alex Chamberlain\", \"Sadio Man\\u00e9\", \"Fabio Henrique Fabinho\", \"Mohamed Salah\", \"Harry Harry Wilson\", \"Naby Keita\", \"Curtis Jones\", \"Harvey Elliott\", \"Diogo Jota\", \"Thiago Thiago\", \"Leighton Clarkson\", \"Jake Cain\", \"Ilkay G\\u00fcndogan\", \"Kevin De Bruyne\", \"Riyad Mahrez\", \"Raheem Sterling\", \"Bernardo Mota Bernardo Silva\", \"Phil Foden\", \"Tommy Doyle\", \"Rodrigo Rodrigo\", \"Ferran Torres\", \"Adri\\u00e1n Bernab\\u00e9\", \"Cole Palmer\", \"Felix Nmecha\", \"Claudio Gomes\", \"Juan Mata\", \"Nemanja Matic\", \"Paul Pogba\", \"Frederico Fred\", \"Bruno Miguel Fernandes\", \"Andreas Pereira\", \"Marcus Rashford\", \"Scott McTominay\", \"Daniel James\", \"Mason Greenwood\", \"Tahith Chong\", \"James Garner\", \"Donny van de Beek\", \"Facundo Pellistri\", \"Amad Diallo\", \"Shola Shoretire\", \"Joseph Willock\", \"Jonjo Shelvey\", \"Matt Ritchie\", \"Christian Atsu\", \"Isaac Hayden\", \"Rolando Aarons\", \"Allan Saint-Maximin\", \"Miguel Almir\\u00f3n\", \"Sean Sean Longstaff\", \"Jeff Hendrick\", \"Matthew Matty Longstaff\", \"Jacob Murphy\", \"Ryan Fraser\", \"Elliot Anderson\", \"John Fleck\", \"Oliver Norwood\", \"John Lundstram\", \"Ben Osborn\", \"Sander Berge\", \"Oliver Burke\", \"Luke Freeman\", \"Iliman Ndiaye\", \"Zak Brunt\", \"Frankie Maguire\", \"Theo Walcott\", \"Takumi Minamino\", \"Oriol Oriol Romeu\", \"Nathan Redmond\", \"Stuart Armstrong\", \"James Ward-Prowse\", \"Sofiane Boufal\", \"Josh Sims\", \"William Smallbone\", \"Moussa Djenepo\", \"Nathan Tella\", \"Ibrahima Diallo\", \"Kgaogelo Chauke\", \"Will Ferry\", \"Caleb Watts\", \"Alexandre Jankewitz\", \"Ryan Finnigan\", \"Moussa Sissoko\", \"Erik Lamela\", \"Heung-Min Son\", \"Lucas Lucas Moura\", \"Bamidele Alli\", \"Pierre-Emile H\\u00f8jbjerg\", \"Harry Winks\", \"Steven Bergwijn\", \"Gedson Fernandes\", \"Giovani Lo Celso\", \"Oliver Skipp\", \"Tanguy Ndombele\", \"Gareth Bale\", \"Alfie Devine\", \"Jake Livermore\", \"Kamil Grosicki\", \"Matt Phillips\", \"Romaine Sawyers\", \"Jonathan Leko\", \"Kyle Edwards\", \"Sam Field\", \"Rekeem Harper\", \"Robert Snodgrass\", \"Grady Diangana\", \"Matheus Pereira\", \"Conor Gallagher\", \"Filip Krovinovic\", \"Okay Yokuslu\", \"Jesse Lingard\", \"Mark Noble\", \"Jack Wilshere\", \"Andriy Yarmolenko\", \"Manuel Lanzini\", \"Felipe Anderson Felipe Anderson\", \"Jarrod Bowen\", \"Declan Rice\", \"Tomas Soucek\", \"Pablo Fornals\", \"Sa\\u00efd Benrahma\", \"Conor Coventry\", \"Jo\\u00e3o Filipe Iria Moutinho\", \"Leander Dendoncker\", \"Adama Traor\\u00e9\", \"R\\u00faben Diogo Neves\", \"Daniel Podence\", \"Morgan Gibbs-White\", \"Pedro Neto\", \"Bruno Andr\\u00e9 Jordao\", \"Vitor Vitinha\", \"Meritan Shabani\", \"Owen Otasowie\", \"Theo Corbeanu\", \"Taylor Perry\", \"Luke Cundle\"], \"legendgroup\": \"Midfielder\", \"marker\": {\"color\": \"#636efa\", \"size\": [0.30000000000000004, 4.5, 3.0, 7.050000000000001, 0.30000000000000004, 0.30000000000000004, 1.7999999999999998, 1.7999999999999998, 0.30000000000000004, 0.6000000000000001, 7.050000000000001, 0.6000000000000001, 1.5, 3.0, 6.0, 0.30000000000000004, 0.30000000000000004, 0.30000000000000004, 0.30000000000000004, 3.3000000000000003, 3.0, 1.7999999999999998, 5.1000000000000005, 2.4, 1.5, 3.3000000000000003, 2.4, 2.0999999999999996, 0.30000000000000004, 0.30000000000000004, 0.30000000000000004, 6.0, 5.1000000000000005, 1.0499999999999998, 0.30000000000000004, 0.30000000000000004, 10.8, 0.6000000000000001, 0.30000000000000004, 3.6000000000000005, 0.6000000000000001, 1.7999999999999998, 0.30000000000000004, 0.30000000000000004, 2.0999999999999996, 0.30000000000000004, 0.30000000000000004, 0.30000000000000004, 0.30000000000000004, 0.30000000000000004, 0.6000000000000001, 1.7999999999999998, 3.0, 1.7999999999999998, 1.0499999999999998, 3.3000000000000003, 6.300000000000001, 0.30000000000000004, 0.30000000000000004, 0.30000000000000004, 6.300000000000001, 3.0, 5.1000000000000005, 3.6000000000000005, 2.55, 7.050000000000001, 2.0999999999999996, 0.30000000000000004, 5.1000000000000005, 0.30000000000000004, 0.30000000000000004, 1.7999999999999998, 4.5, 3.6000000000000005, 8.100000000000001, 3.0, 1.5, 0.30000000000000004, 3.0, 0.30000000000000004, 3.6000000000000005, 0.30000000000000004, 5.1000000000000005, 1.7999999999999998, 4.050000000000001, 2.0999999999999996, 0.30000000000000004, 2.55, 0.30000000000000004, 3.3000000000000003, 0.30000000000000004, 2.55, 0.30000000000000004, 0.30000000000000004, 2.7, 0.30000000000000004, 0.30000000000000004, 0.30000000000000004, 0.30000000000000004, 0.30000000000000004, 3.3000000000000003, 0.6000000000000001, 0.30000000000000004, 0.30000000000000004, 2.7, 3.6000000000000005, 4.800000000000001, 4.5, 0.30000000000000004, 4.050000000000001, 0.30000000000000004, 0.30000000000000004, 6.0, 3.3000000000000003, 0.30000000000000004, 0.30000000000000004, 1.5, 0.6000000000000001, 6.6000000000000005, 1.0499999999999998, 0.6000000000000001, 0.6000000000000001, 1.5, 0.30000000000000004, 0.30000000000000004, 1.7999999999999998, 0.30000000000000004, 4.800000000000001, 2.0999999999999996, 1.7999999999999998, 2.55, 0.30000000000000004, 0.30000000000000004, 0.30000000000000004, 0.30000000000000004, 0.30000000000000004, 6.0, 0.30000000000000004, 2.0999999999999996, 4.050000000000001, 0.30000000000000004, 1.0499999999999998, 1.0499999999999998, 4.800000000000001, 2.55, 4.050000000000001, 0.30000000000000004, 1.5, 4.050000000000001, 0.30000000000000004, 4.050000000000001, 3.0, 0.30000000000000004, 0.30000000000000004, 5.1000000000000005, 8.100000000000001, 11.4, 1.5, 2.4, 4.2, 0.30000000000000004, 2.7, 3.0, 0.30000000000000004, 0.30000000000000004, 0.30000000000000004, 0.30000000000000004, 0.30000000000000004, 1.7999999999999998, 0.30000000000000004, 4.5, 7.5, 0.30000000000000004, 5.550000000000001, 4.800000000000001, 3.6000000000000005, 4.050000000000001, 0.30000000000000004, 0.30000000000000004, 0.30000000000000004, 0.30000000000000004, 0.30000000000000004, 0.30000000000000004, 3.6000000000000005, 3.6000000000000005, 0.6000000000000001, 0.30000000000000004, 3.0, 0.30000000000000004, 1.5, 1.5, 0.6000000000000001, 1.0499999999999998, 0.30000000000000004, 3.6000000000000005, 4.800000000000001, 0.30000000000000004, 3.3000000000000003, 3.3000000000000003, 3.3000000000000003, 1.0499999999999998, 0.30000000000000004, 1.7999999999999998, 0.30000000000000004, 0.6000000000000001, 0.30000000000000004, 0.30000000000000004, 0.30000000000000004, 2.0999999999999996, 0.30000000000000004, 2.55, 5.1000000000000005, 8.55, 0.30000000000000004, 0.30000000000000004, 0.30000000000000004, 2.0999999999999996, 3.3000000000000003, 2.55, 0.30000000000000004, 0.30000000000000004, 1.0499999999999998, 0.30000000000000004, 0.30000000000000004, 1.5, 2.0999999999999996, 6.300000000000001, 7.800000000000001, 2.7, 4.2, 0.9000000000000001, 0.6000000000000001, 0.30000000000000004, 0.9000000000000001, 0.30000000000000004, 3.6000000000000005, 11.100000000000001, 0.30000000000000004, 0.30000000000000004, 0.30000000000000004, 4.050000000000001, 0.30000000000000004, 0.30000000000000004, 0.30000000000000004, 0.30000000000000004, 0.30000000000000004, 1.0499999999999998, 0.6000000000000001, 4.050000000000001, 5.1000000000000005, 0.30000000000000004, 3.6000000000000005, 8.55, 1.5, 0.30000000000000004, 0.30000000000000004, 0.6000000000000001, 0.30000000000000004, 4.800000000000001, 3.6000000000000005, 4.800000000000001, 2.0999999999999996, 3.0, 0.30000000000000004, 5.1000000000000005, 2.55, 4.5, 6.300000000000001, 0.30000000000000004, 0.6000000000000001, 4.5, 0.30000000000000004, 0.30000000000000004, 0.30000000000000004, 0.6000000000000001, 0.30000000000000004, 0.30000000000000004, 0.30000000000000004], \"sizemode\": \"area\", \"sizeref\": 0.03525, \"symbol\": \"circle\"}, \"mode\": \"markers\", \"name\": \"Midfielder\", \"orientation\": \"v\", \"showlegend\": true, \"type\": \"scatter\", \"x\": [\"0.0\", \"4.4\", \"2.3\", \"2.9\", \"0.0\", \"1.0\", \"3.3\", \"3.8\", \"0.0\", \"1.7\", \"3.0\", \"2.1\", \"1.8\", \"1.9\", \"2.6\", \"0.0\", \"5.0\", \"0.0\", \"5.9\", \"3.1\", \"2.1\", \"1.8\", \"3.8\", \"2.4\", \"3.1\", \"3.5\", \"1.4\", \"1.0\", \"0.0\", \"0.0\", \"0.0\", \"2.0\", \"3.4\", \"1.3\", \"0.0\", \"3.3\", \"4.1\", \"1.2\", \"0.0\", \"2.1\", \"2.4\", \"2.5\", \"1.0\", \"1.5\", \"1.7\", \"1.0\", \"0.0\", \"0.0\", \"0.0\", \"0.0\", \"1.1\", \"2.0\", \"2.7\", \"2.6\", \"2.3\", \"2.2\", \"3.1\", \"1.7\", \"0.0\", \"0.0\", \"4.5\", \"2.1\", \"2.2\", \"3.3\", \"2.3\", \"4.2\", \"2.7\", \"1.0\", \"2.8\", \"0.0\", \"2.5\", \"1.6\", \"2.5\", \"2.8\", \"2.1\", \"5.2\", \"2.6\", \"0.0\", \"2.2\", \"0.0\", \"3.2\", \"1.2\", \"3.3\", \"2.0\", \"1.8\", \"2.3\", \"0.0\", \"1.9\", \"1.0\", \"1.8\", \"4.3\", \"2.8\", \"0.0\", \"0.0\", \"2.3\", \"0.0\", \"0.0\", \"2.7\", \"0.0\", \"1.2\", \"2.5\", \"1.0\", \"0.0\", \"0.7\", \"2.2\", \"2.3\", \"1.9\", \"3.5\", \"0.0\", \"2.3\", \"0.0\", \"2.7\", \"3.8\", \"2.6\", \"1.0\", \"5.2\", \"1.4\", \"5.0\", \"3.4\", \"1.9\", \"1.8\", \"1.0\", \"1.5\", \"0.0\", \"1.5\", \"2.9\", \"0.0\", \"4.0\", \"2.3\", \"2.9\", \"1.6\", \"0.0\", \"1.0\", \"1.3\", \"0.0\", \"0.0\", \"4.5\", \"0.0\", \"1.8\", \"2.7\", \"2.7\", \"2.0\", \"1.3\", \"4.6\", \"2.2\", \"6.2\", \"0.0\", \"1.5\", \"2.1\", \"0.0\", \"4.8\", \"1.8\", \"0.0\", \"0.0\", \"6.2\", \"5.4\", \"5.6\", \"5.3\", \"3.4\", \"4.9\", \"0.0\", \"2.6\", \"3.2\", \"0.0\", \"0.0\", \"0.0\", \"0.0\", \"2.9\", \"1.9\", \"3.4\", \"2.2\", \"7.2\", \"0.0\", \"4.8\", \"3.1\", \"2.8\", \"2.2\", \"0.0\", \"0.0\", \"1.4\", \"0.0\", \"0.0\", \"1.0\", \"2.1\", \"2.4\", \"1.4\", \"0.0\", \"1.7\", \"0.0\", \"3.2\", \"3.0\", \"1.7\", \"2.6\", \"2.0\", \"2.4\", \"2.2\", \"1.0\", \"2.3\", \"1.5\", \"1.8\", \"1.5\", \"2.2\", \"2.0\", \"0.0\", \"1.0\", \"0.0\", \"0.0\", \"3.6\", \"2.7\", \"2.5\", \"1.9\", \"3.6\", \"4.3\", \"0.0\", \"0.0\", \"1.7\", \"1.9\", \"1.4\", \"1.5\", \"0.0\", \"0.0\", \"0.7\", \"-0.5\", \"0.0\", \"1.9\", \"1.3\", \"6.4\", \"2.8\", \"1.6\", \"2.7\", \"1.3\", \"2.4\", \"0.0\", \"1.8\", \"0.0\", \"3.1\", \"4.8\", \"0.0\", \"1.4\", \"2.7\", \"2.0\", \"1.7\", \"0.0\", \"1.0\", \"1.0\", \"1.0\", \"1.3\", \"2.1\", \"3.6\", \"2.7\", \"1.5\", \"2.1\", \"8.0\", \"1.1\", \"0.0\", \"1.1\", \"1.8\", \"1.0\", \"3.6\", \"2.6\", \"4.2\", \"3.5\", \"2.2\", \"0.0\", \"2.3\", \"2.2\", \"2.1\", \"3.2\", \"3.6\", \"1.2\", \"4.1\", \"0.0\", \"1.3\", \"0.0\", \"1.4\", \"0.0\", \"0.0\", \"0.0\"], \"xaxis\": \"x\", \"y\": [6.7, 11.5, 5.2, 7.6, 4.7, 5.1, 4.2, 5.3, 4.7, 4.9, 7.5, 4.7, 4.2, 4.9, 6.0, 4.3, 5.9, 5.9, 7.5, 5.5, 5.2, 4.3, 5.3, 4.8, 5.9, 5.9, 4.5, 5.5, 4.5, 4.5, 4.5, 6.2, 5.8, 4.8, 5.0, 5.0, 5.8, 5.4, 5.5, 4.4, 4.2, 5.3, 4.5, 4.9, 5.0, 4.5, 4.5, 4.5, 4.5, 5.0, 4.2, 5.0, 5.3, 5.4, 5.0, 4.9, 5.7, 4.5, 4.5, 4.4, 4.7, 5.3, 4.9, 7.9, 8.2, 7.0, 5.7, 4.4, 8.2, 4.5, 5.2, 4.3, 4.8, 5.5, 5.6, 7.1, 5.3, 4.7, 4.4, 4.3, 5.8, 4.8, 6.8, 5.7, 5.3, 5.9, 5.0, 5.2, 4.3, 5.2, 7.7, 5.2, 4.5, 4.5, 5.9, 4.7, 4.7, 5.2, 5.0, 4.7, 5.3, 4.6, 4.6, 4.8, 4.5, 4.4, 4.5, 5.1, 4.4, 5.2, 4.3, 5.2, 6.5, 6.0, 5.1, 7.1, 4.6, 6.7, 4.8, 4.2, 5.7, 4.4, 4.4, 4.5, 5.7, 5.2, 4.8, 5.4, 4.9, 5.0, 4.6, 4.7, 4.2, 4.8, 4.3, 4.3, 5.7, 4.5, 5.3, 5.3, 5.4, 6.4, 6.3, 11.8, 5.4, 12.4, 5.1, 5.2, 4.4, 4.3, 6.7, 5.5, 4.5, 4.5, 6.1, 11.9, 8.1, 11.4, 7.4, 6.1, 4.4, 5.3, 6.9, 4.5, 4.4, 4.5, 4.5, 5.8, 4.7, 7.6, 5.3, 11.5, 4.8, 9.5, 4.9, 6.2, 7.0, 4.4, 4.4, 6.6, 5.2, 5.4, 4.5, 4.7, 5.3, 4.9, 5.2, 4.6, 4.8, 5.1, 5.6, 4.6, 4.5, 4.8, 4.9, 5.6, 4.5, 5.6, 4.5, 4.9, 4.7, 4.9, 4.1, 5.0, 4.5, 4.5, 4.4, 5.8, 6.0, 4.5, 6.4, 5.5, 5.9, 5.4, 4.3, 4.4, 5.4, 4.3, 4.5, 4.4, 4.5, 4.5, 4.5, 4.5, 4.7, 5.7, 9.4, 6.6, 7.4, 4.9, 5.1, 7.0, 4.7, 6.9, 4.4, 5.9, 9.7, 4.4, 4.7, 5.2, 5.1, 4.6, 4.5, 4.7, 4.8, 4.3, 5.6, 5.0, 5.3, 5.5, 4.9, 4.5, 6.2, 4.5, 4.9, 5.5, 6.4, 6.1, 5.9, 4.7, 5.3, 5.9, 6.0, 4.5, 5.2, 4.6, 6.0, 5.1, 5.3, 4.9, 5.7, 4.3, 4.7, 4.4, 4.5, 4.5, 4.5, 4.5], \"yaxis\": \"y\"}, {\"customdata\": [[\"Arsenal\"], [\"Arsenal\"], [\"Arsenal\"], [\"Arsenal\"], [\"Arsenal\"], [\"Arsenal\"], [\"Arsenal\"], [\"Arsenal\"], [\"Arsenal\"], [\"Arsenal\"], [\"Arsenal\"], [\"Arsenal\"], [\"Aston Villa\"], [\"Aston Villa\"], [\"Aston Villa\"], [\"Aston Villa\"], [\"Aston Villa\"], [\"Aston Villa\"], [\"Aston Villa\"], [\"Aston Villa\"], [\"Aston Villa\"], [\"Aston Villa\"], [\"Brighton\"], [\"Brighton\"], [\"Brighton\"], [\"Brighton\"], [\"Brighton\"], [\"Brighton\"], [\"Brighton\"], [\"Brighton\"], [\"Brighton\"], [\"Brighton\"], [\"Brighton\"], [\"Burnley\"], [\"Burnley\"], [\"Burnley\"], [\"Burnley\"], [\"Burnley\"], [\"Burnley\"], [\"Burnley\"], [\"Burnley\"], [\"Burnley\"], [\"Burnley\"], [\"Burnley\"], [\"Burnley\"], [\"Chelsea\"], [\"Chelsea\"], [\"Chelsea\"], [\"Chelsea\"], [\"Chelsea\"], [\"Chelsea\"], [\"Chelsea\"], [\"Chelsea\"], [\"Chelsea\"], [\"Chelsea\"], [\"Crystal Palace\"], [\"Crystal Palace\"], [\"Crystal Palace\"], [\"Crystal Palace\"], [\"Crystal Palace\"], [\"Crystal Palace\"], [\"Crystal Palace\"], [\"Crystal Palace\"], [\"Crystal Palace\"], [\"Crystal Palace\"], [\"Crystal Palace\"], [\"Crystal Palace\"], [\"Crystal Palace\"], [\"Everton\"], [\"Everton\"], [\"Everton\"], [\"Everton\"], [\"Everton\"], [\"Everton\"], [\"Everton\"], [\"Everton\"], [\"Everton\"], [\"Everton\"], [\"Everton\"], [\"Fulham\"], [\"Fulham\"], [\"Fulham\"], [\"Fulham\"], [\"Fulham\"], [\"Fulham\"], [\"Fulham\"], [\"Fulham\"], [\"Fulham\"], [\"Fulham\"], [\"Fulham\"], [\"Fulham\"], [\"Fulham\"], [\"Fulham\"], [\"Leicester\"], [\"Leicester\"], [\"Leicester\"], [\"Leicester\"], [\"Leicester\"], [\"Leicester\"], [\"Leicester\"], [\"Leicester\"], [\"Leicester\"], [\"Leicester\"], [\"Leicester\"], [\"Leicester\"], [\"Leeds\"], [\"Leeds\"], [\"Leeds\"], [\"Leeds\"], [\"Leeds\"], [\"Leeds\"], [\"Leeds\"], [\"Leeds\"], [\"Leeds\"], [\"Leeds\"], [\"Leeds\"], [\"Leeds\"], [\"Liverpool\"], [\"Liverpool\"], [\"Liverpool\"], [\"Liverpool\"], [\"Liverpool\"], [\"Liverpool\"], [\"Liverpool\"], [\"Liverpool\"], [\"Liverpool\"], [\"Liverpool\"], [\"Liverpool\"], [\"Man City\"], [\"Man City\"], [\"Man City\"], [\"Man City\"], [\"Man City\"], [\"Man City\"], [\"Man City\"], [\"Man City\"], [\"Man City\"], [\"Man City\"], [\"Man City\"], [\"Man City\"], [\"Man City\"], [\"Man Utd\"], [\"Man Utd\"], [\"Man Utd\"], [\"Man Utd\"], [\"Man Utd\"], [\"Man Utd\"], [\"Man Utd\"], [\"Man Utd\"], [\"Man Utd\"], [\"Man Utd\"], [\"Man Utd\"], [\"Man Utd\"], [\"Man Utd\"], [\"Man Utd\"], [\"Newcastle\"], [\"Newcastle\"], [\"Newcastle\"], [\"Newcastle\"], [\"Newcastle\"], [\"Newcastle\"], [\"Newcastle\"], [\"Newcastle\"], [\"Newcastle\"], [\"Newcastle\"], [\"Newcastle\"], [\"Sheffield Utd\"], [\"Sheffield Utd\"], [\"Sheffield Utd\"], [\"Sheffield Utd\"], [\"Sheffield Utd\"], [\"Sheffield Utd\"], [\"Sheffield Utd\"], [\"Sheffield Utd\"], [\"Sheffield Utd\"], [\"Sheffield Utd\"], [\"Sheffield Utd\"], [\"Sheffield Utd\"], [\"Southampton\"], [\"Southampton\"], [\"Southampton\"], [\"Southampton\"], [\"Southampton\"], [\"Southampton\"], [\"Southampton\"], [\"Southampton\"], [\"Southampton\"], [\"Southampton\"], [\"Spurs\"], [\"Spurs\"], [\"Spurs\"], [\"Spurs\"], [\"Spurs\"], [\"Spurs\"], [\"Spurs\"], [\"Spurs\"], [\"Spurs\"], [\"Spurs\"], [\"Spurs\"], [\"Spurs\"], [\"Spurs\"], [\"West Brom\"], [\"West Brom\"], [\"West Brom\"], [\"West Brom\"], [\"West Brom\"], [\"West Brom\"], [\"West Brom\"], [\"West Brom\"], [\"West Brom\"], [\"West Brom\"], [\"West Brom\"], [\"West Ham\"], [\"West Ham\"], [\"West Ham\"], [\"West Ham\"], [\"West Ham\"], [\"West Ham\"], [\"West Ham\"], [\"West Ham\"], [\"West Ham\"], [\"West Ham\"], [\"West Ham\"], [\"Wolves\"], [\"Wolves\"], [\"Wolves\"], [\"Wolves\"], [\"Wolves\"], [\"Wolves\"], [\"Wolves\"], [\"Wolves\"], [\"Wolves\"], [\"Wolves\"], [\"Wolves\"], [\"Wolves\"], [\"Wolves\"], [\"Wolves\"], [\"Wolves\"], [\"Wolves\"]], \"hovertemplate\": \"<b>%{hovertext}</b><br><br>Player Type=Defender<br>points_per_game=%{x}<br>now_cost=%{y}<br>size=%{marker.size}<br>team_name=%{customdata[0]}<extra></extra>\", \"hovertext\": [\"Sokratis Sokratis\", \"David David Luiz\", \"C\\u00e9dric C\\u00e9dric\", \"Shkodran Mustafi\", \"Pablo Mar\\u00ed\", \"H\\u00e9ctor Beller\\u00edn\", \"Calum Chambers\", \"Sead Kolasinac\", \"Rob Holding\", \"Kieran Tierney\", \"William Saliba\", \"Gabriel Gabriel\", \"Ahmed El Mohamady\", \"Neil Taylor\", \"Bjorn Engels\", \"Kortney Hause\", \"Tyrone Mings\", \"Matt Targett\", \"James Bree\", \"Ezri Konsa\", \"Fr\\u00e9d\\u00e9ric Guilbert\", \"Matthew Cash\", \"Shane Duffy\", \"Dan Burn\", \"Lewis Dunk\", \"Mart\\u00edn Montoya\", \"Adam Webster\", \"Jo\\u00ebl Veltman\", \"Matthew Clarke\", \"Ben White\", \"Bernardo Bernardo\", \"Tariq Lamptey\", \"Michal Karbownik\", \"James Tarkowski\", \"Phil Bardsley\", \"Erik Pieters\", \"Kevin Long\", \"Ben Mee\", \"Matthew Lowton\", \"Ben Gibson\", \"Charlie Taylor\", \"Jimmy Dunne\", \"Bobby Thomas\", \"Anthony Driscoll-Glennon\", \"Richard Nartey\", \"C\\u00e9sar Azpilicueta\", \"Marcos Alonso\", \"Antonio R\\u00fcdiger\", \"Kurt Zouma\", \"Emerson Emerson\", \"Andreas Christensen\", \"Fikayo Tomori\", \"Reece James\", \"Benjamin Chilwell\", \"Thiago Thiago Silva\", \"Gary Cahill\", \"Mamadou Sakho\", \"James Tomkins\", \"Joel Ward\", \"Martin Kelly\", \"Patrick van Aanholt\", \"Nathan Ferguson\", \"Tyrick Mitchell\", \"Scott Dann\", \"Sam Woods\", \"Ryan Inniss\", \"Nathaniel Clyne\", \"Reece Hannam\", \"Seamus Coleman\", \"Lucas Digne\", \"Michael Keane\", \"Jonjoe Kenny\", \"Yerry Mina\", \"Mason Holgate\", \"Jarrad Branthwaite\", \"Niels Nkounkou\", \"Ben Godfrey\", \"Kyle John\", \"Ryan Astley\", \"Maxime Le Marchand\", \"Tim Ream\", \"Michael Hector\", \"Cyrus Christie\", \"Joe Bryan\", \"Alfie Mawson\", \"Zeze Steven Sessegnon\", \"Antonee Robinson\", \"Kenny Tete\", \"Denis Odoi\", \"Ola Aina\", \"Joachim Andersen\", \"Tosin Adarabioyo\", \"Terence Kongolo\", \"Wes Morgan\", \"Christian Fuchs\", \"Jonny Evans\", \"Ricardo Domingos Pereira\", \"Daniel Amartey\", \"Filip Benkovic\", \"\\u00c7aglar S\\u00f6y\\u00fcnc\\u00fc\", \"James Justin\", \"Luke Thomas\", \"Timothy Castagne\", \"Wesley Fofana\", \"Vontae Daley-Campbell\", \"Liam Cooper\", \"Barry Douglas\", \"Luke Ayling\", \"Stuart Dallas\", \"Ezgjan Alioski\", \"Pascal Struijk\", \"Leif Davis\", \"Oliver Casey\", \"Robin Koch\", \"Diego Llorente\", \"Charlie Cresswell\", \"Gaetano Berardi\", \"Konstantinos Tsimikas\", \"Joel Matip\", \"Virgil van Dijk\", \"Andrew Robertson\", \"Trent Alexander-Arnold\", \"Joseph Gomez\", \"Neco Neco Williams\", \"Nathaniel Phillips\", \"Rhys Rhys Williams\", \"Ozan Kabak\", \"Ben Davies\", \"Fernando Fernandinho\", \"Nicol\\u00e1s Otamendi\", \"Kyle Walker\", \"John Stones\", \"Benjamin Mendy\", \"Jo\\u00e3o Pedro Cavaco Cancelo\", \"Nathan Ak\\u00e9\", \"Aymeric Laporte\", \"Oleksandr Zinchenko\", \"Eric Garcia\", \"R\\u00faben Santos Dias\", \"Luke Mbete\", \"Taylor Harwood-Bellis\", \"Chris Smalling\", \"Marcos Rojo\", \"Phil Jones\", \"Harry Maguire\", \"Luke Shaw\", \"Axel Tuanzebe\", \"Victor Lindel\\u00f6f\", \"Eric Bailly\", \"Timothy Fosu-Mensah\", \"Aaron Wan-Bissaka\", \"Jos\\u00e9 Diogo Dalot\", \"Brandon Williams\", \"Teden Mengi\", \"Alex Nicolao Telles\", \"Federico Fern\\u00e1ndez\", \"Ciaran Clark\", \"Florian Lejeune\", \"Jamaal Lascelles\", \"Paul Dummett\", \"Javier Manquillo\", \"Emil Krafth\", \"Fabian Sch\\u00e4r\", \"DeAndre Yedlin\", \"Kelland Watts\", \"Jamal Lewis\", \"Chris Basham\", \"Enda Stevens\", \"George Baldock\", \"Jack Jack Robinson\", \"John Egan\", \"Jack O'Connell\", \"Ethan Ampadu\", \"Jayden Bogle\", \"Max Lowe\", \"Phil Jagielka\", \"Kean Bryan\", \"Kyron Gordon\", \"Ryan Bertrand\", \"Jack Stephens\", \"Jannik Vestergaard\", \"Kyle Walker-Peters\", \"Jan Bednarek\", \"Yan Valery\", \"Jake Vokins\", \"Mohammed Salisu\", \"Kayne Ramsay\", \"Allan Tchaptchet\", \"Danny Rose\", \"Toby Alderweireld\", \"Serge Aurier\", \"Eric Dier\", \"Ben Davies\", \"Davinson S\\u00e1nchez\", \"Ryan Sessegnon\", \"Japhet Tanganga\", \"Juan Foyth\", \"Matt Doherty\", \"Cameron Carter-Vickers\", \"Sergio Reguil\\u00f3n\", \"Joe Rodon\", \"Ainsley Maitland-Niles\", \"Kieran Gibbs\", \"Kyle Bartley\", \"Ahmed El-Sayed Hegazi\", \"Conor Townsend\", \"Oluwasemilogo Adesewo Ibidapo Ajayi\", \"Darnell Furlong\", \"Dara O'Shea\", \"Cedric Kipre\", \"Branislav Ivanovic\", \"Lee Peltier\", \"Angelo Ogbonna\", \"Aaron Cresswell\", \"Ryan Fredericks\", \"Arthur Masuaku\", \"Fabi\\u00e1n Balbuena\", \"Issa Diop\", \"Ben Johnson\", \"Vladimir Coufal\", \"Craig Dawson\", \"Frederik Alves\", \"Jamal Baptiste\", \"Ryan Bennett\", \"Willy Boly\", \"Conor Coady\", \"Romain Sa\\u00efss\", \"Jonathan Jonny\", \"Oskar Buur\", \"Max Kilman\", \"R\\u00faben Gon\\u00e7alo Vinagre\", \"Fernando Mar\\u00e7al\", \"Ki-Jana Hoever\", \"N\\u00e9lson Semedo\", \"Rayan Ait Nouri\", \"Lewis Richards\", \"Christian Marques\", \"Nigel Lonwijk\", \"Hugo Bueno\"], \"legendgroup\": \"Defender\", \"marker\": {\"color\": \"#EF553B\", \"size\": [0.30000000000000004, 5.1000000000000005, 1.7999999999999998, 0.30000000000000004, 2.0999999999999996, 0.30000000000000004, 3.0, 0.30000000000000004, 0.30000000000000004, 4.050000000000001, 0.30000000000000004, 1.0499999999999998, 5.4, 0.30000000000000004, 0.30000000000000004, 0.30000000000000004, 5.7, 5.4, 0.30000000000000004, 5.7, 0.30000000000000004, 0.30000000000000004, 0.30000000000000004, 1.7999999999999998, 7.5, 0.30000000000000004, 0.30000000000000004, 6.0, 0.30000000000000004, 4.5, 0.30000000000000004, 0.30000000000000004, 0.30000000000000004, 2.0999999999999996, 0.30000000000000004, 1.0499999999999998, 0.30000000000000004, 2.55, 2.0999999999999996, 0.30000000000000004, 1.7999999999999998, 0.30000000000000004, 0.30000000000000004, 0.30000000000000004, 0.30000000000000004, 10.8, 3.3000000000000003, 7.050000000000001, 2.55, 0.30000000000000004, 11.55, 0.30000000000000004, 6.300000000000001, 6.6000000000000005, 0.30000000000000004, 7.800000000000001, 0.30000000000000004, 0.30000000000000004, 8.55, 0.30000000000000004, 7.5, 0.30000000000000004, 0.30000000000000004, 0.30000000000000004, 0.30000000000000004, 0.30000000000000004, 0.30000000000000004, 0.30000000000000004, 0.6000000000000001, 6.0, 7.5, 0.30000000000000004, 0.30000000000000004, 4.800000000000001, 0.30000000000000004, 0.30000000000000004, 4.800000000000001, 0.30000000000000004, 0.30000000000000004, 0.30000000000000004, 0.30000000000000004, 0.30000000000000004, 0.30000000000000004, 0.6000000000000001, 0.30000000000000004, 0.30000000000000004, 1.7999999999999998, 4.2, 0.30000000000000004, 3.6000000000000005, 7.199999999999999, 6.0, 0.30000000000000004, 0.30000000000000004, 0.30000000000000004, 3.0, 2.0999999999999996, 5.1000000000000005, 0.30000000000000004, 4.5, 0.30000000000000004, 0.0, 4.5, 3.6000000000000005, 0.30000000000000004, 1.5, 0.30000000000000004, 4.5, 4.5, 3.6000000000000005, 3.6000000000000005, 0.30000000000000004, 0.30000000000000004, 0.6000000000000001, 4.5, 0.30000000000000004, 0.30000000000000004, 0.30000000000000004, 0.30000000000000004, 0.30000000000000004, 6.6000000000000005, 8.100000000000001, 0.30000000000000004, 1.0499999999999998, 5.550000000000001, 1.0499999999999998, 6.0, 0.30000000000000004, 0.9000000000000001, 0.30000000000000004, 2.0999999999999996, 7.800000000000001, 2.4, 4.800000000000001, 0.30000000000000004, 3.0, 1.5, 0.6000000000000001, 6.300000000000001, 0.30000000000000004, 0.30000000000000004, 0.30000000000000004, 0.30000000000000004, 0.30000000000000004, 10.05, 13.5, 0.30000000000000004, 7.800000000000001, 3.3000000000000003, 0.30000000000000004, 9.0, 0.30000000000000004, 0.6000000000000001, 0.30000000000000004, 0.30000000000000004, 0.30000000000000004, 4.050000000000001, 0.30000000000000004, 9.600000000000001, 3.3000000000000003, 1.0499999999999998, 6.6000000000000005, 0.30000000000000004, 0.30000000000000004, 0.30000000000000004, 1.0499999999999998, 0.30000000000000004, 3.3000000000000003, 5.1000000000000005, 0.30000000000000004, 0.30000000000000004, 0.30000000000000004, 2.55, 0.30000000000000004, 0.30000000000000004, 0.0, 2.0999999999999996, 0.30000000000000004, 5.550000000000001, 0.30000000000000004, 4.5, 3.3000000000000003, 3.6000000000000005, 0.30000000000000004, 0.30000000000000004, 1.0499999999999998, 0.30000000000000004, 0.30000000000000004, 0.30000000000000004, 4.800000000000001, 2.0999999999999996, 0.30000000000000004, 2.4, 7.199999999999999, 0.30000000000000004, 2.0999999999999996, 0.30000000000000004, 4.2, 0.30000000000000004, 4.2, 2.7, 6.300000000000001, 0.30000000000000004, 9.600000000000001, 0.30000000000000004, 7.5, 0.30000000000000004, 5.550000000000001, 6.300000000000001, 0.30000000000000004, 0.6000000000000001, 0.30000000000000004, 0.30000000000000004, 6.0, 0.6000000000000001, 0.30000000000000004, 0.30000000000000004, 4.050000000000001, 1.5, 3.6000000000000005, 5.1000000000000005, 0.30000000000000004, 0.30000000000000004, 0.30000000000000004, 1.0499999999999998, 7.800000000000001, 3.6000000000000005, 4.800000000000001, 0.30000000000000004, 0.30000000000000004, 0.30000000000000004, 0.30000000000000004, 0.6000000000000001, 4.050000000000001, 0.6000000000000001, 0.30000000000000004, 0.30000000000000004, 0.30000000000000004, 0.30000000000000004], \"sizemode\": \"area\", \"sizeref\": 0.03525, \"symbol\": \"circle\"}, \"mode\": \"markers\", \"name\": \"Defender\", \"orientation\": \"v\", \"showlegend\": true, \"type\": \"scatter\", \"x\": [\"0.0\", \"2.1\", \"3.1\", \"1.0\", \"3.0\", \"3.8\", \"3.5\", \"2.0\", \"3.4\", \"3.5\", \"0.0\", \"3.3\", \"2.7\", \"-1.0\", \"0.0\", \"7.0\", \"4.0\", \"4.1\", \"0.0\", \"3.8\", \"0.0\", \"3.9\", \"0.0\", \"1.9\", \"3.9\", \"0.0\", \"2.8\", \"3.3\", \"0.0\", \"2.9\", \"1.7\", \"3.2\", \"0.0\", \"3.1\", \"0.5\", \"2.5\", \"1.8\", \"3.9\", \"3.3\", \"0.0\", \"3.0\", \"4.0\", \"0.0\", \"0.0\", \"0.0\", \"5.1\", \"4.3\", \"4.9\", \"5.1\", \"3.5\", \"3.4\", \"0.0\", \"3.8\", \"5.0\", \"4.5\", \"2.6\", \"1.0\", \"3.0\", \"3.2\", \"0.0\", \"2.8\", \"0.0\", \"2.7\", \"2.8\", \"0.0\", \"0.0\", \"2.2\", \"0.0\", \"2.0\", \"3.8\", \"3.6\", \"1.2\", \"3.3\", \"3.2\", \"0.0\", \"1.0\", \"2.7\", \"0.0\", \"0.0\", \"0.5\", \"1.4\", \"0.0\", \"0.0\", \"1.1\", \"0.0\", \"0.0\", \"2.1\", \"2.8\", \"0.3\", \"3.5\", \"3.6\", \"3.5\", \"0.0\", \"1.0\", \"2.7\", \"3.3\", \"2.2\", \"2.0\", \"0.0\", \"2.3\", \"4.4\", \"0.8\", \"3.7\", \"3.1\", \"0.0\", \"2.5\", \"0.0\", \"2.5\", \"4.2\", \"2.7\", \"2.7\", \"1.0\", \"0.0\", \"2.8\", \"2.6\", \"0.0\", \"0.0\", \"1.0\", \"4.2\", \"3.0\", \"3.9\", \"3.5\", \"1.4\", \"2.0\", \"2.9\", \"1.7\", \"3.0\", \"0.0\", \"2.6\", \"0.0\", \"3.8\", \"6.8\", \"3.9\", \"5.3\", \"3.5\", \"3.6\", \"4.0\", \"1.0\", \"4.7\", \"0.0\", \"0.0\", \"0.0\", \"0.0\", \"0.0\", \"3.9\", \"4.3\", \"0.3\", \"3.9\", \"3.4\", \"0.0\", \"4.4\", \"0.0\", \"1.0\", \"0.0\", \"3.1\", \"2.1\", \"2.2\", \"0.0\", \"2.4\", \"2.2\", \"2.2\", \"2.4\", \"1.6\", \"2.2\", \"0.0\", \"1.9\", \"1.5\", \"1.4\", \"1.8\", \"1.6\", \"1.5\", \"1.5\", \"1.9\", \"2.5\", \"1.1\", \"0.6\", \"1.9\", \"0.0\", \"2.8\", \"2.5\", \"3.8\", \"3.8\", \"3.0\", \"1.0\", \"1.0\", \"1.2\", \"-3.0\", \"0.0\", \"0.0\", \"3.9\", \"4.4\", \"2.8\", \"2.6\", \"2.6\", \"0.0\", \"2.7\", \"0.0\", \"3.0\", \"0.0\", \"3.7\", \"2.8\", \"2.8\", \"0.5\", \"3.1\", \"6.0\", \"3.3\", \"1.7\", \"2.4\", \"1.4\", \"0.0\", \"1.6\", \"0.5\", \"3.6\", \"4.7\", \"2.2\", \"3.7\", \"3.3\", \"2.8\", \"2.1\", \"3.6\", \"4.6\", \"0.0\", \"0.0\", \"0.0\", \"3.5\", \"3.0\", \"4.0\", \"2.3\", \"1.0\", \"3.6\", \"0.5\", \"1.5\", \"1.0\", \"2.9\", \"2.6\", \"0.0\", \"0.0\", \"0.0\", \"0.0\"], \"xaxis\": \"x\", \"y\": [4.8, 5.4, 4.6, 5.0, 4.4, 5.1, 4.5, 4.8, 4.2, 5.3, 4.0, 4.9, 4.3, 4.2, 4.4, 4.4, 5.4, 5.1, 4.5, 4.7, 4.3, 5.0, 4.3, 4.2, 5.0, 4.5, 4.3, 4.4, 4.4, 4.5, 3.9, 4.6, 4.5, 5.3, 4.4, 4.3, 4.3, 4.9, 4.4, 3.9, 4.4, 3.8, 3.9, 3.9, 4.0, 5.8, 5.7, 4.7, 5.3, 4.7, 4.7, 4.7, 5.0, 5.8, 5.6, 4.5, 4.4, 4.4, 4.3, 4.1, 5.4, 3.8, 3.8, 4.2, 4.0, 4.0, 4.5, 4.0, 4.8, 6.2, 5.1, 4.3, 5.5, 4.8, 3.9, 4.0, 5.0, 4.0, 4.0, 4.1, 4.2, 4.1, 4.2, 4.5, 4.3, 4.3, 4.4, 4.3, 4.2, 4.6, 4.5, 4.5, 4.3, 4.4, 4.5, 5.5, 5.9, 3.9, 4.3, 5.3, 4.9, 4.1, 5.7, 5.0, 4.0, 4.3, 3.8, 4.4, 5.1, 4.3, 4.0, 3.9, 3.8, 4.3, 4.4, 4.0, 4.0, 4.9, 5.4, 6.2, 7.1, 7.3, 5.2, 3.8, 4.0, 4.0, 5.0, 4.8, 5.4, 4.9, 6.1, 5.3, 5.9, 6.1, 5.4, 6.0, 5.5, 4.7, 6.1, 4.0, 4.0, 4.9, 4.8, 4.8, 5.5, 5.2, 4.1, 4.8, 4.8, 4.3, 5.7, 4.8, 4.2, 3.9, 5.3, 4.7, 4.5, 4.3, 4.2, 4.4, 4.2, 4.2, 4.9, 4.3, 3.9, 4.2, 4.6, 5.0, 4.9, 4.2, 4.7, 4.7, 4.3, 4.3, 4.3, 3.9, 3.9, 4.0, 5.0, 4.6, 4.7, 4.7, 4.8, 4.7, 3.9, 4.3, 4.0, 4.0, 4.7, 5.4, 5.2, 4.7, 4.6, 5.2, 4.7, 4.9, 4.3, 5.6, 3.9, 5.5, 5.0, 4.6, 4.3, 4.4, 4.1, 4.4, 4.8, 4.5, 4.2, 4.3, 4.4, 4.0, 4.7, 5.9, 4.2, 4.3, 4.2, 4.3, 3.9, 4.6, 4.5, 4.0, 4.0, 4.4, 5.4, 4.8, 4.9, 5.4, 3.9, 3.9, 4.1, 4.7, 4.4, 5.2, 5.0, 4.0, 3.9, 4.0, 4.0], \"yaxis\": \"y\"}, {\"customdata\": [[\"Arsenal\"], [\"Arsenal\"], [\"Aston Villa\"], [\"Aston Villa\"], [\"Aston Villa\"], [\"Aston Villa\"], [\"Aston Villa\"], [\"Brighton\"], [\"Brighton\"], [\"Brighton\"], [\"Brighton\"], [\"Brighton\"], [\"Brighton\"], [\"Burnley\"], [\"Burnley\"], [\"Burnley\"], [\"Burnley\"], [\"Burnley\"], [\"Burnley\"], [\"Burnley\"], [\"Chelsea\"], [\"Chelsea\"], [\"Chelsea\"], [\"Crystal Palace\"], [\"Crystal Palace\"], [\"Crystal Palace\"], [\"Crystal Palace\"], [\"Crystal Palace\"], [\"Everton\"], [\"Everton\"], [\"Everton\"], [\"Everton\"], [\"Everton\"], [\"Everton\"], [\"Fulham\"], [\"Fulham\"], [\"Fulham\"], [\"Leicester\"], [\"Leicester\"], [\"Leicester\"], [\"Leeds\"], [\"Leeds\"], [\"Leeds\"], [\"Leeds\"], [\"Liverpool\"], [\"Liverpool\"], [\"Man City\"], [\"Man City\"], [\"Man City\"], [\"Man Utd\"], [\"Man Utd\"], [\"Man Utd\"], [\"Newcastle\"], [\"Newcastle\"], [\"Newcastle\"], [\"Newcastle\"], [\"Newcastle\"], [\"Sheffield Utd\"], [\"Sheffield Utd\"], [\"Sheffield Utd\"], [\"Sheffield Utd\"], [\"Sheffield Utd\"], [\"Sheffield Utd\"], [\"Southampton\"], [\"Southampton\"], [\"Southampton\"], [\"Southampton\"], [\"Southampton\"], [\"Spurs\"], [\"Spurs\"], [\"Spurs\"], [\"West Brom\"], [\"West Brom\"], [\"West Brom\"], [\"West Brom\"], [\"West Brom\"], [\"West Brom\"], [\"West Brom\"], [\"West Ham\"], [\"West Ham\"], [\"West Ham\"], [\"West Ham\"], [\"West Ham\"], [\"Wolves\"], [\"Wolves\"], [\"Wolves\"], [\"Wolves\"], [\"Wolves\"], [\"Wolves\"]], \"hovertemplate\": \"<b>%{hovertext}</b><br><br>Player Type=Forward<br>points_per_game=%{x}<br>now_cost=%{y}<br>size=%{marker.size}<br>team_name=%{customdata[0]}<extra></extra>\", \"hovertext\": [\"Alexandre Lacazette\", \"Edward Nketiah\", \"Wesley Wesley\", \"Mbwana Samatta\", \"Keinan Davis\", \"Indiana Vassilev\", \"Ollie Watkins\", \"Glenn Murray\", \"Florin Andone\", \"Neal Maupay\", \"Aaron Connolly\", \"Andi Zeqiri\", \"Danny Welbeck\", \"Jay Rodriguez\", \"Ashley Barnes\", \"Chris Wood\", \"Matej Vydra\", \"Max Thompson\", \"Lewis Richardson\", \"Joel Mumbongo\", \"Olivier Giroud\", \"Timo Werner\", \"Tammy Abraham\", \"Michy Batshuayi\", \"Christian Benteke\", \"Connor Wickham\", \"Jordan Ayew\", \"Jean-Philippe Mateta\", \"Cenk Tosun\", \"Dominic Calvert-Lewin\", \"Richarlison Richarlison\", \"Moise Kean\", \"Ellis Simms\", \"Joshua King\", \"Bobby Decordova-Reid\", \"Aleksandar Mitrovi\\u0107\", \"Josh Maja\", \"Jamie Vardy\", \"Kelechi Iheanacho\", \"Islam Slimani\", \"Patrick Bamford\", \"Rodrigo Rodrigo\", \"Niall Huggins\", \"Joe Gelhardt\", \"Roberto Firmino\", \"Divock Origi\", \"Sergio Ag\\u00fcero\", \"Gabriel Fernando Jesus\", \"Liam Delap\", \"Odion Ighalo\", \"Anthony Martial\", \"Edinson Cavani\", \"Andy Carroll\", \"Dwight Gayle\", \"Joelinton C\\u00e1ssio Joelinton\", \"Yoshinori Muto\", \"Callum Wilson\", \"Rhian Brewster\", \"Billy Sharp\", \"David McGoldrick\", \"Oliver McBurnie\", \"Lys Mousset\", \"Antwoine Hackford\", \"Shane Long\", \"Danny Ings\", \"Che Adams\", \"Michael Obafemi\", \"Daniel N'Lundulu\", \"Harry Kane\", \"Carlos Vinicius Carlos Vinicius\", \"Dane Scarlett\", \"Callum Callum Robinson\", \"Hal Robson-Kanu\", \"Charlie Austin\", \"Kenneth Zohore\", \"Karlan Grant\", \"Cheikh Diaby\", \"Mbaye Diagne\", \"Michail Antonio\", \"S\\u00e9bastien Haller\", \"Jordan Hugill\", \"Albian Ajeti\", \"Ademipo Odubeko\", \"Ra\\u00fal Jim\\u00e9nez\", \"L\\u00e9o Bonatini\", \"Leonardo Campana\", \"Fabio Fabio Silva\", \"Patrick Cutrone\", \"Willian Jos\\u00e9 Willian Jos\\u00e9\"], \"legendgroup\": \"Forward\", \"marker\": {\"color\": \"#00cc96\", \"size\": [10.8, 0.30000000000000004, 0.30000000000000004, 0.30000000000000004, 1.2000000000000002, 0.30000000000000004, 5.1000000000000005, 0.30000000000000004, 0.30000000000000004, 6.6000000000000005, 1.0499999999999998, 1.0499999999999998, 4.5, 2.0999999999999996, 0.30000000000000004, 7.800000000000001, 6.300000000000001, 0.30000000000000004, 0.6000000000000001, 0.30000000000000004, 1.0499999999999998, 2.55, 0.30000000000000004, 0.30000000000000004, 5.1000000000000005, 0.30000000000000004, 3.0, 0.6000000000000001, 0.30000000000000004, 4.800000000000001, 8.100000000000001, 0.30000000000000004, 0.30000000000000004, 1.7999999999999998, 1.5, 1.5, 2.4, 7.5, 14.099999999999998, 0.30000000000000004, 6.300000000000001, 0.6000000000000001, 0.30000000000000004, 0.30000000000000004, 3.0, 0.30000000000000004, 3.0, 7.199999999999999, 0.30000000000000004, 0.30000000000000004, 2.55, 1.0499999999999998, 1.0499999999999998, 1.5, 3.3000000000000003, 0.30000000000000004, 0.30000000000000004, 1.5, 1.7999999999999998, 3.0, 1.5, 1.0499999999999998, 0.30000000000000004, 0.30000000000000004, 1.5, 8.55, 0.30000000000000004, 1.0499999999999998, 11.100000000000001, 1.7999999999999998, 0.30000000000000004, 0.30000000000000004, 1.7999999999999998, 0.30000000000000004, 0.30000000000000004, 0.6000000000000001, 0.30000000000000004, 3.3000000000000003, 6.6000000000000005, 0.30000000000000004, 0.30000000000000004, 0.30000000000000004, 0.30000000000000004, 0.30000000000000004, 0.30000000000000004, 0.30000000000000004, 1.7999999999999998, 0.30000000000000004, 2.55], \"sizemode\": \"area\", \"sizeref\": 0.03525, \"symbol\": \"circle\"}, \"mode\": \"markers\", \"name\": \"Forward\", \"orientation\": \"v\", \"showlegend\": true, \"type\": \"scatter\", \"x\": [\"4.4\", \"1.9\", \"0.0\", \"0.0\", \"1.0\", \"0.0\", \"4.3\", \"0.0\", \"0.0\", \"3.6\", \"2.4\", \"1.0\", \"3.1\", \"2.0\", \"2.7\", \"3.5\", \"1.8\", \"0.0\", \"1.0\", \"0.7\", \"3.1\", \"3.6\", \"3.4\", \"2.1\", \"2.9\", \"0.0\", \"2.4\", \"3.0\", \"0.8\", \"5.4\", \"3.9\", \"1.0\", \"0.0\", \"1.0\", \"2.7\", \"2.2\", \"3.1\", \"5.9\", \"3.4\", \"1.0\", \"5.4\", \"2.8\", \"1.0\", \"0.0\", \"3.8\", \"1.1\", \"1.9\", \"4.2\", \"1.0\", \"1.0\", \"3.4\", \"3.3\", \"1.8\", \"1.8\", \"2.1\", \"0.0\", \"5.5\", \"1.3\", \"2.4\", \"2.7\", \"1.8\", \"1.2\", \"1.0\", \"1.1\", \"4.3\", \"3.9\", \"1.0\", \"1.0\", \"7.1\", \"1.5\", \"1.0\", \"2.5\", \"0.9\", \"1.0\", \"0.0\", \"2.2\", \"0.0\", \"2.9\", \"4.5\", \"2.6\", \"0.0\", \"0.0\", \"0.0\", \"4.3\", \"0.0\", \"0.0\", \"1.7\", \"1.0\", \"2.2\"], \"xaxis\": \"x\", \"y\": [8.2, 5.4, 6.0, 5.9, 4.2, 4.3, 6.6, 4.8, 4.8, 6.2, 5.2, 5.0, 5.5, 5.8, 6.0, 6.2, 4.8, 4.5, 4.5, 4.5, 6.7, 9.2, 7.1, 5.7, 5.5, 4.4, 5.6, 5.6, 6.0, 7.6, 8.0, 5.7, 4.5, 5.2, 5.3, 5.5, 5.5, 10.1, 5.7, 4.9, 6.7, 5.7, 4.5, 4.5, 9.1, 5.1, 10.3, 9.2, 4.3, 6.1, 8.6, 7.8, 5.1, 5.9, 5.7, 4.8, 6.5, 4.4, 5.5, 5.2, 5.6, 5.8, 4.4, 5.1, 8.4, 5.8, 4.6, 4.5, 11.6, 6.9, 4.5, 5.2, 5.2, 5.1, 4.8, 5.7, 4.5, 6.0, 6.7, 6.1, 5.5, 5.5, 4.5, 8.1, 4.8, 4.8, 5.2, 5.9, 6.8], \"yaxis\": \"y\"}, {\"customdata\": [[\"Arsenal\"], [\"Arsenal\"], [\"Arsenal\"], [\"Arsenal\"], [\"Aston Villa\"], [\"Aston Villa\"], [\"Aston Villa\"], [\"Aston Villa\"], [\"Brighton\"], [\"Brighton\"], [\"Brighton\"], [\"Brighton\"], [\"Burnley\"], [\"Burnley\"], [\"Burnley\"], [\"Chelsea\"], [\"Chelsea\"], [\"Chelsea\"], [\"Chelsea\"], [\"Crystal Palace\"], [\"Crystal Palace\"], [\"Crystal Palace\"], [\"Crystal Palace\"], [\"Everton\"], [\"Everton\"], [\"Everton\"], [\"Everton\"], [\"Everton\"], [\"Fulham\"], [\"Fulham\"], [\"Fulham\"], [\"Fulham\"], [\"Leicester\"], [\"Leicester\"], [\"Leeds\"], [\"Leeds\"], [\"Leeds\"], [\"Leeds\"], [\"Liverpool\"], [\"Liverpool\"], [\"Liverpool\"], [\"Liverpool\"], [\"Liverpool\"], [\"Man City\"], [\"Man City\"], [\"Man City\"], [\"Man City\"], [\"Man City\"], [\"Man Utd\"], [\"Man Utd\"], [\"Man Utd\"], [\"Man Utd\"], [\"Man Utd\"], [\"Newcastle\"], [\"Newcastle\"], [\"Newcastle\"], [\"Newcastle\"], [\"Sheffield Utd\"], [\"Sheffield Utd\"], [\"Sheffield Utd\"], [\"Sheffield Utd\"], [\"Southampton\"], [\"Southampton\"], [\"Southampton\"], [\"Southampton\"], [\"Spurs\"], [\"Spurs\"], [\"Spurs\"], [\"West Brom\"], [\"West Brom\"], [\"West Brom\"], [\"West Ham\"], [\"West Ham\"], [\"West Ham\"], [\"West Ham\"], [\"West Ham\"], [\"Wolves\"], [\"Wolves\"], [\"Wolves\"], [\"Wolves\"]], \"hovertemplate\": \"<b>%{hovertext}</b><br><br>Player Type=Goalkeeper<br>points_per_game=%{x}<br>now_cost=%{y}<br>size=%{marker.size}<br>team_name=%{customdata[0]}<extra></extra>\", \"hovertext\": [\"Bernd Leno\", \"Mathew Ryan\", \"Matt Macey\", \"R\\u00fanar Alex R\\u00fanarsson\", \"Emiliano Mart\\u00ednez\", \"Tom Heaton\", \"Jed Steer\", \"\\u00d8rjan Nyland\", \"Christian Walton\", \"Jason Steele\", \"Robert S\\u00e1nchez\", \"Thomas McGill\", \"Nick Pope\", \"Bailey Peacock-Farrell\", \"Will Norris\", \"Willy Caballero\", \"Kepa Arrizabalaga\", \"Edouard Mendy\", \"Karlo Ziger\", \"Wayne Hennessey\", \"Vicente Guaita\", \"Stephen Henderson\", \"Jack Butland\", \"Jonas L\\u00f6ssl\", \"Jordan Pickford\", \"Jo\\u00e3o Virg\\u00ednia\", \"Robin Olsen\", \"Harry Tyrer\", \"Fabricio Fabri\", \"Marcus Bettinelli\", \"Marek Rod\\u00e1k\", \"Alphonse Areola\", \"Kasper Schmeichel\", \"Danny Ward\", \"Francisco Casilla\", \"Kamil Miazek\", \"Illan Meslier\", \"Elia Caprile\", \"Adri\\u00e1n Adri\\u00e1n\", \"Alisson Alisson\", \"Caoimhin Kelleher\", \"Liam Hughes\", \"Jakub Ojrzynski\", \"Claudio Bravo\", \"Ederson Ederson\", \"Zack Steffen\", \"James Trafford\", \"Scott Carson\", \"Sergio Romero\", \"David de Gea\", \"Dean Henderson\", \"Lee Grant\", \"Nathan Bishop\", \"Karl Darlow\", \"Martin Dubravka\", \"Mark Gillespie\", \"Daniel Langley\", \"Simon Moore\", \"Wes Foderingham\", \"Aaron Ramsdale\", \"Michael Verrips\", \"Alex McCarthy\", \"Angus Gunn\", \"Fraser Forster\", \"Harry Lewis\", \"Hugo Lloris\", \"Paulo Gazzaniga\", \"Joe Hart\", \"David Button\", \"Sam Johnstone\", \"Andy Lonergan\", \"David Martin\", \"Darren Randolph\", \"Lukasz Fabianski\", \"Roberto Roberto\", \"Nathan Trott\", \"John Ruddy\", \"Rui Pedro Patr\\u00edcio\", \"Matija Sarkic\", \"Andreas S\\u00f6ndergaard\"], \"legendgroup\": \"Goalkeeper\", \"marker\": {\"color\": \"#ab63fa\", \"size\": [4.050000000000001, 0.30000000000000004, 0.30000000000000004, 0.30000000000000004, 7.199999999999999, 0.30000000000000004, 0.30000000000000004, 0.30000000000000004, 0.30000000000000004, 0.30000000000000004, 4.800000000000001, 0.30000000000000004, 3.3000000000000003, 0.30000000000000004, 0.30000000000000004, 0.30000000000000004, 0.30000000000000004, 12.0, 0.30000000000000004, 0.30000000000000004, 9.3, 0.30000000000000004, 0.30000000000000004, 0.30000000000000004, 6.300000000000001, 1.0499999999999998, 0.30000000000000004, 0.30000000000000004, 0.30000000000000004, 0.30000000000000004, 0.30000000000000004, 6.0, 5.1000000000000005, 0.30000000000000004, 0.30000000000000004, 0.30000000000000004, 10.05, 0.30000000000000004, 3.6000000000000005, 5.550000000000001, 0.30000000000000004, 0.30000000000000004, 0.30000000000000004, 0.30000000000000004, 4.5, 0.30000000000000004, 0.30000000000000004, 0.30000000000000004, 0.30000000000000004, 3.6000000000000005, 7.800000000000001, 0.30000000000000004, 0.30000000000000004, 0.30000000000000004, 6.6000000000000005, 0.30000000000000004, 0.30000000000000004, 0.30000000000000004, 0.30000000000000004, 6.300000000000001, 0.30000000000000004, 0.6000000000000001, 0.30000000000000004, 4.050000000000001, 0.30000000000000004, 7.800000000000001, 0.30000000000000004, 0.30000000000000004, 0.30000000000000004, 9.0, 0.30000000000000004, 0.30000000000000004, 0.6000000000000001, 4.5, 0.30000000000000004, 0.30000000000000004, 0.6000000000000001, 5.550000000000001, 0.30000000000000004, 0.30000000000000004], \"sizemode\": \"area\", \"sizeref\": 0.03525, \"symbol\": \"circle\"}, \"mode\": \"markers\", \"name\": \"Goalkeeper\", \"orientation\": \"v\", \"showlegend\": true, \"type\": \"scatter\", \"x\": [\"3.6\", \"2.4\", \"0.0\", \"1.0\", \"5.5\", \"0.0\", \"0.0\", \"0.0\", \"0.0\", \"0.0\", \"3.9\", \"0.0\", \"4.6\", \"0.0\", \"0.0\", \"1.0\", \"3.8\", \"4.7\", \"0.0\", \"0.0\", \"3.6\", \"0.0\", \"0.0\", \"0.0\", \"3.4\", \"2.0\", \"2.4\", \"0.0\", \"0.0\", \"0.0\", \"1.0\", \"3.8\", \"3.9\", \"0.0\", \"2.0\", \"0.0\", \"4.5\", \"0.0\", \"3.7\", \"3.7\", \"5.0\", \"0.0\", \"0.0\", \"0.0\", \"4.4\", \"2.0\", \"0.0\", \"0.0\", \"0.0\", \"3.6\", \"4.2\", \"0.0\", \"0.0\", \"3.2\", \"4.2\", \"0.0\", \"0.0\", \"0.0\", \"0.0\", \"2.7\", \"0.0\", \"3.3\", \"0.0\", \"4.0\", \"0.0\", \"4.1\", \"0.0\", \"0.0\", \"2.0\", \"3.4\", \"0.0\", \"0.0\", \"3.5\", \"4.1\", \"0.0\", \"0.0\", \"1.0\", \"3.6\", \"0.0\", \"0.0\"], \"xaxis\": \"x\", \"y\": [5.0, 4.2, 4.0, 4.4, 5.4, 4.5, 3.9, 4.0, 4.0, 3.9, 4.5, 3.9, 5.5, 4.0, 4.0, 4.6, 4.7, 5.1, 4.0, 4.3, 4.8, 4.0, 4.5, 4.3, 4.8, 4.3, 4.5, 4.0, 3.9, 4.3, 4.3, 4.6, 5.4, 4.3, 4.2, 4.0, 4.7, 4.0, 4.2, 5.9, 4.5, 4.0, 4.0, 4.5, 6.1, 4.4, 4.0, 3.9, 4.9, 5.3, 5.2, 4.0, 4.0, 5.0, 4.8, 4.3, 3.9, 4.3, 4.3, 4.6, 4.0, 4.5, 4.3, 4.0, 4.0, 5.6, 4.3, 4.3, 3.9, 4.5, 4.0, 3.9, 4.3, 5.0, 4.5, 4.0, 4.3, 5.3, 4.4, 4.0], \"yaxis\": \"y\"}],                        {\"annotations\": [{\"showarrow\": false, \"text\": \"Bubble Size : Player Form\", \"x\": 1.15, \"xref\": \"paper\", \"y\": 1.1, \"yref\": \"paper\"}], \"legend\": {\"itemsizing\": \"constant\", \"title\": {\"text\": \"Player Type\"}, \"tracegroupgap\": 0}, \"showlegend\": true, \"template\": {\"data\": {\"bar\": [{\"error_x\": {\"color\": \"#2a3f5f\"}, \"error_y\": {\"color\": \"#2a3f5f\"}, \"marker\": {\"line\": {\"color\": \"#E5ECF6\", \"width\": 0.5}}, \"type\": \"bar\"}], \"barpolar\": [{\"marker\": {\"line\": {\"color\": \"#E5ECF6\", \"width\": 0.5}}, \"type\": \"barpolar\"}], \"carpet\": [{\"aaxis\": {\"endlinecolor\": \"#2a3f5f\", \"gridcolor\": \"white\", \"linecolor\": \"white\", \"minorgridcolor\": \"white\", \"startlinecolor\": \"#2a3f5f\"}, \"baxis\": {\"endlinecolor\": \"#2a3f5f\", \"gridcolor\": \"white\", \"linecolor\": \"white\", \"minorgridcolor\": \"white\", \"startlinecolor\": \"#2a3f5f\"}, \"type\": \"carpet\"}], \"choropleth\": [{\"colorbar\": {\"outlinewidth\": 0, \"ticks\": \"\"}, \"type\": \"choropleth\"}], \"contour\": [{\"colorbar\": {\"outlinewidth\": 0, \"ticks\": \"\"}, \"colorscale\": [[0.0, \"#0d0887\"], [0.1111111111111111, \"#46039f\"], [0.2222222222222222, \"#7201a8\"], [0.3333333333333333, \"#9c179e\"], [0.4444444444444444, \"#bd3786\"], [0.5555555555555556, \"#d8576b\"], [0.6666666666666666, \"#ed7953\"], [0.7777777777777778, \"#fb9f3a\"], [0.8888888888888888, \"#fdca26\"], [1.0, \"#f0f921\"]], \"type\": \"contour\"}], \"contourcarpet\": [{\"colorbar\": {\"outlinewidth\": 0, \"ticks\": \"\"}, \"type\": \"contourcarpet\"}], \"heatmap\": [{\"colorbar\": {\"outlinewidth\": 0, \"ticks\": \"\"}, \"colorscale\": [[0.0, \"#0d0887\"], [0.1111111111111111, \"#46039f\"], [0.2222222222222222, \"#7201a8\"], [0.3333333333333333, \"#9c179e\"], [0.4444444444444444, \"#bd3786\"], [0.5555555555555556, \"#d8576b\"], [0.6666666666666666, \"#ed7953\"], [0.7777777777777778, \"#fb9f3a\"], [0.8888888888888888, \"#fdca26\"], [1.0, \"#f0f921\"]], \"type\": \"heatmap\"}], \"heatmapgl\": [{\"colorbar\": {\"outlinewidth\": 0, \"ticks\": \"\"}, \"colorscale\": [[0.0, \"#0d0887\"], [0.1111111111111111, \"#46039f\"], [0.2222222222222222, \"#7201a8\"], [0.3333333333333333, \"#9c179e\"], [0.4444444444444444, \"#bd3786\"], [0.5555555555555556, \"#d8576b\"], [0.6666666666666666, \"#ed7953\"], [0.7777777777777778, \"#fb9f3a\"], [0.8888888888888888, \"#fdca26\"], [1.0, \"#f0f921\"]], \"type\": \"heatmapgl\"}], \"histogram\": [{\"marker\": {\"colorbar\": {\"outlinewidth\": 0, \"ticks\": \"\"}}, \"type\": \"histogram\"}], \"histogram2d\": [{\"colorbar\": {\"outlinewidth\": 0, \"ticks\": \"\"}, \"colorscale\": [[0.0, \"#0d0887\"], [0.1111111111111111, \"#46039f\"], [0.2222222222222222, \"#7201a8\"], [0.3333333333333333, \"#9c179e\"], [0.4444444444444444, \"#bd3786\"], [0.5555555555555556, \"#d8576b\"], [0.6666666666666666, \"#ed7953\"], [0.7777777777777778, \"#fb9f3a\"], [0.8888888888888888, \"#fdca26\"], [1.0, \"#f0f921\"]], \"type\": \"histogram2d\"}], \"histogram2dcontour\": [{\"colorbar\": {\"outlinewidth\": 0, \"ticks\": \"\"}, \"colorscale\": [[0.0, \"#0d0887\"], [0.1111111111111111, \"#46039f\"], [0.2222222222222222, \"#7201a8\"], [0.3333333333333333, \"#9c179e\"], [0.4444444444444444, \"#bd3786\"], [0.5555555555555556, \"#d8576b\"], [0.6666666666666666, \"#ed7953\"], [0.7777777777777778, \"#fb9f3a\"], [0.8888888888888888, \"#fdca26\"], [1.0, \"#f0f921\"]], \"type\": \"histogram2dcontour\"}], \"mesh3d\": [{\"colorbar\": {\"outlinewidth\": 0, \"ticks\": \"\"}, \"type\": \"mesh3d\"}], \"parcoords\": [{\"line\": {\"colorbar\": {\"outlinewidth\": 0, \"ticks\": \"\"}}, \"type\": \"parcoords\"}], \"pie\": [{\"automargin\": true, \"type\": \"pie\"}], \"scatter\": [{\"marker\": {\"colorbar\": {\"outlinewidth\": 0, \"ticks\": \"\"}}, \"type\": \"scatter\"}], \"scatter3d\": [{\"line\": {\"colorbar\": {\"outlinewidth\": 0, \"ticks\": \"\"}}, \"marker\": {\"colorbar\": {\"outlinewidth\": 0, \"ticks\": \"\"}}, \"type\": \"scatter3d\"}], \"scattercarpet\": [{\"marker\": {\"colorbar\": {\"outlinewidth\": 0, \"ticks\": \"\"}}, \"type\": \"scattercarpet\"}], \"scattergeo\": [{\"marker\": {\"colorbar\": {\"outlinewidth\": 0, \"ticks\": \"\"}}, \"type\": \"scattergeo\"}], \"scattergl\": [{\"marker\": {\"colorbar\": {\"outlinewidth\": 0, \"ticks\": \"\"}}, \"type\": \"scattergl\"}], \"scattermapbox\": [{\"marker\": {\"colorbar\": {\"outlinewidth\": 0, \"ticks\": \"\"}}, \"type\": \"scattermapbox\"}], \"scatterpolar\": [{\"marker\": {\"colorbar\": {\"outlinewidth\": 0, \"ticks\": \"\"}}, \"type\": \"scatterpolar\"}], \"scatterpolargl\": [{\"marker\": {\"colorbar\": {\"outlinewidth\": 0, \"ticks\": \"\"}}, \"type\": \"scatterpolargl\"}], \"scatterternary\": [{\"marker\": {\"colorbar\": {\"outlinewidth\": 0, \"ticks\": \"\"}}, \"type\": \"scatterternary\"}], \"surface\": [{\"colorbar\": {\"outlinewidth\": 0, \"ticks\": \"\"}, \"colorscale\": [[0.0, \"#0d0887\"], [0.1111111111111111, \"#46039f\"], [0.2222222222222222, \"#7201a8\"], [0.3333333333333333, \"#9c179e\"], [0.4444444444444444, \"#bd3786\"], [0.5555555555555556, \"#d8576b\"], [0.6666666666666666, \"#ed7953\"], [0.7777777777777778, \"#fb9f3a\"], [0.8888888888888888, \"#fdca26\"], [1.0, \"#f0f921\"]], \"type\": \"surface\"}], \"table\": [{\"cells\": {\"fill\": {\"color\": \"#EBF0F8\"}, \"line\": {\"color\": \"white\"}}, \"header\": {\"fill\": {\"color\": \"#C8D4E3\"}, \"line\": {\"color\": \"white\"}}, \"type\": \"table\"}]}, \"layout\": {\"annotationdefaults\": {\"arrowcolor\": \"#2a3f5f\", \"arrowhead\": 0, \"arrowwidth\": 1}, \"autotypenumbers\": \"strict\", \"coloraxis\": {\"colorbar\": {\"outlinewidth\": 0, \"ticks\": \"\"}}, \"colorscale\": {\"diverging\": [[0, \"#8e0152\"], [0.1, \"#c51b7d\"], [0.2, \"#de77ae\"], [0.3, \"#f1b6da\"], [0.4, \"#fde0ef\"], [0.5, \"#f7f7f7\"], [0.6, \"#e6f5d0\"], [0.7, \"#b8e186\"], [0.8, \"#7fbc41\"], [0.9, \"#4d9221\"], [1, \"#276419\"]], \"sequential\": [[0.0, \"#0d0887\"], [0.1111111111111111, \"#46039f\"], [0.2222222222222222, \"#7201a8\"], [0.3333333333333333, \"#9c179e\"], [0.4444444444444444, \"#bd3786\"], [0.5555555555555556, \"#d8576b\"], [0.6666666666666666, \"#ed7953\"], [0.7777777777777778, \"#fb9f3a\"], [0.8888888888888888, \"#fdca26\"], [1.0, \"#f0f921\"]], \"sequentialminus\": [[0.0, \"#0d0887\"], [0.1111111111111111, \"#46039f\"], [0.2222222222222222, \"#7201a8\"], [0.3333333333333333, \"#9c179e\"], [0.4444444444444444, \"#bd3786\"], [0.5555555555555556, \"#d8576b\"], [0.6666666666666666, \"#ed7953\"], [0.7777777777777778, \"#fb9f3a\"], [0.8888888888888888, \"#fdca26\"], [1.0, \"#f0f921\"]]}, \"colorway\": [\"#636efa\", \"#EF553B\", \"#00cc96\", \"#ab63fa\", \"#FFA15A\", \"#19d3f3\", \"#FF6692\", \"#B6E880\", \"#FF97FF\", \"#FECB52\"], \"font\": {\"color\": \"#2a3f5f\"}, \"geo\": {\"bgcolor\": \"white\", \"lakecolor\": \"white\", \"landcolor\": \"#E5ECF6\", \"showlakes\": true, \"showland\": true, \"subunitcolor\": \"white\"}, \"hoverlabel\": {\"align\": \"left\"}, \"hovermode\": \"closest\", \"mapbox\": {\"style\": \"light\"}, \"paper_bgcolor\": \"white\", \"plot_bgcolor\": \"#E5ECF6\", \"polar\": {\"angularaxis\": {\"gridcolor\": \"white\", \"linecolor\": \"white\", \"ticks\": \"\"}, \"bgcolor\": \"#E5ECF6\", \"radialaxis\": {\"gridcolor\": \"white\", \"linecolor\": \"white\", \"ticks\": \"\"}}, \"scene\": {\"xaxis\": {\"backgroundcolor\": \"#E5ECF6\", \"gridcolor\": \"white\", \"gridwidth\": 2, \"linecolor\": \"white\", \"showbackground\": true, \"ticks\": \"\", \"zerolinecolor\": \"white\"}, \"yaxis\": {\"backgroundcolor\": \"#E5ECF6\", \"gridcolor\": \"white\", \"gridwidth\": 2, \"linecolor\": \"white\", \"showbackground\": true, \"ticks\": \"\", \"zerolinecolor\": \"white\"}, \"zaxis\": {\"backgroundcolor\": \"#E5ECF6\", \"gridcolor\": \"white\", \"gridwidth\": 2, \"linecolor\": \"white\", \"showbackground\": true, \"ticks\": \"\", \"zerolinecolor\": \"white\"}}, \"shapedefaults\": {\"line\": {\"color\": \"#2a3f5f\"}}, \"ternary\": {\"aaxis\": {\"gridcolor\": \"white\", \"linecolor\": \"white\", \"ticks\": \"\"}, \"baxis\": {\"gridcolor\": \"white\", \"linecolor\": \"white\", \"ticks\": \"\"}, \"bgcolor\": \"#E5ECF6\", \"caxis\": {\"gridcolor\": \"white\", \"linecolor\": \"white\", \"ticks\": \"\"}}, \"title\": {\"x\": 0.05}, \"xaxis\": {\"automargin\": true, \"gridcolor\": \"white\", \"linecolor\": \"white\", \"ticks\": \"\", \"title\": {\"standoff\": 15}, \"zerolinecolor\": \"white\", \"zerolinewidth\": 2}, \"yaxis\": {\"automargin\": true, \"gridcolor\": \"white\", \"linecolor\": \"white\", \"ticks\": \"\", \"title\": {\"standoff\": 15}, \"zerolinecolor\": \"white\", \"zerolinewidth\": 2}}}, \"title\": {\"text\": \"Most Suitable Player to Buy Currently\"}, \"xaxis\": {\"anchor\": \"y\", \"domain\": [0.0, 1.0], \"title\": {\"text\": \"Points Per Game\"}}, \"yaxis\": {\"anchor\": \"x\", \"domain\": [0.0, 1.0], \"tickprefix\": \"\\u00a3\", \"title\": {\"text\": \"Price\"}}},                        {\"responsive\": true}                    ).then(function(){\n",
       "                            \n",
       "var gd = document.getElementById('77abe341-d210-44eb-b7b8-11972aa56193');\n",
       "var x = new MutationObserver(function (mutations, observer) {{\n",
       "        var display = window.getComputedStyle(gd).display;\n",
       "        if (!display || display === 'none') {{\n",
       "            console.log([gd, 'removed!']);\n",
       "            Plotly.purge(gd);\n",
       "            observer.disconnect();\n",
       "        }}\n",
       "}});\n",
       "\n",
       "// Listen for the removal of the full notebook cells\n",
       "var notebookContainer = gd.closest('#notebook-container');\n",
       "if (notebookContainer) {{\n",
       "    x.observe(notebookContainer, {childList: true});\n",
       "}}\n",
       "\n",
       "// Listen for the clearing of the current output cell\n",
       "var outputEl = gd.closest('.output');\n",
       "if (outputEl) {{\n",
       "    x.observe(outputEl, {childList: true});\n",
       "}}\n",
       "\n",
       "                        })                };                });            </script>        </div>"
      ]
     },
     "metadata": {},
     "output_type": "display_data"
    }
   ],
   "source": [
    "cf.go_offline()\n",
    "\n",
    "df = players_details[['form','points_per_game','now_cost','team_name','singular_name','first_name','web_name']]\n",
    "df[\"now_cost\"] = df[\"now_cost\"]/10\n",
    "df.rename(columns = {'singular_name' : \"Player Type\"}, inplace = True)\n",
    "df[\"name\"] = df[\"first_name\"] + ' ' + df[\"web_name\"]\n",
    "fig = px.scatter(df, x='points_per_game', \n",
    "                 y='now_cost',  \n",
    "                 size = (players_details[\"form\"].astype(float).values + abs(players_details[\"form\"].astype(float).values.min()))*1.5, \n",
    "                 hover_name = \"name\",\n",
    "                 hover_data= [\"team_name\"],\n",
    "                 color =\"Player Type\",\n",
    "                 title = \"Most Suitable Player to Buy Currently\"\n",
    "                )\n",
    "fig['layout']['yaxis'].update({'title': 'Price', 'tickprefix': '£'})\n",
    "fig['layout']['xaxis'].update({'title': 'Points Per Game'})\n",
    "fig.update_layout(\n",
    "    showlegend=True,\n",
    "    annotations=[\n",
    "        dict(\n",
    "            x=1.15,\n",
    "            y=1.10,\n",
    "            xref=\"paper\",\n",
    "            yref=\"paper\",\n",
    "            showarrow=False,\n",
    "            text=\"Bubble Size : Player Form\"\n",
    "        )\n",
    "    ]\n",
    ")\n",
    "\n",
    "fig.show()"
   ]
  },
  {
   "cell_type": "code",
   "execution_count": null,
   "metadata": {},
   "outputs": [],
   "source": []
  }
 ],
 "metadata": {
  "kernelspec": {
   "display_name": "Python 3",
   "language": "python",
   "name": "python3"
  },
  "language_info": {
   "codemirror_mode": {
    "name": "ipython",
    "version": 3
   },
   "file_extension": ".py",
   "mimetype": "text/x-python",
   "name": "python",
   "nbconvert_exporter": "python",
   "pygments_lexer": "ipython3",
   "version": "3.7.10"
  }
 },
 "nbformat": 4,
 "nbformat_minor": 2
}
