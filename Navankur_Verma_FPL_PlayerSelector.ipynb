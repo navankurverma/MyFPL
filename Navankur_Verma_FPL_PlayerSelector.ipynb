{
 "cells": [
  {
   "cell_type": "markdown",
   "metadata": {},
   "source": [
    "\n",
    "# Fantasy Premier League - Player Selector\n",
    "# Navankur Verma - navankurverma@gmail.com"
   ]
  },
  {
   "cell_type": "markdown",
   "metadata": {},
   "source": [
    "[(Parent link)](https://navankurverma.github.io/MyFPL/Navankur_Verma_FPL.html)"
   ]
  },
  {
   "cell_type": "markdown",
   "metadata": {},
   "source": [
    "Libraries Used:"
   ]
  },
  {
   "cell_type": "code",
   "execution_count": 1,
   "metadata": {
    "execution": {
     "iopub.execute_input": "2021-09-17T04:21:23.970911Z",
     "iopub.status.busy": "2021-09-17T04:21:23.970428Z",
     "iopub.status.idle": "2021-09-17T04:21:25.267994Z",
     "shell.execute_reply": "2021-09-17T04:21:25.267029Z"
    }
   },
   "outputs": [],
   "source": [
    "import requests\n",
    "import json\n",
    "import pandas as pd\n",
    "import numpy as np\n",
    "import matplotlib\n",
    "import matplotlib.pyplot as plt\n",
    "import seaborn as sns\n",
    "import cufflinks as cf\n",
    "import plotly.express as px\n",
    "%matplotlib inline"
   ]
  },
  {
   "cell_type": "markdown",
   "metadata": {},
   "source": [
    "### Pull General FPL Data \n",
    "[Move to top](#Fantasy-Premier-League---Player-Selector)"
   ]
  },
  {
   "cell_type": "code",
   "execution_count": 2,
   "metadata": {
    "execution": {
     "iopub.execute_input": "2021-09-17T04:21:25.275364Z",
     "iopub.status.busy": "2021-09-17T04:21:25.271786Z",
     "iopub.status.idle": "2021-09-17T04:21:25.397248Z",
     "shell.execute_reply": "2021-09-17T04:21:25.397640Z"
    }
   },
   "outputs": [],
   "source": [
    "#Whole Data\n",
    "fpl = requests.get(\"https://fantasy.premierleague.com/api/bootstrap-static/\")\n",
    "fpl = fpl.json()"
   ]
  },
  {
   "cell_type": "code",
   "execution_count": 3,
   "metadata": {
    "execution": {
     "iopub.execute_input": "2021-09-17T04:21:25.404959Z",
     "iopub.status.busy": "2021-09-17T04:21:25.404523Z",
     "iopub.status.idle": "2021-09-17T04:21:25.407495Z",
     "shell.execute_reply": "2021-09-17T04:21:25.407128Z"
    }
   },
   "outputs": [],
   "source": [
    "if 'teams' in fpl:\n",
    "    teams = pd.DataFrame(fpl['teams'])\n",
    "    teams = teams.iloc[:,[0,3,5,9,10,14,15,16,17,18,19]] #picking only valuable columns\n",
    "    teams.rename(columns = {'code': 'team_code', 'id': 'team_id', 'name': 'team_name'}, inplace = True)\n",
    "    teams\n",
    "else:\n",
    "    print('Teams data not found')"
   ]
  },
  {
   "cell_type": "code",
   "execution_count": 4,
   "metadata": {
    "execution": {
     "iopub.execute_input": "2021-09-17T04:21:25.413140Z",
     "iopub.status.busy": "2021-09-17T04:21:25.412144Z",
     "iopub.status.idle": "2021-09-17T04:21:25.413701Z",
     "shell.execute_reply": "2021-09-17T04:21:25.414042Z"
    }
   },
   "outputs": [],
   "source": [
    "if 'element_types' in fpl:\n",
    "    element_types = pd.DataFrame(fpl['element_types'])\n",
    "    element_types.rename(columns= {'id': 'element_type'}, inplace = True)\n",
    "    element_types\n",
    "else:\n",
    "    print('Element_types data not found')"
   ]
  },
  {
   "cell_type": "code",
   "execution_count": 5,
   "metadata": {
    "execution": {
     "iopub.execute_input": "2021-09-17T04:21:25.425475Z",
     "iopub.status.busy": "2021-09-17T04:21:25.424712Z",
     "iopub.status.idle": "2021-09-17T04:21:25.427668Z",
     "shell.execute_reply": "2021-09-17T04:21:25.427315Z"
    }
   },
   "outputs": [],
   "source": [
    "if 'elements' in fpl:\n",
    "    players = fpl['elements']\n",
    "    players = pd.DataFrame(players)\n",
    "else:\n",
    "    print('Players data not found')"
   ]
  },
  {
   "cell_type": "markdown",
   "metadata": {},
   "source": [
    "#### Cleaning Public Data\n",
    "[Move to top](#Fantasy-Premier-League---Player-Selector)"
   ]
  },
  {
   "cell_type": "code",
   "execution_count": 6,
   "metadata": {
    "execution": {
     "iopub.execute_input": "2021-09-17T04:21:25.431799Z",
     "iopub.status.busy": "2021-09-17T04:21:25.431383Z",
     "iopub.status.idle": "2021-09-17T04:21:25.438309Z",
     "shell.execute_reply": "2021-09-17T04:21:25.438650Z"
    }
   },
   "outputs": [
    {
     "data": {
      "text/plain": [
       "chance_of_playing_next_round           348\n",
       "chance_of_playing_this_round           362\n",
       "code                                     0\n",
       "cost_change_event                        0\n",
       "cost_change_event_fall                   0\n",
       "                                      ... \n",
       "corners_and_indirect_freekicks_text      0\n",
       "direct_freekicks_order                 521\n",
       "direct_freekicks_text                    0\n",
       "penalties_order                        539\n",
       "penalties_text                           0\n",
       "Length: 67, dtype: int64"
      ]
     },
     "execution_count": 6,
     "metadata": {},
     "output_type": "execute_result"
    }
   ],
   "source": [
    "players.isnull().sum()"
   ]
  },
  {
   "cell_type": "code",
   "execution_count": 7,
   "metadata": {
    "execution": {
     "iopub.execute_input": "2021-09-17T04:21:25.443063Z",
     "iopub.status.busy": "2021-09-17T04:21:25.442195Z",
     "iopub.status.idle": "2021-09-17T04:21:25.443650Z",
     "shell.execute_reply": "2021-09-17T04:21:25.443988Z"
    }
   },
   "outputs": [],
   "source": [
    "#Replacing missing values with Zeroes\n",
    "players['chance_of_playing_next_round'] = players['chance_of_playing_next_round'].fillna(0)\n",
    "players['chance_of_playing_this_round'] = players['chance_of_playing_this_round'].fillna(0)"
   ]
  },
  {
   "cell_type": "code",
   "execution_count": 8,
   "metadata": {
    "execution": {
     "iopub.execute_input": "2021-09-17T04:21:25.448008Z",
     "iopub.status.busy": "2021-09-17T04:21:25.447569Z",
     "iopub.status.idle": "2021-09-17T04:21:25.451883Z",
     "shell.execute_reply": "2021-09-17T04:21:25.451532Z"
    }
   },
   "outputs": [
    {
     "data": {
      "text/plain": [
       "chance_of_playing_next_round             0\n",
       "chance_of_playing_this_round             0\n",
       "code                                     0\n",
       "cost_change_event                        0\n",
       "cost_change_event_fall                   0\n",
       "                                      ... \n",
       "corners_and_indirect_freekicks_text      0\n",
       "direct_freekicks_order                 521\n",
       "direct_freekicks_text                    0\n",
       "penalties_order                        539\n",
       "penalties_text                           0\n",
       "Length: 67, dtype: int64"
      ]
     },
     "execution_count": 8,
     "metadata": {},
     "output_type": "execute_result"
    }
   ],
   "source": [
    "players.isnull().sum()"
   ]
  },
  {
   "cell_type": "markdown",
   "metadata": {},
   "source": [
    "Column Description by its index:  \n",
    "14,12,35,26,27,8 <- id, name, teamName, position  \n",
    "29,30,31,32 <- Transfer details  \n",
    "25,0,1 <- Chances of playing  \n",
    "7, 11,13,15,20,28,18,22 <- fpl related details  \n",
    "36,37,38,39,40,41,42,43,44,45,46,47,48,49,50,51,52 <- onfield stats  \n",
    "Selecting only above columns:"
   ]
  },
  {
   "cell_type": "code",
   "execution_count": 9,
   "metadata": {
    "execution": {
     "iopub.execute_input": "2021-09-17T04:21:25.457402Z",
     "iopub.status.busy": "2021-09-17T04:21:25.456420Z",
     "iopub.status.idle": "2021-09-17T04:21:25.457891Z",
     "shell.execute_reply": "2021-09-17T04:21:25.458224Z"
    }
   },
   "outputs": [],
   "source": [
    "players.rename(columns = {'id': 'element'}, inplace = True)\n",
    "players_details = players.iloc[:,[14,12,35,26,27,8, 36,37,38,39,40,41,42,43,44,45,46,47,48,49,50,51,52, 7,11,13,15,20,28,18,22,29,30,31,32,25,0,1]]"
   ]
  },
  {
   "cell_type": "markdown",
   "metadata": {},
   "source": [
    "Joining players data with their corresponding details and teams:"
   ]
  },
  {
   "cell_type": "code",
   "execution_count": 10,
   "metadata": {
    "execution": {
     "iopub.execute_input": "2021-09-17T04:21:25.464225Z",
     "iopub.status.busy": "2021-09-17T04:21:25.463436Z",
     "iopub.status.idle": "2021-09-17T04:21:25.472506Z",
     "shell.execute_reply": "2021-09-17T04:21:25.472839Z"
    }
   },
   "outputs": [],
   "source": [
    "players_details = players_details.merge(teams[[\"team_code\",\"team_name\"]],\n",
    "                                        on = \"team_code\").merge(element_types[[\"singular_name\",\"element_type\"]],\n",
    "                                                                on = \"element_type\")\n",
    "players_details.drop(['team','team_code'], axis=1, inplace = True)\n",
    "players_details.set_index('element', inplace = True)"
   ]
  },
  {
   "cell_type": "code",
   "execution_count": 11,
   "metadata": {
    "execution": {
     "iopub.execute_input": "2021-09-17T04:21:25.477317Z",
     "iopub.status.busy": "2021-09-17T04:21:25.476707Z",
     "iopub.status.idle": "2021-09-17T04:21:25.489954Z",
     "shell.execute_reply": "2021-09-17T04:21:25.490294Z"
    }
   },
   "outputs": [
    {
     "data": {
      "text/html": [
       "<div>\n",
       "<style scoped>\n",
       "    .dataframe tbody tr th:only-of-type {\n",
       "        vertical-align: middle;\n",
       "    }\n",
       "\n",
       "    .dataframe tbody tr th {\n",
       "        vertical-align: top;\n",
       "    }\n",
       "\n",
       "    .dataframe thead th {\n",
       "        text-align: right;\n",
       "    }\n",
       "</style>\n",
       "<table border=\"1\" class=\"dataframe\">\n",
       "  <thead>\n",
       "    <tr style=\"text-align: right;\">\n",
       "      <th></th>\n",
       "      <th>first_name</th>\n",
       "      <th>web_name</th>\n",
       "      <th>element_type</th>\n",
       "      <th>minutes</th>\n",
       "      <th>goals_scored</th>\n",
       "      <th>assists</th>\n",
       "      <th>clean_sheets</th>\n",
       "      <th>goals_conceded</th>\n",
       "      <th>own_goals</th>\n",
       "      <th>penalties_saved</th>\n",
       "      <th>...</th>\n",
       "      <th>selected_by_percent</th>\n",
       "      <th>transfers_in</th>\n",
       "      <th>transfers_in_event</th>\n",
       "      <th>transfers_out</th>\n",
       "      <th>transfers_out_event</th>\n",
       "      <th>status</th>\n",
       "      <th>chance_of_playing_next_round</th>\n",
       "      <th>chance_of_playing_this_round</th>\n",
       "      <th>team_name</th>\n",
       "      <th>singular_name</th>\n",
       "    </tr>\n",
       "    <tr>\n",
       "      <th>element</th>\n",
       "      <th></th>\n",
       "      <th></th>\n",
       "      <th></th>\n",
       "      <th></th>\n",
       "      <th></th>\n",
       "      <th></th>\n",
       "      <th></th>\n",
       "      <th></th>\n",
       "      <th></th>\n",
       "      <th></th>\n",
       "      <th></th>\n",
       "      <th></th>\n",
       "      <th></th>\n",
       "      <th></th>\n",
       "      <th></th>\n",
       "      <th></th>\n",
       "      <th></th>\n",
       "      <th></th>\n",
       "      <th></th>\n",
       "      <th></th>\n",
       "      <th></th>\n",
       "    </tr>\n",
       "  </thead>\n",
       "  <tbody>\n",
       "    <tr>\n",
       "      <th>1</th>\n",
       "      <td>Bernd</td>\n",
       "      <td>Leno</td>\n",
       "      <td>1</td>\n",
       "      <td>270</td>\n",
       "      <td>0</td>\n",
       "      <td>0</td>\n",
       "      <td>0</td>\n",
       "      <td>9</td>\n",
       "      <td>0</td>\n",
       "      <td>0</td>\n",
       "      <td>...</td>\n",
       "      <td>1.7</td>\n",
       "      <td>46950</td>\n",
       "      <td>3799</td>\n",
       "      <td>98600</td>\n",
       "      <td>21638</td>\n",
       "      <td>a</td>\n",
       "      <td>0.0</td>\n",
       "      <td>0.0</td>\n",
       "      <td>Arsenal</td>\n",
       "      <td>Goalkeeper</td>\n",
       "    </tr>\n",
       "    <tr>\n",
       "      <th>2</th>\n",
       "      <td>Rúnar Alex</td>\n",
       "      <td>Rúnarsson</td>\n",
       "      <td>1</td>\n",
       "      <td>0</td>\n",
       "      <td>0</td>\n",
       "      <td>0</td>\n",
       "      <td>0</td>\n",
       "      <td>0</td>\n",
       "      <td>0</td>\n",
       "      <td>0</td>\n",
       "      <td>...</td>\n",
       "      <td>1.1</td>\n",
       "      <td>19017</td>\n",
       "      <td>0</td>\n",
       "      <td>39166</td>\n",
       "      <td>6803</td>\n",
       "      <td>u</td>\n",
       "      <td>0.0</td>\n",
       "      <td>0.0</td>\n",
       "      <td>Arsenal</td>\n",
       "      <td>Goalkeeper</td>\n",
       "    </tr>\n",
       "    <tr>\n",
       "      <th>532</th>\n",
       "      <td>Karl</td>\n",
       "      <td>Hein</td>\n",
       "      <td>1</td>\n",
       "      <td>0</td>\n",
       "      <td>0</td>\n",
       "      <td>0</td>\n",
       "      <td>0</td>\n",
       "      <td>0</td>\n",
       "      <td>0</td>\n",
       "      <td>0</td>\n",
       "      <td>...</td>\n",
       "      <td>0.6</td>\n",
       "      <td>35129</td>\n",
       "      <td>5509</td>\n",
       "      <td>8448</td>\n",
       "      <td>1954</td>\n",
       "      <td>a</td>\n",
       "      <td>0.0</td>\n",
       "      <td>0.0</td>\n",
       "      <td>Arsenal</td>\n",
       "      <td>Goalkeeper</td>\n",
       "    </tr>\n",
       "    <tr>\n",
       "      <th>559</th>\n",
       "      <td>Aaron</td>\n",
       "      <td>Ramsdale</td>\n",
       "      <td>1</td>\n",
       "      <td>90</td>\n",
       "      <td>0</td>\n",
       "      <td>0</td>\n",
       "      <td>1</td>\n",
       "      <td>0</td>\n",
       "      <td>0</td>\n",
       "      <td>0</td>\n",
       "      <td>...</td>\n",
       "      <td>0.7</td>\n",
       "      <td>57849</td>\n",
       "      <td>42791</td>\n",
       "      <td>13407</td>\n",
       "      <td>8200</td>\n",
       "      <td>a</td>\n",
       "      <td>0.0</td>\n",
       "      <td>0.0</td>\n",
       "      <td>Arsenal</td>\n",
       "      <td>Goalkeeper</td>\n",
       "    </tr>\n",
       "    <tr>\n",
       "      <th>572</th>\n",
       "      <td>Arthur</td>\n",
       "      <td>Okonkwo</td>\n",
       "      <td>1</td>\n",
       "      <td>0</td>\n",
       "      <td>0</td>\n",
       "      <td>0</td>\n",
       "      <td>0</td>\n",
       "      <td>0</td>\n",
       "      <td>0</td>\n",
       "      <td>0</td>\n",
       "      <td>...</td>\n",
       "      <td>0.1</td>\n",
       "      <td>9046</td>\n",
       "      <td>2076</td>\n",
       "      <td>2143</td>\n",
       "      <td>551</td>\n",
       "      <td>a</td>\n",
       "      <td>0.0</td>\n",
       "      <td>0.0</td>\n",
       "      <td>Arsenal</td>\n",
       "      <td>Goalkeeper</td>\n",
       "    </tr>\n",
       "  </tbody>\n",
       "</table>\n",
       "<p>5 rows × 37 columns</p>\n",
       "</div>"
      ],
      "text/plain": [
       "         first_name   web_name  element_type  minutes  goals_scored  assists  \\\n",
       "element                                                                        \n",
       "1             Bernd       Leno             1      270             0        0   \n",
       "2        Rúnar Alex  Rúnarsson             1        0             0        0   \n",
       "532            Karl       Hein             1        0             0        0   \n",
       "559           Aaron   Ramsdale             1       90             0        0   \n",
       "572          Arthur    Okonkwo             1        0             0        0   \n",
       "\n",
       "         clean_sheets  goals_conceded  own_goals  penalties_saved  ...  \\\n",
       "element                                                            ...   \n",
       "1                   0               9          0                0  ...   \n",
       "2                   0               0          0                0  ...   \n",
       "532                 0               0          0                0  ...   \n",
       "559                 1               0          0                0  ...   \n",
       "572                 0               0          0                0  ...   \n",
       "\n",
       "         selected_by_percent  transfers_in  transfers_in_event  transfers_out  \\\n",
       "element                                                                         \n",
       "1                        1.7         46950                3799          98600   \n",
       "2                        1.1         19017                   0          39166   \n",
       "532                      0.6         35129                5509           8448   \n",
       "559                      0.7         57849               42791          13407   \n",
       "572                      0.1          9046                2076           2143   \n",
       "\n",
       "         transfers_out_event  status chance_of_playing_next_round  \\\n",
       "element                                                             \n",
       "1                      21638       a                          0.0   \n",
       "2                       6803       u                          0.0   \n",
       "532                     1954       a                          0.0   \n",
       "559                     8200       a                          0.0   \n",
       "572                      551       a                          0.0   \n",
       "\n",
       "        chance_of_playing_this_round team_name singular_name  \n",
       "element                                                       \n",
       "1                                0.0   Arsenal    Goalkeeper  \n",
       "2                                0.0   Arsenal    Goalkeeper  \n",
       "532                              0.0   Arsenal    Goalkeeper  \n",
       "559                              0.0   Arsenal    Goalkeeper  \n",
       "572                              0.0   Arsenal    Goalkeeper  \n",
       "\n",
       "[5 rows x 37 columns]"
      ]
     },
     "execution_count": 11,
     "metadata": {},
     "output_type": "execute_result"
    }
   ],
   "source": [
    "players_details.head()"
   ]
  },
  {
   "cell_type": "markdown",
   "metadata": {},
   "source": [
    "#### Most Suitable Player to Buy Currently\n",
    "[Move to top](#Fantasy-Premier-League---Player-Selector)"
   ]
  },
  {
   "cell_type": "code",
   "execution_count": 12,
   "metadata": {
    "execution": {
     "iopub.execute_input": "2021-09-17T04:21:25.496888Z",
     "iopub.status.busy": "2021-09-17T04:21:25.496398Z",
     "iopub.status.idle": "2021-09-17T04:21:25.739576Z",
     "shell.execute_reply": "2021-09-17T04:21:25.739960Z"
    }
   },
   "outputs": [
    {
     "data": {
      "text/html": [
       "        <script type=\"text/javascript\">\n",
       "        window.PlotlyConfig = {MathJaxConfig: 'local'};\n",
       "        if (window.MathJax) {MathJax.Hub.Config({SVG: {font: \"STIX-Web\"}});}\n",
       "        if (typeof require !== 'undefined') {\n",
       "        require.undef(\"plotly\");\n",
       "        requirejs.config({\n",
       "            paths: {\n",
       "                'plotly': ['https://cdn.plot.ly/plotly-2.4.2.min']\n",
       "            }\n",
       "        });\n",
       "        require(['plotly'], function(Plotly) {\n",
       "            window._Plotly = Plotly;\n",
       "        });\n",
       "        }\n",
       "        </script>\n",
       "        "
      ]
     },
     "metadata": {},
     "output_type": "display_data"
    },
    {
     "data": {
      "application/vnd.plotly.v1+json": {
       "config": {
        "plotlyServerURL": "https://plot.ly"
       },
       "data": [
        {
         "customdata": [
          [
           "Arsenal"
          ],
          [
           "Arsenal"
          ],
          [
           "Arsenal"
          ],
          [
           "Arsenal"
          ],
          [
           "Arsenal"
          ],
          [
           "Aston Villa"
          ],
          [
           "Aston Villa"
          ],
          [
           "Aston Villa"
          ],
          [
           "Brentford"
          ],
          [
           "Brentford"
          ],
          [
           "Brentford"
          ],
          [
           "Brentford"
          ],
          [
           "Brighton"
          ],
          [
           "Brighton"
          ],
          [
           "Brighton"
          ],
          [
           "Brighton"
          ],
          [
           "Burnley"
          ],
          [
           "Burnley"
          ],
          [
           "Burnley"
          ],
          [
           "Burnley"
          ],
          [
           "Chelsea"
          ],
          [
           "Chelsea"
          ],
          [
           "Crystal Palace"
          ],
          [
           "Crystal Palace"
          ],
          [
           "Crystal Palace"
          ],
          [
           "Everton"
          ],
          [
           "Everton"
          ],
          [
           "Everton"
          ],
          [
           "Everton"
          ],
          [
           "Leicester"
          ],
          [
           "Leicester"
          ],
          [
           "Leicester"
          ],
          [
           "Leeds"
          ],
          [
           "Leeds"
          ],
          [
           "Leeds"
          ],
          [
           "Liverpool"
          ],
          [
           "Liverpool"
          ],
          [
           "Liverpool"
          ],
          [
           "Man City"
          ],
          [
           "Man City"
          ],
          [
           "Man City"
          ],
          [
           "Man Utd"
          ],
          [
           "Man Utd"
          ],
          [
           "Man Utd"
          ],
          [
           "Newcastle"
          ],
          [
           "Newcastle"
          ],
          [
           "Newcastle"
          ],
          [
           "Newcastle"
          ],
          [
           "Norwich"
          ],
          [
           "Norwich"
          ],
          [
           "Norwich"
          ],
          [
           "Southampton"
          ],
          [
           "Southampton"
          ],
          [
           "Spurs"
          ],
          [
           "Spurs"
          ],
          [
           "Spurs"
          ],
          [
           "Watford"
          ],
          [
           "Watford"
          ],
          [
           "Watford"
          ],
          [
           "West Ham"
          ],
          [
           "West Ham"
          ],
          [
           "West Ham"
          ],
          [
           "Wolves"
          ],
          [
           "Wolves"
          ],
          [
           "Wolves"
          ],
          [
           "Wolves"
          ]
         ],
         "hovertemplate": "<b>%{hovertext}</b><br><br>Player Type=Goalkeeper<br>points_per_game=%{x}<br>now_cost=%{y}<br>size=%{marker.size}<br>team_name=%{customdata[0]}<extra></extra>",
         "hovertext": [
          "Bernd Leno",
          "Rúnar Alex Rúnarsson",
          "Karl Hein",
          "Aaron Ramsdale",
          "Arthur Okonkwo",
          "Jed Steer",
          "Emiliano Martínez",
          "Viljami Sinisalo",
          "David Raya",
          "Ellery Balcombe",
          "Patrik Gunnarsson",
          "Álvaro Fernández",
          "Jason Steele",
          "Mathew Ryan",
          "Robert Sánchez",
          "Kjell Scherpen",
          "Nick Pope",
          "Will Norris",
          "Bailey Peacock-Farrell",
          "Wayne Hennessey",
          "Kepa Arrizabalaga",
          "Edouard Mendy",
          "Vicente Guaita",
          "Jack Butland",
          "Remi Matthews",
          "Jordan Pickford",
          "João Virgínia",
          "Asmir Begović",
          "Andy Lonergan",
          "Kasper Schmeichel",
          "Danny Ward",
          "Eldin Jakupovic",
          "Francisco Casilla",
          "Illan Meslier",
          "Kristoffer Klaesson",
          "Adrián Adrián",
          "Alisson Alisson",
          "Caoimhin Kelleher",
          "Ederson Ederson",
          "Zack Steffen",
          "Scott Carson",
          "David de Gea",
          "Dean Henderson",
          "Tom Heaton",
          "Karl Darlow",
          "Martin Dubravka",
          "Freddie Woodman",
          "Mark Gillespie",
          "Michael McGovern",
          "Tim Krul",
          "Angus Gunn",
          "Fraser Forster",
          "Alex McCarthy",
          "Joe Hart",
          "Hugo Lloris",
          "Pierluigi Gollini",
          "Ben Foster",
          "Daniel Bachmann",
          "Robert Elliot",
          "Darren Randolph",
          "Lukasz Fabianski",
          "Alphonse Areola",
          "Rui Pedro Patrício",
          "Andreas Söndergaard",
          "John Ruddy",
          "José Sá"
         ],
         "legendgroup": "Goalkeeper",
         "marker": {
          "color": "#636efa",
          "size": [
           2.55,
           1.0499999999999998,
           1.0499999999999998,
           4.050000000000001,
           1.0499999999999998,
           1.5,
           4.5,
           1.0499999999999998,
           6.6000000000000005,
           1.0499999999999998,
           1.0499999999999998,
           1.0499999999999998,
           1.0499999999999998,
           1.0499999999999998,
           8.100000000000001,
           1.0499999999999998,
           4.5,
           1.0499999999999998,
           1.0499999999999998,
           1.0499999999999998,
           1.0499999999999998,
           11.100000000000001,
           9.0,
           1.0499999999999998,
           1.0499999999999998,
           6.0,
           1.0499999999999998,
           1.0499999999999998,
           1.0499999999999998,
           5.1000000000000005,
           1.0499999999999998,
           1.0499999999999998,
           1.0499999999999998,
           4.5,
           1.0499999999999998,
           1.0499999999999998,
           10.5,
           1.0499999999999998,
           10.05,
           1.0499999999999998,
           1.0499999999999998,
           7.050000000000001,
           1.0499999999999998,
           1.0499999999999998,
           1.0499999999999998,
           1.0499999999999998,
           2.55,
           1.0499999999999998,
           1.0499999999999998,
           2.0999999999999996,
           1.0499999999999998,
           1.0499999999999998,
           6.0,
           1.0499999999999998,
           10.05,
           1.0499999999999998,
           1.0499999999999998,
           4.5,
           1.0499999999999998,
           1.0499999999999998,
           5.550000000000001,
           1.0499999999999998,
           1.0499999999999998,
           1.0499999999999998,
           1.0499999999999998,
           6.6000000000000005
          ],
          "sizemode": "area",
          "sizeref": 0.05137499999999999,
          "symbol": "circle"
         },
         "mode": "markers",
         "name": "Goalkeeper",
         "orientation": "v",
         "showlegend": true,
         "type": "scatter",
         "x": [
          1.3,
          0.0,
          0.0,
          6.0,
          0.0,
          1.0,
          3.0,
          0.0,
          4.8,
          0.0,
          0.0,
          0.0,
          0.0,
          0.0,
          4.0,
          0.0,
          2.2,
          0.0,
          0.0,
          0.0,
          0.0,
          6.5,
          4.5,
          0.0,
          0.0,
          3.0,
          0.0,
          0.0,
          0.0,
          4.2,
          0.0,
          0.0,
          0.0,
          2.0,
          0.0,
          0.0,
          6.5,
          0.0,
          5.0,
          0.0,
          0.0,
          3.5,
          0.0,
          0.0,
          0.0,
          0.0,
          2.2,
          0.0,
          0.0,
          1.0,
          0.0,
          0.0,
          3.0,
          0.0,
          7.0,
          0.0,
          0.0,
          2.0,
          0.0,
          0.0,
          2.5,
          0.0,
          0.0,
          0.0,
          0.0,
          3.5
         ],
         "xaxis": "x",
         "y": [
          4.9,
          4.0,
          4.0,
          4.5,
          4.0,
          4.0,
          5.5,
          4.0,
          4.6,
          4.0,
          4.0,
          4.5,
          4.0,
          4.5,
          4.5,
          4.5,
          5.5,
          4.5,
          4.5,
          4.5,
          4.9,
          6.0,
          4.5,
          4.5,
          4.0,
          5.0,
          4.0,
          4.0,
          4.0,
          5.0,
          4.0,
          4.0,
          4.5,
          5.0,
          4.5,
          4.5,
          6.0,
          4.5,
          6.0,
          4.5,
          4.0,
          5.0,
          4.9,
          4.0,
          4.5,
          4.5,
          4.5,
          4.0,
          4.0,
          4.5,
          4.0,
          4.5,
          4.5,
          4.5,
          5.6,
          4.4,
          4.0,
          4.5,
          4.0,
          4.5,
          5.0,
          4.9,
          5.0,
          4.0,
          4.5,
          5.0
         ],
         "yaxis": "y"
        },
        {
         "customdata": [
          [
           "Arsenal"
          ],
          [
           "Arsenal"
          ],
          [
           "Arsenal"
          ],
          [
           "Arsenal"
          ],
          [
           "Arsenal"
          ],
          [
           "Arsenal"
          ],
          [
           "Arsenal"
          ],
          [
           "Arsenal"
          ],
          [
           "Arsenal"
          ],
          [
           "Arsenal"
          ],
          [
           "Arsenal"
          ],
          [
           "Arsenal"
          ],
          [
           "Arsenal"
          ],
          [
           "Arsenal"
          ],
          [
           "Aston Villa"
          ],
          [
           "Aston Villa"
          ],
          [
           "Aston Villa"
          ],
          [
           "Aston Villa"
          ],
          [
           "Aston Villa"
          ],
          [
           "Aston Villa"
          ],
          [
           "Aston Villa"
          ],
          [
           "Aston Villa"
          ],
          [
           "Aston Villa"
          ],
          [
           "Aston Villa"
          ],
          [
           "Aston Villa"
          ],
          [
           "Aston Villa"
          ],
          [
           "Aston Villa"
          ],
          [
           "Aston Villa"
          ],
          [
           "Brentford"
          ],
          [
           "Brentford"
          ],
          [
           "Brentford"
          ],
          [
           "Brentford"
          ],
          [
           "Brentford"
          ],
          [
           "Brentford"
          ],
          [
           "Brentford"
          ],
          [
           "Brentford"
          ],
          [
           "Brentford"
          ],
          [
           "Brentford"
          ],
          [
           "Brentford"
          ],
          [
           "Brentford"
          ],
          [
           "Brentford"
          ],
          [
           "Brighton"
          ],
          [
           "Brighton"
          ],
          [
           "Brighton"
          ],
          [
           "Brighton"
          ],
          [
           "Brighton"
          ],
          [
           "Brighton"
          ],
          [
           "Brighton"
          ],
          [
           "Brighton"
          ],
          [
           "Brighton"
          ],
          [
           "Brighton"
          ],
          [
           "Brighton"
          ],
          [
           "Brighton"
          ],
          [
           "Brighton"
          ],
          [
           "Burnley"
          ],
          [
           "Burnley"
          ],
          [
           "Burnley"
          ],
          [
           "Burnley"
          ],
          [
           "Burnley"
          ],
          [
           "Burnley"
          ],
          [
           "Burnley"
          ],
          [
           "Burnley"
          ],
          [
           "Burnley"
          ],
          [
           "Chelsea"
          ],
          [
           "Chelsea"
          ],
          [
           "Chelsea"
          ],
          [
           "Chelsea"
          ],
          [
           "Chelsea"
          ],
          [
           "Chelsea"
          ],
          [
           "Chelsea"
          ],
          [
           "Chelsea"
          ],
          [
           "Chelsea"
          ],
          [
           "Chelsea"
          ],
          [
           "Chelsea"
          ],
          [
           "Crystal Palace"
          ],
          [
           "Crystal Palace"
          ],
          [
           "Crystal Palace"
          ],
          [
           "Crystal Palace"
          ],
          [
           "Crystal Palace"
          ],
          [
           "Crystal Palace"
          ],
          [
           "Crystal Palace"
          ],
          [
           "Crystal Palace"
          ],
          [
           "Crystal Palace"
          ],
          [
           "Crystal Palace"
          ],
          [
           "Crystal Palace"
          ],
          [
           "Everton"
          ],
          [
           "Everton"
          ],
          [
           "Everton"
          ],
          [
           "Everton"
          ],
          [
           "Everton"
          ],
          [
           "Everton"
          ],
          [
           "Everton"
          ],
          [
           "Everton"
          ],
          [
           "Everton"
          ],
          [
           "Everton"
          ],
          [
           "Everton"
          ],
          [
           "Everton"
          ],
          [
           "Everton"
          ],
          [
           "Leicester"
          ],
          [
           "Leicester"
          ],
          [
           "Leicester"
          ],
          [
           "Leicester"
          ],
          [
           "Leicester"
          ],
          [
           "Leicester"
          ],
          [
           "Leicester"
          ],
          [
           "Leicester"
          ],
          [
           "Leicester"
          ],
          [
           "Leicester"
          ],
          [
           "Leicester"
          ],
          [
           "Leicester"
          ],
          [
           "Leeds"
          ],
          [
           "Leeds"
          ],
          [
           "Leeds"
          ],
          [
           "Leeds"
          ],
          [
           "Leeds"
          ],
          [
           "Leeds"
          ],
          [
           "Leeds"
          ],
          [
           "Leeds"
          ],
          [
           "Leeds"
          ],
          [
           "Leeds"
          ],
          [
           "Leeds"
          ],
          [
           "Leeds"
          ],
          [
           "Leeds"
          ],
          [
           "Leeds"
          ],
          [
           "Liverpool"
          ],
          [
           "Liverpool"
          ],
          [
           "Liverpool"
          ],
          [
           "Liverpool"
          ],
          [
           "Liverpool"
          ],
          [
           "Liverpool"
          ],
          [
           "Liverpool"
          ],
          [
           "Liverpool"
          ],
          [
           "Liverpool"
          ],
          [
           "Liverpool"
          ],
          [
           "Liverpool"
          ],
          [
           "Liverpool"
          ],
          [
           "Liverpool"
          ],
          [
           "Liverpool"
          ],
          [
           "Man City"
          ],
          [
           "Man City"
          ],
          [
           "Man City"
          ],
          [
           "Man City"
          ],
          [
           "Man City"
          ],
          [
           "Man City"
          ],
          [
           "Man City"
          ],
          [
           "Man City"
          ],
          [
           "Man City"
          ],
          [
           "Man City"
          ],
          [
           "Man City"
          ],
          [
           "Man City"
          ],
          [
           "Man City"
          ],
          [
           "Man Utd"
          ],
          [
           "Man Utd"
          ],
          [
           "Man Utd"
          ],
          [
           "Man Utd"
          ],
          [
           "Man Utd"
          ],
          [
           "Man Utd"
          ],
          [
           "Man Utd"
          ],
          [
           "Man Utd"
          ],
          [
           "Man Utd"
          ],
          [
           "Man Utd"
          ],
          [
           "Man Utd"
          ],
          [
           "Man Utd"
          ],
          [
           "Man Utd"
          ],
          [
           "Newcastle"
          ],
          [
           "Newcastle"
          ],
          [
           "Newcastle"
          ],
          [
           "Newcastle"
          ],
          [
           "Newcastle"
          ],
          [
           "Newcastle"
          ],
          [
           "Newcastle"
          ],
          [
           "Newcastle"
          ],
          [
           "Newcastle"
          ],
          [
           "Newcastle"
          ],
          [
           "Norwich"
          ],
          [
           "Norwich"
          ],
          [
           "Norwich"
          ],
          [
           "Norwich"
          ],
          [
           "Norwich"
          ],
          [
           "Norwich"
          ],
          [
           "Norwich"
          ],
          [
           "Norwich"
          ],
          [
           "Norwich"
          ],
          [
           "Norwich"
          ],
          [
           "Norwich"
          ],
          [
           "Norwich"
          ],
          [
           "Norwich"
          ],
          [
           "Southampton"
          ],
          [
           "Southampton"
          ],
          [
           "Southampton"
          ],
          [
           "Southampton"
          ],
          [
           "Southampton"
          ],
          [
           "Southampton"
          ],
          [
           "Southampton"
          ],
          [
           "Southampton"
          ],
          [
           "Southampton"
          ],
          [
           "Southampton"
          ],
          [
           "Spurs"
          ],
          [
           "Spurs"
          ],
          [
           "Spurs"
          ],
          [
           "Spurs"
          ],
          [
           "Spurs"
          ],
          [
           "Spurs"
          ],
          [
           "Spurs"
          ],
          [
           "Spurs"
          ],
          [
           "Spurs"
          ],
          [
           "Spurs"
          ],
          [
           "Spurs"
          ],
          [
           "Spurs"
          ],
          [
           "Watford"
          ],
          [
           "Watford"
          ],
          [
           "Watford"
          ],
          [
           "Watford"
          ],
          [
           "Watford"
          ],
          [
           "Watford"
          ],
          [
           "Watford"
          ],
          [
           "Watford"
          ],
          [
           "Watford"
          ],
          [
           "Watford"
          ],
          [
           "Watford"
          ],
          [
           "Watford"
          ],
          [
           "Watford"
          ],
          [
           "Watford"
          ],
          [
           "Watford"
          ],
          [
           "West Ham"
          ],
          [
           "West Ham"
          ],
          [
           "West Ham"
          ],
          [
           "West Ham"
          ],
          [
           "West Ham"
          ],
          [
           "West Ham"
          ],
          [
           "West Ham"
          ],
          [
           "West Ham"
          ],
          [
           "West Ham"
          ],
          [
           "West Ham"
          ],
          [
           "West Ham"
          ],
          [
           "Wolves"
          ],
          [
           "Wolves"
          ],
          [
           "Wolves"
          ],
          [
           "Wolves"
          ],
          [
           "Wolves"
          ],
          [
           "Wolves"
          ],
          [
           "Wolves"
          ],
          [
           "Wolves"
          ],
          [
           "Wolves"
          ],
          [
           "Wolves"
          ],
          [
           "Wolves"
          ]
         ],
         "hovertemplate": "<b>%{hovertext}</b><br><br>Player Type=Midfielder<br>points_per_game=%{x}<br>now_cost=%{y}<br>size=%{marker.size}<br>team_name=%{customdata[0]}<extra></extra>",
         "hovertext": [
          "Willian Willian",
          "Granit Xhaka",
          "Mohamed Naser Elneny",
          "Ainsley Maitland-Niles",
          "Thomas Partey",
          "Nicolas Pépé",
          "Lucas Torreira",
          "Emile Smith Rowe",
          "Bukayo Saka",
          "Mattéo Guendouzi",
          "Gabriel Teodoro Martinelli",
          "Albert Sambi Lokonga",
          "Reiss Nelson",
          "Martin Ødegaard",
          "Conor Hourihane",
          "Bertrand Traoré",
          "Morgan Sanson",
          "John McGinn",
          "Mahmoud Ahmed Trézéguet",
          "Marvelous Nakamba",
          "Anwar El Ghazi",
          "Emiliano Buendía",
          "Douglas Luiz Douglas Luiz",
          "Jacob Ramsey",
          "Leon Bailey",
          "Aaron Ramsey",
          "Jaden Philogene-Bidace",
          "Carney Chukwuemeka",
          "Christian Nørgaard",
          "Tariqe Fosu",
          "Sergi Canós",
          "Pelenda Joshua Dasilva",
          "Vitaly Janelt",
          "Saman Ghoddos",
          "Mathias Jensen",
          "Jan Zamburek",
          "Bryan Mbeumo",
          "Mads Bidstrup",
          "Frank Onyeka",
          "Shandon Baptiste",
          "Yoane Wissa",
          "Adam Lallana",
          "Pascal Groß",
          "Davy Pröpper",
          "Solomon March",
          "Leandro Trossard",
          "Alireza Jahanbakhsh",
          "Yves Bissouma",
          "Steven Alzate",
          "Alexis Mac Allister",
          "Jakub Moder",
          "Enock Mwepu",
          "Taylor Richards",
          "Moisés Caicedo",
          "Jack Cork",
          "Dale Stephens",
          "Ashley Westwood",
          "Johann Berg Gudmundsson",
          "Josh Brownhill",
          "Josh Benson",
          "Dwight McNeil",
          "Aaron Lennon",
          "Maxwel Cornet",
          "Jorge Luiz Jorginho",
          "Ross Barkley",
          "Mateo Kovacic",
          "N'Golo Kanté",
          "Hakim Ziyech",
          "Ruben Loftus-Cheek",
          "Christian Pulisic",
          "Mason Mount",
          "Callum Hudson-Odoi",
          "Kai Havertz",
          "Saúl Saúl",
          "Conor Gallagher",
          "James McArthur",
          "Luka Milivojevic",
          "Wilfried Zaha",
          "Jeffrey Schlupp",
          "Jairo Riedewald",
          "Eberechi Eze",
          "Will Hughes",
          "Michael Olise",
          "Jesurun Rak-Sakyi",
          "Scott Banks",
          "Fabian Delph",
          "Gylfi Sigurdsson",
          "James James",
          "Bernard Bernard",
          "Allan Allan",
          "André Filipe André Gomes",
          "Abdoulaye Doucouré",
          "Alex Iwobi",
          "Tom Davies",
          "Andros Townsend",
          "Demarai Gray",
          "Anthony Gordon",
          "Jean-Philippe Gbamin",
          "Marc Albrighton",
          "Nampalys Mendy",
          "Dennis Praet",
          "Youri Tielemans",
          "Ayoze Pérez",
          "James Maddison",
          "Hamza Choudhury",
          "Harvey Barnes",
          "Wilfred Ndidi",
          "Boubakary Soumaré",
          "Kiernan Dewsbury-Hall",
          "Ademola Lookman",
          "Pablo Hernández",
          "Mateusz Klich",
          "Stuart Dallas",
          "Kalvin Phillips",
          "Hélder Wander Costa",
          "Tyler Roberts",
          "Ian Carlo Poveda",
          "Raphael Raphinha",
          "Jamie Shackleton",
          "Jack Harrison",
          "Daniel James",
          "Crysencio Summerville",
          "Adam Forshaw",
          "Liam McCarron",
          "James Milner",
          "Jordan Henderson",
          "Thiago Thiago",
          "Xherdan Shaqiri",
          "Alex Chamberlain",
          "Sadio Mané",
          "Fabio Henrique Fabinho",
          "Mohamed Salah",
          "Takumi Minamino",
          "Naby Keita",
          "Diogo Jota",
          "Curtis Jones",
          "Harvey Elliott",
          "Ben Woodburn",
          "Jack Grealish",
          "Ilkay Gündogan",
          "Kevin De Bruyne",
          "Riyad Mahrez",
          "Raheem Sterling",
          "Bernardo Mota Bernardo",
          "Phil Foden",
          "Rodrigo Rodrigo",
          "Ferran Torres",
          "Fernando Fernandinho",
          "Cole Palmer",
          "Samuel Edozie",
          "Tommy Doyle",
          "Nemanja Matic",
          "Paul Pogba",
          "Frederico Fred",
          "Jesse Lingard",
          "Bruno Miguel Fernandes",
          "Marcus Rashford",
          "Donny van de Beek",
          "Scott McTominay",
          "Mason Greenwood",
          "Juan Mata",
          "Jadon Sancho",
          "Andreas Pereira",
          "Anthony Elanga",
          "Joseph Willock",
          "Jonjo Shelvey",
          "Jeff Hendrick",
          "Ryan Fraser",
          "Jacob Murphy",
          "Isaac Hayden",
          "Miguel Almirón",
          "Sean S.Longstaff",
          "Matthew M.Longstaff",
          "Joe White",
          "Billy Gilmour",
          "Marco Stiepermann",
          "Lukas Rupp",
          "Kenny McLean",
          "Onel Hernández",
          "Kieran Dowell",
          "Todd Cantwell",
          "Przemyslaw Placheta",
          "Josh Martin",
          "Milot Rashica",
          "Pierre Lees-Melou",
          "Christos Tzolis",
          "Mathias Normann",
          "Theo Walcott",
          "Oriol Romeu",
          "Nathan Redmond",
          "Stuart S.Armstrong",
          "James Ward-Prowse",
          "Nathan Tella",
          "William Smallbone",
          "Ibrahima Diallo",
          "Moussa Djenepo",
          "Mohamed Elyounoussi",
          "Erik Lamela",
          "Heung-Min Son",
          "Lucas Lucas Moura",
          "Bamidele Dele",
          "Pierre-Emile Højbjerg",
          "Harry Winks",
          "Steven Bergwijn",
          "Giovani Lo Celso",
          "Oliver Skipp",
          "Tanguy Ndombele",
          "Bryan Bryan",
          "Dilan Markanday",
          "Moussa Sissoko",
          "Dan Gosling",
          "Tom Cleverley",
          "Nathaniel Chalobah",
          "Ken Sema",
          "Philip Zinckernagel",
          "Ayotomiwa Dele-Bashiru",
          "Domingos Quina",
          "Ismaila Sarr",
          "Joseph Hungbo",
          "Imrân Louza",
          "Kwadwo Baah",
          "Oghenekaro Peter Etebo",
          "Juraj Kucka",
          "Ozan Tufan",
          "Mark Noble",
          "Andriy Yarmolenko",
          "Manuel Lanzini",
          "Saïd Benrahma",
          "Jarrod Bowen",
          "Declan Rice",
          "Tomas Soucek",
          "Pablo Fornals",
          "Conor Coventry",
          "Nikola Vlasic",
          "Alex Kral",
          "João Filipe Iria Moutinho",
          "Leander Dendoncker",
          "Adama Traoré",
          "Rúben Diogo Neves",
          "Daniel Podence",
          "Morgan Gibbs-White",
          "Pedro Neto",
          "Owen Otasowie",
          "Francisco Trincão",
          "Luke Cundle",
          "Chem Campbell"
         ],
         "legendgroup": "Midfielder",
         "marker": {
          "color": "#EF553B",
          "size": [
           1.0499999999999998,
           1.0499999999999998,
           1.5,
           3.0,
           1.0499999999999998,
           5.1000000000000005,
           1.0499999999999998,
           3.5999999999999996,
           4.050000000000001,
           1.0499999999999998,
           2.0999999999999996,
           3.0,
           1.0499999999999998,
           3.5999999999999996,
           1.0499999999999998,
           1.5,
           1.0499999999999998,
           3.0,
           1.0499999999999998,
           2.0999999999999996,
           6.0,
           7.050000000000001,
           4.050000000000001,
           2.55,
           1.5,
           1.0499999999999998,
           1.5,
           2.0999999999999996,
           3.5999999999999996,
           1.0499999999999998,
           4.5,
           1.0499999999999998,
           4.5,
           2.55,
           2.0999999999999996,
           1.0499999999999998,
           4.050000000000001,
           1.5,
           3.0,
           3.0,
           2.0999999999999996,
           4.5,
           5.1000000000000005,
           1.0499999999999998,
           2.55,
           9.0,
           1.0499999999999998,
           7.050000000000001,
           1.0499999999999998,
           5.1000000000000005,
           3.0,
           1.0499999999999998,
           1.5,
           1.0499999999999998,
           2.0999999999999996,
           1.0499999999999998,
           3.0,
           6.0,
           3.0,
           1.0499999999999998,
           4.5,
           1.7999999999999998,
           1.0499999999999998,
           4.050000000000001,
           1.0499999999999998,
           9.600000000000001,
           2.0999999999999996,
           3.0,
           1.0499999999999998,
           1.0499999999999998,
           5.1000000000000005,
           2.55,
           7.5,
           2.55,
           14.099999999999998,
           7.050000000000001,
           1.5,
           9.600000000000001,
           3.0,
           1.0499999999999998,
           1.0499999999999998,
           1.0499999999999998,
           1.5,
           1.0499999999999998,
           1.0499999999999998,
           1.5,
           1.0499999999999998,
           1.0499999999999998,
           1.0499999999999998,
           7.050000000000001,
           2.0999999999999996,
           9.600000000000001,
           3.0,
           1.0499999999999998,
           9.0,
           13.049999999999999,
           1.0499999999999998,
           1.0499999999999998,
           5.550000000000001,
           1.0499999999999998,
           1.0499999999999998,
           6.6000000000000005,
           0.0,
           4.050000000000001,
           1.0499999999999998,
           4.050000000000001,
           4.050000000000001,
           1.5,
           1.5,
           2.55,
           1.0499999999999998,
           5.550000000000001,
           4.050000000000001,
           3.5999999999999996,
           1.0499999999999998,
           2.55,
           1.0499999999999998,
           6.6000000000000005,
           3.5999999999999996,
           4.050000000000001,
           2.0999999999999996,
           1.0499999999999998,
           1.0499999999999998,
           1.0499999999999998,
           1.0499999999999998,
           4.050000000000001,
           5.550000000000001,
           1.0499999999999998,
           1.5,
           11.55,
           5.550000000000001,
           11.55,
           1.0499999999999998,
           3.0,
           7.050000000000001,
           1.0499999999999998,
           5.1000000000000005,
           1.0499999999999998,
           9.600000000000001,
           8.100000000000001,
           1.0499999999999998,
           6.0,
           5.1000000000000005,
           9.600000000000001,
           1.0499999999999998,
           7.050000000000001,
           13.049999999999999,
           1.5,
           1.5,
           1.0499999999999998,
           1.0499999999999998,
           3.0,
           8.55,
           2.0999999999999996,
           4.5,
           6.6000000000000005,
           1.0499999999999998,
           1.5,
           1.5,
           12.600000000000001,
           1.0499999999999998,
           4.050000000000001,
           1.0499999999999998,
           1.0499999999999998,
           4.050000000000001,
           1.0499999999999998,
           1.5,
           3.5999999999999996,
           4.5,
           2.0999999999999996,
           4.050000000000001,
           3.5999999999999996,
           1.0499999999999998,
           1.0499999999999998,
           3.0,
           1.0499999999999998,
           3.0,
           3.5999999999999996,
           1.0499999999999998,
           2.55,
           3.0,
           1.0499999999999998,
           1.0499999999999998,
           3.5999999999999996,
           5.1000000000000005,
           2.0999999999999996,
           1.0499999999999998,
           1.5,
           3.0,
           3.0,
           1.0499999999999998,
           7.5,
           1.0499999999999998,
           1.0499999999999998,
           2.55,
           3.0,
           6.6000000000000005,
           1.0499999999999998,
           7.5,
           3.5999999999999996,
           7.5,
           4.5,
           2.0999999999999996,
           5.550000000000001,
           1.5,
           4.050000000000001,
           1.0499999999999998,
           1.5,
           1.0499999999999998,
           2.55,
           1.0499999999999998,
           2.55,
           1.0499999999999998,
           2.55,
           1.0499999999999998,
           1.0499999999999998,
           1.0499999999999998,
           4.050000000000001,
           1.0499999999999998,
           1.5,
           1.0499999999999998,
           3.0,
           3.0,
           1.0499999999999998,
           1.5,
           2.55,
           1.5,
           9.600000000000001,
           4.5,
           5.550000000000001,
           4.5,
           10.05,
           1.0499999999999998,
           2.55,
           1.0499999999999998,
           5.1000000000000005,
           1.5,
           4.5,
           4.050000000000001,
           2.0999999999999996,
           1.0499999999999998,
           1.0499999999999998,
           1.0499999999999998,
           5.1000000000000005,
           1.0499999999999998,
           1.0499999999999998
          ],
          "sizemode": "area",
          "sizeref": 0.05137499999999999,
          "symbol": "circle"
         },
         "mode": "markers",
         "name": "Midfielder",
         "orientation": "v",
         "showlegend": true,
         "type": "scatter",
         "x": [
          0.0,
          0.7,
          1.0,
          2.0,
          0.0,
          3.3,
          0.0,
          1.8,
          1.8,
          0.0,
          2.0,
          2.0,
          1.0,
          2.5,
          0.0,
          2.5,
          0.0,
          3.7,
          0.0,
          1.3,
          3.7,
          4.7,
          2.0,
          1.3,
          2.5,
          0.0,
          1.0,
          2.0,
          3.2,
          0.0,
          4.5,
          0.0,
          2.5,
          1.5,
          1.0,
          0.0,
          2.2,
          1.0,
          2.3,
          2.0,
          1.0,
          2.0,
          4.7,
          0.0,
          1.7,
          4.5,
          0.0,
          3.5,
          2.0,
          4.2,
          2.0,
          0.5,
          1.0,
          0.0,
          2.0,
          0.0,
          3.7,
          2.8,
          1.2,
          0.0,
          2.2,
          0.5,
          0.0,
          2.2,
          0.0,
          5.8,
          1.0,
          2.0,
          0.0,
          8.0,
          4.7,
          3.0,
          3.5,
          1.0,
          8.7,
          3.5,
          1.0,
          4.8,
          1.7,
          2.0,
          0.0,
          0.0,
          1.0,
          1.0,
          0.0,
          1.0,
          0.0,
          0.0,
          0.0,
          3.5,
          1.0,
          6.2,
          2.0,
          0.0,
          5.2,
          6.5,
          1.0,
          0.0,
          4.5,
          0.0,
          0.0,
          3.5,
          0.5,
          2.2,
          0.0,
          2.2,
          2.2,
          1.0,
          1.0,
          1.0,
          0.0,
          5.5,
          2.8,
          1.7,
          1.0,
          1.0,
          0.0,
          3.0,
          2.5,
          2.0,
          1.3,
          0.0,
          0.0,
          0.0,
          2.0,
          2.0,
          3.0,
          0.0,
          2.0,
          6.0,
          3.3,
          9.5,
          0.0,
          2.3,
          5.0,
          0.0,
          2.2,
          0.0,
          4.5,
          4.0,
          1.0,
          4.0,
          2.5,
          5.7,
          0.0,
          4.0,
          6.5,
          1.5,
          1.0,
          0.0,
          0.0,
          1.7,
          7.8,
          3.0,
          3.5,
          7.8,
          0.0,
          1.0,
          1.5,
          7.8,
          0.0,
          1.8,
          0.0,
          0.0,
          2.0,
          1.0,
          1.0,
          2.0,
          3.5,
          1.3,
          2.0,
          1.5,
          0.0,
          0.0,
          2.0,
          0.0,
          1.5,
          1.7,
          0.0,
          2.0,
          1.2,
          0.0,
          0.0,
          1.8,
          2.5,
          2.0,
          0.0,
          1.5,
          1.5,
          1.7,
          0.0,
          3.8,
          1.0,
          0.0,
          1.0,
          1.5,
          5.5,
          0.0,
          7.7,
          1.8,
          4.0,
          2.5,
          1.0,
          5.0,
          1.0,
          2.2,
          0.0,
          1.0,
          0.0,
          1.5,
          1.0,
          2.7,
          0.0,
          1.3,
          0.0,
          0.0,
          0.0,
          3.8,
          0.0,
          1.0,
          0.0,
          1.2,
          2.0,
          0.0,
          1.0,
          1.0,
          1.0,
          7.2,
          2.2,
          2.8,
          3.8,
          5.8,
          0.0,
          1.0,
          0.0,
          2.5,
          1.0,
          2.2,
          2.0,
          1.0,
          0.5,
          0.0,
          0.0,
          2.5,
          0.0,
          0.0
         ],
         "xaxis": "x",
         "y": [
          6.3,
          4.9,
          4.5,
          5.4,
          5.0,
          7.2,
          4.5,
          5.3,
          6.3,
          4.5,
          5.3,
          5.0,
          5.0,
          5.5,
          4.9,
          5.9,
          5.0,
          5.9,
          5.5,
          4.5,
          6.0,
          6.4,
          4.5,
          4.5,
          6.4,
          4.5,
          5.0,
          4.5,
          5.0,
          5.2,
          5.5,
          5.4,
          5.0,
          5.4,
          4.9,
          4.5,
          5.5,
          4.5,
          4.9,
          5.0,
          5.9,
          5.4,
          6.0,
          4.5,
          5.4,
          6.4,
          5.5,
          4.6,
          5.0,
          5.5,
          4.5,
          5.9,
          4.5,
          4.5,
          4.5,
          4.5,
          5.4,
          5.5,
          4.5,
          4.5,
          5.9,
          5.0,
          6.0,
          5.9,
          5.3,
          5.1,
          4.9,
          7.4,
          5.4,
          7.9,
          7.4,
          5.3,
          8.3,
          5.5,
          5.6,
          4.5,
          5.4,
          6.9,
          5.4,
          4.9,
          5.9,
          4.9,
          5.4,
          4.5,
          4.5,
          4.4,
          6.8,
          6.9,
          5.5,
          4.6,
          4.9,
          5.5,
          5.9,
          4.9,
          5.4,
          5.7,
          4.5,
          4.5,
          5.4,
          4.4,
          4.9,
          6.5,
          5.8,
          6.8,
          4.5,
          6.8,
          5.0,
          4.9,
          4.5,
          6.0,
          5.5,
          5.5,
          5.4,
          4.9,
          5.4,
          4.9,
          4.5,
          6.5,
          4.5,
          5.8,
          6.0,
          4.5,
          4.5,
          4.5,
          4.9,
          5.0,
          5.4,
          5.9,
          5.9,
          11.9,
          5.4,
          12.5,
          5.2,
          5.0,
          7.7,
          5.0,
          5.5,
          4.5,
          8.0,
          7.3,
          11.9,
          8.8,
          10.8,
          6.9,
          7.9,
          5.5,
          7.2,
          4.9,
          4.5,
          4.9,
          4.5,
          4.5,
          7.8,
          5.0,
          6.9,
          12.0,
          9.4,
          5.8,
          5.4,
          7.7,
          4.9,
          9.1,
          5.0,
          4.9,
          6.0,
          5.4,
          4.9,
          5.4,
          5.0,
          4.5,
          5.4,
          4.5,
          4.5,
          4.5,
          4.5,
          5.0,
          4.5,
          4.9,
          4.9,
          5.3,
          5.4,
          4.9,
          5.0,
          5.4,
          5.0,
          5.0,
          4.5,
          5.9,
          4.5,
          5.9,
          5.8,
          6.4,
          4.8,
          4.5,
          4.5,
          5.5,
          5.5,
          6.0,
          10.0,
          6.5,
          6.5,
          5.0,
          4.5,
          6.0,
          5.9,
          4.5,
          5.8,
          5.9,
          4.5,
          4.5,
          4.9,
          5.0,
          5.0,
          5.4,
          5.5,
          4.5,
          4.5,
          6.0,
          4.5,
          5.4,
          4.5,
          4.5,
          5.5,
          5.0,
          4.5,
          5.3,
          5.8,
          6.4,
          6.3,
          5.0,
          6.0,
          6.0,
          4.5,
          6.0,
          4.5,
          5.0,
          4.9,
          6.0,
          5.5,
          5.5,
          4.5,
          6.4,
          4.5,
          5.9,
          4.5,
          4.5
         ],
         "yaxis": "y"
        },
        {
         "customdata": [
          [
           "Arsenal"
          ],
          [
           "Arsenal"
          ],
          [
           "Arsenal"
          ],
          [
           "Arsenal"
          ],
          [
           "Aston Villa"
          ],
          [
           "Aston Villa"
          ],
          [
           "Aston Villa"
          ],
          [
           "Aston Villa"
          ],
          [
           "Aston Villa"
          ],
          [
           "Aston Villa"
          ],
          [
           "Brentford"
          ],
          [
           "Brentford"
          ],
          [
           "Brentford"
          ],
          [
           "Brighton"
          ],
          [
           "Brighton"
          ],
          [
           "Brighton"
          ],
          [
           "Brighton"
          ],
          [
           "Brighton"
          ],
          [
           "Brighton"
          ],
          [
           "Burnley"
          ],
          [
           "Burnley"
          ],
          [
           "Burnley"
          ],
          [
           "Burnley"
          ],
          [
           "Burnley"
          ],
          [
           "Chelsea"
          ],
          [
           "Chelsea"
          ],
          [
           "Chelsea"
          ],
          [
           "Chelsea"
          ],
          [
           "Chelsea"
          ],
          [
           "Crystal Palace"
          ],
          [
           "Crystal Palace"
          ],
          [
           "Crystal Palace"
          ],
          [
           "Crystal Palace"
          ],
          [
           "Crystal Palace"
          ],
          [
           "Everton"
          ],
          [
           "Everton"
          ],
          [
           "Everton"
          ],
          [
           "Everton"
          ],
          [
           "Everton"
          ],
          [
           "Leicester"
          ],
          [
           "Leicester"
          ],
          [
           "Leicester"
          ],
          [
           "Leeds"
          ],
          [
           "Leeds"
          ],
          [
           "Leeds"
          ],
          [
           "Leeds"
          ],
          [
           "Liverpool"
          ],
          [
           "Liverpool"
          ],
          [
           "Man City"
          ],
          [
           "Man Utd"
          ],
          [
           "Man Utd"
          ],
          [
           "Man Utd"
          ],
          [
           "Newcastle"
          ],
          [
           "Newcastle"
          ],
          [
           "Newcastle"
          ],
          [
           "Newcastle"
          ],
          [
           "Norwich"
          ],
          [
           "Norwich"
          ],
          [
           "Norwich"
          ],
          [
           "Norwich"
          ],
          [
           "Southampton"
          ],
          [
           "Southampton"
          ],
          [
           "Southampton"
          ],
          [
           "Southampton"
          ],
          [
           "Southampton"
          ],
          [
           "Southampton"
          ],
          [
           "Spurs"
          ],
          [
           "Spurs"
          ],
          [
           "Watford"
          ],
          [
           "Watford"
          ],
          [
           "Watford"
          ],
          [
           "Watford"
          ],
          [
           "Watford"
          ],
          [
           "Watford"
          ],
          [
           "Watford"
          ],
          [
           "Watford"
          ],
          [
           "Watford"
          ],
          [
           "Watford"
          ],
          [
           "West Ham"
          ],
          [
           "Wolves"
          ],
          [
           "Wolves"
          ],
          [
           "Wolves"
          ],
          [
           "Wolves"
          ]
         ],
         "hovertemplate": "<b>%{hovertext}</b><br><br>Player Type=Forward<br>points_per_game=%{x}<br>now_cost=%{y}<br>size=%{marker.size}<br>team_name=%{customdata[0]}<extra></extra>",
         "hovertext": [
          "Pierre-Emerick Aubameyang",
          "Alexandre Lacazette",
          "Edward Nketiah",
          "Folarin Balogun",
          "Ollie Watkins",
          "Wesley Wesley",
          "Mbwana Ally Samatta",
          "Keinan Davis",
          "Danny Ings",
          "Cameron Archer",
          "Ivan Toney",
          "Marcus Forss",
          "Halil Dervişoğlu",
          "Neal Maupay",
          "Aaron Connolly",
          "Danny Welbeck",
          "Florin Andone",
          "Andi Zeqiri",
          "Jürgen Locadia",
          "Jay Rodriguez",
          "Ashley Barnes",
          "Chris Wood",
          "Matej Vydra",
          "Lewis Richardson",
          "Olivier Giroud",
          "Michy Batshuayi",
          "Timo Werner",
          "Tammy Abraham",
          "Romelu Lukaku",
          "Christian Benteke",
          "Jordan Ayew",
          "Jean-Philippe Mateta",
          "Robert Street",
          "Odsonne Edouard",
          "Dominic Calvert-Lewin",
          "Richarlison Richarlison",
          "Nathan Broadhead",
          "Moise Kean",
          "Salomón Rondón",
          "Jamie Vardy",
          "Kelechi Iheanacho",
          "Patson Daka",
          "Rodrigo Rodrigo",
          "Patrick Bamford",
          "Sam Greenwood",
          "Joe Gelhardt",
          "Roberto Firmino",
          "Divock Origi",
          "Gabriel Fernando Jesus",
          "Edinson Cavani",
          "Anthony Martial",
          "Cristiano Ronaldo Ronaldo",
          "Callum Wilson",
          "Dwight Gayle",
          "Allan Saint-Maximin",
          "Joelinton Cássio Joelinton",
          "Teemu Pukki",
          "Jordan Hugill",
          "Adam Idah",
          "Joshua Sargent",
          "Daniel Nlundulu",
          "Che Adams",
          "Michael Obafemi",
          "Armando Broja",
          "Shane Long",
          "Adam A.Armstrong",
          "Harry Kane",
          "Dane Scarlett",
          "Troy Deeney",
          "Andre Gray",
          "Stipe Perica",
          "Isaac Success",
          "Ashley Fletcher",
          "João Pedro João Pedro",
          "Emmanuel Dennis",
          "Joshua King",
          "Adedapo Mebude",
          "Juan Camilo Cucho",
          "Michail Antonio",
          "Raúl Jiménez",
          "Fabio Fabio Silva",
          "Patrick Cutrone",
          "Hee-Chan Hwang"
         ],
         "legendgroup": "Forward",
         "marker": {
          "color": "#00cc96",
          "size": [
           6.6000000000000005,
           1.5,
           1.0499999999999998,
           1.5,
           2.55,
           1.5,
           1.0499999999999998,
           1.0499999999999998,
           8.100000000000001,
           1.0499999999999998,
           6.0,
           1.0499999999999998,
           1.0499999999999998,
           6.0,
           1.5,
           2.55,
           1.0499999999999998,
           1.0499999999999998,
           1.0499999999999998,
           2.0999999999999996,
           3.5999999999999996,
           7.5,
           2.0999999999999996,
           1.0499999999999998,
           1.0499999999999998,
           1.0499999999999998,
           2.0999999999999996,
           1.0499999999999998,
           12.600000000000001,
           5.1000000000000005,
           3.5999999999999996,
           1.0499999999999998,
           1.0499999999999998,
           19.049999999999997,
           9.0,
           3.5999999999999996,
           1.0499999999999998,
           1.5,
           2.55,
           9.0,
           2.55,
           1.5,
           2.0999999999999996,
           8.100000000000001,
           1.0499999999999998,
           1.0499999999999998,
           2.0999999999999996,
           1.0499999999999998,
           13.5,
           1.5,
           2.55,
           20.549999999999997,
           6.0,
           1.0499999999999998,
           7.5,
           3.0,
           6.6000000000000005,
           1.0499999999999998,
           2.0999999999999996,
           2.0999999999999996,
           1.0499999999999998,
           4.5,
           1.0499999999999998,
           2.0999999999999996,
           1.0499999999999998,
           5.550000000000001,
           2.55,
           1.0499999999999998,
           1.5,
           1.0499999999999998,
           1.0499999999999998,
           1.0499999999999998,
           1.0499999999999998,
           1.0499999999999998,
           3.0,
           3.0,
           1.0499999999999998,
           2.55,
           14.099999999999998,
           3.0,
           2.0999999999999996,
           1.0499999999999998,
           13.049999999999999
          ],
          "sizemode": "area",
          "sizeref": 0.05137499999999999,
          "symbol": "circle"
         },
         "mode": "markers",
         "name": "Forward",
         "orientation": "v",
         "showlegend": true,
         "type": "scatter",
         "x": [
          3.7,
          1.0,
          0.0,
          1.0,
          1.5,
          1.0,
          0.0,
          0.0,
          5.2,
          0.0,
          3.0,
          1.0,
          0.0,
          3.8,
          1.0,
          1.5,
          0.0,
          0.0,
          0.0,
          1.3,
          1.5,
          3.8,
          1.0,
          0.0,
          0.0,
          0.0,
          1.3,
          0.0,
          7.7,
          2.2,
          1.8,
          1.0,
          0.0,
          12.0,
          7.7,
          4.0,
          0.0,
          1.0,
          1.0,
          5.2,
          1.0,
          1.0,
          1.0,
          4.0,
          0.0,
          0.0,
          3.0,
          0.0,
          6.5,
          1.0,
          1.0,
          13.0,
          5.3,
          0.0,
          4.8,
          1.2,
          3.2,
          0.0,
          1.0,
          1.0,
          0.0,
          4.0,
          0.0,
          1.0,
          0.0,
          3.8,
          1.0,
          0.0,
          1.0,
          0.0,
          0.0,
          0.0,
          0.0,
          0.0,
          4.0,
          1.3,
          0.0,
          2.2,
          9.8,
          1.5,
          1.0,
          0.0,
          8.0
         ],
         "xaxis": "x",
         "y": [
          9.9,
          8.4,
          5.4,
          4.9,
          7.3,
          5.4,
          5.5,
          4.5,
          8.0,
          4.5,
          6.3,
          5.4,
          5.4,
          6.5,
          5.4,
          6.0,
          5.0,
          4.5,
          4.5,
          5.4,
          5.5,
          6.9,
          5.3,
          4.5,
          6.5,
          5.5,
          8.7,
          6.5,
          11.6,
          6.4,
          5.9,
          5.4,
          4.5,
          6.5,
          8.1,
          7.5,
          4.5,
          6.0,
          6.0,
          10.4,
          7.1,
          7.2,
          6.3,
          7.9,
          4.5,
          4.5,
          8.8,
          4.9,
          8.6,
          8.4,
          7.7,
          12.6,
          7.4,
          5.4,
          6.6,
          5.8,
          5.9,
          5.4,
          5.0,
          5.5,
          4.5,
          7.0,
          4.5,
          5.0,
          5.5,
          6.0,
          12.2,
          4.5,
          5.4,
          5.4,
          4.5,
          5.0,
          4.9,
          5.4,
          5.2,
          5.5,
          4.5,
          5.0,
          7.9,
          7.4,
          5.8,
          5.0,
          5.5
         ],
         "yaxis": "y"
        },
        {
         "customdata": [
          [
           "Arsenal"
          ],
          [
           "Arsenal"
          ],
          [
           "Arsenal"
          ],
          [
           "Arsenal"
          ],
          [
           "Arsenal"
          ],
          [
           "Arsenal"
          ],
          [
           "Arsenal"
          ],
          [
           "Arsenal"
          ],
          [
           "Arsenal"
          ],
          [
           "Arsenal"
          ],
          [
           "Arsenal"
          ],
          [
           "Arsenal"
          ],
          [
           "Arsenal"
          ],
          [
           "Aston Villa"
          ],
          [
           "Aston Villa"
          ],
          [
           "Aston Villa"
          ],
          [
           "Aston Villa"
          ],
          [
           "Aston Villa"
          ],
          [
           "Aston Villa"
          ],
          [
           "Aston Villa"
          ],
          [
           "Aston Villa"
          ],
          [
           "Aston Villa"
          ],
          [
           "Brentford"
          ],
          [
           "Brentford"
          ],
          [
           "Brentford"
          ],
          [
           "Brentford"
          ],
          [
           "Brentford"
          ],
          [
           "Brentford"
          ],
          [
           "Brentford"
          ],
          [
           "Brentford"
          ],
          [
           "Brentford"
          ],
          [
           "Brentford"
          ],
          [
           "Brighton"
          ],
          [
           "Brighton"
          ],
          [
           "Brighton"
          ],
          [
           "Brighton"
          ],
          [
           "Brighton"
          ],
          [
           "Brighton"
          ],
          [
           "Brighton"
          ],
          [
           "Brighton"
          ],
          [
           "Brighton"
          ],
          [
           "Brighton"
          ],
          [
           "Burnley"
          ],
          [
           "Burnley"
          ],
          [
           "Burnley"
          ],
          [
           "Burnley"
          ],
          [
           "Burnley"
          ],
          [
           "Burnley"
          ],
          [
           "Burnley"
          ],
          [
           "Burnley"
          ],
          [
           "Burnley"
          ],
          [
           "Burnley"
          ],
          [
           "Burnley"
          ],
          [
           "Chelsea"
          ],
          [
           "Chelsea"
          ],
          [
           "Chelsea"
          ],
          [
           "Chelsea"
          ],
          [
           "Chelsea"
          ],
          [
           "Chelsea"
          ],
          [
           "Chelsea"
          ],
          [
           "Chelsea"
          ],
          [
           "Chelsea"
          ],
          [
           "Chelsea"
          ],
          [
           "Chelsea"
          ],
          [
           "Crystal Palace"
          ],
          [
           "Crystal Palace"
          ],
          [
           "Crystal Palace"
          ],
          [
           "Crystal Palace"
          ],
          [
           "Crystal Palace"
          ],
          [
           "Crystal Palace"
          ],
          [
           "Crystal Palace"
          ],
          [
           "Crystal Palace"
          ],
          [
           "Crystal Palace"
          ],
          [
           "Crystal Palace"
          ],
          [
           "Crystal Palace"
          ],
          [
           "Everton"
          ],
          [
           "Everton"
          ],
          [
           "Everton"
          ],
          [
           "Everton"
          ],
          [
           "Everton"
          ],
          [
           "Everton"
          ],
          [
           "Everton"
          ],
          [
           "Everton"
          ],
          [
           "Everton"
          ],
          [
           "Leicester"
          ],
          [
           "Leicester"
          ],
          [
           "Leicester"
          ],
          [
           "Leicester"
          ],
          [
           "Leicester"
          ],
          [
           "Leicester"
          ],
          [
           "Leicester"
          ],
          [
           "Leicester"
          ],
          [
           "Leicester"
          ],
          [
           "Leicester"
          ],
          [
           "Leeds"
          ],
          [
           "Leeds"
          ],
          [
           "Leeds"
          ],
          [
           "Leeds"
          ],
          [
           "Leeds"
          ],
          [
           "Leeds"
          ],
          [
           "Leeds"
          ],
          [
           "Leeds"
          ],
          [
           "Liverpool"
          ],
          [
           "Liverpool"
          ],
          [
           "Liverpool"
          ],
          [
           "Liverpool"
          ],
          [
           "Liverpool"
          ],
          [
           "Liverpool"
          ],
          [
           "Liverpool"
          ],
          [
           "Liverpool"
          ],
          [
           "Liverpool"
          ],
          [
           "Liverpool"
          ],
          [
           "Liverpool"
          ],
          [
           "Man City"
          ],
          [
           "Man City"
          ],
          [
           "Man City"
          ],
          [
           "Man City"
          ],
          [
           "Man City"
          ],
          [
           "Man City"
          ],
          [
           "Man City"
          ],
          [
           "Man City"
          ],
          [
           "Man Utd"
          ],
          [
           "Man Utd"
          ],
          [
           "Man Utd"
          ],
          [
           "Man Utd"
          ],
          [
           "Man Utd"
          ],
          [
           "Man Utd"
          ],
          [
           "Man Utd"
          ],
          [
           "Man Utd"
          ],
          [
           "Newcastle"
          ],
          [
           "Newcastle"
          ],
          [
           "Newcastle"
          ],
          [
           "Newcastle"
          ],
          [
           "Newcastle"
          ],
          [
           "Newcastle"
          ],
          [
           "Newcastle"
          ],
          [
           "Newcastle"
          ],
          [
           "Newcastle"
          ],
          [
           "Norwich"
          ],
          [
           "Norwich"
          ],
          [
           "Norwich"
          ],
          [
           "Norwich"
          ],
          [
           "Norwich"
          ],
          [
           "Norwich"
          ],
          [
           "Norwich"
          ],
          [
           "Norwich"
          ],
          [
           "Norwich"
          ],
          [
           "Norwich"
          ],
          [
           "Norwich"
          ],
          [
           "Southampton"
          ],
          [
           "Southampton"
          ],
          [
           "Southampton"
          ],
          [
           "Southampton"
          ],
          [
           "Southampton"
          ],
          [
           "Southampton"
          ],
          [
           "Southampton"
          ],
          [
           "Southampton"
          ],
          [
           "Spurs"
          ],
          [
           "Spurs"
          ],
          [
           "Spurs"
          ],
          [
           "Spurs"
          ],
          [
           "Spurs"
          ],
          [
           "Spurs"
          ],
          [
           "Spurs"
          ],
          [
           "Spurs"
          ],
          [
           "Spurs"
          ],
          [
           "Spurs"
          ],
          [
           "Spurs"
          ],
          [
           "Spurs"
          ],
          [
           "Spurs"
          ],
          [
           "Watford"
          ],
          [
           "Watford"
          ],
          [
           "Watford"
          ],
          [
           "Watford"
          ],
          [
           "Watford"
          ],
          [
           "Watford"
          ],
          [
           "Watford"
          ],
          [
           "Watford"
          ],
          [
           "Watford"
          ],
          [
           "Watford"
          ],
          [
           "Watford"
          ],
          [
           "West Ham"
          ],
          [
           "West Ham"
          ],
          [
           "West Ham"
          ],
          [
           "West Ham"
          ],
          [
           "West Ham"
          ],
          [
           "West Ham"
          ],
          [
           "West Ham"
          ],
          [
           "West Ham"
          ],
          [
           "West Ham"
          ],
          [
           "West Ham"
          ],
          [
           "West Ham"
          ],
          [
           "West Ham"
          ],
          [
           "Wolves"
          ],
          [
           "Wolves"
          ],
          [
           "Wolves"
          ],
          [
           "Wolves"
          ],
          [
           "Wolves"
          ],
          [
           "Wolves"
          ],
          [
           "Wolves"
          ],
          [
           "Wolves"
          ],
          [
           "Wolves"
          ],
          [
           "Wolves"
          ],
          [
           "Wolves"
          ]
         ],
         "hovertemplate": "<b>%{hovertext}</b><br><br>Player Type=Defender<br>points_per_game=%{x}<br>now_cost=%{y}<br>size=%{marker.size}<br>team_name=%{customdata[0]}<extra></extra>",
         "hovertext": [
          "Cédric Cédric",
          "Pablo Marí",
          "Héctor Bellerín",
          "Calum Chambers",
          "Sead Kolasinac",
          "Rob Holding",
          "Kieran Tierney",
          "Gabriel Gabriel",
          "Konstantinos Mavropanos",
          "William Saliba",
          "Ben White",
          "Nuno Tavares",
          "Takehiro Tomiyasu",
          "Björn Engels",
          "Kortney Hause",
          "Tyrone Mings",
          "Matt Targett",
          "Matthew Cash",
          "Ezri Konsa",
          "Frédéric Guilbert",
          "Ashley Young",
          "Axel Tuanzebe",
          "Pontus Jansson",
          "Rico Henry",
          "Charlie Goode",
          "Mads Roerslev",
          "Mads Sørensen",
          "Ethan Pinnock",
          "Kristoffer Ajer",
          "Dominic Thompson",
          "Finley Stevens",
          "Mathias Zanka",
          "Shane Duffy",
          "Dan Burn",
          "Lewis Dunk",
          "Adam Webster",
          "Joël Veltman",
          "Bernardo Bernardo",
          "Tariq Lamptey",
          "Michal Karbownik",
          "Haydon Roberts",
          "Marc Cucurella",
          "James Tarkowski",
          "Phil Bardsley",
          "Erik Pieters",
          "Kevin Long",
          "Ben Mee",
          "Matthew Lowton",
          "Charlie Taylor",
          "Nathan Collins",
          "Bobby Thomas",
          "Owen Dodgson",
          "Connor Roberts",
          "César Azpilicueta",
          "Thiago Thiago Silva",
          "Marcos Alonso",
          "Antonio Rüdiger",
          "Andreas Christensen",
          "Benjamin Chilwell",
          "Ethan Ampadu",
          "Reece James",
          "Malang Sarr",
          "Trevoh Chalobah",
          "Emerson Emerson",
          "James Tomkins",
          "Cheikhou Kouyaté",
          "Martin Kelly",
          "Jarosław Jach",
          "Nathan Ferguson",
          "Tyrick Mitchell",
          "Joel Ward",
          "Marc Guéhi",
          "Joachim Andersen",
          "Nathaniel Clyne",
          "Reece Hannam",
          "Seamus Coleman",
          "Lucas Digne",
          "Michael Keane",
          "Yerry Mina",
          "Mason Holgate",
          "Ben Godfrey",
          "Jonjoe Kenny",
          "Jarrad Branthwaite",
          "Niels Nkounkou",
          "Jonny Evans",
          "Ricardo Domingos Pereira",
          "Daniel Amartey",
          "Timothy Castagne",
          "Çaglar Söyüncü",
          "James Justin",
          "Luke Thomas",
          "Wesley Fofana",
          "Jannik Vestergaard",
          "Ryan Bertrand",
          "Liam Cooper",
          "Luke Ayling",
          "Diego Llorente",
          "Robin Koch",
          "Pascal Struijk",
          "Héctor Junior Firpo",
          "Cody Drameh",
          "Charlie Cresswell",
          "Joel Matip",
          "Virgil van Dijk",
          "Andrew Robertson",
          "Trent Alexander-Arnold",
          "Joseph Gomez",
          "Nathaniel Phillips",
          "Ibrahima Konaté",
          "Konstantinos Tsimikas",
          "Neco N.Williams",
          "Rhys R.Williams",
          "Ben Davies",
          "Kyle Walker",
          "John Stones",
          "Benjamin Mendy",
          "João Pedro Cavaco Cancelo",
          "Nathan Aké",
          "Aymeric Laporte",
          "Rúben Santos Dias",
          "Oleksandr Zinchenko",
          "Harry Maguire",
          "Luke Shaw",
          "Alex Nicolao Telles",
          "Victor Lindelöf",
          "Eric Bailly",
          "Aaron Wan-Bissaka",
          "José Diogo Dalot",
          "Raphaël Varane",
          "Matt Ritchie",
          "Ciaran Clark",
          "Jamaal Lascelles",
          "Paul Dummett",
          "Javier Manquillo",
          "Emil Krafth",
          "Fabian Schär",
          "Jamal Lewis",
          "Federico Fernández",
          "Brandon Williams",
          "Grant Hanley",
          "Sam Byram",
          "Christoph Zimmermann",
          "Max Aarons",
          "Jacob Sørensen",
          "Andrew Omobamidele",
          "Ben Gibson",
          "Dimitris Giannoulis",
          "Bali Mumba",
          "Ozan Kabak",
          "Jack Stephens",
          "Kyle Walker-Peters",
          "Jan Bednarek",
          "Mohammed Salisu",
          "Romain Perraud",
          "Tino Livramento",
          "Yan Valery",
          "Lyanco Evangelista Lyanco",
          "Toby Alderweireld",
          "Serge Aurier",
          "Matt Doherty",
          "Eric Dier",
          "Ben Davies",
          "Davinson Sánchez",
          "Ryan Sessegnon",
          "Sergio Reguilón",
          "Japhet Tanganga",
          "Joe Rodon",
          "Cristian Romero",
          "Emerson Aparecido Emerson Royal",
          "Tobi Omole",
          "Danny Rose",
          "Craig Cathcart",
          "Francisco Femenía",
          "Christian Kabasele",
          "William Troost-Ekong",
          "Adam Masina",
          "Francisco Sierralta",
          "Marc Navarro",
          "Jeremy Ngakia",
          "Ben Wilmot",
          "Matthew Pollock",
          "Kurt Zouma",
          "Angelo Ogbonna",
          "Winston Reid",
          "Aaron Cresswell",
          "Craig Dawson",
          "Ryan Fredericks",
          "Arthur Masuaku",
          "Vladimir Coufal",
          "Issa Diop",
          "Ben Johnson",
          "Frederik Alves",
          "Jamal Baptiste",
          "Willy Boly",
          "Conor Coady",
          "Romain Saïss",
          "Fernando Marçal",
          "Jonathan Jonny",
          "Nélson Semedo",
          "Max Kilman",
          "Ki-Jana Hoever",
          "Yerson Mosquera",
          "Rayan Ait Nouri",
          "Christian Marques"
         ],
         "legendgroup": "Defender",
         "marker": {
          "color": "#ab63fa",
          "size": [
           1.5,
           1.0499999999999998,
           1.0499999999999998,
           1.0499999999999998,
           0.6,
           1.0499999999999998,
           5.1000000000000005,
           5.1000000000000005,
           1.0499999999999998,
           1.0499999999999998,
           3.5999999999999996,
           1.5,
           10.05,
           1.0499999999999998,
           1.5,
           8.55,
           2.0999999999999996,
           5.1000000000000005,
           5.550000000000001,
           1.0499999999999998,
           5.1000000000000005,
           3.0,
           10.05,
           6.0,
           1.0499999999999998,
           1.5,
           1.0499999999999998,
           6.0,
           5.550000000000001,
           1.0499999999999998,
           1.0499999999999998,
           1.0499999999999998,
           11.100000000000001,
           1.0499999999999998,
           8.55,
           4.5,
           4.5,
           1.0499999999999998,
           1.0499999999999998,
           1.0499999999999998,
           1.0499999999999998,
           11.55,
           3.0,
           1.0499999999999998,
           1.5,
           1.0499999999999998,
           5.550000000000001,
           5.1000000000000005,
           3.0,
           1.0499999999999998,
           1.0499999999999998,
           1.0499999999999998,
           1.0499999999999998,
           7.050000000000001,
           4.5,
           7.5,
           7.5,
           5.1000000000000005,
           1.0499999999999998,
           1.0499999999999998,
           10.5,
           1.0499999999999998,
           4.5,
           1.0499999999999998,
           1.0499999999999998,
           8.100000000000001,
           1.0499999999999998,
           1.0499999999999998,
           1.0499999999999998,
           7.5,
           7.050000000000001,
           7.5,
           7.5,
           1.0499999999999998,
           1.0499999999999998,
           7.050000000000001,
           5.1000000000000005,
           9.0,
           2.0999999999999996,
           4.050000000000001,
           2.0999999999999996,
           1.0499999999999998,
           1.0499999999999998,
           1.0499999999999998,
           1.5,
           2.55,
           2.0999999999999996,
           3.0,
           2.55,
           1.0499999999999998,
           2.0999999999999996,
           1.0499999999999998,
           4.050000000000001,
           2.0999999999999996,
           3.5999999999999996,
           3.0,
           2.0999999999999996,
           1.0499999999999998,
           0.6,
           1.5,
           1.0499999999999998,
           1.0499999999999998,
           8.100000000000001,
           8.100000000000001,
           5.550000000000001,
           15.0,
           1.5,
           1.0499999999999998,
           1.0499999999999998,
           7.050000000000001,
           1.0499999999999998,
           1.0499999999999998,
           1.0499999999999998,
           7.5,
           1.0499999999999998,
           1.0499999999999998,
           13.049999999999999,
           1.0499999999999998,
           13.5,
           13.049999999999999,
           1.5,
           6.0,
           8.55,
           1.0499999999999998,
           2.0999999999999996,
           1.0499999999999998,
           7.050000000000001,
           1.0499999999999998,
           8.100000000000001,
           2.0999999999999996,
           1.5,
           1.5,
           1.0499999999999998,
           4.5,
           1.0499999999999998,
           1.0499999999999998,
           1.5,
           2.0999999999999996,
           2.55,
           2.0999999999999996,
           1.0499999999999998,
           1.0499999999999998,
           3.0,
           1.0499999999999998,
           2.0999999999999996,
           1.5,
           1.0499999999999998,
           1.0499999999999998,
           1.0499999999999998,
           4.5,
           1.5,
           1.5,
           6.6000000000000005,
           5.1000000000000005,
           5.550000000000001,
           1.0499999999999998,
           1.0499999999999998,
           1.0499999999999998,
           1.0499999999999998,
           1.0499999999999998,
           8.100000000000001,
           1.0499999999999998,
           8.100000000000001,
           1.0499999999999998,
           9.0,
           5.1000000000000005,
           1.5,
           1.0499999999999998,
           2.55,
           1.0499999999999998,
           1.0499999999999998,
           2.0999999999999996,
           1.0499999999999998,
           1.5,
           3.0,
           2.55,
           1.5,
           1.0499999999999998,
           2.0999999999999996,
           1.0499999999999998,
           1.0499999999999998,
           1.0499999999999998,
           7.050000000000001,
           1.0499999999999998,
           8.55,
           5.550000000000001,
           1.0499999999999998,
           1.0499999999999998,
           7.050000000000001,
           1.0499999999999998,
           1.0499999999999998,
           1.0499999999999998,
           1.0499999999999998,
           1.0499999999999998,
           6.0,
           5.550000000000001,
           9.600000000000001,
           1.0499999999999998,
           6.0,
           5.550000000000001,
           1.0499999999999998,
           1.0499999999999998,
           1.5,
           1.0499999999999998
          ],
          "sizemode": "area",
          "sizeref": 0.05137499999999999,
          "symbol": "circle"
         },
         "mode": "markers",
         "name": "Defender",
         "orientation": "v",
         "showlegend": true,
         "type": "scatter",
         "x": [
          0.3,
          0.5,
          0.0,
          0.5,
          -1.0,
          0.0,
          2.2,
          8.0,
          0.0,
          0.0,
          3.0,
          1.0,
          6.0,
          0.0,
          1.0,
          5.0,
          0.7,
          2.2,
          2.5,
          0.0,
          3.0,
          1.3,
          6.0,
          4.0,
          0.0,
          1.0,
          1.0,
          5.2,
          3.8,
          0.0,
          0.0,
          0.0,
          5.5,
          0.0,
          4.2,
          2.2,
          3.5,
          0.0,
          0.0,
          0.0,
          0.0,
          7.0,
          2.5,
          0.0,
          1.0,
          0.0,
          2.5,
          2.2,
          1.2,
          0.0,
          0.0,
          0.0,
          0.0,
          4.5,
          3.5,
          7.0,
          4.8,
          5.0,
          0.0,
          0.0,
          6.7,
          0.0,
          7.0,
          1.0,
          0.0,
          3.8,
          0.0,
          0.0,
          0.0,
          3.5,
          3.2,
          3.5,
          3.5,
          0.0,
          0.0,
          3.5,
          2.5,
          4.5,
          1.0,
          4.0,
          2.0,
          0.0,
          0.0,
          0.0,
          1.0,
          5.0,
          2.7,
          2.0,
          2.2,
          0.0,
          3.0,
          0.0,
          3.5,
          2.0,
          1.0,
          2.5,
          1.0,
          0.0,
          -0.2,
          0.0,
          0.0,
          0.0,
          5.0,
          5.2,
          4.5,
          8.5,
          1.0,
          0.0,
          0.0,
          6.0,
          0.0,
          0.0,
          0.0,
          4.3,
          0.0,
          3.0,
          6.5,
          2.0,
          8.3,
          6.5,
          1.0,
          3.0,
          4.0,
          0.0,
          3.5,
          0.0,
          3.5,
          0.0,
          7.0,
          1.2,
          0.5,
          0.3,
          0.0,
          7.0,
          0.0,
          0.0,
          1.0,
          0.7,
          1.5,
          0.8,
          0.0,
          0.0,
          1.2,
          0.0,
          2.0,
          0.7,
          0.5,
          0.0,
          0.0,
          2.0,
          0.5,
          1.0,
          3.0,
          3.0,
          2.5,
          0.0,
          0.0,
          0.0,
          0.0,
          1.0,
          5.2,
          0.0,
          6.3,
          0.0,
          5.8,
          3.5,
          1.0,
          1.0,
          1.0,
          0.0,
          0.0,
          1.0,
          0.0,
          1.0,
          1.2,
          1.3,
          0.5,
          0.0,
          1.0,
          0.0,
          0.0,
          0.0,
          3.2,
          0.0,
          5.5,
          2.5,
          1.0,
          0.0,
          3.2,
          0.0,
          1.0,
          0.0,
          0.0,
          0.0,
          3.0,
          2.8,
          4.5,
          0.0,
          3.3,
          2.8,
          1.0,
          0.0,
          1.0,
          0.0
         ],
         "xaxis": "x",
         "y": [
          4.4,
          4.4,
          4.8,
          4.4,
          4.3,
          4.3,
          4.9,
          5.0,
          4.5,
          4.5,
          4.4,
          4.4,
          4.5,
          4.5,
          4.4,
          5.0,
          4.8,
          5.0,
          4.9,
          4.5,
          5.0,
          4.5,
          4.6,
          4.5,
          3.9,
          4.4,
          4.4,
          4.6,
          4.5,
          4.5,
          4.0,
          4.5,
          4.2,
          4.4,
          5.0,
          4.5,
          4.4,
          4.0,
          4.4,
          4.0,
          4.0,
          5.0,
          5.0,
          4.0,
          4.4,
          4.0,
          4.9,
          4.4,
          4.5,
          4.4,
          4.0,
          4.0,
          4.5,
          6.0,
          5.4,
          5.7,
          5.5,
          5.0,
          5.7,
          4.5,
          5.6,
          4.9,
          4.9,
          4.5,
          4.4,
          4.5,
          4.0,
          4.4,
          4.5,
          4.5,
          4.5,
          4.5,
          4.5,
          4.4,
          4.0,
          5.0,
          5.4,
          5.0,
          4.9,
          4.5,
          4.8,
          4.5,
          4.0,
          4.0,
          5.4,
          5.5,
          4.1,
          5.4,
          5.0,
          4.9,
          4.5,
          4.4,
          4.9,
          4.9,
          4.5,
          4.5,
          4.5,
          4.4,
          4.4,
          4.8,
          4.0,
          4.0,
          5.0,
          6.5,
          7.0,
          7.5,
          4.9,
          4.4,
          5.2,
          4.1,
          4.0,
          4.4,
          4.0,
          5.5,
          5.3,
          5.3,
          6.0,
          4.9,
          5.6,
          6.0,
          5.3,
          5.4,
          5.5,
          5.0,
          4.9,
          5.0,
          5.4,
          4.4,
          5.5,
          5.0,
          4.4,
          4.4,
          4.5,
          4.0,
          4.4,
          4.4,
          4.4,
          4.5,
          4.0,
          4.4,
          4.4,
          4.4,
          4.5,
          4.4,
          3.9,
          4.4,
          4.4,
          4.0,
          4.5,
          4.5,
          4.9,
          4.4,
          4.5,
          4.9,
          4.1,
          4.0,
          4.5,
          5.0,
          4.9,
          4.8,
          4.6,
          4.4,
          4.5,
          4.4,
          5.2,
          4.6,
          4.4,
          4.9,
          5.0,
          4.0,
          4.4,
          4.4,
          4.4,
          4.4,
          4.5,
          4.5,
          4.4,
          4.0,
          4.4,
          4.5,
          4.0,
          5.4,
          5.0,
          4.0,
          5.5,
          5.0,
          4.5,
          4.4,
          5.0,
          4.4,
          4.0,
          4.0,
          4.0,
          4.9,
          4.5,
          5.0,
          4.6,
          4.5,
          4.9,
          4.5,
          4.0,
          4.5,
          4.3,
          4.0
         ],
         "yaxis": "y"
        }
       ],
       "layout": {
        "annotations": [
         {
          "showarrow": false,
          "text": "Bubble Size : Player Form",
          "x": 1.15,
          "xref": "paper",
          "y": 1.1,
          "yref": "paper"
         }
        ],
        "legend": {
         "itemsizing": "constant",
         "title": {
          "text": "Player Type"
         },
         "tracegroupgap": 0
        },
        "showlegend": true,
        "template": {
         "data": {
          "bar": [
           {
            "error_x": {
             "color": "#2a3f5f"
            },
            "error_y": {
             "color": "#2a3f5f"
            },
            "marker": {
             "line": {
              "color": "#E5ECF6",
              "width": 0.5
             },
             "pattern": {
              "fillmode": "overlay",
              "size": 10,
              "solidity": 0.2
             }
            },
            "type": "bar"
           }
          ],
          "barpolar": [
           {
            "marker": {
             "line": {
              "color": "#E5ECF6",
              "width": 0.5
             },
             "pattern": {
              "fillmode": "overlay",
              "size": 10,
              "solidity": 0.2
             }
            },
            "type": "barpolar"
           }
          ],
          "carpet": [
           {
            "aaxis": {
             "endlinecolor": "#2a3f5f",
             "gridcolor": "white",
             "linecolor": "white",
             "minorgridcolor": "white",
             "startlinecolor": "#2a3f5f"
            },
            "baxis": {
             "endlinecolor": "#2a3f5f",
             "gridcolor": "white",
             "linecolor": "white",
             "minorgridcolor": "white",
             "startlinecolor": "#2a3f5f"
            },
            "type": "carpet"
           }
          ],
          "choropleth": [
           {
            "colorbar": {
             "outlinewidth": 0,
             "ticks": ""
            },
            "type": "choropleth"
           }
          ],
          "contour": [
           {
            "colorbar": {
             "outlinewidth": 0,
             "ticks": ""
            },
            "colorscale": [
             [
              0.0,
              "#0d0887"
             ],
             [
              0.1111111111111111,
              "#46039f"
             ],
             [
              0.2222222222222222,
              "#7201a8"
             ],
             [
              0.3333333333333333,
              "#9c179e"
             ],
             [
              0.4444444444444444,
              "#bd3786"
             ],
             [
              0.5555555555555556,
              "#d8576b"
             ],
             [
              0.6666666666666666,
              "#ed7953"
             ],
             [
              0.7777777777777778,
              "#fb9f3a"
             ],
             [
              0.8888888888888888,
              "#fdca26"
             ],
             [
              1.0,
              "#f0f921"
             ]
            ],
            "type": "contour"
           }
          ],
          "contourcarpet": [
           {
            "colorbar": {
             "outlinewidth": 0,
             "ticks": ""
            },
            "type": "contourcarpet"
           }
          ],
          "heatmap": [
           {
            "colorbar": {
             "outlinewidth": 0,
             "ticks": ""
            },
            "colorscale": [
             [
              0.0,
              "#0d0887"
             ],
             [
              0.1111111111111111,
              "#46039f"
             ],
             [
              0.2222222222222222,
              "#7201a8"
             ],
             [
              0.3333333333333333,
              "#9c179e"
             ],
             [
              0.4444444444444444,
              "#bd3786"
             ],
             [
              0.5555555555555556,
              "#d8576b"
             ],
             [
              0.6666666666666666,
              "#ed7953"
             ],
             [
              0.7777777777777778,
              "#fb9f3a"
             ],
             [
              0.8888888888888888,
              "#fdca26"
             ],
             [
              1.0,
              "#f0f921"
             ]
            ],
            "type": "heatmap"
           }
          ],
          "heatmapgl": [
           {
            "colorbar": {
             "outlinewidth": 0,
             "ticks": ""
            },
            "colorscale": [
             [
              0.0,
              "#0d0887"
             ],
             [
              0.1111111111111111,
              "#46039f"
             ],
             [
              0.2222222222222222,
              "#7201a8"
             ],
             [
              0.3333333333333333,
              "#9c179e"
             ],
             [
              0.4444444444444444,
              "#bd3786"
             ],
             [
              0.5555555555555556,
              "#d8576b"
             ],
             [
              0.6666666666666666,
              "#ed7953"
             ],
             [
              0.7777777777777778,
              "#fb9f3a"
             ],
             [
              0.8888888888888888,
              "#fdca26"
             ],
             [
              1.0,
              "#f0f921"
             ]
            ],
            "type": "heatmapgl"
           }
          ],
          "histogram": [
           {
            "marker": {
             "pattern": {
              "fillmode": "overlay",
              "size": 10,
              "solidity": 0.2
             }
            },
            "type": "histogram"
           }
          ],
          "histogram2d": [
           {
            "colorbar": {
             "outlinewidth": 0,
             "ticks": ""
            },
            "colorscale": [
             [
              0.0,
              "#0d0887"
             ],
             [
              0.1111111111111111,
              "#46039f"
             ],
             [
              0.2222222222222222,
              "#7201a8"
             ],
             [
              0.3333333333333333,
              "#9c179e"
             ],
             [
              0.4444444444444444,
              "#bd3786"
             ],
             [
              0.5555555555555556,
              "#d8576b"
             ],
             [
              0.6666666666666666,
              "#ed7953"
             ],
             [
              0.7777777777777778,
              "#fb9f3a"
             ],
             [
              0.8888888888888888,
              "#fdca26"
             ],
             [
              1.0,
              "#f0f921"
             ]
            ],
            "type": "histogram2d"
           }
          ],
          "histogram2dcontour": [
           {
            "colorbar": {
             "outlinewidth": 0,
             "ticks": ""
            },
            "colorscale": [
             [
              0.0,
              "#0d0887"
             ],
             [
              0.1111111111111111,
              "#46039f"
             ],
             [
              0.2222222222222222,
              "#7201a8"
             ],
             [
              0.3333333333333333,
              "#9c179e"
             ],
             [
              0.4444444444444444,
              "#bd3786"
             ],
             [
              0.5555555555555556,
              "#d8576b"
             ],
             [
              0.6666666666666666,
              "#ed7953"
             ],
             [
              0.7777777777777778,
              "#fb9f3a"
             ],
             [
              0.8888888888888888,
              "#fdca26"
             ],
             [
              1.0,
              "#f0f921"
             ]
            ],
            "type": "histogram2dcontour"
           }
          ],
          "mesh3d": [
           {
            "colorbar": {
             "outlinewidth": 0,
             "ticks": ""
            },
            "type": "mesh3d"
           }
          ],
          "parcoords": [
           {
            "line": {
             "colorbar": {
              "outlinewidth": 0,
              "ticks": ""
             }
            },
            "type": "parcoords"
           }
          ],
          "pie": [
           {
            "automargin": true,
            "type": "pie"
           }
          ],
          "scatter": [
           {
            "marker": {
             "colorbar": {
              "outlinewidth": 0,
              "ticks": ""
             }
            },
            "type": "scatter"
           }
          ],
          "scatter3d": [
           {
            "line": {
             "colorbar": {
              "outlinewidth": 0,
              "ticks": ""
             }
            },
            "marker": {
             "colorbar": {
              "outlinewidth": 0,
              "ticks": ""
             }
            },
            "type": "scatter3d"
           }
          ],
          "scattercarpet": [
           {
            "marker": {
             "colorbar": {
              "outlinewidth": 0,
              "ticks": ""
             }
            },
            "type": "scattercarpet"
           }
          ],
          "scattergeo": [
           {
            "marker": {
             "colorbar": {
              "outlinewidth": 0,
              "ticks": ""
             }
            },
            "type": "scattergeo"
           }
          ],
          "scattergl": [
           {
            "marker": {
             "colorbar": {
              "outlinewidth": 0,
              "ticks": ""
             }
            },
            "type": "scattergl"
           }
          ],
          "scattermapbox": [
           {
            "marker": {
             "colorbar": {
              "outlinewidth": 0,
              "ticks": ""
             }
            },
            "type": "scattermapbox"
           }
          ],
          "scatterpolar": [
           {
            "marker": {
             "colorbar": {
              "outlinewidth": 0,
              "ticks": ""
             }
            },
            "type": "scatterpolar"
           }
          ],
          "scatterpolargl": [
           {
            "marker": {
             "colorbar": {
              "outlinewidth": 0,
              "ticks": ""
             }
            },
            "type": "scatterpolargl"
           }
          ],
          "scatterternary": [
           {
            "marker": {
             "colorbar": {
              "outlinewidth": 0,
              "ticks": ""
             }
            },
            "type": "scatterternary"
           }
          ],
          "surface": [
           {
            "colorbar": {
             "outlinewidth": 0,
             "ticks": ""
            },
            "colorscale": [
             [
              0.0,
              "#0d0887"
             ],
             [
              0.1111111111111111,
              "#46039f"
             ],
             [
              0.2222222222222222,
              "#7201a8"
             ],
             [
              0.3333333333333333,
              "#9c179e"
             ],
             [
              0.4444444444444444,
              "#bd3786"
             ],
             [
              0.5555555555555556,
              "#d8576b"
             ],
             [
              0.6666666666666666,
              "#ed7953"
             ],
             [
              0.7777777777777778,
              "#fb9f3a"
             ],
             [
              0.8888888888888888,
              "#fdca26"
             ],
             [
              1.0,
              "#f0f921"
             ]
            ],
            "type": "surface"
           }
          ],
          "table": [
           {
            "cells": {
             "fill": {
              "color": "#EBF0F8"
             },
             "line": {
              "color": "white"
             }
            },
            "header": {
             "fill": {
              "color": "#C8D4E3"
             },
             "line": {
              "color": "white"
             }
            },
            "type": "table"
           }
          ]
         },
         "layout": {
          "annotationdefaults": {
           "arrowcolor": "#2a3f5f",
           "arrowhead": 0,
           "arrowwidth": 1
          },
          "autotypenumbers": "strict",
          "coloraxis": {
           "colorbar": {
            "outlinewidth": 0,
            "ticks": ""
           }
          },
          "colorscale": {
           "diverging": [
            [
             0,
             "#8e0152"
            ],
            [
             0.1,
             "#c51b7d"
            ],
            [
             0.2,
             "#de77ae"
            ],
            [
             0.3,
             "#f1b6da"
            ],
            [
             0.4,
             "#fde0ef"
            ],
            [
             0.5,
             "#f7f7f7"
            ],
            [
             0.6,
             "#e6f5d0"
            ],
            [
             0.7,
             "#b8e186"
            ],
            [
             0.8,
             "#7fbc41"
            ],
            [
             0.9,
             "#4d9221"
            ],
            [
             1,
             "#276419"
            ]
           ],
           "sequential": [
            [
             0.0,
             "#0d0887"
            ],
            [
             0.1111111111111111,
             "#46039f"
            ],
            [
             0.2222222222222222,
             "#7201a8"
            ],
            [
             0.3333333333333333,
             "#9c179e"
            ],
            [
             0.4444444444444444,
             "#bd3786"
            ],
            [
             0.5555555555555556,
             "#d8576b"
            ],
            [
             0.6666666666666666,
             "#ed7953"
            ],
            [
             0.7777777777777778,
             "#fb9f3a"
            ],
            [
             0.8888888888888888,
             "#fdca26"
            ],
            [
             1.0,
             "#f0f921"
            ]
           ],
           "sequentialminus": [
            [
             0.0,
             "#0d0887"
            ],
            [
             0.1111111111111111,
             "#46039f"
            ],
            [
             0.2222222222222222,
             "#7201a8"
            ],
            [
             0.3333333333333333,
             "#9c179e"
            ],
            [
             0.4444444444444444,
             "#bd3786"
            ],
            [
             0.5555555555555556,
             "#d8576b"
            ],
            [
             0.6666666666666666,
             "#ed7953"
            ],
            [
             0.7777777777777778,
             "#fb9f3a"
            ],
            [
             0.8888888888888888,
             "#fdca26"
            ],
            [
             1.0,
             "#f0f921"
            ]
           ]
          },
          "colorway": [
           "#636efa",
           "#EF553B",
           "#00cc96",
           "#ab63fa",
           "#FFA15A",
           "#19d3f3",
           "#FF6692",
           "#B6E880",
           "#FF97FF",
           "#FECB52"
          ],
          "font": {
           "color": "#2a3f5f"
          },
          "geo": {
           "bgcolor": "white",
           "lakecolor": "white",
           "landcolor": "#E5ECF6",
           "showlakes": true,
           "showland": true,
           "subunitcolor": "white"
          },
          "hoverlabel": {
           "align": "left"
          },
          "hovermode": "closest",
          "mapbox": {
           "style": "light"
          },
          "paper_bgcolor": "white",
          "plot_bgcolor": "#E5ECF6",
          "polar": {
           "angularaxis": {
            "gridcolor": "white",
            "linecolor": "white",
            "ticks": ""
           },
           "bgcolor": "#E5ECF6",
           "radialaxis": {
            "gridcolor": "white",
            "linecolor": "white",
            "ticks": ""
           }
          },
          "scene": {
           "xaxis": {
            "backgroundcolor": "#E5ECF6",
            "gridcolor": "white",
            "gridwidth": 2,
            "linecolor": "white",
            "showbackground": true,
            "ticks": "",
            "zerolinecolor": "white"
           },
           "yaxis": {
            "backgroundcolor": "#E5ECF6",
            "gridcolor": "white",
            "gridwidth": 2,
            "linecolor": "white",
            "showbackground": true,
            "ticks": "",
            "zerolinecolor": "white"
           },
           "zaxis": {
            "backgroundcolor": "#E5ECF6",
            "gridcolor": "white",
            "gridwidth": 2,
            "linecolor": "white",
            "showbackground": true,
            "ticks": "",
            "zerolinecolor": "white"
           }
          },
          "shapedefaults": {
           "line": {
            "color": "#2a3f5f"
           }
          },
          "ternary": {
           "aaxis": {
            "gridcolor": "white",
            "linecolor": "white",
            "ticks": ""
           },
           "baxis": {
            "gridcolor": "white",
            "linecolor": "white",
            "ticks": ""
           },
           "bgcolor": "#E5ECF6",
           "caxis": {
            "gridcolor": "white",
            "linecolor": "white",
            "ticks": ""
           }
          },
          "title": {
           "x": 0.05
          },
          "xaxis": {
           "automargin": true,
           "gridcolor": "white",
           "linecolor": "white",
           "ticks": "",
           "title": {
            "standoff": 15
           },
           "zerolinecolor": "white",
           "zerolinewidth": 2
          },
          "yaxis": {
           "automargin": true,
           "gridcolor": "white",
           "linecolor": "white",
           "ticks": "",
           "title": {
            "standoff": 15
           },
           "zerolinecolor": "white",
           "zerolinewidth": 2
          }
         }
        },
        "title": {
         "text": "Most Suitable Player to Buy Currently"
        },
        "xaxis": {
         "anchor": "y",
         "domain": [
          0.0,
          1.0
         ],
         "title": {
          "text": "Points Per Game"
         }
        },
        "yaxis": {
         "anchor": "x",
         "domain": [
          0.0,
          1.0
         ],
         "tickprefix": "£",
         "title": {
          "text": "Price"
         }
        }
       }
      },
      "text/html": [
       "<div>                            <div id=\"9f851206-8ccb-4773-ac26-aa066ae2883a\" class=\"plotly-graph-div\" style=\"height:525px; width:100%;\"></div>            <script type=\"text/javascript\">                require([\"plotly\"], function(Plotly) {                    window.PLOTLYENV=window.PLOTLYENV || {};                                    if (document.getElementById(\"9f851206-8ccb-4773-ac26-aa066ae2883a\")) {                    Plotly.newPlot(                        \"9f851206-8ccb-4773-ac26-aa066ae2883a\",                        [{\"customdata\":[[\"Arsenal\"],[\"Arsenal\"],[\"Arsenal\"],[\"Arsenal\"],[\"Arsenal\"],[\"Aston Villa\"],[\"Aston Villa\"],[\"Aston Villa\"],[\"Brentford\"],[\"Brentford\"],[\"Brentford\"],[\"Brentford\"],[\"Brighton\"],[\"Brighton\"],[\"Brighton\"],[\"Brighton\"],[\"Burnley\"],[\"Burnley\"],[\"Burnley\"],[\"Burnley\"],[\"Chelsea\"],[\"Chelsea\"],[\"Crystal Palace\"],[\"Crystal Palace\"],[\"Crystal Palace\"],[\"Everton\"],[\"Everton\"],[\"Everton\"],[\"Everton\"],[\"Leicester\"],[\"Leicester\"],[\"Leicester\"],[\"Leeds\"],[\"Leeds\"],[\"Leeds\"],[\"Liverpool\"],[\"Liverpool\"],[\"Liverpool\"],[\"Man City\"],[\"Man City\"],[\"Man City\"],[\"Man Utd\"],[\"Man Utd\"],[\"Man Utd\"],[\"Newcastle\"],[\"Newcastle\"],[\"Newcastle\"],[\"Newcastle\"],[\"Norwich\"],[\"Norwich\"],[\"Norwich\"],[\"Southampton\"],[\"Southampton\"],[\"Spurs\"],[\"Spurs\"],[\"Spurs\"],[\"Watford\"],[\"Watford\"],[\"Watford\"],[\"West Ham\"],[\"West Ham\"],[\"West Ham\"],[\"Wolves\"],[\"Wolves\"],[\"Wolves\"],[\"Wolves\"]],\"hovertemplate\":\"<b>%{hovertext}</b><br><br>Player Type=Goalkeeper<br>points_per_game=%{x}<br>now_cost=%{y}<br>size=%{marker.size}<br>team_name=%{customdata[0]}<extra></extra>\",\"hovertext\":[\"Bernd Leno\",\"R\\u00fanar Alex R\\u00fanarsson\",\"Karl Hein\",\"Aaron Ramsdale\",\"Arthur Okonkwo\",\"Jed Steer\",\"Emiliano Mart\\u00ednez\",\"Viljami Sinisalo\",\"David Raya\",\"Ellery Balcombe\",\"Patrik Gunnarsson\",\"\\u00c1lvaro Fern\\u00e1ndez\",\"Jason Steele\",\"Mathew Ryan\",\"Robert S\\u00e1nchez\",\"Kjell Scherpen\",\"Nick Pope\",\"Will Norris\",\"Bailey Peacock-Farrell\",\"Wayne Hennessey\",\"Kepa Arrizabalaga\",\"Edouard Mendy\",\"Vicente Guaita\",\"Jack Butland\",\"Remi Matthews\",\"Jordan Pickford\",\"Jo\\u00e3o Virg\\u00ednia\",\"Asmir Begovi\\u0107\",\"Andy Lonergan\",\"Kasper Schmeichel\",\"Danny Ward\",\"Eldin Jakupovic\",\"Francisco Casilla\",\"Illan Meslier\",\"Kristoffer Klaesson\",\"Adri\\u00e1n Adri\\u00e1n\",\"Alisson Alisson\",\"Caoimhin Kelleher\",\"Ederson Ederson\",\"Zack Steffen\",\"Scott Carson\",\"David de Gea\",\"Dean Henderson\",\"Tom Heaton\",\"Karl Darlow\",\"Martin Dubravka\",\"Freddie Woodman\",\"Mark Gillespie\",\"Michael McGovern\",\"Tim Krul\",\"Angus Gunn\",\"Fraser Forster\",\"Alex McCarthy\",\"Joe Hart\",\"Hugo Lloris\",\"Pierluigi Gollini\",\"Ben Foster\",\"Daniel Bachmann\",\"Robert Elliot\",\"Darren Randolph\",\"Lukasz Fabianski\",\"Alphonse Areola\",\"Rui Pedro Patr\\u00edcio\",\"Andreas S\\u00f6ndergaard\",\"John Ruddy\",\"Jos\\u00e9 S\\u00e1\"],\"legendgroup\":\"Goalkeeper\",\"marker\":{\"color\":\"#636efa\",\"size\":[2.55,1.0499999999999998,1.0499999999999998,4.050000000000001,1.0499999999999998,1.5,4.5,1.0499999999999998,6.6000000000000005,1.0499999999999998,1.0499999999999998,1.0499999999999998,1.0499999999999998,1.0499999999999998,8.100000000000001,1.0499999999999998,4.5,1.0499999999999998,1.0499999999999998,1.0499999999999998,1.0499999999999998,11.100000000000001,9.0,1.0499999999999998,1.0499999999999998,6.0,1.0499999999999998,1.0499999999999998,1.0499999999999998,5.1000000000000005,1.0499999999999998,1.0499999999999998,1.0499999999999998,4.5,1.0499999999999998,1.0499999999999998,10.5,1.0499999999999998,10.05,1.0499999999999998,1.0499999999999998,7.050000000000001,1.0499999999999998,1.0499999999999998,1.0499999999999998,1.0499999999999998,2.55,1.0499999999999998,1.0499999999999998,2.0999999999999996,1.0499999999999998,1.0499999999999998,6.0,1.0499999999999998,10.05,1.0499999999999998,1.0499999999999998,4.5,1.0499999999999998,1.0499999999999998,5.550000000000001,1.0499999999999998,1.0499999999999998,1.0499999999999998,1.0499999999999998,6.6000000000000005],\"sizemode\":\"area\",\"sizeref\":0.05137499999999999,\"symbol\":\"circle\"},\"mode\":\"markers\",\"name\":\"Goalkeeper\",\"orientation\":\"v\",\"showlegend\":true,\"type\":\"scatter\",\"x\":[1.3,0.0,0.0,6.0,0.0,1.0,3.0,0.0,4.8,0.0,0.0,0.0,0.0,0.0,4.0,0.0,2.2,0.0,0.0,0.0,0.0,6.5,4.5,0.0,0.0,3.0,0.0,0.0,0.0,4.2,0.0,0.0,0.0,2.0,0.0,0.0,6.5,0.0,5.0,0.0,0.0,3.5,0.0,0.0,0.0,0.0,2.2,0.0,0.0,1.0,0.0,0.0,3.0,0.0,7.0,0.0,0.0,2.0,0.0,0.0,2.5,0.0,0.0,0.0,0.0,3.5],\"xaxis\":\"x\",\"y\":[4.9,4.0,4.0,4.5,4.0,4.0,5.5,4.0,4.6,4.0,4.0,4.5,4.0,4.5,4.5,4.5,5.5,4.5,4.5,4.5,4.9,6.0,4.5,4.5,4.0,5.0,4.0,4.0,4.0,5.0,4.0,4.0,4.5,5.0,4.5,4.5,6.0,4.5,6.0,4.5,4.0,5.0,4.9,4.0,4.5,4.5,4.5,4.0,4.0,4.5,4.0,4.5,4.5,4.5,5.6,4.4,4.0,4.5,4.0,4.5,5.0,4.9,5.0,4.0,4.5,5.0],\"yaxis\":\"y\"},{\"customdata\":[[\"Arsenal\"],[\"Arsenal\"],[\"Arsenal\"],[\"Arsenal\"],[\"Arsenal\"],[\"Arsenal\"],[\"Arsenal\"],[\"Arsenal\"],[\"Arsenal\"],[\"Arsenal\"],[\"Arsenal\"],[\"Arsenal\"],[\"Arsenal\"],[\"Arsenal\"],[\"Aston Villa\"],[\"Aston Villa\"],[\"Aston Villa\"],[\"Aston Villa\"],[\"Aston Villa\"],[\"Aston Villa\"],[\"Aston Villa\"],[\"Aston Villa\"],[\"Aston Villa\"],[\"Aston Villa\"],[\"Aston Villa\"],[\"Aston Villa\"],[\"Aston Villa\"],[\"Aston Villa\"],[\"Brentford\"],[\"Brentford\"],[\"Brentford\"],[\"Brentford\"],[\"Brentford\"],[\"Brentford\"],[\"Brentford\"],[\"Brentford\"],[\"Brentford\"],[\"Brentford\"],[\"Brentford\"],[\"Brentford\"],[\"Brentford\"],[\"Brighton\"],[\"Brighton\"],[\"Brighton\"],[\"Brighton\"],[\"Brighton\"],[\"Brighton\"],[\"Brighton\"],[\"Brighton\"],[\"Brighton\"],[\"Brighton\"],[\"Brighton\"],[\"Brighton\"],[\"Brighton\"],[\"Burnley\"],[\"Burnley\"],[\"Burnley\"],[\"Burnley\"],[\"Burnley\"],[\"Burnley\"],[\"Burnley\"],[\"Burnley\"],[\"Burnley\"],[\"Chelsea\"],[\"Chelsea\"],[\"Chelsea\"],[\"Chelsea\"],[\"Chelsea\"],[\"Chelsea\"],[\"Chelsea\"],[\"Chelsea\"],[\"Chelsea\"],[\"Chelsea\"],[\"Chelsea\"],[\"Crystal Palace\"],[\"Crystal Palace\"],[\"Crystal Palace\"],[\"Crystal Palace\"],[\"Crystal Palace\"],[\"Crystal Palace\"],[\"Crystal Palace\"],[\"Crystal Palace\"],[\"Crystal Palace\"],[\"Crystal Palace\"],[\"Crystal Palace\"],[\"Everton\"],[\"Everton\"],[\"Everton\"],[\"Everton\"],[\"Everton\"],[\"Everton\"],[\"Everton\"],[\"Everton\"],[\"Everton\"],[\"Everton\"],[\"Everton\"],[\"Everton\"],[\"Everton\"],[\"Leicester\"],[\"Leicester\"],[\"Leicester\"],[\"Leicester\"],[\"Leicester\"],[\"Leicester\"],[\"Leicester\"],[\"Leicester\"],[\"Leicester\"],[\"Leicester\"],[\"Leicester\"],[\"Leicester\"],[\"Leeds\"],[\"Leeds\"],[\"Leeds\"],[\"Leeds\"],[\"Leeds\"],[\"Leeds\"],[\"Leeds\"],[\"Leeds\"],[\"Leeds\"],[\"Leeds\"],[\"Leeds\"],[\"Leeds\"],[\"Leeds\"],[\"Leeds\"],[\"Liverpool\"],[\"Liverpool\"],[\"Liverpool\"],[\"Liverpool\"],[\"Liverpool\"],[\"Liverpool\"],[\"Liverpool\"],[\"Liverpool\"],[\"Liverpool\"],[\"Liverpool\"],[\"Liverpool\"],[\"Liverpool\"],[\"Liverpool\"],[\"Liverpool\"],[\"Man City\"],[\"Man City\"],[\"Man City\"],[\"Man City\"],[\"Man City\"],[\"Man City\"],[\"Man City\"],[\"Man City\"],[\"Man City\"],[\"Man City\"],[\"Man City\"],[\"Man City\"],[\"Man City\"],[\"Man Utd\"],[\"Man Utd\"],[\"Man Utd\"],[\"Man Utd\"],[\"Man Utd\"],[\"Man Utd\"],[\"Man Utd\"],[\"Man Utd\"],[\"Man Utd\"],[\"Man Utd\"],[\"Man Utd\"],[\"Man Utd\"],[\"Man Utd\"],[\"Newcastle\"],[\"Newcastle\"],[\"Newcastle\"],[\"Newcastle\"],[\"Newcastle\"],[\"Newcastle\"],[\"Newcastle\"],[\"Newcastle\"],[\"Newcastle\"],[\"Newcastle\"],[\"Norwich\"],[\"Norwich\"],[\"Norwich\"],[\"Norwich\"],[\"Norwich\"],[\"Norwich\"],[\"Norwich\"],[\"Norwich\"],[\"Norwich\"],[\"Norwich\"],[\"Norwich\"],[\"Norwich\"],[\"Norwich\"],[\"Southampton\"],[\"Southampton\"],[\"Southampton\"],[\"Southampton\"],[\"Southampton\"],[\"Southampton\"],[\"Southampton\"],[\"Southampton\"],[\"Southampton\"],[\"Southampton\"],[\"Spurs\"],[\"Spurs\"],[\"Spurs\"],[\"Spurs\"],[\"Spurs\"],[\"Spurs\"],[\"Spurs\"],[\"Spurs\"],[\"Spurs\"],[\"Spurs\"],[\"Spurs\"],[\"Spurs\"],[\"Watford\"],[\"Watford\"],[\"Watford\"],[\"Watford\"],[\"Watford\"],[\"Watford\"],[\"Watford\"],[\"Watford\"],[\"Watford\"],[\"Watford\"],[\"Watford\"],[\"Watford\"],[\"Watford\"],[\"Watford\"],[\"Watford\"],[\"West Ham\"],[\"West Ham\"],[\"West Ham\"],[\"West Ham\"],[\"West Ham\"],[\"West Ham\"],[\"West Ham\"],[\"West Ham\"],[\"West Ham\"],[\"West Ham\"],[\"West Ham\"],[\"Wolves\"],[\"Wolves\"],[\"Wolves\"],[\"Wolves\"],[\"Wolves\"],[\"Wolves\"],[\"Wolves\"],[\"Wolves\"],[\"Wolves\"],[\"Wolves\"],[\"Wolves\"]],\"hovertemplate\":\"<b>%{hovertext}</b><br><br>Player Type=Midfielder<br>points_per_game=%{x}<br>now_cost=%{y}<br>size=%{marker.size}<br>team_name=%{customdata[0]}<extra></extra>\",\"hovertext\":[\"Willian Willian\",\"Granit Xhaka\",\"Mohamed Naser Elneny\",\"Ainsley Maitland-Niles\",\"Thomas Partey\",\"Nicolas P\\u00e9p\\u00e9\",\"Lucas Torreira\",\"Emile Smith Rowe\",\"Bukayo Saka\",\"Matt\\u00e9o Guendouzi\",\"Gabriel Teodoro Martinelli\",\"Albert Sambi Lokonga\",\"Reiss Nelson\",\"Martin \\u00d8degaard\",\"Conor Hourihane\",\"Bertrand Traor\\u00e9\",\"Morgan Sanson\",\"John McGinn\",\"Mahmoud Ahmed Tr\\u00e9z\\u00e9guet\",\"Marvelous Nakamba\",\"Anwar El Ghazi\",\"Emiliano Buend\\u00eda\",\"Douglas Luiz Douglas Luiz\",\"Jacob Ramsey\",\"Leon Bailey\",\"Aaron Ramsey\",\"Jaden Philogene-Bidace\",\"Carney Chukwuemeka\",\"Christian N\\u00f8rgaard\",\"Tariqe Fosu\",\"Sergi Can\\u00f3s\",\"Pelenda Joshua Dasilva\",\"Vitaly Janelt\",\"Saman Ghoddos\",\"Mathias Jensen\",\"Jan Zamburek\",\"Bryan Mbeumo\",\"Mads Bidstrup\",\"Frank Onyeka\",\"Shandon Baptiste\",\"Yoane Wissa\",\"Adam Lallana\",\"Pascal Gro\\u00df\",\"Davy Pr\\u00f6pper\",\"Solomon March\",\"Leandro Trossard\",\"Alireza Jahanbakhsh\",\"Yves Bissouma\",\"Steven Alzate\",\"Alexis Mac Allister\",\"Jakub Moder\",\"Enock Mwepu\",\"Taylor Richards\",\"Mois\\u00e9s Caicedo\",\"Jack Cork\",\"Dale Stephens\",\"Ashley Westwood\",\"Johann Berg Gudmundsson\",\"Josh Brownhill\",\"Josh Benson\",\"Dwight McNeil\",\"Aaron Lennon\",\"Maxwel Cornet\",\"Jorge Luiz Jorginho\",\"Ross Barkley\",\"Mateo Kovacic\",\"N'Golo Kant\\u00e9\",\"Hakim Ziyech\",\"Ruben Loftus-Cheek\",\"Christian Pulisic\",\"Mason Mount\",\"Callum Hudson-Odoi\",\"Kai Havertz\",\"Sa\\u00fal Sa\\u00fal\",\"Conor Gallagher\",\"James McArthur\",\"Luka Milivojevic\",\"Wilfried Zaha\",\"Jeffrey Schlupp\",\"Jairo Riedewald\",\"Eberechi Eze\",\"Will Hughes\",\"Michael Olise\",\"Jesurun Rak-Sakyi\",\"Scott Banks\",\"Fabian Delph\",\"Gylfi Sigurdsson\",\"James James\",\"Bernard Bernard\",\"Allan Allan\",\"Andr\\u00e9 Filipe Andr\\u00e9 Gomes\",\"Abdoulaye Doucour\\u00e9\",\"Alex Iwobi\",\"Tom Davies\",\"Andros Townsend\",\"Demarai Gray\",\"Anthony Gordon\",\"Jean-Philippe Gbamin\",\"Marc Albrighton\",\"Nampalys Mendy\",\"Dennis Praet\",\"Youri Tielemans\",\"Ayoze P\\u00e9rez\",\"James Maddison\",\"Hamza Choudhury\",\"Harvey Barnes\",\"Wilfred Ndidi\",\"Boubakary Soumar\\u00e9\",\"Kiernan Dewsbury-Hall\",\"Ademola Lookman\",\"Pablo Hern\\u00e1ndez\",\"Mateusz Klich\",\"Stuart Dallas\",\"Kalvin Phillips\",\"H\\u00e9lder Wander Costa\",\"Tyler Roberts\",\"Ian Carlo Poveda\",\"Raphael Raphinha\",\"Jamie Shackleton\",\"Jack Harrison\",\"Daniel James\",\"Crysencio Summerville\",\"Adam Forshaw\",\"Liam McCarron\",\"James Milner\",\"Jordan Henderson\",\"Thiago Thiago\",\"Xherdan Shaqiri\",\"Alex Chamberlain\",\"Sadio Man\\u00e9\",\"Fabio Henrique Fabinho\",\"Mohamed Salah\",\"Takumi Minamino\",\"Naby Keita\",\"Diogo Jota\",\"Curtis Jones\",\"Harvey Elliott\",\"Ben Woodburn\",\"Jack Grealish\",\"Ilkay G\\u00fcndogan\",\"Kevin De Bruyne\",\"Riyad Mahrez\",\"Raheem Sterling\",\"Bernardo Mota Bernardo\",\"Phil Foden\",\"Rodrigo Rodrigo\",\"Ferran Torres\",\"Fernando Fernandinho\",\"Cole Palmer\",\"Samuel Edozie\",\"Tommy Doyle\",\"Nemanja Matic\",\"Paul Pogba\",\"Frederico Fred\",\"Jesse Lingard\",\"Bruno Miguel Fernandes\",\"Marcus Rashford\",\"Donny van de Beek\",\"Scott McTominay\",\"Mason Greenwood\",\"Juan Mata\",\"Jadon Sancho\",\"Andreas Pereira\",\"Anthony Elanga\",\"Joseph Willock\",\"Jonjo Shelvey\",\"Jeff Hendrick\",\"Ryan Fraser\",\"Jacob Murphy\",\"Isaac Hayden\",\"Miguel Almir\\u00f3n\",\"Sean S.Longstaff\",\"Matthew M.Longstaff\",\"Joe White\",\"Billy Gilmour\",\"Marco Stiepermann\",\"Lukas Rupp\",\"Kenny McLean\",\"Onel Hern\\u00e1ndez\",\"Kieran Dowell\",\"Todd Cantwell\",\"Przemyslaw Placheta\",\"Josh Martin\",\"Milot Rashica\",\"Pierre Lees-Melou\",\"Christos Tzolis\",\"Mathias Normann\",\"Theo Walcott\",\"Oriol Romeu\",\"Nathan Redmond\",\"Stuart S.Armstrong\",\"James Ward-Prowse\",\"Nathan Tella\",\"William Smallbone\",\"Ibrahima Diallo\",\"Moussa Djenepo\",\"Mohamed Elyounoussi\",\"Erik Lamela\",\"Heung-Min Son\",\"Lucas Lucas Moura\",\"Bamidele Dele\",\"Pierre-Emile H\\u00f8jbjerg\",\"Harry Winks\",\"Steven Bergwijn\",\"Giovani Lo Celso\",\"Oliver Skipp\",\"Tanguy Ndombele\",\"Bryan Bryan\",\"Dilan Markanday\",\"Moussa Sissoko\",\"Dan Gosling\",\"Tom Cleverley\",\"Nathaniel Chalobah\",\"Ken Sema\",\"Philip Zinckernagel\",\"Ayotomiwa Dele-Bashiru\",\"Domingos Quina\",\"Ismaila Sarr\",\"Joseph Hungbo\",\"Imr\\u00e2n Louza\",\"Kwadwo Baah\",\"Oghenekaro Peter Etebo\",\"Juraj Kucka\",\"Ozan Tufan\",\"Mark Noble\",\"Andriy Yarmolenko\",\"Manuel Lanzini\",\"Sa\\u00efd Benrahma\",\"Jarrod Bowen\",\"Declan Rice\",\"Tomas Soucek\",\"Pablo Fornals\",\"Conor Coventry\",\"Nikola Vlasic\",\"Alex Kral\",\"Jo\\u00e3o Filipe Iria Moutinho\",\"Leander Dendoncker\",\"Adama Traor\\u00e9\",\"R\\u00faben Diogo Neves\",\"Daniel Podence\",\"Morgan Gibbs-White\",\"Pedro Neto\",\"Owen Otasowie\",\"Francisco Trinc\\u00e3o\",\"Luke Cundle\",\"Chem Campbell\"],\"legendgroup\":\"Midfielder\",\"marker\":{\"color\":\"#EF553B\",\"size\":[1.0499999999999998,1.0499999999999998,1.5,3.0,1.0499999999999998,5.1000000000000005,1.0499999999999998,3.5999999999999996,4.050000000000001,1.0499999999999998,2.0999999999999996,3.0,1.0499999999999998,3.5999999999999996,1.0499999999999998,1.5,1.0499999999999998,3.0,1.0499999999999998,2.0999999999999996,6.0,7.050000000000001,4.050000000000001,2.55,1.5,1.0499999999999998,1.5,2.0999999999999996,3.5999999999999996,1.0499999999999998,4.5,1.0499999999999998,4.5,2.55,2.0999999999999996,1.0499999999999998,4.050000000000001,1.5,3.0,3.0,2.0999999999999996,4.5,5.1000000000000005,1.0499999999999998,2.55,9.0,1.0499999999999998,7.050000000000001,1.0499999999999998,5.1000000000000005,3.0,1.0499999999999998,1.5,1.0499999999999998,2.0999999999999996,1.0499999999999998,3.0,6.0,3.0,1.0499999999999998,4.5,1.7999999999999998,1.0499999999999998,4.050000000000001,1.0499999999999998,9.600000000000001,2.0999999999999996,3.0,1.0499999999999998,1.0499999999999998,5.1000000000000005,2.55,7.5,2.55,14.099999999999998,7.050000000000001,1.5,9.600000000000001,3.0,1.0499999999999998,1.0499999999999998,1.0499999999999998,1.5,1.0499999999999998,1.0499999999999998,1.5,1.0499999999999998,1.0499999999999998,1.0499999999999998,7.050000000000001,2.0999999999999996,9.600000000000001,3.0,1.0499999999999998,9.0,13.049999999999999,1.0499999999999998,1.0499999999999998,5.550000000000001,1.0499999999999998,1.0499999999999998,6.6000000000000005,0.0,4.050000000000001,1.0499999999999998,4.050000000000001,4.050000000000001,1.5,1.5,2.55,1.0499999999999998,5.550000000000001,4.050000000000001,3.5999999999999996,1.0499999999999998,2.55,1.0499999999999998,6.6000000000000005,3.5999999999999996,4.050000000000001,2.0999999999999996,1.0499999999999998,1.0499999999999998,1.0499999999999998,1.0499999999999998,4.050000000000001,5.550000000000001,1.0499999999999998,1.5,11.55,5.550000000000001,11.55,1.0499999999999998,3.0,7.050000000000001,1.0499999999999998,5.1000000000000005,1.0499999999999998,9.600000000000001,8.100000000000001,1.0499999999999998,6.0,5.1000000000000005,9.600000000000001,1.0499999999999998,7.050000000000001,13.049999999999999,1.5,1.5,1.0499999999999998,1.0499999999999998,3.0,8.55,2.0999999999999996,4.5,6.6000000000000005,1.0499999999999998,1.5,1.5,12.600000000000001,1.0499999999999998,4.050000000000001,1.0499999999999998,1.0499999999999998,4.050000000000001,1.0499999999999998,1.5,3.5999999999999996,4.5,2.0999999999999996,4.050000000000001,3.5999999999999996,1.0499999999999998,1.0499999999999998,3.0,1.0499999999999998,3.0,3.5999999999999996,1.0499999999999998,2.55,3.0,1.0499999999999998,1.0499999999999998,3.5999999999999996,5.1000000000000005,2.0999999999999996,1.0499999999999998,1.5,3.0,3.0,1.0499999999999998,7.5,1.0499999999999998,1.0499999999999998,2.55,3.0,6.6000000000000005,1.0499999999999998,7.5,3.5999999999999996,7.5,4.5,2.0999999999999996,5.550000000000001,1.5,4.050000000000001,1.0499999999999998,1.5,1.0499999999999998,2.55,1.0499999999999998,2.55,1.0499999999999998,2.55,1.0499999999999998,1.0499999999999998,1.0499999999999998,4.050000000000001,1.0499999999999998,1.5,1.0499999999999998,3.0,3.0,1.0499999999999998,1.5,2.55,1.5,9.600000000000001,4.5,5.550000000000001,4.5,10.05,1.0499999999999998,2.55,1.0499999999999998,5.1000000000000005,1.5,4.5,4.050000000000001,2.0999999999999996,1.0499999999999998,1.0499999999999998,1.0499999999999998,5.1000000000000005,1.0499999999999998,1.0499999999999998],\"sizemode\":\"area\",\"sizeref\":0.05137499999999999,\"symbol\":\"circle\"},\"mode\":\"markers\",\"name\":\"Midfielder\",\"orientation\":\"v\",\"showlegend\":true,\"type\":\"scatter\",\"x\":[0.0,0.7,1.0,2.0,0.0,3.3,0.0,1.8,1.8,0.0,2.0,2.0,1.0,2.5,0.0,2.5,0.0,3.7,0.0,1.3,3.7,4.7,2.0,1.3,2.5,0.0,1.0,2.0,3.2,0.0,4.5,0.0,2.5,1.5,1.0,0.0,2.2,1.0,2.3,2.0,1.0,2.0,4.7,0.0,1.7,4.5,0.0,3.5,2.0,4.2,2.0,0.5,1.0,0.0,2.0,0.0,3.7,2.8,1.2,0.0,2.2,0.5,0.0,2.2,0.0,5.8,1.0,2.0,0.0,8.0,4.7,3.0,3.5,1.0,8.7,3.5,1.0,4.8,1.7,2.0,0.0,0.0,1.0,1.0,0.0,1.0,0.0,0.0,0.0,3.5,1.0,6.2,2.0,0.0,5.2,6.5,1.0,0.0,4.5,0.0,0.0,3.5,0.5,2.2,0.0,2.2,2.2,1.0,1.0,1.0,0.0,5.5,2.8,1.7,1.0,1.0,0.0,3.0,2.5,2.0,1.3,0.0,0.0,0.0,2.0,2.0,3.0,0.0,2.0,6.0,3.3,9.5,0.0,2.3,5.0,0.0,2.2,0.0,4.5,4.0,1.0,4.0,2.5,5.7,0.0,4.0,6.5,1.5,1.0,0.0,0.0,1.7,7.8,3.0,3.5,7.8,0.0,1.0,1.5,7.8,0.0,1.8,0.0,0.0,2.0,1.0,1.0,2.0,3.5,1.3,2.0,1.5,0.0,0.0,2.0,0.0,1.5,1.7,0.0,2.0,1.2,0.0,0.0,1.8,2.5,2.0,0.0,1.5,1.5,1.7,0.0,3.8,1.0,0.0,1.0,1.5,5.5,0.0,7.7,1.8,4.0,2.5,1.0,5.0,1.0,2.2,0.0,1.0,0.0,1.5,1.0,2.7,0.0,1.3,0.0,0.0,0.0,3.8,0.0,1.0,0.0,1.2,2.0,0.0,1.0,1.0,1.0,7.2,2.2,2.8,3.8,5.8,0.0,1.0,0.0,2.5,1.0,2.2,2.0,1.0,0.5,0.0,0.0,2.5,0.0,0.0],\"xaxis\":\"x\",\"y\":[6.3,4.9,4.5,5.4,5.0,7.2,4.5,5.3,6.3,4.5,5.3,5.0,5.0,5.5,4.9,5.9,5.0,5.9,5.5,4.5,6.0,6.4,4.5,4.5,6.4,4.5,5.0,4.5,5.0,5.2,5.5,5.4,5.0,5.4,4.9,4.5,5.5,4.5,4.9,5.0,5.9,5.4,6.0,4.5,5.4,6.4,5.5,4.6,5.0,5.5,4.5,5.9,4.5,4.5,4.5,4.5,5.4,5.5,4.5,4.5,5.9,5.0,6.0,5.9,5.3,5.1,4.9,7.4,5.4,7.9,7.4,5.3,8.3,5.5,5.6,4.5,5.4,6.9,5.4,4.9,5.9,4.9,5.4,4.5,4.5,4.4,6.8,6.9,5.5,4.6,4.9,5.5,5.9,4.9,5.4,5.7,4.5,4.5,5.4,4.4,4.9,6.5,5.8,6.8,4.5,6.8,5.0,4.9,4.5,6.0,5.5,5.5,5.4,4.9,5.4,4.9,4.5,6.5,4.5,5.8,6.0,4.5,4.5,4.5,4.9,5.0,5.4,5.9,5.9,11.9,5.4,12.5,5.2,5.0,7.7,5.0,5.5,4.5,8.0,7.3,11.9,8.8,10.8,6.9,7.9,5.5,7.2,4.9,4.5,4.9,4.5,4.5,7.8,5.0,6.9,12.0,9.4,5.8,5.4,7.7,4.9,9.1,5.0,4.9,6.0,5.4,4.9,5.4,5.0,4.5,5.4,4.5,4.5,4.5,4.5,5.0,4.5,4.9,4.9,5.3,5.4,4.9,5.0,5.4,5.0,5.0,4.5,5.9,4.5,5.9,5.8,6.4,4.8,4.5,4.5,5.5,5.5,6.0,10.0,6.5,6.5,5.0,4.5,6.0,5.9,4.5,5.8,5.9,4.5,4.5,4.9,5.0,5.0,5.4,5.5,4.5,4.5,6.0,4.5,5.4,4.5,4.5,5.5,5.0,4.5,5.3,5.8,6.4,6.3,5.0,6.0,6.0,4.5,6.0,4.5,5.0,4.9,6.0,5.5,5.5,4.5,6.4,4.5,5.9,4.5,4.5],\"yaxis\":\"y\"},{\"customdata\":[[\"Arsenal\"],[\"Arsenal\"],[\"Arsenal\"],[\"Arsenal\"],[\"Aston Villa\"],[\"Aston Villa\"],[\"Aston Villa\"],[\"Aston Villa\"],[\"Aston Villa\"],[\"Aston Villa\"],[\"Brentford\"],[\"Brentford\"],[\"Brentford\"],[\"Brighton\"],[\"Brighton\"],[\"Brighton\"],[\"Brighton\"],[\"Brighton\"],[\"Brighton\"],[\"Burnley\"],[\"Burnley\"],[\"Burnley\"],[\"Burnley\"],[\"Burnley\"],[\"Chelsea\"],[\"Chelsea\"],[\"Chelsea\"],[\"Chelsea\"],[\"Chelsea\"],[\"Crystal Palace\"],[\"Crystal Palace\"],[\"Crystal Palace\"],[\"Crystal Palace\"],[\"Crystal Palace\"],[\"Everton\"],[\"Everton\"],[\"Everton\"],[\"Everton\"],[\"Everton\"],[\"Leicester\"],[\"Leicester\"],[\"Leicester\"],[\"Leeds\"],[\"Leeds\"],[\"Leeds\"],[\"Leeds\"],[\"Liverpool\"],[\"Liverpool\"],[\"Man City\"],[\"Man Utd\"],[\"Man Utd\"],[\"Man Utd\"],[\"Newcastle\"],[\"Newcastle\"],[\"Newcastle\"],[\"Newcastle\"],[\"Norwich\"],[\"Norwich\"],[\"Norwich\"],[\"Norwich\"],[\"Southampton\"],[\"Southampton\"],[\"Southampton\"],[\"Southampton\"],[\"Southampton\"],[\"Southampton\"],[\"Spurs\"],[\"Spurs\"],[\"Watford\"],[\"Watford\"],[\"Watford\"],[\"Watford\"],[\"Watford\"],[\"Watford\"],[\"Watford\"],[\"Watford\"],[\"Watford\"],[\"Watford\"],[\"West Ham\"],[\"Wolves\"],[\"Wolves\"],[\"Wolves\"],[\"Wolves\"]],\"hovertemplate\":\"<b>%{hovertext}</b><br><br>Player Type=Forward<br>points_per_game=%{x}<br>now_cost=%{y}<br>size=%{marker.size}<br>team_name=%{customdata[0]}<extra></extra>\",\"hovertext\":[\"Pierre-Emerick Aubameyang\",\"Alexandre Lacazette\",\"Edward Nketiah\",\"Folarin Balogun\",\"Ollie Watkins\",\"Wesley Wesley\",\"Mbwana Ally Samatta\",\"Keinan Davis\",\"Danny Ings\",\"Cameron Archer\",\"Ivan Toney\",\"Marcus Forss\",\"Halil Dervi\\u015fo\\u011flu\",\"Neal Maupay\",\"Aaron Connolly\",\"Danny Welbeck\",\"Florin Andone\",\"Andi Zeqiri\",\"J\\u00fcrgen Locadia\",\"Jay Rodriguez\",\"Ashley Barnes\",\"Chris Wood\",\"Matej Vydra\",\"Lewis Richardson\",\"Olivier Giroud\",\"Michy Batshuayi\",\"Timo Werner\",\"Tammy Abraham\",\"Romelu Lukaku\",\"Christian Benteke\",\"Jordan Ayew\",\"Jean-Philippe Mateta\",\"Robert Street\",\"Odsonne Edouard\",\"Dominic Calvert-Lewin\",\"Richarlison Richarlison\",\"Nathan Broadhead\",\"Moise Kean\",\"Salom\\u00f3n Rond\\u00f3n\",\"Jamie Vardy\",\"Kelechi Iheanacho\",\"Patson Daka\",\"Rodrigo Rodrigo\",\"Patrick Bamford\",\"Sam Greenwood\",\"Joe Gelhardt\",\"Roberto Firmino\",\"Divock Origi\",\"Gabriel Fernando Jesus\",\"Edinson Cavani\",\"Anthony Martial\",\"Cristiano Ronaldo Ronaldo\",\"Callum Wilson\",\"Dwight Gayle\",\"Allan Saint-Maximin\",\"Joelinton C\\u00e1ssio Joelinton\",\"Teemu Pukki\",\"Jordan Hugill\",\"Adam Idah\",\"Joshua Sargent\",\"Daniel Nlundulu\",\"Che Adams\",\"Michael Obafemi\",\"Armando Broja\",\"Shane Long\",\"Adam A.Armstrong\",\"Harry Kane\",\"Dane Scarlett\",\"Troy Deeney\",\"Andre Gray\",\"Stipe Perica\",\"Isaac Success\",\"Ashley Fletcher\",\"Jo\\u00e3o Pedro Jo\\u00e3o Pedro\",\"Emmanuel Dennis\",\"Joshua King\",\"Adedapo Mebude\",\"Juan Camilo Cucho\",\"Michail Antonio\",\"Ra\\u00fal Jim\\u00e9nez\",\"Fabio Fabio Silva\",\"Patrick Cutrone\",\"Hee-Chan Hwang\"],\"legendgroup\":\"Forward\",\"marker\":{\"color\":\"#00cc96\",\"size\":[6.6000000000000005,1.5,1.0499999999999998,1.5,2.55,1.5,1.0499999999999998,1.0499999999999998,8.100000000000001,1.0499999999999998,6.0,1.0499999999999998,1.0499999999999998,6.0,1.5,2.55,1.0499999999999998,1.0499999999999998,1.0499999999999998,2.0999999999999996,3.5999999999999996,7.5,2.0999999999999996,1.0499999999999998,1.0499999999999998,1.0499999999999998,2.0999999999999996,1.0499999999999998,12.600000000000001,5.1000000000000005,3.5999999999999996,1.0499999999999998,1.0499999999999998,19.049999999999997,9.0,3.5999999999999996,1.0499999999999998,1.5,2.55,9.0,2.55,1.5,2.0999999999999996,8.100000000000001,1.0499999999999998,1.0499999999999998,2.0999999999999996,1.0499999999999998,13.5,1.5,2.55,20.549999999999997,6.0,1.0499999999999998,7.5,3.0,6.6000000000000005,1.0499999999999998,2.0999999999999996,2.0999999999999996,1.0499999999999998,4.5,1.0499999999999998,2.0999999999999996,1.0499999999999998,5.550000000000001,2.55,1.0499999999999998,1.5,1.0499999999999998,1.0499999999999998,1.0499999999999998,1.0499999999999998,1.0499999999999998,3.0,3.0,1.0499999999999998,2.55,14.099999999999998,3.0,2.0999999999999996,1.0499999999999998,13.049999999999999],\"sizemode\":\"area\",\"sizeref\":0.05137499999999999,\"symbol\":\"circle\"},\"mode\":\"markers\",\"name\":\"Forward\",\"orientation\":\"v\",\"showlegend\":true,\"type\":\"scatter\",\"x\":[3.7,1.0,0.0,1.0,1.5,1.0,0.0,0.0,5.2,0.0,3.0,1.0,0.0,3.8,1.0,1.5,0.0,0.0,0.0,1.3,1.5,3.8,1.0,0.0,0.0,0.0,1.3,0.0,7.7,2.2,1.8,1.0,0.0,12.0,7.7,4.0,0.0,1.0,1.0,5.2,1.0,1.0,1.0,4.0,0.0,0.0,3.0,0.0,6.5,1.0,1.0,13.0,5.3,0.0,4.8,1.2,3.2,0.0,1.0,1.0,0.0,4.0,0.0,1.0,0.0,3.8,1.0,0.0,1.0,0.0,0.0,0.0,0.0,0.0,4.0,1.3,0.0,2.2,9.8,1.5,1.0,0.0,8.0],\"xaxis\":\"x\",\"y\":[9.9,8.4,5.4,4.9,7.3,5.4,5.5,4.5,8.0,4.5,6.3,5.4,5.4,6.5,5.4,6.0,5.0,4.5,4.5,5.4,5.5,6.9,5.3,4.5,6.5,5.5,8.7,6.5,11.6,6.4,5.9,5.4,4.5,6.5,8.1,7.5,4.5,6.0,6.0,10.4,7.1,7.2,6.3,7.9,4.5,4.5,8.8,4.9,8.6,8.4,7.7,12.6,7.4,5.4,6.6,5.8,5.9,5.4,5.0,5.5,4.5,7.0,4.5,5.0,5.5,6.0,12.2,4.5,5.4,5.4,4.5,5.0,4.9,5.4,5.2,5.5,4.5,5.0,7.9,7.4,5.8,5.0,5.5],\"yaxis\":\"y\"},{\"customdata\":[[\"Arsenal\"],[\"Arsenal\"],[\"Arsenal\"],[\"Arsenal\"],[\"Arsenal\"],[\"Arsenal\"],[\"Arsenal\"],[\"Arsenal\"],[\"Arsenal\"],[\"Arsenal\"],[\"Arsenal\"],[\"Arsenal\"],[\"Arsenal\"],[\"Aston Villa\"],[\"Aston Villa\"],[\"Aston Villa\"],[\"Aston Villa\"],[\"Aston Villa\"],[\"Aston Villa\"],[\"Aston Villa\"],[\"Aston Villa\"],[\"Aston Villa\"],[\"Brentford\"],[\"Brentford\"],[\"Brentford\"],[\"Brentford\"],[\"Brentford\"],[\"Brentford\"],[\"Brentford\"],[\"Brentford\"],[\"Brentford\"],[\"Brentford\"],[\"Brighton\"],[\"Brighton\"],[\"Brighton\"],[\"Brighton\"],[\"Brighton\"],[\"Brighton\"],[\"Brighton\"],[\"Brighton\"],[\"Brighton\"],[\"Brighton\"],[\"Burnley\"],[\"Burnley\"],[\"Burnley\"],[\"Burnley\"],[\"Burnley\"],[\"Burnley\"],[\"Burnley\"],[\"Burnley\"],[\"Burnley\"],[\"Burnley\"],[\"Burnley\"],[\"Chelsea\"],[\"Chelsea\"],[\"Chelsea\"],[\"Chelsea\"],[\"Chelsea\"],[\"Chelsea\"],[\"Chelsea\"],[\"Chelsea\"],[\"Chelsea\"],[\"Chelsea\"],[\"Chelsea\"],[\"Crystal Palace\"],[\"Crystal Palace\"],[\"Crystal Palace\"],[\"Crystal Palace\"],[\"Crystal Palace\"],[\"Crystal Palace\"],[\"Crystal Palace\"],[\"Crystal Palace\"],[\"Crystal Palace\"],[\"Crystal Palace\"],[\"Crystal Palace\"],[\"Everton\"],[\"Everton\"],[\"Everton\"],[\"Everton\"],[\"Everton\"],[\"Everton\"],[\"Everton\"],[\"Everton\"],[\"Everton\"],[\"Leicester\"],[\"Leicester\"],[\"Leicester\"],[\"Leicester\"],[\"Leicester\"],[\"Leicester\"],[\"Leicester\"],[\"Leicester\"],[\"Leicester\"],[\"Leicester\"],[\"Leeds\"],[\"Leeds\"],[\"Leeds\"],[\"Leeds\"],[\"Leeds\"],[\"Leeds\"],[\"Leeds\"],[\"Leeds\"],[\"Liverpool\"],[\"Liverpool\"],[\"Liverpool\"],[\"Liverpool\"],[\"Liverpool\"],[\"Liverpool\"],[\"Liverpool\"],[\"Liverpool\"],[\"Liverpool\"],[\"Liverpool\"],[\"Liverpool\"],[\"Man City\"],[\"Man City\"],[\"Man City\"],[\"Man City\"],[\"Man City\"],[\"Man City\"],[\"Man City\"],[\"Man City\"],[\"Man Utd\"],[\"Man Utd\"],[\"Man Utd\"],[\"Man Utd\"],[\"Man Utd\"],[\"Man Utd\"],[\"Man Utd\"],[\"Man Utd\"],[\"Newcastle\"],[\"Newcastle\"],[\"Newcastle\"],[\"Newcastle\"],[\"Newcastle\"],[\"Newcastle\"],[\"Newcastle\"],[\"Newcastle\"],[\"Newcastle\"],[\"Norwich\"],[\"Norwich\"],[\"Norwich\"],[\"Norwich\"],[\"Norwich\"],[\"Norwich\"],[\"Norwich\"],[\"Norwich\"],[\"Norwich\"],[\"Norwich\"],[\"Norwich\"],[\"Southampton\"],[\"Southampton\"],[\"Southampton\"],[\"Southampton\"],[\"Southampton\"],[\"Southampton\"],[\"Southampton\"],[\"Southampton\"],[\"Spurs\"],[\"Spurs\"],[\"Spurs\"],[\"Spurs\"],[\"Spurs\"],[\"Spurs\"],[\"Spurs\"],[\"Spurs\"],[\"Spurs\"],[\"Spurs\"],[\"Spurs\"],[\"Spurs\"],[\"Spurs\"],[\"Watford\"],[\"Watford\"],[\"Watford\"],[\"Watford\"],[\"Watford\"],[\"Watford\"],[\"Watford\"],[\"Watford\"],[\"Watford\"],[\"Watford\"],[\"Watford\"],[\"West Ham\"],[\"West Ham\"],[\"West Ham\"],[\"West Ham\"],[\"West Ham\"],[\"West Ham\"],[\"West Ham\"],[\"West Ham\"],[\"West Ham\"],[\"West Ham\"],[\"West Ham\"],[\"West Ham\"],[\"Wolves\"],[\"Wolves\"],[\"Wolves\"],[\"Wolves\"],[\"Wolves\"],[\"Wolves\"],[\"Wolves\"],[\"Wolves\"],[\"Wolves\"],[\"Wolves\"],[\"Wolves\"]],\"hovertemplate\":\"<b>%{hovertext}</b><br><br>Player Type=Defender<br>points_per_game=%{x}<br>now_cost=%{y}<br>size=%{marker.size}<br>team_name=%{customdata[0]}<extra></extra>\",\"hovertext\":[\"C\\u00e9dric C\\u00e9dric\",\"Pablo Mar\\u00ed\",\"H\\u00e9ctor Beller\\u00edn\",\"Calum Chambers\",\"Sead Kolasinac\",\"Rob Holding\",\"Kieran Tierney\",\"Gabriel Gabriel\",\"Konstantinos Mavropanos\",\"William Saliba\",\"Ben White\",\"Nuno Tavares\",\"Takehiro Tomiyasu\",\"Bj\\u00f6rn Engels\",\"Kortney Hause\",\"Tyrone Mings\",\"Matt Targett\",\"Matthew Cash\",\"Ezri Konsa\",\"Fr\\u00e9d\\u00e9ric Guilbert\",\"Ashley Young\",\"Axel Tuanzebe\",\"Pontus Jansson\",\"Rico Henry\",\"Charlie Goode\",\"Mads Roerslev\",\"Mads S\\u00f8rensen\",\"Ethan Pinnock\",\"Kristoffer Ajer\",\"Dominic Thompson\",\"Finley Stevens\",\"Mathias Zanka\",\"Shane Duffy\",\"Dan Burn\",\"Lewis Dunk\",\"Adam Webster\",\"Jo\\u00ebl Veltman\",\"Bernardo Bernardo\",\"Tariq Lamptey\",\"Michal Karbownik\",\"Haydon Roberts\",\"Marc Cucurella\",\"James Tarkowski\",\"Phil Bardsley\",\"Erik Pieters\",\"Kevin Long\",\"Ben Mee\",\"Matthew Lowton\",\"Charlie Taylor\",\"Nathan Collins\",\"Bobby Thomas\",\"Owen Dodgson\",\"Connor Roberts\",\"C\\u00e9sar Azpilicueta\",\"Thiago Thiago Silva\",\"Marcos Alonso\",\"Antonio R\\u00fcdiger\",\"Andreas Christensen\",\"Benjamin Chilwell\",\"Ethan Ampadu\",\"Reece James\",\"Malang Sarr\",\"Trevoh Chalobah\",\"Emerson Emerson\",\"James Tomkins\",\"Cheikhou Kouyat\\u00e9\",\"Martin Kelly\",\"Jaros\\u0142aw Jach\",\"Nathan Ferguson\",\"Tyrick Mitchell\",\"Joel Ward\",\"Marc Gu\\u00e9hi\",\"Joachim Andersen\",\"Nathaniel Clyne\",\"Reece Hannam\",\"Seamus Coleman\",\"Lucas Digne\",\"Michael Keane\",\"Yerry Mina\",\"Mason Holgate\",\"Ben Godfrey\",\"Jonjoe Kenny\",\"Jarrad Branthwaite\",\"Niels Nkounkou\",\"Jonny Evans\",\"Ricardo Domingos Pereira\",\"Daniel Amartey\",\"Timothy Castagne\",\"\\u00c7aglar S\\u00f6y\\u00fcnc\\u00fc\",\"James Justin\",\"Luke Thomas\",\"Wesley Fofana\",\"Jannik Vestergaard\",\"Ryan Bertrand\",\"Liam Cooper\",\"Luke Ayling\",\"Diego Llorente\",\"Robin Koch\",\"Pascal Struijk\",\"H\\u00e9ctor Junior Firpo\",\"Cody Drameh\",\"Charlie Cresswell\",\"Joel Matip\",\"Virgil van Dijk\",\"Andrew Robertson\",\"Trent Alexander-Arnold\",\"Joseph Gomez\",\"Nathaniel Phillips\",\"Ibrahima Konat\\u00e9\",\"Konstantinos Tsimikas\",\"Neco N.Williams\",\"Rhys R.Williams\",\"Ben Davies\",\"Kyle Walker\",\"John Stones\",\"Benjamin Mendy\",\"Jo\\u00e3o Pedro Cavaco Cancelo\",\"Nathan Ak\\u00e9\",\"Aymeric Laporte\",\"R\\u00faben Santos Dias\",\"Oleksandr Zinchenko\",\"Harry Maguire\",\"Luke Shaw\",\"Alex Nicolao Telles\",\"Victor Lindel\\u00f6f\",\"Eric Bailly\",\"Aaron Wan-Bissaka\",\"Jos\\u00e9 Diogo Dalot\",\"Rapha\\u00ebl Varane\",\"Matt Ritchie\",\"Ciaran Clark\",\"Jamaal Lascelles\",\"Paul Dummett\",\"Javier Manquillo\",\"Emil Krafth\",\"Fabian Sch\\u00e4r\",\"Jamal Lewis\",\"Federico Fern\\u00e1ndez\",\"Brandon Williams\",\"Grant Hanley\",\"Sam Byram\",\"Christoph Zimmermann\",\"Max Aarons\",\"Jacob S\\u00f8rensen\",\"Andrew Omobamidele\",\"Ben Gibson\",\"Dimitris Giannoulis\",\"Bali Mumba\",\"Ozan Kabak\",\"Jack Stephens\",\"Kyle Walker-Peters\",\"Jan Bednarek\",\"Mohammed Salisu\",\"Romain Perraud\",\"Tino Livramento\",\"Yan Valery\",\"Lyanco Evangelista Lyanco\",\"Toby Alderweireld\",\"Serge Aurier\",\"Matt Doherty\",\"Eric Dier\",\"Ben Davies\",\"Davinson S\\u00e1nchez\",\"Ryan Sessegnon\",\"Sergio Reguil\\u00f3n\",\"Japhet Tanganga\",\"Joe Rodon\",\"Cristian Romero\",\"Emerson Aparecido Emerson Royal\",\"Tobi Omole\",\"Danny Rose\",\"Craig Cathcart\",\"Francisco Femen\\u00eda\",\"Christian Kabasele\",\"William Troost-Ekong\",\"Adam Masina\",\"Francisco Sierralta\",\"Marc Navarro\",\"Jeremy Ngakia\",\"Ben Wilmot\",\"Matthew Pollock\",\"Kurt Zouma\",\"Angelo Ogbonna\",\"Winston Reid\",\"Aaron Cresswell\",\"Craig Dawson\",\"Ryan Fredericks\",\"Arthur Masuaku\",\"Vladimir Coufal\",\"Issa Diop\",\"Ben Johnson\",\"Frederik Alves\",\"Jamal Baptiste\",\"Willy Boly\",\"Conor Coady\",\"Romain Sa\\u00efss\",\"Fernando Mar\\u00e7al\",\"Jonathan Jonny\",\"N\\u00e9lson Semedo\",\"Max Kilman\",\"Ki-Jana Hoever\",\"Yerson Mosquera\",\"Rayan Ait Nouri\",\"Christian Marques\"],\"legendgroup\":\"Defender\",\"marker\":{\"color\":\"#ab63fa\",\"size\":[1.5,1.0499999999999998,1.0499999999999998,1.0499999999999998,0.6,1.0499999999999998,5.1000000000000005,5.1000000000000005,1.0499999999999998,1.0499999999999998,3.5999999999999996,1.5,10.05,1.0499999999999998,1.5,8.55,2.0999999999999996,5.1000000000000005,5.550000000000001,1.0499999999999998,5.1000000000000005,3.0,10.05,6.0,1.0499999999999998,1.5,1.0499999999999998,6.0,5.550000000000001,1.0499999999999998,1.0499999999999998,1.0499999999999998,11.100000000000001,1.0499999999999998,8.55,4.5,4.5,1.0499999999999998,1.0499999999999998,1.0499999999999998,1.0499999999999998,11.55,3.0,1.0499999999999998,1.5,1.0499999999999998,5.550000000000001,5.1000000000000005,3.0,1.0499999999999998,1.0499999999999998,1.0499999999999998,1.0499999999999998,7.050000000000001,4.5,7.5,7.5,5.1000000000000005,1.0499999999999998,1.0499999999999998,10.5,1.0499999999999998,4.5,1.0499999999999998,1.0499999999999998,8.100000000000001,1.0499999999999998,1.0499999999999998,1.0499999999999998,7.5,7.050000000000001,7.5,7.5,1.0499999999999998,1.0499999999999998,7.050000000000001,5.1000000000000005,9.0,2.0999999999999996,4.050000000000001,2.0999999999999996,1.0499999999999998,1.0499999999999998,1.0499999999999998,1.5,2.55,2.0999999999999996,3.0,2.55,1.0499999999999998,2.0999999999999996,1.0499999999999998,4.050000000000001,2.0999999999999996,3.5999999999999996,3.0,2.0999999999999996,1.0499999999999998,0.6,1.5,1.0499999999999998,1.0499999999999998,8.100000000000001,8.100000000000001,5.550000000000001,15.0,1.5,1.0499999999999998,1.0499999999999998,7.050000000000001,1.0499999999999998,1.0499999999999998,1.0499999999999998,7.5,1.0499999999999998,1.0499999999999998,13.049999999999999,1.0499999999999998,13.5,13.049999999999999,1.5,6.0,8.55,1.0499999999999998,2.0999999999999996,1.0499999999999998,7.050000000000001,1.0499999999999998,8.100000000000001,2.0999999999999996,1.5,1.5,1.0499999999999998,4.5,1.0499999999999998,1.0499999999999998,1.5,2.0999999999999996,2.55,2.0999999999999996,1.0499999999999998,1.0499999999999998,3.0,1.0499999999999998,2.0999999999999996,1.5,1.0499999999999998,1.0499999999999998,1.0499999999999998,4.5,1.5,1.5,6.6000000000000005,5.1000000000000005,5.550000000000001,1.0499999999999998,1.0499999999999998,1.0499999999999998,1.0499999999999998,1.0499999999999998,8.100000000000001,1.0499999999999998,8.100000000000001,1.0499999999999998,9.0,5.1000000000000005,1.5,1.0499999999999998,2.55,1.0499999999999998,1.0499999999999998,2.0999999999999996,1.0499999999999998,1.5,3.0,2.55,1.5,1.0499999999999998,2.0999999999999996,1.0499999999999998,1.0499999999999998,1.0499999999999998,7.050000000000001,1.0499999999999998,8.55,5.550000000000001,1.0499999999999998,1.0499999999999998,7.050000000000001,1.0499999999999998,1.0499999999999998,1.0499999999999998,1.0499999999999998,1.0499999999999998,6.0,5.550000000000001,9.600000000000001,1.0499999999999998,6.0,5.550000000000001,1.0499999999999998,1.0499999999999998,1.5,1.0499999999999998],\"sizemode\":\"area\",\"sizeref\":0.05137499999999999,\"symbol\":\"circle\"},\"mode\":\"markers\",\"name\":\"Defender\",\"orientation\":\"v\",\"showlegend\":true,\"type\":\"scatter\",\"x\":[0.3,0.5,0.0,0.5,-1.0,0.0,2.2,8.0,0.0,0.0,3.0,1.0,6.0,0.0,1.0,5.0,0.7,2.2,2.5,0.0,3.0,1.3,6.0,4.0,0.0,1.0,1.0,5.2,3.8,0.0,0.0,0.0,5.5,0.0,4.2,2.2,3.5,0.0,0.0,0.0,0.0,7.0,2.5,0.0,1.0,0.0,2.5,2.2,1.2,0.0,0.0,0.0,0.0,4.5,3.5,7.0,4.8,5.0,0.0,0.0,6.7,0.0,7.0,1.0,0.0,3.8,0.0,0.0,0.0,3.5,3.2,3.5,3.5,0.0,0.0,3.5,2.5,4.5,1.0,4.0,2.0,0.0,0.0,0.0,1.0,5.0,2.7,2.0,2.2,0.0,3.0,0.0,3.5,2.0,1.0,2.5,1.0,0.0,-0.2,0.0,0.0,0.0,5.0,5.2,4.5,8.5,1.0,0.0,0.0,6.0,0.0,0.0,0.0,4.3,0.0,3.0,6.5,2.0,8.3,6.5,1.0,3.0,4.0,0.0,3.5,0.0,3.5,0.0,7.0,1.2,0.5,0.3,0.0,7.0,0.0,0.0,1.0,0.7,1.5,0.8,0.0,0.0,1.2,0.0,2.0,0.7,0.5,0.0,0.0,2.0,0.5,1.0,3.0,3.0,2.5,0.0,0.0,0.0,0.0,1.0,5.2,0.0,6.3,0.0,5.8,3.5,1.0,1.0,1.0,0.0,0.0,1.0,0.0,1.0,1.2,1.3,0.5,0.0,1.0,0.0,0.0,0.0,3.2,0.0,5.5,2.5,1.0,0.0,3.2,0.0,1.0,0.0,0.0,0.0,3.0,2.8,4.5,0.0,3.3,2.8,1.0,0.0,1.0,0.0],\"xaxis\":\"x\",\"y\":[4.4,4.4,4.8,4.4,4.3,4.3,4.9,5.0,4.5,4.5,4.4,4.4,4.5,4.5,4.4,5.0,4.8,5.0,4.9,4.5,5.0,4.5,4.6,4.5,3.9,4.4,4.4,4.6,4.5,4.5,4.0,4.5,4.2,4.4,5.0,4.5,4.4,4.0,4.4,4.0,4.0,5.0,5.0,4.0,4.4,4.0,4.9,4.4,4.5,4.4,4.0,4.0,4.5,6.0,5.4,5.7,5.5,5.0,5.7,4.5,5.6,4.9,4.9,4.5,4.4,4.5,4.0,4.4,4.5,4.5,4.5,4.5,4.5,4.4,4.0,5.0,5.4,5.0,4.9,4.5,4.8,4.5,4.0,4.0,5.4,5.5,4.1,5.4,5.0,4.9,4.5,4.4,4.9,4.9,4.5,4.5,4.5,4.4,4.4,4.8,4.0,4.0,5.0,6.5,7.0,7.5,4.9,4.4,5.2,4.1,4.0,4.4,4.0,5.5,5.3,5.3,6.0,4.9,5.6,6.0,5.3,5.4,5.5,5.0,4.9,5.0,5.4,4.4,5.5,5.0,4.4,4.4,4.5,4.0,4.4,4.4,4.4,4.5,4.0,4.4,4.4,4.4,4.5,4.4,3.9,4.4,4.4,4.0,4.5,4.5,4.9,4.4,4.5,4.9,4.1,4.0,4.5,5.0,4.9,4.8,4.6,4.4,4.5,4.4,5.2,4.6,4.4,4.9,5.0,4.0,4.4,4.4,4.4,4.4,4.5,4.5,4.4,4.0,4.4,4.5,4.0,5.4,5.0,4.0,5.5,5.0,4.5,4.4,5.0,4.4,4.0,4.0,4.0,4.9,4.5,5.0,4.6,4.5,4.9,4.5,4.0,4.5,4.3,4.0],\"yaxis\":\"y\"}],                        {\"annotations\":[{\"showarrow\":false,\"text\":\"Bubble Size : Player Form\",\"x\":1.15,\"xref\":\"paper\",\"y\":1.1,\"yref\":\"paper\"}],\"legend\":{\"itemsizing\":\"constant\",\"title\":{\"text\":\"Player Type\"},\"tracegroupgap\":0},\"showlegend\":true,\"template\":{\"data\":{\"bar\":[{\"error_x\":{\"color\":\"#2a3f5f\"},\"error_y\":{\"color\":\"#2a3f5f\"},\"marker\":{\"line\":{\"color\":\"#E5ECF6\",\"width\":0.5},\"pattern\":{\"fillmode\":\"overlay\",\"size\":10,\"solidity\":0.2}},\"type\":\"bar\"}],\"barpolar\":[{\"marker\":{\"line\":{\"color\":\"#E5ECF6\",\"width\":0.5},\"pattern\":{\"fillmode\":\"overlay\",\"size\":10,\"solidity\":0.2}},\"type\":\"barpolar\"}],\"carpet\":[{\"aaxis\":{\"endlinecolor\":\"#2a3f5f\",\"gridcolor\":\"white\",\"linecolor\":\"white\",\"minorgridcolor\":\"white\",\"startlinecolor\":\"#2a3f5f\"},\"baxis\":{\"endlinecolor\":\"#2a3f5f\",\"gridcolor\":\"white\",\"linecolor\":\"white\",\"minorgridcolor\":\"white\",\"startlinecolor\":\"#2a3f5f\"},\"type\":\"carpet\"}],\"choropleth\":[{\"colorbar\":{\"outlinewidth\":0,\"ticks\":\"\"},\"type\":\"choropleth\"}],\"contour\":[{\"colorbar\":{\"outlinewidth\":0,\"ticks\":\"\"},\"colorscale\":[[0.0,\"#0d0887\"],[0.1111111111111111,\"#46039f\"],[0.2222222222222222,\"#7201a8\"],[0.3333333333333333,\"#9c179e\"],[0.4444444444444444,\"#bd3786\"],[0.5555555555555556,\"#d8576b\"],[0.6666666666666666,\"#ed7953\"],[0.7777777777777778,\"#fb9f3a\"],[0.8888888888888888,\"#fdca26\"],[1.0,\"#f0f921\"]],\"type\":\"contour\"}],\"contourcarpet\":[{\"colorbar\":{\"outlinewidth\":0,\"ticks\":\"\"},\"type\":\"contourcarpet\"}],\"heatmap\":[{\"colorbar\":{\"outlinewidth\":0,\"ticks\":\"\"},\"colorscale\":[[0.0,\"#0d0887\"],[0.1111111111111111,\"#46039f\"],[0.2222222222222222,\"#7201a8\"],[0.3333333333333333,\"#9c179e\"],[0.4444444444444444,\"#bd3786\"],[0.5555555555555556,\"#d8576b\"],[0.6666666666666666,\"#ed7953\"],[0.7777777777777778,\"#fb9f3a\"],[0.8888888888888888,\"#fdca26\"],[1.0,\"#f0f921\"]],\"type\":\"heatmap\"}],\"heatmapgl\":[{\"colorbar\":{\"outlinewidth\":0,\"ticks\":\"\"},\"colorscale\":[[0.0,\"#0d0887\"],[0.1111111111111111,\"#46039f\"],[0.2222222222222222,\"#7201a8\"],[0.3333333333333333,\"#9c179e\"],[0.4444444444444444,\"#bd3786\"],[0.5555555555555556,\"#d8576b\"],[0.6666666666666666,\"#ed7953\"],[0.7777777777777778,\"#fb9f3a\"],[0.8888888888888888,\"#fdca26\"],[1.0,\"#f0f921\"]],\"type\":\"heatmapgl\"}],\"histogram\":[{\"marker\":{\"pattern\":{\"fillmode\":\"overlay\",\"size\":10,\"solidity\":0.2}},\"type\":\"histogram\"}],\"histogram2d\":[{\"colorbar\":{\"outlinewidth\":0,\"ticks\":\"\"},\"colorscale\":[[0.0,\"#0d0887\"],[0.1111111111111111,\"#46039f\"],[0.2222222222222222,\"#7201a8\"],[0.3333333333333333,\"#9c179e\"],[0.4444444444444444,\"#bd3786\"],[0.5555555555555556,\"#d8576b\"],[0.6666666666666666,\"#ed7953\"],[0.7777777777777778,\"#fb9f3a\"],[0.8888888888888888,\"#fdca26\"],[1.0,\"#f0f921\"]],\"type\":\"histogram2d\"}],\"histogram2dcontour\":[{\"colorbar\":{\"outlinewidth\":0,\"ticks\":\"\"},\"colorscale\":[[0.0,\"#0d0887\"],[0.1111111111111111,\"#46039f\"],[0.2222222222222222,\"#7201a8\"],[0.3333333333333333,\"#9c179e\"],[0.4444444444444444,\"#bd3786\"],[0.5555555555555556,\"#d8576b\"],[0.6666666666666666,\"#ed7953\"],[0.7777777777777778,\"#fb9f3a\"],[0.8888888888888888,\"#fdca26\"],[1.0,\"#f0f921\"]],\"type\":\"histogram2dcontour\"}],\"mesh3d\":[{\"colorbar\":{\"outlinewidth\":0,\"ticks\":\"\"},\"type\":\"mesh3d\"}],\"parcoords\":[{\"line\":{\"colorbar\":{\"outlinewidth\":0,\"ticks\":\"\"}},\"type\":\"parcoords\"}],\"pie\":[{\"automargin\":true,\"type\":\"pie\"}],\"scatter\":[{\"marker\":{\"colorbar\":{\"outlinewidth\":0,\"ticks\":\"\"}},\"type\":\"scatter\"}],\"scatter3d\":[{\"line\":{\"colorbar\":{\"outlinewidth\":0,\"ticks\":\"\"}},\"marker\":{\"colorbar\":{\"outlinewidth\":0,\"ticks\":\"\"}},\"type\":\"scatter3d\"}],\"scattercarpet\":[{\"marker\":{\"colorbar\":{\"outlinewidth\":0,\"ticks\":\"\"}},\"type\":\"scattercarpet\"}],\"scattergeo\":[{\"marker\":{\"colorbar\":{\"outlinewidth\":0,\"ticks\":\"\"}},\"type\":\"scattergeo\"}],\"scattergl\":[{\"marker\":{\"colorbar\":{\"outlinewidth\":0,\"ticks\":\"\"}},\"type\":\"scattergl\"}],\"scattermapbox\":[{\"marker\":{\"colorbar\":{\"outlinewidth\":0,\"ticks\":\"\"}},\"type\":\"scattermapbox\"}],\"scatterpolar\":[{\"marker\":{\"colorbar\":{\"outlinewidth\":0,\"ticks\":\"\"}},\"type\":\"scatterpolar\"}],\"scatterpolargl\":[{\"marker\":{\"colorbar\":{\"outlinewidth\":0,\"ticks\":\"\"}},\"type\":\"scatterpolargl\"}],\"scatterternary\":[{\"marker\":{\"colorbar\":{\"outlinewidth\":0,\"ticks\":\"\"}},\"type\":\"scatterternary\"}],\"surface\":[{\"colorbar\":{\"outlinewidth\":0,\"ticks\":\"\"},\"colorscale\":[[0.0,\"#0d0887\"],[0.1111111111111111,\"#46039f\"],[0.2222222222222222,\"#7201a8\"],[0.3333333333333333,\"#9c179e\"],[0.4444444444444444,\"#bd3786\"],[0.5555555555555556,\"#d8576b\"],[0.6666666666666666,\"#ed7953\"],[0.7777777777777778,\"#fb9f3a\"],[0.8888888888888888,\"#fdca26\"],[1.0,\"#f0f921\"]],\"type\":\"surface\"}],\"table\":[{\"cells\":{\"fill\":{\"color\":\"#EBF0F8\"},\"line\":{\"color\":\"white\"}},\"header\":{\"fill\":{\"color\":\"#C8D4E3\"},\"line\":{\"color\":\"white\"}},\"type\":\"table\"}]},\"layout\":{\"annotationdefaults\":{\"arrowcolor\":\"#2a3f5f\",\"arrowhead\":0,\"arrowwidth\":1},\"autotypenumbers\":\"strict\",\"coloraxis\":{\"colorbar\":{\"outlinewidth\":0,\"ticks\":\"\"}},\"colorscale\":{\"diverging\":[[0,\"#8e0152\"],[0.1,\"#c51b7d\"],[0.2,\"#de77ae\"],[0.3,\"#f1b6da\"],[0.4,\"#fde0ef\"],[0.5,\"#f7f7f7\"],[0.6,\"#e6f5d0\"],[0.7,\"#b8e186\"],[0.8,\"#7fbc41\"],[0.9,\"#4d9221\"],[1,\"#276419\"]],\"sequential\":[[0.0,\"#0d0887\"],[0.1111111111111111,\"#46039f\"],[0.2222222222222222,\"#7201a8\"],[0.3333333333333333,\"#9c179e\"],[0.4444444444444444,\"#bd3786\"],[0.5555555555555556,\"#d8576b\"],[0.6666666666666666,\"#ed7953\"],[0.7777777777777778,\"#fb9f3a\"],[0.8888888888888888,\"#fdca26\"],[1.0,\"#f0f921\"]],\"sequentialminus\":[[0.0,\"#0d0887\"],[0.1111111111111111,\"#46039f\"],[0.2222222222222222,\"#7201a8\"],[0.3333333333333333,\"#9c179e\"],[0.4444444444444444,\"#bd3786\"],[0.5555555555555556,\"#d8576b\"],[0.6666666666666666,\"#ed7953\"],[0.7777777777777778,\"#fb9f3a\"],[0.8888888888888888,\"#fdca26\"],[1.0,\"#f0f921\"]]},\"colorway\":[\"#636efa\",\"#EF553B\",\"#00cc96\",\"#ab63fa\",\"#FFA15A\",\"#19d3f3\",\"#FF6692\",\"#B6E880\",\"#FF97FF\",\"#FECB52\"],\"font\":{\"color\":\"#2a3f5f\"},\"geo\":{\"bgcolor\":\"white\",\"lakecolor\":\"white\",\"landcolor\":\"#E5ECF6\",\"showlakes\":true,\"showland\":true,\"subunitcolor\":\"white\"},\"hoverlabel\":{\"align\":\"left\"},\"hovermode\":\"closest\",\"mapbox\":{\"style\":\"light\"},\"paper_bgcolor\":\"white\",\"plot_bgcolor\":\"#E5ECF6\",\"polar\":{\"angularaxis\":{\"gridcolor\":\"white\",\"linecolor\":\"white\",\"ticks\":\"\"},\"bgcolor\":\"#E5ECF6\",\"radialaxis\":{\"gridcolor\":\"white\",\"linecolor\":\"white\",\"ticks\":\"\"}},\"scene\":{\"xaxis\":{\"backgroundcolor\":\"#E5ECF6\",\"gridcolor\":\"white\",\"gridwidth\":2,\"linecolor\":\"white\",\"showbackground\":true,\"ticks\":\"\",\"zerolinecolor\":\"white\"},\"yaxis\":{\"backgroundcolor\":\"#E5ECF6\",\"gridcolor\":\"white\",\"gridwidth\":2,\"linecolor\":\"white\",\"showbackground\":true,\"ticks\":\"\",\"zerolinecolor\":\"white\"},\"zaxis\":{\"backgroundcolor\":\"#E5ECF6\",\"gridcolor\":\"white\",\"gridwidth\":2,\"linecolor\":\"white\",\"showbackground\":true,\"ticks\":\"\",\"zerolinecolor\":\"white\"}},\"shapedefaults\":{\"line\":{\"color\":\"#2a3f5f\"}},\"ternary\":{\"aaxis\":{\"gridcolor\":\"white\",\"linecolor\":\"white\",\"ticks\":\"\"},\"baxis\":{\"gridcolor\":\"white\",\"linecolor\":\"white\",\"ticks\":\"\"},\"bgcolor\":\"#E5ECF6\",\"caxis\":{\"gridcolor\":\"white\",\"linecolor\":\"white\",\"ticks\":\"\"}},\"title\":{\"x\":0.05},\"xaxis\":{\"automargin\":true,\"gridcolor\":\"white\",\"linecolor\":\"white\",\"ticks\":\"\",\"title\":{\"standoff\":15},\"zerolinecolor\":\"white\",\"zerolinewidth\":2},\"yaxis\":{\"automargin\":true,\"gridcolor\":\"white\",\"linecolor\":\"white\",\"ticks\":\"\",\"title\":{\"standoff\":15},\"zerolinecolor\":\"white\",\"zerolinewidth\":2}}},\"title\":{\"text\":\"Most Suitable Player to Buy Currently\"},\"xaxis\":{\"anchor\":\"y\",\"domain\":[0.0,1.0],\"title\":{\"text\":\"Points Per Game\"}},\"yaxis\":{\"anchor\":\"x\",\"domain\":[0.0,1.0],\"tickprefix\":\"\\u00a3\",\"title\":{\"text\":\"Price\"}}},                        {\"responsive\": true}                    ).then(function(){\n",
       "                            \n",
       "var gd = document.getElementById('9f851206-8ccb-4773-ac26-aa066ae2883a');\n",
       "var x = new MutationObserver(function (mutations, observer) {{\n",
       "        var display = window.getComputedStyle(gd).display;\n",
       "        if (!display || display === 'none') {{\n",
       "            console.log([gd, 'removed!']);\n",
       "            Plotly.purge(gd);\n",
       "            observer.disconnect();\n",
       "        }}\n",
       "}});\n",
       "\n",
       "// Listen for the removal of the full notebook cells\n",
       "var notebookContainer = gd.closest('#notebook-container');\n",
       "if (notebookContainer) {{\n",
       "    x.observe(notebookContainer, {childList: true});\n",
       "}}\n",
       "\n",
       "// Listen for the clearing of the current output cell\n",
       "var outputEl = gd.closest('.output');\n",
       "if (outputEl) {{\n",
       "    x.observe(outputEl, {childList: true});\n",
       "}}\n",
       "\n",
       "                        })                };                });            </script>        </div>"
      ]
     },
     "metadata": {},
     "output_type": "display_data"
    }
   ],
   "source": [
    "cf.go_offline()\n",
    "\n",
    "df = players_details[['form','points_per_game','now_cost','team_name','singular_name','first_name','web_name']]\n",
    "df[\"now_cost\"] = df[\"now_cost\"]/10\n",
    "df.points_per_game = pd.to_numeric(df.points_per_game)\n",
    "df.rename(columns = {'singular_name' : \"Player Type\"}, inplace = True)\n",
    "df[\"name\"] = df[\"first_name\"] + ' ' + df[\"web_name\"]\n",
    "fig = px.scatter(df, x='points_per_game', \n",
    "                 y='now_cost',  \n",
    "                 size = (players_details[\"form\"].astype(float).values + abs(players_details[\"form\"].astype(float).values.min()))*1.5, \n",
    "                 hover_name = \"name\",\n",
    "                 hover_data= [\"team_name\"],\n",
    "                 color =\"Player Type\",\n",
    "                 title = \"Most Suitable Player to Buy Currently\"\n",
    "                )\n",
    "fig['layout']['yaxis'].update({'title': 'Price', 'tickprefix': '£'})\n",
    "fig['layout']['xaxis'].update({'title': 'Points Per Game'})\n",
    "fig.update_layout(\n",
    "    showlegend=True,\n",
    "    annotations=[\n",
    "        dict(\n",
    "            x=1.15,\n",
    "            y=1.10,\n",
    "            xref=\"paper\",\n",
    "            yref=\"paper\",\n",
    "            showarrow=False,\n",
    "            text=\"Bubble Size : Player Form\"\n",
    "        )\n",
    "    ]\n",
    ")\n",
    "\n",
    "fig.show()"
   ]
  },
  {
   "cell_type": "code",
   "execution_count": null,
   "metadata": {},
   "outputs": [],
   "source": []
  }
 ],
 "metadata": {
  "kernelspec": {
   "display_name": "Python 3",
   "language": "python",
   "name": "python3"
  },
  "language_info": {
   "codemirror_mode": {
    "name": "ipython",
    "version": 3
   },
   "file_extension": ".py",
   "mimetype": "text/x-python",
   "name": "python",
   "nbconvert_exporter": "python",
   "pygments_lexer": "ipython3",
   "version": "3.7.12"
  }
 },
 "nbformat": 4,
 "nbformat_minor": 2
}
