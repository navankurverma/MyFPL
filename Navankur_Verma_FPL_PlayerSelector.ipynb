{
 "cells": [
  {
   "cell_type": "markdown",
   "metadata": {},
   "source": [
    "\n",
    "# Fantasy Premier League - Player Selector\n",
    "# Navankur Verma - navankurverma@gmail.com"
   ]
  },
  {
   "cell_type": "markdown",
   "metadata": {},
   "source": [
    "[(Parent link)](https://navankurverma.github.io/MyFPL/Navankur_Verma_FPL.html)"
   ]
  },
  {
   "cell_type": "markdown",
   "metadata": {},
   "source": [
    "Libraries Used:"
   ]
  },
  {
   "cell_type": "code",
   "execution_count": 1,
   "metadata": {
    "execution": {
     "iopub.execute_input": "2021-07-30T04:21:53.905443Z",
     "iopub.status.busy": "2021-07-30T04:21:53.904876Z",
     "iopub.status.idle": "2021-07-30T04:21:56.876761Z",
     "shell.execute_reply": "2021-07-30T04:21:56.876153Z"
    }
   },
   "outputs": [],
   "source": [
    "import requests\n",
    "import json\n",
    "import pandas as pd\n",
    "import numpy as np\n",
    "import matplotlib\n",
    "import matplotlib.pyplot as plt\n",
    "import seaborn as sns\n",
    "import cufflinks as cf\n",
    "import plotly.express as px\n",
    "%matplotlib inline"
   ]
  },
  {
   "cell_type": "markdown",
   "metadata": {},
   "source": [
    "### Pull General FPL Data \n",
    "[Move to top](#Fantasy-Premier-League---Player-Selector)"
   ]
  },
  {
   "cell_type": "code",
   "execution_count": 2,
   "metadata": {
    "execution": {
     "iopub.execute_input": "2021-07-30T04:21:56.884644Z",
     "iopub.status.busy": "2021-07-30T04:21:56.884158Z",
     "iopub.status.idle": "2021-07-30T04:21:57.103982Z",
     "shell.execute_reply": "2021-07-30T04:21:57.103480Z"
    }
   },
   "outputs": [],
   "source": [
    "#Whole Data\n",
    "fpl = requests.get(\"https://fantasy.premierleague.com/api/bootstrap-static/\")\n",
    "fpl = fpl.json()"
   ]
  },
  {
   "cell_type": "code",
   "execution_count": 3,
   "metadata": {
    "execution": {
     "iopub.execute_input": "2021-07-30T04:21:57.111772Z",
     "iopub.status.busy": "2021-07-30T04:21:57.111279Z",
     "iopub.status.idle": "2021-07-30T04:21:57.114191Z",
     "shell.execute_reply": "2021-07-30T04:21:57.114590Z"
    }
   },
   "outputs": [],
   "source": [
    "if 'teams' in fpl:\n",
    "    teams = pd.DataFrame(fpl['teams'])\n",
    "    teams = teams.iloc[:,[0,3,5,9,10,14,15,16,17,18,19]] #picking only valuable columns\n",
    "    teams.rename(columns = {'code': 'team_code', 'id': 'team_id', 'name': 'team_name'}, inplace = True)\n",
    "    teams\n",
    "else:\n",
    "    print('Teams data not found')"
   ]
  },
  {
   "cell_type": "code",
   "execution_count": 4,
   "metadata": {
    "execution": {
     "iopub.execute_input": "2021-07-30T04:21:57.120415Z",
     "iopub.status.busy": "2021-07-30T04:21:57.119748Z",
     "iopub.status.idle": "2021-07-30T04:21:57.123019Z",
     "shell.execute_reply": "2021-07-30T04:21:57.122579Z"
    }
   },
   "outputs": [],
   "source": [
    "if 'element_types' in fpl:\n",
    "    element_types = pd.DataFrame(fpl['element_types'])\n",
    "    element_types.rename(columns= {'id': 'element_type'}, inplace = True)\n",
    "    element_types\n",
    "else:\n",
    "    print('Element_types data not found')"
   ]
  },
  {
   "cell_type": "code",
   "execution_count": 5,
   "metadata": {
    "execution": {
     "iopub.execute_input": "2021-07-30T04:21:57.134837Z",
     "iopub.status.busy": "2021-07-30T04:21:57.133798Z",
     "iopub.status.idle": "2021-07-30T04:21:57.136584Z",
     "shell.execute_reply": "2021-07-30T04:21:57.136943Z"
    }
   },
   "outputs": [],
   "source": [
    "if 'elements' in fpl:\n",
    "    players = fpl['elements']\n",
    "    players = pd.DataFrame(players)\n",
    "else:\n",
    "    print('Players data not found')"
   ]
  },
  {
   "cell_type": "markdown",
   "metadata": {},
   "source": [
    "#### Cleaning Public Data\n",
    "[Move to top](#Fantasy-Premier-League---Player-Selector)"
   ]
  },
  {
   "cell_type": "code",
   "execution_count": 6,
   "metadata": {
    "execution": {
     "iopub.execute_input": "2021-07-30T04:21:57.146229Z",
     "iopub.status.busy": "2021-07-30T04:21:57.141384Z",
     "iopub.status.idle": "2021-07-30T04:21:57.150926Z",
     "shell.execute_reply": "2021-07-30T04:21:57.151588Z"
    }
   },
   "outputs": [
    {
     "data": {
      "text/plain": [
       "chance_of_playing_next_round           453\n",
       "chance_of_playing_this_round           488\n",
       "code                                     0\n",
       "cost_change_event                        0\n",
       "cost_change_event_fall                   0\n",
       "                                      ... \n",
       "corners_and_indirect_freekicks_text      0\n",
       "direct_freekicks_order                 410\n",
       "direct_freekicks_text                    0\n",
       "penalties_order                        427\n",
       "penalties_text                           0\n",
       "Length: 67, dtype: int64"
      ]
     },
     "execution_count": 6,
     "metadata": {},
     "output_type": "execute_result"
    }
   ],
   "source": [
    "players.isnull().sum()"
   ]
  },
  {
   "cell_type": "code",
   "execution_count": 7,
   "metadata": {
    "execution": {
     "iopub.execute_input": "2021-07-30T04:21:57.156827Z",
     "iopub.status.busy": "2021-07-30T04:21:57.156087Z",
     "iopub.status.idle": "2021-07-30T04:21:57.158594Z",
     "shell.execute_reply": "2021-07-30T04:21:57.158957Z"
    }
   },
   "outputs": [],
   "source": [
    "#Replacing missing values with Zeroes\n",
    "players['chance_of_playing_next_round'] = players['chance_of_playing_next_round'].fillna(0)\n",
    "players['chance_of_playing_this_round'] = players['chance_of_playing_this_round'].fillna(0)"
   ]
  },
  {
   "cell_type": "code",
   "execution_count": 8,
   "metadata": {
    "execution": {
     "iopub.execute_input": "2021-07-30T04:21:57.163320Z",
     "iopub.status.busy": "2021-07-30T04:21:57.162485Z",
     "iopub.status.idle": "2021-07-30T04:21:57.168871Z",
     "shell.execute_reply": "2021-07-30T04:21:57.168457Z"
    }
   },
   "outputs": [
    {
     "data": {
      "text/plain": [
       "chance_of_playing_next_round             0\n",
       "chance_of_playing_this_round             0\n",
       "code                                     0\n",
       "cost_change_event                        0\n",
       "cost_change_event_fall                   0\n",
       "                                      ... \n",
       "corners_and_indirect_freekicks_text      0\n",
       "direct_freekicks_order                 410\n",
       "direct_freekicks_text                    0\n",
       "penalties_order                        427\n",
       "penalties_text                           0\n",
       "Length: 67, dtype: int64"
      ]
     },
     "execution_count": 8,
     "metadata": {},
     "output_type": "execute_result"
    }
   ],
   "source": [
    "players.isnull().sum()"
   ]
  },
  {
   "cell_type": "markdown",
   "metadata": {},
   "source": [
    "Column Description by its index:  \n",
    "14,12,35,26,27,8 <- id, name, teamName, position  \n",
    "29,30,31,32 <- Transfer details  \n",
    "25,0,1 <- Chances of playing  \n",
    "7, 11,13,15,20,28,18,22 <- fpl related details  \n",
    "36,37,38,39,40,41,42,43,44,45,46,47,48,49,50,51,52 <- onfield stats  \n",
    "Selecting only above columns:"
   ]
  },
  {
   "cell_type": "code",
   "execution_count": 9,
   "metadata": {
    "execution": {
     "iopub.execute_input": "2021-07-30T04:21:57.173886Z",
     "iopub.status.busy": "2021-07-30T04:21:57.173410Z",
     "iopub.status.idle": "2021-07-30T04:21:57.176891Z",
     "shell.execute_reply": "2021-07-30T04:21:57.177273Z"
    }
   },
   "outputs": [],
   "source": [
    "players.rename(columns = {'id': 'element'}, inplace = True)\n",
    "players_details = players.iloc[:,[14,12,35,26,27,8, 36,37,38,39,40,41,42,43,44,45,46,47,48,49,50,51,52, 7,11,13,15,20,28,18,22,29,30,31,32,25,0,1]]"
   ]
  },
  {
   "cell_type": "markdown",
   "metadata": {},
   "source": [
    "Joining players data with their corresponding details and teams:"
   ]
  },
  {
   "cell_type": "code",
   "execution_count": 10,
   "metadata": {
    "execution": {
     "iopub.execute_input": "2021-07-30T04:21:57.184769Z",
     "iopub.status.busy": "2021-07-30T04:21:57.182854Z",
     "iopub.status.idle": "2021-07-30T04:21:57.195023Z",
     "shell.execute_reply": "2021-07-30T04:21:57.194202Z"
    }
   },
   "outputs": [],
   "source": [
    "players_details = players_details.merge(teams[[\"team_code\",\"team_name\"]],\n",
    "                                        on = \"team_code\").merge(element_types[[\"singular_name\",\"element_type\"]],\n",
    "                                                                on = \"element_type\")\n",
    "players_details.drop(['team','team_code'], axis=1, inplace = True)\n",
    "players_details.set_index('element', inplace = True)"
   ]
  },
  {
   "cell_type": "code",
   "execution_count": 11,
   "metadata": {
    "execution": {
     "iopub.execute_input": "2021-07-30T04:21:57.200133Z",
     "iopub.status.busy": "2021-07-30T04:21:57.198294Z",
     "iopub.status.idle": "2021-07-30T04:21:57.216681Z",
     "shell.execute_reply": "2021-07-30T04:21:57.216062Z"
    }
   },
   "outputs": [
    {
     "data": {
      "text/html": [
       "<div>\n",
       "<style scoped>\n",
       "    .dataframe tbody tr th:only-of-type {\n",
       "        vertical-align: middle;\n",
       "    }\n",
       "\n",
       "    .dataframe tbody tr th {\n",
       "        vertical-align: top;\n",
       "    }\n",
       "\n",
       "    .dataframe thead th {\n",
       "        text-align: right;\n",
       "    }\n",
       "</style>\n",
       "<table border=\"1\" class=\"dataframe\">\n",
       "  <thead>\n",
       "    <tr style=\"text-align: right;\">\n",
       "      <th></th>\n",
       "      <th>first_name</th>\n",
       "      <th>web_name</th>\n",
       "      <th>element_type</th>\n",
       "      <th>minutes</th>\n",
       "      <th>goals_scored</th>\n",
       "      <th>assists</th>\n",
       "      <th>clean_sheets</th>\n",
       "      <th>goals_conceded</th>\n",
       "      <th>own_goals</th>\n",
       "      <th>penalties_saved</th>\n",
       "      <th>...</th>\n",
       "      <th>selected_by_percent</th>\n",
       "      <th>transfers_in</th>\n",
       "      <th>transfers_in_event</th>\n",
       "      <th>transfers_out</th>\n",
       "      <th>transfers_out_event</th>\n",
       "      <th>status</th>\n",
       "      <th>chance_of_playing_next_round</th>\n",
       "      <th>chance_of_playing_this_round</th>\n",
       "      <th>team_name</th>\n",
       "      <th>singular_name</th>\n",
       "    </tr>\n",
       "    <tr>\n",
       "      <th>element</th>\n",
       "      <th></th>\n",
       "      <th></th>\n",
       "      <th></th>\n",
       "      <th></th>\n",
       "      <th></th>\n",
       "      <th></th>\n",
       "      <th></th>\n",
       "      <th></th>\n",
       "      <th></th>\n",
       "      <th></th>\n",
       "      <th></th>\n",
       "      <th></th>\n",
       "      <th></th>\n",
       "      <th></th>\n",
       "      <th></th>\n",
       "      <th></th>\n",
       "      <th></th>\n",
       "      <th></th>\n",
       "      <th></th>\n",
       "      <th></th>\n",
       "      <th></th>\n",
       "    </tr>\n",
       "  </thead>\n",
       "  <tbody>\n",
       "    <tr>\n",
       "      <th>1</th>\n",
       "      <td>Bernd</td>\n",
       "      <td>Leno</td>\n",
       "      <td>1</td>\n",
       "      <td>3131</td>\n",
       "      <td>0</td>\n",
       "      <td>0</td>\n",
       "      <td>11</td>\n",
       "      <td>37</td>\n",
       "      <td>1</td>\n",
       "      <td>1</td>\n",
       "      <td>...</td>\n",
       "      <td>2.3</td>\n",
       "      <td>0</td>\n",
       "      <td>0</td>\n",
       "      <td>0</td>\n",
       "      <td>0</td>\n",
       "      <td>a</td>\n",
       "      <td>0.0</td>\n",
       "      <td>0</td>\n",
       "      <td>Arsenal</td>\n",
       "      <td>Goalkeeper</td>\n",
       "    </tr>\n",
       "    <tr>\n",
       "      <th>2</th>\n",
       "      <td>Rúnar Alex</td>\n",
       "      <td>Rúnarsson</td>\n",
       "      <td>1</td>\n",
       "      <td>15</td>\n",
       "      <td>0</td>\n",
       "      <td>0</td>\n",
       "      <td>0</td>\n",
       "      <td>0</td>\n",
       "      <td>0</td>\n",
       "      <td>0</td>\n",
       "      <td>...</td>\n",
       "      <td>1.1</td>\n",
       "      <td>0</td>\n",
       "      <td>0</td>\n",
       "      <td>0</td>\n",
       "      <td>0</td>\n",
       "      <td>a</td>\n",
       "      <td>0.0</td>\n",
       "      <td>0</td>\n",
       "      <td>Arsenal</td>\n",
       "      <td>Goalkeeper</td>\n",
       "    </tr>\n",
       "    <tr>\n",
       "      <th>28</th>\n",
       "      <td>Jed</td>\n",
       "      <td>Steer</td>\n",
       "      <td>1</td>\n",
       "      <td>0</td>\n",
       "      <td>0</td>\n",
       "      <td>0</td>\n",
       "      <td>0</td>\n",
       "      <td>0</td>\n",
       "      <td>0</td>\n",
       "      <td>0</td>\n",
       "      <td>...</td>\n",
       "      <td>1.0</td>\n",
       "      <td>0</td>\n",
       "      <td>0</td>\n",
       "      <td>0</td>\n",
       "      <td>0</td>\n",
       "      <td>a</td>\n",
       "      <td>0.0</td>\n",
       "      <td>0</td>\n",
       "      <td>Aston Villa</td>\n",
       "      <td>Goalkeeper</td>\n",
       "    </tr>\n",
       "    <tr>\n",
       "      <th>30</th>\n",
       "      <td>Emiliano</td>\n",
       "      <td>Martínez</td>\n",
       "      <td>1</td>\n",
       "      <td>3420</td>\n",
       "      <td>0</td>\n",
       "      <td>0</td>\n",
       "      <td>15</td>\n",
       "      <td>46</td>\n",
       "      <td>0</td>\n",
       "      <td>1</td>\n",
       "      <td>...</td>\n",
       "      <td>39.4</td>\n",
       "      <td>0</td>\n",
       "      <td>0</td>\n",
       "      <td>0</td>\n",
       "      <td>0</td>\n",
       "      <td>a</td>\n",
       "      <td>0.0</td>\n",
       "      <td>0</td>\n",
       "      <td>Aston Villa</td>\n",
       "      <td>Goalkeeper</td>\n",
       "    </tr>\n",
       "    <tr>\n",
       "      <th>80</th>\n",
       "      <td>David</td>\n",
       "      <td>Raya</td>\n",
       "      <td>1</td>\n",
       "      <td>0</td>\n",
       "      <td>0</td>\n",
       "      <td>0</td>\n",
       "      <td>0</td>\n",
       "      <td>0</td>\n",
       "      <td>0</td>\n",
       "      <td>0</td>\n",
       "      <td>...</td>\n",
       "      <td>2.1</td>\n",
       "      <td>0</td>\n",
       "      <td>0</td>\n",
       "      <td>0</td>\n",
       "      <td>0</td>\n",
       "      <td>a</td>\n",
       "      <td>0.0</td>\n",
       "      <td>0</td>\n",
       "      <td>Brentford</td>\n",
       "      <td>Goalkeeper</td>\n",
       "    </tr>\n",
       "  </tbody>\n",
       "</table>\n",
       "<p>5 rows × 37 columns</p>\n",
       "</div>"
      ],
      "text/plain": [
       "         first_name   web_name  element_type  minutes  goals_scored  assists  \\\n",
       "element                                                                        \n",
       "1             Bernd       Leno             1     3131             0        0   \n",
       "2        Rúnar Alex  Rúnarsson             1       15             0        0   \n",
       "28              Jed      Steer             1        0             0        0   \n",
       "30         Emiliano   Martínez             1     3420             0        0   \n",
       "80            David       Raya             1        0             0        0   \n",
       "\n",
       "         clean_sheets  goals_conceded  own_goals  penalties_saved  ...  \\\n",
       "element                                                            ...   \n",
       "1                  11              37          1                1  ...   \n",
       "2                   0               0          0                0  ...   \n",
       "28                  0               0          0                0  ...   \n",
       "30                 15              46          0                1  ...   \n",
       "80                  0               0          0                0  ...   \n",
       "\n",
       "         selected_by_percent  transfers_in  transfers_in_event  transfers_out  \\\n",
       "element                                                                         \n",
       "1                        2.3             0                   0              0   \n",
       "2                        1.1             0                   0              0   \n",
       "28                       1.0             0                   0              0   \n",
       "30                      39.4             0                   0              0   \n",
       "80                       2.1             0                   0              0   \n",
       "\n",
       "         transfers_out_event  status chance_of_playing_next_round  \\\n",
       "element                                                             \n",
       "1                          0       a                          0.0   \n",
       "2                          0       a                          0.0   \n",
       "28                         0       a                          0.0   \n",
       "30                         0       a                          0.0   \n",
       "80                         0       a                          0.0   \n",
       "\n",
       "        chance_of_playing_this_round    team_name singular_name  \n",
       "element                                                          \n",
       "1                                  0      Arsenal    Goalkeeper  \n",
       "2                                  0      Arsenal    Goalkeeper  \n",
       "28                                 0  Aston Villa    Goalkeeper  \n",
       "30                                 0  Aston Villa    Goalkeeper  \n",
       "80                                 0    Brentford    Goalkeeper  \n",
       "\n",
       "[5 rows x 37 columns]"
      ]
     },
     "execution_count": 11,
     "metadata": {},
     "output_type": "execute_result"
    }
   ],
   "source": [
    "players_details.head()"
   ]
  },
  {
   "cell_type": "markdown",
   "metadata": {},
   "source": [
    "#### Most Suitable Player to Buy Currently\n",
    "[Move to top](#Fantasy-Premier-League---Player-Selector)"
   ]
  },
  {
   "cell_type": "code",
   "execution_count": 12,
   "metadata": {
    "execution": {
     "iopub.execute_input": "2021-07-30T04:21:57.224321Z",
     "iopub.status.busy": "2021-07-30T04:21:57.223551Z",
     "iopub.status.idle": "2021-07-30T04:21:57.575843Z",
     "shell.execute_reply": "2021-07-30T04:21:57.575335Z"
    }
   },
   "outputs": [
    {
     "data": {
      "text/html": [
       "        <script type=\"text/javascript\">\n",
       "        window.PlotlyConfig = {MathJaxConfig: 'local'};\n",
       "        if (window.MathJax) {MathJax.Hub.Config({SVG: {font: \"STIX-Web\"}});}\n",
       "        if (typeof require !== 'undefined') {\n",
       "        require.undef(\"plotly\");\n",
       "        requirejs.config({\n",
       "            paths: {\n",
       "                'plotly': ['https://cdn.plot.ly/plotly-2.2.0.min']\n",
       "            }\n",
       "        });\n",
       "        require(['plotly'], function(Plotly) {\n",
       "            window._Plotly = Plotly;\n",
       "        });\n",
       "        }\n",
       "        </script>\n",
       "        "
      ]
     },
     "metadata": {},
     "output_type": "display_data"
    },
    {
     "data": {
      "application/vnd.plotly.v1+json": {
       "config": {
        "plotlyServerURL": "https://plot.ly"
       },
       "data": [
        {
         "customdata": [
          [
           "Arsenal"
          ],
          [
           "Arsenal"
          ],
          [
           "Aston Villa"
          ],
          [
           "Aston Villa"
          ],
          [
           "Brentford"
          ],
          [
           "Brentford"
          ],
          [
           "Brentford"
          ],
          [
           "Brighton"
          ],
          [
           "Brighton"
          ],
          [
           "Brighton"
          ],
          [
           "Brighton"
          ],
          [
           "Burnley"
          ],
          [
           "Burnley"
          ],
          [
           "Burnley"
          ],
          [
           "Burnley"
          ],
          [
           "Chelsea"
          ],
          [
           "Chelsea"
          ],
          [
           "Crystal Palace"
          ],
          [
           "Crystal Palace"
          ],
          [
           "Everton"
          ],
          [
           "Everton"
          ],
          [
           "Everton"
          ],
          [
           "Leicester"
          ],
          [
           "Leicester"
          ],
          [
           "Leeds"
          ],
          [
           "Leeds"
          ],
          [
           "Liverpool"
          ],
          [
           "Liverpool"
          ],
          [
           "Liverpool"
          ],
          [
           "Man City"
          ],
          [
           "Man City"
          ],
          [
           "Man Utd"
          ],
          [
           "Man Utd"
          ],
          [
           "Newcastle"
          ],
          [
           "Newcastle"
          ],
          [
           "Norwich"
          ],
          [
           "Norwich"
          ],
          [
           "Norwich"
          ],
          [
           "Southampton"
          ],
          [
           "Southampton"
          ],
          [
           "Spurs"
          ],
          [
           "Spurs"
          ],
          [
           "Spurs"
          ],
          [
           "Watford"
          ],
          [
           "Watford"
          ],
          [
           "West Ham"
          ],
          [
           "West Ham"
          ],
          [
           "Wolves"
          ],
          [
           "Wolves"
          ],
          [
           "Wolves"
          ],
          [
           "Wolves"
          ]
         ],
         "hovertemplate": "<b>%{hovertext}</b><br><br>Player Type=Goalkeeper<br>points_per_game=%{x}<br>now_cost=%{y}<br>size=%{marker.size}<br>team_name=%{customdata[0]}<extra></extra>",
         "hovertext": [
          "Bernd Leno",
          "Rúnar Alex Rúnarsson",
          "Jed Steer",
          "Emiliano Martínez",
          "David Raya",
          "Ellery Balcombe",
          "Patrik Gunnarsson",
          "Jason Steele",
          "Mathew Ryan",
          "Robert Sánchez",
          "Kjell Scherpen",
          "Nick Pope",
          "Will Norris",
          "Bailey Peacock-Farrell",
          "Wayne Hennessey",
          "Kepa Arrizabalaga",
          "Edouard Mendy",
          "Vicente Guaita",
          "Jack Butland",
          "Jordan Pickford",
          "João Virgínia",
          "Asmir Begović",
          "Kasper Schmeichel",
          "Danny Ward",
          "Francisco Casilla",
          "Illan Meslier",
          "Adrián Adrián",
          "Alisson Alisson",
          "Caoimhin Kelleher",
          "Ederson Ederson",
          "Zack Steffen",
          "David de Gea",
          "Dean Henderson",
          "Karl Darlow",
          "Martin Dubravka",
          "Michael McGovern",
          "Tim Krul",
          "Angus Gunn",
          "Fraser Forster",
          "Alex McCarthy",
          "Joe Hart",
          "Hugo Lloris",
          "Pierluigi Gollini",
          "Ben Foster",
          "Daniel Bachmann",
          "Darren Randolph",
          "Lukasz Fabianski",
          "Rui Pedro Patrício",
          "Andreas Söndergaard",
          "John Ruddy",
          "José Sá"
         ],
         "legendgroup": "Goalkeeper",
         "marker": {
          "color": "#636efa",
          "size": [
           0.0,
           0.0,
           0.0,
           0.0,
           0.0,
           0.0,
           0.0,
           0.0,
           0.0,
           0.0,
           0.0,
           0.0,
           0.0,
           0.0,
           0.0,
           0.0,
           0.0,
           0.0,
           0.0,
           0.0,
           0.0,
           0.0,
           0.0,
           0.0,
           0.0,
           0.0,
           0.0,
           0.0,
           0.0,
           0.0,
           0.0,
           0.0,
           0.0,
           0.0,
           0.0,
           0.0,
           0.0,
           0.0,
           0.0,
           0.0,
           0.0,
           0.0,
           0.0,
           0.0,
           0.0,
           0.0,
           0.0,
           0.0,
           0.0,
           0.0,
           0.0
          ],
          "sizemode": "area",
          "sizeref": 0.0,
          "symbol": "circle"
         },
         "mode": "markers",
         "name": "Goalkeeper",
         "orientation": "v",
         "showlegend": true,
         "type": "scatter",
         "x": [
          3.7,
          1.0,
          0.0,
          4.9,
          0.0,
          0.0,
          0.0,
          0.0,
          2.6,
          3.7,
          0.0,
          4.5,
          1.5,
          0.8,
          0.0,
          3.7,
          4.5,
          3.4,
          2.0,
          3.7,
          2.0,
          0.0,
          3.4,
          0.0,
          4.7,
          4.4,
          3.7,
          4.2,
          5.0,
          4.4,
          2.0,
          3.5,
          3.4,
          3.2,
          3.7,
          0.0,
          0.0,
          0.0,
          3.8,
          3.1,
          0.0,
          3.9,
          0.0,
          0.0,
          0.0,
          3.3,
          3.8,
          3.6,
          0.0,
          2.0,
          0.0
         ],
         "xaxis": "x",
         "y": [
          5.0,
          4.0,
          4.0,
          5.5,
          4.5,
          4.0,
          4.0,
          4.0,
          4.5,
          4.5,
          4.5,
          5.5,
          4.5,
          4.5,
          4.5,
          5.0,
          6.0,
          4.5,
          4.5,
          5.0,
          4.0,
          4.0,
          5.0,
          4.0,
          4.5,
          5.0,
          4.5,
          6.0,
          4.5,
          6.0,
          4.5,
          5.0,
          5.0,
          4.5,
          4.5,
          4.0,
          4.5,
          4.0,
          4.5,
          4.5,
          4.5,
          5.5,
          4.5,
          4.0,
          4.5,
          4.5,
          5.0,
          5.0,
          4.0,
          4.5,
          5.0
         ],
         "yaxis": "y"
        },
        {
         "customdata": [
          [
           "Arsenal"
          ],
          [
           "Arsenal"
          ],
          [
           "Arsenal"
          ],
          [
           "Arsenal"
          ],
          [
           "Arsenal"
          ],
          [
           "Arsenal"
          ],
          [
           "Arsenal"
          ],
          [
           "Arsenal"
          ],
          [
           "Arsenal"
          ],
          [
           "Arsenal"
          ],
          [
           "Arsenal"
          ],
          [
           "Arsenal"
          ],
          [
           "Arsenal"
          ],
          [
           "Aston Villa"
          ],
          [
           "Aston Villa"
          ],
          [
           "Aston Villa"
          ],
          [
           "Aston Villa"
          ],
          [
           "Aston Villa"
          ],
          [
           "Aston Villa"
          ],
          [
           "Aston Villa"
          ],
          [
           "Aston Villa"
          ],
          [
           "Aston Villa"
          ],
          [
           "Aston Villa"
          ],
          [
           "Aston Villa"
          ],
          [
           "Brentford"
          ],
          [
           "Brentford"
          ],
          [
           "Brentford"
          ],
          [
           "Brentford"
          ],
          [
           "Brentford"
          ],
          [
           "Brentford"
          ],
          [
           "Brentford"
          ],
          [
           "Brentford"
          ],
          [
           "Brentford"
          ],
          [
           "Brentford"
          ],
          [
           "Brentford"
          ],
          [
           "Brighton"
          ],
          [
           "Brighton"
          ],
          [
           "Brighton"
          ],
          [
           "Brighton"
          ],
          [
           "Brighton"
          ],
          [
           "Brighton"
          ],
          [
           "Brighton"
          ],
          [
           "Brighton"
          ],
          [
           "Brighton"
          ],
          [
           "Brighton"
          ],
          [
           "Brighton"
          ],
          [
           "Burnley"
          ],
          [
           "Burnley"
          ],
          [
           "Burnley"
          ],
          [
           "Burnley"
          ],
          [
           "Burnley"
          ],
          [
           "Burnley"
          ],
          [
           "Burnley"
          ],
          [
           "Chelsea"
          ],
          [
           "Chelsea"
          ],
          [
           "Chelsea"
          ],
          [
           "Chelsea"
          ],
          [
           "Chelsea"
          ],
          [
           "Chelsea"
          ],
          [
           "Chelsea"
          ],
          [
           "Chelsea"
          ],
          [
           "Chelsea"
          ],
          [
           "Chelsea"
          ],
          [
           "Chelsea"
          ],
          [
           "Crystal Palace"
          ],
          [
           "Crystal Palace"
          ],
          [
           "Crystal Palace"
          ],
          [
           "Crystal Palace"
          ],
          [
           "Crystal Palace"
          ],
          [
           "Crystal Palace"
          ],
          [
           "Crystal Palace"
          ],
          [
           "Everton"
          ],
          [
           "Everton"
          ],
          [
           "Everton"
          ],
          [
           "Everton"
          ],
          [
           "Everton"
          ],
          [
           "Everton"
          ],
          [
           "Everton"
          ],
          [
           "Everton"
          ],
          [
           "Everton"
          ],
          [
           "Everton"
          ],
          [
           "Everton"
          ],
          [
           "Leicester"
          ],
          [
           "Leicester"
          ],
          [
           "Leicester"
          ],
          [
           "Leicester"
          ],
          [
           "Leicester"
          ],
          [
           "Leicester"
          ],
          [
           "Leicester"
          ],
          [
           "Leicester"
          ],
          [
           "Leicester"
          ],
          [
           "Leicester"
          ],
          [
           "Leeds"
          ],
          [
           "Leeds"
          ],
          [
           "Leeds"
          ],
          [
           "Leeds"
          ],
          [
           "Leeds"
          ],
          [
           "Leeds"
          ],
          [
           "Leeds"
          ],
          [
           "Leeds"
          ],
          [
           "Leeds"
          ],
          [
           "Leeds"
          ],
          [
           "Liverpool"
          ],
          [
           "Liverpool"
          ],
          [
           "Liverpool"
          ],
          [
           "Liverpool"
          ],
          [
           "Liverpool"
          ],
          [
           "Liverpool"
          ],
          [
           "Liverpool"
          ],
          [
           "Liverpool"
          ],
          [
           "Liverpool"
          ],
          [
           "Liverpool"
          ],
          [
           "Liverpool"
          ],
          [
           "Liverpool"
          ],
          [
           "Man City"
          ],
          [
           "Man City"
          ],
          [
           "Man City"
          ],
          [
           "Man City"
          ],
          [
           "Man City"
          ],
          [
           "Man City"
          ],
          [
           "Man City"
          ],
          [
           "Man City"
          ],
          [
           "Man City"
          ],
          [
           "Man Utd"
          ],
          [
           "Man Utd"
          ],
          [
           "Man Utd"
          ],
          [
           "Man Utd"
          ],
          [
           "Man Utd"
          ],
          [
           "Man Utd"
          ],
          [
           "Man Utd"
          ],
          [
           "Man Utd"
          ],
          [
           "Man Utd"
          ],
          [
           "Man Utd"
          ],
          [
           "Man Utd"
          ],
          [
           "Man Utd"
          ],
          [
           "Newcastle"
          ],
          [
           "Newcastle"
          ],
          [
           "Newcastle"
          ],
          [
           "Newcastle"
          ],
          [
           "Newcastle"
          ],
          [
           "Newcastle"
          ],
          [
           "Newcastle"
          ],
          [
           "Newcastle"
          ],
          [
           "Norwich"
          ],
          [
           "Norwich"
          ],
          [
           "Norwich"
          ],
          [
           "Norwich"
          ],
          [
           "Norwich"
          ],
          [
           "Norwich"
          ],
          [
           "Norwich"
          ],
          [
           "Norwich"
          ],
          [
           "Norwich"
          ],
          [
           "Norwich"
          ],
          [
           "Norwich"
          ],
          [
           "Southampton"
          ],
          [
           "Southampton"
          ],
          [
           "Southampton"
          ],
          [
           "Southampton"
          ],
          [
           "Southampton"
          ],
          [
           "Southampton"
          ],
          [
           "Southampton"
          ],
          [
           "Southampton"
          ],
          [
           "Southampton"
          ],
          [
           "Spurs"
          ],
          [
           "Spurs"
          ],
          [
           "Spurs"
          ],
          [
           "Spurs"
          ],
          [
           "Spurs"
          ],
          [
           "Spurs"
          ],
          [
           "Spurs"
          ],
          [
           "Spurs"
          ],
          [
           "Spurs"
          ],
          [
           "Spurs"
          ],
          [
           "Spurs"
          ],
          [
           "Spurs"
          ],
          [
           "Watford"
          ],
          [
           "Watford"
          ],
          [
           "Watford"
          ],
          [
           "Watford"
          ],
          [
           "Watford"
          ],
          [
           "Watford"
          ],
          [
           "Watford"
          ],
          [
           "Watford"
          ],
          [
           "Watford"
          ],
          [
           "Watford"
          ],
          [
           "Watford"
          ],
          [
           "Watford"
          ],
          [
           "Watford"
          ],
          [
           "West Ham"
          ],
          [
           "West Ham"
          ],
          [
           "West Ham"
          ],
          [
           "West Ham"
          ],
          [
           "West Ham"
          ],
          [
           "West Ham"
          ],
          [
           "West Ham"
          ],
          [
           "West Ham"
          ],
          [
           "Wolves"
          ],
          [
           "Wolves"
          ],
          [
           "Wolves"
          ],
          [
           "Wolves"
          ],
          [
           "Wolves"
          ],
          [
           "Wolves"
          ],
          [
           "Wolves"
          ],
          [
           "Wolves"
          ],
          [
           "Wolves"
          ]
         ],
         "hovertemplate": "<b>%{hovertext}</b><br><br>Player Type=Midfielder<br>points_per_game=%{x}<br>now_cost=%{y}<br>size=%{marker.size}<br>team_name=%{customdata[0]}<extra></extra>",
         "hovertext": [
          "Willian Willian",
          "Granit Xhaka",
          "Mohamed Naser Elneny",
          "Ainsley Maitland-Niles",
          "Thomas Partey",
          "Nicolas Pépé",
          "Lucas Torreira",
          "Joseph Willock",
          "Emile Smith Rowe",
          "Bukayo Saka",
          "Mattéo Guendouzi",
          "Gabriel Teodoro Martinelli",
          "Albert Sambi Lokonga",
          "Conor Hourihane",
          "Bertrand Traoré",
          "Jack Grealish",
          "Morgan Sanson",
          "John McGinn",
          "Mahmoud Ahmed Trézéguet",
          "Marvelous Nakamba",
          "Anwar El Ghazi",
          "Emiliano Buendía",
          "Douglas Luiz Douglas Luiz",
          "Jacob Ramsey",
          "Christian Nørgaard",
          "Tariqe Fosu",
          "Sergi Canós",
          "Pelenda Joshua Dasilva",
          "Vitaly Janelt",
          "Saman Ghoddos",
          "Mathias Jensen",
          "Jan Zamburek",
          "Bryan Mbeumo",
          "Mads Bidstrup",
          "Frank Onyeka",
          "Adam Lallana",
          "Pascal Groß",
          "Davy Pröpper",
          "Solomon March",
          "Leandro Trossard",
          "Alireza Jahanbakhsh",
          "Yves Bissouma",
          "Steven Alzate",
          "Alexis Mac Allister",
          "Jakub Moder",
          "Enock Mwepu",
          "Jack Cork",
          "Dale Stephens",
          "Ashley Westwood",
          "Johann Berg Gudmundsson",
          "Josh Brownhill",
          "Josh Benson",
          "Dwight McNeil",
          "Jorge Luiz Jorginho",
          "Ross Barkley",
          "Mateo Kovacic",
          "N'Golo Kanté",
          "Hakim Ziyech",
          "Ruben Loftus-Cheek",
          "Christian Pulisic",
          "Mason Mount",
          "Callum Hudson-Odoi",
          "Kai Havertz",
          "Conor Gallagher",
          "James McArthur",
          "Luka Milivojevic",
          "Wilfried Zaha",
          "Jeffrey Schlupp",
          "Jairo Riedewald",
          "Eberechi Eze",
          "Michael Olise",
          "Fabian Delph",
          "Gylfi Sigurdsson",
          "James James",
          "Bernard Bernard",
          "Allan Allan",
          "André Filipe André Gomes",
          "Abdoulaye Doucouré",
          "Alex Iwobi",
          "Tom Davies",
          "Andros Townsend",
          "Demarai Gray",
          "Marc Albrighton",
          "Nampalys Mendy",
          "Dennis Praet",
          "Youri Tielemans",
          "Ayoze Pérez",
          "James Maddison",
          "Hamza Choudhury",
          "Harvey Barnes",
          "Wilfred Ndidi",
          "Boubakary Soumaré",
          "Pablo Hernández",
          "Mateusz Klich",
          "Stuart Dallas",
          "Kalvin Phillips",
          "Hélder Wander Costa",
          "Tyler Roberts",
          "Ian Carlo Poveda",
          "Raphael Raphinha",
          "Jamie Shackleton",
          "Jack Harrison",
          "James Milner",
          "Jordan Henderson",
          "Thiago Thiago",
          "Xherdan Shaqiri",
          "Alex Chamberlain",
          "Sadio Mané",
          "Fabio Henrique Fabinho",
          "Mohamed Salah",
          "Takumi Minamino",
          "Naby Keita",
          "Diogo Jota",
          "Curtis Jones",
          "Ilkay Gündogan",
          "Kevin De Bruyne",
          "Riyad Mahrez",
          "Raheem Sterling",
          "Bernardo Mota Bernardo",
          "Phil Foden",
          "Rodrigo Rodrigo",
          "Ferran Torres",
          "Fernando Fernandinho",
          "Nemanja Matic",
          "Paul Pogba",
          "Frederico Fred",
          "Jesse Lingard",
          "Bruno Miguel Fernandes",
          "Marcus Rashford",
          "Donny van de Beek",
          "Scott McTominay",
          "Daniel James",
          "Mason Greenwood",
          "Juan Mata",
          "Jadon Sancho",
          "Jonjo Shelvey",
          "Jeff Hendrick",
          "Ryan Fraser",
          "Jacob Murphy",
          "Isaac Hayden",
          "Miguel Almirón",
          "Sean S.Longstaff",
          "Matthew M.Longstaff",
          "Billy Gilmour",
          "Marco Stiepermann",
          "Lukas Rupp",
          "Kenny McLean",
          "Onel Hernández",
          "Kieran Dowell",
          "Todd Cantwell",
          "Przemyslaw Placheta",
          "Josh Martin",
          "Milot Rashica",
          "Pierre Lees-Melou",
          "Theo Walcott",
          "Oriol Romeu",
          "Nathan Redmond",
          "Stuart Armstrong",
          "James Ward-Prowse",
          "Nathan Tella",
          "William Smallbone",
          "Ibrahima Diallo",
          "Moussa Djenepo",
          "Moussa Sissoko",
          "Erik Lamela",
          "Heung-Min Son",
          "Lucas Lucas Moura",
          "Bamidele Dele",
          "Pierre-Emile Højbjerg",
          "Harry Winks",
          "Steven Bergwijn",
          "Giovani Lo Celso",
          "Oliver Skipp",
          "Tanguy Ndombele",
          "Bryan Bryan",
          "Dan Gosling",
          "Tom Cleverley",
          "Nathaniel Chalobah",
          "Will Hughes",
          "Ken Sema",
          "Philip Zinckernagel",
          "Ayotomiwa Dele-Bashiru",
          "Domingos Quina",
          "Ismaila Sarr",
          "Joseph Hungbo",
          "Imrân Louza",
          "Kwadwo Baah",
          "Oghenekaro Peter Etebo",
          "Mark Noble",
          "Andriy Yarmolenko",
          "Manuel Lanzini",
          "Saïd Benrahma",
          "Jarrod Bowen",
          "Declan Rice",
          "Tomas Soucek",
          "Pablo Fornals",
          "João Filipe Iria Moutinho",
          "Leander Dendoncker",
          "Adama Traoré",
          "Rúben Diogo Neves",
          "Daniel Podence",
          "Morgan Gibbs-White",
          "Pedro Neto",
          "Owen Otasowie",
          "Francisco Trincão"
         ],
         "legendgroup": "Midfielder",
         "marker": {
          "color": "#EF553B",
          "size": [
           0.0,
           0.0,
           0.0,
           0.0,
           0.0,
           0.0,
           0.0,
           0.0,
           0.0,
           0.0,
           0.0,
           0.0,
           0.0,
           0.0,
           0.0,
           0.0,
           0.0,
           0.0,
           0.0,
           0.0,
           0.0,
           0.0,
           0.0,
           0.0,
           0.0,
           0.0,
           0.0,
           0.0,
           0.0,
           0.0,
           0.0,
           0.0,
           0.0,
           0.0,
           0.0,
           0.0,
           0.0,
           0.0,
           0.0,
           0.0,
           0.0,
           0.0,
           0.0,
           0.0,
           0.0,
           0.0,
           0.0,
           0.0,
           0.0,
           0.0,
           0.0,
           0.0,
           0.0,
           0.0,
           0.0,
           0.0,
           0.0,
           0.0,
           0.0,
           0.0,
           0.0,
           0.0,
           0.0,
           0.0,
           0.0,
           0.0,
           0.0,
           0.0,
           0.0,
           0.0,
           0.0,
           0.0,
           0.0,
           0.0,
           0.0,
           0.0,
           0.0,
           0.0,
           0.0,
           0.0,
           0.0,
           0.0,
           0.0,
           0.0,
           0.0,
           0.0,
           0.0,
           0.0,
           0.0,
           0.0,
           0.0,
           0.0,
           0.0,
           0.0,
           0.0,
           0.0,
           0.0,
           0.0,
           0.0,
           0.0,
           0.0,
           0.0,
           0.0,
           0.0,
           0.0,
           0.0,
           0.0,
           0.0,
           0.0,
           0.0,
           0.0,
           0.0,
           0.0,
           0.0,
           0.0,
           0.0,
           0.0,
           0.0,
           0.0,
           0.0,
           0.0,
           0.0,
           0.0,
           0.0,
           0.0,
           0.0,
           0.0,
           0.0,
           0.0,
           0.0,
           0.0,
           0.0,
           0.0,
           0.0,
           0.0,
           0.0,
           0.0,
           0.0,
           0.0,
           0.0,
           0.0,
           0.0,
           0.0,
           0.0,
           0.0,
           0.0,
           0.0,
           0.0,
           0.0,
           0.0,
           0.0,
           0.0,
           0.0,
           0.0,
           0.0,
           0.0,
           0.0,
           0.0,
           0.0,
           0.0,
           0.0,
           0.0,
           0.0,
           0.0,
           0.0,
           0.0,
           0.0,
           0.0,
           0.0,
           0.0,
           0.0,
           0.0,
           0.0,
           0.0,
           0.0,
           0.0,
           0.0,
           0.0,
           0.0,
           0.0,
           0.0,
           0.0,
           0.0,
           0.0,
           0.0,
           0.0,
           0.0,
           0.0,
           0.0,
           0.0,
           0.0,
           0.0,
           0.0,
           0.0,
           0.0,
           0.0,
           0.0,
           0.0,
           0.0,
           0.0,
           0.0,
           0.0,
           0.0,
           0.0,
           0.0
          ],
          "sizemode": "area",
          "sizeref": 0.0,
          "symbol": "circle"
         },
         "mode": "markers",
         "name": "Midfielder",
         "orientation": "v",
         "showlegend": true,
         "type": "scatter",
         "x": [
          3.1,
          2.3,
          2.2,
          2.6,
          2.0,
          3.9,
          0.0,
          3.8,
          3.7,
          3.6,
          0.0,
          2.6,
          0.0,
          0.0,
          3.8,
          5.2,
          1.1,
          3.1,
          2.7,
          2.1,
          4.0,
          0.0,
          2.2,
          1.3,
          0.0,
          0.0,
          0.0,
          0.0,
          0.0,
          0.0,
          0.0,
          0.0,
          0.0,
          0.0,
          0.0,
          1.9,
          3.4,
          1.3,
          3.3,
          3.8,
          1.1,
          2.1,
          2.3,
          2.3,
          1.8,
          0.0,
          2.1,
          1.1,
          2.9,
          2.3,
          2.2,
          1.7,
          3.1,
          4.1,
          2.9,
          2.0,
          2.1,
          3.0,
          2.1,
          3.0,
          4.1,
          2.6,
          3.4,
          2.4,
          2.5,
          2.0,
          4.5,
          2.4,
          1.9,
          3.7,
          0.0,
          1.0,
          3.4,
          4.4,
          1.8,
          2.0,
          1.7,
          2.8,
          2.2,
          1.9,
          2.8,
          1.0,
          2.5,
          1.8,
          2.5,
          3.5,
          2.3,
          4.3,
          1.4,
          5.0,
          3.0,
          0.0,
          1.8,
          2.8,
          4.5,
          2.3,
          2.9,
          1.8,
          1.0,
          4.4,
          1.3,
          4.4,
          1.7,
          2.7,
          2.3,
          1.9,
          1.6,
          5.0,
          2.4,
          6.2,
          2.5,
          1.5,
          4.5,
          2.1,
          5.6,
          5.6,
          5.4,
          5.0,
          3.6,
          4.8,
          2.7,
          4.0,
          3.1,
          1.8,
          3.5,
          2.3,
          6.6,
          6.6,
          4.7,
          1.7,
          2.8,
          2.9,
          3.4,
          3.6,
          0.0,
          2.5,
          2.4,
          2.2,
          2.7,
          1.7,
          2.9,
          1.9,
          2.0,
          1.6,
          0.0,
          0.0,
          0.0,
          0.0,
          0.0,
          0.0,
          0.0,
          0.0,
          0.0,
          0.0,
          3.5,
          2.5,
          2.3,
          3.5,
          4.1,
          2.0,
          1.7,
          1.4,
          1.7,
          1.8,
          1.2,
          6.2,
          2.7,
          2.0,
          2.8,
          1.3,
          2.6,
          1.9,
          0.0,
          3.0,
          0.0,
          0.0,
          0.0,
          0.0,
          0.0,
          0.0,
          0.0,
          0.0,
          0.0,
          0.0,
          0.0,
          0.0,
          0.0,
          0.0,
          1.3,
          1.1,
          1.6,
          2.4,
          3.7,
          2.7,
          3.9,
          3.8,
          2.2,
          2.3,
          2.5,
          2.9,
          3.1,
          2.0,
          4.0,
          1.5,
          0.0
         ],
         "xaxis": "x",
         "y": [
          6.5,
          5.0,
          4.5,
          5.5,
          5.0,
          7.5,
          4.5,
          6.0,
          5.5,
          6.5,
          4.5,
          5.5,
          5.0,
          5.0,
          6.0,
          8.0,
          5.0,
          6.0,
          5.5,
          4.5,
          6.0,
          6.5,
          4.5,
          4.5,
          5.0,
          5.5,
          5.5,
          5.5,
          5.0,
          5.5,
          5.0,
          4.5,
          5.5,
          4.5,
          5.0,
          5.5,
          6.0,
          4.5,
          5.5,
          6.5,
          5.5,
          4.5,
          5.0,
          5.5,
          4.5,
          6.0,
          4.5,
          4.5,
          5.5,
          5.5,
          4.5,
          4.5,
          6.0,
          6.0,
          5.5,
          5.0,
          5.0,
          7.5,
          5.5,
          8.0,
          7.5,
          5.5,
          8.5,
          5.5,
          4.5,
          5.5,
          7.0,
          5.5,
          5.0,
          6.0,
          5.5,
          4.5,
          7.0,
          7.0,
          5.5,
          4.5,
          5.0,
          5.5,
          6.0,
          5.0,
          5.5,
          5.5,
          5.5,
          4.5,
          5.0,
          6.5,
          6.0,
          7.0,
          4.5,
          7.0,
          5.0,
          5.0,
          5.5,
          5.5,
          5.5,
          5.0,
          5.5,
          5.0,
          4.5,
          6.5,
          4.5,
          6.0,
          5.0,
          5.0,
          5.5,
          6.0,
          6.0,
          12.0,
          5.5,
          12.5,
          5.5,
          5.0,
          7.5,
          5.0,
          7.5,
          12.0,
          9.0,
          11.0,
          7.0,
          8.0,
          5.5,
          7.0,
          5.0,
          4.5,
          7.5,
          5.0,
          7.0,
          12.0,
          9.5,
          6.0,
          5.5,
          6.0,
          7.5,
          5.0,
          9.5,
          5.5,
          5.0,
          5.5,
          5.0,
          4.5,
          5.5,
          4.5,
          4.5,
          4.5,
          5.0,
          4.5,
          5.0,
          5.0,
          5.5,
          5.5,
          5.0,
          5.0,
          5.5,
          5.0,
          6.0,
          4.5,
          6.0,
          6.0,
          6.5,
          5.0,
          4.5,
          4.5,
          5.5,
          4.5,
          6.0,
          10.0,
          6.5,
          6.5,
          5.0,
          4.5,
          6.0,
          6.0,
          4.5,
          6.0,
          6.0,
          5.0,
          5.0,
          5.0,
          5.0,
          5.5,
          5.5,
          4.5,
          4.5,
          6.0,
          4.5,
          5.5,
          4.5,
          4.5,
          4.5,
          5.5,
          6.0,
          6.0,
          6.5,
          5.0,
          6.0,
          6.0,
          5.0,
          5.0,
          6.0,
          5.5,
          5.5,
          4.5,
          6.5,
          4.5,
          6.0
         ],
         "yaxis": "y"
        },
        {
         "customdata": [
          [
           "Arsenal"
          ],
          [
           "Arsenal"
          ],
          [
           "Arsenal"
          ],
          [
           "Aston Villa"
          ],
          [
           "Aston Villa"
          ],
          [
           "Aston Villa"
          ],
          [
           "Aston Villa"
          ],
          [
           "Brentford"
          ],
          [
           "Brentford"
          ],
          [
           "Brentford"
          ],
          [
           "Brighton"
          ],
          [
           "Brighton"
          ],
          [
           "Brighton"
          ],
          [
           "Burnley"
          ],
          [
           "Burnley"
          ],
          [
           "Burnley"
          ],
          [
           "Burnley"
          ],
          [
           "Chelsea"
          ],
          [
           "Chelsea"
          ],
          [
           "Chelsea"
          ],
          [
           "Chelsea"
          ],
          [
           "Crystal Palace"
          ],
          [
           "Crystal Palace"
          ],
          [
           "Crystal Palace"
          ],
          [
           "Everton"
          ],
          [
           "Everton"
          ],
          [
           "Leicester"
          ],
          [
           "Leicester"
          ],
          [
           "Leicester"
          ],
          [
           "Leeds"
          ],
          [
           "Leeds"
          ],
          [
           "Liverpool"
          ],
          [
           "Liverpool"
          ],
          [
           "Man City"
          ],
          [
           "Man Utd"
          ],
          [
           "Man Utd"
          ],
          [
           "Newcastle"
          ],
          [
           "Newcastle"
          ],
          [
           "Newcastle"
          ],
          [
           "Newcastle"
          ],
          [
           "Norwich"
          ],
          [
           "Norwich"
          ],
          [
           "Norwich"
          ],
          [
           "Southampton"
          ],
          [
           "Southampton"
          ],
          [
           "Southampton"
          ],
          [
           "Southampton"
          ],
          [
           "Spurs"
          ],
          [
           "Watford"
          ],
          [
           "Watford"
          ],
          [
           "Watford"
          ],
          [
           "Watford"
          ],
          [
           "Watford"
          ],
          [
           "Watford"
          ],
          [
           "Watford"
          ],
          [
           "Watford"
          ],
          [
           "Watford"
          ],
          [
           "Watford"
          ],
          [
           "West Ham"
          ],
          [
           "Wolves"
          ],
          [
           "Wolves"
          ]
         ],
         "hovertemplate": "<b>%{hovertext}</b><br><br>Player Type=Forward<br>points_per_game=%{x}<br>now_cost=%{y}<br>size=%{marker.size}<br>team_name=%{customdata[0]}<extra></extra>",
         "hovertext": [
          "Pierre-Emerick Aubameyang",
          "Alexandre Lacazette",
          "Edward Nketiah",
          "Ollie Watkins",
          "Wesley Wesley",
          "Mbwana Ally Samatta",
          "Keinan Davis",
          "Ivan Toney",
          "Marcus Forss",
          "Halil Dervişoğlu",
          "Neal Maupay",
          "Aaron Connolly",
          "Danny Welbeck",
          "Jay Rodriguez",
          "Ashley Barnes",
          "Chris Wood",
          "Matej Vydra",
          "Olivier Giroud",
          "Michy Batshuayi",
          "Timo Werner",
          "Tammy Abraham",
          "Christian Benteke",
          "Jordan Ayew",
          "Jean-Philippe Mateta",
          "Dominic Calvert-Lewin",
          "Richarlison Richarlison",
          "Jamie Vardy",
          "Kelechi Iheanacho",
          "Patson Daka",
          "Rodrigo Rodrigo",
          "Patrick Bamford",
          "Roberto Firmino",
          "Divock Origi",
          "Gabriel Fernando Jesus",
          "Edinson Cavani",
          "Anthony Martial",
          "Callum Wilson",
          "Dwight Gayle",
          "Allan Saint-Maximin",
          "Joelinton Cássio Joelinton",
          "Teemu Pukki",
          "Jordan Hugill",
          "Adam Idah",
          "Danny Ings",
          "Daniel Nlundulu",
          "Che Adams",
          "Michael Obafemi",
          "Harry Kane",
          "Troy Deeney",
          "Andre Gray",
          "Stipe Perica",
          "Isaac Success",
          "Ashley Fletcher",
          "João Pedro João Pedro",
          "Emmanuel Dennis",
          "Joshua King",
          "Adedapo Mebude",
          "Juan Camilo Cucho",
          "Michail Antonio",
          "Raúl Jiménez",
          "Fabio Fabio Silva"
         ],
         "legendgroup": "Forward",
         "marker": {
          "color": "#00cc96",
          "size": [
           0.0,
           0.0,
           0.0,
           0.0,
           0.0,
           0.0,
           0.0,
           0.0,
           0.0,
           0.0,
           0.0,
           0.0,
           0.0,
           0.0,
           0.0,
           0.0,
           0.0,
           0.0,
           0.0,
           0.0,
           0.0,
           0.0,
           0.0,
           0.0,
           0.0,
           0.0,
           0.0,
           0.0,
           0.0,
           0.0,
           0.0,
           0.0,
           0.0,
           0.0,
           0.0,
           0.0,
           0.0,
           0.0,
           0.0,
           0.0,
           0.0,
           0.0,
           0.0,
           0.0,
           0.0,
           0.0,
           0.0,
           0.0,
           0.0,
           0.0,
           0.0,
           0.0,
           0.0,
           0.0,
           0.0,
           0.0,
           0.0,
           0.0,
           0.0,
           0.0,
           0.0
          ],
          "sizemode": "area",
          "sizeref": 0.0,
          "symbol": "circle"
         },
         "mode": "markers",
         "name": "Forward",
         "orientation": "v",
         "showlegend": true,
         "type": "scatter",
         "x": [
          4.5,
          4.2,
          2.1,
          4.5,
          1.0,
          0.0,
          1.5,
          0.0,
          0.0,
          0.0,
          3.2,
          2.2,
          3.7,
          1.7,
          2.4,
          4.2,
          2.2,
          2.8,
          2.3,
          3.7,
          3.1,
          3.5,
          2.1,
          2.1,
          5.0,
          3.6,
          5.5,
          4.4,
          0.0,
          3.4,
          5.1,
          3.9,
          1.1,
          4.0,
          3.8,
          3.4,
          5.2,
          1.7,
          3.4,
          2.4,
          0.0,
          0.0,
          0.0,
          4.5,
          1.0,
          3.8,
          1.0,
          6.9,
          0.0,
          0.0,
          0.0,
          0.0,
          0.0,
          0.0,
          0.0,
          1.0,
          0.0,
          0.0,
          4.5,
          4.3,
          2.2
         ],
         "xaxis": "x",
         "y": [
          10.0,
          8.5,
          5.5,
          7.5,
          5.5,
          5.5,
          4.5,
          6.5,
          5.5,
          5.5,
          6.5,
          5.5,
          6.0,
          5.5,
          5.5,
          7.0,
          5.5,
          6.5,
          5.5,
          9.0,
          6.5,
          6.5,
          6.0,
          5.5,
          8.0,
          7.5,
          10.5,
          7.5,
          7.5,
          6.5,
          8.0,
          9.0,
          5.0,
          8.5,
          8.5,
          8.0,
          7.5,
          5.5,
          6.5,
          6.0,
          6.0,
          5.5,
          5.0,
          8.0,
          4.5,
          7.0,
          4.5,
          12.5,
          5.5,
          5.5,
          4.5,
          5.0,
          5.0,
          5.5,
          5.0,
          5.5,
          4.5,
          5.0,
          7.5,
          7.5,
          6.0
         ],
         "yaxis": "y"
        },
        {
         "customdata": [
          [
           "Arsenal"
          ],
          [
           "Arsenal"
          ],
          [
           "Arsenal"
          ],
          [
           "Arsenal"
          ],
          [
           "Arsenal"
          ],
          [
           "Arsenal"
          ],
          [
           "Arsenal"
          ],
          [
           "Arsenal"
          ],
          [
           "Arsenal"
          ],
          [
           "Arsenal"
          ],
          [
           "Arsenal"
          ],
          [
           "Aston Villa"
          ],
          [
           "Aston Villa"
          ],
          [
           "Aston Villa"
          ],
          [
           "Aston Villa"
          ],
          [
           "Aston Villa"
          ],
          [
           "Aston Villa"
          ],
          [
           "Aston Villa"
          ],
          [
           "Aston Villa"
          ],
          [
           "Brentford"
          ],
          [
           "Brentford"
          ],
          [
           "Brentford"
          ],
          [
           "Brentford"
          ],
          [
           "Brentford"
          ],
          [
           "Brentford"
          ],
          [
           "Brentford"
          ],
          [
           "Brighton"
          ],
          [
           "Brighton"
          ],
          [
           "Brighton"
          ],
          [
           "Brighton"
          ],
          [
           "Brighton"
          ],
          [
           "Brighton"
          ],
          [
           "Brighton"
          ],
          [
           "Brighton"
          ],
          [
           "Burnley"
          ],
          [
           "Burnley"
          ],
          [
           "Burnley"
          ],
          [
           "Burnley"
          ],
          [
           "Burnley"
          ],
          [
           "Burnley"
          ],
          [
           "Burnley"
          ],
          [
           "Burnley"
          ],
          [
           "Chelsea"
          ],
          [
           "Chelsea"
          ],
          [
           "Chelsea"
          ],
          [
           "Chelsea"
          ],
          [
           "Chelsea"
          ],
          [
           "Chelsea"
          ],
          [
           "Chelsea"
          ],
          [
           "Chelsea"
          ],
          [
           "Chelsea"
          ],
          [
           "Crystal Palace"
          ],
          [
           "Crystal Palace"
          ],
          [
           "Crystal Palace"
          ],
          [
           "Crystal Palace"
          ],
          [
           "Crystal Palace"
          ],
          [
           "Crystal Palace"
          ],
          [
           "Crystal Palace"
          ],
          [
           "Crystal Palace"
          ],
          [
           "Crystal Palace"
          ],
          [
           "Everton"
          ],
          [
           "Everton"
          ],
          [
           "Everton"
          ],
          [
           "Everton"
          ],
          [
           "Everton"
          ],
          [
           "Everton"
          ],
          [
           "Leicester"
          ],
          [
           "Leicester"
          ],
          [
           "Leicester"
          ],
          [
           "Leicester"
          ],
          [
           "Leicester"
          ],
          [
           "Leicester"
          ],
          [
           "Leicester"
          ],
          [
           "Leicester"
          ],
          [
           "Leicester"
          ],
          [
           "Leeds"
          ],
          [
           "Leeds"
          ],
          [
           "Leeds"
          ],
          [
           "Leeds"
          ],
          [
           "Leeds"
          ],
          [
           "Leeds"
          ],
          [
           "Liverpool"
          ],
          [
           "Liverpool"
          ],
          [
           "Liverpool"
          ],
          [
           "Liverpool"
          ],
          [
           "Liverpool"
          ],
          [
           "Liverpool"
          ],
          [
           "Liverpool"
          ],
          [
           "Liverpool"
          ],
          [
           "Liverpool"
          ],
          [
           "Liverpool"
          ],
          [
           "Liverpool"
          ],
          [
           "Man City"
          ],
          [
           "Man City"
          ],
          [
           "Man City"
          ],
          [
           "Man City"
          ],
          [
           "Man City"
          ],
          [
           "Man City"
          ],
          [
           "Man City"
          ],
          [
           "Man City"
          ],
          [
           "Man Utd"
          ],
          [
           "Man Utd"
          ],
          [
           "Man Utd"
          ],
          [
           "Man Utd"
          ],
          [
           "Man Utd"
          ],
          [
           "Man Utd"
          ],
          [
           "Man Utd"
          ],
          [
           "Man Utd"
          ],
          [
           "Newcastle"
          ],
          [
           "Newcastle"
          ],
          [
           "Newcastle"
          ],
          [
           "Newcastle"
          ],
          [
           "Newcastle"
          ],
          [
           "Newcastle"
          ],
          [
           "Newcastle"
          ],
          [
           "Newcastle"
          ],
          [
           "Newcastle"
          ],
          [
           "Norwich"
          ],
          [
           "Norwich"
          ],
          [
           "Norwich"
          ],
          [
           "Norwich"
          ],
          [
           "Norwich"
          ],
          [
           "Norwich"
          ],
          [
           "Norwich"
          ],
          [
           "Norwich"
          ],
          [
           "Southampton"
          ],
          [
           "Southampton"
          ],
          [
           "Southampton"
          ],
          [
           "Southampton"
          ],
          [
           "Southampton"
          ],
          [
           "Southampton"
          ],
          [
           "Spurs"
          ],
          [
           "Spurs"
          ],
          [
           "Spurs"
          ],
          [
           "Spurs"
          ],
          [
           "Spurs"
          ],
          [
           "Spurs"
          ],
          [
           "Spurs"
          ],
          [
           "Spurs"
          ],
          [
           "Spurs"
          ],
          [
           "Spurs"
          ],
          [
           "Watford"
          ],
          [
           "Watford"
          ],
          [
           "Watford"
          ],
          [
           "Watford"
          ],
          [
           "Watford"
          ],
          [
           "Watford"
          ],
          [
           "Watford"
          ],
          [
           "Watford"
          ],
          [
           "Watford"
          ],
          [
           "Watford"
          ],
          [
           "Watford"
          ],
          [
           "West Ham"
          ],
          [
           "West Ham"
          ],
          [
           "West Ham"
          ],
          [
           "West Ham"
          ],
          [
           "West Ham"
          ],
          [
           "West Ham"
          ],
          [
           "West Ham"
          ],
          [
           "West Ham"
          ],
          [
           "West Ham"
          ],
          [
           "Wolves"
          ],
          [
           "Wolves"
          ],
          [
           "Wolves"
          ],
          [
           "Wolves"
          ],
          [
           "Wolves"
          ],
          [
           "Wolves"
          ],
          [
           "Wolves"
          ],
          [
           "Wolves"
          ],
          [
           "Wolves"
          ],
          [
           "Wolves"
          ]
         ],
         "hovertemplate": "<b>%{hovertext}</b><br><br>Player Type=Defender<br>points_per_game=%{x}<br>now_cost=%{y}<br>size=%{marker.size}<br>team_name=%{customdata[0]}<extra></extra>",
         "hovertext": [
          "Cédric Cédric",
          "Pablo Marí",
          "Héctor Bellerín",
          "Calum Chambers",
          "Sead Kolasinac",
          "Rob Holding",
          "Kieran Tierney",
          "Gabriel Gabriel",
          "Konstantinos Mavropanos",
          "William Saliba",
          "Nuno Tavares",
          "Björn Engels",
          "Kortney Hause",
          "Tyrone Mings",
          "Matt Targett",
          "Matthew Cash",
          "Ezri Konsa",
          "Frédéric Guilbert",
          "Ashley Young",
          "Pontus Jansson",
          "Rico Henry",
          "Charlie Goode",
          "Mads Roerslev",
          "Mads Sørensen",
          "Ethan Pinnock",
          "Kristoffer Ajer",
          "Shane Duffy",
          "Dan Burn",
          "Lewis Dunk",
          "Adam Webster",
          "Joël Veltman",
          "Ben White",
          "Bernardo Bernardo",
          "Tariq Lamptey",
          "James Tarkowski",
          "Phil Bardsley",
          "Erik Pieters",
          "Kevin Long",
          "Ben Mee",
          "Matthew Lowton",
          "Charlie Taylor",
          "Nathan Collins",
          "César Azpilicueta",
          "Thiago Thiago Silva",
          "Marcos Alonso",
          "Antonio Rüdiger",
          "Kurt Zouma",
          "Andreas Christensen",
          "Benjamin Chilwell",
          "Ethan Ampadu",
          "Reece James",
          "James Tomkins",
          "Cheikhou Kouyaté",
          "Martin Kelly",
          "Jarosław Jach",
          "Nathan Ferguson",
          "Tyrick Mitchell",
          "Joel Ward",
          "Marc Guéhi",
          "Joachim Andersen",
          "Seamus Coleman",
          "Lucas Digne",
          "Michael Keane",
          "Yerry Mina",
          "Mason Holgate",
          "Ben Godfrey",
          "Jonny Evans",
          "Ricardo Domingos Pereira",
          "Daniel Amartey",
          "Timothy Castagne",
          "Çaglar Söyüncü",
          "James Justin",
          "Luke Thomas",
          "Wesley Fofana",
          "Ryan Bertrand",
          "Liam Cooper",
          "Luke Ayling",
          "Diego Llorente",
          "Robin Koch",
          "Pascal Struijk",
          "Héctor Junior Firpo",
          "Joel Matip",
          "Virgil van Dijk",
          "Andrew Robertson",
          "Trent Alexander-Arnold",
          "Joseph Gomez",
          "Nathaniel Phillips",
          "Ibrahima Konaté",
          "Konstantinos Tsimikas",
          "Neco N.Williams",
          "Rhys R.Williams",
          "Ben Davies",
          "Kyle Walker",
          "John Stones",
          "Benjamin Mendy",
          "João Pedro Cavaco Cancelo",
          "Nathan Aké",
          "Aymeric Laporte",
          "Rúben Santos Dias",
          "Oleksandr Zinchenko",
          "Harry Maguire",
          "Luke Shaw",
          "Alex Nicolao Telles",
          "Axel Tuanzebe",
          "Victor Lindelöf",
          "Eric Bailly",
          "Aaron Wan-Bissaka",
          "Brandon Williams",
          "Matt Ritchie",
          "Ciaran Clark",
          "Jamaal Lascelles",
          "Paul Dummett",
          "Javier Manquillo",
          "Emil Krafth",
          "Fabian Schär",
          "Jamal Lewis",
          "Federico Fernández",
          "Grant Hanley",
          "Sam Byram",
          "Christoph Zimmermann",
          "Max Aarons",
          "Jacob Sørensen",
          "Andrew Omobamidele",
          "Ben Gibson",
          "Dimitris Giannoulis",
          "Jack Stephens",
          "Jannik Vestergaard",
          "Kyle Walker-Peters",
          "Jan Bednarek",
          "Mohammed Salisu",
          "Romain Perraud",
          "Toby Alderweireld",
          "Serge Aurier",
          "Matt Doherty",
          "Eric Dier",
          "Ben Davies",
          "Davinson Sánchez",
          "Ryan Sessegnon",
          "Sergio Reguilón",
          "Japhet Tanganga",
          "Joe Rodon",
          "Danny Rose",
          "Craig Cathcart",
          "Francisco Femenía",
          "Christian Kabasele",
          "William Troost-Ekong",
          "Adam Masina",
          "Francisco Sierralta",
          "Marc Navarro",
          "Jeremy Ngakia",
          "Ben Wilmot",
          "Matthew Pollock",
          "Angelo Ogbonna",
          "Winston Reid",
          "Aaron Cresswell",
          "Craig Dawson",
          "Ryan Fredericks",
          "Arthur Masuaku",
          "Vladimir Coufal",
          "Issa Diop",
          "Ben Johnson",
          "Willy Boly",
          "Conor Coady",
          "Romain Saïss",
          "Fernando Marçal",
          "Jonathan Jonny",
          "Nélson Semedo",
          "Max Kilman",
          "Ki-Jana Hoever",
          "Yerson Mosquera",
          "Rayan Ait Nouri"
         ],
         "legendgroup": "Defender",
         "marker": {
          "color": "#ab63fa",
          "size": [
           0.0,
           0.0,
           0.0,
           0.0,
           0.0,
           0.0,
           0.0,
           0.0,
           0.0,
           0.0,
           0.0,
           0.0,
           0.0,
           0.0,
           0.0,
           0.0,
           0.0,
           0.0,
           0.0,
           0.0,
           0.0,
           0.0,
           0.0,
           0.0,
           0.0,
           0.0,
           0.0,
           0.0,
           0.0,
           0.0,
           0.0,
           0.0,
           0.0,
           0.0,
           0.0,
           0.0,
           0.0,
           0.0,
           0.0,
           0.0,
           0.0,
           0.0,
           0.0,
           0.0,
           0.0,
           0.0,
           0.0,
           0.0,
           0.0,
           0.0,
           0.0,
           0.0,
           0.0,
           0.0,
           0.0,
           0.0,
           0.0,
           0.0,
           0.0,
           0.0,
           0.0,
           0.0,
           0.0,
           0.0,
           0.0,
           0.0,
           0.0,
           0.0,
           0.0,
           0.0,
           0.0,
           0.0,
           0.0,
           0.0,
           0.0,
           0.0,
           0.0,
           0.0,
           0.0,
           0.0,
           0.0,
           0.0,
           0.0,
           0.0,
           0.0,
           0.0,
           0.0,
           0.0,
           0.0,
           0.0,
           0.0,
           0.0,
           0.0,
           0.0,
           0.0,
           0.0,
           0.0,
           0.0,
           0.0,
           0.0,
           0.0,
           0.0,
           0.0,
           0.0,
           0.0,
           0.0,
           0.0,
           0.0,
           0.0,
           0.0,
           0.0,
           0.0,
           0.0,
           0.0,
           0.0,
           0.0,
           0.0,
           0.0,
           0.0,
           0.0,
           0.0,
           0.0,
           0.0,
           0.0,
           0.0,
           0.0,
           0.0,
           0.0,
           0.0,
           0.0,
           0.0,
           0.0,
           0.0,
           0.0,
           0.0,
           0.0,
           0.0,
           0.0,
           0.0,
           0.0,
           0.0,
           0.0,
           0.0,
           0.0,
           0.0,
           0.0,
           0.0,
           0.0,
           0.0,
           0.0,
           0.0,
           0.0,
           0.0,
           0.0,
           0.0,
           0.0,
           0.0,
           0.0,
           0.0,
           0.0,
           0.0,
           0.0,
           0.0,
           0.0,
           0.0,
           0.0,
           0.0,
           0.0,
           0.0,
           0.0,
           0.0
          ],
          "sizemode": "area",
          "sizeref": 0.0,
          "symbol": "circle"
         },
         "mode": "markers",
         "name": "Defender",
         "orientation": "v",
         "showlegend": true,
         "type": "scatter",
         "x": [
          2.8,
          3.4,
          3.8,
          3.6,
          0.0,
          3.5,
          3.6,
          3.4,
          0.0,
          0.0,
          0.0,
          0.0,
          4.6,
          3.6,
          3.6,
          3.2,
          3.3,
          0.0,
          0.0,
          0.0,
          0.0,
          0.0,
          0.0,
          0.0,
          0.0,
          0.0,
          0.0,
          2.4,
          3.9,
          2.9,
          3.4,
          2.9,
          0.0,
          3.2,
          3.0,
          0.5,
          2.5,
          1.8,
          3.4,
          3.0,
          2.9,
          0.0,
          4.3,
          4.0,
          4.4,
          4.9,
          4.5,
          3.6,
          5.1,
          1.8,
          3.5,
          2.2,
          2.3,
          1.0,
          0.0,
          0.0,
          3.1,
          2.5,
          0.0,
          3.0,
          3.2,
          4.0,
          3.6,
          3.3,
          2.9,
          3.2,
          3.9,
          1.8,
          1.7,
          3.5,
          2.6,
          4.4,
          1.9,
          2.5,
          2.7,
          2.4,
          2.6,
          3.3,
          2.2,
          2.6,
          0.0,
          4.2,
          3.0,
          4.2,
          4.4,
          1.4,
          4.0,
          0.0,
          1.0,
          1.8,
          3.1,
          0.0,
          3.8,
          5.8,
          4.8,
          4.9,
          2.9,
          3.6,
          4.4,
          3.5,
          3.6,
          3.9,
          2.8,
          0.8,
          3.5,
          2.6,
          4.2,
          1.2,
          2.9,
          2.1,
          2.3,
          2.7,
          2.2,
          2.8,
          1.7,
          1.8,
          2.2,
          0.0,
          0.0,
          0.0,
          0.0,
          0.0,
          0.0,
          0.0,
          0.0,
          2.3,
          2.9,
          3.1,
          2.6,
          1.2,
          0.0,
          3.5,
          4.2,
          2.8,
          2.8,
          2.6,
          2.4,
          0.0,
          3.3,
          2.3,
          2.2,
          0.0,
          0.0,
          0.0,
          0.0,
          0.0,
          0.0,
          0.0,
          0.0,
          0.0,
          0.0,
          0.0,
          3.6,
          0.0,
          4.2,
          3.4,
          2.0,
          3.5,
          3.8,
          2.3,
          1.8,
          3.2,
          2.9,
          3.7,
          1.5,
          2.3,
          3.2,
          3.2,
          1.1,
          0.0,
          2.6
         ],
         "xaxis": "x",
         "y": [
          4.5,
          4.5,
          5.0,
          4.5,
          4.5,
          4.5,
          5.0,
          5.0,
          4.5,
          4.5,
          4.5,
          4.5,
          4.5,
          5.0,
          5.0,
          5.0,
          5.0,
          4.5,
          5.0,
          4.5,
          4.5,
          4.0,
          4.5,
          4.5,
          4.5,
          4.5,
          4.0,
          4.5,
          5.0,
          4.5,
          4.5,
          4.5,
          4.0,
          4.5,
          5.0,
          4.0,
          4.5,
          4.0,
          5.0,
          4.5,
          4.5,
          4.5,
          6.0,
          5.5,
          5.5,
          5.5,
          5.5,
          5.0,
          6.0,
          4.5,
          5.5,
          4.5,
          4.5,
          4.0,
          4.5,
          4.5,
          4.5,
          4.5,
          4.5,
          4.5,
          5.0,
          5.5,
          5.0,
          5.0,
          4.5,
          5.0,
          5.5,
          5.5,
          4.0,
          5.5,
          5.0,
          5.0,
          4.5,
          4.5,
          5.0,
          4.5,
          4.5,
          4.5,
          4.5,
          4.5,
          5.0,
          5.0,
          6.5,
          7.0,
          7.5,
          5.0,
          4.5,
          5.5,
          4.0,
          4.0,
          4.5,
          4.0,
          5.5,
          5.5,
          5.5,
          6.0,
          5.0,
          5.5,
          6.0,
          5.5,
          5.5,
          5.5,
          5.0,
          4.5,
          5.0,
          5.0,
          5.5,
          4.0,
          5.0,
          4.5,
          4.5,
          4.5,
          4.0,
          4.5,
          4.5,
          4.5,
          4.5,
          4.5,
          4.5,
          4.5,
          4.5,
          4.5,
          4.0,
          4.5,
          4.5,
          4.5,
          5.0,
          5.0,
          4.5,
          4.5,
          5.0,
          5.0,
          5.0,
          5.0,
          4.5,
          4.5,
          4.5,
          4.5,
          5.0,
          4.5,
          4.5,
          4.5,
          4.5,
          4.5,
          4.5,
          4.5,
          4.5,
          4.5,
          4.0,
          4.5,
          4.5,
          4.0,
          5.0,
          4.0,
          5.5,
          5.0,
          4.5,
          4.5,
          5.0,
          4.5,
          4.0,
          5.0,
          4.5,
          5.0,
          4.5,
          4.5,
          5.0,
          4.5,
          4.0,
          4.5,
          4.5
         ],
         "yaxis": "y"
        }
       ],
       "layout": {
        "annotations": [
         {
          "showarrow": false,
          "text": "Bubble Size : Player Form",
          "x": 1.15,
          "xref": "paper",
          "y": 1.1,
          "yref": "paper"
         }
        ],
        "legend": {
         "itemsizing": "constant",
         "title": {
          "text": "Player Type"
         },
         "tracegroupgap": 0
        },
        "showlegend": true,
        "template": {
         "data": {
          "bar": [
           {
            "error_x": {
             "color": "#2a3f5f"
            },
            "error_y": {
             "color": "#2a3f5f"
            },
            "marker": {
             "line": {
              "color": "#E5ECF6",
              "width": 0.5
             },
             "pattern": {
              "fillmode": "overlay",
              "size": 10,
              "solidity": 0.2
             }
            },
            "type": "bar"
           }
          ],
          "barpolar": [
           {
            "marker": {
             "line": {
              "color": "#E5ECF6",
              "width": 0.5
             },
             "pattern": {
              "fillmode": "overlay",
              "size": 10,
              "solidity": 0.2
             }
            },
            "type": "barpolar"
           }
          ],
          "carpet": [
           {
            "aaxis": {
             "endlinecolor": "#2a3f5f",
             "gridcolor": "white",
             "linecolor": "white",
             "minorgridcolor": "white",
             "startlinecolor": "#2a3f5f"
            },
            "baxis": {
             "endlinecolor": "#2a3f5f",
             "gridcolor": "white",
             "linecolor": "white",
             "minorgridcolor": "white",
             "startlinecolor": "#2a3f5f"
            },
            "type": "carpet"
           }
          ],
          "choropleth": [
           {
            "colorbar": {
             "outlinewidth": 0,
             "ticks": ""
            },
            "type": "choropleth"
           }
          ],
          "contour": [
           {
            "colorbar": {
             "outlinewidth": 0,
             "ticks": ""
            },
            "colorscale": [
             [
              0.0,
              "#0d0887"
             ],
             [
              0.1111111111111111,
              "#46039f"
             ],
             [
              0.2222222222222222,
              "#7201a8"
             ],
             [
              0.3333333333333333,
              "#9c179e"
             ],
             [
              0.4444444444444444,
              "#bd3786"
             ],
             [
              0.5555555555555556,
              "#d8576b"
             ],
             [
              0.6666666666666666,
              "#ed7953"
             ],
             [
              0.7777777777777778,
              "#fb9f3a"
             ],
             [
              0.8888888888888888,
              "#fdca26"
             ],
             [
              1.0,
              "#f0f921"
             ]
            ],
            "type": "contour"
           }
          ],
          "contourcarpet": [
           {
            "colorbar": {
             "outlinewidth": 0,
             "ticks": ""
            },
            "type": "contourcarpet"
           }
          ],
          "heatmap": [
           {
            "colorbar": {
             "outlinewidth": 0,
             "ticks": ""
            },
            "colorscale": [
             [
              0.0,
              "#0d0887"
             ],
             [
              0.1111111111111111,
              "#46039f"
             ],
             [
              0.2222222222222222,
              "#7201a8"
             ],
             [
              0.3333333333333333,
              "#9c179e"
             ],
             [
              0.4444444444444444,
              "#bd3786"
             ],
             [
              0.5555555555555556,
              "#d8576b"
             ],
             [
              0.6666666666666666,
              "#ed7953"
             ],
             [
              0.7777777777777778,
              "#fb9f3a"
             ],
             [
              0.8888888888888888,
              "#fdca26"
             ],
             [
              1.0,
              "#f0f921"
             ]
            ],
            "type": "heatmap"
           }
          ],
          "heatmapgl": [
           {
            "colorbar": {
             "outlinewidth": 0,
             "ticks": ""
            },
            "colorscale": [
             [
              0.0,
              "#0d0887"
             ],
             [
              0.1111111111111111,
              "#46039f"
             ],
             [
              0.2222222222222222,
              "#7201a8"
             ],
             [
              0.3333333333333333,
              "#9c179e"
             ],
             [
              0.4444444444444444,
              "#bd3786"
             ],
             [
              0.5555555555555556,
              "#d8576b"
             ],
             [
              0.6666666666666666,
              "#ed7953"
             ],
             [
              0.7777777777777778,
              "#fb9f3a"
             ],
             [
              0.8888888888888888,
              "#fdca26"
             ],
             [
              1.0,
              "#f0f921"
             ]
            ],
            "type": "heatmapgl"
           }
          ],
          "histogram": [
           {
            "marker": {
             "pattern": {
              "fillmode": "overlay",
              "size": 10,
              "solidity": 0.2
             }
            },
            "type": "histogram"
           }
          ],
          "histogram2d": [
           {
            "colorbar": {
             "outlinewidth": 0,
             "ticks": ""
            },
            "colorscale": [
             [
              0.0,
              "#0d0887"
             ],
             [
              0.1111111111111111,
              "#46039f"
             ],
             [
              0.2222222222222222,
              "#7201a8"
             ],
             [
              0.3333333333333333,
              "#9c179e"
             ],
             [
              0.4444444444444444,
              "#bd3786"
             ],
             [
              0.5555555555555556,
              "#d8576b"
             ],
             [
              0.6666666666666666,
              "#ed7953"
             ],
             [
              0.7777777777777778,
              "#fb9f3a"
             ],
             [
              0.8888888888888888,
              "#fdca26"
             ],
             [
              1.0,
              "#f0f921"
             ]
            ],
            "type": "histogram2d"
           }
          ],
          "histogram2dcontour": [
           {
            "colorbar": {
             "outlinewidth": 0,
             "ticks": ""
            },
            "colorscale": [
             [
              0.0,
              "#0d0887"
             ],
             [
              0.1111111111111111,
              "#46039f"
             ],
             [
              0.2222222222222222,
              "#7201a8"
             ],
             [
              0.3333333333333333,
              "#9c179e"
             ],
             [
              0.4444444444444444,
              "#bd3786"
             ],
             [
              0.5555555555555556,
              "#d8576b"
             ],
             [
              0.6666666666666666,
              "#ed7953"
             ],
             [
              0.7777777777777778,
              "#fb9f3a"
             ],
             [
              0.8888888888888888,
              "#fdca26"
             ],
             [
              1.0,
              "#f0f921"
             ]
            ],
            "type": "histogram2dcontour"
           }
          ],
          "mesh3d": [
           {
            "colorbar": {
             "outlinewidth": 0,
             "ticks": ""
            },
            "type": "mesh3d"
           }
          ],
          "parcoords": [
           {
            "line": {
             "colorbar": {
              "outlinewidth": 0,
              "ticks": ""
             }
            },
            "type": "parcoords"
           }
          ],
          "pie": [
           {
            "automargin": true,
            "type": "pie"
           }
          ],
          "scatter": [
           {
            "marker": {
             "colorbar": {
              "outlinewidth": 0,
              "ticks": ""
             }
            },
            "type": "scatter"
           }
          ],
          "scatter3d": [
           {
            "line": {
             "colorbar": {
              "outlinewidth": 0,
              "ticks": ""
             }
            },
            "marker": {
             "colorbar": {
              "outlinewidth": 0,
              "ticks": ""
             }
            },
            "type": "scatter3d"
           }
          ],
          "scattercarpet": [
           {
            "marker": {
             "colorbar": {
              "outlinewidth": 0,
              "ticks": ""
             }
            },
            "type": "scattercarpet"
           }
          ],
          "scattergeo": [
           {
            "marker": {
             "colorbar": {
              "outlinewidth": 0,
              "ticks": ""
             }
            },
            "type": "scattergeo"
           }
          ],
          "scattergl": [
           {
            "marker": {
             "colorbar": {
              "outlinewidth": 0,
              "ticks": ""
             }
            },
            "type": "scattergl"
           }
          ],
          "scattermapbox": [
           {
            "marker": {
             "colorbar": {
              "outlinewidth": 0,
              "ticks": ""
             }
            },
            "type": "scattermapbox"
           }
          ],
          "scatterpolar": [
           {
            "marker": {
             "colorbar": {
              "outlinewidth": 0,
              "ticks": ""
             }
            },
            "type": "scatterpolar"
           }
          ],
          "scatterpolargl": [
           {
            "marker": {
             "colorbar": {
              "outlinewidth": 0,
              "ticks": ""
             }
            },
            "type": "scatterpolargl"
           }
          ],
          "scatterternary": [
           {
            "marker": {
             "colorbar": {
              "outlinewidth": 0,
              "ticks": ""
             }
            },
            "type": "scatterternary"
           }
          ],
          "surface": [
           {
            "colorbar": {
             "outlinewidth": 0,
             "ticks": ""
            },
            "colorscale": [
             [
              0.0,
              "#0d0887"
             ],
             [
              0.1111111111111111,
              "#46039f"
             ],
             [
              0.2222222222222222,
              "#7201a8"
             ],
             [
              0.3333333333333333,
              "#9c179e"
             ],
             [
              0.4444444444444444,
              "#bd3786"
             ],
             [
              0.5555555555555556,
              "#d8576b"
             ],
             [
              0.6666666666666666,
              "#ed7953"
             ],
             [
              0.7777777777777778,
              "#fb9f3a"
             ],
             [
              0.8888888888888888,
              "#fdca26"
             ],
             [
              1.0,
              "#f0f921"
             ]
            ],
            "type": "surface"
           }
          ],
          "table": [
           {
            "cells": {
             "fill": {
              "color": "#EBF0F8"
             },
             "line": {
              "color": "white"
             }
            },
            "header": {
             "fill": {
              "color": "#C8D4E3"
             },
             "line": {
              "color": "white"
             }
            },
            "type": "table"
           }
          ]
         },
         "layout": {
          "annotationdefaults": {
           "arrowcolor": "#2a3f5f",
           "arrowhead": 0,
           "arrowwidth": 1
          },
          "autotypenumbers": "strict",
          "coloraxis": {
           "colorbar": {
            "outlinewidth": 0,
            "ticks": ""
           }
          },
          "colorscale": {
           "diverging": [
            [
             0,
             "#8e0152"
            ],
            [
             0.1,
             "#c51b7d"
            ],
            [
             0.2,
             "#de77ae"
            ],
            [
             0.3,
             "#f1b6da"
            ],
            [
             0.4,
             "#fde0ef"
            ],
            [
             0.5,
             "#f7f7f7"
            ],
            [
             0.6,
             "#e6f5d0"
            ],
            [
             0.7,
             "#b8e186"
            ],
            [
             0.8,
             "#7fbc41"
            ],
            [
             0.9,
             "#4d9221"
            ],
            [
             1,
             "#276419"
            ]
           ],
           "sequential": [
            [
             0.0,
             "#0d0887"
            ],
            [
             0.1111111111111111,
             "#46039f"
            ],
            [
             0.2222222222222222,
             "#7201a8"
            ],
            [
             0.3333333333333333,
             "#9c179e"
            ],
            [
             0.4444444444444444,
             "#bd3786"
            ],
            [
             0.5555555555555556,
             "#d8576b"
            ],
            [
             0.6666666666666666,
             "#ed7953"
            ],
            [
             0.7777777777777778,
             "#fb9f3a"
            ],
            [
             0.8888888888888888,
             "#fdca26"
            ],
            [
             1.0,
             "#f0f921"
            ]
           ],
           "sequentialminus": [
            [
             0.0,
             "#0d0887"
            ],
            [
             0.1111111111111111,
             "#46039f"
            ],
            [
             0.2222222222222222,
             "#7201a8"
            ],
            [
             0.3333333333333333,
             "#9c179e"
            ],
            [
             0.4444444444444444,
             "#bd3786"
            ],
            [
             0.5555555555555556,
             "#d8576b"
            ],
            [
             0.6666666666666666,
             "#ed7953"
            ],
            [
             0.7777777777777778,
             "#fb9f3a"
            ],
            [
             0.8888888888888888,
             "#fdca26"
            ],
            [
             1.0,
             "#f0f921"
            ]
           ]
          },
          "colorway": [
           "#636efa",
           "#EF553B",
           "#00cc96",
           "#ab63fa",
           "#FFA15A",
           "#19d3f3",
           "#FF6692",
           "#B6E880",
           "#FF97FF",
           "#FECB52"
          ],
          "font": {
           "color": "#2a3f5f"
          },
          "geo": {
           "bgcolor": "white",
           "lakecolor": "white",
           "landcolor": "#E5ECF6",
           "showlakes": true,
           "showland": true,
           "subunitcolor": "white"
          },
          "hoverlabel": {
           "align": "left"
          },
          "hovermode": "closest",
          "mapbox": {
           "style": "light"
          },
          "paper_bgcolor": "white",
          "plot_bgcolor": "#E5ECF6",
          "polar": {
           "angularaxis": {
            "gridcolor": "white",
            "linecolor": "white",
            "ticks": ""
           },
           "bgcolor": "#E5ECF6",
           "radialaxis": {
            "gridcolor": "white",
            "linecolor": "white",
            "ticks": ""
           }
          },
          "scene": {
           "xaxis": {
            "backgroundcolor": "#E5ECF6",
            "gridcolor": "white",
            "gridwidth": 2,
            "linecolor": "white",
            "showbackground": true,
            "ticks": "",
            "zerolinecolor": "white"
           },
           "yaxis": {
            "backgroundcolor": "#E5ECF6",
            "gridcolor": "white",
            "gridwidth": 2,
            "linecolor": "white",
            "showbackground": true,
            "ticks": "",
            "zerolinecolor": "white"
           },
           "zaxis": {
            "backgroundcolor": "#E5ECF6",
            "gridcolor": "white",
            "gridwidth": 2,
            "linecolor": "white",
            "showbackground": true,
            "ticks": "",
            "zerolinecolor": "white"
           }
          },
          "shapedefaults": {
           "line": {
            "color": "#2a3f5f"
           }
          },
          "ternary": {
           "aaxis": {
            "gridcolor": "white",
            "linecolor": "white",
            "ticks": ""
           },
           "baxis": {
            "gridcolor": "white",
            "linecolor": "white",
            "ticks": ""
           },
           "bgcolor": "#E5ECF6",
           "caxis": {
            "gridcolor": "white",
            "linecolor": "white",
            "ticks": ""
           }
          },
          "title": {
           "x": 0.05
          },
          "xaxis": {
           "automargin": true,
           "gridcolor": "white",
           "linecolor": "white",
           "ticks": "",
           "title": {
            "standoff": 15
           },
           "zerolinecolor": "white",
           "zerolinewidth": 2
          },
          "yaxis": {
           "automargin": true,
           "gridcolor": "white",
           "linecolor": "white",
           "ticks": "",
           "title": {
            "standoff": 15
           },
           "zerolinecolor": "white",
           "zerolinewidth": 2
          }
         }
        },
        "title": {
         "text": "Most Suitable Player to Buy Currently"
        },
        "xaxis": {
         "anchor": "y",
         "domain": [
          0.0,
          1.0
         ],
         "title": {
          "text": "Points Per Game"
         }
        },
        "yaxis": {
         "anchor": "x",
         "domain": [
          0.0,
          1.0
         ],
         "tickprefix": "£",
         "title": {
          "text": "Price"
         }
        }
       }
      },
      "text/html": [
       "<div>                            <div id=\"f01e68b6-125f-4fc3-974e-73b3837aebdc\" class=\"plotly-graph-div\" style=\"height:525px; width:100%;\"></div>            <script type=\"text/javascript\">                require([\"plotly\"], function(Plotly) {                    window.PLOTLYENV=window.PLOTLYENV || {};                                    if (document.getElementById(\"f01e68b6-125f-4fc3-974e-73b3837aebdc\")) {                    Plotly.newPlot(                        \"f01e68b6-125f-4fc3-974e-73b3837aebdc\",                        [{\"customdata\":[[\"Arsenal\"],[\"Arsenal\"],[\"Aston Villa\"],[\"Aston Villa\"],[\"Brentford\"],[\"Brentford\"],[\"Brentford\"],[\"Brighton\"],[\"Brighton\"],[\"Brighton\"],[\"Brighton\"],[\"Burnley\"],[\"Burnley\"],[\"Burnley\"],[\"Burnley\"],[\"Chelsea\"],[\"Chelsea\"],[\"Crystal Palace\"],[\"Crystal Palace\"],[\"Everton\"],[\"Everton\"],[\"Everton\"],[\"Leicester\"],[\"Leicester\"],[\"Leeds\"],[\"Leeds\"],[\"Liverpool\"],[\"Liverpool\"],[\"Liverpool\"],[\"Man City\"],[\"Man City\"],[\"Man Utd\"],[\"Man Utd\"],[\"Newcastle\"],[\"Newcastle\"],[\"Norwich\"],[\"Norwich\"],[\"Norwich\"],[\"Southampton\"],[\"Southampton\"],[\"Spurs\"],[\"Spurs\"],[\"Spurs\"],[\"Watford\"],[\"Watford\"],[\"West Ham\"],[\"West Ham\"],[\"Wolves\"],[\"Wolves\"],[\"Wolves\"],[\"Wolves\"]],\"hovertemplate\":\"<b>%{hovertext}</b><br><br>Player Type=Goalkeeper<br>points_per_game=%{x}<br>now_cost=%{y}<br>size=%{marker.size}<br>team_name=%{customdata[0]}<extra></extra>\",\"hovertext\":[\"Bernd Leno\",\"R\\u00fanar Alex R\\u00fanarsson\",\"Jed Steer\",\"Emiliano Mart\\u00ednez\",\"David Raya\",\"Ellery Balcombe\",\"Patrik Gunnarsson\",\"Jason Steele\",\"Mathew Ryan\",\"Robert S\\u00e1nchez\",\"Kjell Scherpen\",\"Nick Pope\",\"Will Norris\",\"Bailey Peacock-Farrell\",\"Wayne Hennessey\",\"Kepa Arrizabalaga\",\"Edouard Mendy\",\"Vicente Guaita\",\"Jack Butland\",\"Jordan Pickford\",\"Jo\\u00e3o Virg\\u00ednia\",\"Asmir Begovi\\u0107\",\"Kasper Schmeichel\",\"Danny Ward\",\"Francisco Casilla\",\"Illan Meslier\",\"Adri\\u00e1n Adri\\u00e1n\",\"Alisson Alisson\",\"Caoimhin Kelleher\",\"Ederson Ederson\",\"Zack Steffen\",\"David de Gea\",\"Dean Henderson\",\"Karl Darlow\",\"Martin Dubravka\",\"Michael McGovern\",\"Tim Krul\",\"Angus Gunn\",\"Fraser Forster\",\"Alex McCarthy\",\"Joe Hart\",\"Hugo Lloris\",\"Pierluigi Gollini\",\"Ben Foster\",\"Daniel Bachmann\",\"Darren Randolph\",\"Lukasz Fabianski\",\"Rui Pedro Patr\\u00edcio\",\"Andreas S\\u00f6ndergaard\",\"John Ruddy\",\"Jos\\u00e9 S\\u00e1\"],\"legendgroup\":\"Goalkeeper\",\"marker\":{\"color\":\"#636efa\",\"size\":[0.0,0.0,0.0,0.0,0.0,0.0,0.0,0.0,0.0,0.0,0.0,0.0,0.0,0.0,0.0,0.0,0.0,0.0,0.0,0.0,0.0,0.0,0.0,0.0,0.0,0.0,0.0,0.0,0.0,0.0,0.0,0.0,0.0,0.0,0.0,0.0,0.0,0.0,0.0,0.0,0.0,0.0,0.0,0.0,0.0,0.0,0.0,0.0,0.0,0.0,0.0],\"sizemode\":\"area\",\"sizeref\":0.0,\"symbol\":\"circle\"},\"mode\":\"markers\",\"name\":\"Goalkeeper\",\"orientation\":\"v\",\"showlegend\":true,\"type\":\"scatter\",\"x\":[3.7,1.0,0.0,4.9,0.0,0.0,0.0,0.0,2.6,3.7,0.0,4.5,1.5,0.8,0.0,3.7,4.5,3.4,2.0,3.7,2.0,0.0,3.4,0.0,4.7,4.4,3.7,4.2,5.0,4.4,2.0,3.5,3.4,3.2,3.7,0.0,0.0,0.0,3.8,3.1,0.0,3.9,0.0,0.0,0.0,3.3,3.8,3.6,0.0,2.0,0.0],\"xaxis\":\"x\",\"y\":[5.0,4.0,4.0,5.5,4.5,4.0,4.0,4.0,4.5,4.5,4.5,5.5,4.5,4.5,4.5,5.0,6.0,4.5,4.5,5.0,4.0,4.0,5.0,4.0,4.5,5.0,4.5,6.0,4.5,6.0,4.5,5.0,5.0,4.5,4.5,4.0,4.5,4.0,4.5,4.5,4.5,5.5,4.5,4.0,4.5,4.5,5.0,5.0,4.0,4.5,5.0],\"yaxis\":\"y\"},{\"customdata\":[[\"Arsenal\"],[\"Arsenal\"],[\"Arsenal\"],[\"Arsenal\"],[\"Arsenal\"],[\"Arsenal\"],[\"Arsenal\"],[\"Arsenal\"],[\"Arsenal\"],[\"Arsenal\"],[\"Arsenal\"],[\"Arsenal\"],[\"Arsenal\"],[\"Aston Villa\"],[\"Aston Villa\"],[\"Aston Villa\"],[\"Aston Villa\"],[\"Aston Villa\"],[\"Aston Villa\"],[\"Aston Villa\"],[\"Aston Villa\"],[\"Aston Villa\"],[\"Aston Villa\"],[\"Aston Villa\"],[\"Brentford\"],[\"Brentford\"],[\"Brentford\"],[\"Brentford\"],[\"Brentford\"],[\"Brentford\"],[\"Brentford\"],[\"Brentford\"],[\"Brentford\"],[\"Brentford\"],[\"Brentford\"],[\"Brighton\"],[\"Brighton\"],[\"Brighton\"],[\"Brighton\"],[\"Brighton\"],[\"Brighton\"],[\"Brighton\"],[\"Brighton\"],[\"Brighton\"],[\"Brighton\"],[\"Brighton\"],[\"Burnley\"],[\"Burnley\"],[\"Burnley\"],[\"Burnley\"],[\"Burnley\"],[\"Burnley\"],[\"Burnley\"],[\"Chelsea\"],[\"Chelsea\"],[\"Chelsea\"],[\"Chelsea\"],[\"Chelsea\"],[\"Chelsea\"],[\"Chelsea\"],[\"Chelsea\"],[\"Chelsea\"],[\"Chelsea\"],[\"Chelsea\"],[\"Crystal Palace\"],[\"Crystal Palace\"],[\"Crystal Palace\"],[\"Crystal Palace\"],[\"Crystal Palace\"],[\"Crystal Palace\"],[\"Crystal Palace\"],[\"Everton\"],[\"Everton\"],[\"Everton\"],[\"Everton\"],[\"Everton\"],[\"Everton\"],[\"Everton\"],[\"Everton\"],[\"Everton\"],[\"Everton\"],[\"Everton\"],[\"Leicester\"],[\"Leicester\"],[\"Leicester\"],[\"Leicester\"],[\"Leicester\"],[\"Leicester\"],[\"Leicester\"],[\"Leicester\"],[\"Leicester\"],[\"Leicester\"],[\"Leeds\"],[\"Leeds\"],[\"Leeds\"],[\"Leeds\"],[\"Leeds\"],[\"Leeds\"],[\"Leeds\"],[\"Leeds\"],[\"Leeds\"],[\"Leeds\"],[\"Liverpool\"],[\"Liverpool\"],[\"Liverpool\"],[\"Liverpool\"],[\"Liverpool\"],[\"Liverpool\"],[\"Liverpool\"],[\"Liverpool\"],[\"Liverpool\"],[\"Liverpool\"],[\"Liverpool\"],[\"Liverpool\"],[\"Man City\"],[\"Man City\"],[\"Man City\"],[\"Man City\"],[\"Man City\"],[\"Man City\"],[\"Man City\"],[\"Man City\"],[\"Man City\"],[\"Man Utd\"],[\"Man Utd\"],[\"Man Utd\"],[\"Man Utd\"],[\"Man Utd\"],[\"Man Utd\"],[\"Man Utd\"],[\"Man Utd\"],[\"Man Utd\"],[\"Man Utd\"],[\"Man Utd\"],[\"Man Utd\"],[\"Newcastle\"],[\"Newcastle\"],[\"Newcastle\"],[\"Newcastle\"],[\"Newcastle\"],[\"Newcastle\"],[\"Newcastle\"],[\"Newcastle\"],[\"Norwich\"],[\"Norwich\"],[\"Norwich\"],[\"Norwich\"],[\"Norwich\"],[\"Norwich\"],[\"Norwich\"],[\"Norwich\"],[\"Norwich\"],[\"Norwich\"],[\"Norwich\"],[\"Southampton\"],[\"Southampton\"],[\"Southampton\"],[\"Southampton\"],[\"Southampton\"],[\"Southampton\"],[\"Southampton\"],[\"Southampton\"],[\"Southampton\"],[\"Spurs\"],[\"Spurs\"],[\"Spurs\"],[\"Spurs\"],[\"Spurs\"],[\"Spurs\"],[\"Spurs\"],[\"Spurs\"],[\"Spurs\"],[\"Spurs\"],[\"Spurs\"],[\"Spurs\"],[\"Watford\"],[\"Watford\"],[\"Watford\"],[\"Watford\"],[\"Watford\"],[\"Watford\"],[\"Watford\"],[\"Watford\"],[\"Watford\"],[\"Watford\"],[\"Watford\"],[\"Watford\"],[\"Watford\"],[\"West Ham\"],[\"West Ham\"],[\"West Ham\"],[\"West Ham\"],[\"West Ham\"],[\"West Ham\"],[\"West Ham\"],[\"West Ham\"],[\"Wolves\"],[\"Wolves\"],[\"Wolves\"],[\"Wolves\"],[\"Wolves\"],[\"Wolves\"],[\"Wolves\"],[\"Wolves\"],[\"Wolves\"]],\"hovertemplate\":\"<b>%{hovertext}</b><br><br>Player Type=Midfielder<br>points_per_game=%{x}<br>now_cost=%{y}<br>size=%{marker.size}<br>team_name=%{customdata[0]}<extra></extra>\",\"hovertext\":[\"Willian Willian\",\"Granit Xhaka\",\"Mohamed Naser Elneny\",\"Ainsley Maitland-Niles\",\"Thomas Partey\",\"Nicolas P\\u00e9p\\u00e9\",\"Lucas Torreira\",\"Joseph Willock\",\"Emile Smith Rowe\",\"Bukayo Saka\",\"Matt\\u00e9o Guendouzi\",\"Gabriel Teodoro Martinelli\",\"Albert Sambi Lokonga\",\"Conor Hourihane\",\"Bertrand Traor\\u00e9\",\"Jack Grealish\",\"Morgan Sanson\",\"John McGinn\",\"Mahmoud Ahmed Tr\\u00e9z\\u00e9guet\",\"Marvelous Nakamba\",\"Anwar El Ghazi\",\"Emiliano Buend\\u00eda\",\"Douglas Luiz Douglas Luiz\",\"Jacob Ramsey\",\"Christian N\\u00f8rgaard\",\"Tariqe Fosu\",\"Sergi Can\\u00f3s\",\"Pelenda Joshua Dasilva\",\"Vitaly Janelt\",\"Saman Ghoddos\",\"Mathias Jensen\",\"Jan Zamburek\",\"Bryan Mbeumo\",\"Mads Bidstrup\",\"Frank Onyeka\",\"Adam Lallana\",\"Pascal Gro\\u00df\",\"Davy Pr\\u00f6pper\",\"Solomon March\",\"Leandro Trossard\",\"Alireza Jahanbakhsh\",\"Yves Bissouma\",\"Steven Alzate\",\"Alexis Mac Allister\",\"Jakub Moder\",\"Enock Mwepu\",\"Jack Cork\",\"Dale Stephens\",\"Ashley Westwood\",\"Johann Berg Gudmundsson\",\"Josh Brownhill\",\"Josh Benson\",\"Dwight McNeil\",\"Jorge Luiz Jorginho\",\"Ross Barkley\",\"Mateo Kovacic\",\"N'Golo Kant\\u00e9\",\"Hakim Ziyech\",\"Ruben Loftus-Cheek\",\"Christian Pulisic\",\"Mason Mount\",\"Callum Hudson-Odoi\",\"Kai Havertz\",\"Conor Gallagher\",\"James McArthur\",\"Luka Milivojevic\",\"Wilfried Zaha\",\"Jeffrey Schlupp\",\"Jairo Riedewald\",\"Eberechi Eze\",\"Michael Olise\",\"Fabian Delph\",\"Gylfi Sigurdsson\",\"James James\",\"Bernard Bernard\",\"Allan Allan\",\"Andr\\u00e9 Filipe Andr\\u00e9 Gomes\",\"Abdoulaye Doucour\\u00e9\",\"Alex Iwobi\",\"Tom Davies\",\"Andros Townsend\",\"Demarai Gray\",\"Marc Albrighton\",\"Nampalys Mendy\",\"Dennis Praet\",\"Youri Tielemans\",\"Ayoze P\\u00e9rez\",\"James Maddison\",\"Hamza Choudhury\",\"Harvey Barnes\",\"Wilfred Ndidi\",\"Boubakary Soumar\\u00e9\",\"Pablo Hern\\u00e1ndez\",\"Mateusz Klich\",\"Stuart Dallas\",\"Kalvin Phillips\",\"H\\u00e9lder Wander Costa\",\"Tyler Roberts\",\"Ian Carlo Poveda\",\"Raphael Raphinha\",\"Jamie Shackleton\",\"Jack Harrison\",\"James Milner\",\"Jordan Henderson\",\"Thiago Thiago\",\"Xherdan Shaqiri\",\"Alex Chamberlain\",\"Sadio Man\\u00e9\",\"Fabio Henrique Fabinho\",\"Mohamed Salah\",\"Takumi Minamino\",\"Naby Keita\",\"Diogo Jota\",\"Curtis Jones\",\"Ilkay G\\u00fcndogan\",\"Kevin De Bruyne\",\"Riyad Mahrez\",\"Raheem Sterling\",\"Bernardo Mota Bernardo\",\"Phil Foden\",\"Rodrigo Rodrigo\",\"Ferran Torres\",\"Fernando Fernandinho\",\"Nemanja Matic\",\"Paul Pogba\",\"Frederico Fred\",\"Jesse Lingard\",\"Bruno Miguel Fernandes\",\"Marcus Rashford\",\"Donny van de Beek\",\"Scott McTominay\",\"Daniel James\",\"Mason Greenwood\",\"Juan Mata\",\"Jadon Sancho\",\"Jonjo Shelvey\",\"Jeff Hendrick\",\"Ryan Fraser\",\"Jacob Murphy\",\"Isaac Hayden\",\"Miguel Almir\\u00f3n\",\"Sean S.Longstaff\",\"Matthew M.Longstaff\",\"Billy Gilmour\",\"Marco Stiepermann\",\"Lukas Rupp\",\"Kenny McLean\",\"Onel Hern\\u00e1ndez\",\"Kieran Dowell\",\"Todd Cantwell\",\"Przemyslaw Placheta\",\"Josh Martin\",\"Milot Rashica\",\"Pierre Lees-Melou\",\"Theo Walcott\",\"Oriol Romeu\",\"Nathan Redmond\",\"Stuart Armstrong\",\"James Ward-Prowse\",\"Nathan Tella\",\"William Smallbone\",\"Ibrahima Diallo\",\"Moussa Djenepo\",\"Moussa Sissoko\",\"Erik Lamela\",\"Heung-Min Son\",\"Lucas Lucas Moura\",\"Bamidele Dele\",\"Pierre-Emile H\\u00f8jbjerg\",\"Harry Winks\",\"Steven Bergwijn\",\"Giovani Lo Celso\",\"Oliver Skipp\",\"Tanguy Ndombele\",\"Bryan Bryan\",\"Dan Gosling\",\"Tom Cleverley\",\"Nathaniel Chalobah\",\"Will Hughes\",\"Ken Sema\",\"Philip Zinckernagel\",\"Ayotomiwa Dele-Bashiru\",\"Domingos Quina\",\"Ismaila Sarr\",\"Joseph Hungbo\",\"Imr\\u00e2n Louza\",\"Kwadwo Baah\",\"Oghenekaro Peter Etebo\",\"Mark Noble\",\"Andriy Yarmolenko\",\"Manuel Lanzini\",\"Sa\\u00efd Benrahma\",\"Jarrod Bowen\",\"Declan Rice\",\"Tomas Soucek\",\"Pablo Fornals\",\"Jo\\u00e3o Filipe Iria Moutinho\",\"Leander Dendoncker\",\"Adama Traor\\u00e9\",\"R\\u00faben Diogo Neves\",\"Daniel Podence\",\"Morgan Gibbs-White\",\"Pedro Neto\",\"Owen Otasowie\",\"Francisco Trinc\\u00e3o\"],\"legendgroup\":\"Midfielder\",\"marker\":{\"color\":\"#EF553B\",\"size\":[0.0,0.0,0.0,0.0,0.0,0.0,0.0,0.0,0.0,0.0,0.0,0.0,0.0,0.0,0.0,0.0,0.0,0.0,0.0,0.0,0.0,0.0,0.0,0.0,0.0,0.0,0.0,0.0,0.0,0.0,0.0,0.0,0.0,0.0,0.0,0.0,0.0,0.0,0.0,0.0,0.0,0.0,0.0,0.0,0.0,0.0,0.0,0.0,0.0,0.0,0.0,0.0,0.0,0.0,0.0,0.0,0.0,0.0,0.0,0.0,0.0,0.0,0.0,0.0,0.0,0.0,0.0,0.0,0.0,0.0,0.0,0.0,0.0,0.0,0.0,0.0,0.0,0.0,0.0,0.0,0.0,0.0,0.0,0.0,0.0,0.0,0.0,0.0,0.0,0.0,0.0,0.0,0.0,0.0,0.0,0.0,0.0,0.0,0.0,0.0,0.0,0.0,0.0,0.0,0.0,0.0,0.0,0.0,0.0,0.0,0.0,0.0,0.0,0.0,0.0,0.0,0.0,0.0,0.0,0.0,0.0,0.0,0.0,0.0,0.0,0.0,0.0,0.0,0.0,0.0,0.0,0.0,0.0,0.0,0.0,0.0,0.0,0.0,0.0,0.0,0.0,0.0,0.0,0.0,0.0,0.0,0.0,0.0,0.0,0.0,0.0,0.0,0.0,0.0,0.0,0.0,0.0,0.0,0.0,0.0,0.0,0.0,0.0,0.0,0.0,0.0,0.0,0.0,0.0,0.0,0.0,0.0,0.0,0.0,0.0,0.0,0.0,0.0,0.0,0.0,0.0,0.0,0.0,0.0,0.0,0.0,0.0,0.0,0.0,0.0,0.0,0.0,0.0,0.0,0.0,0.0,0.0,0.0,0.0,0.0,0.0,0.0,0.0,0.0,0.0],\"sizemode\":\"area\",\"sizeref\":0.0,\"symbol\":\"circle\"},\"mode\":\"markers\",\"name\":\"Midfielder\",\"orientation\":\"v\",\"showlegend\":true,\"type\":\"scatter\",\"x\":[3.1,2.3,2.2,2.6,2.0,3.9,0.0,3.8,3.7,3.6,0.0,2.6,0.0,0.0,3.8,5.2,1.1,3.1,2.7,2.1,4.0,0.0,2.2,1.3,0.0,0.0,0.0,0.0,0.0,0.0,0.0,0.0,0.0,0.0,0.0,1.9,3.4,1.3,3.3,3.8,1.1,2.1,2.3,2.3,1.8,0.0,2.1,1.1,2.9,2.3,2.2,1.7,3.1,4.1,2.9,2.0,2.1,3.0,2.1,3.0,4.1,2.6,3.4,2.4,2.5,2.0,4.5,2.4,1.9,3.7,0.0,1.0,3.4,4.4,1.8,2.0,1.7,2.8,2.2,1.9,2.8,1.0,2.5,1.8,2.5,3.5,2.3,4.3,1.4,5.0,3.0,0.0,1.8,2.8,4.5,2.3,2.9,1.8,1.0,4.4,1.3,4.4,1.7,2.7,2.3,1.9,1.6,5.0,2.4,6.2,2.5,1.5,4.5,2.1,5.6,5.6,5.4,5.0,3.6,4.8,2.7,4.0,3.1,1.8,3.5,2.3,6.6,6.6,4.7,1.7,2.8,2.9,3.4,3.6,0.0,2.5,2.4,2.2,2.7,1.7,2.9,1.9,2.0,1.6,0.0,0.0,0.0,0.0,0.0,0.0,0.0,0.0,0.0,0.0,3.5,2.5,2.3,3.5,4.1,2.0,1.7,1.4,1.7,1.8,1.2,6.2,2.7,2.0,2.8,1.3,2.6,1.9,0.0,3.0,0.0,0.0,0.0,0.0,0.0,0.0,0.0,0.0,0.0,0.0,0.0,0.0,0.0,0.0,1.3,1.1,1.6,2.4,3.7,2.7,3.9,3.8,2.2,2.3,2.5,2.9,3.1,2.0,4.0,1.5,0.0],\"xaxis\":\"x\",\"y\":[6.5,5.0,4.5,5.5,5.0,7.5,4.5,6.0,5.5,6.5,4.5,5.5,5.0,5.0,6.0,8.0,5.0,6.0,5.5,4.5,6.0,6.5,4.5,4.5,5.0,5.5,5.5,5.5,5.0,5.5,5.0,4.5,5.5,4.5,5.0,5.5,6.0,4.5,5.5,6.5,5.5,4.5,5.0,5.5,4.5,6.0,4.5,4.5,5.5,5.5,4.5,4.5,6.0,6.0,5.5,5.0,5.0,7.5,5.5,8.0,7.5,5.5,8.5,5.5,4.5,5.5,7.0,5.5,5.0,6.0,5.5,4.5,7.0,7.0,5.5,4.5,5.0,5.5,6.0,5.0,5.5,5.5,5.5,4.5,5.0,6.5,6.0,7.0,4.5,7.0,5.0,5.0,5.5,5.5,5.5,5.0,5.5,5.0,4.5,6.5,4.5,6.0,5.0,5.0,5.5,6.0,6.0,12.0,5.5,12.5,5.5,5.0,7.5,5.0,7.5,12.0,9.0,11.0,7.0,8.0,5.5,7.0,5.0,4.5,7.5,5.0,7.0,12.0,9.5,6.0,5.5,6.0,7.5,5.0,9.5,5.5,5.0,5.5,5.0,4.5,5.5,4.5,4.5,4.5,5.0,4.5,5.0,5.0,5.5,5.5,5.0,5.0,5.5,5.0,6.0,4.5,6.0,6.0,6.5,5.0,4.5,4.5,5.5,4.5,6.0,10.0,6.5,6.5,5.0,4.5,6.0,6.0,4.5,6.0,6.0,5.0,5.0,5.0,5.0,5.5,5.5,4.5,4.5,6.0,4.5,5.5,4.5,4.5,4.5,5.5,6.0,6.0,6.5,5.0,6.0,6.0,5.0,5.0,6.0,5.5,5.5,4.5,6.5,4.5,6.0],\"yaxis\":\"y\"},{\"customdata\":[[\"Arsenal\"],[\"Arsenal\"],[\"Arsenal\"],[\"Aston Villa\"],[\"Aston Villa\"],[\"Aston Villa\"],[\"Aston Villa\"],[\"Brentford\"],[\"Brentford\"],[\"Brentford\"],[\"Brighton\"],[\"Brighton\"],[\"Brighton\"],[\"Burnley\"],[\"Burnley\"],[\"Burnley\"],[\"Burnley\"],[\"Chelsea\"],[\"Chelsea\"],[\"Chelsea\"],[\"Chelsea\"],[\"Crystal Palace\"],[\"Crystal Palace\"],[\"Crystal Palace\"],[\"Everton\"],[\"Everton\"],[\"Leicester\"],[\"Leicester\"],[\"Leicester\"],[\"Leeds\"],[\"Leeds\"],[\"Liverpool\"],[\"Liverpool\"],[\"Man City\"],[\"Man Utd\"],[\"Man Utd\"],[\"Newcastle\"],[\"Newcastle\"],[\"Newcastle\"],[\"Newcastle\"],[\"Norwich\"],[\"Norwich\"],[\"Norwich\"],[\"Southampton\"],[\"Southampton\"],[\"Southampton\"],[\"Southampton\"],[\"Spurs\"],[\"Watford\"],[\"Watford\"],[\"Watford\"],[\"Watford\"],[\"Watford\"],[\"Watford\"],[\"Watford\"],[\"Watford\"],[\"Watford\"],[\"Watford\"],[\"West Ham\"],[\"Wolves\"],[\"Wolves\"]],\"hovertemplate\":\"<b>%{hovertext}</b><br><br>Player Type=Forward<br>points_per_game=%{x}<br>now_cost=%{y}<br>size=%{marker.size}<br>team_name=%{customdata[0]}<extra></extra>\",\"hovertext\":[\"Pierre-Emerick Aubameyang\",\"Alexandre Lacazette\",\"Edward Nketiah\",\"Ollie Watkins\",\"Wesley Wesley\",\"Mbwana Ally Samatta\",\"Keinan Davis\",\"Ivan Toney\",\"Marcus Forss\",\"Halil Dervi\\u015fo\\u011flu\",\"Neal Maupay\",\"Aaron Connolly\",\"Danny Welbeck\",\"Jay Rodriguez\",\"Ashley Barnes\",\"Chris Wood\",\"Matej Vydra\",\"Olivier Giroud\",\"Michy Batshuayi\",\"Timo Werner\",\"Tammy Abraham\",\"Christian Benteke\",\"Jordan Ayew\",\"Jean-Philippe Mateta\",\"Dominic Calvert-Lewin\",\"Richarlison Richarlison\",\"Jamie Vardy\",\"Kelechi Iheanacho\",\"Patson Daka\",\"Rodrigo Rodrigo\",\"Patrick Bamford\",\"Roberto Firmino\",\"Divock Origi\",\"Gabriel Fernando Jesus\",\"Edinson Cavani\",\"Anthony Martial\",\"Callum Wilson\",\"Dwight Gayle\",\"Allan Saint-Maximin\",\"Joelinton C\\u00e1ssio Joelinton\",\"Teemu Pukki\",\"Jordan Hugill\",\"Adam Idah\",\"Danny Ings\",\"Daniel Nlundulu\",\"Che Adams\",\"Michael Obafemi\",\"Harry Kane\",\"Troy Deeney\",\"Andre Gray\",\"Stipe Perica\",\"Isaac Success\",\"Ashley Fletcher\",\"Jo\\u00e3o Pedro Jo\\u00e3o Pedro\",\"Emmanuel Dennis\",\"Joshua King\",\"Adedapo Mebude\",\"Juan Camilo Cucho\",\"Michail Antonio\",\"Ra\\u00fal Jim\\u00e9nez\",\"Fabio Fabio Silva\"],\"legendgroup\":\"Forward\",\"marker\":{\"color\":\"#00cc96\",\"size\":[0.0,0.0,0.0,0.0,0.0,0.0,0.0,0.0,0.0,0.0,0.0,0.0,0.0,0.0,0.0,0.0,0.0,0.0,0.0,0.0,0.0,0.0,0.0,0.0,0.0,0.0,0.0,0.0,0.0,0.0,0.0,0.0,0.0,0.0,0.0,0.0,0.0,0.0,0.0,0.0,0.0,0.0,0.0,0.0,0.0,0.0,0.0,0.0,0.0,0.0,0.0,0.0,0.0,0.0,0.0,0.0,0.0,0.0,0.0,0.0,0.0],\"sizemode\":\"area\",\"sizeref\":0.0,\"symbol\":\"circle\"},\"mode\":\"markers\",\"name\":\"Forward\",\"orientation\":\"v\",\"showlegend\":true,\"type\":\"scatter\",\"x\":[4.5,4.2,2.1,4.5,1.0,0.0,1.5,0.0,0.0,0.0,3.2,2.2,3.7,1.7,2.4,4.2,2.2,2.8,2.3,3.7,3.1,3.5,2.1,2.1,5.0,3.6,5.5,4.4,0.0,3.4,5.1,3.9,1.1,4.0,3.8,3.4,5.2,1.7,3.4,2.4,0.0,0.0,0.0,4.5,1.0,3.8,1.0,6.9,0.0,0.0,0.0,0.0,0.0,0.0,0.0,1.0,0.0,0.0,4.5,4.3,2.2],\"xaxis\":\"x\",\"y\":[10.0,8.5,5.5,7.5,5.5,5.5,4.5,6.5,5.5,5.5,6.5,5.5,6.0,5.5,5.5,7.0,5.5,6.5,5.5,9.0,6.5,6.5,6.0,5.5,8.0,7.5,10.5,7.5,7.5,6.5,8.0,9.0,5.0,8.5,8.5,8.0,7.5,5.5,6.5,6.0,6.0,5.5,5.0,8.0,4.5,7.0,4.5,12.5,5.5,5.5,4.5,5.0,5.0,5.5,5.0,5.5,4.5,5.0,7.5,7.5,6.0],\"yaxis\":\"y\"},{\"customdata\":[[\"Arsenal\"],[\"Arsenal\"],[\"Arsenal\"],[\"Arsenal\"],[\"Arsenal\"],[\"Arsenal\"],[\"Arsenal\"],[\"Arsenal\"],[\"Arsenal\"],[\"Arsenal\"],[\"Arsenal\"],[\"Aston Villa\"],[\"Aston Villa\"],[\"Aston Villa\"],[\"Aston Villa\"],[\"Aston Villa\"],[\"Aston Villa\"],[\"Aston Villa\"],[\"Aston Villa\"],[\"Brentford\"],[\"Brentford\"],[\"Brentford\"],[\"Brentford\"],[\"Brentford\"],[\"Brentford\"],[\"Brentford\"],[\"Brighton\"],[\"Brighton\"],[\"Brighton\"],[\"Brighton\"],[\"Brighton\"],[\"Brighton\"],[\"Brighton\"],[\"Brighton\"],[\"Burnley\"],[\"Burnley\"],[\"Burnley\"],[\"Burnley\"],[\"Burnley\"],[\"Burnley\"],[\"Burnley\"],[\"Burnley\"],[\"Chelsea\"],[\"Chelsea\"],[\"Chelsea\"],[\"Chelsea\"],[\"Chelsea\"],[\"Chelsea\"],[\"Chelsea\"],[\"Chelsea\"],[\"Chelsea\"],[\"Crystal Palace\"],[\"Crystal Palace\"],[\"Crystal Palace\"],[\"Crystal Palace\"],[\"Crystal Palace\"],[\"Crystal Palace\"],[\"Crystal Palace\"],[\"Crystal Palace\"],[\"Crystal Palace\"],[\"Everton\"],[\"Everton\"],[\"Everton\"],[\"Everton\"],[\"Everton\"],[\"Everton\"],[\"Leicester\"],[\"Leicester\"],[\"Leicester\"],[\"Leicester\"],[\"Leicester\"],[\"Leicester\"],[\"Leicester\"],[\"Leicester\"],[\"Leicester\"],[\"Leeds\"],[\"Leeds\"],[\"Leeds\"],[\"Leeds\"],[\"Leeds\"],[\"Leeds\"],[\"Liverpool\"],[\"Liverpool\"],[\"Liverpool\"],[\"Liverpool\"],[\"Liverpool\"],[\"Liverpool\"],[\"Liverpool\"],[\"Liverpool\"],[\"Liverpool\"],[\"Liverpool\"],[\"Liverpool\"],[\"Man City\"],[\"Man City\"],[\"Man City\"],[\"Man City\"],[\"Man City\"],[\"Man City\"],[\"Man City\"],[\"Man City\"],[\"Man Utd\"],[\"Man Utd\"],[\"Man Utd\"],[\"Man Utd\"],[\"Man Utd\"],[\"Man Utd\"],[\"Man Utd\"],[\"Man Utd\"],[\"Newcastle\"],[\"Newcastle\"],[\"Newcastle\"],[\"Newcastle\"],[\"Newcastle\"],[\"Newcastle\"],[\"Newcastle\"],[\"Newcastle\"],[\"Newcastle\"],[\"Norwich\"],[\"Norwich\"],[\"Norwich\"],[\"Norwich\"],[\"Norwich\"],[\"Norwich\"],[\"Norwich\"],[\"Norwich\"],[\"Southampton\"],[\"Southampton\"],[\"Southampton\"],[\"Southampton\"],[\"Southampton\"],[\"Southampton\"],[\"Spurs\"],[\"Spurs\"],[\"Spurs\"],[\"Spurs\"],[\"Spurs\"],[\"Spurs\"],[\"Spurs\"],[\"Spurs\"],[\"Spurs\"],[\"Spurs\"],[\"Watford\"],[\"Watford\"],[\"Watford\"],[\"Watford\"],[\"Watford\"],[\"Watford\"],[\"Watford\"],[\"Watford\"],[\"Watford\"],[\"Watford\"],[\"Watford\"],[\"West Ham\"],[\"West Ham\"],[\"West Ham\"],[\"West Ham\"],[\"West Ham\"],[\"West Ham\"],[\"West Ham\"],[\"West Ham\"],[\"West Ham\"],[\"Wolves\"],[\"Wolves\"],[\"Wolves\"],[\"Wolves\"],[\"Wolves\"],[\"Wolves\"],[\"Wolves\"],[\"Wolves\"],[\"Wolves\"],[\"Wolves\"]],\"hovertemplate\":\"<b>%{hovertext}</b><br><br>Player Type=Defender<br>points_per_game=%{x}<br>now_cost=%{y}<br>size=%{marker.size}<br>team_name=%{customdata[0]}<extra></extra>\",\"hovertext\":[\"C\\u00e9dric C\\u00e9dric\",\"Pablo Mar\\u00ed\",\"H\\u00e9ctor Beller\\u00edn\",\"Calum Chambers\",\"Sead Kolasinac\",\"Rob Holding\",\"Kieran Tierney\",\"Gabriel Gabriel\",\"Konstantinos Mavropanos\",\"William Saliba\",\"Nuno Tavares\",\"Bj\\u00f6rn Engels\",\"Kortney Hause\",\"Tyrone Mings\",\"Matt Targett\",\"Matthew Cash\",\"Ezri Konsa\",\"Fr\\u00e9d\\u00e9ric Guilbert\",\"Ashley Young\",\"Pontus Jansson\",\"Rico Henry\",\"Charlie Goode\",\"Mads Roerslev\",\"Mads S\\u00f8rensen\",\"Ethan Pinnock\",\"Kristoffer Ajer\",\"Shane Duffy\",\"Dan Burn\",\"Lewis Dunk\",\"Adam Webster\",\"Jo\\u00ebl Veltman\",\"Ben White\",\"Bernardo Bernardo\",\"Tariq Lamptey\",\"James Tarkowski\",\"Phil Bardsley\",\"Erik Pieters\",\"Kevin Long\",\"Ben Mee\",\"Matthew Lowton\",\"Charlie Taylor\",\"Nathan Collins\",\"C\\u00e9sar Azpilicueta\",\"Thiago Thiago Silva\",\"Marcos Alonso\",\"Antonio R\\u00fcdiger\",\"Kurt Zouma\",\"Andreas Christensen\",\"Benjamin Chilwell\",\"Ethan Ampadu\",\"Reece James\",\"James Tomkins\",\"Cheikhou Kouyat\\u00e9\",\"Martin Kelly\",\"Jaros\\u0142aw Jach\",\"Nathan Ferguson\",\"Tyrick Mitchell\",\"Joel Ward\",\"Marc Gu\\u00e9hi\",\"Joachim Andersen\",\"Seamus Coleman\",\"Lucas Digne\",\"Michael Keane\",\"Yerry Mina\",\"Mason Holgate\",\"Ben Godfrey\",\"Jonny Evans\",\"Ricardo Domingos Pereira\",\"Daniel Amartey\",\"Timothy Castagne\",\"\\u00c7aglar S\\u00f6y\\u00fcnc\\u00fc\",\"James Justin\",\"Luke Thomas\",\"Wesley Fofana\",\"Ryan Bertrand\",\"Liam Cooper\",\"Luke Ayling\",\"Diego Llorente\",\"Robin Koch\",\"Pascal Struijk\",\"H\\u00e9ctor Junior Firpo\",\"Joel Matip\",\"Virgil van Dijk\",\"Andrew Robertson\",\"Trent Alexander-Arnold\",\"Joseph Gomez\",\"Nathaniel Phillips\",\"Ibrahima Konat\\u00e9\",\"Konstantinos Tsimikas\",\"Neco N.Williams\",\"Rhys R.Williams\",\"Ben Davies\",\"Kyle Walker\",\"John Stones\",\"Benjamin Mendy\",\"Jo\\u00e3o Pedro Cavaco Cancelo\",\"Nathan Ak\\u00e9\",\"Aymeric Laporte\",\"R\\u00faben Santos Dias\",\"Oleksandr Zinchenko\",\"Harry Maguire\",\"Luke Shaw\",\"Alex Nicolao Telles\",\"Axel Tuanzebe\",\"Victor Lindel\\u00f6f\",\"Eric Bailly\",\"Aaron Wan-Bissaka\",\"Brandon Williams\",\"Matt Ritchie\",\"Ciaran Clark\",\"Jamaal Lascelles\",\"Paul Dummett\",\"Javier Manquillo\",\"Emil Krafth\",\"Fabian Sch\\u00e4r\",\"Jamal Lewis\",\"Federico Fern\\u00e1ndez\",\"Grant Hanley\",\"Sam Byram\",\"Christoph Zimmermann\",\"Max Aarons\",\"Jacob S\\u00f8rensen\",\"Andrew Omobamidele\",\"Ben Gibson\",\"Dimitris Giannoulis\",\"Jack Stephens\",\"Jannik Vestergaard\",\"Kyle Walker-Peters\",\"Jan Bednarek\",\"Mohammed Salisu\",\"Romain Perraud\",\"Toby Alderweireld\",\"Serge Aurier\",\"Matt Doherty\",\"Eric Dier\",\"Ben Davies\",\"Davinson S\\u00e1nchez\",\"Ryan Sessegnon\",\"Sergio Reguil\\u00f3n\",\"Japhet Tanganga\",\"Joe Rodon\",\"Danny Rose\",\"Craig Cathcart\",\"Francisco Femen\\u00eda\",\"Christian Kabasele\",\"William Troost-Ekong\",\"Adam Masina\",\"Francisco Sierralta\",\"Marc Navarro\",\"Jeremy Ngakia\",\"Ben Wilmot\",\"Matthew Pollock\",\"Angelo Ogbonna\",\"Winston Reid\",\"Aaron Cresswell\",\"Craig Dawson\",\"Ryan Fredericks\",\"Arthur Masuaku\",\"Vladimir Coufal\",\"Issa Diop\",\"Ben Johnson\",\"Willy Boly\",\"Conor Coady\",\"Romain Sa\\u00efss\",\"Fernando Mar\\u00e7al\",\"Jonathan Jonny\",\"N\\u00e9lson Semedo\",\"Max Kilman\",\"Ki-Jana Hoever\",\"Yerson Mosquera\",\"Rayan Ait Nouri\"],\"legendgroup\":\"Defender\",\"marker\":{\"color\":\"#ab63fa\",\"size\":[0.0,0.0,0.0,0.0,0.0,0.0,0.0,0.0,0.0,0.0,0.0,0.0,0.0,0.0,0.0,0.0,0.0,0.0,0.0,0.0,0.0,0.0,0.0,0.0,0.0,0.0,0.0,0.0,0.0,0.0,0.0,0.0,0.0,0.0,0.0,0.0,0.0,0.0,0.0,0.0,0.0,0.0,0.0,0.0,0.0,0.0,0.0,0.0,0.0,0.0,0.0,0.0,0.0,0.0,0.0,0.0,0.0,0.0,0.0,0.0,0.0,0.0,0.0,0.0,0.0,0.0,0.0,0.0,0.0,0.0,0.0,0.0,0.0,0.0,0.0,0.0,0.0,0.0,0.0,0.0,0.0,0.0,0.0,0.0,0.0,0.0,0.0,0.0,0.0,0.0,0.0,0.0,0.0,0.0,0.0,0.0,0.0,0.0,0.0,0.0,0.0,0.0,0.0,0.0,0.0,0.0,0.0,0.0,0.0,0.0,0.0,0.0,0.0,0.0,0.0,0.0,0.0,0.0,0.0,0.0,0.0,0.0,0.0,0.0,0.0,0.0,0.0,0.0,0.0,0.0,0.0,0.0,0.0,0.0,0.0,0.0,0.0,0.0,0.0,0.0,0.0,0.0,0.0,0.0,0.0,0.0,0.0,0.0,0.0,0.0,0.0,0.0,0.0,0.0,0.0,0.0,0.0,0.0,0.0,0.0,0.0,0.0,0.0,0.0,0.0,0.0,0.0,0.0,0.0,0.0,0.0],\"sizemode\":\"area\",\"sizeref\":0.0,\"symbol\":\"circle\"},\"mode\":\"markers\",\"name\":\"Defender\",\"orientation\":\"v\",\"showlegend\":true,\"type\":\"scatter\",\"x\":[2.8,3.4,3.8,3.6,0.0,3.5,3.6,3.4,0.0,0.0,0.0,0.0,4.6,3.6,3.6,3.2,3.3,0.0,0.0,0.0,0.0,0.0,0.0,0.0,0.0,0.0,0.0,2.4,3.9,2.9,3.4,2.9,0.0,3.2,3.0,0.5,2.5,1.8,3.4,3.0,2.9,0.0,4.3,4.0,4.4,4.9,4.5,3.6,5.1,1.8,3.5,2.2,2.3,1.0,0.0,0.0,3.1,2.5,0.0,3.0,3.2,4.0,3.6,3.3,2.9,3.2,3.9,1.8,1.7,3.5,2.6,4.4,1.9,2.5,2.7,2.4,2.6,3.3,2.2,2.6,0.0,4.2,3.0,4.2,4.4,1.4,4.0,0.0,1.0,1.8,3.1,0.0,3.8,5.8,4.8,4.9,2.9,3.6,4.4,3.5,3.6,3.9,2.8,0.8,3.5,2.6,4.2,1.2,2.9,2.1,2.3,2.7,2.2,2.8,1.7,1.8,2.2,0.0,0.0,0.0,0.0,0.0,0.0,0.0,0.0,2.3,2.9,3.1,2.6,1.2,0.0,3.5,4.2,2.8,2.8,2.6,2.4,0.0,3.3,2.3,2.2,0.0,0.0,0.0,0.0,0.0,0.0,0.0,0.0,0.0,0.0,0.0,3.6,0.0,4.2,3.4,2.0,3.5,3.8,2.3,1.8,3.2,2.9,3.7,1.5,2.3,3.2,3.2,1.1,0.0,2.6],\"xaxis\":\"x\",\"y\":[4.5,4.5,5.0,4.5,4.5,4.5,5.0,5.0,4.5,4.5,4.5,4.5,4.5,5.0,5.0,5.0,5.0,4.5,5.0,4.5,4.5,4.0,4.5,4.5,4.5,4.5,4.0,4.5,5.0,4.5,4.5,4.5,4.0,4.5,5.0,4.0,4.5,4.0,5.0,4.5,4.5,4.5,6.0,5.5,5.5,5.5,5.5,5.0,6.0,4.5,5.5,4.5,4.5,4.0,4.5,4.5,4.5,4.5,4.5,4.5,5.0,5.5,5.0,5.0,4.5,5.0,5.5,5.5,4.0,5.5,5.0,5.0,4.5,4.5,5.0,4.5,4.5,4.5,4.5,4.5,5.0,5.0,6.5,7.0,7.5,5.0,4.5,5.5,4.0,4.0,4.5,4.0,5.5,5.5,5.5,6.0,5.0,5.5,6.0,5.5,5.5,5.5,5.0,4.5,5.0,5.0,5.5,4.0,5.0,4.5,4.5,4.5,4.0,4.5,4.5,4.5,4.5,4.5,4.5,4.5,4.5,4.5,4.0,4.5,4.5,4.5,5.0,5.0,4.5,4.5,5.0,5.0,5.0,5.0,4.5,4.5,4.5,4.5,5.0,4.5,4.5,4.5,4.5,4.5,4.5,4.5,4.5,4.5,4.0,4.5,4.5,4.0,5.0,4.0,5.5,5.0,4.5,4.5,5.0,4.5,4.0,5.0,4.5,5.0,4.5,4.5,5.0,4.5,4.0,4.5,4.5],\"yaxis\":\"y\"}],                        {\"annotations\":[{\"showarrow\":false,\"text\":\"Bubble Size : Player Form\",\"x\":1.15,\"xref\":\"paper\",\"y\":1.1,\"yref\":\"paper\"}],\"legend\":{\"itemsizing\":\"constant\",\"title\":{\"text\":\"Player Type\"},\"tracegroupgap\":0},\"showlegend\":true,\"template\":{\"data\":{\"bar\":[{\"error_x\":{\"color\":\"#2a3f5f\"},\"error_y\":{\"color\":\"#2a3f5f\"},\"marker\":{\"line\":{\"color\":\"#E5ECF6\",\"width\":0.5},\"pattern\":{\"fillmode\":\"overlay\",\"size\":10,\"solidity\":0.2}},\"type\":\"bar\"}],\"barpolar\":[{\"marker\":{\"line\":{\"color\":\"#E5ECF6\",\"width\":0.5},\"pattern\":{\"fillmode\":\"overlay\",\"size\":10,\"solidity\":0.2}},\"type\":\"barpolar\"}],\"carpet\":[{\"aaxis\":{\"endlinecolor\":\"#2a3f5f\",\"gridcolor\":\"white\",\"linecolor\":\"white\",\"minorgridcolor\":\"white\",\"startlinecolor\":\"#2a3f5f\"},\"baxis\":{\"endlinecolor\":\"#2a3f5f\",\"gridcolor\":\"white\",\"linecolor\":\"white\",\"minorgridcolor\":\"white\",\"startlinecolor\":\"#2a3f5f\"},\"type\":\"carpet\"}],\"choropleth\":[{\"colorbar\":{\"outlinewidth\":0,\"ticks\":\"\"},\"type\":\"choropleth\"}],\"contour\":[{\"colorbar\":{\"outlinewidth\":0,\"ticks\":\"\"},\"colorscale\":[[0.0,\"#0d0887\"],[0.1111111111111111,\"#46039f\"],[0.2222222222222222,\"#7201a8\"],[0.3333333333333333,\"#9c179e\"],[0.4444444444444444,\"#bd3786\"],[0.5555555555555556,\"#d8576b\"],[0.6666666666666666,\"#ed7953\"],[0.7777777777777778,\"#fb9f3a\"],[0.8888888888888888,\"#fdca26\"],[1.0,\"#f0f921\"]],\"type\":\"contour\"}],\"contourcarpet\":[{\"colorbar\":{\"outlinewidth\":0,\"ticks\":\"\"},\"type\":\"contourcarpet\"}],\"heatmap\":[{\"colorbar\":{\"outlinewidth\":0,\"ticks\":\"\"},\"colorscale\":[[0.0,\"#0d0887\"],[0.1111111111111111,\"#46039f\"],[0.2222222222222222,\"#7201a8\"],[0.3333333333333333,\"#9c179e\"],[0.4444444444444444,\"#bd3786\"],[0.5555555555555556,\"#d8576b\"],[0.6666666666666666,\"#ed7953\"],[0.7777777777777778,\"#fb9f3a\"],[0.8888888888888888,\"#fdca26\"],[1.0,\"#f0f921\"]],\"type\":\"heatmap\"}],\"heatmapgl\":[{\"colorbar\":{\"outlinewidth\":0,\"ticks\":\"\"},\"colorscale\":[[0.0,\"#0d0887\"],[0.1111111111111111,\"#46039f\"],[0.2222222222222222,\"#7201a8\"],[0.3333333333333333,\"#9c179e\"],[0.4444444444444444,\"#bd3786\"],[0.5555555555555556,\"#d8576b\"],[0.6666666666666666,\"#ed7953\"],[0.7777777777777778,\"#fb9f3a\"],[0.8888888888888888,\"#fdca26\"],[1.0,\"#f0f921\"]],\"type\":\"heatmapgl\"}],\"histogram\":[{\"marker\":{\"pattern\":{\"fillmode\":\"overlay\",\"size\":10,\"solidity\":0.2}},\"type\":\"histogram\"}],\"histogram2d\":[{\"colorbar\":{\"outlinewidth\":0,\"ticks\":\"\"},\"colorscale\":[[0.0,\"#0d0887\"],[0.1111111111111111,\"#46039f\"],[0.2222222222222222,\"#7201a8\"],[0.3333333333333333,\"#9c179e\"],[0.4444444444444444,\"#bd3786\"],[0.5555555555555556,\"#d8576b\"],[0.6666666666666666,\"#ed7953\"],[0.7777777777777778,\"#fb9f3a\"],[0.8888888888888888,\"#fdca26\"],[1.0,\"#f0f921\"]],\"type\":\"histogram2d\"}],\"histogram2dcontour\":[{\"colorbar\":{\"outlinewidth\":0,\"ticks\":\"\"},\"colorscale\":[[0.0,\"#0d0887\"],[0.1111111111111111,\"#46039f\"],[0.2222222222222222,\"#7201a8\"],[0.3333333333333333,\"#9c179e\"],[0.4444444444444444,\"#bd3786\"],[0.5555555555555556,\"#d8576b\"],[0.6666666666666666,\"#ed7953\"],[0.7777777777777778,\"#fb9f3a\"],[0.8888888888888888,\"#fdca26\"],[1.0,\"#f0f921\"]],\"type\":\"histogram2dcontour\"}],\"mesh3d\":[{\"colorbar\":{\"outlinewidth\":0,\"ticks\":\"\"},\"type\":\"mesh3d\"}],\"parcoords\":[{\"line\":{\"colorbar\":{\"outlinewidth\":0,\"ticks\":\"\"}},\"type\":\"parcoords\"}],\"pie\":[{\"automargin\":true,\"type\":\"pie\"}],\"scatter\":[{\"marker\":{\"colorbar\":{\"outlinewidth\":0,\"ticks\":\"\"}},\"type\":\"scatter\"}],\"scatter3d\":[{\"line\":{\"colorbar\":{\"outlinewidth\":0,\"ticks\":\"\"}},\"marker\":{\"colorbar\":{\"outlinewidth\":0,\"ticks\":\"\"}},\"type\":\"scatter3d\"}],\"scattercarpet\":[{\"marker\":{\"colorbar\":{\"outlinewidth\":0,\"ticks\":\"\"}},\"type\":\"scattercarpet\"}],\"scattergeo\":[{\"marker\":{\"colorbar\":{\"outlinewidth\":0,\"ticks\":\"\"}},\"type\":\"scattergeo\"}],\"scattergl\":[{\"marker\":{\"colorbar\":{\"outlinewidth\":0,\"ticks\":\"\"}},\"type\":\"scattergl\"}],\"scattermapbox\":[{\"marker\":{\"colorbar\":{\"outlinewidth\":0,\"ticks\":\"\"}},\"type\":\"scattermapbox\"}],\"scatterpolar\":[{\"marker\":{\"colorbar\":{\"outlinewidth\":0,\"ticks\":\"\"}},\"type\":\"scatterpolar\"}],\"scatterpolargl\":[{\"marker\":{\"colorbar\":{\"outlinewidth\":0,\"ticks\":\"\"}},\"type\":\"scatterpolargl\"}],\"scatterternary\":[{\"marker\":{\"colorbar\":{\"outlinewidth\":0,\"ticks\":\"\"}},\"type\":\"scatterternary\"}],\"surface\":[{\"colorbar\":{\"outlinewidth\":0,\"ticks\":\"\"},\"colorscale\":[[0.0,\"#0d0887\"],[0.1111111111111111,\"#46039f\"],[0.2222222222222222,\"#7201a8\"],[0.3333333333333333,\"#9c179e\"],[0.4444444444444444,\"#bd3786\"],[0.5555555555555556,\"#d8576b\"],[0.6666666666666666,\"#ed7953\"],[0.7777777777777778,\"#fb9f3a\"],[0.8888888888888888,\"#fdca26\"],[1.0,\"#f0f921\"]],\"type\":\"surface\"}],\"table\":[{\"cells\":{\"fill\":{\"color\":\"#EBF0F8\"},\"line\":{\"color\":\"white\"}},\"header\":{\"fill\":{\"color\":\"#C8D4E3\"},\"line\":{\"color\":\"white\"}},\"type\":\"table\"}]},\"layout\":{\"annotationdefaults\":{\"arrowcolor\":\"#2a3f5f\",\"arrowhead\":0,\"arrowwidth\":1},\"autotypenumbers\":\"strict\",\"coloraxis\":{\"colorbar\":{\"outlinewidth\":0,\"ticks\":\"\"}},\"colorscale\":{\"diverging\":[[0,\"#8e0152\"],[0.1,\"#c51b7d\"],[0.2,\"#de77ae\"],[0.3,\"#f1b6da\"],[0.4,\"#fde0ef\"],[0.5,\"#f7f7f7\"],[0.6,\"#e6f5d0\"],[0.7,\"#b8e186\"],[0.8,\"#7fbc41\"],[0.9,\"#4d9221\"],[1,\"#276419\"]],\"sequential\":[[0.0,\"#0d0887\"],[0.1111111111111111,\"#46039f\"],[0.2222222222222222,\"#7201a8\"],[0.3333333333333333,\"#9c179e\"],[0.4444444444444444,\"#bd3786\"],[0.5555555555555556,\"#d8576b\"],[0.6666666666666666,\"#ed7953\"],[0.7777777777777778,\"#fb9f3a\"],[0.8888888888888888,\"#fdca26\"],[1.0,\"#f0f921\"]],\"sequentialminus\":[[0.0,\"#0d0887\"],[0.1111111111111111,\"#46039f\"],[0.2222222222222222,\"#7201a8\"],[0.3333333333333333,\"#9c179e\"],[0.4444444444444444,\"#bd3786\"],[0.5555555555555556,\"#d8576b\"],[0.6666666666666666,\"#ed7953\"],[0.7777777777777778,\"#fb9f3a\"],[0.8888888888888888,\"#fdca26\"],[1.0,\"#f0f921\"]]},\"colorway\":[\"#636efa\",\"#EF553B\",\"#00cc96\",\"#ab63fa\",\"#FFA15A\",\"#19d3f3\",\"#FF6692\",\"#B6E880\",\"#FF97FF\",\"#FECB52\"],\"font\":{\"color\":\"#2a3f5f\"},\"geo\":{\"bgcolor\":\"white\",\"lakecolor\":\"white\",\"landcolor\":\"#E5ECF6\",\"showlakes\":true,\"showland\":true,\"subunitcolor\":\"white\"},\"hoverlabel\":{\"align\":\"left\"},\"hovermode\":\"closest\",\"mapbox\":{\"style\":\"light\"},\"paper_bgcolor\":\"white\",\"plot_bgcolor\":\"#E5ECF6\",\"polar\":{\"angularaxis\":{\"gridcolor\":\"white\",\"linecolor\":\"white\",\"ticks\":\"\"},\"bgcolor\":\"#E5ECF6\",\"radialaxis\":{\"gridcolor\":\"white\",\"linecolor\":\"white\",\"ticks\":\"\"}},\"scene\":{\"xaxis\":{\"backgroundcolor\":\"#E5ECF6\",\"gridcolor\":\"white\",\"gridwidth\":2,\"linecolor\":\"white\",\"showbackground\":true,\"ticks\":\"\",\"zerolinecolor\":\"white\"},\"yaxis\":{\"backgroundcolor\":\"#E5ECF6\",\"gridcolor\":\"white\",\"gridwidth\":2,\"linecolor\":\"white\",\"showbackground\":true,\"ticks\":\"\",\"zerolinecolor\":\"white\"},\"zaxis\":{\"backgroundcolor\":\"#E5ECF6\",\"gridcolor\":\"white\",\"gridwidth\":2,\"linecolor\":\"white\",\"showbackground\":true,\"ticks\":\"\",\"zerolinecolor\":\"white\"}},\"shapedefaults\":{\"line\":{\"color\":\"#2a3f5f\"}},\"ternary\":{\"aaxis\":{\"gridcolor\":\"white\",\"linecolor\":\"white\",\"ticks\":\"\"},\"baxis\":{\"gridcolor\":\"white\",\"linecolor\":\"white\",\"ticks\":\"\"},\"bgcolor\":\"#E5ECF6\",\"caxis\":{\"gridcolor\":\"white\",\"linecolor\":\"white\",\"ticks\":\"\"}},\"title\":{\"x\":0.05},\"xaxis\":{\"automargin\":true,\"gridcolor\":\"white\",\"linecolor\":\"white\",\"ticks\":\"\",\"title\":{\"standoff\":15},\"zerolinecolor\":\"white\",\"zerolinewidth\":2},\"yaxis\":{\"automargin\":true,\"gridcolor\":\"white\",\"linecolor\":\"white\",\"ticks\":\"\",\"title\":{\"standoff\":15},\"zerolinecolor\":\"white\",\"zerolinewidth\":2}}},\"title\":{\"text\":\"Most Suitable Player to Buy Currently\"},\"xaxis\":{\"anchor\":\"y\",\"domain\":[0.0,1.0],\"title\":{\"text\":\"Points Per Game\"}},\"yaxis\":{\"anchor\":\"x\",\"domain\":[0.0,1.0],\"tickprefix\":\"\\u00a3\",\"title\":{\"text\":\"Price\"}}},                        {\"responsive\": true}                    ).then(function(){\n",
       "                            \n",
       "var gd = document.getElementById('f01e68b6-125f-4fc3-974e-73b3837aebdc');\n",
       "var x = new MutationObserver(function (mutations, observer) {{\n",
       "        var display = window.getComputedStyle(gd).display;\n",
       "        if (!display || display === 'none') {{\n",
       "            console.log([gd, 'removed!']);\n",
       "            Plotly.purge(gd);\n",
       "            observer.disconnect();\n",
       "        }}\n",
       "}});\n",
       "\n",
       "// Listen for the removal of the full notebook cells\n",
       "var notebookContainer = gd.closest('#notebook-container');\n",
       "if (notebookContainer) {{\n",
       "    x.observe(notebookContainer, {childList: true});\n",
       "}}\n",
       "\n",
       "// Listen for the clearing of the current output cell\n",
       "var outputEl = gd.closest('.output');\n",
       "if (outputEl) {{\n",
       "    x.observe(outputEl, {childList: true});\n",
       "}}\n",
       "\n",
       "                        })                };                });            </script>        </div>"
      ]
     },
     "metadata": {},
     "output_type": "display_data"
    }
   ],
   "source": [
    "cf.go_offline()\n",
    "\n",
    "df = players_details[['form','points_per_game','now_cost','team_name','singular_name','first_name','web_name']]\n",
    "df[\"now_cost\"] = df[\"now_cost\"]/10\n",
    "df.points_per_game = pd.to_numeric(df.points_per_game)\n",
    "df.rename(columns = {'singular_name' : \"Player Type\"}, inplace = True)\n",
    "df[\"name\"] = df[\"first_name\"] + ' ' + df[\"web_name\"]\n",
    "fig = px.scatter(df, x='points_per_game', \n",
    "                 y='now_cost',  \n",
    "                 size = (players_details[\"form\"].astype(float).values + abs(players_details[\"form\"].astype(float).values.min()))*1.5, \n",
    "                 hover_name = \"name\",\n",
    "                 hover_data= [\"team_name\"],\n",
    "                 color =\"Player Type\",\n",
    "                 title = \"Most Suitable Player to Buy Currently\"\n",
    "                )\n",
    "fig['layout']['yaxis'].update({'title': 'Price', 'tickprefix': '£'})\n",
    "fig['layout']['xaxis'].update({'title': 'Points Per Game'})\n",
    "fig.update_layout(\n",
    "    showlegend=True,\n",
    "    annotations=[\n",
    "        dict(\n",
    "            x=1.15,\n",
    "            y=1.10,\n",
    "            xref=\"paper\",\n",
    "            yref=\"paper\",\n",
    "            showarrow=False,\n",
    "            text=\"Bubble Size : Player Form\"\n",
    "        )\n",
    "    ]\n",
    ")\n",
    "\n",
    "fig.show()"
   ]
  },
  {
   "cell_type": "code",
   "execution_count": null,
   "metadata": {},
   "outputs": [],
   "source": []
  }
 ],
 "metadata": {
  "kernelspec": {
   "display_name": "Python 3",
   "language": "python",
   "name": "python3"
  },
  "language_info": {
   "codemirror_mode": {
    "name": "ipython",
    "version": 3
   },
   "file_extension": ".py",
   "mimetype": "text/x-python",
   "name": "python",
   "nbconvert_exporter": "python",
   "pygments_lexer": "ipython3",
   "version": "3.7.11"
  }
 },
 "nbformat": 4,
 "nbformat_minor": 2
}
