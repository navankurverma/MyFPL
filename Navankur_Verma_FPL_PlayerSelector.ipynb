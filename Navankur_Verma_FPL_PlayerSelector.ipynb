{
 "cells": [
  {
   "cell_type": "markdown",
   "metadata": {},
   "source": [
    "\n",
    "# Fantasy Premier League - Player Selector\n",
    "# Navankur Verma - navankurverma@gmail.com"
   ]
  },
  {
   "cell_type": "markdown",
   "metadata": {},
   "source": [
    "[(Parent link)](https://navankurverma.github.io/MyFPL/Navankur_Verma_FPL.html)"
   ]
  },
  {
   "cell_type": "markdown",
   "metadata": {},
   "source": [
    "Libraries Used:"
   ]
  },
  {
   "cell_type": "code",
   "execution_count": 1,
   "metadata": {
    "execution": {
     "iopub.execute_input": "2023-01-23T04:19:54.953776Z",
     "iopub.status.busy": "2023-01-23T04:19:54.953305Z",
     "iopub.status.idle": "2023-01-23T04:19:56.685658Z",
     "shell.execute_reply": "2023-01-23T04:19:56.684813Z"
    }
   },
   "outputs": [],
   "source": [
    "import requests\n",
    "import json\n",
    "import pandas as pd\n",
    "import numpy as np\n",
    "import matplotlib\n",
    "import matplotlib.pyplot as plt\n",
    "import seaborn as sns\n",
    "import cufflinks as cf\n",
    "import plotly.express as px\n",
    "%matplotlib inline"
   ]
  },
  {
   "cell_type": "markdown",
   "metadata": {},
   "source": [
    "### Pull General FPL Data \n",
    "[Move to top](#Fantasy-Premier-League---Player-Selector)"
   ]
  },
  {
   "cell_type": "code",
   "execution_count": 2,
   "metadata": {
    "execution": {
     "iopub.execute_input": "2023-01-23T04:19:56.690015Z",
     "iopub.status.busy": "2023-01-23T04:19:56.689577Z",
     "iopub.status.idle": "2023-01-23T04:19:56.923264Z",
     "shell.execute_reply": "2023-01-23T04:19:56.922527Z"
    }
   },
   "outputs": [],
   "source": [
    "#Whole Data\n",
    "fpl = requests.get(\"https://fantasy.premierleague.com/api/bootstrap-static/\")\n",
    "fpl = fpl.json()"
   ]
  },
  {
   "cell_type": "code",
   "execution_count": 3,
   "metadata": {
    "execution": {
     "iopub.execute_input": "2023-01-23T04:19:56.927136Z",
     "iopub.status.busy": "2023-01-23T04:19:56.926729Z",
     "iopub.status.idle": "2023-01-23T04:19:56.934417Z",
     "shell.execute_reply": "2023-01-23T04:19:56.933763Z"
    }
   },
   "outputs": [],
   "source": [
    "if 'teams' in fpl:\n",
    "    teams = pd.DataFrame(fpl['teams'])\n",
    "    teams = teams.iloc[:,[0,3,5,9,10,14,15,16,17,18,19]] #picking only valuable columns\n",
    "    teams.rename(columns = {'code': 'team_code', 'id': 'team_id', 'name': 'team_name'}, inplace = True)\n",
    "    teams\n",
    "else:\n",
    "    print('Teams data not found')"
   ]
  },
  {
   "cell_type": "code",
   "execution_count": 4,
   "metadata": {
    "execution": {
     "iopub.execute_input": "2023-01-23T04:19:56.937762Z",
     "iopub.status.busy": "2023-01-23T04:19:56.937370Z",
     "iopub.status.idle": "2023-01-23T04:19:56.944315Z",
     "shell.execute_reply": "2023-01-23T04:19:56.943624Z"
    }
   },
   "outputs": [],
   "source": [
    "if 'element_types' in fpl:\n",
    "    element_types = pd.DataFrame(fpl['element_types'])\n",
    "    element_types.rename(columns= {'id': 'element_type'}, inplace = True)\n",
    "    element_types\n",
    "else:\n",
    "    print('Element_types data not found')"
   ]
  },
  {
   "cell_type": "code",
   "execution_count": 5,
   "metadata": {
    "execution": {
     "iopub.execute_input": "2023-01-23T04:19:56.949845Z",
     "iopub.status.busy": "2023-01-23T04:19:56.949258Z",
     "iopub.status.idle": "2023-01-23T04:19:56.968265Z",
     "shell.execute_reply": "2023-01-23T04:19:56.967551Z"
    }
   },
   "outputs": [],
   "source": [
    "if 'elements' in fpl:\n",
    "    players = fpl['elements']\n",
    "    players = pd.DataFrame(players)\n",
    "else:\n",
    "    print('Players data not found')"
   ]
  },
  {
   "cell_type": "markdown",
   "metadata": {},
   "source": [
    "#### Cleaning Public Data\n",
    "[Move to top](#Fantasy-Premier-League---Player-Selector)"
   ]
  },
  {
   "cell_type": "code",
   "execution_count": 6,
   "metadata": {
    "execution": {
     "iopub.execute_input": "2023-01-23T04:19:56.971867Z",
     "iopub.status.busy": "2023-01-23T04:19:56.971470Z",
     "iopub.status.idle": "2023-01-23T04:19:56.980989Z",
     "shell.execute_reply": "2023-01-23T04:19:56.980274Z"
    }
   },
   "outputs": [
    {
     "data": {
      "text/plain": [
       "chance_of_playing_next_round    244\n",
       "chance_of_playing_this_round    245\n",
       "code                              0\n",
       "cost_change_event                 0\n",
       "cost_change_event_fall            0\n",
       "                               ... \n",
       "points_per_game_rank_type         0\n",
       "selected_rank                     0\n",
       "selected_rank_type                0\n",
       "starts_per_90                     0\n",
       "clean_sheets_per_90               0\n",
       "Length: 88, dtype: int64"
      ]
     },
     "execution_count": 6,
     "metadata": {},
     "output_type": "execute_result"
    }
   ],
   "source": [
    "players.isnull().sum()"
   ]
  },
  {
   "cell_type": "code",
   "execution_count": 7,
   "metadata": {
    "execution": {
     "iopub.execute_input": "2023-01-23T04:19:57.022077Z",
     "iopub.status.busy": "2023-01-23T04:19:57.021234Z",
     "iopub.status.idle": "2023-01-23T04:19:57.026126Z",
     "shell.execute_reply": "2023-01-23T04:19:57.025479Z"
    }
   },
   "outputs": [],
   "source": [
    "#Replacing missing values with Zeroes\n",
    "players['chance_of_playing_next_round'] = players['chance_of_playing_next_round'].fillna(0)\n",
    "players['chance_of_playing_this_round'] = players['chance_of_playing_this_round'].fillna(0)"
   ]
  },
  {
   "cell_type": "code",
   "execution_count": 8,
   "metadata": {
    "execution": {
     "iopub.execute_input": "2023-01-23T04:19:57.029439Z",
     "iopub.status.busy": "2023-01-23T04:19:57.028832Z",
     "iopub.status.idle": "2023-01-23T04:19:57.037121Z",
     "shell.execute_reply": "2023-01-23T04:19:57.036434Z"
    }
   },
   "outputs": [
    {
     "data": {
      "text/plain": [
       "chance_of_playing_next_round    0\n",
       "chance_of_playing_this_round    0\n",
       "code                            0\n",
       "cost_change_event               0\n",
       "cost_change_event_fall          0\n",
       "                               ..\n",
       "points_per_game_rank_type       0\n",
       "selected_rank                   0\n",
       "selected_rank_type              0\n",
       "starts_per_90                   0\n",
       "clean_sheets_per_90             0\n",
       "Length: 88, dtype: int64"
      ]
     },
     "execution_count": 8,
     "metadata": {},
     "output_type": "execute_result"
    }
   ],
   "source": [
    "players.isnull().sum()"
   ]
  },
  {
   "cell_type": "markdown",
   "metadata": {},
   "source": [
    "Column Description by its index:  \n",
    "14,12,35,26,27,8 <- id, name, teamName, position  \n",
    "29,30,31,32 <- Transfer details  \n",
    "25,0,1 <- Chances of playing  \n",
    "7, 11,13,15,20,28,18,22 <- fpl related details  \n",
    "36,37,38,39,40,41,42,43,44,45,46,47,48,49,50,51,52 <- onfield stats  \n",
    "Selecting only above columns:"
   ]
  },
  {
   "cell_type": "code",
   "execution_count": 9,
   "metadata": {
    "execution": {
     "iopub.execute_input": "2023-01-23T04:19:57.040002Z",
     "iopub.status.busy": "2023-01-23T04:19:57.039775Z",
     "iopub.status.idle": "2023-01-23T04:19:57.045085Z",
     "shell.execute_reply": "2023-01-23T04:19:57.044388Z"
    }
   },
   "outputs": [],
   "source": [
    "players.rename(columns = {'id': 'element'}, inplace = True)\n",
    "players_details = players.iloc[:,[14,12,35,26,27,8, 36,37,38,39,40,41,42,43,44,45,46,47,48,49,50,51,52, 7,11,13,15,20,28,18,22,29,30,31,32,25,0,1]]"
   ]
  },
  {
   "cell_type": "markdown",
   "metadata": {},
   "source": [
    "Joining players data with their corresponding details and teams:"
   ]
  },
  {
   "cell_type": "code",
   "execution_count": 10,
   "metadata": {
    "execution": {
     "iopub.execute_input": "2023-01-23T04:19:57.047957Z",
     "iopub.status.busy": "2023-01-23T04:19:57.047731Z",
     "iopub.status.idle": "2023-01-23T04:19:57.061105Z",
     "shell.execute_reply": "2023-01-23T04:19:57.060447Z"
    }
   },
   "outputs": [],
   "source": [
    "players_details = players_details.merge(teams[[\"team_code\",\"team_name\"]],\n",
    "                                        on = \"team_code\").merge(element_types[[\"singular_name\",\"element_type\"]],\n",
    "                                                                on = \"element_type\")\n",
    "players_details.drop(['team','team_code'], axis=1, inplace = True)\n",
    "players_details.set_index('element', inplace = True)"
   ]
  },
  {
   "cell_type": "code",
   "execution_count": 11,
   "metadata": {
    "execution": {
     "iopub.execute_input": "2023-01-23T04:19:57.064096Z",
     "iopub.status.busy": "2023-01-23T04:19:57.063873Z",
     "iopub.status.idle": "2023-01-23T04:19:57.081718Z",
     "shell.execute_reply": "2023-01-23T04:19:57.080971Z"
    }
   },
   "outputs": [
    {
     "data": {
      "text/html": [
       "<div>\n",
       "<style scoped>\n",
       "    .dataframe tbody tr th:only-of-type {\n",
       "        vertical-align: middle;\n",
       "    }\n",
       "\n",
       "    .dataframe tbody tr th {\n",
       "        vertical-align: top;\n",
       "    }\n",
       "\n",
       "    .dataframe thead th {\n",
       "        text-align: right;\n",
       "    }\n",
       "</style>\n",
       "<table border=\"1\" class=\"dataframe\">\n",
       "  <thead>\n",
       "    <tr style=\"text-align: right;\">\n",
       "      <th></th>\n",
       "      <th>first_name</th>\n",
       "      <th>web_name</th>\n",
       "      <th>element_type</th>\n",
       "      <th>minutes</th>\n",
       "      <th>goals_scored</th>\n",
       "      <th>assists</th>\n",
       "      <th>clean_sheets</th>\n",
       "      <th>goals_conceded</th>\n",
       "      <th>own_goals</th>\n",
       "      <th>penalties_saved</th>\n",
       "      <th>...</th>\n",
       "      <th>selected_by_percent</th>\n",
       "      <th>transfers_in</th>\n",
       "      <th>transfers_in_event</th>\n",
       "      <th>transfers_out</th>\n",
       "      <th>transfers_out_event</th>\n",
       "      <th>status</th>\n",
       "      <th>chance_of_playing_next_round</th>\n",
       "      <th>chance_of_playing_this_round</th>\n",
       "      <th>team_name</th>\n",
       "      <th>singular_name</th>\n",
       "    </tr>\n",
       "    <tr>\n",
       "      <th>element</th>\n",
       "      <th></th>\n",
       "      <th></th>\n",
       "      <th></th>\n",
       "      <th></th>\n",
       "      <th></th>\n",
       "      <th></th>\n",
       "      <th></th>\n",
       "      <th></th>\n",
       "      <th></th>\n",
       "      <th></th>\n",
       "      <th></th>\n",
       "      <th></th>\n",
       "      <th></th>\n",
       "      <th></th>\n",
       "      <th></th>\n",
       "      <th></th>\n",
       "      <th></th>\n",
       "      <th></th>\n",
       "      <th></th>\n",
       "      <th></th>\n",
       "      <th></th>\n",
       "    </tr>\n",
       "  </thead>\n",
       "  <tbody>\n",
       "    <tr>\n",
       "      <th>1</th>\n",
       "      <td>Cédric</td>\n",
       "      <td>Cédric</td>\n",
       "      <td>2</td>\n",
       "      <td>28</td>\n",
       "      <td>0</td>\n",
       "      <td>0</td>\n",
       "      <td>0</td>\n",
       "      <td>0</td>\n",
       "      <td>0</td>\n",
       "      <td>0</td>\n",
       "      <td>...</td>\n",
       "      <td>0.1</td>\n",
       "      <td>6703</td>\n",
       "      <td>24</td>\n",
       "      <td>27043</td>\n",
       "      <td>65</td>\n",
       "      <td>a</td>\n",
       "      <td>100.0</td>\n",
       "      <td>100.0</td>\n",
       "      <td>Arsenal</td>\n",
       "      <td>Defender</td>\n",
       "    </tr>\n",
       "    <tr>\n",
       "      <th>5</th>\n",
       "      <td>Rob</td>\n",
       "      <td>Holding</td>\n",
       "      <td>2</td>\n",
       "      <td>16</td>\n",
       "      <td>0</td>\n",
       "      <td>0</td>\n",
       "      <td>0</td>\n",
       "      <td>0</td>\n",
       "      <td>0</td>\n",
       "      <td>0</td>\n",
       "      <td>...</td>\n",
       "      <td>0.1</td>\n",
       "      <td>6743</td>\n",
       "      <td>20</td>\n",
       "      <td>17495</td>\n",
       "      <td>62</td>\n",
       "      <td>a</td>\n",
       "      <td>0.0</td>\n",
       "      <td>0.0</td>\n",
       "      <td>Arsenal</td>\n",
       "      <td>Defender</td>\n",
       "    </tr>\n",
       "    <tr>\n",
       "      <th>8</th>\n",
       "      <td>Kieran</td>\n",
       "      <td>Tierney</td>\n",
       "      <td>2</td>\n",
       "      <td>458</td>\n",
       "      <td>0</td>\n",
       "      <td>0</td>\n",
       "      <td>1</td>\n",
       "      <td>5</td>\n",
       "      <td>0</td>\n",
       "      <td>0</td>\n",
       "      <td>...</td>\n",
       "      <td>0.8</td>\n",
       "      <td>73807</td>\n",
       "      <td>135</td>\n",
       "      <td>138797</td>\n",
       "      <td>771</td>\n",
       "      <td>a</td>\n",
       "      <td>100.0</td>\n",
       "      <td>100.0</td>\n",
       "      <td>Arsenal</td>\n",
       "      <td>Defender</td>\n",
       "    </tr>\n",
       "    <tr>\n",
       "      <th>10</th>\n",
       "      <td>Benjamin</td>\n",
       "      <td>White</td>\n",
       "      <td>2</td>\n",
       "      <td>1509</td>\n",
       "      <td>0</td>\n",
       "      <td>2</td>\n",
       "      <td>10</td>\n",
       "      <td>12</td>\n",
       "      <td>0</td>\n",
       "      <td>0</td>\n",
       "      <td>...</td>\n",
       "      <td>14.1</td>\n",
       "      <td>1935618</td>\n",
       "      <td>17755</td>\n",
       "      <td>1067576</td>\n",
       "      <td>20147</td>\n",
       "      <td>a</td>\n",
       "      <td>0.0</td>\n",
       "      <td>0.0</td>\n",
       "      <td>Arsenal</td>\n",
       "      <td>Defender</td>\n",
       "    </tr>\n",
       "    <tr>\n",
       "      <th>14</th>\n",
       "      <td>Takehiro</td>\n",
       "      <td>Tomiyasu</td>\n",
       "      <td>2</td>\n",
       "      <td>497</td>\n",
       "      <td>0</td>\n",
       "      <td>1</td>\n",
       "      <td>2</td>\n",
       "      <td>7</td>\n",
       "      <td>0</td>\n",
       "      <td>0</td>\n",
       "      <td>...</td>\n",
       "      <td>0.6</td>\n",
       "      <td>83485</td>\n",
       "      <td>343</td>\n",
       "      <td>208340</td>\n",
       "      <td>488</td>\n",
       "      <td>a</td>\n",
       "      <td>100.0</td>\n",
       "      <td>100.0</td>\n",
       "      <td>Arsenal</td>\n",
       "      <td>Defender</td>\n",
       "    </tr>\n",
       "  </tbody>\n",
       "</table>\n",
       "<p>5 rows × 37 columns</p>\n",
       "</div>"
      ],
      "text/plain": [
       "        first_name  web_name  element_type  minutes  goals_scored  assists  \\\n",
       "element                                                                      \n",
       "1           Cédric    Cédric             2       28             0        0   \n",
       "5              Rob   Holding             2       16             0        0   \n",
       "8           Kieran   Tierney             2      458             0        0   \n",
       "10        Benjamin     White             2     1509             0        2   \n",
       "14        Takehiro  Tomiyasu             2      497             0        1   \n",
       "\n",
       "         clean_sheets  goals_conceded  own_goals  penalties_saved  ...  \\\n",
       "element                                                            ...   \n",
       "1                   0               0          0                0  ...   \n",
       "5                   0               0          0                0  ...   \n",
       "8                   1               5          0                0  ...   \n",
       "10                 10              12          0                0  ...   \n",
       "14                  2               7          0                0  ...   \n",
       "\n",
       "         selected_by_percent  transfers_in  transfers_in_event  transfers_out  \\\n",
       "element                                                                         \n",
       "1                        0.1          6703                  24          27043   \n",
       "5                        0.1          6743                  20          17495   \n",
       "8                        0.8         73807                 135         138797   \n",
       "10                      14.1       1935618               17755        1067576   \n",
       "14                       0.6         83485                 343         208340   \n",
       "\n",
       "         transfers_out_event  status chance_of_playing_next_round  \\\n",
       "element                                                             \n",
       "1                         65       a                        100.0   \n",
       "5                         62       a                          0.0   \n",
       "8                        771       a                        100.0   \n",
       "10                     20147       a                          0.0   \n",
       "14                       488       a                        100.0   \n",
       "\n",
       "        chance_of_playing_this_round team_name singular_name  \n",
       "element                                                       \n",
       "1                              100.0   Arsenal      Defender  \n",
       "5                                0.0   Arsenal      Defender  \n",
       "8                              100.0   Arsenal      Defender  \n",
       "10                               0.0   Arsenal      Defender  \n",
       "14                             100.0   Arsenal      Defender  \n",
       "\n",
       "[5 rows x 37 columns]"
      ]
     },
     "execution_count": 11,
     "metadata": {},
     "output_type": "execute_result"
    }
   ],
   "source": [
    "players_details.head()"
   ]
  },
  {
   "cell_type": "markdown",
   "metadata": {},
   "source": [
    "#### Most Suitable Player to Buy Currently\n",
    "[Move to top](#Fantasy-Premier-League---Player-Selector)"
   ]
  },
  {
   "cell_type": "code",
   "execution_count": 12,
   "metadata": {
    "execution": {
     "iopub.execute_input": "2023-01-23T04:19:57.085314Z",
     "iopub.status.busy": "2023-01-23T04:19:57.084851Z",
     "iopub.status.idle": "2023-01-23T04:19:57.417816Z",
     "shell.execute_reply": "2023-01-23T04:19:57.417202Z"
    }
   },
   "outputs": [
    {
     "data": {
      "text/html": [
       "        <script type=\"text/javascript\">\n",
       "        window.PlotlyConfig = {MathJaxConfig: 'local'};\n",
       "        if (window.MathJax && window.MathJax.Hub && window.MathJax.Hub.Config) {window.MathJax.Hub.Config({SVG: {font: \"STIX-Web\"}});}\n",
       "        if (typeof require !== 'undefined') {\n",
       "        require.undef(\"plotly\");\n",
       "        requirejs.config({\n",
       "            paths: {\n",
       "                'plotly': ['https://cdn.plot.ly/plotly-2.17.1.min']\n",
       "            }\n",
       "        });\n",
       "        require(['plotly'], function(Plotly) {\n",
       "            window._Plotly = Plotly;\n",
       "        });\n",
       "        }\n",
       "        </script>\n",
       "        "
      ]
     },
     "metadata": {},
     "output_type": "display_data"
    },
    {
     "data": {
      "application/vnd.plotly.v1+json": {
       "config": {
        "plotlyServerURL": "https://plot.ly"
       },
       "data": [
        {
         "customdata": [
          [
           "Arsenal"
          ],
          [
           "Arsenal"
          ],
          [
           "Arsenal"
          ],
          [
           "Arsenal"
          ],
          [
           "Arsenal"
          ],
          [
           "Arsenal"
          ],
          [
           "Arsenal"
          ],
          [
           "Arsenal"
          ],
          [
           "Arsenal"
          ],
          [
           "Arsenal"
          ],
          [
           "Arsenal"
          ],
          [
           "Aston Villa"
          ],
          [
           "Aston Villa"
          ],
          [
           "Aston Villa"
          ],
          [
           "Aston Villa"
          ],
          [
           "Aston Villa"
          ],
          [
           "Aston Villa"
          ],
          [
           "Aston Villa"
          ],
          [
           "Aston Villa"
          ],
          [
           "Aston Villa"
          ],
          [
           "Aston Villa"
          ],
          [
           "Aston Villa"
          ],
          [
           "Aston Villa"
          ],
          [
           "Aston Villa"
          ],
          [
           "Aston Villa"
          ],
          [
           "Bournemouth"
          ],
          [
           "Bournemouth"
          ],
          [
           "Bournemouth"
          ],
          [
           "Bournemouth"
          ],
          [
           "Bournemouth"
          ],
          [
           "Bournemouth"
          ],
          [
           "Bournemouth"
          ],
          [
           "Bournemouth"
          ],
          [
           "Bournemouth"
          ],
          [
           "Bournemouth"
          ],
          [
           "Brentford"
          ],
          [
           "Brentford"
          ],
          [
           "Brentford"
          ],
          [
           "Brentford"
          ],
          [
           "Brentford"
          ],
          [
           "Brentford"
          ],
          [
           "Brentford"
          ],
          [
           "Brentford"
          ],
          [
           "Brentford"
          ],
          [
           "Brentford"
          ],
          [
           "Brentford"
          ],
          [
           "Brentford"
          ],
          [
           "Brentford"
          ],
          [
           "Brentford"
          ],
          [
           "Brighton"
          ],
          [
           "Brighton"
          ],
          [
           "Brighton"
          ],
          [
           "Brighton"
          ],
          [
           "Brighton"
          ],
          [
           "Brighton"
          ],
          [
           "Brighton"
          ],
          [
           "Brighton"
          ],
          [
           "Brighton"
          ],
          [
           "Brighton"
          ],
          [
           "Brighton"
          ],
          [
           "Chelsea"
          ],
          [
           "Chelsea"
          ],
          [
           "Chelsea"
          ],
          [
           "Chelsea"
          ],
          [
           "Chelsea"
          ],
          [
           "Chelsea"
          ],
          [
           "Chelsea"
          ],
          [
           "Chelsea"
          ],
          [
           "Chelsea"
          ],
          [
           "Chelsea"
          ],
          [
           "Chelsea"
          ],
          [
           "Chelsea"
          ],
          [
           "Chelsea"
          ],
          [
           "Chelsea"
          ],
          [
           "Crystal Palace"
          ],
          [
           "Crystal Palace"
          ],
          [
           "Crystal Palace"
          ],
          [
           "Crystal Palace"
          ],
          [
           "Crystal Palace"
          ],
          [
           "Crystal Palace"
          ],
          [
           "Crystal Palace"
          ],
          [
           "Crystal Palace"
          ],
          [
           "Crystal Palace"
          ],
          [
           "Everton"
          ],
          [
           "Everton"
          ],
          [
           "Everton"
          ],
          [
           "Everton"
          ],
          [
           "Everton"
          ],
          [
           "Everton"
          ],
          [
           "Everton"
          ],
          [
           "Everton"
          ],
          [
           "Everton"
          ],
          [
           "Everton"
          ],
          [
           "Everton"
          ],
          [
           "Everton"
          ],
          [
           "Everton"
          ],
          [
           "Everton"
          ],
          [
           "Fulham"
          ],
          [
           "Fulham"
          ],
          [
           "Fulham"
          ],
          [
           "Fulham"
          ],
          [
           "Fulham"
          ],
          [
           "Fulham"
          ],
          [
           "Fulham"
          ],
          [
           "Fulham"
          ],
          [
           "Fulham"
          ],
          [
           "Fulham"
          ],
          [
           "Fulham"
          ],
          [
           "Leicester"
          ],
          [
           "Leicester"
          ],
          [
           "Leicester"
          ],
          [
           "Leicester"
          ],
          [
           "Leicester"
          ],
          [
           "Leicester"
          ],
          [
           "Leicester"
          ],
          [
           "Leicester"
          ],
          [
           "Leicester"
          ],
          [
           "Leicester"
          ],
          [
           "Leicester"
          ],
          [
           "Leicester"
          ],
          [
           "Leeds"
          ],
          [
           "Leeds"
          ],
          [
           "Leeds"
          ],
          [
           "Leeds"
          ],
          [
           "Leeds"
          ],
          [
           "Leeds"
          ],
          [
           "Leeds"
          ],
          [
           "Leeds"
          ],
          [
           "Leeds"
          ],
          [
           "Leeds"
          ],
          [
           "Leeds"
          ],
          [
           "Liverpool"
          ],
          [
           "Liverpool"
          ],
          [
           "Liverpool"
          ],
          [
           "Liverpool"
          ],
          [
           "Liverpool"
          ],
          [
           "Liverpool"
          ],
          [
           "Liverpool"
          ],
          [
           "Liverpool"
          ],
          [
           "Liverpool"
          ],
          [
           "Liverpool"
          ],
          [
           "Liverpool"
          ],
          [
           "Liverpool"
          ],
          [
           "Liverpool"
          ],
          [
           "Man City"
          ],
          [
           "Man City"
          ],
          [
           "Man City"
          ],
          [
           "Man City"
          ],
          [
           "Man City"
          ],
          [
           "Man City"
          ],
          [
           "Man City"
          ],
          [
           "Man City"
          ],
          [
           "Man City"
          ],
          [
           "Man City"
          ],
          [
           "Man City"
          ],
          [
           "Man Utd"
          ],
          [
           "Man Utd"
          ],
          [
           "Man Utd"
          ],
          [
           "Man Utd"
          ],
          [
           "Man Utd"
          ],
          [
           "Man Utd"
          ],
          [
           "Man Utd"
          ],
          [
           "Man Utd"
          ],
          [
           "Man Utd"
          ],
          [
           "Man Utd"
          ],
          [
           "Man Utd"
          ],
          [
           "Man Utd"
          ],
          [
           "Man Utd"
          ],
          [
           "Newcastle"
          ],
          [
           "Newcastle"
          ],
          [
           "Newcastle"
          ],
          [
           "Newcastle"
          ],
          [
           "Newcastle"
          ],
          [
           "Newcastle"
          ],
          [
           "Newcastle"
          ],
          [
           "Newcastle"
          ],
          [
           "Newcastle"
          ],
          [
           "Newcastle"
          ],
          [
           "Newcastle"
          ],
          [
           "Newcastle"
          ],
          [
           "Newcastle"
          ],
          [
           "Nott'm Forest"
          ],
          [
           "Nott'm Forest"
          ],
          [
           "Nott'm Forest"
          ],
          [
           "Nott'm Forest"
          ],
          [
           "Nott'm Forest"
          ],
          [
           "Nott'm Forest"
          ],
          [
           "Nott'm Forest"
          ],
          [
           "Nott'm Forest"
          ],
          [
           "Nott'm Forest"
          ],
          [
           "Nott'm Forest"
          ],
          [
           "Nott'm Forest"
          ],
          [
           "Nott'm Forest"
          ],
          [
           "Nott'm Forest"
          ],
          [
           "Nott'm Forest"
          ],
          [
           "Nott'm Forest"
          ],
          [
           "Nott'm Forest"
          ],
          [
           "Southampton"
          ],
          [
           "Southampton"
          ],
          [
           "Southampton"
          ],
          [
           "Southampton"
          ],
          [
           "Southampton"
          ],
          [
           "Southampton"
          ],
          [
           "Southampton"
          ],
          [
           "Southampton"
          ],
          [
           "Southampton"
          ],
          [
           "Spurs"
          ],
          [
           "Spurs"
          ],
          [
           "Spurs"
          ],
          [
           "Spurs"
          ],
          [
           "Spurs"
          ],
          [
           "Spurs"
          ],
          [
           "Spurs"
          ],
          [
           "Spurs"
          ],
          [
           "Spurs"
          ],
          [
           "Spurs"
          ],
          [
           "Spurs"
          ],
          [
           "Spurs"
          ],
          [
           "Spurs"
          ],
          [
           "West Ham"
          ],
          [
           "West Ham"
          ],
          [
           "West Ham"
          ],
          [
           "West Ham"
          ],
          [
           "West Ham"
          ],
          [
           "West Ham"
          ],
          [
           "West Ham"
          ],
          [
           "West Ham"
          ],
          [
           "West Ham"
          ],
          [
           "West Ham"
          ],
          [
           "West Ham"
          ],
          [
           "Wolves"
          ],
          [
           "Wolves"
          ],
          [
           "Wolves"
          ],
          [
           "Wolves"
          ],
          [
           "Wolves"
          ],
          [
           "Wolves"
          ],
          [
           "Wolves"
          ],
          [
           "Wolves"
          ],
          [
           "Wolves"
          ]
         ],
         "hovertemplate": "<b>%{hovertext}</b><br><br>Player Type=Defender<br>points_per_game=%{x}<br>now_cost=%{y}<br>size=%{marker.size}<br>team_name=%{customdata[0]}<extra></extra>",
         "hovertext": [
          "Cédric Cédric",
          "Rob Holding",
          "Kieran Tierney",
          "Benjamin White",
          "Takehiro Tomiyasu",
          "Gabriel Gabriel",
          "Nuno Tavares",
          "Pablo Pablo Marí",
          "William Saliba",
          "Oleksandr Zinchenko",
          "Lino Sousa",
          "Calum Chambers",
          "Lucas Digne",
          "Kortney Hause",
          "Tyrone Mings",
          "Matty Cash",
          "Ezri Konsa",
          "Diego Carlos Diego Carlos",
          "Frédéric Guilbert",
          "Jan Bednarek",
          "Ludwig Augustinsson",
          "Kaine Kesler Hayden",
          "Ashley Young",
          "Lamare Bogarde",
          "Alexandre Álex Moreno",
          "Adam Smith",
          "Ryan Fredericks",
          "Jack Stacey",
          "Chris Mepham",
          "Lloyd Kelly",
          "Jordan Zemura",
          "Jack Stephens",
          "James Hill",
          "Marcos Senesi",
          "Owen Bevan",
          "Pontus Jansson",
          "Sergi Canós",
          "Kristoffer Ajer",
          "Rico Henry",
          "Mads Roerslev",
          "Mads Bech",
          "Ethan Pinnock",
          "Charlie Goode",
          "Dominic Thompson",
          "Aaron Hickey",
          "Ben Mee",
          "Fin Stevens",
          "Mathias Zanka",
          "Tristan Crama",
          "Lewis Dunk",
          "Adam Webster",
          "Joël Veltman",
          "Tariq Lamptey",
          "Haydon Roberts",
          "Matt Clarke",
          "Jan Paul Van Hecke",
          "Levi Colwill",
          "Pervis Estupiñán",
          "Ed Turns",
          "James Furlong",
          "Marc Cucurella",
          "César Azpilicueta",
          "Thiago Thiago Silva",
          "Marcos Alonso",
          "Robert Kenedy Kenedy",
          "Ben Chilwell",
          "Trevoh Chalobah",
          "Malang Sarr",
          "Reece James",
          "Ethan Ampadu",
          "Wesley W.Fofana",
          "Kalidou Koulibaly",
          "Bashir Humphreys",
          "Benoît Badiashile",
          "James Tomkins",
          "Joel Ward",
          "Nathaniel Clyne",
          "Joachim Andersen",
          "Marc Guéhi",
          "Tyrick Mitchell",
          "Nathan Ferguson",
          "Chris Richards",
          "Kofi Balmer",
          "Seamus Coleman",
          "Michael Keane",
          "Yerry Mina",
          "Mason Holgate",
          "Ben Godfrey",
          "Vitalii Mykolenko",
          "Jarrad Branthwaite",
          "Nathan Patterson",
          "Niels Nkounkou",
          "James Tarkowski",
          "Conor Coady",
          "Rúben Vinagre",
          "Reece Welch",
          "Kyle John",
          "Shane Duffy",
          "Tim Ream",
          "Joe Bryan",
          "Terence Kongolo",
          "Tosin Tosin",
          "Kenny Tete",
          "Antonee Robinson",
          "Issa Diop",
          "Kevin Mbabu",
          "Layvin Kurzawa",
          "Stefan Parkes",
          "Jonny Evans",
          "Ryan Bertrand",
          "Jannik Vestergaard",
          "Ricardo Ricardo",
          "Daniel Amartey",
          "Timothy Castagne",
          "Çaglar Söyüncü",
          "James Justin",
          "Luke Thomas",
          "Lewis Brunt",
          "Wout Faes",
          "Joe Wormleighton",
          "Liam Cooper",
          "Luke Ayling",
          "Stuart Dallas",
          "Diego Llorente",
          "Robin Koch",
          "Pascal Struijk",
          "Junior Firpo",
          "Leo Fuhr Hjelde",
          "Rasmus Kristensen",
          "Cody Drameh",
          "Maximilian Wöber",
          "Joel Matip",
          "Virgil Van Dijk",
          "Andrew Robertson",
          "Trent Alexander-Arnold",
          "Joseph Gomez",
          "Ibrahima Konaté",
          "Konstantinos Tsimikas",
          "Calvin Ramsay",
          "Rhys R.Williams",
          "Ben Davies",
          "Sepp Van den Berg",
          "Nathaniel Phillips",
          "Luke Chambers",
          "Kyle Walker",
          "John Stones",
          "João Cancelo",
          "Nathan Aké",
          "Aymeric Laporte",
          "Rúben Dias",
          "Luke Mbete",
          "Josh Wilson-Esbrand",
          "Rico Lewis",
          "Sergio Sergio Gómez",
          "Manuel Akanji",
          "Phil Jones",
          "Raphaël Varane",
          "Harry Maguire",
          "Luke Shaw",
          "Alex Telles",
          "Victor Lindelöf",
          "Eric Bailly",
          "Aaron Wan-Bissaka",
          "Diogo Dalot",
          "Brandon B.Williams",
          "Tyrell Malacia",
          "Lisandro Martínez",
          "Rhys Bennett",
          "Matt Ritchie",
          "Federico Fernández",
          "Ciaran Clark",
          "Kieran Trippier",
          "Dan Burn",
          "Jamaal Lascelles",
          "Paul Dummett",
          "Javier Manquillo",
          "Emil Krafth",
          "Fabian Schär",
          "Matt Targett",
          "Jamal Lewis",
          "Sven Botman",
          "Neco N.Williams",
          "Steve Cook",
          "Scott McKenna",
          "Mohamed Dräger",
          "Joe Worrall",
          "Jonathan Panzo",
          "Richie Laryea",
          "Loïc Mbe Soh",
          "Giulian Biancone",
          "Willy Boly",
          "Moussa Niakhaté",
          "Omar Richards",
          "Harry Toffolo",
          "Renan Augusto Renan Lodi",
          "Loïc Badé",
          "Serge Aurier",
          "Kyle Walker-Peters",
          "Lyanco Lyanco",
          "Yan Valery",
          "Romain Perraud",
          "Tino Livramento",
          "Mohammed Salisu",
          "Armel Bella-Kotchap",
          "Juan Larios",
          "Duje Caleta-Car",
          "Matt Doherty",
          "Eric Dier",
          "Ben Davies",
          "Davinson Sánchez",
          "Ryan R.Sessegnon",
          "Sergio Reguilón",
          "Japhet Tanganga",
          "Joe Rodon",
          "Cristian Romero",
          "Emerson Emerson Royal",
          "Ivan Perišić",
          "Clément Lenglet",
          "Djed Spence",
          "Angelo Ogbonna",
          "Aaron Cresswell",
          "Craig Dawson",
          "Kurt Zouma",
          "Arthur Masuaku",
          "Vladimir Coufal",
          "Ben Johnson",
          "Nayef Aguerd",
          "Emerson Emerson",
          "Harrison Ashby",
          "Thilo Kehrer",
          "Jonathan Jonny",
          "Nélson Semedo",
          "Max Kilman",
          "Rayan Aït-Nouri",
          "Toti António Toti",
          "Yerson Mosquera",
          "Nathan Collins",
          "Hugo Bueno",
          "Dexter Lembikisa"
         ],
         "legendgroup": "Defender",
         "marker": {
          "color": "#636efa",
          "size": [
           0.75,
           1.35,
           1.6500000000000001,
           6.1499999999999995,
           2.55,
           4.949999999999999,
           0.75,
           0.75,
           5.85,
           4.949999999999999,
           0.75,
           0.75,
           4.050000000000001,
           0.75,
           7.050000000000001,
           1.9500000000000002,
           5.85,
           0.75,
           0.75,
           1.0499999999999998,
           1.0499999999999998,
           0.75,
           5.85,
           0.75,
           6.0,
           1.9500000000000002,
           0.75,
           1.0499999999999998,
           1.35,
           1.9500000000000002,
           1.9500000000000002,
           1.35,
           0.75,
           1.6500000000000001,
           0.75,
           1.0499999999999998,
           1.0499999999999998,
           4.35,
           5.25,
           5.550000000000001,
           1.0499999999999998,
           7.3500000000000005,
           0.75,
           0.75,
           0.75,
           7.3500000000000005,
           0.75,
           3.4499999999999997,
           0.75,
           4.65,
           1.0499999999999998,
           4.65,
           1.9500000000000002,
           0.75,
           0.75,
           1.0499999999999998,
           4.35,
           6.449999999999999,
           0.75,
           0.75,
           4.949999999999999,
           2.55,
           7.050000000000001,
           0.75,
           0.75,
           0.75,
           3.75,
           0.75,
           1.0499999999999998,
           0.75,
           0.75,
           5.550000000000001,
           0.75,
           6.0,
           0.30000000000000004,
           3.75,
           3.75,
           2.55,
           4.199999999999999,
           2.7,
           0.75,
           2.7,
           0.75,
           1.9500000000000002,
           0.75,
           4.35,
           0.75,
           1.9500000000000002,
           1.9500000000000002,
           0.75,
           1.0499999999999998,
           0.75,
           2.25,
           1.9500000000000002,
           0.75,
           0.75,
           0.75,
           0.75,
           7.800000000000001,
           0.75,
           0.75,
           3.0,
           5.699999999999999,
           4.800000000000001,
           3.4499999999999997,
           0.75,
           1.0499999999999998,
           0.75,
           0.75,
           0.75,
           0.75,
           0.75,
           2.25,
           2.25,
           0.75,
           0.75,
           3.75,
           1.0499999999999998,
           1.35,
           0.75,
           3.4499999999999997,
           5.550000000000001,
           0.75,
           1.0499999999999998,
           4.65,
           6.75,
           1.0499999999999998,
           0.75,
           1.35,
           0.75,
           6.75,
           2.25,
           4.050000000000001,
           6.1499999999999995,
           5.550000000000001,
           3.75,
           2.55,
           1.0499999999999998,
           0.75,
           0.75,
           0.75,
           0.75,
           0.75,
           0.75,
           1.5,
           6.300000000000001,
           1.5,
           4.5,
           2.7,
           1.0499999999999998,
           0.75,
           0.75,
           3.3000000000000003,
           0.75,
           4.050000000000001,
           0.75,
           4.949999999999999,
           3.3000000000000003,
           9.75,
           0.75,
           2.25,
           0.75,
           7.199999999999999,
           1.0499999999999998,
           0.75,
           4.800000000000001,
           3.4499999999999997,
           0.75,
           1.0499999999999998,
           0.75,
           0.75,
           14.25,
           10.649999999999999,
           0.44999999999999996,
           0.75,
           0.75,
           0.75,
           9.75,
           0.75,
           0.75,
           9.75,
           2.25,
           0.75,
           2.8499999999999996,
           0.75,
           5.550000000000001,
           0.75,
           0.75,
           0.75,
           0.75,
           6.1499999999999995,
           0.75,
           0.75,
           1.35,
           6.1499999999999995,
           0.75,
           9.45,
           3.1500000000000004,
           2.55,
           0.75,
           1.35,
           0.75,
           3.1500000000000004,
           1.35,
           0.75,
           2.25,
           4.949999999999999,
           2.7,
           1.7999999999999998,
           1.0499999999999998,
           1.5,
           0.75,
           1.0499999999999998,
           0.75,
           1.9500000000000002,
           3.0,
           4.199999999999999,
           4.050000000000001,
           1.0499999999999998,
           3.75,
           2.25,
           1.6500000000000001,
           4.050000000000001,
           0.75,
           3.75,
           1.0499999999999998,
           2.8499999999999996,
           2.8499999999999996,
           0.75,
           1.35,
           1.0499999999999998,
           5.85,
           4.65,
           3.75,
           1.6500000000000001,
           0.75,
           4.65,
           5.550000000000001,
           0.75
          ],
          "sizemode": "area",
          "sizeref": 0.036375,
          "symbol": "circle"
         },
         "mode": "markers",
         "name": "Defender",
         "orientation": "v",
         "showlegend": true,
         "type": "scatter",
         "x": [
          1.0,
          1.0,
          1.5,
          4.4,
          1.8,
          4.5,
          0.0,
          0.0,
          4.8,
          4.2,
          0.0,
          1.0,
          2.6,
          0.0,
          3.1,
          1.4,
          2.5,
          1.5,
          0.0,
          0.8,
          0.7,
          0.0,
          3.2,
          0.0,
          3.5,
          2.2,
          1.1,
          0.6,
          1.6,
          2.7,
          2.5,
          1.8,
          0.0,
          1.6,
          1.0,
          2.4,
          1.0,
          3.4,
          2.9,
          2.8,
          1.0,
          3.2,
          0.0,
          0.0,
          1.4,
          4.2,
          0.0,
          1.8,
          0.0,
          2.7,
          2.4,
          3.1,
          0.9,
          0.0,
          0.0,
          1.0,
          2.1,
          2.7,
          0.0,
          0.0,
          2.7,
          2.2,
          3.5,
          0.0,
          0.0,
          3.6,
          2.9,
          0.0,
          3.4,
          0.0,
          1.0,
          3.4,
          0.0,
          7.0,
          -0.3,
          2.6,
          1.6,
          2.7,
          2.3,
          2.4,
          0.0,
          1.7,
          0.0,
          2.2,
          1.0,
          4.3,
          3.0,
          1.2,
          2.4,
          0.0,
          1.8,
          0.0,
          2.3,
          3.2,
          1.0,
          0.0,
          0.0,
          1.0,
          3.0,
          0.0,
          0.0,
          2.1,
          2.9,
          2.4,
          3.1,
          1.2,
          0.5,
          0.0,
          1.2,
          0.0,
          0.0,
          0.0,
          2.7,
          3.7,
          2.0,
          3.2,
          1.8,
          1.0,
          2.9,
          0.0,
          2.3,
          2.0,
          0.0,
          2.0,
          1.8,
          3.3,
          1.0,
          0.0,
          1.9,
          1.0,
          4.0,
          1.1,
          3.4,
          3.6,
          2.9,
          3.0,
          1.8,
          1.9,
          0.0,
          0.0,
          0.0,
          0.0,
          1.5,
          0.0,
          2.6,
          3.9,
          4.3,
          2.9,
          3.4,
          3.2,
          0.0,
          0.0,
          1.6,
          1.4,
          3.1,
          0.0,
          3.2,
          1.9,
          4.1,
          0.0,
          2.0,
          0.0,
          3.9,
          3.6,
          0.0,
          3.0,
          2.7,
          0.0,
          1.0,
          0.0,
          0.0,
          7.0,
          4.3,
          0.8,
          0.0,
          1.0,
          1.0,
          5.1,
          2.3,
          1.0,
          4.7,
          1.8,
          1.7,
          1.9,
          0.0,
          2.1,
          0.0,
          0.0,
          0.0,
          1.0,
          4.3,
          3.5,
          0.0,
          1.9,
          2.2,
          0.0,
          4.2,
          2.0,
          1.1,
          0.0,
          2.5,
          0.0,
          1.6,
          1.5,
          0.8,
          1.9,
          2.9,
          3.1,
          3.1,
          1.8,
          2.1,
          0.0,
          1.0,
          0.0,
          2.2,
          2.4,
          3.0,
          1.9,
          1.0,
          2.4,
          2.3,
          2.0,
          3.9,
          0.0,
          2.1,
          2.1,
          2.2,
          1.4,
          0.0,
          2.3,
          2.5,
          1.7,
          2.7,
          2.2,
          1.6,
          0.0,
          2.5,
          2.4,
          1.0
         ],
         "xaxis": "x",
         "y": [
          4.2,
          4.2,
          4.7,
          4.7,
          4.2,
          5.2,
          4.5,
          4.5,
          5.3,
          5.0,
          4.0,
          4.2,
          4.6,
          4.4,
          4.3,
          4.6,
          4.4,
          4.7,
          3.9,
          4.2,
          4.3,
          4.0,
          4.4,
          4.0,
          4.5,
          4.4,
          4.4,
          4.3,
          4.4,
          4.3,
          4.4,
          4.3,
          4.4,
          4.5,
          4.0,
          4.2,
          5.0,
          4.5,
          4.5,
          4.3,
          4.5,
          4.4,
          3.9,
          4.0,
          4.9,
          4.7,
          4.0,
          4.0,
          4.0,
          4.7,
          4.5,
          4.6,
          4.2,
          4.0,
          4.0,
          4.0,
          4.4,
          4.5,
          4.0,
          4.0,
          5.2,
          4.8,
          5.4,
          5.3,
          3.9,
          5.8,
          4.6,
          5.0,
          5.7,
          4.4,
          4.3,
          5.5,
          4.5,
          5.0,
          3.9,
          4.5,
          4.5,
          4.5,
          4.4,
          4.4,
          3.9,
          4.4,
          4.0,
          4.4,
          4.2,
          4.3,
          4.3,
          4.3,
          4.3,
          4.0,
          4.0,
          4.0,
          4.3,
          5.0,
          4.3,
          4.0,
          4.0,
          4.3,
          4.5,
          4.4,
          3.9,
          4.5,
          4.4,
          4.4,
          4.3,
          4.3,
          4.3,
          4.0,
          4.4,
          3.9,
          3.9,
          4.3,
          4.2,
          4.6,
          4.2,
          4.2,
          4.2,
          3.9,
          4.3,
          4.0,
          4.4,
          4.5,
          4.9,
          4.4,
          4.5,
          4.5,
          4.5,
          3.9,
          4.8,
          4.0,
          4.5,
          5.9,
          6.5,
          6.8,
          7.3,
          4.3,
          4.8,
          4.4,
          3.9,
          4.0,
          4.0,
          4.0,
          3.9,
          4.0,
          4.8,
          5.4,
          7.1,
          5.0,
          5.7,
          5.9,
          3.9,
          3.8,
          3.9,
          4.5,
          5.0,
          3.9,
          4.8,
          4.7,
          5.2,
          5.0,
          4.2,
          4.0,
          4.3,
          4.7,
          3.8,
          4.2,
          4.5,
          4.0,
          4.2,
          4.4,
          4.5,
          6.0,
          4.6,
          4.3,
          3.9,
          4.2,
          4.3,
          5.1,
          4.8,
          4.4,
          4.5,
          4.0,
          4.4,
          4.4,
          4.0,
          4.2,
          4.0,
          4.5,
          4.2,
          4.2,
          4.2,
          4.3,
          4.4,
          4.3,
          4.3,
          4.5,
          4.5,
          4.4,
          4.4,
          4.0,
          4.2,
          4.4,
          4.4,
          4.5,
          4.0,
          4.5,
          4.6,
          5.1,
          4.8,
          4.3,
          4.5,
          4.2,
          3.9,
          4.0,
          4.9,
          4.9,
          5.5,
          4.8,
          4.1,
          4.4,
          4.8,
          4.8,
          4.4,
          4.5,
          4.1,
          4.4,
          4.8,
          4.0,
          3.9,
          4.4,
          4.3,
          5.0,
          4.4,
          4.2,
          3.9,
          3.9,
          4.4,
          3.9,
          4.0
         ],
         "yaxis": "y"
        },
        {
         "customdata": [
          [
           "Arsenal"
          ],
          [
           "Arsenal"
          ],
          [
           "Arsenal"
          ],
          [
           "Arsenal"
          ],
          [
           "Arsenal"
          ],
          [
           "Arsenal"
          ],
          [
           "Arsenal"
          ],
          [
           "Arsenal"
          ],
          [
           "Arsenal"
          ],
          [
           "Arsenal"
          ],
          [
           "Arsenal"
          ],
          [
           "Arsenal"
          ],
          [
           "Arsenal"
          ],
          [
           "Arsenal"
          ],
          [
           "Arsenal"
          ],
          [
           "Arsenal"
          ],
          [
           "Arsenal"
          ],
          [
           "Aston Villa"
          ],
          [
           "Aston Villa"
          ],
          [
           "Aston Villa"
          ],
          [
           "Aston Villa"
          ],
          [
           "Aston Villa"
          ],
          [
           "Aston Villa"
          ],
          [
           "Aston Villa"
          ],
          [
           "Aston Villa"
          ],
          [
           "Aston Villa"
          ],
          [
           "Aston Villa"
          ],
          [
           "Aston Villa"
          ],
          [
           "Aston Villa"
          ],
          [
           "Aston Villa"
          ],
          [
           "Aston Villa"
          ],
          [
           "Aston Villa"
          ],
          [
           "Bournemouth"
          ],
          [
           "Bournemouth"
          ],
          [
           "Bournemouth"
          ],
          [
           "Bournemouth"
          ],
          [
           "Bournemouth"
          ],
          [
           "Bournemouth"
          ],
          [
           "Bournemouth"
          ],
          [
           "Bournemouth"
          ],
          [
           "Bournemouth"
          ],
          [
           "Bournemouth"
          ],
          [
           "Bournemouth"
          ],
          [
           "Bournemouth"
          ],
          [
           "Bournemouth"
          ],
          [
           "Bournemouth"
          ],
          [
           "Bournemouth"
          ],
          [
           "Brentford"
          ],
          [
           "Brentford"
          ],
          [
           "Brentford"
          ],
          [
           "Brentford"
          ],
          [
           "Brentford"
          ],
          [
           "Brentford"
          ],
          [
           "Brentford"
          ],
          [
           "Brentford"
          ],
          [
           "Brentford"
          ],
          [
           "Brentford"
          ],
          [
           "Brentford"
          ],
          [
           "Brentford"
          ],
          [
           "Brentford"
          ],
          [
           "Brentford"
          ],
          [
           "Brighton"
          ],
          [
           "Brighton"
          ],
          [
           "Brighton"
          ],
          [
           "Brighton"
          ],
          [
           "Brighton"
          ],
          [
           "Brighton"
          ],
          [
           "Brighton"
          ],
          [
           "Brighton"
          ],
          [
           "Brighton"
          ],
          [
           "Brighton"
          ],
          [
           "Brighton"
          ],
          [
           "Brighton"
          ],
          [
           "Brighton"
          ],
          [
           "Brighton"
          ],
          [
           "Brighton"
          ],
          [
           "Brighton"
          ],
          [
           "Chelsea"
          ],
          [
           "Chelsea"
          ],
          [
           "Chelsea"
          ],
          [
           "Chelsea"
          ],
          [
           "Chelsea"
          ],
          [
           "Chelsea"
          ],
          [
           "Chelsea"
          ],
          [
           "Chelsea"
          ],
          [
           "Chelsea"
          ],
          [
           "Chelsea"
          ],
          [
           "Chelsea"
          ],
          [
           "Chelsea"
          ],
          [
           "Chelsea"
          ],
          [
           "Chelsea"
          ],
          [
           "Chelsea"
          ],
          [
           "Chelsea"
          ],
          [
           "Chelsea"
          ],
          [
           "Chelsea"
          ],
          [
           "Crystal Palace"
          ],
          [
           "Crystal Palace"
          ],
          [
           "Crystal Palace"
          ],
          [
           "Crystal Palace"
          ],
          [
           "Crystal Palace"
          ],
          [
           "Crystal Palace"
          ],
          [
           "Crystal Palace"
          ],
          [
           "Crystal Palace"
          ],
          [
           "Crystal Palace"
          ],
          [
           "Crystal Palace"
          ],
          [
           "Crystal Palace"
          ],
          [
           "Crystal Palace"
          ],
          [
           "Crystal Palace"
          ],
          [
           "Crystal Palace"
          ],
          [
           "Crystal Palace"
          ],
          [
           "Crystal Palace"
          ],
          [
           "Everton"
          ],
          [
           "Everton"
          ],
          [
           "Everton"
          ],
          [
           "Everton"
          ],
          [
           "Everton"
          ],
          [
           "Everton"
          ],
          [
           "Everton"
          ],
          [
           "Everton"
          ],
          [
           "Everton"
          ],
          [
           "Everton"
          ],
          [
           "Everton"
          ],
          [
           "Everton"
          ],
          [
           "Everton"
          ],
          [
           "Everton"
          ],
          [
           "Everton"
          ],
          [
           "Everton"
          ],
          [
           "Everton"
          ],
          [
           "Fulham"
          ],
          [
           "Fulham"
          ],
          [
           "Fulham"
          ],
          [
           "Fulham"
          ],
          [
           "Fulham"
          ],
          [
           "Fulham"
          ],
          [
           "Fulham"
          ],
          [
           "Fulham"
          ],
          [
           "Fulham"
          ],
          [
           "Fulham"
          ],
          [
           "Fulham"
          ],
          [
           "Fulham"
          ],
          [
           "Fulham"
          ],
          [
           "Fulham"
          ],
          [
           "Fulham"
          ],
          [
           "Fulham"
          ],
          [
           "Fulham"
          ],
          [
           "Fulham"
          ],
          [
           "Leicester"
          ],
          [
           "Leicester"
          ],
          [
           "Leicester"
          ],
          [
           "Leicester"
          ],
          [
           "Leicester"
          ],
          [
           "Leicester"
          ],
          [
           "Leicester"
          ],
          [
           "Leicester"
          ],
          [
           "Leicester"
          ],
          [
           "Leicester"
          ],
          [
           "Leicester"
          ],
          [
           "Leicester"
          ],
          [
           "Leicester"
          ],
          [
           "Leeds"
          ],
          [
           "Leeds"
          ],
          [
           "Leeds"
          ],
          [
           "Leeds"
          ],
          [
           "Leeds"
          ],
          [
           "Leeds"
          ],
          [
           "Leeds"
          ],
          [
           "Leeds"
          ],
          [
           "Leeds"
          ],
          [
           "Leeds"
          ],
          [
           "Leeds"
          ],
          [
           "Leeds"
          ],
          [
           "Leeds"
          ],
          [
           "Leeds"
          ],
          [
           "Leeds"
          ],
          [
           "Liverpool"
          ],
          [
           "Liverpool"
          ],
          [
           "Liverpool"
          ],
          [
           "Liverpool"
          ],
          [
           "Liverpool"
          ],
          [
           "Liverpool"
          ],
          [
           "Liverpool"
          ],
          [
           "Liverpool"
          ],
          [
           "Liverpool"
          ],
          [
           "Liverpool"
          ],
          [
           "Liverpool"
          ],
          [
           "Liverpool"
          ],
          [
           "Liverpool"
          ],
          [
           "Liverpool"
          ],
          [
           "Liverpool"
          ],
          [
           "Liverpool"
          ],
          [
           "Man City"
          ],
          [
           "Man City"
          ],
          [
           "Man City"
          ],
          [
           "Man City"
          ],
          [
           "Man City"
          ],
          [
           "Man City"
          ],
          [
           "Man City"
          ],
          [
           "Man City"
          ],
          [
           "Man City"
          ],
          [
           "Man City"
          ],
          [
           "Man City"
          ],
          [
           "Man City"
          ],
          [
           "Man Utd"
          ],
          [
           "Man Utd"
          ],
          [
           "Man Utd"
          ],
          [
           "Man Utd"
          ],
          [
           "Man Utd"
          ],
          [
           "Man Utd"
          ],
          [
           "Man Utd"
          ],
          [
           "Man Utd"
          ],
          [
           "Man Utd"
          ],
          [
           "Man Utd"
          ],
          [
           "Man Utd"
          ],
          [
           "Man Utd"
          ],
          [
           "Man Utd"
          ],
          [
           "Man Utd"
          ],
          [
           "Man Utd"
          ],
          [
           "Newcastle"
          ],
          [
           "Newcastle"
          ],
          [
           "Newcastle"
          ],
          [
           "Newcastle"
          ],
          [
           "Newcastle"
          ],
          [
           "Newcastle"
          ],
          [
           "Newcastle"
          ],
          [
           "Newcastle"
          ],
          [
           "Newcastle"
          ],
          [
           "Newcastle"
          ],
          [
           "Newcastle"
          ],
          [
           "Newcastle"
          ],
          [
           "Nott'm Forest"
          ],
          [
           "Nott'm Forest"
          ],
          [
           "Nott'm Forest"
          ],
          [
           "Nott'm Forest"
          ],
          [
           "Nott'm Forest"
          ],
          [
           "Nott'm Forest"
          ],
          [
           "Nott'm Forest"
          ],
          [
           "Nott'm Forest"
          ],
          [
           "Nott'm Forest"
          ],
          [
           "Nott'm Forest"
          ],
          [
           "Nott'm Forest"
          ],
          [
           "Nott'm Forest"
          ],
          [
           "Nott'm Forest"
          ],
          [
           "Nott'm Forest"
          ],
          [
           "Nott'm Forest"
          ],
          [
           "Nott'm Forest"
          ],
          [
           "Nott'm Forest"
          ],
          [
           "Southampton"
          ],
          [
           "Southampton"
          ],
          [
           "Southampton"
          ],
          [
           "Southampton"
          ],
          [
           "Southampton"
          ],
          [
           "Southampton"
          ],
          [
           "Southampton"
          ],
          [
           "Southampton"
          ],
          [
           "Southampton"
          ],
          [
           "Southampton"
          ],
          [
           "Southampton"
          ],
          [
           "Southampton"
          ],
          [
           "Southampton"
          ],
          [
           "Southampton"
          ],
          [
           "Southampton"
          ],
          [
           "Southampton"
          ],
          [
           "Southampton"
          ],
          [
           "Southampton"
          ],
          [
           "Spurs"
          ],
          [
           "Spurs"
          ],
          [
           "Spurs"
          ],
          [
           "Spurs"
          ],
          [
           "Spurs"
          ],
          [
           "Spurs"
          ],
          [
           "Spurs"
          ],
          [
           "Spurs"
          ],
          [
           "Spurs"
          ],
          [
           "Spurs"
          ],
          [
           "Spurs"
          ],
          [
           "Spurs"
          ],
          [
           "Spurs"
          ],
          [
           "West Ham"
          ],
          [
           "West Ham"
          ],
          [
           "West Ham"
          ],
          [
           "West Ham"
          ],
          [
           "West Ham"
          ],
          [
           "West Ham"
          ],
          [
           "West Ham"
          ],
          [
           "West Ham"
          ],
          [
           "West Ham"
          ],
          [
           "West Ham"
          ],
          [
           "West Ham"
          ],
          [
           "West Ham"
          ],
          [
           "Wolves"
          ],
          [
           "Wolves"
          ],
          [
           "Wolves"
          ],
          [
           "Wolves"
          ],
          [
           "Wolves"
          ],
          [
           "Wolves"
          ],
          [
           "Wolves"
          ],
          [
           "Wolves"
          ],
          [
           "Wolves"
          ],
          [
           "Wolves"
          ],
          [
           "Wolves"
          ],
          [
           "Wolves"
          ],
          [
           "Wolves"
          ],
          [
           "Wolves"
          ],
          [
           "Wolves"
          ],
          [
           "Wolves"
          ],
          [
           "Wolves"
          ]
         ],
         "hovertemplate": "<b>%{hovertext}</b><br><br>Player Type=Midfielder<br>points_per_game=%{x}<br>now_cost=%{y}<br>size=%{marker.size}<br>team_name=%{customdata[0]}<extra></extra>",
         "hovertext": [
          "Granit Xhaka",
          "Mohamed Elneny",
          "Thomas Partey",
          "Martin Ødegaard",
          "Nicolas Pépé",
          "Emile Smith Rowe",
          "Bukayo Saka",
          "Albert Sambi",
          "Gabriel Martinelli",
          "Lucas Torreira",
          "Reiss Nelson",
          "Fábio Fábio Vieira",
          "Marcus Marquinhos",
          "Leandro Trossard",
          "Matthew Smith",
          "Ethan Nwaneri",
          "Amario Cozier-Duberry",
          "Philippe Coutinho",
          "Bertrand Traoré",
          "Morgan Sanson",
          "John McGinn",
          "Marvelous Nakamba",
          "Emiliano Buendía",
          "Leon Bailey",
          "Douglas Luiz Douglas Luiz",
          "Jacob Ramsey",
          "Tim Iroegbunam",
          "Anwar El Ghazi",
          "Boubacar Kamara",
          "Jaden Philogene-Bidace",
          "Leander Dendoncker",
          "Kadan Kadan Young",
          "Junior Stanislas",
          "David Brooks",
          "Jamal Lowe",
          "Emiliano Marcondes",
          "Jefferson Lerma",
          "Lewis Cook",
          "Ben Pearson",
          "Ryan Christie",
          "Philip Billing",
          "Siriki Dembélé",
          "Jaidon Anthony",
          "Joe Rothwell",
          "Marcus Tavernier",
          "Michael Dacosta Gonzalez",
          "Dango Ouattara",
          "Christian Nørgaard",
          "Josh Dasilva",
          "Vitaly Janelt",
          "Saman Ghoddos",
          "Mathias Jensen",
          "Yoane Wissa",
          "Frank Onyeka",
          "Shandon Baptiste",
          "Mads Bidstrup",
          "Keane Lewis-Potter",
          "Mikkel Damsgaard",
          "Ryan Trevitt",
          "Yegor Yarmolyuk",
          "Kevin Schade",
          "Adam Lallana",
          "Pascal Groß",
          "Solly March",
          "Steven Alzate",
          "Alexis Mac Allister",
          "Jakub Moder",
          "Enock Mwepu",
          "Jeremy Sarmiento",
          "Moisés Caicedo",
          "Taylor Richards",
          "Kaoru Mitoma",
          "Kacper Kozłowski",
          "Billy Gilmour",
          "Andrew Moran",
          "Jack Hinshelwood",
          "Facundo Buonanotte",
          "Carney Chukwuemeka",
          "Jorge Luiz Jorginho",
          "Ross Barkley",
          "Mateo Kovacic",
          "N'Golo Kanté",
          "Hakim Ziyech",
          "Ruben Loftus-Cheek",
          "Christian Pulisic",
          "Mason Mount",
          "Callum Hudson-Odoi",
          "Conor Gallagher",
          "Raheem Sterling",
          "Harvey Vale",
          "Denis Zakaria",
          "Omari Hutchinson",
          "Lewis Hall",
          "Mykhailo Mudryk",
          "Andrey Andrey Santos",
          "James McArthur",
          "Luka Milivojevic",
          "Jordan Ayew",
          "Wilfried Zaha",
          "Jeffrey Schlupp",
          "Will Hughes",
          "Jairo Riedewald",
          "Eberechi Eze",
          "Michael Olise",
          "Jesurun Rak-Sakyi",
          "Malcolm Ebiowei",
          "Cheick C.Doucouré",
          "Kaden Rodney",
          "Killian Phillips",
          "Jack Wells-Morrison",
          "David Ozoh",
          "Andros Townsend",
          "Dele Dele",
          "Allan Allan",
          "André André Gomes",
          "Abdoulaye A.Doucouré",
          "Alex Iwobi",
          "Jean-Philippe Gbamin",
          "Demarai Gray",
          "Tom Davies",
          "Anthony Gordon",
          "Dwight McNeil",
          "Stanley Mills",
          "Lewis Warrington",
          "James Garner",
          "Amadou Onana",
          "Idrissa Gueye",
          "Isaac Price",
          "Tom Cairney",
          "Anthony Knockaert",
          "Nathaniel Chalobah",
          "Neeskens Kebano",
          "Bobby De Cordova-Reid",
          "Harrison Reed",
          "Harry Wilson",
          "Ivan Cavaleiro",
          "Josh Onomah",
          "João Palhinha",
          "Daniel James",
          "Andreas Andreas",
          "Tyrese Francois",
          "Luke Harris",
          "Manor Solomon",
          "Willian Willian",
          "Martial Godo",
          "Kristian Sekularac",
          "Marc Albrighton",
          "Nampalys Mendy",
          "Youri Tielemans",
          "Ayoze Pérez",
          "James Maddison",
          "Hamza Choudhury",
          "Harvey Barnes",
          "Wilfred Ndidi",
          "Kiernan Dewsbury-Hall",
          "Boubakary Soumaré",
          "Dennis Praet",
          "Sammy Braybrooke",
          "Kasey McAteer",
          "Mateusz Klich",
          "Adam Forshaw",
          "Rodrigo Rodrigo",
          "Tyler Roberts",
          "Raphael Raphinha",
          "Jack Harrison",
          "Jamie Shackleton",
          "Crysencio Summerville",
          "Lewis Bate",
          "Marc Roca",
          "Brenden Aaronson",
          "Darko Gyabi",
          "Tyler Adams",
          "Luis Sinisterra",
          "Archie Gray",
          "James Milner",
          "Jordan Henderson",
          "Thiago Thiago",
          "Alex Chamberlain",
          "Fabio Henrique Fabinho",
          "Mohamed Salah",
          "Naby Keita",
          "Curtis Jones",
          "Luis Luis Díaz",
          "Harvey Elliott",
          "Fábio Carvalho",
          "Stefan Bajcetic",
          "Bobby Clark",
          "Arthur Henrique Arthur",
          "Ben Doak",
          "Cody Gakpo",
          "Ilkay Gündogan",
          "Kevin De Bruyne",
          "Riyad Mahrez",
          "Jack Grealish",
          "Bernardo Bernardo",
          "Phil Foden",
          "Rodrigo Rodri",
          "Cole Palmer",
          "James McAtee",
          "Kalvin Phillips",
          "Claudio Gomes",
          "Ben Knight",
          "Frederico Fred",
          "Bruno Fernandes",
          "Marcus Rashford",
          "Donny Van de Beek",
          "Scott McTominay",
          "Jadon Sancho",
          "Anthony Elanga",
          "Facundo Pellistri",
          "Christian Eriksen",
          "Amad Amad",
          "Zidane Iqbal",
          "Alejandro Garnacho",
          "Carlos Henrique Casemiro",
          "Antony Matheus Antony",
          "Kobbie Mainoo",
          "Jonjo Shelvey",
          "Ryan Fraser",
          "Jacob Murphy",
          "Allan Saint-Maximin",
          "Miguel Almirón",
          "Sean S.Longstaff",
          "Joelinton Cássio Joelinton",
          "Joe Willock",
          "Bruno Bruno Guimarães",
          "Jeff Hendrick",
          "Elliot Anderson",
          "Garang Kuol",
          "Harry Arter",
          "Jack Colback",
          "Carlos Cafú",
          "Joe Lolley",
          "Ryan Yates",
          "Xande Xande Silva",
          "Alex Mighten",
          "Braian Ojeda",
          "Morgan Gibbs-White",
          "Lewis O'Brien",
          "Jesse Lingard",
          "Orel Mangala",
          "Oliver Hammond",
          "Remo Freuler",
          "Cheikhou Kouyaté",
          "Gustavo Henrique Scarpa",
          "Danilo Danilo",
          "Ainsley Maitland-Niles",
          "Roméo Lavia",
          "Theo Walcott",
          "Oriol Romeu",
          "Nathan Redmond",
          "Stuart S.Armstrong",
          "Mohamed Elyounoussi",
          "James Ward-Prowse",
          "Nathan Tella",
          "Will Smallbone",
          "Ibrahima Diallo",
          "Moussa Djenepo",
          "Joe Aribo",
          "Samuel Edozie",
          "Lewis Payne",
          "Ryan Finnigan",
          "Mislav Orsic",
          "Carlos Alcaraz",
          "Son Son",
          "Lucas Lucas Moura",
          "Pierre-Emile Højbjerg",
          "Harry Winks",
          "Steven Bergwijn",
          "Rodrigo Bentancur",
          "Oliver Skipp",
          "Yves Bissouma",
          "Dejan Kulusevski",
          "Harvey White",
          "Pape Matar Sarr",
          "Alfie Devine",
          "Bryan Bryan",
          "Manuel Lanzini",
          "Saïd Benrahma",
          "Jarrod Bowen",
          "Nikola Vlasic",
          "Declan Rice",
          "Tomas Soucek",
          "Pablo Fornals",
          "Flynn Downes",
          "Conor Coventry",
          "Armstrong Oko-Flex",
          "Maxwel Cornet",
          "Lucas Paquetá",
          "Rúben Neves",
          "Hwang Hwang",
          "Daniel Podence",
          "Luke Cundle",
          "Pedro Neto",
          "Francisco Jorge Chiquinho",
          "Adama Adama",
          "João Filipe Iria Moutinho",
          "Joseph Hodge",
          "Connor Ronan",
          "Chem Campbell",
          "Gonçalo Manuel Guedes",
          "Matheus Luiz Matheus",
          "Boubacar Traoré",
          "Harvey Griffiths",
          "Mario Lemina",
          "Pablo Sarabia"
         ],
         "legendgroup": "Midfielder",
         "marker": {
          "color": "#EF553B",
          "size": [
           5.85,
           1.35,
           4.050000000000001,
           12.75,
           0.75,
           1.0499999999999998,
           10.649999999999999,
           0.75,
           8.25,
           0.75,
           0.75,
           1.35,
           0.75,
           1.9500000000000002,
           0.75,
           0.75,
           0.75,
           1.9500000000000002,
           0.75,
           1.0499999999999998,
           3.1500000000000004,
           0.75,
           9.149999999999999,
           7.3500000000000005,
           8.25,
           2.55,
           0.75,
           0.75,
           4.949999999999999,
           0.75,
           1.6500000000000001,
           0.75,
           0.75,
           0.75,
           1.0499999999999998,
           0.75,
           3.75,
           2.8499999999999996,
           1.35,
           3.1500000000000004,
           2.55,
           2.25,
           5.550000000000001,
           2.55,
           0.75,
           0.75,
           8.25,
           7.6499999999999995,
           5.85,
           5.25,
           1.6500000000000001,
           7.6499999999999995,
           4.65,
           0.75,
           0.75,
           0.75,
           1.35,
           1.0499999999999998,
           0.75,
           0.75,
           1.5,
           5.550000000000001,
           7.050000000000001,
           14.549999999999999,
           0.75,
           2.25,
           0.75,
           0.75,
           3.1500000000000004,
           4.050000000000001,
           0.75,
           10.649999999999999,
           0.75,
           1.35,
           1.0499999999999998,
           0.75,
           0.75,
           2.7,
           3.4499999999999997,
           0.75,
           1.9500000000000002,
           0.75,
           4.050000000000001,
           0.75,
           2.25,
           6.300000000000001,
           0.75,
           2.7,
           4.800000000000001,
           0.75,
           3.0,
           1.0499999999999998,
           2.25,
           2.25,
           0.75,
           0.75,
           1.2000000000000002,
           5.699999999999999,
           4.199999999999999,
           4.5,
           1.7999999999999998,
           1.0499999999999998,
           4.800000000000001,
           7.5,
           0.75,
           0.75,
           3.75,
           0.75,
           0.75,
           0.75,
           1.0499999999999998,
           0.75,
           0.75,
           0.75,
           0.75,
           1.35,
           4.35,
           0.75,
           7.949999999999999,
           1.6500000000000001,
           1.6500000000000001,
           2.55,
           0.75,
           0.75,
           0.75,
           4.949999999999999,
           4.949999999999999,
           0.75,
           1.7999999999999998,
           0.75,
           1.0499999999999998,
           0.75,
           5.25,
           3.75,
           1.7999999999999998,
           0.75,
           0.75,
           5.550000000000001,
           1.7999999999999998,
           4.5,
           0.75,
           1.0499999999999998,
           1.0499999999999998,
           7.199999999999999,
           0.75,
           0.75,
           3.75,
           2.25,
           4.050000000000001,
           2.55,
           1.0499999999999998,
           0.75,
           5.25,
           2.25,
           4.65,
           1.9500000000000002,
           1.6500000000000001,
           0.75,
           0.75,
           1.35,
           1.6500000000000001,
           5.25,
           0.75,
           0.75,
           4.35,
           0.75,
           2.25,
           0.75,
           3.4499999999999997,
           4.35,
           1.0499999999999998,
           4.050000000000001,
           1.0499999999999998,
           0.75,
           1.35,
           2.55,
           3.75,
           5.25,
           2.8499999999999996,
           7.050000000000001,
           2.8499999999999996,
           1.0499999999999998,
           0.75,
           2.8499999999999996,
           0.75,
           3.4499999999999997,
           0.75,
           0.75,
           1.35,
           3.3000000000000003,
           4.199999999999999,
           4.949999999999999,
           12.0,
           7.199999999999999,
           2.25,
           1.7999999999999998,
           6.300000000000001,
           1.0499999999999998,
           0.75,
           1.2000000000000002,
           0.75,
           0.75,
           3.3000000000000003,
           10.5,
           12.299999999999999,
           1.5,
           1.7999999999999998,
           0.75,
           1.5,
           0.75,
           6.75,
           0.75,
           0.75,
           3.4499999999999997,
           7.5,
           3.4499999999999997,
           0.75,
           0.75,
           0.75,
           2.25,
           2.25,
           6.449999999999999,
           5.25,
           7.6499999999999995,
           5.25,
           4.949999999999999,
           0.75,
           1.0499999999999998,
           0.75,
           0.75,
           1.6500000000000001,
           0.75,
           0.75,
           3.1500000000000004,
           0.75,
           0.75,
           0.75,
           5.85,
           1.35,
           1.0499999999999998,
           3.1500000000000004,
           0.75,
           4.050000000000001,
           0.75,
           1.7999999999999998,
           2.25,
           1.9500000000000002,
           2.8499999999999996,
           0.75,
           0.75,
           0.75,
           1.35,
           3.1500000000000004,
           10.05,
           0.75,
           0.75,
           1.9500000000000002,
           1.35,
           1.6500000000000001,
           3.75,
           0.75,
           0.75,
           1.5,
           1.5,
           4.800000000000001,
           0.75,
           5.25,
           0.75,
           0.75,
           1.2000000000000002,
           1.5,
           1.7999999999999998,
           4.050000000000001,
           1.0499999999999998,
           1.5,
           0.75,
           2.7,
           0.75,
           4.949999999999999,
           9.45,
           0.75,
           3.75,
           2.8499999999999996,
           2.25,
           1.35,
           0.75,
           0.75,
           0.75,
           5.550000000000001,
           3.75,
           2.8499999999999996,
           7.949999999999999,
           0.75,
           0.75,
           0.75,
           2.25,
           5.550000000000001,
           1.35,
           0.75,
           0.75,
           1.0499999999999998,
           3.75,
           0.75,
           0.75,
           2.25,
           2.25
          ],
          "sizemode": "area",
          "sizeref": 0.036375,
          "symbol": "circle"
         },
         "mode": "markers",
         "name": "Midfielder",
         "orientation": "v",
         "showlegend": true,
         "type": "scatter",
         "x": [
          4.2,
          1.2,
          3.3,
          6.5,
          0.0,
          1.0,
          5.7,
          1.3,
          5.4,
          0.0,
          10.0,
          2.4,
          1.0,
          4.9,
          0.0,
          1.0,
          0.0,
          1.3,
          0.0,
          1.0,
          2.1,
          0.0,
          2.9,
          3.7,
          3.3,
          3.1,
          0.0,
          0.0,
          2.0,
          0.0,
          1.5,
          0.0,
          1.0,
          0.0,
          1.0,
          1.0,
          2.5,
          2.3,
          1.3,
          1.9,
          3.4,
          1.0,
          2.5,
          1.3,
          4.1,
          0.0,
          5.0,
          3.9,
          2.5,
          2.6,
          1.0,
          3.5,
          2.9,
          1.5,
          1.5,
          0.0,
          1.4,
          1.0,
          0.0,
          0.0,
          1.0,
          2.9,
          4.7,
          4.7,
          0.0,
          3.9,
          0.0,
          1.8,
          1.7,
          2.4,
          0.0,
          4.0,
          0.0,
          1.0,
          1.0,
          0.0,
          0.0,
          1.4,
          2.7,
          0.0,
          1.7,
          2.5,
          1.9,
          1.8,
          1.8,
          3.9,
          0.0,
          1.7,
          4.1,
          0.0,
          2.2,
          1.0,
          1.6,
          1.0,
          0.0,
          0.0,
          1.3,
          2.4,
          4.1,
          2.1,
          0.9,
          1.0,
          3.8,
          3.4,
          0.0,
          1.0,
          2.1,
          0.0,
          0.0,
          0.0,
          1.0,
          0.0,
          1.0,
          0.0,
          0.0,
          1.0,
          3.5,
          0.0,
          3.2,
          1.1,
          2.7,
          2.2,
          0.0,
          0.0,
          0.8,
          2.6,
          2.1,
          0.0,
          1.1,
          0.0,
          0.2,
          2.9,
          3.3,
          2.9,
          1.5,
          0.0,
          1.0,
          3.0,
          1.6,
          3.8,
          1.0,
          1.0,
          1.0,
          4.2,
          0.0,
          0.0,
          2.2,
          1.2,
          3.2,
          2.4,
          5.6,
          0.0,
          4.2,
          1.4,
          3.5,
          1.8,
          1.6,
          0.0,
          0.0,
          0.9,
          1.2,
          5.1,
          0.0,
          0.0,
          3.4,
          0.0,
          3.8,
          0.0,
          2.1,
          2.8,
          1.0,
          2.0,
          2.3,
          0.0,
          1.7,
          1.6,
          1.8,
          2.6,
          1.8,
          5.4,
          1.4,
          1.0,
          4.9,
          2.2,
          2.3,
          2.5,
          1.0,
          0.0,
          1.0,
          2.5,
          3.5,
          5.6,
          4.5,
          3.8,
          3.7,
          4.4,
          3.2,
          0.9,
          0.0,
          1.0,
          0.0,
          0.0,
          1.9,
          4.6,
          5.4,
          1.1,
          1.2,
          4.0,
          1.5,
          0.0,
          3.9,
          0.0,
          0.0,
          2.1,
          3.6,
          3.5,
          0.0,
          1.0,
          1.4,
          1.8,
          3.2,
          5.6,
          2.8,
          3.3,
          3.5,
          3.9,
          0.0,
          1.0,
          0.0,
          0.0,
          1.1,
          1.0,
          0.0,
          2.1,
          0.0,
          1.0,
          0.0,
          3.8,
          1.7,
          2.1,
          1.6,
          0.0,
          2.0,
          2.2,
          0.7,
          1.0,
          1.4,
          2.0,
          1.0,
          2.0,
          1.0,
          1.6,
          1.8,
          3.8,
          0.0,
          0.0,
          1.2,
          1.7,
          2.3,
          1.4,
          0.0,
          0.0,
          1.0,
          1.0,
          3.8,
          1.0,
          4.0,
          0.0,
          0.0,
          4.1,
          1.1,
          1.2,
          4.5,
          1.0,
          1.0,
          0.0,
          2.2,
          1.0,
          2.7,
          3.8,
          0.0,
          2.8,
          2.5,
          2.2,
          1.5,
          1.0,
          0.0,
          1.0,
          3.0,
          3.5,
          1.4,
          3.4,
          0.0,
          2.2,
          0.0,
          1.9,
          2.2,
          0.8,
          1.0,
          1.0,
          2.2,
          2.3,
          1.5,
          0.0,
          1.0,
          1.0
         ],
         "xaxis": "x",
         "y": [
          5.0,
          4.1,
          4.8,
          6.9,
          5.3,
          5.6,
          8.2,
          4.3,
          6.7,
          4.5,
          4.7,
          5.7,
          4.6,
          6.7,
          4.5,
          4.5,
          4.5,
          6.6,
          4.9,
          4.3,
          5.1,
          4.3,
          5.7,
          4.5,
          4.8,
          5.2,
          4.5,
          4.8,
          4.8,
          4.5,
          4.7,
          4.5,
          4.8,
          5.3,
          5.2,
          4.7,
          4.8,
          4.9,
          4.4,
          5.3,
          5.2,
          4.7,
          5.2,
          4.9,
          4.7,
          4.5,
          5.0,
          5.3,
          4.2,
          5.5,
          4.8,
          4.8,
          5.3,
          4.8,
          4.5,
          4.5,
          5.2,
          5.1,
          4.5,
          4.5,
          5.0,
          4.9,
          5.6,
          5.1,
          4.4,
          5.4,
          4.4,
          5.3,
          4.5,
          5.0,
          4.5,
          5.1,
          4.5,
          4.3,
          4.5,
          4.5,
          4.5,
          4.3,
          5.8,
          4.9,
          4.9,
          4.8,
          5.5,
          5.0,
          5.7,
          7.5,
          5.3,
          5.7,
          9.7,
          4.5,
          5.0,
          4.4,
          4.4,
          7.0,
          4.5,
          4.8,
          4.3,
          5.3,
          7.3,
          4.7,
          4.8,
          4.3,
          5.6,
          5.4,
          4.5,
          4.2,
          5.0,
          4.5,
          4.5,
          4.5,
          4.5,
          5.4,
          5.3,
          4.8,
          4.5,
          5.3,
          5.4,
          4.5,
          5.3,
          4.9,
          5.2,
          5.2,
          4.4,
          4.4,
          4.5,
          4.8,
          4.9,
          4.5,
          4.7,
          4.7,
          4.4,
          5.4,
          5.5,
          4.5,
          5.7,
          4.8,
          4.3,
          5.0,
          6.0,
          4.5,
          4.4,
          4.4,
          4.9,
          5.5,
          4.5,
          4.5,
          4.7,
          4.3,
          6.2,
          4.7,
          8.0,
          4.5,
          6.7,
          4.8,
          4.9,
          4.4,
          4.8,
          4.5,
          4.5,
          4.6,
          4.4,
          6.4,
          5.0,
          7.0,
          5.8,
          4.5,
          4.2,
          4.5,
          4.8,
          5.4,
          4.3,
          4.9,
          6.5,
          4.5,
          4.4,
          5.3,
          5.2,
          4.9,
          5.3,
          12.8,
          4.7,
          4.9,
          7.8,
          4.9,
          5.2,
          4.4,
          4.5,
          4.8,
          4.5,
          7.9,
          7.3,
          12.5,
          7.6,
          6.8,
          6.8,
          8.1,
          5.6,
          4.3,
          4.5,
          4.8,
          4.5,
          4.5,
          5.1,
          9.8,
          7.1,
          5.1,
          4.9,
          7.1,
          4.7,
          4.3,
          6.3,
          4.4,
          4.3,
          4.2,
          4.9,
          7.3,
          4.5,
          4.8,
          5.2,
          4.2,
          6.1,
          5.9,
          4.3,
          5.9,
          4.8,
          5.6,
          4.5,
          4.4,
          4.5,
          4.2,
          4.2,
          4.3,
          4.9,
          5.0,
          5.0,
          4.9,
          4.5,
          5.5,
          4.8,
          5.4,
          4.9,
          4.3,
          4.9,
          4.5,
          5.0,
          4.5,
          4.8,
          4.5,
          4.8,
          4.8,
          5.3,
          4.7,
          5.2,
          6.2,
          5.0,
          4.5,
          4.3,
          5.0,
          5.1,
          4.7,
          4.5,
          4.5,
          5.5,
          5.0,
          11.6,
          5.8,
          5.5,
          4.4,
          5.5,
          5.4,
          4.3,
          4.7,
          7.9,
          4.4,
          4.3,
          4.3,
          5.0,
          5.1,
          5.6,
          8.0,
          5.0,
          4.7,
          5.1,
          5.0,
          4.2,
          4.4,
          4.4,
          5.9,
          5.9,
          5.4,
          5.7,
          5.3,
          4.4,
          4.9,
          5.0,
          5.5,
          4.7,
          4.4,
          4.4,
          4.4,
          5.8,
          4.8,
          4.4,
          4.5,
          4.5,
          5.5
         ],
         "yaxis": "y"
        },
        {
         "customdata": [
          [
           "Arsenal"
          ],
          [
           "Arsenal"
          ],
          [
           "Arsenal"
          ],
          [
           "Aston Villa"
          ],
          [
           "Aston Villa"
          ],
          [
           "Aston Villa"
          ],
          [
           "Bournemouth"
          ],
          [
           "Bournemouth"
          ],
          [
           "Bournemouth"
          ],
          [
           "Bournemouth"
          ],
          [
           "Bournemouth"
          ],
          [
           "Bournemouth"
          ],
          [
           "Brentford"
          ],
          [
           "Brentford"
          ],
          [
           "Brentford"
          ],
          [
           "Brentford"
          ],
          [
           "Brighton"
          ],
          [
           "Brighton"
          ],
          [
           "Brighton"
          ],
          [
           "Brighton"
          ],
          [
           "Chelsea"
          ],
          [
           "Chelsea"
          ],
          [
           "Chelsea"
          ],
          [
           "Chelsea"
          ],
          [
           "Chelsea"
          ],
          [
           "Chelsea"
          ],
          [
           "Crystal Palace"
          ],
          [
           "Crystal Palace"
          ],
          [
           "Crystal Palace"
          ],
          [
           "Crystal Palace"
          ],
          [
           "Crystal Palace"
          ],
          [
           "Everton"
          ],
          [
           "Everton"
          ],
          [
           "Everton"
          ],
          [
           "Everton"
          ],
          [
           "Everton"
          ],
          [
           "Fulham"
          ],
          [
           "Fulham"
          ],
          [
           "Fulham"
          ],
          [
           "Fulham"
          ],
          [
           "Fulham"
          ],
          [
           "Leicester"
          ],
          [
           "Leicester"
          ],
          [
           "Leicester"
          ],
          [
           "Leeds"
          ],
          [
           "Leeds"
          ],
          [
           "Leeds"
          ],
          [
           "Leeds"
          ],
          [
           "Leeds"
          ],
          [
           "Leeds"
          ],
          [
           "Leeds"
          ],
          [
           "Liverpool"
          ],
          [
           "Liverpool"
          ],
          [
           "Liverpool"
          ],
          [
           "Man City"
          ],
          [
           "Man City"
          ],
          [
           "Man City"
          ],
          [
           "Man Utd"
          ],
          [
           "Man Utd"
          ],
          [
           "Man Utd"
          ],
          [
           "Man Utd"
          ],
          [
           "Newcastle"
          ],
          [
           "Newcastle"
          ],
          [
           "Newcastle"
          ],
          [
           "Nott'm Forest"
          ],
          [
           "Nott'm Forest"
          ],
          [
           "Nott'm Forest"
          ],
          [
           "Nott'm Forest"
          ],
          [
           "Nott'm Forest"
          ],
          [
           "Nott'm Forest"
          ],
          [
           "Nott'm Forest"
          ],
          [
           "Southampton"
          ],
          [
           "Southampton"
          ],
          [
           "Southampton"
          ],
          [
           "Southampton"
          ],
          [
           "Spurs"
          ],
          [
           "Spurs"
          ],
          [
           "Spurs"
          ],
          [
           "Spurs"
          ],
          [
           "West Ham"
          ],
          [
           "West Ham"
          ],
          [
           "West Ham"
          ],
          [
           "West Ham"
          ],
          [
           "Wolves"
          ],
          [
           "Wolves"
          ],
          [
           "Wolves"
          ],
          [
           "Wolves"
          ],
          [
           "Wolves"
          ],
          [
           "Wolves"
          ]
         ],
         "hovertemplate": "<b>%{hovertext}</b><br><br>Player Type=Forward<br>points_per_game=%{x}<br>now_cost=%{y}<br>size=%{marker.size}<br>team_name=%{customdata[0]}<extra></extra>",
         "hovertext": [
          "Eddie Nketiah",
          "Gabriel Jesus",
          "Nathan Butler-Oyedeji",
          "Ollie Watkins",
          "Keinan Davis",
          "Cameron Archer",
          "Kieffer Moore",
          "Dominic Solanke",
          "Christian Saydee",
          "Daniel Adu-Adjei",
          "Dominic Sadi",
          "Euan Pollock",
          "Ivan Toney",
          "Bryan Mbeumo",
          "Marcus Forss",
          "Halil Dervişoğlu",
          "Danny Welbeck",
          "Deniz Undav",
          "Julio Enciso",
          "Evan Ferguson",
          "Timo Werner",
          "Kai Havertz",
          "Armando Broja",
          "Pierre-Emerick Aubameyang",
          "David Datro D.D.Fofana",
          "João João Félix",
          "Christian Benteke",
          "Odsonne Edouard",
          "Jean-Philippe Mateta",
          "Luke Plange",
          "John-Kymani Gordon",
          "Neal Maupay",
          "Salomón Rondón",
          "Dominic Calvert-Lewin",
          "Thomas Cannon",
          "Ellis Simms",
          "Aleksandar Mitrović",
          "Rodrigo Muniz",
          "Jay Stansfield",
          "Terry Ablade",
          "Carlos Vinícius Vinícius",
          "Jamie Vardy",
          "Kelechi Iheanacho",
          "Patson Daka",
          "Patrick Bamford",
          "Sam Greenwood",
          "Joe Gelhardt",
          "Wilfried Gnonto",
          "Mateo Joseph Mateo Joseph",
          "Sonny Perkins",
          "Georginio Rutter",
          "Roberto Firmino",
          "Diogo Diogo Jota",
          "Darwin Darwin",
          "Erling Haaland",
          "Julián Álvarez",
          "Liam Delap",
          "Cristiano Ronaldo Ronaldo",
          "Anthony Martial",
          "Shola Shoretire",
          "Wout Weghorst",
          "Callum Wilson",
          "Dwight Gayle",
          "Alexander Isak",
          "Chris Wood",
          "Lyle Lyle Taylor",
          "Sam Surridge",
          "Brennan Johnson",
          "Taiwo Awoniyi",
          "Emmanuel Dennis",
          "Dale Dale Taylor",
          "Adam A.Armstrong",
          "Che Adams",
          "Sékou Mara",
          "Jimmy Morgan",
          "Harry Kane",
          "Dane Scarlett",
          "Troy Parrott",
          "Richarlison Richarlison",
          "Danny Ings",
          "Michail Antonio",
          "Gianluca Scamacca",
          "Divin Mubama",
          "Raúl Jiménez",
          "Fabio Fabio Silva",
          "Sasa Kalajdžić",
          "Diego Diego Costa",
          "Nathan Fraser",
          "Matheus Cunha"
         ],
         "legendgroup": "Forward",
         "marker": {
          "color": "#00cc96",
          "size": [
           9.75,
           0.75,
           0.75,
           7.3500000000000005,
           0.75,
           0.75,
           3.4499999999999997,
           2.25,
           0.75,
           0.75,
           0.75,
           0.75,
           8.850000000000001,
           6.1499999999999995,
           0.75,
           0.75,
           2.8499999999999996,
           0.75,
           1.35,
           9.149999999999999,
           0.75,
           7.199999999999999,
           0.75,
           2.25,
           0.75,
           0.0,
           0.75,
           2.55,
           1.9500000000000002,
           0.75,
           0.75,
           1.6500000000000001,
           0.75,
           3.1500000000000004,
           1.0499999999999998,
           1.7999999999999998,
           5.699999999999999,
           0.75,
           0.75,
           0.75,
           3.4499999999999997,
           3.4499999999999997,
           1.9500000000000002,
           2.55,
           2.8499999999999996,
           2.8499999999999996,
           2.8499999999999996,
           5.25,
           0.75,
           0.75,
           0.75,
           0.75,
           0.75,
           3.4499999999999997,
           12.299999999999999,
           3.0,
           0.75,
           0.75,
           3.4499999999999997,
           0.75,
           2.7,
           3.1500000000000004,
           0.75,
           3.4499999999999997,
           4.949999999999999,
           0.75,
           4.35,
           8.25,
           4.65,
           1.0499999999999998,
           0.75,
           2.55,
           6.75,
           2.55,
           0.75,
           8.7,
           0.75,
           0.75,
           1.2000000000000002,
           4.35,
           4.050000000000001,
           4.050000000000001,
           1.0499999999999998,
           1.6500000000000001,
           0.75,
           0.75,
           1.6500000000000001,
           0.75,
           2.7
          ],
          "sizemode": "area",
          "sizeref": 0.036375,
          "symbol": "circle"
         },
         "mode": "markers",
         "name": "Forward",
         "orientation": "v",
         "showlegend": true,
         "type": "scatter",
         "x": [
          2.5,
          4.9,
          0.0,
          3.6,
          0.0,
          1.0,
          2.5,
          3.9,
          0.0,
          0.0,
          0.0,
          0.0,
          6.1,
          3.1,
          0.0,
          4.0,
          2.9,
          1.0,
          1.5,
          5.6,
          0.0,
          3.3,
          1.8,
          1.9,
          0.0,
          -2.0,
          0.0,
          2.6,
          1.2,
          0.0,
          0.0,
          1.9,
          1.0,
          2.3,
          1.0,
          1.0,
          5.1,
          0.0,
          2.3,
          0.0,
          1.8,
          2.5,
          1.6,
          2.6,
          2.0,
          2.2,
          1.3,
          2.6,
          1.0,
          0.0,
          0.0,
          5.3,
          2.0,
          3.8,
          8.9,
          2.7,
          0.0,
          2.0,
          3.6,
          0.0,
          2.0,
          4.2,
          0.0,
          5.4,
          1.9,
          0.0,
          1.5,
          3.1,
          3.1,
          2.0,
          0.0,
          2.1,
          3.7,
          1.3,
          0.0,
          6.7,
          0.0,
          0.0,
          1.9,
          3.1,
          2.3,
          2.6,
          1.0,
          1.3,
          0.0,
          1.0,
          1.1,
          0.0,
          1.3
         ],
         "xaxis": "x",
         "y": [
          6.6,
          7.9,
          4.5,
          7.1,
          5.4,
          4.2,
          5.3,
          5.6,
          4.5,
          4.5,
          4.5,
          4.5,
          7.7,
          5.8,
          4.5,
          4.5,
          6.5,
          5.1,
          4.7,
          4.6,
          7.9,
          7.8,
          5.3,
          8.5,
          5.0,
          7.5,
          5.5,
          5.1,
          5.1,
          4.5,
          4.5,
          5.9,
          4.9,
          7.9,
          4.5,
          4.5,
          7.1,
          5.4,
          4.5,
          4.5,
          5.4,
          9.1,
          6.1,
          5.7,
          7.2,
          4.2,
          5.1,
          5.0,
          4.5,
          4.5,
          5.5,
          8.0,
          8.8,
          8.8,
          12.2,
          6.0,
          4.4,
          10.2,
          6.5,
          4.5,
          6.0,
          7.1,
          4.5,
          6.6,
          5.6,
          4.2,
          4.7,
          5.6,
          5.7,
          5.7,
          4.5,
          5.4,
          6.3,
          5.3,
          4.5,
          11.7,
          4.5,
          4.5,
          8.4,
          6.4,
          7.0,
          6.6,
          4.5,
          6.7,
          5.5,
          5.3,
          5.4,
          4.5,
          5.5
         ],
         "yaxis": "y"
        },
        {
         "customdata": [
          [
           "Arsenal"
          ],
          [
           "Arsenal"
          ],
          [
           "Arsenal"
          ],
          [
           "Aston Villa"
          ],
          [
           "Aston Villa"
          ],
          [
           "Aston Villa"
          ],
          [
           "Aston Villa"
          ],
          [
           "Bournemouth"
          ],
          [
           "Bournemouth"
          ],
          [
           "Bournemouth"
          ],
          [
           "Bournemouth"
          ],
          [
           "Brentford"
          ],
          [
           "Brentford"
          ],
          [
           "Brentford"
          ],
          [
           "Brentford"
          ],
          [
           "Brighton"
          ],
          [
           "Brighton"
          ],
          [
           "Brighton"
          ],
          [
           "Chelsea"
          ],
          [
           "Chelsea"
          ],
          [
           "Chelsea"
          ],
          [
           "Crystal Palace"
          ],
          [
           "Crystal Palace"
          ],
          [
           "Crystal Palace"
          ],
          [
           "Crystal Palace"
          ],
          [
           "Crystal Palace"
          ],
          [
           "Everton"
          ],
          [
           "Everton"
          ],
          [
           "Everton"
          ],
          [
           "Fulham"
          ],
          [
           "Fulham"
          ],
          [
           "Fulham"
          ],
          [
           "Leicester"
          ],
          [
           "Leicester"
          ],
          [
           "Leicester"
          ],
          [
           "Leicester"
          ],
          [
           "Leeds"
          ],
          [
           "Leeds"
          ],
          [
           "Leeds"
          ],
          [
           "Liverpool"
          ],
          [
           "Liverpool"
          ],
          [
           "Liverpool"
          ],
          [
           "Liverpool"
          ],
          [
           "Man City"
          ],
          [
           "Man City"
          ],
          [
           "Man City"
          ],
          [
           "Man City"
          ],
          [
           "Man Utd"
          ],
          [
           "Man Utd"
          ],
          [
           "Man Utd"
          ],
          [
           "Man Utd"
          ],
          [
           "Man Utd"
          ],
          [
           "Newcastle"
          ],
          [
           "Newcastle"
          ],
          [
           "Newcastle"
          ],
          [
           "Newcastle"
          ],
          [
           "Nott'm Forest"
          ],
          [
           "Nott'm Forest"
          ],
          [
           "Nott'm Forest"
          ],
          [
           "Nott'm Forest"
          ],
          [
           "Southampton"
          ],
          [
           "Southampton"
          ],
          [
           "Southampton"
          ],
          [
           "Southampton"
          ],
          [
           "Spurs"
          ],
          [
           "Spurs"
          ],
          [
           "Spurs"
          ],
          [
           "West Ham"
          ],
          [
           "West Ham"
          ],
          [
           "West Ham"
          ],
          [
           "Wolves"
          ],
          [
           "Wolves"
          ],
          [
           "Wolves"
          ]
         ],
         "hovertemplate": "<b>%{hovertext}</b><br><br>Player Type=Goalkeeper<br>points_per_game=%{x}<br>now_cost=%{y}<br>size=%{marker.size}<br>team_name=%{customdata[0]}<extra></extra>",
         "hovertext": [
          "Aaron Ramsdale",
          "Matt Turner",
          "Karl Hein",
          "Emiliano Martínez",
          "Robin Olsen",
          "Filip Marschall",
          "Viljami Sinisalo",
          "Mark Travers",
          "Will Dennis",
          "Norberto Neto",
          "Cameron Plain",
          "David Raya",
          "Ellery Balcombe",
          "Thomas Strakosha",
          "Matthew Cox",
          "Jason Steele",
          "Robert Sánchez",
          "Kjell Scherpen",
          "Kepa Arrizabalaga",
          "Edouard Mendy",
          "Marcus Bettinelli",
          "Vicente Guaita",
          "Sam Johnstone",
          "Remi Matthews",
          "Joseph Whitworth",
          "Owen Goodman",
          "Asmir Begović",
          "Jordan Pickford",
          "Eldin Jakupović",
          "Bernd Leno",
          "Paulo Gazzaniga",
          "Marek Rodák",
          "Kasper Schmeichel",
          "Danny Ward",
          "Daniel Iversen",
          "Alex Smithies",
          "Kristoffer Klaesson",
          "Illan Meslier",
          "Joel Robles",
          "Alisson Alisson",
          "Caoimhin Kelleher",
          "Adrián Adrián",
          "Harvey H.Davies",
          "Ederson Ederson",
          "Zack Steffen",
          "Stefan Ortega",
          "Scott Carson",
          "Jack Butland",
          "David De Gea",
          "Tom Heaton",
          "Matej Kovár",
          "Nathan Bishop",
          "Karl Darlow",
          "Martin Dubravka",
          "Nick Pope",
          "Loris Karius",
          "Brice Samba",
          "Dean Henderson",
          "Wayne Hennessey",
          "Jordan Smith",
          "Alex McCarthy",
          "Mateusz Lis",
          "Gavin Bazunu",
          "Willy Caballero",
          "Hugo Lloris",
          "Fraser Forster",
          "Brandon Austin",
          "Lukasz Fabianski",
          "Alphonse Areola",
          "Darren Randolph",
          "José Sá",
          "Matija Šarkić",
          "Jackson Smith"
         ],
         "legendgroup": "Goalkeeper",
         "marker": {
          "color": "#ab63fa",
          "size": [
           7.6499999999999995,
           0.75,
           0.75,
           4.65,
           3.75,
           0.75,
           0.75,
           2.55,
           0.75,
           1.6500000000000001,
           0.75,
           9.75,
           0.75,
           0.75,
           0.75,
           0.75,
           7.050000000000001,
           0.75,
           9.3,
           0.75,
           0.75,
           7.199999999999999,
           0.75,
           0.75,
           0.75,
           0.75,
           0.75,
           2.8499999999999996,
           0.75,
           7.050000000000001,
           0.75,
           0.75,
           0.75,
           3.4499999999999997,
           0.75,
           0.75,
           0.75,
           6.449999999999999,
           0.75,
           6.1499999999999995,
           0.75,
           0.75,
           0.75,
           5.699999999999999,
           0.75,
           0.75,
           0.75,
           0.75,
           7.5,
           0.75,
           0.75,
           0.75,
           0.75,
           0.75,
           10.649999999999999,
           0.75,
           0.75,
           5.25,
           1.9500000000000002,
           0.75,
           0.75,
           0.75,
           5.550000000000001,
           0.75,
           2.7,
           1.2000000000000002,
           0.75,
           4.949999999999999,
           0.75,
           0.75,
           7.050000000000001,
           0.75,
           0.75
          ],
          "sizemode": "area",
          "sizeref": 0.036375,
          "symbol": "circle"
         },
         "mode": "markers",
         "name": "Goalkeeper",
         "orientation": "v",
         "showlegend": true,
         "type": "scatter",
         "x": [
          4.3,
          0.0,
          0.0,
          3.5,
          3.0,
          0.0,
          0.0,
          2.3,
          0.0,
          2.8,
          0.0,
          4.5,
          0.0,
          0.0,
          0.0,
          0.0,
          3.6,
          0.0,
          5.2,
          2.6,
          0.0,
          3.7,
          0.0,
          0.0,
          0.0,
          0.0,
          9.0,
          3.3,
          0.0,
          4.0,
          0.0,
          3.5,
          0.0,
          3.5,
          0.0,
          0.0,
          0.0,
          3.3,
          0.0,
          4.4,
          0.0,
          0.0,
          0.0,
          3.9,
          0.0,
          0.0,
          0.0,
          0.0,
          3.9,
          0.0,
          0.0,
          0.0,
          0.0,
          0.0,
          5.2,
          0.0,
          0.0,
          4.6,
          2.0,
          0.0,
          0.0,
          0.0,
          2.5,
          0.0,
          3.3,
          2.0,
          0.0,
          3.6,
          1.0,
          0.0,
          4.1,
          0.0,
          0.0
         ],
         "xaxis": "x",
         "y": [
          4.9,
          3.9,
          4.0,
          4.9,
          3.9,
          4.0,
          4.0,
          4.3,
          3.9,
          4.5,
          4.0,
          4.7,
          4.0,
          4.3,
          3.9,
          3.9,
          4.6,
          4.0,
          4.6,
          4.8,
          4.0,
          4.4,
          4.4,
          4.0,
          4.0,
          4.0,
          4.0,
          4.4,
          4.0,
          4.5,
          4.0,
          4.3,
          5.0,
          4.1,
          3.9,
          4.0,
          3.9,
          4.5,
          4.0,
          5.5,
          4.0,
          3.9,
          4.0,
          5.4,
          4.0,
          3.8,
          3.8,
          4.4,
          4.9,
          3.9,
          4.0,
          4.0,
          3.9,
          4.2,
          5.5,
          4.0,
          4.5,
          4.7,
          3.9,
          4.0,
          4.3,
          4.0,
          4.5,
          3.9,
          5.5,
          3.9,
          3.9,
          5.0,
          4.3,
          4.0,
          5.0,
          3.9,
          3.9
         ],
         "yaxis": "y"
        }
       ],
       "layout": {
        "annotations": [
         {
          "showarrow": false,
          "text": "Bubble Size : Player Form",
          "x": 1.15,
          "xref": "paper",
          "y": 1.1,
          "yref": "paper"
         }
        ],
        "legend": {
         "itemsizing": "constant",
         "title": {
          "text": "Player Type"
         },
         "tracegroupgap": 0
        },
        "showlegend": true,
        "template": {
         "data": {
          "bar": [
           {
            "error_x": {
             "color": "#2a3f5f"
            },
            "error_y": {
             "color": "#2a3f5f"
            },
            "marker": {
             "line": {
              "color": "#E5ECF6",
              "width": 0.5
             },
             "pattern": {
              "fillmode": "overlay",
              "size": 10,
              "solidity": 0.2
             }
            },
            "type": "bar"
           }
          ],
          "barpolar": [
           {
            "marker": {
             "line": {
              "color": "#E5ECF6",
              "width": 0.5
             },
             "pattern": {
              "fillmode": "overlay",
              "size": 10,
              "solidity": 0.2
             }
            },
            "type": "barpolar"
           }
          ],
          "carpet": [
           {
            "aaxis": {
             "endlinecolor": "#2a3f5f",
             "gridcolor": "white",
             "linecolor": "white",
             "minorgridcolor": "white",
             "startlinecolor": "#2a3f5f"
            },
            "baxis": {
             "endlinecolor": "#2a3f5f",
             "gridcolor": "white",
             "linecolor": "white",
             "minorgridcolor": "white",
             "startlinecolor": "#2a3f5f"
            },
            "type": "carpet"
           }
          ],
          "choropleth": [
           {
            "colorbar": {
             "outlinewidth": 0,
             "ticks": ""
            },
            "type": "choropleth"
           }
          ],
          "contour": [
           {
            "colorbar": {
             "outlinewidth": 0,
             "ticks": ""
            },
            "colorscale": [
             [
              0.0,
              "#0d0887"
             ],
             [
              0.1111111111111111,
              "#46039f"
             ],
             [
              0.2222222222222222,
              "#7201a8"
             ],
             [
              0.3333333333333333,
              "#9c179e"
             ],
             [
              0.4444444444444444,
              "#bd3786"
             ],
             [
              0.5555555555555556,
              "#d8576b"
             ],
             [
              0.6666666666666666,
              "#ed7953"
             ],
             [
              0.7777777777777778,
              "#fb9f3a"
             ],
             [
              0.8888888888888888,
              "#fdca26"
             ],
             [
              1.0,
              "#f0f921"
             ]
            ],
            "type": "contour"
           }
          ],
          "contourcarpet": [
           {
            "colorbar": {
             "outlinewidth": 0,
             "ticks": ""
            },
            "type": "contourcarpet"
           }
          ],
          "heatmap": [
           {
            "colorbar": {
             "outlinewidth": 0,
             "ticks": ""
            },
            "colorscale": [
             [
              0.0,
              "#0d0887"
             ],
             [
              0.1111111111111111,
              "#46039f"
             ],
             [
              0.2222222222222222,
              "#7201a8"
             ],
             [
              0.3333333333333333,
              "#9c179e"
             ],
             [
              0.4444444444444444,
              "#bd3786"
             ],
             [
              0.5555555555555556,
              "#d8576b"
             ],
             [
              0.6666666666666666,
              "#ed7953"
             ],
             [
              0.7777777777777778,
              "#fb9f3a"
             ],
             [
              0.8888888888888888,
              "#fdca26"
             ],
             [
              1.0,
              "#f0f921"
             ]
            ],
            "type": "heatmap"
           }
          ],
          "heatmapgl": [
           {
            "colorbar": {
             "outlinewidth": 0,
             "ticks": ""
            },
            "colorscale": [
             [
              0.0,
              "#0d0887"
             ],
             [
              0.1111111111111111,
              "#46039f"
             ],
             [
              0.2222222222222222,
              "#7201a8"
             ],
             [
              0.3333333333333333,
              "#9c179e"
             ],
             [
              0.4444444444444444,
              "#bd3786"
             ],
             [
              0.5555555555555556,
              "#d8576b"
             ],
             [
              0.6666666666666666,
              "#ed7953"
             ],
             [
              0.7777777777777778,
              "#fb9f3a"
             ],
             [
              0.8888888888888888,
              "#fdca26"
             ],
             [
              1.0,
              "#f0f921"
             ]
            ],
            "type": "heatmapgl"
           }
          ],
          "histogram": [
           {
            "marker": {
             "pattern": {
              "fillmode": "overlay",
              "size": 10,
              "solidity": 0.2
             }
            },
            "type": "histogram"
           }
          ],
          "histogram2d": [
           {
            "colorbar": {
             "outlinewidth": 0,
             "ticks": ""
            },
            "colorscale": [
             [
              0.0,
              "#0d0887"
             ],
             [
              0.1111111111111111,
              "#46039f"
             ],
             [
              0.2222222222222222,
              "#7201a8"
             ],
             [
              0.3333333333333333,
              "#9c179e"
             ],
             [
              0.4444444444444444,
              "#bd3786"
             ],
             [
              0.5555555555555556,
              "#d8576b"
             ],
             [
              0.6666666666666666,
              "#ed7953"
             ],
             [
              0.7777777777777778,
              "#fb9f3a"
             ],
             [
              0.8888888888888888,
              "#fdca26"
             ],
             [
              1.0,
              "#f0f921"
             ]
            ],
            "type": "histogram2d"
           }
          ],
          "histogram2dcontour": [
           {
            "colorbar": {
             "outlinewidth": 0,
             "ticks": ""
            },
            "colorscale": [
             [
              0.0,
              "#0d0887"
             ],
             [
              0.1111111111111111,
              "#46039f"
             ],
             [
              0.2222222222222222,
              "#7201a8"
             ],
             [
              0.3333333333333333,
              "#9c179e"
             ],
             [
              0.4444444444444444,
              "#bd3786"
             ],
             [
              0.5555555555555556,
              "#d8576b"
             ],
             [
              0.6666666666666666,
              "#ed7953"
             ],
             [
              0.7777777777777778,
              "#fb9f3a"
             ],
             [
              0.8888888888888888,
              "#fdca26"
             ],
             [
              1.0,
              "#f0f921"
             ]
            ],
            "type": "histogram2dcontour"
           }
          ],
          "mesh3d": [
           {
            "colorbar": {
             "outlinewidth": 0,
             "ticks": ""
            },
            "type": "mesh3d"
           }
          ],
          "parcoords": [
           {
            "line": {
             "colorbar": {
              "outlinewidth": 0,
              "ticks": ""
             }
            },
            "type": "parcoords"
           }
          ],
          "pie": [
           {
            "automargin": true,
            "type": "pie"
           }
          ],
          "scatter": [
           {
            "fillpattern": {
             "fillmode": "overlay",
             "size": 10,
             "solidity": 0.2
            },
            "type": "scatter"
           }
          ],
          "scatter3d": [
           {
            "line": {
             "colorbar": {
              "outlinewidth": 0,
              "ticks": ""
             }
            },
            "marker": {
             "colorbar": {
              "outlinewidth": 0,
              "ticks": ""
             }
            },
            "type": "scatter3d"
           }
          ],
          "scattercarpet": [
           {
            "marker": {
             "colorbar": {
              "outlinewidth": 0,
              "ticks": ""
             }
            },
            "type": "scattercarpet"
           }
          ],
          "scattergeo": [
           {
            "marker": {
             "colorbar": {
              "outlinewidth": 0,
              "ticks": ""
             }
            },
            "type": "scattergeo"
           }
          ],
          "scattergl": [
           {
            "marker": {
             "colorbar": {
              "outlinewidth": 0,
              "ticks": ""
             }
            },
            "type": "scattergl"
           }
          ],
          "scattermapbox": [
           {
            "marker": {
             "colorbar": {
              "outlinewidth": 0,
              "ticks": ""
             }
            },
            "type": "scattermapbox"
           }
          ],
          "scatterpolar": [
           {
            "marker": {
             "colorbar": {
              "outlinewidth": 0,
              "ticks": ""
             }
            },
            "type": "scatterpolar"
           }
          ],
          "scatterpolargl": [
           {
            "marker": {
             "colorbar": {
              "outlinewidth": 0,
              "ticks": ""
             }
            },
            "type": "scatterpolargl"
           }
          ],
          "scatterternary": [
           {
            "marker": {
             "colorbar": {
              "outlinewidth": 0,
              "ticks": ""
             }
            },
            "type": "scatterternary"
           }
          ],
          "surface": [
           {
            "colorbar": {
             "outlinewidth": 0,
             "ticks": ""
            },
            "colorscale": [
             [
              0.0,
              "#0d0887"
             ],
             [
              0.1111111111111111,
              "#46039f"
             ],
             [
              0.2222222222222222,
              "#7201a8"
             ],
             [
              0.3333333333333333,
              "#9c179e"
             ],
             [
              0.4444444444444444,
              "#bd3786"
             ],
             [
              0.5555555555555556,
              "#d8576b"
             ],
             [
              0.6666666666666666,
              "#ed7953"
             ],
             [
              0.7777777777777778,
              "#fb9f3a"
             ],
             [
              0.8888888888888888,
              "#fdca26"
             ],
             [
              1.0,
              "#f0f921"
             ]
            ],
            "type": "surface"
           }
          ],
          "table": [
           {
            "cells": {
             "fill": {
              "color": "#EBF0F8"
             },
             "line": {
              "color": "white"
             }
            },
            "header": {
             "fill": {
              "color": "#C8D4E3"
             },
             "line": {
              "color": "white"
             }
            },
            "type": "table"
           }
          ]
         },
         "layout": {
          "annotationdefaults": {
           "arrowcolor": "#2a3f5f",
           "arrowhead": 0,
           "arrowwidth": 1
          },
          "autotypenumbers": "strict",
          "coloraxis": {
           "colorbar": {
            "outlinewidth": 0,
            "ticks": ""
           }
          },
          "colorscale": {
           "diverging": [
            [
             0,
             "#8e0152"
            ],
            [
             0.1,
             "#c51b7d"
            ],
            [
             0.2,
             "#de77ae"
            ],
            [
             0.3,
             "#f1b6da"
            ],
            [
             0.4,
             "#fde0ef"
            ],
            [
             0.5,
             "#f7f7f7"
            ],
            [
             0.6,
             "#e6f5d0"
            ],
            [
             0.7,
             "#b8e186"
            ],
            [
             0.8,
             "#7fbc41"
            ],
            [
             0.9,
             "#4d9221"
            ],
            [
             1,
             "#276419"
            ]
           ],
           "sequential": [
            [
             0.0,
             "#0d0887"
            ],
            [
             0.1111111111111111,
             "#46039f"
            ],
            [
             0.2222222222222222,
             "#7201a8"
            ],
            [
             0.3333333333333333,
             "#9c179e"
            ],
            [
             0.4444444444444444,
             "#bd3786"
            ],
            [
             0.5555555555555556,
             "#d8576b"
            ],
            [
             0.6666666666666666,
             "#ed7953"
            ],
            [
             0.7777777777777778,
             "#fb9f3a"
            ],
            [
             0.8888888888888888,
             "#fdca26"
            ],
            [
             1.0,
             "#f0f921"
            ]
           ],
           "sequentialminus": [
            [
             0.0,
             "#0d0887"
            ],
            [
             0.1111111111111111,
             "#46039f"
            ],
            [
             0.2222222222222222,
             "#7201a8"
            ],
            [
             0.3333333333333333,
             "#9c179e"
            ],
            [
             0.4444444444444444,
             "#bd3786"
            ],
            [
             0.5555555555555556,
             "#d8576b"
            ],
            [
             0.6666666666666666,
             "#ed7953"
            ],
            [
             0.7777777777777778,
             "#fb9f3a"
            ],
            [
             0.8888888888888888,
             "#fdca26"
            ],
            [
             1.0,
             "#f0f921"
            ]
           ]
          },
          "colorway": [
           "#636efa",
           "#EF553B",
           "#00cc96",
           "#ab63fa",
           "#FFA15A",
           "#19d3f3",
           "#FF6692",
           "#B6E880",
           "#FF97FF",
           "#FECB52"
          ],
          "font": {
           "color": "#2a3f5f"
          },
          "geo": {
           "bgcolor": "white",
           "lakecolor": "white",
           "landcolor": "#E5ECF6",
           "showlakes": true,
           "showland": true,
           "subunitcolor": "white"
          },
          "hoverlabel": {
           "align": "left"
          },
          "hovermode": "closest",
          "mapbox": {
           "style": "light"
          },
          "paper_bgcolor": "white",
          "plot_bgcolor": "#E5ECF6",
          "polar": {
           "angularaxis": {
            "gridcolor": "white",
            "linecolor": "white",
            "ticks": ""
           },
           "bgcolor": "#E5ECF6",
           "radialaxis": {
            "gridcolor": "white",
            "linecolor": "white",
            "ticks": ""
           }
          },
          "scene": {
           "xaxis": {
            "backgroundcolor": "#E5ECF6",
            "gridcolor": "white",
            "gridwidth": 2,
            "linecolor": "white",
            "showbackground": true,
            "ticks": "",
            "zerolinecolor": "white"
           },
           "yaxis": {
            "backgroundcolor": "#E5ECF6",
            "gridcolor": "white",
            "gridwidth": 2,
            "linecolor": "white",
            "showbackground": true,
            "ticks": "",
            "zerolinecolor": "white"
           },
           "zaxis": {
            "backgroundcolor": "#E5ECF6",
            "gridcolor": "white",
            "gridwidth": 2,
            "linecolor": "white",
            "showbackground": true,
            "ticks": "",
            "zerolinecolor": "white"
           }
          },
          "shapedefaults": {
           "line": {
            "color": "#2a3f5f"
           }
          },
          "ternary": {
           "aaxis": {
            "gridcolor": "white",
            "linecolor": "white",
            "ticks": ""
           },
           "baxis": {
            "gridcolor": "white",
            "linecolor": "white",
            "ticks": ""
           },
           "bgcolor": "#E5ECF6",
           "caxis": {
            "gridcolor": "white",
            "linecolor": "white",
            "ticks": ""
           }
          },
          "title": {
           "x": 0.05
          },
          "xaxis": {
           "automargin": true,
           "gridcolor": "white",
           "linecolor": "white",
           "ticks": "",
           "title": {
            "standoff": 15
           },
           "zerolinecolor": "white",
           "zerolinewidth": 2
          },
          "yaxis": {
           "automargin": true,
           "gridcolor": "white",
           "linecolor": "white",
           "ticks": "",
           "title": {
            "standoff": 15
           },
           "zerolinecolor": "white",
           "zerolinewidth": 2
          }
         }
        },
        "title": {
         "text": "Most Suitable Player to Buy Currently"
        },
        "xaxis": {
         "anchor": "y",
         "domain": [
          0.0,
          1.0
         ],
         "title": {
          "text": "Points Per Game"
         }
        },
        "yaxis": {
         "anchor": "x",
         "domain": [
          0.0,
          1.0
         ],
         "tickprefix": "£",
         "title": {
          "text": "Price"
         }
        }
       }
      },
      "text/html": [
       "<div>                            <div id=\"dc339182-9ca4-4a24-90f5-112ca0bd7cb3\" class=\"plotly-graph-div\" style=\"height:525px; width:100%;\"></div>            <script type=\"text/javascript\">                require([\"plotly\"], function(Plotly) {                    window.PLOTLYENV=window.PLOTLYENV || {};                                    if (document.getElementById(\"dc339182-9ca4-4a24-90f5-112ca0bd7cb3\")) {                    Plotly.newPlot(                        \"dc339182-9ca4-4a24-90f5-112ca0bd7cb3\",                        [{\"customdata\":[[\"Arsenal\"],[\"Arsenal\"],[\"Arsenal\"],[\"Arsenal\"],[\"Arsenal\"],[\"Arsenal\"],[\"Arsenal\"],[\"Arsenal\"],[\"Arsenal\"],[\"Arsenal\"],[\"Arsenal\"],[\"Aston Villa\"],[\"Aston Villa\"],[\"Aston Villa\"],[\"Aston Villa\"],[\"Aston Villa\"],[\"Aston Villa\"],[\"Aston Villa\"],[\"Aston Villa\"],[\"Aston Villa\"],[\"Aston Villa\"],[\"Aston Villa\"],[\"Aston Villa\"],[\"Aston Villa\"],[\"Aston Villa\"],[\"Bournemouth\"],[\"Bournemouth\"],[\"Bournemouth\"],[\"Bournemouth\"],[\"Bournemouth\"],[\"Bournemouth\"],[\"Bournemouth\"],[\"Bournemouth\"],[\"Bournemouth\"],[\"Bournemouth\"],[\"Brentford\"],[\"Brentford\"],[\"Brentford\"],[\"Brentford\"],[\"Brentford\"],[\"Brentford\"],[\"Brentford\"],[\"Brentford\"],[\"Brentford\"],[\"Brentford\"],[\"Brentford\"],[\"Brentford\"],[\"Brentford\"],[\"Brentford\"],[\"Brighton\"],[\"Brighton\"],[\"Brighton\"],[\"Brighton\"],[\"Brighton\"],[\"Brighton\"],[\"Brighton\"],[\"Brighton\"],[\"Brighton\"],[\"Brighton\"],[\"Brighton\"],[\"Chelsea\"],[\"Chelsea\"],[\"Chelsea\"],[\"Chelsea\"],[\"Chelsea\"],[\"Chelsea\"],[\"Chelsea\"],[\"Chelsea\"],[\"Chelsea\"],[\"Chelsea\"],[\"Chelsea\"],[\"Chelsea\"],[\"Chelsea\"],[\"Chelsea\"],[\"Crystal Palace\"],[\"Crystal Palace\"],[\"Crystal Palace\"],[\"Crystal Palace\"],[\"Crystal Palace\"],[\"Crystal Palace\"],[\"Crystal Palace\"],[\"Crystal Palace\"],[\"Crystal Palace\"],[\"Everton\"],[\"Everton\"],[\"Everton\"],[\"Everton\"],[\"Everton\"],[\"Everton\"],[\"Everton\"],[\"Everton\"],[\"Everton\"],[\"Everton\"],[\"Everton\"],[\"Everton\"],[\"Everton\"],[\"Everton\"],[\"Fulham\"],[\"Fulham\"],[\"Fulham\"],[\"Fulham\"],[\"Fulham\"],[\"Fulham\"],[\"Fulham\"],[\"Fulham\"],[\"Fulham\"],[\"Fulham\"],[\"Fulham\"],[\"Leicester\"],[\"Leicester\"],[\"Leicester\"],[\"Leicester\"],[\"Leicester\"],[\"Leicester\"],[\"Leicester\"],[\"Leicester\"],[\"Leicester\"],[\"Leicester\"],[\"Leicester\"],[\"Leicester\"],[\"Leeds\"],[\"Leeds\"],[\"Leeds\"],[\"Leeds\"],[\"Leeds\"],[\"Leeds\"],[\"Leeds\"],[\"Leeds\"],[\"Leeds\"],[\"Leeds\"],[\"Leeds\"],[\"Liverpool\"],[\"Liverpool\"],[\"Liverpool\"],[\"Liverpool\"],[\"Liverpool\"],[\"Liverpool\"],[\"Liverpool\"],[\"Liverpool\"],[\"Liverpool\"],[\"Liverpool\"],[\"Liverpool\"],[\"Liverpool\"],[\"Liverpool\"],[\"Man City\"],[\"Man City\"],[\"Man City\"],[\"Man City\"],[\"Man City\"],[\"Man City\"],[\"Man City\"],[\"Man City\"],[\"Man City\"],[\"Man City\"],[\"Man City\"],[\"Man Utd\"],[\"Man Utd\"],[\"Man Utd\"],[\"Man Utd\"],[\"Man Utd\"],[\"Man Utd\"],[\"Man Utd\"],[\"Man Utd\"],[\"Man Utd\"],[\"Man Utd\"],[\"Man Utd\"],[\"Man Utd\"],[\"Man Utd\"],[\"Newcastle\"],[\"Newcastle\"],[\"Newcastle\"],[\"Newcastle\"],[\"Newcastle\"],[\"Newcastle\"],[\"Newcastle\"],[\"Newcastle\"],[\"Newcastle\"],[\"Newcastle\"],[\"Newcastle\"],[\"Newcastle\"],[\"Newcastle\"],[\"Nott'm Forest\"],[\"Nott'm Forest\"],[\"Nott'm Forest\"],[\"Nott'm Forest\"],[\"Nott'm Forest\"],[\"Nott'm Forest\"],[\"Nott'm Forest\"],[\"Nott'm Forest\"],[\"Nott'm Forest\"],[\"Nott'm Forest\"],[\"Nott'm Forest\"],[\"Nott'm Forest\"],[\"Nott'm Forest\"],[\"Nott'm Forest\"],[\"Nott'm Forest\"],[\"Nott'm Forest\"],[\"Southampton\"],[\"Southampton\"],[\"Southampton\"],[\"Southampton\"],[\"Southampton\"],[\"Southampton\"],[\"Southampton\"],[\"Southampton\"],[\"Southampton\"],[\"Spurs\"],[\"Spurs\"],[\"Spurs\"],[\"Spurs\"],[\"Spurs\"],[\"Spurs\"],[\"Spurs\"],[\"Spurs\"],[\"Spurs\"],[\"Spurs\"],[\"Spurs\"],[\"Spurs\"],[\"Spurs\"],[\"West Ham\"],[\"West Ham\"],[\"West Ham\"],[\"West Ham\"],[\"West Ham\"],[\"West Ham\"],[\"West Ham\"],[\"West Ham\"],[\"West Ham\"],[\"West Ham\"],[\"West Ham\"],[\"Wolves\"],[\"Wolves\"],[\"Wolves\"],[\"Wolves\"],[\"Wolves\"],[\"Wolves\"],[\"Wolves\"],[\"Wolves\"],[\"Wolves\"]],\"hovertemplate\":\"<b>%{hovertext}</b><br><br>Player Type=Defender<br>points_per_game=%{x}<br>now_cost=%{y}<br>size=%{marker.size}<br>team_name=%{customdata[0]}<extra></extra>\",\"hovertext\":[\"C\\u00e9dric C\\u00e9dric\",\"Rob Holding\",\"Kieran Tierney\",\"Benjamin White\",\"Takehiro Tomiyasu\",\"Gabriel Gabriel\",\"Nuno Tavares\",\"Pablo Pablo Mar\\u00ed\",\"William Saliba\",\"Oleksandr Zinchenko\",\"Lino Sousa\",\"Calum Chambers\",\"Lucas Digne\",\"Kortney Hause\",\"Tyrone Mings\",\"Matty Cash\",\"Ezri Konsa\",\"Diego Carlos Diego Carlos\",\"Fr\\u00e9d\\u00e9ric Guilbert\",\"Jan Bednarek\",\"Ludwig Augustinsson\",\"Kaine Kesler Hayden\",\"Ashley Young\",\"Lamare Bogarde\",\"Alexandre \\u00c1lex Moreno\",\"Adam Smith\",\"Ryan Fredericks\",\"Jack Stacey\",\"Chris Mepham\",\"Lloyd Kelly\",\"Jordan Zemura\",\"Jack Stephens\",\"James Hill\",\"Marcos Senesi\",\"Owen Bevan\",\"Pontus Jansson\",\"Sergi Can\\u00f3s\",\"Kristoffer Ajer\",\"Rico Henry\",\"Mads Roerslev\",\"Mads Bech\",\"Ethan Pinnock\",\"Charlie Goode\",\"Dominic Thompson\",\"Aaron Hickey\",\"Ben Mee\",\"Fin Stevens\",\"Mathias Zanka\",\"Tristan Crama\",\"Lewis Dunk\",\"Adam Webster\",\"Jo\\u00ebl Veltman\",\"Tariq Lamptey\",\"Haydon Roberts\",\"Matt Clarke\",\"Jan Paul Van Hecke\",\"Levi Colwill\",\"Pervis Estupi\\u00f1\\u00e1n\",\"Ed Turns\",\"James Furlong\",\"Marc Cucurella\",\"C\\u00e9sar Azpilicueta\",\"Thiago Thiago Silva\",\"Marcos Alonso\",\"Robert Kenedy Kenedy\",\"Ben Chilwell\",\"Trevoh Chalobah\",\"Malang Sarr\",\"Reece James\",\"Ethan Ampadu\",\"Wesley W.Fofana\",\"Kalidou Koulibaly\",\"Bashir Humphreys\",\"Beno\\u00eet Badiashile\",\"James Tomkins\",\"Joel Ward\",\"Nathaniel Clyne\",\"Joachim Andersen\",\"Marc Gu\\u00e9hi\",\"Tyrick Mitchell\",\"Nathan Ferguson\",\"Chris Richards\",\"Kofi Balmer\",\"Seamus Coleman\",\"Michael Keane\",\"Yerry Mina\",\"Mason Holgate\",\"Ben Godfrey\",\"Vitalii Mykolenko\",\"Jarrad Branthwaite\",\"Nathan Patterson\",\"Niels Nkounkou\",\"James Tarkowski\",\"Conor Coady\",\"R\\u00faben Vinagre\",\"Reece Welch\",\"Kyle John\",\"Shane Duffy\",\"Tim Ream\",\"Joe Bryan\",\"Terence Kongolo\",\"Tosin Tosin\",\"Kenny Tete\",\"Antonee Robinson\",\"Issa Diop\",\"Kevin Mbabu\",\"Layvin Kurzawa\",\"Stefan Parkes\",\"Jonny Evans\",\"Ryan Bertrand\",\"Jannik Vestergaard\",\"Ricardo Ricardo\",\"Daniel Amartey\",\"Timothy Castagne\",\"\\u00c7aglar S\\u00f6y\\u00fcnc\\u00fc\",\"James Justin\",\"Luke Thomas\",\"Lewis Brunt\",\"Wout Faes\",\"Joe Wormleighton\",\"Liam Cooper\",\"Luke Ayling\",\"Stuart Dallas\",\"Diego Llorente\",\"Robin Koch\",\"Pascal Struijk\",\"Junior Firpo\",\"Leo Fuhr Hjelde\",\"Rasmus Kristensen\",\"Cody Drameh\",\"Maximilian W\\u00f6ber\",\"Joel Matip\",\"Virgil Van Dijk\",\"Andrew Robertson\",\"Trent Alexander-Arnold\",\"Joseph Gomez\",\"Ibrahima Konat\\u00e9\",\"Konstantinos Tsimikas\",\"Calvin Ramsay\",\"Rhys R.Williams\",\"Ben Davies\",\"Sepp Van den Berg\",\"Nathaniel Phillips\",\"Luke Chambers\",\"Kyle Walker\",\"John Stones\",\"Jo\\u00e3o Cancelo\",\"Nathan Ak\\u00e9\",\"Aymeric Laporte\",\"R\\u00faben Dias\",\"Luke Mbete\",\"Josh Wilson-Esbrand\",\"Rico Lewis\",\"Sergio Sergio G\\u00f3mez\",\"Manuel Akanji\",\"Phil Jones\",\"Rapha\\u00ebl Varane\",\"Harry Maguire\",\"Luke Shaw\",\"Alex Telles\",\"Victor Lindel\\u00f6f\",\"Eric Bailly\",\"Aaron Wan-Bissaka\",\"Diogo Dalot\",\"Brandon B.Williams\",\"Tyrell Malacia\",\"Lisandro Mart\\u00ednez\",\"Rhys Bennett\",\"Matt Ritchie\",\"Federico Fern\\u00e1ndez\",\"Ciaran Clark\",\"Kieran Trippier\",\"Dan Burn\",\"Jamaal Lascelles\",\"Paul Dummett\",\"Javier Manquillo\",\"Emil Krafth\",\"Fabian Sch\\u00e4r\",\"Matt Targett\",\"Jamal Lewis\",\"Sven Botman\",\"Neco N.Williams\",\"Steve Cook\",\"Scott McKenna\",\"Mohamed Dr\\u00e4ger\",\"Joe Worrall\",\"Jonathan Panzo\",\"Richie Laryea\",\"Lo\\u00efc Mbe Soh\",\"Giulian Biancone\",\"Willy Boly\",\"Moussa Niakhat\\u00e9\",\"Omar Richards\",\"Harry Toffolo\",\"Renan Augusto Renan Lodi\",\"Lo\\u00efc Bad\\u00e9\",\"Serge Aurier\",\"Kyle Walker-Peters\",\"Lyanco Lyanco\",\"Yan Valery\",\"Romain Perraud\",\"Tino Livramento\",\"Mohammed Salisu\",\"Armel Bella-Kotchap\",\"Juan Larios\",\"Duje Caleta-Car\",\"Matt Doherty\",\"Eric Dier\",\"Ben Davies\",\"Davinson S\\u00e1nchez\",\"Ryan R.Sessegnon\",\"Sergio Reguil\\u00f3n\",\"Japhet Tanganga\",\"Joe Rodon\",\"Cristian Romero\",\"Emerson Emerson Royal\",\"Ivan Peri\\u0161i\\u0107\",\"Cl\\u00e9ment Lenglet\",\"Djed Spence\",\"Angelo Ogbonna\",\"Aaron Cresswell\",\"Craig Dawson\",\"Kurt Zouma\",\"Arthur Masuaku\",\"Vladimir Coufal\",\"Ben Johnson\",\"Nayef Aguerd\",\"Emerson Emerson\",\"Harrison Ashby\",\"Thilo Kehrer\",\"Jonathan Jonny\",\"N\\u00e9lson Semedo\",\"Max Kilman\",\"Rayan A\\u00eft-Nouri\",\"Toti Ant\\u00f3nio Toti\",\"Yerson Mosquera\",\"Nathan Collins\",\"Hugo Bueno\",\"Dexter Lembikisa\"],\"legendgroup\":\"Defender\",\"marker\":{\"color\":\"#636efa\",\"size\":[0.75,1.35,1.6500000000000001,6.1499999999999995,2.55,4.949999999999999,0.75,0.75,5.85,4.949999999999999,0.75,0.75,4.050000000000001,0.75,7.050000000000001,1.9500000000000002,5.85,0.75,0.75,1.0499999999999998,1.0499999999999998,0.75,5.85,0.75,6.0,1.9500000000000002,0.75,1.0499999999999998,1.35,1.9500000000000002,1.9500000000000002,1.35,0.75,1.6500000000000001,0.75,1.0499999999999998,1.0499999999999998,4.35,5.25,5.550000000000001,1.0499999999999998,7.3500000000000005,0.75,0.75,0.75,7.3500000000000005,0.75,3.4499999999999997,0.75,4.65,1.0499999999999998,4.65,1.9500000000000002,0.75,0.75,1.0499999999999998,4.35,6.449999999999999,0.75,0.75,4.949999999999999,2.55,7.050000000000001,0.75,0.75,0.75,3.75,0.75,1.0499999999999998,0.75,0.75,5.550000000000001,0.75,6.0,0.30000000000000004,3.75,3.75,2.55,4.199999999999999,2.7,0.75,2.7,0.75,1.9500000000000002,0.75,4.35,0.75,1.9500000000000002,1.9500000000000002,0.75,1.0499999999999998,0.75,2.25,1.9500000000000002,0.75,0.75,0.75,0.75,7.800000000000001,0.75,0.75,3.0,5.699999999999999,4.800000000000001,3.4499999999999997,0.75,1.0499999999999998,0.75,0.75,0.75,0.75,0.75,2.25,2.25,0.75,0.75,3.75,1.0499999999999998,1.35,0.75,3.4499999999999997,5.550000000000001,0.75,1.0499999999999998,4.65,6.75,1.0499999999999998,0.75,1.35,0.75,6.75,2.25,4.050000000000001,6.1499999999999995,5.550000000000001,3.75,2.55,1.0499999999999998,0.75,0.75,0.75,0.75,0.75,0.75,1.5,6.300000000000001,1.5,4.5,2.7,1.0499999999999998,0.75,0.75,3.3000000000000003,0.75,4.050000000000001,0.75,4.949999999999999,3.3000000000000003,9.75,0.75,2.25,0.75,7.199999999999999,1.0499999999999998,0.75,4.800000000000001,3.4499999999999997,0.75,1.0499999999999998,0.75,0.75,14.25,10.649999999999999,0.44999999999999996,0.75,0.75,0.75,9.75,0.75,0.75,9.75,2.25,0.75,2.8499999999999996,0.75,5.550000000000001,0.75,0.75,0.75,0.75,6.1499999999999995,0.75,0.75,1.35,6.1499999999999995,0.75,9.45,3.1500000000000004,2.55,0.75,1.35,0.75,3.1500000000000004,1.35,0.75,2.25,4.949999999999999,2.7,1.7999999999999998,1.0499999999999998,1.5,0.75,1.0499999999999998,0.75,1.9500000000000002,3.0,4.199999999999999,4.050000000000001,1.0499999999999998,3.75,2.25,1.6500000000000001,4.050000000000001,0.75,3.75,1.0499999999999998,2.8499999999999996,2.8499999999999996,0.75,1.35,1.0499999999999998,5.85,4.65,3.75,1.6500000000000001,0.75,4.65,5.550000000000001,0.75],\"sizemode\":\"area\",\"sizeref\":0.036375,\"symbol\":\"circle\"},\"mode\":\"markers\",\"name\":\"Defender\",\"orientation\":\"v\",\"showlegend\":true,\"x\":[1.0,1.0,1.5,4.4,1.8,4.5,0.0,0.0,4.8,4.2,0.0,1.0,2.6,0.0,3.1,1.4,2.5,1.5,0.0,0.8,0.7,0.0,3.2,0.0,3.5,2.2,1.1,0.6,1.6,2.7,2.5,1.8,0.0,1.6,1.0,2.4,1.0,3.4,2.9,2.8,1.0,3.2,0.0,0.0,1.4,4.2,0.0,1.8,0.0,2.7,2.4,3.1,0.9,0.0,0.0,1.0,2.1,2.7,0.0,0.0,2.7,2.2,3.5,0.0,0.0,3.6,2.9,0.0,3.4,0.0,1.0,3.4,0.0,7.0,-0.3,2.6,1.6,2.7,2.3,2.4,0.0,1.7,0.0,2.2,1.0,4.3,3.0,1.2,2.4,0.0,1.8,0.0,2.3,3.2,1.0,0.0,0.0,1.0,3.0,0.0,0.0,2.1,2.9,2.4,3.1,1.2,0.5,0.0,1.2,0.0,0.0,0.0,2.7,3.7,2.0,3.2,1.8,1.0,2.9,0.0,2.3,2.0,0.0,2.0,1.8,3.3,1.0,0.0,1.9,1.0,4.0,1.1,3.4,3.6,2.9,3.0,1.8,1.9,0.0,0.0,0.0,0.0,1.5,0.0,2.6,3.9,4.3,2.9,3.4,3.2,0.0,0.0,1.6,1.4,3.1,0.0,3.2,1.9,4.1,0.0,2.0,0.0,3.9,3.6,0.0,3.0,2.7,0.0,1.0,0.0,0.0,7.0,4.3,0.8,0.0,1.0,1.0,5.1,2.3,1.0,4.7,1.8,1.7,1.9,0.0,2.1,0.0,0.0,0.0,1.0,4.3,3.5,0.0,1.9,2.2,0.0,4.2,2.0,1.1,0.0,2.5,0.0,1.6,1.5,0.8,1.9,2.9,3.1,3.1,1.8,2.1,0.0,1.0,0.0,2.2,2.4,3.0,1.9,1.0,2.4,2.3,2.0,3.9,0.0,2.1,2.1,2.2,1.4,0.0,2.3,2.5,1.7,2.7,2.2,1.6,0.0,2.5,2.4,1.0],\"xaxis\":\"x\",\"y\":[4.2,4.2,4.7,4.7,4.2,5.2,4.5,4.5,5.3,5.0,4.0,4.2,4.6,4.4,4.3,4.6,4.4,4.7,3.9,4.2,4.3,4.0,4.4,4.0,4.5,4.4,4.4,4.3,4.4,4.3,4.4,4.3,4.4,4.5,4.0,4.2,5.0,4.5,4.5,4.3,4.5,4.4,3.9,4.0,4.9,4.7,4.0,4.0,4.0,4.7,4.5,4.6,4.2,4.0,4.0,4.0,4.4,4.5,4.0,4.0,5.2,4.8,5.4,5.3,3.9,5.8,4.6,5.0,5.7,4.4,4.3,5.5,4.5,5.0,3.9,4.5,4.5,4.5,4.4,4.4,3.9,4.4,4.0,4.4,4.2,4.3,4.3,4.3,4.3,4.0,4.0,4.0,4.3,5.0,4.3,4.0,4.0,4.3,4.5,4.4,3.9,4.5,4.4,4.4,4.3,4.3,4.3,4.0,4.4,3.9,3.9,4.3,4.2,4.6,4.2,4.2,4.2,3.9,4.3,4.0,4.4,4.5,4.9,4.4,4.5,4.5,4.5,3.9,4.8,4.0,4.5,5.9,6.5,6.8,7.3,4.3,4.8,4.4,3.9,4.0,4.0,4.0,3.9,4.0,4.8,5.4,7.1,5.0,5.7,5.9,3.9,3.8,3.9,4.5,5.0,3.9,4.8,4.7,5.2,5.0,4.2,4.0,4.3,4.7,3.8,4.2,4.5,4.0,4.2,4.4,4.5,6.0,4.6,4.3,3.9,4.2,4.3,5.1,4.8,4.4,4.5,4.0,4.4,4.4,4.0,4.2,4.0,4.5,4.2,4.2,4.2,4.3,4.4,4.3,4.3,4.5,4.5,4.4,4.4,4.0,4.2,4.4,4.4,4.5,4.0,4.5,4.6,5.1,4.8,4.3,4.5,4.2,3.9,4.0,4.9,4.9,5.5,4.8,4.1,4.4,4.8,4.8,4.4,4.5,4.1,4.4,4.8,4.0,3.9,4.4,4.3,5.0,4.4,4.2,3.9,3.9,4.4,3.9,4.0],\"yaxis\":\"y\",\"type\":\"scatter\"},{\"customdata\":[[\"Arsenal\"],[\"Arsenal\"],[\"Arsenal\"],[\"Arsenal\"],[\"Arsenal\"],[\"Arsenal\"],[\"Arsenal\"],[\"Arsenal\"],[\"Arsenal\"],[\"Arsenal\"],[\"Arsenal\"],[\"Arsenal\"],[\"Arsenal\"],[\"Arsenal\"],[\"Arsenal\"],[\"Arsenal\"],[\"Arsenal\"],[\"Aston Villa\"],[\"Aston Villa\"],[\"Aston Villa\"],[\"Aston Villa\"],[\"Aston Villa\"],[\"Aston Villa\"],[\"Aston Villa\"],[\"Aston Villa\"],[\"Aston Villa\"],[\"Aston Villa\"],[\"Aston Villa\"],[\"Aston Villa\"],[\"Aston Villa\"],[\"Aston Villa\"],[\"Aston Villa\"],[\"Bournemouth\"],[\"Bournemouth\"],[\"Bournemouth\"],[\"Bournemouth\"],[\"Bournemouth\"],[\"Bournemouth\"],[\"Bournemouth\"],[\"Bournemouth\"],[\"Bournemouth\"],[\"Bournemouth\"],[\"Bournemouth\"],[\"Bournemouth\"],[\"Bournemouth\"],[\"Bournemouth\"],[\"Bournemouth\"],[\"Brentford\"],[\"Brentford\"],[\"Brentford\"],[\"Brentford\"],[\"Brentford\"],[\"Brentford\"],[\"Brentford\"],[\"Brentford\"],[\"Brentford\"],[\"Brentford\"],[\"Brentford\"],[\"Brentford\"],[\"Brentford\"],[\"Brentford\"],[\"Brighton\"],[\"Brighton\"],[\"Brighton\"],[\"Brighton\"],[\"Brighton\"],[\"Brighton\"],[\"Brighton\"],[\"Brighton\"],[\"Brighton\"],[\"Brighton\"],[\"Brighton\"],[\"Brighton\"],[\"Brighton\"],[\"Brighton\"],[\"Brighton\"],[\"Brighton\"],[\"Chelsea\"],[\"Chelsea\"],[\"Chelsea\"],[\"Chelsea\"],[\"Chelsea\"],[\"Chelsea\"],[\"Chelsea\"],[\"Chelsea\"],[\"Chelsea\"],[\"Chelsea\"],[\"Chelsea\"],[\"Chelsea\"],[\"Chelsea\"],[\"Chelsea\"],[\"Chelsea\"],[\"Chelsea\"],[\"Chelsea\"],[\"Chelsea\"],[\"Crystal Palace\"],[\"Crystal Palace\"],[\"Crystal Palace\"],[\"Crystal Palace\"],[\"Crystal Palace\"],[\"Crystal Palace\"],[\"Crystal Palace\"],[\"Crystal Palace\"],[\"Crystal Palace\"],[\"Crystal Palace\"],[\"Crystal Palace\"],[\"Crystal Palace\"],[\"Crystal Palace\"],[\"Crystal Palace\"],[\"Crystal Palace\"],[\"Crystal Palace\"],[\"Everton\"],[\"Everton\"],[\"Everton\"],[\"Everton\"],[\"Everton\"],[\"Everton\"],[\"Everton\"],[\"Everton\"],[\"Everton\"],[\"Everton\"],[\"Everton\"],[\"Everton\"],[\"Everton\"],[\"Everton\"],[\"Everton\"],[\"Everton\"],[\"Everton\"],[\"Fulham\"],[\"Fulham\"],[\"Fulham\"],[\"Fulham\"],[\"Fulham\"],[\"Fulham\"],[\"Fulham\"],[\"Fulham\"],[\"Fulham\"],[\"Fulham\"],[\"Fulham\"],[\"Fulham\"],[\"Fulham\"],[\"Fulham\"],[\"Fulham\"],[\"Fulham\"],[\"Fulham\"],[\"Fulham\"],[\"Leicester\"],[\"Leicester\"],[\"Leicester\"],[\"Leicester\"],[\"Leicester\"],[\"Leicester\"],[\"Leicester\"],[\"Leicester\"],[\"Leicester\"],[\"Leicester\"],[\"Leicester\"],[\"Leicester\"],[\"Leicester\"],[\"Leeds\"],[\"Leeds\"],[\"Leeds\"],[\"Leeds\"],[\"Leeds\"],[\"Leeds\"],[\"Leeds\"],[\"Leeds\"],[\"Leeds\"],[\"Leeds\"],[\"Leeds\"],[\"Leeds\"],[\"Leeds\"],[\"Leeds\"],[\"Leeds\"],[\"Liverpool\"],[\"Liverpool\"],[\"Liverpool\"],[\"Liverpool\"],[\"Liverpool\"],[\"Liverpool\"],[\"Liverpool\"],[\"Liverpool\"],[\"Liverpool\"],[\"Liverpool\"],[\"Liverpool\"],[\"Liverpool\"],[\"Liverpool\"],[\"Liverpool\"],[\"Liverpool\"],[\"Liverpool\"],[\"Man City\"],[\"Man City\"],[\"Man City\"],[\"Man City\"],[\"Man City\"],[\"Man City\"],[\"Man City\"],[\"Man City\"],[\"Man City\"],[\"Man City\"],[\"Man City\"],[\"Man City\"],[\"Man Utd\"],[\"Man Utd\"],[\"Man Utd\"],[\"Man Utd\"],[\"Man Utd\"],[\"Man Utd\"],[\"Man Utd\"],[\"Man Utd\"],[\"Man Utd\"],[\"Man Utd\"],[\"Man Utd\"],[\"Man Utd\"],[\"Man Utd\"],[\"Man Utd\"],[\"Man Utd\"],[\"Newcastle\"],[\"Newcastle\"],[\"Newcastle\"],[\"Newcastle\"],[\"Newcastle\"],[\"Newcastle\"],[\"Newcastle\"],[\"Newcastle\"],[\"Newcastle\"],[\"Newcastle\"],[\"Newcastle\"],[\"Newcastle\"],[\"Nott'm Forest\"],[\"Nott'm Forest\"],[\"Nott'm Forest\"],[\"Nott'm Forest\"],[\"Nott'm Forest\"],[\"Nott'm Forest\"],[\"Nott'm Forest\"],[\"Nott'm Forest\"],[\"Nott'm Forest\"],[\"Nott'm Forest\"],[\"Nott'm Forest\"],[\"Nott'm Forest\"],[\"Nott'm Forest\"],[\"Nott'm Forest\"],[\"Nott'm Forest\"],[\"Nott'm Forest\"],[\"Nott'm Forest\"],[\"Southampton\"],[\"Southampton\"],[\"Southampton\"],[\"Southampton\"],[\"Southampton\"],[\"Southampton\"],[\"Southampton\"],[\"Southampton\"],[\"Southampton\"],[\"Southampton\"],[\"Southampton\"],[\"Southampton\"],[\"Southampton\"],[\"Southampton\"],[\"Southampton\"],[\"Southampton\"],[\"Southampton\"],[\"Southampton\"],[\"Spurs\"],[\"Spurs\"],[\"Spurs\"],[\"Spurs\"],[\"Spurs\"],[\"Spurs\"],[\"Spurs\"],[\"Spurs\"],[\"Spurs\"],[\"Spurs\"],[\"Spurs\"],[\"Spurs\"],[\"Spurs\"],[\"West Ham\"],[\"West Ham\"],[\"West Ham\"],[\"West Ham\"],[\"West Ham\"],[\"West Ham\"],[\"West Ham\"],[\"West Ham\"],[\"West Ham\"],[\"West Ham\"],[\"West Ham\"],[\"West Ham\"],[\"Wolves\"],[\"Wolves\"],[\"Wolves\"],[\"Wolves\"],[\"Wolves\"],[\"Wolves\"],[\"Wolves\"],[\"Wolves\"],[\"Wolves\"],[\"Wolves\"],[\"Wolves\"],[\"Wolves\"],[\"Wolves\"],[\"Wolves\"],[\"Wolves\"],[\"Wolves\"],[\"Wolves\"]],\"hovertemplate\":\"<b>%{hovertext}</b><br><br>Player Type=Midfielder<br>points_per_game=%{x}<br>now_cost=%{y}<br>size=%{marker.size}<br>team_name=%{customdata[0]}<extra></extra>\",\"hovertext\":[\"Granit Xhaka\",\"Mohamed Elneny\",\"Thomas Partey\",\"Martin \\u00d8degaard\",\"Nicolas P\\u00e9p\\u00e9\",\"Emile Smith Rowe\",\"Bukayo Saka\",\"Albert Sambi\",\"Gabriel Martinelli\",\"Lucas Torreira\",\"Reiss Nelson\",\"F\\u00e1bio F\\u00e1bio Vieira\",\"Marcus Marquinhos\",\"Leandro Trossard\",\"Matthew Smith\",\"Ethan Nwaneri\",\"Amario Cozier-Duberry\",\"Philippe Coutinho\",\"Bertrand Traor\\u00e9\",\"Morgan Sanson\",\"John McGinn\",\"Marvelous Nakamba\",\"Emiliano Buend\\u00eda\",\"Leon Bailey\",\"Douglas Luiz Douglas Luiz\",\"Jacob Ramsey\",\"Tim Iroegbunam\",\"Anwar El Ghazi\",\"Boubacar Kamara\",\"Jaden Philogene-Bidace\",\"Leander Dendoncker\",\"Kadan Kadan Young\",\"Junior Stanislas\",\"David Brooks\",\"Jamal Lowe\",\"Emiliano Marcondes\",\"Jefferson Lerma\",\"Lewis Cook\",\"Ben Pearson\",\"Ryan Christie\",\"Philip Billing\",\"Siriki Demb\\u00e9l\\u00e9\",\"Jaidon Anthony\",\"Joe Rothwell\",\"Marcus Tavernier\",\"Michael Dacosta Gonzalez\",\"Dango Ouattara\",\"Christian N\\u00f8rgaard\",\"Josh Dasilva\",\"Vitaly Janelt\",\"Saman Ghoddos\",\"Mathias Jensen\",\"Yoane Wissa\",\"Frank Onyeka\",\"Shandon Baptiste\",\"Mads Bidstrup\",\"Keane Lewis-Potter\",\"Mikkel Damsgaard\",\"Ryan Trevitt\",\"Yegor Yarmolyuk\",\"Kevin Schade\",\"Adam Lallana\",\"Pascal Gro\\u00df\",\"Solly March\",\"Steven Alzate\",\"Alexis Mac Allister\",\"Jakub Moder\",\"Enock Mwepu\",\"Jeremy Sarmiento\",\"Mois\\u00e9s Caicedo\",\"Taylor Richards\",\"Kaoru Mitoma\",\"Kacper Koz\\u0142owski\",\"Billy Gilmour\",\"Andrew Moran\",\"Jack Hinshelwood\",\"Facundo Buonanotte\",\"Carney Chukwuemeka\",\"Jorge Luiz Jorginho\",\"Ross Barkley\",\"Mateo Kovacic\",\"N'Golo Kant\\u00e9\",\"Hakim Ziyech\",\"Ruben Loftus-Cheek\",\"Christian Pulisic\",\"Mason Mount\",\"Callum Hudson-Odoi\",\"Conor Gallagher\",\"Raheem Sterling\",\"Harvey Vale\",\"Denis Zakaria\",\"Omari Hutchinson\",\"Lewis Hall\",\"Mykhailo Mudryk\",\"Andrey Andrey Santos\",\"James McArthur\",\"Luka Milivojevic\",\"Jordan Ayew\",\"Wilfried Zaha\",\"Jeffrey Schlupp\",\"Will Hughes\",\"Jairo Riedewald\",\"Eberechi Eze\",\"Michael Olise\",\"Jesurun Rak-Sakyi\",\"Malcolm Ebiowei\",\"Cheick C.Doucour\\u00e9\",\"Kaden Rodney\",\"Killian Phillips\",\"Jack Wells-Morrison\",\"David Ozoh\",\"Andros Townsend\",\"Dele Dele\",\"Allan Allan\",\"Andr\\u00e9 Andr\\u00e9 Gomes\",\"Abdoulaye A.Doucour\\u00e9\",\"Alex Iwobi\",\"Jean-Philippe Gbamin\",\"Demarai Gray\",\"Tom Davies\",\"Anthony Gordon\",\"Dwight McNeil\",\"Stanley Mills\",\"Lewis Warrington\",\"James Garner\",\"Amadou Onana\",\"Idrissa Gueye\",\"Isaac Price\",\"Tom Cairney\",\"Anthony Knockaert\",\"Nathaniel Chalobah\",\"Neeskens Kebano\",\"Bobby De Cordova-Reid\",\"Harrison Reed\",\"Harry Wilson\",\"Ivan Cavaleiro\",\"Josh Onomah\",\"Jo\\u00e3o Palhinha\",\"Daniel James\",\"Andreas Andreas\",\"Tyrese Francois\",\"Luke Harris\",\"Manor Solomon\",\"Willian Willian\",\"Martial Godo\",\"Kristian Sekularac\",\"Marc Albrighton\",\"Nampalys Mendy\",\"Youri Tielemans\",\"Ayoze P\\u00e9rez\",\"James Maddison\",\"Hamza Choudhury\",\"Harvey Barnes\",\"Wilfred Ndidi\",\"Kiernan Dewsbury-Hall\",\"Boubakary Soumar\\u00e9\",\"Dennis Praet\",\"Sammy Braybrooke\",\"Kasey McAteer\",\"Mateusz Klich\",\"Adam Forshaw\",\"Rodrigo Rodrigo\",\"Tyler Roberts\",\"Raphael Raphinha\",\"Jack Harrison\",\"Jamie Shackleton\",\"Crysencio Summerville\",\"Lewis Bate\",\"Marc Roca\",\"Brenden Aaronson\",\"Darko Gyabi\",\"Tyler Adams\",\"Luis Sinisterra\",\"Archie Gray\",\"James Milner\",\"Jordan Henderson\",\"Thiago Thiago\",\"Alex Chamberlain\",\"Fabio Henrique Fabinho\",\"Mohamed Salah\",\"Naby Keita\",\"Curtis Jones\",\"Luis Luis D\\u00edaz\",\"Harvey Elliott\",\"F\\u00e1bio Carvalho\",\"Stefan Bajcetic\",\"Bobby Clark\",\"Arthur Henrique Arthur\",\"Ben Doak\",\"Cody Gakpo\",\"Ilkay G\\u00fcndogan\",\"Kevin De Bruyne\",\"Riyad Mahrez\",\"Jack Grealish\",\"Bernardo Bernardo\",\"Phil Foden\",\"Rodrigo Rodri\",\"Cole Palmer\",\"James McAtee\",\"Kalvin Phillips\",\"Claudio Gomes\",\"Ben Knight\",\"Frederico Fred\",\"Bruno Fernandes\",\"Marcus Rashford\",\"Donny Van de Beek\",\"Scott McTominay\",\"Jadon Sancho\",\"Anthony Elanga\",\"Facundo Pellistri\",\"Christian Eriksen\",\"Amad Amad\",\"Zidane Iqbal\",\"Alejandro Garnacho\",\"Carlos Henrique Casemiro\",\"Antony Matheus Antony\",\"Kobbie Mainoo\",\"Jonjo Shelvey\",\"Ryan Fraser\",\"Jacob Murphy\",\"Allan Saint-Maximin\",\"Miguel Almir\\u00f3n\",\"Sean S.Longstaff\",\"Joelinton C\\u00e1ssio Joelinton\",\"Joe Willock\",\"Bruno Bruno Guimar\\u00e3es\",\"Jeff Hendrick\",\"Elliot Anderson\",\"Garang Kuol\",\"Harry Arter\",\"Jack Colback\",\"Carlos Caf\\u00fa\",\"Joe Lolley\",\"Ryan Yates\",\"Xande Xande Silva\",\"Alex Mighten\",\"Braian Ojeda\",\"Morgan Gibbs-White\",\"Lewis O'Brien\",\"Jesse Lingard\",\"Orel Mangala\",\"Oliver Hammond\",\"Remo Freuler\",\"Cheikhou Kouyat\\u00e9\",\"Gustavo Henrique Scarpa\",\"Danilo Danilo\",\"Ainsley Maitland-Niles\",\"Rom\\u00e9o Lavia\",\"Theo Walcott\",\"Oriol Romeu\",\"Nathan Redmond\",\"Stuart S.Armstrong\",\"Mohamed Elyounoussi\",\"James Ward-Prowse\",\"Nathan Tella\",\"Will Smallbone\",\"Ibrahima Diallo\",\"Moussa Djenepo\",\"Joe Aribo\",\"Samuel Edozie\",\"Lewis Payne\",\"Ryan Finnigan\",\"Mislav Orsic\",\"Carlos Alcaraz\",\"Son Son\",\"Lucas Lucas Moura\",\"Pierre-Emile H\\u00f8jbjerg\",\"Harry Winks\",\"Steven Bergwijn\",\"Rodrigo Bentancur\",\"Oliver Skipp\",\"Yves Bissouma\",\"Dejan Kulusevski\",\"Harvey White\",\"Pape Matar Sarr\",\"Alfie Devine\",\"Bryan Bryan\",\"Manuel Lanzini\",\"Sa\\u00efd Benrahma\",\"Jarrod Bowen\",\"Nikola Vlasic\",\"Declan Rice\",\"Tomas Soucek\",\"Pablo Fornals\",\"Flynn Downes\",\"Conor Coventry\",\"Armstrong Oko-Flex\",\"Maxwel Cornet\",\"Lucas Paquet\\u00e1\",\"R\\u00faben Neves\",\"Hwang Hwang\",\"Daniel Podence\",\"Luke Cundle\",\"Pedro Neto\",\"Francisco Jorge Chiquinho\",\"Adama Adama\",\"Jo\\u00e3o Filipe Iria Moutinho\",\"Joseph Hodge\",\"Connor Ronan\",\"Chem Campbell\",\"Gon\\u00e7alo Manuel Guedes\",\"Matheus Luiz Matheus\",\"Boubacar Traor\\u00e9\",\"Harvey Griffiths\",\"Mario Lemina\",\"Pablo Sarabia\"],\"legendgroup\":\"Midfielder\",\"marker\":{\"color\":\"#EF553B\",\"size\":[5.85,1.35,4.050000000000001,12.75,0.75,1.0499999999999998,10.649999999999999,0.75,8.25,0.75,0.75,1.35,0.75,1.9500000000000002,0.75,0.75,0.75,1.9500000000000002,0.75,1.0499999999999998,3.1500000000000004,0.75,9.149999999999999,7.3500000000000005,8.25,2.55,0.75,0.75,4.949999999999999,0.75,1.6500000000000001,0.75,0.75,0.75,1.0499999999999998,0.75,3.75,2.8499999999999996,1.35,3.1500000000000004,2.55,2.25,5.550000000000001,2.55,0.75,0.75,8.25,7.6499999999999995,5.85,5.25,1.6500000000000001,7.6499999999999995,4.65,0.75,0.75,0.75,1.35,1.0499999999999998,0.75,0.75,1.5,5.550000000000001,7.050000000000001,14.549999999999999,0.75,2.25,0.75,0.75,3.1500000000000004,4.050000000000001,0.75,10.649999999999999,0.75,1.35,1.0499999999999998,0.75,0.75,2.7,3.4499999999999997,0.75,1.9500000000000002,0.75,4.050000000000001,0.75,2.25,6.300000000000001,0.75,2.7,4.800000000000001,0.75,3.0,1.0499999999999998,2.25,2.25,0.75,0.75,1.2000000000000002,5.699999999999999,4.199999999999999,4.5,1.7999999999999998,1.0499999999999998,4.800000000000001,7.5,0.75,0.75,3.75,0.75,0.75,0.75,1.0499999999999998,0.75,0.75,0.75,0.75,1.35,4.35,0.75,7.949999999999999,1.6500000000000001,1.6500000000000001,2.55,0.75,0.75,0.75,4.949999999999999,4.949999999999999,0.75,1.7999999999999998,0.75,1.0499999999999998,0.75,5.25,3.75,1.7999999999999998,0.75,0.75,5.550000000000001,1.7999999999999998,4.5,0.75,1.0499999999999998,1.0499999999999998,7.199999999999999,0.75,0.75,3.75,2.25,4.050000000000001,2.55,1.0499999999999998,0.75,5.25,2.25,4.65,1.9500000000000002,1.6500000000000001,0.75,0.75,1.35,1.6500000000000001,5.25,0.75,0.75,4.35,0.75,2.25,0.75,3.4499999999999997,4.35,1.0499999999999998,4.050000000000001,1.0499999999999998,0.75,1.35,2.55,3.75,5.25,2.8499999999999996,7.050000000000001,2.8499999999999996,1.0499999999999998,0.75,2.8499999999999996,0.75,3.4499999999999997,0.75,0.75,1.35,3.3000000000000003,4.199999999999999,4.949999999999999,12.0,7.199999999999999,2.25,1.7999999999999998,6.300000000000001,1.0499999999999998,0.75,1.2000000000000002,0.75,0.75,3.3000000000000003,10.5,12.299999999999999,1.5,1.7999999999999998,0.75,1.5,0.75,6.75,0.75,0.75,3.4499999999999997,7.5,3.4499999999999997,0.75,0.75,0.75,2.25,2.25,6.449999999999999,5.25,7.6499999999999995,5.25,4.949999999999999,0.75,1.0499999999999998,0.75,0.75,1.6500000000000001,0.75,0.75,3.1500000000000004,0.75,0.75,0.75,5.85,1.35,1.0499999999999998,3.1500000000000004,0.75,4.050000000000001,0.75,1.7999999999999998,2.25,1.9500000000000002,2.8499999999999996,0.75,0.75,0.75,1.35,3.1500000000000004,10.05,0.75,0.75,1.9500000000000002,1.35,1.6500000000000001,3.75,0.75,0.75,1.5,1.5,4.800000000000001,0.75,5.25,0.75,0.75,1.2000000000000002,1.5,1.7999999999999998,4.050000000000001,1.0499999999999998,1.5,0.75,2.7,0.75,4.949999999999999,9.45,0.75,3.75,2.8499999999999996,2.25,1.35,0.75,0.75,0.75,5.550000000000001,3.75,2.8499999999999996,7.949999999999999,0.75,0.75,0.75,2.25,5.550000000000001,1.35,0.75,0.75,1.0499999999999998,3.75,0.75,0.75,2.25,2.25],\"sizemode\":\"area\",\"sizeref\":0.036375,\"symbol\":\"circle\"},\"mode\":\"markers\",\"name\":\"Midfielder\",\"orientation\":\"v\",\"showlegend\":true,\"x\":[4.2,1.2,3.3,6.5,0.0,1.0,5.7,1.3,5.4,0.0,10.0,2.4,1.0,4.9,0.0,1.0,0.0,1.3,0.0,1.0,2.1,0.0,2.9,3.7,3.3,3.1,0.0,0.0,2.0,0.0,1.5,0.0,1.0,0.0,1.0,1.0,2.5,2.3,1.3,1.9,3.4,1.0,2.5,1.3,4.1,0.0,5.0,3.9,2.5,2.6,1.0,3.5,2.9,1.5,1.5,0.0,1.4,1.0,0.0,0.0,1.0,2.9,4.7,4.7,0.0,3.9,0.0,1.8,1.7,2.4,0.0,4.0,0.0,1.0,1.0,0.0,0.0,1.4,2.7,0.0,1.7,2.5,1.9,1.8,1.8,3.9,0.0,1.7,4.1,0.0,2.2,1.0,1.6,1.0,0.0,0.0,1.3,2.4,4.1,2.1,0.9,1.0,3.8,3.4,0.0,1.0,2.1,0.0,0.0,0.0,1.0,0.0,1.0,0.0,0.0,1.0,3.5,0.0,3.2,1.1,2.7,2.2,0.0,0.0,0.8,2.6,2.1,0.0,1.1,0.0,0.2,2.9,3.3,2.9,1.5,0.0,1.0,3.0,1.6,3.8,1.0,1.0,1.0,4.2,0.0,0.0,2.2,1.2,3.2,2.4,5.6,0.0,4.2,1.4,3.5,1.8,1.6,0.0,0.0,0.9,1.2,5.1,0.0,0.0,3.4,0.0,3.8,0.0,2.1,2.8,1.0,2.0,2.3,0.0,1.7,1.6,1.8,2.6,1.8,5.4,1.4,1.0,4.9,2.2,2.3,2.5,1.0,0.0,1.0,2.5,3.5,5.6,4.5,3.8,3.7,4.4,3.2,0.9,0.0,1.0,0.0,0.0,1.9,4.6,5.4,1.1,1.2,4.0,1.5,0.0,3.9,0.0,0.0,2.1,3.6,3.5,0.0,1.0,1.4,1.8,3.2,5.6,2.8,3.3,3.5,3.9,0.0,1.0,0.0,0.0,1.1,1.0,0.0,2.1,0.0,1.0,0.0,3.8,1.7,2.1,1.6,0.0,2.0,2.2,0.7,1.0,1.4,2.0,1.0,2.0,1.0,1.6,1.8,3.8,0.0,0.0,1.2,1.7,2.3,1.4,0.0,0.0,1.0,1.0,3.8,1.0,4.0,0.0,0.0,4.1,1.1,1.2,4.5,1.0,1.0,0.0,2.2,1.0,2.7,3.8,0.0,2.8,2.5,2.2,1.5,1.0,0.0,1.0,3.0,3.5,1.4,3.4,0.0,2.2,0.0,1.9,2.2,0.8,1.0,1.0,2.2,2.3,1.5,0.0,1.0,1.0],\"xaxis\":\"x\",\"y\":[5.0,4.1,4.8,6.9,5.3,5.6,8.2,4.3,6.7,4.5,4.7,5.7,4.6,6.7,4.5,4.5,4.5,6.6,4.9,4.3,5.1,4.3,5.7,4.5,4.8,5.2,4.5,4.8,4.8,4.5,4.7,4.5,4.8,5.3,5.2,4.7,4.8,4.9,4.4,5.3,5.2,4.7,5.2,4.9,4.7,4.5,5.0,5.3,4.2,5.5,4.8,4.8,5.3,4.8,4.5,4.5,5.2,5.1,4.5,4.5,5.0,4.9,5.6,5.1,4.4,5.4,4.4,5.3,4.5,5.0,4.5,5.1,4.5,4.3,4.5,4.5,4.5,4.3,5.8,4.9,4.9,4.8,5.5,5.0,5.7,7.5,5.3,5.7,9.7,4.5,5.0,4.4,4.4,7.0,4.5,4.8,4.3,5.3,7.3,4.7,4.8,4.3,5.6,5.4,4.5,4.2,5.0,4.5,4.5,4.5,4.5,5.4,5.3,4.8,4.5,5.3,5.4,4.5,5.3,4.9,5.2,5.2,4.4,4.4,4.5,4.8,4.9,4.5,4.7,4.7,4.4,5.4,5.5,4.5,5.7,4.8,4.3,5.0,6.0,4.5,4.4,4.4,4.9,5.5,4.5,4.5,4.7,4.3,6.2,4.7,8.0,4.5,6.7,4.8,4.9,4.4,4.8,4.5,4.5,4.6,4.4,6.4,5.0,7.0,5.8,4.5,4.2,4.5,4.8,5.4,4.3,4.9,6.5,4.5,4.4,5.3,5.2,4.9,5.3,12.8,4.7,4.9,7.8,4.9,5.2,4.4,4.5,4.8,4.5,7.9,7.3,12.5,7.6,6.8,6.8,8.1,5.6,4.3,4.5,4.8,4.5,4.5,5.1,9.8,7.1,5.1,4.9,7.1,4.7,4.3,6.3,4.4,4.3,4.2,4.9,7.3,4.5,4.8,5.2,4.2,6.1,5.9,4.3,5.9,4.8,5.6,4.5,4.4,4.5,4.2,4.2,4.3,4.9,5.0,5.0,4.9,4.5,5.5,4.8,5.4,4.9,4.3,4.9,4.5,5.0,4.5,4.8,4.5,4.8,4.8,5.3,4.7,5.2,6.2,5.0,4.5,4.3,5.0,5.1,4.7,4.5,4.5,5.5,5.0,11.6,5.8,5.5,4.4,5.5,5.4,4.3,4.7,7.9,4.4,4.3,4.3,5.0,5.1,5.6,8.0,5.0,4.7,5.1,5.0,4.2,4.4,4.4,5.9,5.9,5.4,5.7,5.3,4.4,4.9,5.0,5.5,4.7,4.4,4.4,4.4,5.8,4.8,4.4,4.5,4.5,5.5],\"yaxis\":\"y\",\"type\":\"scatter\"},{\"customdata\":[[\"Arsenal\"],[\"Arsenal\"],[\"Arsenal\"],[\"Aston Villa\"],[\"Aston Villa\"],[\"Aston Villa\"],[\"Bournemouth\"],[\"Bournemouth\"],[\"Bournemouth\"],[\"Bournemouth\"],[\"Bournemouth\"],[\"Bournemouth\"],[\"Brentford\"],[\"Brentford\"],[\"Brentford\"],[\"Brentford\"],[\"Brighton\"],[\"Brighton\"],[\"Brighton\"],[\"Brighton\"],[\"Chelsea\"],[\"Chelsea\"],[\"Chelsea\"],[\"Chelsea\"],[\"Chelsea\"],[\"Chelsea\"],[\"Crystal Palace\"],[\"Crystal Palace\"],[\"Crystal Palace\"],[\"Crystal Palace\"],[\"Crystal Palace\"],[\"Everton\"],[\"Everton\"],[\"Everton\"],[\"Everton\"],[\"Everton\"],[\"Fulham\"],[\"Fulham\"],[\"Fulham\"],[\"Fulham\"],[\"Fulham\"],[\"Leicester\"],[\"Leicester\"],[\"Leicester\"],[\"Leeds\"],[\"Leeds\"],[\"Leeds\"],[\"Leeds\"],[\"Leeds\"],[\"Leeds\"],[\"Leeds\"],[\"Liverpool\"],[\"Liverpool\"],[\"Liverpool\"],[\"Man City\"],[\"Man City\"],[\"Man City\"],[\"Man Utd\"],[\"Man Utd\"],[\"Man Utd\"],[\"Man Utd\"],[\"Newcastle\"],[\"Newcastle\"],[\"Newcastle\"],[\"Nott'm Forest\"],[\"Nott'm Forest\"],[\"Nott'm Forest\"],[\"Nott'm Forest\"],[\"Nott'm Forest\"],[\"Nott'm Forest\"],[\"Nott'm Forest\"],[\"Southampton\"],[\"Southampton\"],[\"Southampton\"],[\"Southampton\"],[\"Spurs\"],[\"Spurs\"],[\"Spurs\"],[\"Spurs\"],[\"West Ham\"],[\"West Ham\"],[\"West Ham\"],[\"West Ham\"],[\"Wolves\"],[\"Wolves\"],[\"Wolves\"],[\"Wolves\"],[\"Wolves\"],[\"Wolves\"]],\"hovertemplate\":\"<b>%{hovertext}</b><br><br>Player Type=Forward<br>points_per_game=%{x}<br>now_cost=%{y}<br>size=%{marker.size}<br>team_name=%{customdata[0]}<extra></extra>\",\"hovertext\":[\"Eddie Nketiah\",\"Gabriel Jesus\",\"Nathan Butler-Oyedeji\",\"Ollie Watkins\",\"Keinan Davis\",\"Cameron Archer\",\"Kieffer Moore\",\"Dominic Solanke\",\"Christian Saydee\",\"Daniel Adu-Adjei\",\"Dominic Sadi\",\"Euan Pollock\",\"Ivan Toney\",\"Bryan Mbeumo\",\"Marcus Forss\",\"Halil Dervi\\u015fo\\u011flu\",\"Danny Welbeck\",\"Deniz Undav\",\"Julio Enciso\",\"Evan Ferguson\",\"Timo Werner\",\"Kai Havertz\",\"Armando Broja\",\"Pierre-Emerick Aubameyang\",\"David Datro D.D.Fofana\",\"Jo\\u00e3o Jo\\u00e3o F\\u00e9lix\",\"Christian Benteke\",\"Odsonne Edouard\",\"Jean-Philippe Mateta\",\"Luke Plange\",\"John-Kymani Gordon\",\"Neal Maupay\",\"Salom\\u00f3n Rond\\u00f3n\",\"Dominic Calvert-Lewin\",\"Thomas Cannon\",\"Ellis Simms\",\"Aleksandar Mitrovi\\u0107\",\"Rodrigo Muniz\",\"Jay Stansfield\",\"Terry Ablade\",\"Carlos Vin\\u00edcius Vin\\u00edcius\",\"Jamie Vardy\",\"Kelechi Iheanacho\",\"Patson Daka\",\"Patrick Bamford\",\"Sam Greenwood\",\"Joe Gelhardt\",\"Wilfried Gnonto\",\"Mateo Joseph Mateo Joseph\",\"Sonny Perkins\",\"Georginio Rutter\",\"Roberto Firmino\",\"Diogo Diogo Jota\",\"Darwin Darwin\",\"Erling Haaland\",\"Juli\\u00e1n \\u00c1lvarez\",\"Liam Delap\",\"Cristiano Ronaldo Ronaldo\",\"Anthony Martial\",\"Shola Shoretire\",\"Wout Weghorst\",\"Callum Wilson\",\"Dwight Gayle\",\"Alexander Isak\",\"Chris Wood\",\"Lyle Lyle Taylor\",\"Sam Surridge\",\"Brennan Johnson\",\"Taiwo Awoniyi\",\"Emmanuel Dennis\",\"Dale Dale Taylor\",\"Adam A.Armstrong\",\"Che Adams\",\"S\\u00e9kou Mara\",\"Jimmy Morgan\",\"Harry Kane\",\"Dane Scarlett\",\"Troy Parrott\",\"Richarlison Richarlison\",\"Danny Ings\",\"Michail Antonio\",\"Gianluca Scamacca\",\"Divin Mubama\",\"Ra\\u00fal Jim\\u00e9nez\",\"Fabio Fabio Silva\",\"Sasa Kalajd\\u017ei\\u0107\",\"Diego Diego Costa\",\"Nathan Fraser\",\"Matheus Cunha\"],\"legendgroup\":\"Forward\",\"marker\":{\"color\":\"#00cc96\",\"size\":[9.75,0.75,0.75,7.3500000000000005,0.75,0.75,3.4499999999999997,2.25,0.75,0.75,0.75,0.75,8.850000000000001,6.1499999999999995,0.75,0.75,2.8499999999999996,0.75,1.35,9.149999999999999,0.75,7.199999999999999,0.75,2.25,0.75,0.0,0.75,2.55,1.9500000000000002,0.75,0.75,1.6500000000000001,0.75,3.1500000000000004,1.0499999999999998,1.7999999999999998,5.699999999999999,0.75,0.75,0.75,3.4499999999999997,3.4499999999999997,1.9500000000000002,2.55,2.8499999999999996,2.8499999999999996,2.8499999999999996,5.25,0.75,0.75,0.75,0.75,0.75,3.4499999999999997,12.299999999999999,3.0,0.75,0.75,3.4499999999999997,0.75,2.7,3.1500000000000004,0.75,3.4499999999999997,4.949999999999999,0.75,4.35,8.25,4.65,1.0499999999999998,0.75,2.55,6.75,2.55,0.75,8.7,0.75,0.75,1.2000000000000002,4.35,4.050000000000001,4.050000000000001,1.0499999999999998,1.6500000000000001,0.75,0.75,1.6500000000000001,0.75,2.7],\"sizemode\":\"area\",\"sizeref\":0.036375,\"symbol\":\"circle\"},\"mode\":\"markers\",\"name\":\"Forward\",\"orientation\":\"v\",\"showlegend\":true,\"x\":[2.5,4.9,0.0,3.6,0.0,1.0,2.5,3.9,0.0,0.0,0.0,0.0,6.1,3.1,0.0,4.0,2.9,1.0,1.5,5.6,0.0,3.3,1.8,1.9,0.0,-2.0,0.0,2.6,1.2,0.0,0.0,1.9,1.0,2.3,1.0,1.0,5.1,0.0,2.3,0.0,1.8,2.5,1.6,2.6,2.0,2.2,1.3,2.6,1.0,0.0,0.0,5.3,2.0,3.8,8.9,2.7,0.0,2.0,3.6,0.0,2.0,4.2,0.0,5.4,1.9,0.0,1.5,3.1,3.1,2.0,0.0,2.1,3.7,1.3,0.0,6.7,0.0,0.0,1.9,3.1,2.3,2.6,1.0,1.3,0.0,1.0,1.1,0.0,1.3],\"xaxis\":\"x\",\"y\":[6.6,7.9,4.5,7.1,5.4,4.2,5.3,5.6,4.5,4.5,4.5,4.5,7.7,5.8,4.5,4.5,6.5,5.1,4.7,4.6,7.9,7.8,5.3,8.5,5.0,7.5,5.5,5.1,5.1,4.5,4.5,5.9,4.9,7.9,4.5,4.5,7.1,5.4,4.5,4.5,5.4,9.1,6.1,5.7,7.2,4.2,5.1,5.0,4.5,4.5,5.5,8.0,8.8,8.8,12.2,6.0,4.4,10.2,6.5,4.5,6.0,7.1,4.5,6.6,5.6,4.2,4.7,5.6,5.7,5.7,4.5,5.4,6.3,5.3,4.5,11.7,4.5,4.5,8.4,6.4,7.0,6.6,4.5,6.7,5.5,5.3,5.4,4.5,5.5],\"yaxis\":\"y\",\"type\":\"scatter\"},{\"customdata\":[[\"Arsenal\"],[\"Arsenal\"],[\"Arsenal\"],[\"Aston Villa\"],[\"Aston Villa\"],[\"Aston Villa\"],[\"Aston Villa\"],[\"Bournemouth\"],[\"Bournemouth\"],[\"Bournemouth\"],[\"Bournemouth\"],[\"Brentford\"],[\"Brentford\"],[\"Brentford\"],[\"Brentford\"],[\"Brighton\"],[\"Brighton\"],[\"Brighton\"],[\"Chelsea\"],[\"Chelsea\"],[\"Chelsea\"],[\"Crystal Palace\"],[\"Crystal Palace\"],[\"Crystal Palace\"],[\"Crystal Palace\"],[\"Crystal Palace\"],[\"Everton\"],[\"Everton\"],[\"Everton\"],[\"Fulham\"],[\"Fulham\"],[\"Fulham\"],[\"Leicester\"],[\"Leicester\"],[\"Leicester\"],[\"Leicester\"],[\"Leeds\"],[\"Leeds\"],[\"Leeds\"],[\"Liverpool\"],[\"Liverpool\"],[\"Liverpool\"],[\"Liverpool\"],[\"Man City\"],[\"Man City\"],[\"Man City\"],[\"Man City\"],[\"Man Utd\"],[\"Man Utd\"],[\"Man Utd\"],[\"Man Utd\"],[\"Man Utd\"],[\"Newcastle\"],[\"Newcastle\"],[\"Newcastle\"],[\"Newcastle\"],[\"Nott'm Forest\"],[\"Nott'm Forest\"],[\"Nott'm Forest\"],[\"Nott'm Forest\"],[\"Southampton\"],[\"Southampton\"],[\"Southampton\"],[\"Southampton\"],[\"Spurs\"],[\"Spurs\"],[\"Spurs\"],[\"West Ham\"],[\"West Ham\"],[\"West Ham\"],[\"Wolves\"],[\"Wolves\"],[\"Wolves\"]],\"hovertemplate\":\"<b>%{hovertext}</b><br><br>Player Type=Goalkeeper<br>points_per_game=%{x}<br>now_cost=%{y}<br>size=%{marker.size}<br>team_name=%{customdata[0]}<extra></extra>\",\"hovertext\":[\"Aaron Ramsdale\",\"Matt Turner\",\"Karl Hein\",\"Emiliano Mart\\u00ednez\",\"Robin Olsen\",\"Filip Marschall\",\"Viljami Sinisalo\",\"Mark Travers\",\"Will Dennis\",\"Norberto Neto\",\"Cameron Plain\",\"David Raya\",\"Ellery Balcombe\",\"Thomas Strakosha\",\"Matthew Cox\",\"Jason Steele\",\"Robert S\\u00e1nchez\",\"Kjell Scherpen\",\"Kepa Arrizabalaga\",\"Edouard Mendy\",\"Marcus Bettinelli\",\"Vicente Guaita\",\"Sam Johnstone\",\"Remi Matthews\",\"Joseph Whitworth\",\"Owen Goodman\",\"Asmir Begovi\\u0107\",\"Jordan Pickford\",\"Eldin Jakupovi\\u0107\",\"Bernd Leno\",\"Paulo Gazzaniga\",\"Marek Rod\\u00e1k\",\"Kasper Schmeichel\",\"Danny Ward\",\"Daniel Iversen\",\"Alex Smithies\",\"Kristoffer Klaesson\",\"Illan Meslier\",\"Joel Robles\",\"Alisson Alisson\",\"Caoimhin Kelleher\",\"Adri\\u00e1n Adri\\u00e1n\",\"Harvey H.Davies\",\"Ederson Ederson\",\"Zack Steffen\",\"Stefan Ortega\",\"Scott Carson\",\"Jack Butland\",\"David De Gea\",\"Tom Heaton\",\"Matej Kov\\u00e1r\",\"Nathan Bishop\",\"Karl Darlow\",\"Martin Dubravka\",\"Nick Pope\",\"Loris Karius\",\"Brice Samba\",\"Dean Henderson\",\"Wayne Hennessey\",\"Jordan Smith\",\"Alex McCarthy\",\"Mateusz Lis\",\"Gavin Bazunu\",\"Willy Caballero\",\"Hugo Lloris\",\"Fraser Forster\",\"Brandon Austin\",\"Lukasz Fabianski\",\"Alphonse Areola\",\"Darren Randolph\",\"Jos\\u00e9 S\\u00e1\",\"Matija \\u0160arki\\u0107\",\"Jackson Smith\"],\"legendgroup\":\"Goalkeeper\",\"marker\":{\"color\":\"#ab63fa\",\"size\":[7.6499999999999995,0.75,0.75,4.65,3.75,0.75,0.75,2.55,0.75,1.6500000000000001,0.75,9.75,0.75,0.75,0.75,0.75,7.050000000000001,0.75,9.3,0.75,0.75,7.199999999999999,0.75,0.75,0.75,0.75,0.75,2.8499999999999996,0.75,7.050000000000001,0.75,0.75,0.75,3.4499999999999997,0.75,0.75,0.75,6.449999999999999,0.75,6.1499999999999995,0.75,0.75,0.75,5.699999999999999,0.75,0.75,0.75,0.75,7.5,0.75,0.75,0.75,0.75,0.75,10.649999999999999,0.75,0.75,5.25,1.9500000000000002,0.75,0.75,0.75,5.550000000000001,0.75,2.7,1.2000000000000002,0.75,4.949999999999999,0.75,0.75,7.050000000000001,0.75,0.75],\"sizemode\":\"area\",\"sizeref\":0.036375,\"symbol\":\"circle\"},\"mode\":\"markers\",\"name\":\"Goalkeeper\",\"orientation\":\"v\",\"showlegend\":true,\"x\":[4.3,0.0,0.0,3.5,3.0,0.0,0.0,2.3,0.0,2.8,0.0,4.5,0.0,0.0,0.0,0.0,3.6,0.0,5.2,2.6,0.0,3.7,0.0,0.0,0.0,0.0,9.0,3.3,0.0,4.0,0.0,3.5,0.0,3.5,0.0,0.0,0.0,3.3,0.0,4.4,0.0,0.0,0.0,3.9,0.0,0.0,0.0,0.0,3.9,0.0,0.0,0.0,0.0,0.0,5.2,0.0,0.0,4.6,2.0,0.0,0.0,0.0,2.5,0.0,3.3,2.0,0.0,3.6,1.0,0.0,4.1,0.0,0.0],\"xaxis\":\"x\",\"y\":[4.9,3.9,4.0,4.9,3.9,4.0,4.0,4.3,3.9,4.5,4.0,4.7,4.0,4.3,3.9,3.9,4.6,4.0,4.6,4.8,4.0,4.4,4.4,4.0,4.0,4.0,4.0,4.4,4.0,4.5,4.0,4.3,5.0,4.1,3.9,4.0,3.9,4.5,4.0,5.5,4.0,3.9,4.0,5.4,4.0,3.8,3.8,4.4,4.9,3.9,4.0,4.0,3.9,4.2,5.5,4.0,4.5,4.7,3.9,4.0,4.3,4.0,4.5,3.9,5.5,3.9,3.9,5.0,4.3,4.0,5.0,3.9,3.9],\"yaxis\":\"y\",\"type\":\"scatter\"}],                        {\"template\":{\"data\":{\"histogram2dcontour\":[{\"type\":\"histogram2dcontour\",\"colorbar\":{\"outlinewidth\":0,\"ticks\":\"\"},\"colorscale\":[[0.0,\"#0d0887\"],[0.1111111111111111,\"#46039f\"],[0.2222222222222222,\"#7201a8\"],[0.3333333333333333,\"#9c179e\"],[0.4444444444444444,\"#bd3786\"],[0.5555555555555556,\"#d8576b\"],[0.6666666666666666,\"#ed7953\"],[0.7777777777777778,\"#fb9f3a\"],[0.8888888888888888,\"#fdca26\"],[1.0,\"#f0f921\"]]}],\"choropleth\":[{\"type\":\"choropleth\",\"colorbar\":{\"outlinewidth\":0,\"ticks\":\"\"}}],\"histogram2d\":[{\"type\":\"histogram2d\",\"colorbar\":{\"outlinewidth\":0,\"ticks\":\"\"},\"colorscale\":[[0.0,\"#0d0887\"],[0.1111111111111111,\"#46039f\"],[0.2222222222222222,\"#7201a8\"],[0.3333333333333333,\"#9c179e\"],[0.4444444444444444,\"#bd3786\"],[0.5555555555555556,\"#d8576b\"],[0.6666666666666666,\"#ed7953\"],[0.7777777777777778,\"#fb9f3a\"],[0.8888888888888888,\"#fdca26\"],[1.0,\"#f0f921\"]]}],\"heatmap\":[{\"type\":\"heatmap\",\"colorbar\":{\"outlinewidth\":0,\"ticks\":\"\"},\"colorscale\":[[0.0,\"#0d0887\"],[0.1111111111111111,\"#46039f\"],[0.2222222222222222,\"#7201a8\"],[0.3333333333333333,\"#9c179e\"],[0.4444444444444444,\"#bd3786\"],[0.5555555555555556,\"#d8576b\"],[0.6666666666666666,\"#ed7953\"],[0.7777777777777778,\"#fb9f3a\"],[0.8888888888888888,\"#fdca26\"],[1.0,\"#f0f921\"]]}],\"heatmapgl\":[{\"type\":\"heatmapgl\",\"colorbar\":{\"outlinewidth\":0,\"ticks\":\"\"},\"colorscale\":[[0.0,\"#0d0887\"],[0.1111111111111111,\"#46039f\"],[0.2222222222222222,\"#7201a8\"],[0.3333333333333333,\"#9c179e\"],[0.4444444444444444,\"#bd3786\"],[0.5555555555555556,\"#d8576b\"],[0.6666666666666666,\"#ed7953\"],[0.7777777777777778,\"#fb9f3a\"],[0.8888888888888888,\"#fdca26\"],[1.0,\"#f0f921\"]]}],\"contourcarpet\":[{\"type\":\"contourcarpet\",\"colorbar\":{\"outlinewidth\":0,\"ticks\":\"\"}}],\"contour\":[{\"type\":\"contour\",\"colorbar\":{\"outlinewidth\":0,\"ticks\":\"\"},\"colorscale\":[[0.0,\"#0d0887\"],[0.1111111111111111,\"#46039f\"],[0.2222222222222222,\"#7201a8\"],[0.3333333333333333,\"#9c179e\"],[0.4444444444444444,\"#bd3786\"],[0.5555555555555556,\"#d8576b\"],[0.6666666666666666,\"#ed7953\"],[0.7777777777777778,\"#fb9f3a\"],[0.8888888888888888,\"#fdca26\"],[1.0,\"#f0f921\"]]}],\"surface\":[{\"type\":\"surface\",\"colorbar\":{\"outlinewidth\":0,\"ticks\":\"\"},\"colorscale\":[[0.0,\"#0d0887\"],[0.1111111111111111,\"#46039f\"],[0.2222222222222222,\"#7201a8\"],[0.3333333333333333,\"#9c179e\"],[0.4444444444444444,\"#bd3786\"],[0.5555555555555556,\"#d8576b\"],[0.6666666666666666,\"#ed7953\"],[0.7777777777777778,\"#fb9f3a\"],[0.8888888888888888,\"#fdca26\"],[1.0,\"#f0f921\"]]}],\"mesh3d\":[{\"type\":\"mesh3d\",\"colorbar\":{\"outlinewidth\":0,\"ticks\":\"\"}}],\"scatter\":[{\"fillpattern\":{\"fillmode\":\"overlay\",\"size\":10,\"solidity\":0.2},\"type\":\"scatter\"}],\"parcoords\":[{\"type\":\"parcoords\",\"line\":{\"colorbar\":{\"outlinewidth\":0,\"ticks\":\"\"}}}],\"scatterpolargl\":[{\"type\":\"scatterpolargl\",\"marker\":{\"colorbar\":{\"outlinewidth\":0,\"ticks\":\"\"}}}],\"bar\":[{\"error_x\":{\"color\":\"#2a3f5f\"},\"error_y\":{\"color\":\"#2a3f5f\"},\"marker\":{\"line\":{\"color\":\"#E5ECF6\",\"width\":0.5},\"pattern\":{\"fillmode\":\"overlay\",\"size\":10,\"solidity\":0.2}},\"type\":\"bar\"}],\"scattergeo\":[{\"type\":\"scattergeo\",\"marker\":{\"colorbar\":{\"outlinewidth\":0,\"ticks\":\"\"}}}],\"scatterpolar\":[{\"type\":\"scatterpolar\",\"marker\":{\"colorbar\":{\"outlinewidth\":0,\"ticks\":\"\"}}}],\"histogram\":[{\"marker\":{\"pattern\":{\"fillmode\":\"overlay\",\"size\":10,\"solidity\":0.2}},\"type\":\"histogram\"}],\"scattergl\":[{\"type\":\"scattergl\",\"marker\":{\"colorbar\":{\"outlinewidth\":0,\"ticks\":\"\"}}}],\"scatter3d\":[{\"type\":\"scatter3d\",\"line\":{\"colorbar\":{\"outlinewidth\":0,\"ticks\":\"\"}},\"marker\":{\"colorbar\":{\"outlinewidth\":0,\"ticks\":\"\"}}}],\"scattermapbox\":[{\"type\":\"scattermapbox\",\"marker\":{\"colorbar\":{\"outlinewidth\":0,\"ticks\":\"\"}}}],\"scatterternary\":[{\"type\":\"scatterternary\",\"marker\":{\"colorbar\":{\"outlinewidth\":0,\"ticks\":\"\"}}}],\"scattercarpet\":[{\"type\":\"scattercarpet\",\"marker\":{\"colorbar\":{\"outlinewidth\":0,\"ticks\":\"\"}}}],\"carpet\":[{\"aaxis\":{\"endlinecolor\":\"#2a3f5f\",\"gridcolor\":\"white\",\"linecolor\":\"white\",\"minorgridcolor\":\"white\",\"startlinecolor\":\"#2a3f5f\"},\"baxis\":{\"endlinecolor\":\"#2a3f5f\",\"gridcolor\":\"white\",\"linecolor\":\"white\",\"minorgridcolor\":\"white\",\"startlinecolor\":\"#2a3f5f\"},\"type\":\"carpet\"}],\"table\":[{\"cells\":{\"fill\":{\"color\":\"#EBF0F8\"},\"line\":{\"color\":\"white\"}},\"header\":{\"fill\":{\"color\":\"#C8D4E3\"},\"line\":{\"color\":\"white\"}},\"type\":\"table\"}],\"barpolar\":[{\"marker\":{\"line\":{\"color\":\"#E5ECF6\",\"width\":0.5},\"pattern\":{\"fillmode\":\"overlay\",\"size\":10,\"solidity\":0.2}},\"type\":\"barpolar\"}],\"pie\":[{\"automargin\":true,\"type\":\"pie\"}]},\"layout\":{\"autotypenumbers\":\"strict\",\"colorway\":[\"#636efa\",\"#EF553B\",\"#00cc96\",\"#ab63fa\",\"#FFA15A\",\"#19d3f3\",\"#FF6692\",\"#B6E880\",\"#FF97FF\",\"#FECB52\"],\"font\":{\"color\":\"#2a3f5f\"},\"hovermode\":\"closest\",\"hoverlabel\":{\"align\":\"left\"},\"paper_bgcolor\":\"white\",\"plot_bgcolor\":\"#E5ECF6\",\"polar\":{\"bgcolor\":\"#E5ECF6\",\"angularaxis\":{\"gridcolor\":\"white\",\"linecolor\":\"white\",\"ticks\":\"\"},\"radialaxis\":{\"gridcolor\":\"white\",\"linecolor\":\"white\",\"ticks\":\"\"}},\"ternary\":{\"bgcolor\":\"#E5ECF6\",\"aaxis\":{\"gridcolor\":\"white\",\"linecolor\":\"white\",\"ticks\":\"\"},\"baxis\":{\"gridcolor\":\"white\",\"linecolor\":\"white\",\"ticks\":\"\"},\"caxis\":{\"gridcolor\":\"white\",\"linecolor\":\"white\",\"ticks\":\"\"}},\"coloraxis\":{\"colorbar\":{\"outlinewidth\":0,\"ticks\":\"\"}},\"colorscale\":{\"sequential\":[[0.0,\"#0d0887\"],[0.1111111111111111,\"#46039f\"],[0.2222222222222222,\"#7201a8\"],[0.3333333333333333,\"#9c179e\"],[0.4444444444444444,\"#bd3786\"],[0.5555555555555556,\"#d8576b\"],[0.6666666666666666,\"#ed7953\"],[0.7777777777777778,\"#fb9f3a\"],[0.8888888888888888,\"#fdca26\"],[1.0,\"#f0f921\"]],\"sequentialminus\":[[0.0,\"#0d0887\"],[0.1111111111111111,\"#46039f\"],[0.2222222222222222,\"#7201a8\"],[0.3333333333333333,\"#9c179e\"],[0.4444444444444444,\"#bd3786\"],[0.5555555555555556,\"#d8576b\"],[0.6666666666666666,\"#ed7953\"],[0.7777777777777778,\"#fb9f3a\"],[0.8888888888888888,\"#fdca26\"],[1.0,\"#f0f921\"]],\"diverging\":[[0,\"#8e0152\"],[0.1,\"#c51b7d\"],[0.2,\"#de77ae\"],[0.3,\"#f1b6da\"],[0.4,\"#fde0ef\"],[0.5,\"#f7f7f7\"],[0.6,\"#e6f5d0\"],[0.7,\"#b8e186\"],[0.8,\"#7fbc41\"],[0.9,\"#4d9221\"],[1,\"#276419\"]]},\"xaxis\":{\"gridcolor\":\"white\",\"linecolor\":\"white\",\"ticks\":\"\",\"title\":{\"standoff\":15},\"zerolinecolor\":\"white\",\"automargin\":true,\"zerolinewidth\":2},\"yaxis\":{\"gridcolor\":\"white\",\"linecolor\":\"white\",\"ticks\":\"\",\"title\":{\"standoff\":15},\"zerolinecolor\":\"white\",\"automargin\":true,\"zerolinewidth\":2},\"scene\":{\"xaxis\":{\"backgroundcolor\":\"#E5ECF6\",\"gridcolor\":\"white\",\"linecolor\":\"white\",\"showbackground\":true,\"ticks\":\"\",\"zerolinecolor\":\"white\",\"gridwidth\":2},\"yaxis\":{\"backgroundcolor\":\"#E5ECF6\",\"gridcolor\":\"white\",\"linecolor\":\"white\",\"showbackground\":true,\"ticks\":\"\",\"zerolinecolor\":\"white\",\"gridwidth\":2},\"zaxis\":{\"backgroundcolor\":\"#E5ECF6\",\"gridcolor\":\"white\",\"linecolor\":\"white\",\"showbackground\":true,\"ticks\":\"\",\"zerolinecolor\":\"white\",\"gridwidth\":2}},\"shapedefaults\":{\"line\":{\"color\":\"#2a3f5f\"}},\"annotationdefaults\":{\"arrowcolor\":\"#2a3f5f\",\"arrowhead\":0,\"arrowwidth\":1},\"geo\":{\"bgcolor\":\"white\",\"landcolor\":\"#E5ECF6\",\"subunitcolor\":\"white\",\"showland\":true,\"showlakes\":true,\"lakecolor\":\"white\"},\"title\":{\"x\":0.05},\"mapbox\":{\"style\":\"light\"}}},\"xaxis\":{\"anchor\":\"y\",\"domain\":[0.0,1.0],\"title\":{\"text\":\"Points Per Game\"}},\"yaxis\":{\"anchor\":\"x\",\"domain\":[0.0,1.0],\"title\":{\"text\":\"Price\"},\"tickprefix\":\"\\u00a3\"},\"legend\":{\"title\":{\"text\":\"Player Type\"},\"tracegroupgap\":0,\"itemsizing\":\"constant\"},\"title\":{\"text\":\"Most Suitable Player to Buy Currently\"},\"showlegend\":true,\"annotations\":[{\"showarrow\":false,\"text\":\"Bubble Size : Player Form\",\"x\":1.15,\"xref\":\"paper\",\"y\":1.1,\"yref\":\"paper\"}]},                        {\"responsive\": true}                    ).then(function(){\n",
       "                            \n",
       "var gd = document.getElementById('dc339182-9ca4-4a24-90f5-112ca0bd7cb3');\n",
       "var x = new MutationObserver(function (mutations, observer) {{\n",
       "        var display = window.getComputedStyle(gd).display;\n",
       "        if (!display || display === 'none') {{\n",
       "            console.log([gd, 'removed!']);\n",
       "            Plotly.purge(gd);\n",
       "            observer.disconnect();\n",
       "        }}\n",
       "}});\n",
       "\n",
       "// Listen for the removal of the full notebook cells\n",
       "var notebookContainer = gd.closest('#notebook-container');\n",
       "if (notebookContainer) {{\n",
       "    x.observe(notebookContainer, {childList: true});\n",
       "}}\n",
       "\n",
       "// Listen for the clearing of the current output cell\n",
       "var outputEl = gd.closest('.output');\n",
       "if (outputEl) {{\n",
       "    x.observe(outputEl, {childList: true});\n",
       "}}\n",
       "\n",
       "                        })                };                });            </script>        </div>"
      ]
     },
     "metadata": {},
     "output_type": "display_data"
    }
   ],
   "source": [
    "cf.go_offline()\n",
    "\n",
    "df = players_details[['form','points_per_game','now_cost','team_name','singular_name','first_name','web_name']]\n",
    "df[\"now_cost\"] = df[\"now_cost\"]/10\n",
    "df.points_per_game = pd.to_numeric(df.points_per_game)\n",
    "df.rename(columns = {'singular_name' : \"Player Type\"}, inplace = True)\n",
    "df[\"name\"] = df[\"first_name\"] + ' ' + df[\"web_name\"]\n",
    "fig = px.scatter(df, x='points_per_game', \n",
    "                 y='now_cost',  \n",
    "                 size = (players_details[\"form\"].astype(float).values + abs(players_details[\"form\"].astype(float).values.min()))*1.5, \n",
    "                 hover_name = \"name\",\n",
    "                 hover_data= [\"team_name\"],\n",
    "                 color =\"Player Type\",\n",
    "                 title = \"Most Suitable Player to Buy Currently\"\n",
    "                )\n",
    "fig['layout']['yaxis'].update({'title': 'Price', 'tickprefix': '£'})\n",
    "fig['layout']['xaxis'].update({'title': 'Points Per Game'})\n",
    "fig.update_layout(\n",
    "    showlegend=True,\n",
    "    annotations=[\n",
    "        dict(\n",
    "            x=1.15,\n",
    "            y=1.10,\n",
    "            xref=\"paper\",\n",
    "            yref=\"paper\",\n",
    "            showarrow=False,\n",
    "            text=\"Bubble Size : Player Form\"\n",
    "        )\n",
    "    ]\n",
    ")\n",
    "\n",
    "fig.show()"
   ]
  },
  {
   "cell_type": "code",
   "execution_count": null,
   "metadata": {},
   "outputs": [],
   "source": []
  }
 ],
 "metadata": {
  "kernelspec": {
   "display_name": "Python 3",
   "language": "python",
   "name": "python3"
  },
  "language_info": {
   "codemirror_mode": {
    "name": "ipython",
    "version": 3
   },
   "file_extension": ".py",
   "mimetype": "text/x-python",
   "name": "python",
   "nbconvert_exporter": "python",
   "pygments_lexer": "ipython3",
   "version": "3.7.15"
  }
 },
 "nbformat": 4,
 "nbformat_minor": 2
}
