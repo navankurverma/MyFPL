{
 "cells": [
  {
   "cell_type": "markdown",
   "metadata": {},
   "source": [
    "\n",
    "# Fantasy Premier League - Player Selector\n",
    "# Navankur Verma - navankurverma@gmail.com"
   ]
  },
  {
   "cell_type": "markdown",
   "metadata": {},
   "source": [
    "[(Parent link)](https://navankurverma.github.io/MyFPL/Navankur_Verma_FPL.html)"
   ]
  },
  {
   "cell_type": "markdown",
   "metadata": {},
   "source": [
    "Libraries Used:"
   ]
  },
  {
   "cell_type": "code",
   "execution_count": 1,
   "metadata": {},
   "outputs": [],
   "source": [
    "import requests\n",
    "import json\n",
    "import pandas as pd\n",
    "import numpy as np\n",
    "import matplotlib\n",
    "import matplotlib.pyplot as plt\n",
    "import seaborn as sns\n",
    "import cufflinks as cf\n",
    "import plotly.express as px\n",
    "%matplotlib inline"
   ]
  },
  {
   "cell_type": "markdown",
   "metadata": {},
   "source": [
    "### Pull General FPL Data \n",
    "[Move to top](#Fantasy-Premier-League---Player-Selector)"
   ]
  },
  {
   "cell_type": "code",
   "execution_count": 2,
   "metadata": {},
   "outputs": [],
   "source": [
    "#Whole Data\n",
    "fpl = requests.get(\"https://fantasy.premierleague.com/api/bootstrap-static/\")\n",
    "fpl = fpl.json()"
   ]
  },
  {
   "cell_type": "code",
   "execution_count": 3,
   "metadata": {},
   "outputs": [],
   "source": [
    "if 'teams' in fpl:\n",
    "    teams = pd.DataFrame(fpl['teams'])\n",
    "    teams = teams.iloc[:,[0,3,5,9,10,14,15,16,17,18,19]] #picking only valuable columns\n",
    "    teams.rename(columns = {'code': 'team_code', 'id': 'team_id', 'name': 'team_name'}, inplace = True)\n",
    "    teams\n",
    "else:\n",
    "    print('Teams data not found')"
   ]
  },
  {
   "cell_type": "code",
   "execution_count": 4,
   "metadata": {},
   "outputs": [],
   "source": [
    "if 'element_types' in fpl:\n",
    "    element_types = pd.DataFrame(fpl['element_types'])\n",
    "    element_types.rename(columns= {'id': 'element_type'}, inplace = True)\n",
    "    element_types\n",
    "else:\n",
    "    print('Element_types data not found')"
   ]
  },
  {
   "cell_type": "code",
   "execution_count": 5,
   "metadata": {},
   "outputs": [],
   "source": [
    "if 'elements' in fpl:\n",
    "    players = fpl['elements']\n",
    "    players = pd.DataFrame(players)\n",
    "else:\n",
    "    print('Players data not found')"
   ]
  },
  {
   "cell_type": "markdown",
   "metadata": {},
   "source": [
    "#### Cleaning Public Data\n",
    "[Move to top](#Fantasy-Premier-League---Player-Selector)"
   ]
  },
  {
   "cell_type": "code",
   "execution_count": 6,
   "metadata": {},
   "outputs": [
    {
     "data": {
      "text/plain": [
       "chance_of_playing_next_round    148\n",
       "chance_of_playing_this_round    153\n",
       "code                              0\n",
       "cost_change_event                 0\n",
       "cost_change_event_fall            0\n",
       "                               ... \n",
       "creativity_rank_type              0\n",
       "threat_rank                       0\n",
       "threat_rank_type                  0\n",
       "ict_index_rank                    0\n",
       "ict_index_rank_type               0\n",
       "Length: 61, dtype: int64"
      ]
     },
     "execution_count": 6,
     "metadata": {},
     "output_type": "execute_result"
    }
   ],
   "source": [
    "players.isnull().sum()"
   ]
  },
  {
   "cell_type": "code",
   "execution_count": 7,
   "metadata": {},
   "outputs": [],
   "source": [
    "#Replacing missing values with Zeroes\n",
    "players['chance_of_playing_next_round'] = players['chance_of_playing_next_round'].fillna(0)\n",
    "players['chance_of_playing_this_round'] = players['chance_of_playing_this_round'].fillna(0)"
   ]
  },
  {
   "cell_type": "code",
   "execution_count": 8,
   "metadata": {},
   "outputs": [
    {
     "data": {
      "text/plain": [
       "chance_of_playing_next_round    0\n",
       "chance_of_playing_this_round    0\n",
       "code                            0\n",
       "cost_change_event               0\n",
       "cost_change_event_fall          0\n",
       "                               ..\n",
       "creativity_rank_type            0\n",
       "threat_rank                     0\n",
       "threat_rank_type                0\n",
       "ict_index_rank                  0\n",
       "ict_index_rank_type             0\n",
       "Length: 61, dtype: int64"
      ]
     },
     "execution_count": 8,
     "metadata": {},
     "output_type": "execute_result"
    }
   ],
   "source": [
    "players.isnull().sum()"
   ]
  },
  {
   "cell_type": "markdown",
   "metadata": {},
   "source": [
    "Column Description by its index:  \n",
    "14,12,35,26,27,8 <- id, name, teamName, position  \n",
    "29,30,31,32 <- Transfer details  \n",
    "25,0,1 <- Chances of playing  \n",
    "7, 11,13,15,20,28,18,22 <- fpl related details  \n",
    "36,37,38,39,40,41,42,43,44,45,46,47,48,49,50,51,52 <- onfield stats  \n",
    "Selecting only above columns:"
   ]
  },
  {
   "cell_type": "code",
   "execution_count": 9,
   "metadata": {},
   "outputs": [],
   "source": [
    "players.rename(columns = {'id': 'element'}, inplace = True)\n",
    "players_details = players.iloc[:,[14,12,35,26,27,8, 36,37,38,39,40,41,42,43,44,45,46,47,48,49,50,51,52, 7,11,13,15,20,28,18,22,29,30,31,32,25,0,1]]"
   ]
  },
  {
   "cell_type": "markdown",
   "metadata": {},
   "source": [
    "Joining players data with their corresponding details and teams:"
   ]
  },
  {
   "cell_type": "code",
   "execution_count": 10,
   "metadata": {},
   "outputs": [],
   "source": [
    "players_details = players_details.merge(teams[[\"team_code\",\"team_name\"]],\n",
    "                                        on = \"team_code\").merge(element_types[[\"singular_name\",\"element_type\"]],\n",
    "                                                                on = \"element_type\")\n",
    "players_details.drop(['team','team_code'], axis=1, inplace = True)\n",
    "players_details.set_index('element', inplace = True)"
   ]
  },
  {
   "cell_type": "code",
   "execution_count": 11,
   "metadata": {},
   "outputs": [
    {
     "data": {
      "text/html": [
       "<div>\n",
       "<style scoped>\n",
       "    .dataframe tbody tr th:only-of-type {\n",
       "        vertical-align: middle;\n",
       "    }\n",
       "\n",
       "    .dataframe tbody tr th {\n",
       "        vertical-align: top;\n",
       "    }\n",
       "\n",
       "    .dataframe thead th {\n",
       "        text-align: right;\n",
       "    }\n",
       "</style>\n",
       "<table border=\"1\" class=\"dataframe\">\n",
       "  <thead>\n",
       "    <tr style=\"text-align: right;\">\n",
       "      <th></th>\n",
       "      <th>first_name</th>\n",
       "      <th>web_name</th>\n",
       "      <th>element_type</th>\n",
       "      <th>minutes</th>\n",
       "      <th>goals_scored</th>\n",
       "      <th>assists</th>\n",
       "      <th>clean_sheets</th>\n",
       "      <th>goals_conceded</th>\n",
       "      <th>own_goals</th>\n",
       "      <th>penalties_saved</th>\n",
       "      <th>...</th>\n",
       "      <th>selected_by_percent</th>\n",
       "      <th>transfers_in</th>\n",
       "      <th>transfers_in_event</th>\n",
       "      <th>transfers_out</th>\n",
       "      <th>transfers_out_event</th>\n",
       "      <th>status</th>\n",
       "      <th>chance_of_playing_next_round</th>\n",
       "      <th>chance_of_playing_this_round</th>\n",
       "      <th>team_name</th>\n",
       "      <th>singular_name</th>\n",
       "    </tr>\n",
       "    <tr>\n",
       "      <th>element</th>\n",
       "      <th></th>\n",
       "      <th></th>\n",
       "      <th></th>\n",
       "      <th></th>\n",
       "      <th></th>\n",
       "      <th></th>\n",
       "      <th></th>\n",
       "      <th></th>\n",
       "      <th></th>\n",
       "      <th></th>\n",
       "      <th></th>\n",
       "      <th></th>\n",
       "      <th></th>\n",
       "      <th></th>\n",
       "      <th></th>\n",
       "      <th></th>\n",
       "      <th></th>\n",
       "      <th></th>\n",
       "      <th></th>\n",
       "      <th></th>\n",
       "      <th></th>\n",
       "    </tr>\n",
       "  </thead>\n",
       "  <tbody>\n",
       "    <tr>\n",
       "      <th>1</th>\n",
       "      <td>Shkodran</td>\n",
       "      <td>Mustafi</td>\n",
       "      <td>2</td>\n",
       "      <td>890</td>\n",
       "      <td>0</td>\n",
       "      <td>2</td>\n",
       "      <td>3</td>\n",
       "      <td>14</td>\n",
       "      <td>0</td>\n",
       "      <td>0</td>\n",
       "      <td>...</td>\n",
       "      <td>0.4</td>\n",
       "      <td>20011</td>\n",
       "      <td>417</td>\n",
       "      <td>41871</td>\n",
       "      <td>207</td>\n",
       "      <td>a</td>\n",
       "      <td>100.0</td>\n",
       "      <td>100.0</td>\n",
       "      <td>Arsenal</td>\n",
       "      <td>Defender</td>\n",
       "    </tr>\n",
       "    <tr>\n",
       "      <th>2</th>\n",
       "      <td>Héctor</td>\n",
       "      <td>Bellerín</td>\n",
       "      <td>2</td>\n",
       "      <td>893</td>\n",
       "      <td>1</td>\n",
       "      <td>0</td>\n",
       "      <td>3</td>\n",
       "      <td>15</td>\n",
       "      <td>0</td>\n",
       "      <td>0</td>\n",
       "      <td>...</td>\n",
       "      <td>1.2</td>\n",
       "      <td>188048</td>\n",
       "      <td>1683</td>\n",
       "      <td>125332</td>\n",
       "      <td>2372</td>\n",
       "      <td>a</td>\n",
       "      <td>100.0</td>\n",
       "      <td>100.0</td>\n",
       "      <td>Arsenal</td>\n",
       "      <td>Defender</td>\n",
       "    </tr>\n",
       "    <tr>\n",
       "      <th>3</th>\n",
       "      <td>Sead</td>\n",
       "      <td>Kolasinac</td>\n",
       "      <td>2</td>\n",
       "      <td>1213</td>\n",
       "      <td>0</td>\n",
       "      <td>2</td>\n",
       "      <td>2</td>\n",
       "      <td>21</td>\n",
       "      <td>0</td>\n",
       "      <td>0</td>\n",
       "      <td>...</td>\n",
       "      <td>0.5</td>\n",
       "      <td>60712</td>\n",
       "      <td>204</td>\n",
       "      <td>131121</td>\n",
       "      <td>274</td>\n",
       "      <td>a</td>\n",
       "      <td>100.0</td>\n",
       "      <td>100.0</td>\n",
       "      <td>Arsenal</td>\n",
       "      <td>Defender</td>\n",
       "    </tr>\n",
       "    <tr>\n",
       "      <th>4</th>\n",
       "      <td>Ainsley</td>\n",
       "      <td>Maitland-Niles</td>\n",
       "      <td>2</td>\n",
       "      <td>1243</td>\n",
       "      <td>0</td>\n",
       "      <td>2</td>\n",
       "      <td>3</td>\n",
       "      <td>20</td>\n",
       "      <td>0</td>\n",
       "      <td>0</td>\n",
       "      <td>...</td>\n",
       "      <td>2.3</td>\n",
       "      <td>606403</td>\n",
       "      <td>306</td>\n",
       "      <td>643731</td>\n",
       "      <td>898</td>\n",
       "      <td>a</td>\n",
       "      <td>100.0</td>\n",
       "      <td>100.0</td>\n",
       "      <td>Arsenal</td>\n",
       "      <td>Defender</td>\n",
       "    </tr>\n",
       "    <tr>\n",
       "      <th>5</th>\n",
       "      <td>Sokratis</td>\n",
       "      <td>Sokratis</td>\n",
       "      <td>2</td>\n",
       "      <td>1696</td>\n",
       "      <td>2</td>\n",
       "      <td>0</td>\n",
       "      <td>4</td>\n",
       "      <td>25</td>\n",
       "      <td>0</td>\n",
       "      <td>0</td>\n",
       "      <td>...</td>\n",
       "      <td>1.4</td>\n",
       "      <td>179847</td>\n",
       "      <td>262</td>\n",
       "      <td>220346</td>\n",
       "      <td>1469</td>\n",
       "      <td>a</td>\n",
       "      <td>100.0</td>\n",
       "      <td>0.0</td>\n",
       "      <td>Arsenal</td>\n",
       "      <td>Defender</td>\n",
       "    </tr>\n",
       "  </tbody>\n",
       "</table>\n",
       "<p>5 rows × 37 columns</p>\n",
       "</div>"
      ],
      "text/plain": [
       "        first_name        web_name  element_type  minutes  goals_scored  \\\n",
       "element                                                                   \n",
       "1         Shkodran         Mustafi             2      890             0   \n",
       "2           Héctor        Bellerín             2      893             1   \n",
       "3             Sead       Kolasinac             2     1213             0   \n",
       "4          Ainsley  Maitland-Niles             2     1243             0   \n",
       "5         Sokratis        Sokratis             2     1696             2   \n",
       "\n",
       "         assists  clean_sheets  goals_conceded  own_goals  penalties_saved  \\\n",
       "element                                                                      \n",
       "1              2             3              14          0                0   \n",
       "2              0             3              15          0                0   \n",
       "3              2             2              21          0                0   \n",
       "4              2             3              20          0                0   \n",
       "5              0             4              25          0                0   \n",
       "\n",
       "         ...  selected_by_percent  transfers_in  transfers_in_event  \\\n",
       "element  ...                                                          \n",
       "1        ...                  0.4         20011                 417   \n",
       "2        ...                  1.2        188048                1683   \n",
       "3        ...                  0.5         60712                 204   \n",
       "4        ...                  2.3        606403                 306   \n",
       "5        ...                  1.4        179847                 262   \n",
       "\n",
       "         transfers_out  transfers_out_event  status  \\\n",
       "element                                               \n",
       "1                41871                  207       a   \n",
       "2               125332                 2372       a   \n",
       "3               131121                  274       a   \n",
       "4               643731                  898       a   \n",
       "5               220346                 1469       a   \n",
       "\n",
       "        chance_of_playing_next_round chance_of_playing_this_round team_name  \\\n",
       "element                                                                       \n",
       "1                              100.0                        100.0   Arsenal   \n",
       "2                              100.0                        100.0   Arsenal   \n",
       "3                              100.0                        100.0   Arsenal   \n",
       "4                              100.0                        100.0   Arsenal   \n",
       "5                              100.0                          0.0   Arsenal   \n",
       "\n",
       "        singular_name  \n",
       "element                \n",
       "1            Defender  \n",
       "2            Defender  \n",
       "3            Defender  \n",
       "4            Defender  \n",
       "5            Defender  \n",
       "\n",
       "[5 rows x 37 columns]"
      ]
     },
     "execution_count": 11,
     "metadata": {},
     "output_type": "execute_result"
    }
   ],
   "source": [
    "players_details.head()"
   ]
  },
  {
   "cell_type": "markdown",
   "metadata": {},
   "source": [
    "#### Most Suitable Player to Buy Currently\n",
    "[Move to top](#Fantasy-Premier-League---Player-Selector)"
   ]
  },
  {
   "cell_type": "code",
   "execution_count": 12,
   "metadata": {},
   "outputs": [
    {
     "data": {
      "text/html": [
       "        <script type=\"text/javascript\">\n",
       "        window.PlotlyConfig = {MathJaxConfig: 'local'};\n",
       "        if (window.MathJax) {MathJax.Hub.Config({SVG: {font: \"STIX-Web\"}});}\n",
       "        if (typeof require !== 'undefined') {\n",
       "        require.undef(\"plotly\");\n",
       "        requirejs.config({\n",
       "            paths: {\n",
       "                'plotly': ['https://cdn.plot.ly/plotly-latest.min']\n",
       "            }\n",
       "        });\n",
       "        require(['plotly'], function(Plotly) {\n",
       "            window._Plotly = Plotly;\n",
       "        });\n",
       "        }\n",
       "        </script>\n",
       "        "
      ]
     },
     "metadata": {},
     "output_type": "display_data"
    },
    {
     "data": {
      "application/vnd.plotly.v1+json": {
       "config": {
        "plotlyServerURL": "https://plot.ly"
       },
       "data": [
        {
         "customdata": [
          [
           "Arsenal"
          ],
          [
           "Arsenal"
          ],
          [
           "Arsenal"
          ],
          [
           "Arsenal"
          ],
          [
           "Arsenal"
          ],
          [
           "Arsenal"
          ],
          [
           "Arsenal"
          ],
          [
           "Arsenal"
          ],
          [
           "Arsenal"
          ],
          [
           "Arsenal"
          ],
          [
           "Arsenal"
          ],
          [
           "Arsenal"
          ],
          [
           "Arsenal"
          ],
          [
           "Arsenal"
          ],
          [
           "Arsenal"
          ],
          [
           "Arsenal"
          ],
          [
           "Arsenal"
          ],
          [
           "Aston Villa"
          ],
          [
           "Aston Villa"
          ],
          [
           "Aston Villa"
          ],
          [
           "Aston Villa"
          ],
          [
           "Aston Villa"
          ],
          [
           "Aston Villa"
          ],
          [
           "Aston Villa"
          ],
          [
           "Aston Villa"
          ],
          [
           "Aston Villa"
          ],
          [
           "Bournemouth"
          ],
          [
           "Bournemouth"
          ],
          [
           "Bournemouth"
          ],
          [
           "Bournemouth"
          ],
          [
           "Bournemouth"
          ],
          [
           "Bournemouth"
          ],
          [
           "Bournemouth"
          ],
          [
           "Bournemouth"
          ],
          [
           "Bournemouth"
          ],
          [
           "Bournemouth"
          ],
          [
           "Brighton"
          ],
          [
           "Brighton"
          ],
          [
           "Brighton"
          ],
          [
           "Brighton"
          ],
          [
           "Brighton"
          ],
          [
           "Brighton"
          ],
          [
           "Brighton"
          ],
          [
           "Brighton"
          ],
          [
           "Brighton"
          ],
          [
           "Brighton"
          ],
          [
           "Brighton"
          ],
          [
           "Brighton"
          ],
          [
           "Burnley"
          ],
          [
           "Burnley"
          ],
          [
           "Burnley"
          ],
          [
           "Burnley"
          ],
          [
           "Burnley"
          ],
          [
           "Burnley"
          ],
          [
           "Burnley"
          ],
          [
           "Burnley"
          ],
          [
           "Burnley"
          ],
          [
           "Burnley"
          ],
          [
           "Burnley"
          ],
          [
           "Burnley"
          ],
          [
           "Chelsea"
          ],
          [
           "Chelsea"
          ],
          [
           "Chelsea"
          ],
          [
           "Chelsea"
          ],
          [
           "Chelsea"
          ],
          [
           "Chelsea"
          ],
          [
           "Chelsea"
          ],
          [
           "Chelsea"
          ],
          [
           "Chelsea"
          ],
          [
           "Chelsea"
          ],
          [
           "Crystal Palace"
          ],
          [
           "Crystal Palace"
          ],
          [
           "Crystal Palace"
          ],
          [
           "Crystal Palace"
          ],
          [
           "Crystal Palace"
          ],
          [
           "Crystal Palace"
          ],
          [
           "Crystal Palace"
          ],
          [
           "Crystal Palace"
          ],
          [
           "Crystal Palace"
          ],
          [
           "Crystal Palace"
          ],
          [
           "Everton"
          ],
          [
           "Everton"
          ],
          [
           "Everton"
          ],
          [
           "Everton"
          ],
          [
           "Everton"
          ],
          [
           "Everton"
          ],
          [
           "Everton"
          ],
          [
           "Everton"
          ],
          [
           "Everton"
          ],
          [
           "Everton"
          ],
          [
           "Everton"
          ],
          [
           "Leicester"
          ],
          [
           "Leicester"
          ],
          [
           "Leicester"
          ],
          [
           "Leicester"
          ],
          [
           "Leicester"
          ],
          [
           "Leicester"
          ],
          [
           "Leicester"
          ],
          [
           "Leicester"
          ],
          [
           "Leicester"
          ],
          [
           "Liverpool"
          ],
          [
           "Liverpool"
          ],
          [
           "Liverpool"
          ],
          [
           "Liverpool"
          ],
          [
           "Liverpool"
          ],
          [
           "Liverpool"
          ],
          [
           "Liverpool"
          ],
          [
           "Liverpool"
          ],
          [
           "Liverpool"
          ],
          [
           "Man City"
          ],
          [
           "Man City"
          ],
          [
           "Man City"
          ],
          [
           "Man City"
          ],
          [
           "Man City"
          ],
          [
           "Man City"
          ],
          [
           "Man City"
          ],
          [
           "Man City"
          ],
          [
           "Man City"
          ],
          [
           "Man City"
          ],
          [
           "Man City"
          ],
          [
           "Man Utd"
          ],
          [
           "Man Utd"
          ],
          [
           "Man Utd"
          ],
          [
           "Man Utd"
          ],
          [
           "Man Utd"
          ],
          [
           "Man Utd"
          ],
          [
           "Man Utd"
          ],
          [
           "Man Utd"
          ],
          [
           "Man Utd"
          ],
          [
           "Man Utd"
          ],
          [
           "Man Utd"
          ],
          [
           "Man Utd"
          ],
          [
           "Man Utd"
          ],
          [
           "Newcastle"
          ],
          [
           "Newcastle"
          ],
          [
           "Newcastle"
          ],
          [
           "Newcastle"
          ],
          [
           "Newcastle"
          ],
          [
           "Newcastle"
          ],
          [
           "Newcastle"
          ],
          [
           "Newcastle"
          ],
          [
           "Newcastle"
          ],
          [
           "Newcastle"
          ],
          [
           "Newcastle"
          ],
          [
           "Newcastle"
          ],
          [
           "Newcastle"
          ],
          [
           "Newcastle"
          ],
          [
           "Norwich"
          ],
          [
           "Norwich"
          ],
          [
           "Norwich"
          ],
          [
           "Norwich"
          ],
          [
           "Norwich"
          ],
          [
           "Norwich"
          ],
          [
           "Norwich"
          ],
          [
           "Norwich"
          ],
          [
           "Norwich"
          ],
          [
           "Sheffield Utd"
          ],
          [
           "Sheffield Utd"
          ],
          [
           "Sheffield Utd"
          ],
          [
           "Sheffield Utd"
          ],
          [
           "Sheffield Utd"
          ],
          [
           "Sheffield Utd"
          ],
          [
           "Sheffield Utd"
          ],
          [
           "Sheffield Utd"
          ],
          [
           "Sheffield Utd"
          ],
          [
           "Sheffield Utd"
          ],
          [
           "Sheffield Utd"
          ],
          [
           "Southampton"
          ],
          [
           "Southampton"
          ],
          [
           "Southampton"
          ],
          [
           "Southampton"
          ],
          [
           "Southampton"
          ],
          [
           "Southampton"
          ],
          [
           "Southampton"
          ],
          [
           "Southampton"
          ],
          [
           "Southampton"
          ],
          [
           "Southampton"
          ],
          [
           "Southampton"
          ],
          [
           "Spurs"
          ],
          [
           "Spurs"
          ],
          [
           "Spurs"
          ],
          [
           "Spurs"
          ],
          [
           "Spurs"
          ],
          [
           "Spurs"
          ],
          [
           "Spurs"
          ],
          [
           "Spurs"
          ],
          [
           "Watford"
          ],
          [
           "Watford"
          ],
          [
           "Watford"
          ],
          [
           "Watford"
          ],
          [
           "Watford"
          ],
          [
           "Watford"
          ],
          [
           "Watford"
          ],
          [
           "Watford"
          ],
          [
           "Watford"
          ],
          [
           "Watford"
          ],
          [
           "Watford"
          ],
          [
           "West Ham"
          ],
          [
           "West Ham"
          ],
          [
           "West Ham"
          ],
          [
           "West Ham"
          ],
          [
           "West Ham"
          ],
          [
           "West Ham"
          ],
          [
           "West Ham"
          ],
          [
           "West Ham"
          ],
          [
           "West Ham"
          ],
          [
           "West Ham"
          ],
          [
           "West Ham"
          ],
          [
           "Wolves"
          ],
          [
           "Wolves"
          ],
          [
           "Wolves"
          ],
          [
           "Wolves"
          ],
          [
           "Wolves"
          ],
          [
           "Wolves"
          ],
          [
           "Wolves"
          ],
          [
           "Wolves"
          ],
          [
           "Wolves"
          ],
          [
           "Wolves"
          ]
         ],
         "hoverlabel": {
          "namelength": 0
         },
         "hovertemplate": "<b>%{hovertext}</b><br><br>Player Type=Defender<br>points_per_game=%{x}<br>now_cost=%{y}<br>size=%{marker.size}<br>team_name=%{customdata[0]}",
         "hovertext": [
          "Shkodran Mustafi",
          "Héctor Bellerín",
          "Sead Kolasinac",
          "Ainsley Maitland-Niles",
          "Sokratis Sokratis",
          "Nacho Monreal",
          "Laurent Koscielny",
          "Konstantinos Mavropanos",
          "Carl Jenkinson",
          "Rob Holding",
          "David David Luiz",
          "Calum Chambers",
          "Cédric Cédric",
          "Kieran Tierney",
          "Pablo Marí",
          "Zech Medley",
          "Matthew Smith",
          "Ahmed El Mohamady",
          "James Chester",
          "Neil Taylor",
          "Kortney Hause",
          "Matt Targett",
          "Tyrone Mings",
          "Ezri Konsa",
          "Bjorn Engels",
          "Frédéric Guilbert",
          "Steve Steve Cook",
          "Nathan Aké",
          "Charlie Daniels",
          "Chris Mepham",
          "Simon Francis",
          "Adam Adam Smith",
          "Lloyd Kelly",
          "Diego Rico",
          "Jack Simpson",
          "Jack Stacey",
          "Shane Duffy",
          "Martín Montoya",
          "Bernardo Bernardo",
          "Leon Balogun",
          "Gaëtan Bong",
          "Lewis Dunk",
          "Matthew Clarke",
          "Dan Burn",
          "Adam Webster",
          "Tudor Baluta",
          "Ezequiel Schelotto",
          "Tariq Lamptey",
          "Ben Mee",
          "James Tarkowski",
          "Matthew Lowton",
          "Phil Bardsley",
          "Charlie Taylor",
          "Kevin Long",
          "Ben Gibson",
          "Erik Pieters",
          "Anthony Driscoll-Glennon",
          "Abd-Al-Ali Morakinyo Olaposi Koiki",
          "Jimmy Dunne",
          "Bobby Thomas",
          "Marcos Alonso",
          "Antonio Rüdiger",
          "César Azpilicueta",
          "Emerson Emerson",
          "Andreas Christensen",
          "Davide Zappacosta",
          "Kurt Zouma",
          "Reece James",
          "Fikayo Tomori",
          "Addji Keaninkin Marc-Israel Guehi",
          "Patrick van Aanholt",
          "James Tomkins",
          "Mamadou Sakho",
          "Joel Ward",
          "Scott Dann",
          "Martin Kelly",
          "Gary Cahill",
          "Sam Woods",
          "Tyrick Mitchell",
          "Nikola Tavares",
          "Lucas Digne",
          "Yerry Mina",
          "Michael Keane",
          "Seamus Coleman",
          "Leighton Baines",
          "Fabian Delph",
          "Lewis Gibson",
          "Mason Holgate",
          "Djibril Sidibé",
          "Rhu-endly Cuco Martina",
          "Jarrad Branthwaite",
          "Ricardo Domingos Pereira",
          "Benjamin Chilwell",
          "Jonny Evans",
          "Christian Fuchs",
          "Çaglar Söyüncü",
          "Wes Morgan",
          "Ryan Bennett",
          "James Justin",
          "Filip Benkovic",
          "Andrew Robertson",
          "Trent Alexander-Arnold",
          "Virgil van Dijk",
          "Joseph Gomez",
          "Joel Matip",
          "Dejan Lovren",
          "Neco Williams",
          "Nathaniel Phillips",
          "Ki-Jana Hoever",
          "Aymeric Laporte",
          "Kyle Walker",
          "Benjamin Mendy",
          "Oleksandr Zinchenko",
          "John Stones",
          "Nicolás Otamendi",
          "Danilo Luiz Danilo",
          "José Ángel Angeliño",
          "João Pedro Cavaco Cancelo",
          "Eric Garcia",
          "Taylor Harwood-Bellis",
          "Aaron Wan-Bissaka",
          "Harry Maguire",
          "Chris Smalling",
          "Ashley Young",
          "Victor Lindelöf",
          "Luke Shaw",
          "Marcos Rojo",
          "Eric Bailly",
          "José Diogo Dalot",
          "Matteo Darmian",
          "Phil Jones",
          "Axel Tuanzebe",
          "Brandon Williams",
          "Matt Ritchie",
          "Fabian Schär",
          "DeAndre Yedlin",
          "Federico Fernández",
          "Paul Dummett",
          "Javier Manquillo",
          "Florian Lejeune",
          "Jamaal Lascelles",
          "Ciaran Clark",
          "Danny Rose",
          "Jetro Willems",
          "Emil Krafth",
          "Kelland Watts",
          "Liam Gibson",
          "Timm Klose",
          "Ben Godfrey",
          "Maximillian Aarons",
          "Christoph Zimmermann",
          "Jamal Lewis",
          "Grant Hanley",
          "Sam Byram",
          "Philip Heise",
          "Akin Famewo",
          "Enda Stevens",
          "Kieron Freeman",
          "Jack O'Connell",
          "George Baldock",
          "John Egan",
          "Richard Stearman",
          "John Lundstram",
          "Chris Basham",
          "Phil Jagielka",
          "Jack Jack Robinson",
          "Panagiotis Retsos",
          "Jannik Vestergaard",
          "Ryan Bertrand",
          "Yan Valery",
          "Jan Bednarek",
          "Jack Stephens",
          "Maya Yoshida",
          "Kayne Ramsay",
          "Kyle Walker-Peters",
          "Wesley Hoedt",
          "Kevin Danso",
          "Jake Vokins",
          "Ben Davies",
          "Jan Vertonghen",
          "Toby Alderweireld",
          "Davinson Sánchez",
          "Kieran Trippier",
          "Juan Foyth",
          "Serge Aurier",
          "Japhet Tanganga",
          "José Holebas",
          "Christian Kabasele",
          "Adam Masina",
          "Adrian Mariappa",
          "Francisco Kiko Femenía",
          "Craig Cathcart",
          "Daryl Janmaat",
          "Marc Navarro",
          "Sebastian Prödl",
          "Craig Dawson",
          "Dimitri Foulquier",
          "Aaron Cresswell",
          "Angelo Ogbonna",
          "Arthur Masuaku",
          "Pablo Zabaleta",
          "Ryan Fredericks",
          "Issa Diop",
          "Fabián Balbuena",
          "Winston Reid",
          "Ben Johnson",
          "Jeremy Ngakia",
          "Gonçalo Bento Cardoso",
          "Matt Doherty",
          "Jonathan Jonny",
          "Conor Coady",
          "Willy Boly",
          "Rúben Gonçalo Vinagre",
          "Romain Saïss",
          "Max Kilman",
          "Jesús Vallejo",
          "Oskar Buur",
          "Ryan Giles"
         ],
         "legendgroup": "Defender",
         "marker": {
          "color": "#636efa",
          "size": [
           4.949999999999999,
           5.550000000000001,
           2.55,
           2.55,
           1.5,
           1.5,
           1.5,
           1.5,
           1.5,
           6,
           0,
           1.5,
           1.5,
           6.449999999999999,
           1.9500000000000002,
           1.5,
           1.5,
           6,
           1.5,
           1.5,
           8.55,
           6,
           6.449999999999999,
           6,
           1.5,
           1.5,
           2.25,
           3.75,
           1.5,
           1.5,
           1.5,
           3,
           2.25,
           1.5,
           1.5,
           3.75,
           5.25,
           2.25,
           1.5,
           1.5,
           1.5,
           13.5,
           1.5,
           6.75,
           3.75,
           1.5,
           3,
           6,
           7.5,
           6,
           6.75,
           1.5,
           6,
           1.5,
           1.5,
           3,
           1.5,
           1.5,
           1.5,
           1.5,
           3.75,
           4.5,
           11.25,
           1.5,
           4.5,
           1.5,
           1.5,
           2.25,
           1.5,
           1.5,
           10.5,
           1.5,
           1.5,
           6,
           6,
           1.5,
           6.75,
           1.5,
           1.5,
           1.5,
           13.5,
           1.5,
           16.5,
           10.5,
           2.25,
           1.5,
           1.5,
           11.25,
           1.5,
           1.5,
           1.5,
           1.5,
           15.75,
           7.5,
           1.5,
           9,
           1.5,
           1.5,
           6.75,
           1.5,
           8.25,
           17.25,
           12.75,
           6.75,
           6,
           2.25,
           2.25,
           1.5,
           1.5,
           6,
           4.949999999999999,
           5.550000000000001,
           4.949999999999999,
           1.5,
           4.949999999999999,
           1.5,
           1.5,
           4.050000000000001,
           4.5,
           1.5,
           11.25,
           7.5,
           1.5,
           1.5,
           7.5,
           6.75,
           1.5,
           2.25,
           1.5,
           1.5,
           1.5,
           1.5,
           1.5,
           21,
           2.25,
           2.25,
           6.75,
           1.5,
           7.5,
           1.5,
           6,
           1.5,
           7.5,
           1.5,
           1.5,
           1.5,
           1.5,
           3.75,
           3.75,
           3,
           1.5,
           3.75,
           1.5,
           1.5,
           1.5,
           1.5,
           5.550000000000001,
           1.9500000000000002,
           1.5,
           5.550000000000001,
           3,
           1.5,
           4.5,
           5.550000000000001,
           1.9500000000000002,
           6.449999999999999,
           1.5,
           2.25,
           6.75,
           6.75,
           6.75,
           4.5,
           1.5,
           1.5,
           3,
           1.5,
           1.5,
           1.5,
           8.25,
           1.5,
           1.5,
           12,
           1.5,
           1.5,
           9.75,
           1.5,
           2.25,
           6,
           9,
           2.25,
           7.5,
           2.25,
           1.5,
           1.5,
           1.5,
           9.75,
           1.5,
           3,
           1.5,
           1.5,
           1.5,
           3,
           3,
           2.25,
           1.5,
           1.5,
           3,
           1.5,
           15,
           12,
           10.5,
           11.25,
           2.25,
           11.25,
           1.5,
           1.5,
           1.5,
           1.5
          ],
          "sizemode": "area",
          "sizeref": 0.0525,
          "symbol": "circle"
         },
         "mode": "markers",
         "name": "Defender",
         "showlegend": true,
         "type": "scatter",
         "x": [
          "3.0",
          "3.0",
          "1.9",
          "2.4",
          "3.0",
          "3.3",
          "0.0",
          "0.0",
          "0.0",
          "2.8",
          "2.9",
          "3.0",
          "2.7",
          "1.9",
          "4.0",
          "0.0",
          "0.0",
          "2.1",
          "0.0",
          "1.7",
          "2.1",
          "3.0",
          "2.5",
          "2.2",
          "2.5",
          "2.1",
          "2.0",
          "2.8",
          "1.5",
          "2.4",
          "1.1",
          "2.0",
          "1.0",
          "2.9",
          "1.0",
          "2.4",
          "2.6",
          "2.5",
          "1.8",
          "0.0",
          "0.8",
          "3.7",
          "0.0",
          "2.4",
          "2.9",
          "0.0",
          "1.2",
          "3.5",
          "3.1",
          "3.5",
          "2.8",
          "3.4",
          "3.2",
          "1.0",
          "0.0",
          "2.6",
          "0.0",
          "0.0",
          "0.0",
          "0.0",
          "6.2",
          "3.1",
          "3.5",
          "1.3",
          "1.5",
          "0.0",
          "1.9",
          "2.6",
          "3.2",
          "0.0",
          "4.1",
          "2.7",
          "0.8",
          "3.1",
          "4.3",
          "3.4",
          "3.0",
          "0.0",
          "0.0",
          "0.0",
          "3.5",
          "2.9",
          "3.1",
          "2.3",
          "2.0",
          "1.5",
          "0.0",
          "2.8",
          "3.0",
          "0.0",
          "0.0",
          "4.4",
          "4.5",
          "3.7",
          "3.0",
          "3.8",
          "1.1",
          "1.9",
          "3.3",
          "0.0",
          "5.0",
          "6.0",
          "5.0",
          "4.0",
          "4.3",
          "1.8",
          "1.0",
          "0.0",
          "0.0",
          "3.1",
          "3.5",
          "3.6",
          "2.7",
          "2.0",
          "3.5",
          "0.0",
          "1.8",
          "2.5",
          "2.4",
          "0.0",
          "3.5",
          "3.1",
          "0.0",
          "2.0",
          "3.1",
          "2.6",
          "1.0",
          "2.7",
          "1.0",
          "0.0",
          "1.0",
          "1.4",
          "3.2",
          "4.7",
          "2.8",
          "1.8",
          "3.7",
          "2.8",
          "3.3",
          "4.0",
          "3.3",
          "3.5",
          "2.1",
          "3.4",
          "1.9",
          "0.0",
          "0.0",
          "1.5",
          "1.5",
          "2.1",
          "2.3",
          "2.1",
          "1.5",
          "1.9",
          "0.0",
          "0.0",
          "3.8",
          "1.0",
          "3.4",
          "4.0",
          "3.3",
          "0.0",
          "4.5",
          "3.2",
          "1.0",
          "3.3",
          "0.0",
          "2.7",
          "2.2",
          "1.6",
          "2.4",
          "3.0",
          "1.2",
          "0.0",
          "1.3",
          "0.0",
          "1.5",
          "0.0",
          "1.7",
          "2.7",
          "2.4",
          "2.2",
          "0.0",
          "0.8",
          "3.7",
          "2.8",
          "1.3",
          "3.1",
          "3.1",
          "1.6",
          "2.1",
          "2.8",
          "4.5",
          "0.0",
          "1.0",
          "2.2",
          "0.3",
          "2.6",
          "2.7",
          "1.7",
          "1.0",
          "2.7",
          "2.2",
          "2.6",
          "0.0",
          "0.0",
          "1.6",
          "0.0",
          "4.7",
          "3.1",
          "3.1",
          "4.9",
          "1.7",
          "3.2",
          "1.7",
          "0.5",
          "0.0",
          "0.0"
         ],
         "xaxis": "x",
         "y": [
          5.1,
          5.4,
          5.2,
          4.5,
          4.8,
          5,
          5,
          4.3,
          4.5,
          4.4,
          5.7,
          4.3,
          4.8,
          5.3,
          4.6,
          4,
          4,
          4.1,
          4.2,
          4.2,
          4.4,
          4.4,
          4.4,
          4.3,
          4.3,
          4.4,
          5,
          4.8,
          4.2,
          4.3,
          4.4,
          4.3,
          4.4,
          4.2,
          3.9,
          4.3,
          4.8,
          4.3,
          4.3,
          4.3,
          4.2,
          4.7,
          4.3,
          4.5,
          4.5,
          4,
          4,
          4,
          5,
          5.2,
          4.2,
          4.3,
          4.3,
          4.3,
          3.9,
          4.2,
          3.9,
          4,
          4,
          4,
          6.2,
          6,
          5.9,
          5.4,
          4.8,
          4.2,
          4.7,
          5,
          4.2,
          3.9,
          5.6,
          5,
          5,
          4.3,
          4.3,
          4.1,
          4.4,
          3.9,
          4,
          4,
          5.7,
          5.3,
          5.2,
          5.3,
          4.9,
          5.3,
          4.2,
          4.3,
          5,
          4,
          4,
          6.3,
          5.6,
          5.3,
          4.2,
          4.9,
          4.1,
          4.8,
          4.7,
          3.9,
          7,
          7.8,
          6.5,
          5.3,
          5.2,
          5.3,
          4,
          3.9,
          4,
          6.3,
          5.6,
          5.5,
          5.2,
          5.3,
          4.9,
          5,
          4.6,
          5.1,
          4.5,
          4,
          5.3,
          5.3,
          5.2,
          5.4,
          5.3,
          5.4,
          4.8,
          4.9,
          4.9,
          4.9,
          4.7,
          4.4,
          4.1,
          5.3,
          5,
          4.4,
          4.6,
          4.3,
          4.3,
          4.4,
          4.3,
          4.3,
          5.3,
          4.3,
          4.3,
          3.9,
          4,
          4.3,
          4.4,
          4.3,
          4.4,
          4.4,
          4.1,
          4.3,
          3.9,
          3.9,
          5.1,
          4.2,
          4.6,
          5.1,
          4.5,
          3.9,
          4.9,
          4.6,
          4.1,
          4,
          4.5,
          4.5,
          4.8,
          4.6,
          4.4,
          4.4,
          4.1,
          3.9,
          4.4,
          4.2,
          4.2,
          4,
          5.3,
          5.2,
          5.3,
          5.3,
          5.5,
          4.8,
          5,
          4,
          4.6,
          4.3,
          4.3,
          4.2,
          4.2,
          4.3,
          4,
          3.9,
          3.9,
          4.8,
          3.9,
          4.5,
          4.5,
          4.1,
          4.1,
          4.4,
          4.3,
          4.3,
          3.9,
          4,
          4,
          4,
          6.4,
          5.4,
          5.1,
          4.8,
          4.2,
          4.6,
          3.9,
          4.6,
          4,
          3.9
         ],
         "yaxis": "y"
        },
        {
         "customdata": [
          [
           "Arsenal"
          ],
          [
           "Arsenal"
          ],
          [
           "Arsenal"
          ],
          [
           "Arsenal"
          ],
          [
           "Arsenal"
          ],
          [
           "Aston Villa"
          ],
          [
           "Aston Villa"
          ],
          [
           "Aston Villa"
          ],
          [
           "Aston Villa"
          ],
          [
           "Bournemouth"
          ],
          [
           "Bournemouth"
          ],
          [
           "Bournemouth"
          ],
          [
           "Bournemouth"
          ],
          [
           "Brighton"
          ],
          [
           "Brighton"
          ],
          [
           "Brighton"
          ],
          [
           "Brighton"
          ],
          [
           "Brighton"
          ],
          [
           "Burnley"
          ],
          [
           "Burnley"
          ],
          [
           "Burnley"
          ],
          [
           "Burnley"
          ],
          [
           "Burnley"
          ],
          [
           "Chelsea"
          ],
          [
           "Chelsea"
          ],
          [
           "Chelsea"
          ],
          [
           "Chelsea"
          ],
          [
           "Crystal Palace"
          ],
          [
           "Crystal Palace"
          ],
          [
           "Crystal Palace"
          ],
          [
           "Crystal Palace"
          ],
          [
           "Crystal Palace"
          ],
          [
           "Everton"
          ],
          [
           "Everton"
          ],
          [
           "Everton"
          ],
          [
           "Everton"
          ],
          [
           "Leicester"
          ],
          [
           "Leicester"
          ],
          [
           "Liverpool"
          ],
          [
           "Liverpool"
          ],
          [
           "Liverpool"
          ],
          [
           "Man City"
          ],
          [
           "Man City"
          ],
          [
           "Man Utd"
          ],
          [
           "Man Utd"
          ],
          [
           "Man Utd"
          ],
          [
           "Man Utd"
          ],
          [
           "Newcastle"
          ],
          [
           "Newcastle"
          ],
          [
           "Newcastle"
          ],
          [
           "Newcastle"
          ],
          [
           "Newcastle"
          ],
          [
           "Norwich"
          ],
          [
           "Norwich"
          ],
          [
           "Norwich"
          ],
          [
           "Norwich"
          ],
          [
           "Sheffield Utd"
          ],
          [
           "Sheffield Utd"
          ],
          [
           "Sheffield Utd"
          ],
          [
           "Sheffield Utd"
          ],
          [
           "Sheffield Utd"
          ],
          [
           "Sheffield Utd"
          ],
          [
           "Southampton"
          ],
          [
           "Southampton"
          ],
          [
           "Southampton"
          ],
          [
           "Southampton"
          ],
          [
           "Southampton"
          ],
          [
           "Southampton"
          ],
          [
           "Southampton"
          ],
          [
           "Spurs"
          ],
          [
           "Spurs"
          ],
          [
           "Spurs"
          ],
          [
           "Watford"
          ],
          [
           "Watford"
          ],
          [
           "Watford"
          ],
          [
           "Watford"
          ],
          [
           "Watford"
          ],
          [
           "Watford"
          ],
          [
           "West Ham"
          ],
          [
           "West Ham"
          ],
          [
           "West Ham"
          ],
          [
           "West Ham"
          ],
          [
           "West Ham"
          ],
          [
           "Wolves"
          ],
          [
           "Wolves"
          ],
          [
           "Wolves"
          ],
          [
           "Wolves"
          ]
         ],
         "hoverlabel": {
          "namelength": 0
         },
         "hovertemplate": "<b>%{hovertext}</b><br><br>Player Type=Forward<br>points_per_game=%{x}<br>now_cost=%{y}<br>size=%{marker.size}<br>team_name=%{customdata[0]}",
         "hovertext": [
          "Pierre-Emerick Aubameyang",
          "Alexandre Lacazette",
          "Edward Nketiah",
          "Gabriel Teodoro Martinelli",
          "Tyreece John-Jules",
          "Jonathan Kodjia",
          "Wesley Wesley",
          "Mbwana Samatta",
          "Borja Bastón",
          "Callum Callum Wilson",
          "Joshua King",
          "Dominic Solanke",
          "Sam Surridge",
          "Glenn Murray",
          "Jürgen Locadia",
          "Florin Andone",
          "Neal Maupay",
          "Aaron Connolly",
          "Ashley Barnes",
          "Chris Wood",
          "Matej Vydra",
          "Jay Rodriguez",
          "Max Thompson",
          "Olivier Giroud",
          "Tammy Abraham",
          "Michy Batshuayi",
          "Armando Broja",
          "Christian Benteke",
          "Connor Wickham",
          "Cenk Tosun",
          "Jordan Ayew",
          "James Daly",
          "Dominic Calvert-Lewin",
          "Moise Kean",
          "Anthony Gordon",
          "Oumar Niasse",
          "Jamie Vardy",
          "Kelechi Iheanacho",
          "Roberto Firmino",
          "Divock Origi",
          "Rhian Brewster",
          "Sergio Agüero",
          "Gabriel Fernando Jesus",
          "Romelu Lukaku",
          "Marcus Rashford",
          "Mason Greenwood",
          "Odion Ighalo",
          "Yoshinori Muto",
          "Jose Luis Joselu",
          "Joelinton Cássio Joelinton",
          "Andy Carroll",
          "Dwight Gayle",
          "Teemu Pukki",
          "Dennis Srbeny",
          "Josip Drmic",
          "Adam Idah",
          "Lys Mousset",
          "Billy Sharp",
          "David McGoldrick",
          "Oliver McBurnie",
          "Leon Clarke",
          "Richairo Zivkovic",
          "Charlie Austin",
          "Danny Ings",
          "Michael Obafemi",
          "Shane Long",
          "Sam Gallagher",
          "Che Adams",
          "Daniel N'Lundulu",
          "Harry Kane",
          "Vincent Janssen",
          "Troy Parrott",
          "Troy Deeney",
          "Gerard Deulofeu",
          "Andre Gray",
          "Isaac Success",
          "Danny Welbeck",
          "João Pedro João Pedro",
          "Marko Arnautovic",
          "Javier Chicharito",
          "Alexandre Nascimento Xande Silva",
          "Sébastien Haller",
          "Albian Ajeti",
          "Raúl Jiménez",
          "Diogo Jota",
          "Patrick Cutrone",
          "Bernard Ashley-Seal"
         ],
         "legendgroup": "Forward",
         "marker": {
          "color": "#EF553B",
          "size": [
           4.5,
           4.5,
           6,
           1.5,
           1.5,
           1.5,
           1.5,
           3.4499999999999997,
           1.5,
           3.75,
           2.25,
           3,
           1.5,
           2.25,
           1.5,
           1.5,
           7.5,
           6,
           1.5,
           1.5,
           4.5,
           6.75,
           2.25,
           9,
           5.25,
           1.5,
           1.5,
           3,
           1.5,
           1.5,
           6.75,
           1.5,
           4.5,
           2.25,
           3,
           1.5,
           4.5,
           3.75,
           4.5,
           1.5,
           1.5,
           5.550000000000001,
           4.949999999999999,
           1.5,
           9.75,
           3.75,
           3,
           1.5,
           1.5,
           6.75,
           5.25,
           7.5,
           3.75,
           1.5,
           4.5,
           3,
           2.55,
           3.4499999999999997,
           3,
           4.050000000000001,
           1.5,
           2.55,
           1.5,
           11.25,
           6,
           2.25,
           1.5,
           2.25,
           1.5,
           6.75,
           1.5,
           1.5,
           4.5,
           1.5,
           2.25,
           1.5,
           3.75,
           1.5,
           1.5,
           1.5,
           1.5,
           1.5,
           1.5,
           14.25,
           4.5,
           1.5,
           1.5
          ],
          "sizemode": "area",
          "sizeref": 0.0525,
          "symbol": "circle"
         },
         "mode": "markers",
         "name": "Forward",
         "showlegend": true,
         "type": "scatter",
         "x": [
          "5.4",
          "3.7",
          "2.6",
          "2.8",
          "0.0",
          "0.8",
          "3.2",
          "2.6",
          "1.0",
          "3.3",
          "3.5",
          "1.7",
          "1.0",
          "1.5",
          "1.5",
          "1.7",
          "3.6",
          "2.5",
          "3.2",
          "4.2",
          "2.5",
          "2.4",
          "1.0",
          "3.5",
          "5.0",
          "1.8",
          "1.0",
          "1.7",
          "2.5",
          "2.4",
          "3.8",
          "0.0",
          "4.0",
          "1.7",
          "1.0",
          "1.0",
          "6.1",
          "3.4",
          "4.3",
          "2.3",
          "0.0",
          "5.5",
          "3.9",
          "0.0",
          "6.0",
          "2.3",
          "1.0",
          "1.1",
          "0.0",
          "2.2",
          "2.0",
          "1.8",
          "4.3",
          "1.6",
          "1.4",
          "1.2",
          "2.9",
          "2.2",
          "2.0",
          "2.2",
          "1.0",
          "1.0",
          "0.0",
          "4.9",
          "2.0",
          "2.7",
          "0.0",
          "1.7",
          "0.0",
          "5.0",
          "0.0",
          "1.0",
          "3.7",
          "3.1",
          "1.8",
          "0.8",
          "1.3",
          "0.0",
          "0.0",
          "4.5",
          "0.0",
          "3.6",
          "1.0",
          "5.3",
          "3.4",
          "1.9",
          "0.0"
         ],
         "xaxis": "x",
         "y": [
          11,
          9.3,
          4.4,
          4.4,
          4.4,
          5.4,
          5.4,
          5.6,
          5.3,
          7.4,
          6.1,
          5.1,
          4.3,
          5.4,
          5.2,
          4.7,
          5.7,
          4.2,
          6.1,
          6.1,
          5.3,
          5.7,
          4.5,
          6.6,
          7.5,
          6.6,
          4.5,
          5.7,
          4.3,
          5.7,
          5.2,
          4.5,
          6.5,
          6.3,
          4.5,
          4.5,
          9.8,
          5.7,
          9.5,
          5.1,
          4.2,
          11.7,
          9.6,
          8.5,
          9,
          4.3,
          6.3,
          5.1,
          5,
          5.5,
          5.4,
          5,
          6.5,
          5.2,
          5.3,
          4.4,
          4.5,
          5.5,
          5.4,
          5.6,
          4.4,
          4.7,
          6,
          7.2,
          4.9,
          4.7,
          4.5,
          5.3,
          4.4,
          10.9,
          4.5,
          4.3,
          6.2,
          6.1,
          5.5,
          4.7,
          5.8,
          4.9,
          7,
          6,
          4.3,
          6.8,
          5.6,
          8.3,
          6.3,
          5.4,
          4.5
         ],
         "yaxis": "y"
        },
        {
         "customdata": [
          [
           "Arsenal"
          ],
          [
           "Arsenal"
          ],
          [
           "Arsenal"
          ],
          [
           "Aston Villa"
          ],
          [
           "Aston Villa"
          ],
          [
           "Aston Villa"
          ],
          [
           "Aston Villa"
          ],
          [
           "Aston Villa"
          ],
          [
           "Bournemouth"
          ],
          [
           "Bournemouth"
          ],
          [
           "Bournemouth"
          ],
          [
           "Bournemouth"
          ],
          [
           "Brighton"
          ],
          [
           "Brighton"
          ],
          [
           "Burnley"
          ],
          [
           "Burnley"
          ],
          [
           "Burnley"
          ],
          [
           "Burnley"
          ],
          [
           "Chelsea"
          ],
          [
           "Chelsea"
          ],
          [
           "Crystal Palace"
          ],
          [
           "Crystal Palace"
          ],
          [
           "Crystal Palace"
          ],
          [
           "Everton"
          ],
          [
           "Everton"
          ],
          [
           "Everton"
          ],
          [
           "Everton"
          ],
          [
           "Leicester"
          ],
          [
           "Leicester"
          ],
          [
           "Leicester"
          ],
          [
           "Liverpool"
          ],
          [
           "Liverpool"
          ],
          [
           "Liverpool"
          ],
          [
           "Liverpool"
          ],
          [
           "Liverpool"
          ],
          [
           "Man City"
          ],
          [
           "Man City"
          ],
          [
           "Man City"
          ],
          [
           "Man Utd"
          ],
          [
           "Man Utd"
          ],
          [
           "Man Utd"
          ],
          [
           "Newcastle"
          ],
          [
           "Newcastle"
          ],
          [
           "Newcastle"
          ],
          [
           "Newcastle"
          ],
          [
           "Norwich"
          ],
          [
           "Norwich"
          ],
          [
           "Norwich"
          ],
          [
           "Norwich"
          ],
          [
           "Sheffield Utd"
          ],
          [
           "Sheffield Utd"
          ],
          [
           "Sheffield Utd"
          ],
          [
           "Sheffield Utd"
          ],
          [
           "Southampton"
          ],
          [
           "Southampton"
          ],
          [
           "Southampton"
          ],
          [
           "Southampton"
          ],
          [
           "Spurs"
          ],
          [
           "Spurs"
          ],
          [
           "Spurs"
          ],
          [
           "Spurs"
          ],
          [
           "Spurs"
          ],
          [
           "Watford"
          ],
          [
           "Watford"
          ],
          [
           "Watford"
          ],
          [
           "West Ham"
          ],
          [
           "West Ham"
          ],
          [
           "West Ham"
          ],
          [
           "West Ham"
          ],
          [
           "West Ham"
          ],
          [
           "Wolves"
          ],
          [
           "Wolves"
          ],
          [
           "Wolves"
          ]
         ],
         "hoverlabel": {
          "namelength": 0
         },
         "hovertemplate": "<b>%{hovertext}</b><br><br>Player Type=Goalkeeper<br>points_per_game=%{x}<br>now_cost=%{y}<br>size=%{marker.size}<br>team_name=%{customdata[0]}",
         "hovertext": [
          "Bernd Leno",
          "Emiliano Martínez",
          "Matt Macey",
          "Ørjan Nyland",
          "Tom Heaton",
          "Jed Steer",
          "Lovre Kalinic",
          "José Reina",
          "Asmir Begovic",
          "Artur Boruc",
          "Mark Travers",
          "Aaron Ramsdale",
          "Mathew Ryan",
          "David Button",
          "Nick Pope",
          "Joe Hart",
          "Bailey Peacock-Farrell",
          "Lukas Jensen",
          "Kepa Kepa",
          "Willy Caballero",
          "Vicente Guaita",
          "Wayne Hennessey",
          "Stephen Henderson",
          "Jordan Pickford",
          "Maarten Stekelenburg",
          "Jonas Lössl",
          "João Manuel Virgínia",
          "Kasper Schmeichel",
          "Eldin Jakupovic",
          "Danny Ward",
          "Alisson Alisson",
          "Simon Mignolet",
          "Adrián Adrián",
          "Andy Lonergan",
          "Caoimhin Kelleher",
          "Ederson Ederson",
          "Claudio Bravo",
          "Scott Carson",
          "David de Gea",
          "Sergio Romero",
          "Lee Grant",
          "Martin Dubravka",
          "Karl Darlow",
          "Frederick Woodman",
          "Robert Elliot",
          "Tim Krul",
          "Michael McGovern",
          "Ralf Fahrmann",
          "Archie Mair",
          "Jake Eastwood",
          "Simon Moore",
          "Dean Henderson",
          "Michael Verrips",
          "Fraser Forster",
          "Alex McCarthy",
          "Angus Gunn",
          "Harry Lewis",
          "Hugo Lloris",
          "Paulo Gazzaniga",
          "Alfie Whiteman",
          "Michel Vorm",
          "Brandon Austin",
          "Ben Foster",
          "Pontus Dahlberg",
          "Heurelho da Silva Gomes",
          "Lukasz Fabianski",
          "Roberto Roberto",
          "David Martin",
          "Joseph Anang",
          "Darren Randolph",
          "Rui Pedro Patrício",
          "John Ruddy",
          "Will Norris"
         ],
         "legendgroup": "Goalkeeper",
         "marker": {
          "color": "#00cc96",
          "size": [
           4.5,
           6,
           1.5,
           6.449999999999999,
           1.5,
           1.5,
           1.5,
           1.5,
           1.5,
           1.5,
           1.5,
           3.75,
           8.25,
           1.5,
           9,
           1.5,
           1.5,
           1.5,
           5.25,
           1.5,
           6,
           2.25,
           1.5,
           12.75,
           1.5,
           1.5,
           1.5,
           14.25,
           1.5,
           1.5,
           13.5,
           1.5,
           1.5,
           1.5,
           1.5,
           8.55,
           1.5,
           1.5,
           7.5,
           1.5,
           1.5,
           7.5,
           1.5,
           1.5,
           1.5,
           6,
           1.5,
           1.5,
           1.5,
           1.5,
           2.55,
           7.949999999999999,
           1.5,
           1.5,
           7.5,
           1.5,
           1.5,
           10.5,
           1.5,
           1.5,
           1.5,
           1.5,
           5.25,
           1.5,
           1.5,
           4.5,
           1.5,
           1.5,
           1.5,
           1.5,
           10.5,
           1.5,
           1.5
          ],
          "sizemode": "area",
          "sizeref": 0.0525,
          "symbol": "circle"
         },
         "mode": "markers",
         "name": "Goalkeeper",
         "showlegend": true,
         "type": "scatter",
         "x": [
          "3.8",
          "4.5",
          "0.0",
          "2.2",
          "3.0",
          "1.0",
          "0.0",
          "3.2",
          "0.0",
          "0.0",
          "1.0",
          "3.3",
          "3.6",
          "0.0",
          "4.5",
          "0.0",
          "0.0",
          "0.0",
          "2.7",
          "1.8",
          "4.4",
          "2.3",
          "0.0",
          "3.2",
          "0.0",
          "0.0",
          "0.0",
          "4.4",
          "0.0",
          "0.0",
          "4.8",
          "0.0",
          "2.5",
          "0.0",
          "0.0",
          "3.4",
          "2.8",
          "0.0",
          "3.6",
          "0.0",
          "0.0",
          "4.1",
          "0.0",
          "0.0",
          "0.0",
          "3.3",
          "5.5",
          "1.0",
          "0.0",
          "0.0",
          "1.5",
          "4.7",
          "0.0",
          "0.0",
          "3.6",
          "2.9",
          "0.0",
          "4.5",
          "3.2",
          "0.0",
          "0.0",
          "0.0",
          "3.7",
          "0.0",
          "0.0",
          "3.5",
          "2.2",
          "4.0",
          "0.0",
          "1.5",
          "4.1",
          "0.0",
          "0.0"
         ],
         "xaxis": "x",
         "y": [
          4.9,
          4.2,
          4,
          4.3,
          4.3,
          4.3,
          4.2,
          4.3,
          4.2,
          4.2,
          4.2,
          4.5,
          4.7,
          3.9,
          5,
          4.2,
          4.3,
          4,
          5.4,
          4.8,
          5,
          4.2,
          4,
          5.2,
          3.9,
          4.2,
          4,
          5.4,
          4.2,
          4.2,
          6.2,
          4.5,
          4,
          4.2,
          4.4,
          6,
          4.7,
          4,
          5.3,
          4.6,
          4.7,
          5.1,
          4.3,
          3.9,
          4,
          4.6,
          4.1,
          4.4,
          4,
          4.3,
          4.3,
          5.2,
          4.4,
          4.2,
          4.5,
          4.2,
          4,
          5.3,
          4.2,
          4,
          4.2,
          4,
          4.9,
          4.2,
          4.3,
          4.9,
          4.4,
          3.9,
          4,
          4,
          5.3,
          4.2,
          3.9
         ],
         "yaxis": "y"
        },
        {
         "customdata": [
          [
           "Arsenal"
          ],
          [
           "Arsenal"
          ],
          [
           "Arsenal"
          ],
          [
           "Arsenal"
          ],
          [
           "Arsenal"
          ],
          [
           "Arsenal"
          ],
          [
           "Arsenal"
          ],
          [
           "Arsenal"
          ],
          [
           "Arsenal"
          ],
          [
           "Arsenal"
          ],
          [
           "Arsenal"
          ],
          [
           "Arsenal"
          ],
          [
           "Aston Villa"
          ],
          [
           "Aston Villa"
          ],
          [
           "Aston Villa"
          ],
          [
           "Aston Villa"
          ],
          [
           "Aston Villa"
          ],
          [
           "Aston Villa"
          ],
          [
           "Aston Villa"
          ],
          [
           "Aston Villa"
          ],
          [
           "Aston Villa"
          ],
          [
           "Aston Villa"
          ],
          [
           "Aston Villa"
          ],
          [
           "Aston Villa"
          ],
          [
           "Aston Villa"
          ],
          [
           "Aston Villa"
          ],
          [
           "Bournemouth"
          ],
          [
           "Bournemouth"
          ],
          [
           "Bournemouth"
          ],
          [
           "Bournemouth"
          ],
          [
           "Bournemouth"
          ],
          [
           "Bournemouth"
          ],
          [
           "Bournemouth"
          ],
          [
           "Bournemouth"
          ],
          [
           "Bournemouth"
          ],
          [
           "Bournemouth"
          ],
          [
           "Bournemouth"
          ],
          [
           "Bournemouth"
          ],
          [
           "Bournemouth"
          ],
          [
           "Bournemouth"
          ],
          [
           "Brighton"
          ],
          [
           "Brighton"
          ],
          [
           "Brighton"
          ],
          [
           "Brighton"
          ],
          [
           "Brighton"
          ],
          [
           "Brighton"
          ],
          [
           "Brighton"
          ],
          [
           "Brighton"
          ],
          [
           "Brighton"
          ],
          [
           "Brighton"
          ],
          [
           "Brighton"
          ],
          [
           "Brighton"
          ],
          [
           "Brighton"
          ],
          [
           "Burnley"
          ],
          [
           "Burnley"
          ],
          [
           "Burnley"
          ],
          [
           "Burnley"
          ],
          [
           "Burnley"
          ],
          [
           "Burnley"
          ],
          [
           "Burnley"
          ],
          [
           "Burnley"
          ],
          [
           "Burnley"
          ],
          [
           "Burnley"
          ],
          [
           "Chelsea"
          ],
          [
           "Chelsea"
          ],
          [
           "Chelsea"
          ],
          [
           "Chelsea"
          ],
          [
           "Chelsea"
          ],
          [
           "Chelsea"
          ],
          [
           "Chelsea"
          ],
          [
           "Chelsea"
          ],
          [
           "Chelsea"
          ],
          [
           "Chelsea"
          ],
          [
           "Chelsea"
          ],
          [
           "Chelsea"
          ],
          [
           "Chelsea"
          ],
          [
           "Chelsea"
          ],
          [
           "Crystal Palace"
          ],
          [
           "Crystal Palace"
          ],
          [
           "Crystal Palace"
          ],
          [
           "Crystal Palace"
          ],
          [
           "Crystal Palace"
          ],
          [
           "Crystal Palace"
          ],
          [
           "Crystal Palace"
          ],
          [
           "Crystal Palace"
          ],
          [
           "Crystal Palace"
          ],
          [
           "Crystal Palace"
          ],
          [
           "Crystal Palace"
          ],
          [
           "Crystal Palace"
          ],
          [
           "Crystal Palace"
          ],
          [
           "Crystal Palace"
          ],
          [
           "Everton"
          ],
          [
           "Everton"
          ],
          [
           "Everton"
          ],
          [
           "Everton"
          ],
          [
           "Everton"
          ],
          [
           "Everton"
          ],
          [
           "Everton"
          ],
          [
           "Everton"
          ],
          [
           "Everton"
          ],
          [
           "Everton"
          ],
          [
           "Everton"
          ],
          [
           "Everton"
          ],
          [
           "Leicester"
          ],
          [
           "Leicester"
          ],
          [
           "Leicester"
          ],
          [
           "Leicester"
          ],
          [
           "Leicester"
          ],
          [
           "Leicester"
          ],
          [
           "Leicester"
          ],
          [
           "Leicester"
          ],
          [
           "Leicester"
          ],
          [
           "Leicester"
          ],
          [
           "Leicester"
          ],
          [
           "Leicester"
          ],
          [
           "Leicester"
          ],
          [
           "Leicester"
          ],
          [
           "Liverpool"
          ],
          [
           "Liverpool"
          ],
          [
           "Liverpool"
          ],
          [
           "Liverpool"
          ],
          [
           "Liverpool"
          ],
          [
           "Liverpool"
          ],
          [
           "Liverpool"
          ],
          [
           "Liverpool"
          ],
          [
           "Liverpool"
          ],
          [
           "Liverpool"
          ],
          [
           "Liverpool"
          ],
          [
           "Liverpool"
          ],
          [
           "Liverpool"
          ],
          [
           "Liverpool"
          ],
          [
           "Man City"
          ],
          [
           "Man City"
          ],
          [
           "Man City"
          ],
          [
           "Man City"
          ],
          [
           "Man City"
          ],
          [
           "Man City"
          ],
          [
           "Man City"
          ],
          [
           "Man City"
          ],
          [
           "Man City"
          ],
          [
           "Man City"
          ],
          [
           "Man City"
          ],
          [
           "Man City"
          ],
          [
           "Man Utd"
          ],
          [
           "Man Utd"
          ],
          [
           "Man Utd"
          ],
          [
           "Man Utd"
          ],
          [
           "Man Utd"
          ],
          [
           "Man Utd"
          ],
          [
           "Man Utd"
          ],
          [
           "Man Utd"
          ],
          [
           "Man Utd"
          ],
          [
           "Man Utd"
          ],
          [
           "Man Utd"
          ],
          [
           "Man Utd"
          ],
          [
           "Man Utd"
          ],
          [
           "Man Utd"
          ],
          [
           "Newcastle"
          ],
          [
           "Newcastle"
          ],
          [
           "Newcastle"
          ],
          [
           "Newcastle"
          ],
          [
           "Newcastle"
          ],
          [
           "Newcastle"
          ],
          [
           "Newcastle"
          ],
          [
           "Newcastle"
          ],
          [
           "Newcastle"
          ],
          [
           "Newcastle"
          ],
          [
           "Newcastle"
          ],
          [
           "Newcastle"
          ],
          [
           "Newcastle"
          ],
          [
           "Newcastle"
          ],
          [
           "Norwich"
          ],
          [
           "Norwich"
          ],
          [
           "Norwich"
          ],
          [
           "Norwich"
          ],
          [
           "Norwich"
          ],
          [
           "Norwich"
          ],
          [
           "Norwich"
          ],
          [
           "Norwich"
          ],
          [
           "Norwich"
          ],
          [
           "Norwich"
          ],
          [
           "Norwich"
          ],
          [
           "Norwich"
          ],
          [
           "Norwich"
          ],
          [
           "Norwich"
          ],
          [
           "Sheffield Utd"
          ],
          [
           "Sheffield Utd"
          ],
          [
           "Sheffield Utd"
          ],
          [
           "Sheffield Utd"
          ],
          [
           "Sheffield Utd"
          ],
          [
           "Sheffield Utd"
          ],
          [
           "Sheffield Utd"
          ],
          [
           "Sheffield Utd"
          ],
          [
           "Sheffield Utd"
          ],
          [
           "Sheffield Utd"
          ],
          [
           "Southampton"
          ],
          [
           "Southampton"
          ],
          [
           "Southampton"
          ],
          [
           "Southampton"
          ],
          [
           "Southampton"
          ],
          [
           "Southampton"
          ],
          [
           "Southampton"
          ],
          [
           "Southampton"
          ],
          [
           "Southampton"
          ],
          [
           "Southampton"
          ],
          [
           "Southampton"
          ],
          [
           "Southampton"
          ],
          [
           "Southampton"
          ],
          [
           "Spurs"
          ],
          [
           "Spurs"
          ],
          [
           "Spurs"
          ],
          [
           "Spurs"
          ],
          [
           "Spurs"
          ],
          [
           "Spurs"
          ],
          [
           "Spurs"
          ],
          [
           "Spurs"
          ],
          [
           "Spurs"
          ],
          [
           "Spurs"
          ],
          [
           "Spurs"
          ],
          [
           "Spurs"
          ],
          [
           "Spurs"
          ],
          [
           "Spurs"
          ],
          [
           "Spurs"
          ],
          [
           "Spurs"
          ],
          [
           "Spurs"
          ],
          [
           "Spurs"
          ],
          [
           "Watford"
          ],
          [
           "Watford"
          ],
          [
           "Watford"
          ],
          [
           "Watford"
          ],
          [
           "Watford"
          ],
          [
           "Watford"
          ],
          [
           "Watford"
          ],
          [
           "Watford"
          ],
          [
           "Watford"
          ],
          [
           "Watford"
          ],
          [
           "Watford"
          ],
          [
           "West Ham"
          ],
          [
           "West Ham"
          ],
          [
           "West Ham"
          ],
          [
           "West Ham"
          ],
          [
           "West Ham"
          ],
          [
           "West Ham"
          ],
          [
           "West Ham"
          ],
          [
           "West Ham"
          ],
          [
           "West Ham"
          ],
          [
           "West Ham"
          ],
          [
           "West Ham"
          ],
          [
           "West Ham"
          ],
          [
           "West Ham"
          ],
          [
           "West Ham"
          ],
          [
           "West Ham"
          ],
          [
           "West Ham"
          ],
          [
           "Wolves"
          ],
          [
           "Wolves"
          ],
          [
           "Wolves"
          ],
          [
           "Wolves"
          ],
          [
           "Wolves"
          ],
          [
           "Wolves"
          ],
          [
           "Wolves"
          ],
          [
           "Wolves"
          ],
          [
           "Wolves"
          ],
          [
           "Wolves"
          ],
          [
           "Wolves"
          ],
          [
           "Wolves"
          ],
          [
           "Wolves"
          ]
         ],
         "hoverlabel": {
          "namelength": 0
         },
         "hovertemplate": "<b>%{hovertext}</b><br><br>Player Type=Midfielder<br>points_per_game=%{x}<br>now_cost=%{y}<br>size=%{marker.size}<br>team_name=%{customdata[0]}",
         "hovertext": [
          "Mesut Özil",
          "Henrikh Mkhitaryan",
          "Granit Xhaka",
          "Lucas Torreira",
          "Mohamed Elneny",
          "Matteo Guendouzi",
          "Daniel Ceballos",
          "Nicolas Pépé",
          "Reiss Nelson",
          "Joseph Willock",
          "Bukayo Saka",
          "Emile Smith Rowe",
          "Conor Hourihane",
          "Jack Grealish",
          "Anwar El Ghazi",
          "John McGinn",
          "Andre Green",
          "Birkir Bjarnason",
          "Keinan Davis",
          "Henri Lansbury",
          "José Ignacio Jota",
          "Daniel Drinkwater",
          "Mahmoud Ahmed Trézéguet",
          "Douglas Luiz Douglas Luiz",
          "Marvelous Nakamba",
          "Indiana Vassilev",
          "Ryan Fraser",
          "David Brooks",
          "Junior Stanislas",
          "Jordon Ibe",
          "Lewis Lewis Cook",
          "Andrew Surman",
          "Dan Gosling",
          "Jefferson Lerma",
          "Philip Billing",
          "Arnaut Danjuma",
          "Harry Harry Wilson",
          "Christian Saydee",
          "Gavin Kilkenny",
          "Mihai-Alexandru Dobre",
          "Pascal Groß",
          "Alireza Jahanbakhsh",
          "José Heriberto Izquierdo",
          "Anthony Knockaert",
          "Yves Bissouma",
          "Davy Pröpper",
          "Solomon March",
          "Beram Kayal",
          "Dale Stephens",
          "Leandro Trossard",
          "Aaron Mooy",
          "Steven Alzate",
          "Alexis Mac Allister",
          "Johann Berg Gudmundsson",
          "Dwight McNeil",
          "Robbie Brady",
          "Steven Defour",
          "Jeff Hendrick",
          "Ashley Westwood",
          "Jack Cork",
          "Aaron Lennon",
          "Mace Goodridge",
          "Josh Brownhill",
          "Willian Willian",
          "Pedro Pedro",
          "Ruben Loftus-Cheek",
          "Callum Hudson-Odoi",
          "Ross Barkley",
          "Jorge Luiz Jorginho",
          "N'Golo Kanté",
          "Ethan Ampadu",
          "Christian Pulisic",
          "Mateo Kovacic",
          "Robert Kenedy Kenedy",
          "Mason Mount",
          "Billy Gilmour",
          "Faustino Anjorin",
          "Wilfried Zaha",
          "Luka Milivojevic",
          "Andros Townsend",
          "Max Meyer",
          "Jeffrey Schlupp",
          "James McArthur",
          "Cheikhou Kouyaté",
          "Luke Dreher",
          "James McCarthy",
          "Víctor Camarasa",
          "Jairo Riedewald",
          "Brandon Pierrick",
          "Nya Kirby",
          "Giovanni McGregor",
          "Alex Iwobi",
          "Richarlison Richarlison",
          "Gylfi Sigurdsson",
          "Bernard Bernard",
          "Theo Walcott",
          "Tom Davies",
          "Ademola Lookman",
          "Idrissa Gueye",
          "Morgan Schneiderlin",
          "André Filipe André Gomes",
          "Jean-Philippe Gbamin",
          "Beni Baningime",
          "James Maddison",
          "Harvey Barnes",
          "Rachid Ghezzal",
          "Marc Albrighton",
          "Demarai Gray",
          "Wilfred Ndidi",
          "Matty James",
          "Daniel Amartey",
          "Nampalys Mendy",
          "Hamza Choudhury",
          "Ayoze Pérez",
          "Youri Tielemans",
          "Andy King",
          "Dennis Praet",
          "Mohamed Salah",
          "Sadio Mané",
          "Alex Chamberlain",
          "Xherdan Shaqiri",
          "Adam Lallana",
          "Naby Keita",
          "Fabio Henrique Fabinho",
          "Jordan Henderson",
          "Georginio Wijnaldum",
          "James Milner",
          "Rafael Camacho",
          "Harvey Elliott",
          "Curtis Jones",
          "Takumi Minamino",
          "Raheem Sterling",
          "Kevin De Bruyne",
          "Leroy Sané",
          "Riyad Mahrez",
          "Bernardo Mota Bernardo Silva",
          "David David Silva",
          "Phil Foden",
          "Fernando Fernandinho",
          "Ilkay Gündogan",
          "Rodrigo Rodrigo",
          "Cole Palmer",
          "Tommy Doyle",
          "Paul Pogba",
          "Anthony Martial",
          "Alexis Sánchez",
          "Jesse Lingard",
          "Juan Mata",
          "Daniel James",
          "Frederico Fred",
          "Angel Gomes",
          "Andreas Pereira",
          "Nemanja Matic",
          "Scott McTominay",
          "Tahith Chong",
          "James Garner",
          "Bruno Miguel Fernandes",
          "Miguel Almirón",
          "Christian Atsu",
          "Sung-yueng Ki Sung-yueng",
          "Jonjo Shelvey",
          "Sean Longstaff",
          "Isaac Hayden",
          "Jack Colback",
          "Jacob Murphy",
          "Rolando Aarons",
          "Allan Saint-Maximin",
          "Matthew Matthew Longstaff",
          "Thomas Allan",
          "Nabil Bentaleb",
          "Valentino Lazaro",
          "Mario Vrancic",
          "Emiliano Buendía",
          "Onel Hernández",
          "Marco Stiepermann",
          "Kenny McLean",
          "Todd Cantwell",
          "Moritz Leitner",
          "Alexander Tettey",
          "Tom Trybull",
          "Patrick Roberts",
          "Ibrahim Amadou",
          "Ondrej Duda",
          "Lukas Rupp",
          "Josh Martin",
          "Mark Duffy",
          "John Fleck",
          "Oliver Norwood",
          "Luke Freeman",
          "Callum Callum Robinson",
          "Ravel Morrison",
          "Ben Osborn",
          "Muhamed Bešić",
          "Jack Rodwell",
          "Sander Berge",
          "Nathan Redmond",
          "James Ward-Prowse",
          "Mohamed Elyounoussi",
          "Stuart Armstrong",
          "Mario Lemina",
          "Pierre-Emile Højbjerg",
          "Tyreke Johnson",
          "Callum Slattery",
          "Oriol Oriol Romeu",
          "Moussa Djenepo",
          "Sofiane Boufal",
          "William Smallbone",
          "Nathan Tella",
          "Heung-Min Son",
          "Christian Eriksen",
          "Bamidele Alli",
          "Lucas Lucas Moura",
          "Erik Lamela",
          "Harry Winks",
          "Victor Wanyama",
          "Moussa Sissoko",
          "Eric Dier",
          "Luke Amos",
          "Oliver Skipp",
          "Tanguy Ndombele",
          "Giovani Lo Celso",
          "Ryan Sessegnon",
          "Georges-Kévin Nkoudou",
          "Gedson Fernandes",
          "Steven Bergwijn",
          "Harvey White",
          "Abdoulaye Doucouré",
          "Roberto Pereyra",
          "Will Hughes",
          "Tom Cleverley",
          "Ken Sema",
          "Etienne Capoue",
          "Nathaniel Chalobah",
          "Domingos Quina",
          "Ismaïla Sarr",
          "Ayotomiwa Dele-Bashiru",
          "Ignacio Pussetto",
          "Michail Antonio",
          "Felipe Anderson Felipe Anderson",
          "Manuel Lanzini",
          "Andriy Yarmolenko",
          "Robert Snodgrass",
          "Jack Wilshere",
          "Declan Rice",
          "Mark Noble",
          "Carlos Carlos Sánchez",
          "Grady Diangana",
          "Pablo Fornals",
          "Pedro Obiang",
          "Nathan Holland",
          "Bernardo Rosa",
          "Tomas Soucek",
          "Jarrod Bowen",
          "Rúben Diogo Neves",
          "João Filipe Iria Moutinho",
          "Morgan Gibbs-White",
          "Adama Traoré",
          "Hélder Costa",
          "Ivan Cavaleiro",
          "Leander Dendoncker",
          "Pedro Neto",
          "Taylor Perry",
          "Owen Otasowie",
          "Luke Cundle",
          "Bruno André Jordao",
          "Daniel Podence"
         ],
         "legendgroup": "Midfielder",
         "marker": {
          "color": "#ab63fa",
          "size": [
           1.5,
           1.5,
           3.4499999999999997,
           1.5,
           1.5,
           3.4499999999999997,
           4.949999999999999,
           7.050000000000001,
           2.55,
           6,
           6,
           1.5,
           6.449999999999999,
           4.5,
           4.949999999999999,
           4.949999999999999,
           1.5,
           1.5,
           4.050000000000001,
           1.5,
           1.9500000000000002,
           1.5,
           3.4499999999999997,
           4.050000000000001,
           3,
           1.5,
           1.5,
           3.75,
           3.75,
           1.5,
           3.75,
           1.5,
           2.25,
           4.5,
           2.25,
           3,
           3,
           1.5,
           1.5,
           1.5,
           3,
           1.5,
           1.5,
           1.5,
           3.75,
           3.75,
           3,
           1.5,
           3.75,
           3.75,
           3.75,
           1.5,
           3,
           1.5,
           6.75,
           1.5,
           1.5,
           1.5,
           5.25,
           5.25,
           1.5,
           1.5,
           4.5,
           10.5,
           2.25,
           2.25,
           1.5,
           3.75,
           1.5,
           3.75,
           1.5,
           12,
           3,
           1.5,
           4.5,
           2.25,
           1.5,
           6.75,
           9.75,
           3.75,
           3,
           1.5,
           5.25,
           5.25,
           1.5,
           3.75,
           1.5,
           3,
           2.25,
           1.5,
           1.5,
           6,
           6,
           3,
           4.5,
           1.5,
           4.5,
           1.5,
           1.5,
           1.5,
           6,
           1.5,
           1.5,
           5.25,
           4.5,
           1.5,
           3.75,
           6.75,
           4.5,
           1.5,
           1.5,
           3.75,
           2.25,
           2.25,
           3.75,
           1.5,
           1.5,
           9.75,
           10.5,
           3,
           1.5,
           1.5,
           4.5,
           14.25,
           6,
           4.5,
           1.5,
           1.5,
           2.25,
           1.5,
           3,
           7.5,
           13.049999999999999,
           1.9500000000000002,
           15,
           7.5,
           7.949999999999999,
           12.450000000000001,
           4.5,
           4.050000000000001,
           3.4499999999999997,
           1.5,
           1.5,
           6.75,
           18.75,
           1.5,
           1.5,
           2.25,
           3,
           3,
           1.5,
           2.25,
           4.5,
           3.75,
           1.5,
           1.5,
           10.5,
           7.5,
           1.5,
           1.5,
           6,
           1.5,
           8.25,
           1.5,
           1.5,
           1.5,
           10.5,
           1.5,
           1.5,
           3,
           3,
           3,
           3.75,
           3.75,
           1.5,
           4.5,
           3.75,
           1.5,
           3,
           3,
           1.5,
           1.5,
           3.75,
           3,
           2.25,
           1.5,
           3.4499999999999997,
           4.5,
           2.55,
           1.5,
           1.5,
           1.5,
           1.5,
           1.5,
           4.5,
           9.75,
           5.25,
           1.5,
           12.75,
           1.5,
           5.25,
           1.5,
           1.5,
           2.25,
           1.5,
           2.25,
           2.25,
           2.25,
           7.5,
           1.5,
           2.25,
           3.75,
           4.5,
           3.75,
           1.5,
           5.25,
           5.25,
           1.5,
           1.5,
           1.5,
           4.5,
           1.5,
           1.5,
           2.25,
           10.5,
           1.5,
           4.5,
           3.75,
           4.5,
           3,
           1.5,
           5.25,
           3,
           1.5,
           4.5,
           1.5,
           1.5,
           3.75,
           4.5,
           3,
           2.25,
           1.5,
           1.5,
           5.25,
           3.75,
           1.5,
           1.5,
           3.75,
           1.5,
           1.5,
           1.5,
           3,
           4.5,
           5.25,
           4.5,
           3,
           9,
           1.5,
           1.5,
           4.5,
           6.75,
           1.5,
           1.5,
           1.5,
           1.5,
           2.25
          ],
          "sizemode": "area",
          "sizeref": 0.0525,
          "symbol": "circle"
         },
         "mode": "markers",
         "name": "Midfielder",
         "showlegend": true,
         "type": "scatter",
         "x": [
          "2.9",
          "1.3",
          "2.1",
          "1.8",
          "0.0",
          "2.0",
          "2.5",
          "3.8",
          "1.6",
          "1.5",
          "2.5",
          "2.0",
          "3.0",
          "4.3",
          "3.1",
          "3.2",
          "0.0",
          "0.0",
          "1.5",
          "1.2",
          "1.8",
          "1.2",
          "2.3",
          "2.6",
          "1.6",
          "1.0",
          "2.6",
          "1.5",
          "1.4",
          "1.0",
          "1.6",
          "1.2",
          "2.4",
          "2.0",
          "2.2",
          "1.8",
          "3.4",
          "0.0",
          "0.0",
          "0.0",
          "3.0",
          "3.2",
          "0.0",
          "0.0",
          "1.5",
          "2.4",
          "2.1",
          "0.0",
          "2.0",
          "3.1",
          "2.8",
          "1.7",
          "1.0",
          "2.9",
          "3.4",
          "2.1",
          "0.0",
          "2.8",
          "3.4",
          "2.3",
          "0.9",
          "0.0",
          "1.7",
          "4.2",
          "3.1",
          "1.0",
          "2.6",
          "2.7",
          "3.1",
          "2.6",
          "0.0",
          "4.7",
          "2.2",
          "0.0",
          "3.7",
          "1.5",
          "1.0",
          "3.3",
          "2.9",
          "2.2",
          "1.4",
          "2.9",
          "2.7",
          "2.7",
          "0.0",
          "1.3",
          "1.0",
          "1.4",
          "1.0",
          "0.0",
          "0.0",
          "2.2",
          "4.8",
          "2.5",
          "3.0",
          "2.3",
          "2.0",
          "0.0",
          "0.0",
          "1.2",
          "1.7",
          "2.0",
          "0.0",
          "4.1",
          "4.0",
          "0.0",
          "2.0",
          "1.9",
          "2.8",
          "1.0",
          "0.0",
          "1.7",
          "1.8",
          "4.3",
          "3.3",
          "0.0",
          "2.3",
          "7.3",
          "6.7",
          "2.5",
          "2.3",
          "1.8",
          "2.6",
          "2.8",
          "3.9",
          "3.0",
          "2.4",
          "0.0",
          "1.0",
          "1.0",
          "1.0",
          "5.0",
          "6.9",
          "1.0",
          "5.7",
          "3.6",
          "4.7",
          "2.6",
          "1.9",
          "2.1",
          "2.7",
          "0.0",
          "0.0",
          "2.7",
          "5.8",
          "0.0",
          "1.2",
          "2.1",
          "3.1",
          "1.8",
          "1.0",
          "2.5",
          "2.6",
          "3.0",
          "1.0",
          "1.0",
          "7.1",
          "2.9",
          "2.0",
          "1.3",
          "3.9",
          "1.8",
          "2.7",
          "0.0",
          "0.0",
          "0.0",
          "3.4",
          "3.6",
          "0.0",
          "1.4",
          "0.8",
          "1.6",
          "2.8",
          "1.9",
          "1.4",
          "2.2",
          "3.3",
          "1.8",
          "2.4",
          "1.8",
          "1.0",
          "1.6",
          "2.4",
          "1.7",
          "1.0",
          "0.0",
          "3.6",
          "2.7",
          "1.2",
          "2.1",
          "1.0",
          "1.0",
          "1.0",
          "0.0",
          "2.0",
          "3.2",
          "3.2",
          "0.0",
          "3.2",
          "0.0",
          "2.4",
          "0.0",
          "0.0",
          "1.6",
          "2.2",
          "1.7",
          "2.0",
          "1.0",
          "5.7",
          "2.4",
          "5.0",
          "2.8",
          "2.8",
          "1.5",
          "0.5",
          "2.5",
          "1.9",
          "0.0",
          "1.0",
          "2.3",
          "1.4",
          "1.5",
          "1.0",
          "1.0",
          "4.9",
          "0.0",
          "3.2",
          "2.2",
          "2.3",
          "2.2",
          "0.0",
          "2.6",
          "1.8",
          "1.0",
          "3.9",
          "0.0",
          "0.8",
          "2.8",
          "2.7",
          "2.2",
          "3.1",
          "3.6",
          "1.0",
          "2.3",
          "3.1",
          "1.2",
          "0.0",
          "2.6",
          "0.0",
          "1.0",
          "0.0",
          "1.3",
          "2.8",
          "2.5",
          "3.2",
          "1.7",
          "3.9",
          "0.0",
          "0.0",
          "2.4",
          "2.1",
          "0.0",
          "0.0",
          "0.0",
          "0.0",
          "1.0"
         ],
         "xaxis": "x",
         "y": [
          7.1,
          6.7,
          5.1,
          4.7,
          4.2,
          4.2,
          5.2,
          9.2,
          5.3,
          4.7,
          4.7,
          4.3,
          5.7,
          6.3,
          5.4,
          5.4,
          4.8,
          4.5,
          4.3,
          4.4,
          5.8,
          4.4,
          5.2,
          4.4,
          4.4,
          4.5,
          6.8,
          6.2,
          5.9,
          4.6,
          5,
          4.7,
          4.9,
          4.8,
          5,
          5.8,
          5.8,
          4.5,
          4.5,
          4.4,
          6.2,
          5.8,
          5.4,
          5.3,
          5,
          4.8,
          4.6,
          4.3,
          4.4,
          5.8,
          4.8,
          4.5,
          5.5,
          5.9,
          6.1,
          5.5,
          5.5,
          5.4,
          5.5,
          4.9,
          4.6,
          4.5,
          4.8,
          7,
          6.8,
          6.2,
          5.2,
          5.7,
          4.9,
          5,
          4.3,
          6.9,
          5.3,
          5.2,
          6.2,
          4.4,
          4.5,
          6.7,
          6.7,
          5.6,
          5.2,
          5.4,
          5.2,
          4.9,
          4.3,
          4.3,
          4.5,
          4.5,
          4.5,
          4.5,
          4.5,
          5.6,
          8.3,
          7.3,
          6.4,
          6.2,
          5.3,
          5,
          5,
          4.4,
          5.2,
          4.8,
          4.5,
          7.5,
          6.1,
          5.1,
          5.1,
          5,
          5,
          4.3,
          4.2,
          4.3,
          4.3,
          6.1,
          6.1,
          4.2,
          5.3,
          12.7,
          12.5,
          6.2,
          6.3,
          5.7,
          5.8,
          5.4,
          5.3,
          5.4,
          5.3,
          4.5,
          4.5,
          4.5,
          6,
          11.7,
          10.7,
          9.2,
          8.5,
          7.7,
          7.3,
          5.2,
          5.1,
          5.2,
          5.4,
          4.5,
          4.5,
          8.3,
          8.1,
          6.8,
          6.3,
          6.1,
          5.8,
          5.3,
          4.7,
          4.8,
          4.8,
          4.9,
          4.3,
          4.3,
          8.7,
          5.8,
          5.3,
          4.7,
          4.9,
          5,
          4.4,
          4.3,
          4.7,
          4.8,
          5.4,
          4.5,
          4.5,
          4.9,
          5.4,
          6.2,
          6,
          5.3,
          5,
          4.8,
          4.7,
          4.3,
          4.5,
          4.3,
          5,
          4.5,
          4.6,
          4.4,
          4.5,
          5.2,
          4.9,
          4.8,
          5,
          4.9,
          4.5,
          4.7,
          4.3,
          4.5,
          4.7,
          6.2,
          5.7,
          5.2,
          5.2,
          4.6,
          4.8,
          4.4,
          4.4,
          4.3,
          5.2,
          5.5,
          4.5,
          4.5,
          9.8,
          8.6,
          8.3,
          7.1,
          5.7,
          5.2,
          4.7,
          4.8,
          4.8,
          4.4,
          4.3,
          5.8,
          7.3,
          5.4,
          5,
          4.7,
          7.5,
          4.5,
          5.6,
          5.6,
          5.3,
          4.8,
          4.7,
          4.8,
          4.4,
          4.3,
          6.3,
          4.5,
          4.6,
          6.9,
          6.6,
          6.1,
          5.2,
          5.1,
          4.6,
          4.7,
          5,
          4.3,
          4.3,
          6,
          4.5,
          4.4,
          4.5,
          4.8,
          6.4,
          5.2,
          5.4,
          4.7,
          5.8,
          4.8,
          4.9,
          4.4,
          5,
          4.5,
          4.5,
          4.5,
          4.5,
          5
         ],
         "yaxis": "y"
        }
       ],
       "layout": {
        "annotations": [
         {
          "showarrow": false,
          "text": "Bubble Size : Player Form",
          "x": 1.15,
          "xref": "paper",
          "y": 1.1,
          "yref": "paper"
         }
        ],
        "legend": {
         "itemsizing": "constant",
         "title": {
          "text": "Player Type"
         },
         "tracegroupgap": 0
        },
        "showlegend": true,
        "template": {
         "data": {
          "bar": [
           {
            "error_x": {
             "color": "#2a3f5f"
            },
            "error_y": {
             "color": "#2a3f5f"
            },
            "marker": {
             "line": {
              "color": "#E5ECF6",
              "width": 0.5
             }
            },
            "type": "bar"
           }
          ],
          "barpolar": [
           {
            "marker": {
             "line": {
              "color": "#E5ECF6",
              "width": 0.5
             }
            },
            "type": "barpolar"
           }
          ],
          "carpet": [
           {
            "aaxis": {
             "endlinecolor": "#2a3f5f",
             "gridcolor": "white",
             "linecolor": "white",
             "minorgridcolor": "white",
             "startlinecolor": "#2a3f5f"
            },
            "baxis": {
             "endlinecolor": "#2a3f5f",
             "gridcolor": "white",
             "linecolor": "white",
             "minorgridcolor": "white",
             "startlinecolor": "#2a3f5f"
            },
            "type": "carpet"
           }
          ],
          "choropleth": [
           {
            "colorbar": {
             "outlinewidth": 0,
             "ticks": ""
            },
            "type": "choropleth"
           }
          ],
          "contour": [
           {
            "colorbar": {
             "outlinewidth": 0,
             "ticks": ""
            },
            "colorscale": [
             [
              0,
              "#0d0887"
             ],
             [
              0.1111111111111111,
              "#46039f"
             ],
             [
              0.2222222222222222,
              "#7201a8"
             ],
             [
              0.3333333333333333,
              "#9c179e"
             ],
             [
              0.4444444444444444,
              "#bd3786"
             ],
             [
              0.5555555555555556,
              "#d8576b"
             ],
             [
              0.6666666666666666,
              "#ed7953"
             ],
             [
              0.7777777777777778,
              "#fb9f3a"
             ],
             [
              0.8888888888888888,
              "#fdca26"
             ],
             [
              1,
              "#f0f921"
             ]
            ],
            "type": "contour"
           }
          ],
          "contourcarpet": [
           {
            "colorbar": {
             "outlinewidth": 0,
             "ticks": ""
            },
            "type": "contourcarpet"
           }
          ],
          "heatmap": [
           {
            "colorbar": {
             "outlinewidth": 0,
             "ticks": ""
            },
            "colorscale": [
             [
              0,
              "#0d0887"
             ],
             [
              0.1111111111111111,
              "#46039f"
             ],
             [
              0.2222222222222222,
              "#7201a8"
             ],
             [
              0.3333333333333333,
              "#9c179e"
             ],
             [
              0.4444444444444444,
              "#bd3786"
             ],
             [
              0.5555555555555556,
              "#d8576b"
             ],
             [
              0.6666666666666666,
              "#ed7953"
             ],
             [
              0.7777777777777778,
              "#fb9f3a"
             ],
             [
              0.8888888888888888,
              "#fdca26"
             ],
             [
              1,
              "#f0f921"
             ]
            ],
            "type": "heatmap"
           }
          ],
          "heatmapgl": [
           {
            "colorbar": {
             "outlinewidth": 0,
             "ticks": ""
            },
            "colorscale": [
             [
              0,
              "#0d0887"
             ],
             [
              0.1111111111111111,
              "#46039f"
             ],
             [
              0.2222222222222222,
              "#7201a8"
             ],
             [
              0.3333333333333333,
              "#9c179e"
             ],
             [
              0.4444444444444444,
              "#bd3786"
             ],
             [
              0.5555555555555556,
              "#d8576b"
             ],
             [
              0.6666666666666666,
              "#ed7953"
             ],
             [
              0.7777777777777778,
              "#fb9f3a"
             ],
             [
              0.8888888888888888,
              "#fdca26"
             ],
             [
              1,
              "#f0f921"
             ]
            ],
            "type": "heatmapgl"
           }
          ],
          "histogram": [
           {
            "marker": {
             "colorbar": {
              "outlinewidth": 0,
              "ticks": ""
             }
            },
            "type": "histogram"
           }
          ],
          "histogram2d": [
           {
            "colorbar": {
             "outlinewidth": 0,
             "ticks": ""
            },
            "colorscale": [
             [
              0,
              "#0d0887"
             ],
             [
              0.1111111111111111,
              "#46039f"
             ],
             [
              0.2222222222222222,
              "#7201a8"
             ],
             [
              0.3333333333333333,
              "#9c179e"
             ],
             [
              0.4444444444444444,
              "#bd3786"
             ],
             [
              0.5555555555555556,
              "#d8576b"
             ],
             [
              0.6666666666666666,
              "#ed7953"
             ],
             [
              0.7777777777777778,
              "#fb9f3a"
             ],
             [
              0.8888888888888888,
              "#fdca26"
             ],
             [
              1,
              "#f0f921"
             ]
            ],
            "type": "histogram2d"
           }
          ],
          "histogram2dcontour": [
           {
            "colorbar": {
             "outlinewidth": 0,
             "ticks": ""
            },
            "colorscale": [
             [
              0,
              "#0d0887"
             ],
             [
              0.1111111111111111,
              "#46039f"
             ],
             [
              0.2222222222222222,
              "#7201a8"
             ],
             [
              0.3333333333333333,
              "#9c179e"
             ],
             [
              0.4444444444444444,
              "#bd3786"
             ],
             [
              0.5555555555555556,
              "#d8576b"
             ],
             [
              0.6666666666666666,
              "#ed7953"
             ],
             [
              0.7777777777777778,
              "#fb9f3a"
             ],
             [
              0.8888888888888888,
              "#fdca26"
             ],
             [
              1,
              "#f0f921"
             ]
            ],
            "type": "histogram2dcontour"
           }
          ],
          "mesh3d": [
           {
            "colorbar": {
             "outlinewidth": 0,
             "ticks": ""
            },
            "type": "mesh3d"
           }
          ],
          "parcoords": [
           {
            "line": {
             "colorbar": {
              "outlinewidth": 0,
              "ticks": ""
             }
            },
            "type": "parcoords"
           }
          ],
          "pie": [
           {
            "automargin": true,
            "type": "pie"
           }
          ],
          "scatter": [
           {
            "marker": {
             "colorbar": {
              "outlinewidth": 0,
              "ticks": ""
             }
            },
            "type": "scatter"
           }
          ],
          "scatter3d": [
           {
            "line": {
             "colorbar": {
              "outlinewidth": 0,
              "ticks": ""
             }
            },
            "marker": {
             "colorbar": {
              "outlinewidth": 0,
              "ticks": ""
             }
            },
            "type": "scatter3d"
           }
          ],
          "scattercarpet": [
           {
            "marker": {
             "colorbar": {
              "outlinewidth": 0,
              "ticks": ""
             }
            },
            "type": "scattercarpet"
           }
          ],
          "scattergeo": [
           {
            "marker": {
             "colorbar": {
              "outlinewidth": 0,
              "ticks": ""
             }
            },
            "type": "scattergeo"
           }
          ],
          "scattergl": [
           {
            "marker": {
             "colorbar": {
              "outlinewidth": 0,
              "ticks": ""
             }
            },
            "type": "scattergl"
           }
          ],
          "scattermapbox": [
           {
            "marker": {
             "colorbar": {
              "outlinewidth": 0,
              "ticks": ""
             }
            },
            "type": "scattermapbox"
           }
          ],
          "scatterpolar": [
           {
            "marker": {
             "colorbar": {
              "outlinewidth": 0,
              "ticks": ""
             }
            },
            "type": "scatterpolar"
           }
          ],
          "scatterpolargl": [
           {
            "marker": {
             "colorbar": {
              "outlinewidth": 0,
              "ticks": ""
             }
            },
            "type": "scatterpolargl"
           }
          ],
          "scatterternary": [
           {
            "marker": {
             "colorbar": {
              "outlinewidth": 0,
              "ticks": ""
             }
            },
            "type": "scatterternary"
           }
          ],
          "surface": [
           {
            "colorbar": {
             "outlinewidth": 0,
             "ticks": ""
            },
            "colorscale": [
             [
              0,
              "#0d0887"
             ],
             [
              0.1111111111111111,
              "#46039f"
             ],
             [
              0.2222222222222222,
              "#7201a8"
             ],
             [
              0.3333333333333333,
              "#9c179e"
             ],
             [
              0.4444444444444444,
              "#bd3786"
             ],
             [
              0.5555555555555556,
              "#d8576b"
             ],
             [
              0.6666666666666666,
              "#ed7953"
             ],
             [
              0.7777777777777778,
              "#fb9f3a"
             ],
             [
              0.8888888888888888,
              "#fdca26"
             ],
             [
              1,
              "#f0f921"
             ]
            ],
            "type": "surface"
           }
          ],
          "table": [
           {
            "cells": {
             "fill": {
              "color": "#EBF0F8"
             },
             "line": {
              "color": "white"
             }
            },
            "header": {
             "fill": {
              "color": "#C8D4E3"
             },
             "line": {
              "color": "white"
             }
            },
            "type": "table"
           }
          ]
         },
         "layout": {
          "annotationdefaults": {
           "arrowcolor": "#2a3f5f",
           "arrowhead": 0,
           "arrowwidth": 1
          },
          "coloraxis": {
           "colorbar": {
            "outlinewidth": 0,
            "ticks": ""
           }
          },
          "colorscale": {
           "diverging": [
            [
             0,
             "#8e0152"
            ],
            [
             0.1,
             "#c51b7d"
            ],
            [
             0.2,
             "#de77ae"
            ],
            [
             0.3,
             "#f1b6da"
            ],
            [
             0.4,
             "#fde0ef"
            ],
            [
             0.5,
             "#f7f7f7"
            ],
            [
             0.6,
             "#e6f5d0"
            ],
            [
             0.7,
             "#b8e186"
            ],
            [
             0.8,
             "#7fbc41"
            ],
            [
             0.9,
             "#4d9221"
            ],
            [
             1,
             "#276419"
            ]
           ],
           "sequential": [
            [
             0,
             "#0d0887"
            ],
            [
             0.1111111111111111,
             "#46039f"
            ],
            [
             0.2222222222222222,
             "#7201a8"
            ],
            [
             0.3333333333333333,
             "#9c179e"
            ],
            [
             0.4444444444444444,
             "#bd3786"
            ],
            [
             0.5555555555555556,
             "#d8576b"
            ],
            [
             0.6666666666666666,
             "#ed7953"
            ],
            [
             0.7777777777777778,
             "#fb9f3a"
            ],
            [
             0.8888888888888888,
             "#fdca26"
            ],
            [
             1,
             "#f0f921"
            ]
           ],
           "sequentialminus": [
            [
             0,
             "#0d0887"
            ],
            [
             0.1111111111111111,
             "#46039f"
            ],
            [
             0.2222222222222222,
             "#7201a8"
            ],
            [
             0.3333333333333333,
             "#9c179e"
            ],
            [
             0.4444444444444444,
             "#bd3786"
            ],
            [
             0.5555555555555556,
             "#d8576b"
            ],
            [
             0.6666666666666666,
             "#ed7953"
            ],
            [
             0.7777777777777778,
             "#fb9f3a"
            ],
            [
             0.8888888888888888,
             "#fdca26"
            ],
            [
             1,
             "#f0f921"
            ]
           ]
          },
          "colorway": [
           "#636efa",
           "#EF553B",
           "#00cc96",
           "#ab63fa",
           "#FFA15A",
           "#19d3f3",
           "#FF6692",
           "#B6E880",
           "#FF97FF",
           "#FECB52"
          ],
          "font": {
           "color": "#2a3f5f"
          },
          "geo": {
           "bgcolor": "white",
           "lakecolor": "white",
           "landcolor": "#E5ECF6",
           "showlakes": true,
           "showland": true,
           "subunitcolor": "white"
          },
          "hoverlabel": {
           "align": "left"
          },
          "hovermode": "closest",
          "mapbox": {
           "style": "light"
          },
          "paper_bgcolor": "white",
          "plot_bgcolor": "#E5ECF6",
          "polar": {
           "angularaxis": {
            "gridcolor": "white",
            "linecolor": "white",
            "ticks": ""
           },
           "bgcolor": "#E5ECF6",
           "radialaxis": {
            "gridcolor": "white",
            "linecolor": "white",
            "ticks": ""
           }
          },
          "scene": {
           "xaxis": {
            "backgroundcolor": "#E5ECF6",
            "gridcolor": "white",
            "gridwidth": 2,
            "linecolor": "white",
            "showbackground": true,
            "ticks": "",
            "zerolinecolor": "white"
           },
           "yaxis": {
            "backgroundcolor": "#E5ECF6",
            "gridcolor": "white",
            "gridwidth": 2,
            "linecolor": "white",
            "showbackground": true,
            "ticks": "",
            "zerolinecolor": "white"
           },
           "zaxis": {
            "backgroundcolor": "#E5ECF6",
            "gridcolor": "white",
            "gridwidth": 2,
            "linecolor": "white",
            "showbackground": true,
            "ticks": "",
            "zerolinecolor": "white"
           }
          },
          "shapedefaults": {
           "line": {
            "color": "#2a3f5f"
           }
          },
          "ternary": {
           "aaxis": {
            "gridcolor": "white",
            "linecolor": "white",
            "ticks": ""
           },
           "baxis": {
            "gridcolor": "white",
            "linecolor": "white",
            "ticks": ""
           },
           "bgcolor": "#E5ECF6",
           "caxis": {
            "gridcolor": "white",
            "linecolor": "white",
            "ticks": ""
           }
          },
          "title": {
           "x": 0.05
          },
          "xaxis": {
           "automargin": true,
           "gridcolor": "white",
           "linecolor": "white",
           "ticks": "",
           "title": {
            "standoff": 15
           },
           "zerolinecolor": "white",
           "zerolinewidth": 2
          },
          "yaxis": {
           "automargin": true,
           "gridcolor": "white",
           "linecolor": "white",
           "ticks": "",
           "title": {
            "standoff": 15
           },
           "zerolinecolor": "white",
           "zerolinewidth": 2
          }
         }
        },
        "title": {
         "text": "Most Suitable Player to Buy Currently"
        },
        "xaxis": {
         "anchor": "y",
         "domain": [
          0,
          1
         ],
         "title": {
          "text": "Points Per Game"
         }
        },
        "yaxis": {
         "anchor": "x",
         "domain": [
          0,
          1
         ],
         "tickprefix": "£",
         "title": {
          "text": "Price"
         }
        }
       }
      },
      "text/html": [
       "<div>\n",
       "        \n",
       "        \n",
       "            <div id=\"22c1c70c-d5a2-41d7-9a25-49b26eb7da30\" class=\"plotly-graph-div\" style=\"height:525px; width:100%;\"></div>\n",
       "            <script type=\"text/javascript\">\n",
       "                require([\"plotly\"], function(Plotly) {\n",
       "                    window.PLOTLYENV=window.PLOTLYENV || {};\n",
       "                    \n",
       "                if (document.getElementById(\"22c1c70c-d5a2-41d7-9a25-49b26eb7da30\")) {\n",
       "                    Plotly.newPlot(\n",
       "                        '22c1c70c-d5a2-41d7-9a25-49b26eb7da30',\n",
       "                        [{\"customdata\": [[\"Arsenal\"], [\"Arsenal\"], [\"Arsenal\"], [\"Arsenal\"], [\"Arsenal\"], [\"Arsenal\"], [\"Arsenal\"], [\"Arsenal\"], [\"Arsenal\"], [\"Arsenal\"], [\"Arsenal\"], [\"Arsenal\"], [\"Arsenal\"], [\"Arsenal\"], [\"Arsenal\"], [\"Arsenal\"], [\"Arsenal\"], [\"Aston Villa\"], [\"Aston Villa\"], [\"Aston Villa\"], [\"Aston Villa\"], [\"Aston Villa\"], [\"Aston Villa\"], [\"Aston Villa\"], [\"Aston Villa\"], [\"Aston Villa\"], [\"Bournemouth\"], [\"Bournemouth\"], [\"Bournemouth\"], [\"Bournemouth\"], [\"Bournemouth\"], [\"Bournemouth\"], [\"Bournemouth\"], [\"Bournemouth\"], [\"Bournemouth\"], [\"Bournemouth\"], [\"Brighton\"], [\"Brighton\"], [\"Brighton\"], [\"Brighton\"], [\"Brighton\"], [\"Brighton\"], [\"Brighton\"], [\"Brighton\"], [\"Brighton\"], [\"Brighton\"], [\"Brighton\"], [\"Brighton\"], [\"Burnley\"], [\"Burnley\"], [\"Burnley\"], [\"Burnley\"], [\"Burnley\"], [\"Burnley\"], [\"Burnley\"], [\"Burnley\"], [\"Burnley\"], [\"Burnley\"], [\"Burnley\"], [\"Burnley\"], [\"Chelsea\"], [\"Chelsea\"], [\"Chelsea\"], [\"Chelsea\"], [\"Chelsea\"], [\"Chelsea\"], [\"Chelsea\"], [\"Chelsea\"], [\"Chelsea\"], [\"Chelsea\"], [\"Crystal Palace\"], [\"Crystal Palace\"], [\"Crystal Palace\"], [\"Crystal Palace\"], [\"Crystal Palace\"], [\"Crystal Palace\"], [\"Crystal Palace\"], [\"Crystal Palace\"], [\"Crystal Palace\"], [\"Crystal Palace\"], [\"Everton\"], [\"Everton\"], [\"Everton\"], [\"Everton\"], [\"Everton\"], [\"Everton\"], [\"Everton\"], [\"Everton\"], [\"Everton\"], [\"Everton\"], [\"Everton\"], [\"Leicester\"], [\"Leicester\"], [\"Leicester\"], [\"Leicester\"], [\"Leicester\"], [\"Leicester\"], [\"Leicester\"], [\"Leicester\"], [\"Leicester\"], [\"Liverpool\"], [\"Liverpool\"], [\"Liverpool\"], [\"Liverpool\"], [\"Liverpool\"], [\"Liverpool\"], [\"Liverpool\"], [\"Liverpool\"], [\"Liverpool\"], [\"Man City\"], [\"Man City\"], [\"Man City\"], [\"Man City\"], [\"Man City\"], [\"Man City\"], [\"Man City\"], [\"Man City\"], [\"Man City\"], [\"Man City\"], [\"Man City\"], [\"Man Utd\"], [\"Man Utd\"], [\"Man Utd\"], [\"Man Utd\"], [\"Man Utd\"], [\"Man Utd\"], [\"Man Utd\"], [\"Man Utd\"], [\"Man Utd\"], [\"Man Utd\"], [\"Man Utd\"], [\"Man Utd\"], [\"Man Utd\"], [\"Newcastle\"], [\"Newcastle\"], [\"Newcastle\"], [\"Newcastle\"], [\"Newcastle\"], [\"Newcastle\"], [\"Newcastle\"], [\"Newcastle\"], [\"Newcastle\"], [\"Newcastle\"], [\"Newcastle\"], [\"Newcastle\"], [\"Newcastle\"], [\"Newcastle\"], [\"Norwich\"], [\"Norwich\"], [\"Norwich\"], [\"Norwich\"], [\"Norwich\"], [\"Norwich\"], [\"Norwich\"], [\"Norwich\"], [\"Norwich\"], [\"Sheffield Utd\"], [\"Sheffield Utd\"], [\"Sheffield Utd\"], [\"Sheffield Utd\"], [\"Sheffield Utd\"], [\"Sheffield Utd\"], [\"Sheffield Utd\"], [\"Sheffield Utd\"], [\"Sheffield Utd\"], [\"Sheffield Utd\"], [\"Sheffield Utd\"], [\"Southampton\"], [\"Southampton\"], [\"Southampton\"], [\"Southampton\"], [\"Southampton\"], [\"Southampton\"], [\"Southampton\"], [\"Southampton\"], [\"Southampton\"], [\"Southampton\"], [\"Southampton\"], [\"Spurs\"], [\"Spurs\"], [\"Spurs\"], [\"Spurs\"], [\"Spurs\"], [\"Spurs\"], [\"Spurs\"], [\"Spurs\"], [\"Watford\"], [\"Watford\"], [\"Watford\"], [\"Watford\"], [\"Watford\"], [\"Watford\"], [\"Watford\"], [\"Watford\"], [\"Watford\"], [\"Watford\"], [\"Watford\"], [\"West Ham\"], [\"West Ham\"], [\"West Ham\"], [\"West Ham\"], [\"West Ham\"], [\"West Ham\"], [\"West Ham\"], [\"West Ham\"], [\"West Ham\"], [\"West Ham\"], [\"West Ham\"], [\"Wolves\"], [\"Wolves\"], [\"Wolves\"], [\"Wolves\"], [\"Wolves\"], [\"Wolves\"], [\"Wolves\"], [\"Wolves\"], [\"Wolves\"], [\"Wolves\"]], \"hoverlabel\": {\"namelength\": 0}, \"hovertemplate\": \"<b>%{hovertext}</b><br><br>Player Type=Defender<br>points_per_game=%{x}<br>now_cost=%{y}<br>size=%{marker.size}<br>team_name=%{customdata[0]}\", \"hovertext\": [\"Shkodran Mustafi\", \"H\\u00e9ctor Beller\\u00edn\", \"Sead Kolasinac\", \"Ainsley Maitland-Niles\", \"Sokratis Sokratis\", \"Nacho Monreal\", \"Laurent Koscielny\", \"Konstantinos Mavropanos\", \"Carl Jenkinson\", \"Rob Holding\", \"David David Luiz\", \"Calum Chambers\", \"C\\u00e9dric C\\u00e9dric\", \"Kieran Tierney\", \"Pablo Mar\\u00ed\", \"Zech Medley\", \"Matthew Smith\", \"Ahmed El Mohamady\", \"James Chester\", \"Neil Taylor\", \"Kortney Hause\", \"Matt Targett\", \"Tyrone Mings\", \"Ezri Konsa\", \"Bjorn Engels\", \"Fr\\u00e9d\\u00e9ric Guilbert\", \"Steve Steve Cook\", \"Nathan Ak\\u00e9\", \"Charlie Daniels\", \"Chris Mepham\", \"Simon Francis\", \"Adam Adam Smith\", \"Lloyd Kelly\", \"Diego Rico\", \"Jack Simpson\", \"Jack Stacey\", \"Shane Duffy\", \"Mart\\u00edn Montoya\", \"Bernardo Bernardo\", \"Leon Balogun\", \"Ga\\u00ebtan Bong\", \"Lewis Dunk\", \"Matthew Clarke\", \"Dan Burn\", \"Adam Webster\", \"Tudor Baluta\", \"Ezequiel Schelotto\", \"Tariq Lamptey\", \"Ben Mee\", \"James Tarkowski\", \"Matthew Lowton\", \"Phil Bardsley\", \"Charlie Taylor\", \"Kevin Long\", \"Ben Gibson\", \"Erik Pieters\", \"Anthony Driscoll-Glennon\", \"Abd-Al-Ali Morakinyo Olaposi Koiki\", \"Jimmy Dunne\", \"Bobby Thomas\", \"Marcos Alonso\", \"Antonio R\\u00fcdiger\", \"C\\u00e9sar Azpilicueta\", \"Emerson Emerson\", \"Andreas Christensen\", \"Davide Zappacosta\", \"Kurt Zouma\", \"Reece James\", \"Fikayo Tomori\", \"Addji Keaninkin Marc-Israel Guehi\", \"Patrick van Aanholt\", \"James Tomkins\", \"Mamadou Sakho\", \"Joel Ward\", \"Scott Dann\", \"Martin Kelly\", \"Gary Cahill\", \"Sam Woods\", \"Tyrick Mitchell\", \"Nikola Tavares\", \"Lucas Digne\", \"Yerry Mina\", \"Michael Keane\", \"Seamus Coleman\", \"Leighton Baines\", \"Fabian Delph\", \"Lewis Gibson\", \"Mason Holgate\", \"Djibril Sidib\\u00e9\", \"Rhu-endly Cuco Martina\", \"Jarrad Branthwaite\", \"Ricardo Domingos Pereira\", \"Benjamin Chilwell\", \"Jonny Evans\", \"Christian Fuchs\", \"\\u00c7aglar S\\u00f6y\\u00fcnc\\u00fc\", \"Wes Morgan\", \"Ryan Bennett\", \"James Justin\", \"Filip Benkovic\", \"Andrew Robertson\", \"Trent Alexander-Arnold\", \"Virgil van Dijk\", \"Joseph Gomez\", \"Joel Matip\", \"Dejan Lovren\", \"Neco Williams\", \"Nathaniel Phillips\", \"Ki-Jana Hoever\", \"Aymeric Laporte\", \"Kyle Walker\", \"Benjamin Mendy\", \"Oleksandr Zinchenko\", \"John Stones\", \"Nicol\\u00e1s Otamendi\", \"Danilo Luiz Danilo\", \"Jos\\u00e9 \\u00c1ngel Angeli\\u00f1o\", \"Jo\\u00e3o Pedro Cavaco Cancelo\", \"Eric Garcia\", \"Taylor Harwood-Bellis\", \"Aaron Wan-Bissaka\", \"Harry Maguire\", \"Chris Smalling\", \"Ashley Young\", \"Victor Lindel\\u00f6f\", \"Luke Shaw\", \"Marcos Rojo\", \"Eric Bailly\", \"Jos\\u00e9 Diogo Dalot\", \"Matteo Darmian\", \"Phil Jones\", \"Axel Tuanzebe\", \"Brandon Williams\", \"Matt Ritchie\", \"Fabian Sch\\u00e4r\", \"DeAndre Yedlin\", \"Federico Fern\\u00e1ndez\", \"Paul Dummett\", \"Javier Manquillo\", \"Florian Lejeune\", \"Jamaal Lascelles\", \"Ciaran Clark\", \"Danny Rose\", \"Jetro Willems\", \"Emil Krafth\", \"Kelland Watts\", \"Liam Gibson\", \"Timm Klose\", \"Ben Godfrey\", \"Maximillian Aarons\", \"Christoph Zimmermann\", \"Jamal Lewis\", \"Grant Hanley\", \"Sam Byram\", \"Philip Heise\", \"Akin Famewo\", \"Enda Stevens\", \"Kieron Freeman\", \"Jack O'Connell\", \"George Baldock\", \"John Egan\", \"Richard Stearman\", \"John Lundstram\", \"Chris Basham\", \"Phil Jagielka\", \"Jack Jack Robinson\", \"Panagiotis Retsos\", \"Jannik Vestergaard\", \"Ryan Bertrand\", \"Yan Valery\", \"Jan Bednarek\", \"Jack Stephens\", \"Maya Yoshida\", \"Kayne Ramsay\", \"Kyle Walker-Peters\", \"Wesley Hoedt\", \"Kevin Danso\", \"Jake Vokins\", \"Ben Davies\", \"Jan Vertonghen\", \"Toby Alderweireld\", \"Davinson S\\u00e1nchez\", \"Kieran Trippier\", \"Juan Foyth\", \"Serge Aurier\", \"Japhet Tanganga\", \"Jos\\u00e9 Holebas\", \"Christian Kabasele\", \"Adam Masina\", \"Adrian Mariappa\", \"Francisco Kiko Femen\\u00eda\", \"Craig Cathcart\", \"Daryl Janmaat\", \"Marc Navarro\", \"Sebastian Pr\\u00f6dl\", \"Craig Dawson\", \"Dimitri Foulquier\", \"Aaron Cresswell\", \"Angelo Ogbonna\", \"Arthur Masuaku\", \"Pablo Zabaleta\", \"Ryan Fredericks\", \"Issa Diop\", \"Fabi\\u00e1n Balbuena\", \"Winston Reid\", \"Ben Johnson\", \"Jeremy Ngakia\", \"Gon\\u00e7alo Bento Cardoso\", \"Matt Doherty\", \"Jonathan Jonny\", \"Conor Coady\", \"Willy Boly\", \"R\\u00faben Gon\\u00e7alo Vinagre\", \"Romain Sa\\u00efss\", \"Max Kilman\", \"Jes\\u00fas Vallejo\", \"Oskar Buur\", \"Ryan Giles\"], \"legendgroup\": \"Defender\", \"marker\": {\"color\": \"#636efa\", \"size\": [4.949999999999999, 5.550000000000001, 2.55, 2.55, 1.5, 1.5, 1.5, 1.5, 1.5, 6.0, 0.0, 1.5, 1.5, 6.449999999999999, 1.9500000000000002, 1.5, 1.5, 6.0, 1.5, 1.5, 8.55, 6.0, 6.449999999999999, 6.0, 1.5, 1.5, 2.25, 3.75, 1.5, 1.5, 1.5, 3.0, 2.25, 1.5, 1.5, 3.75, 5.25, 2.25, 1.5, 1.5, 1.5, 13.5, 1.5, 6.75, 3.75, 1.5, 3.0, 6.0, 7.5, 6.0, 6.75, 1.5, 6.0, 1.5, 1.5, 3.0, 1.5, 1.5, 1.5, 1.5, 3.75, 4.5, 11.25, 1.5, 4.5, 1.5, 1.5, 2.25, 1.5, 1.5, 10.5, 1.5, 1.5, 6.0, 6.0, 1.5, 6.75, 1.5, 1.5, 1.5, 13.5, 1.5, 16.5, 10.5, 2.25, 1.5, 1.5, 11.25, 1.5, 1.5, 1.5, 1.5, 15.75, 7.5, 1.5, 9.0, 1.5, 1.5, 6.75, 1.5, 8.25, 17.25, 12.75, 6.75, 6.0, 2.25, 2.25, 1.5, 1.5, 6.0, 4.949999999999999, 5.550000000000001, 4.949999999999999, 1.5, 4.949999999999999, 1.5, 1.5, 4.050000000000001, 4.5, 1.5, 11.25, 7.5, 1.5, 1.5, 7.5, 6.75, 1.5, 2.25, 1.5, 1.5, 1.5, 1.5, 1.5, 21.0, 2.25, 2.25, 6.75, 1.5, 7.5, 1.5, 6.0, 1.5, 7.5, 1.5, 1.5, 1.5, 1.5, 3.75, 3.75, 3.0, 1.5, 3.75, 1.5, 1.5, 1.5, 1.5, 5.550000000000001, 1.9500000000000002, 1.5, 5.550000000000001, 3.0, 1.5, 4.5, 5.550000000000001, 1.9500000000000002, 6.449999999999999, 1.5, 2.25, 6.75, 6.75, 6.75, 4.5, 1.5, 1.5, 3.0, 1.5, 1.5, 1.5, 8.25, 1.5, 1.5, 12.0, 1.5, 1.5, 9.75, 1.5, 2.25, 6.0, 9.0, 2.25, 7.5, 2.25, 1.5, 1.5, 1.5, 9.75, 1.5, 3.0, 1.5, 1.5, 1.5, 3.0, 3.0, 2.25, 1.5, 1.5, 3.0, 1.5, 15.0, 12.0, 10.5, 11.25, 2.25, 11.25, 1.5, 1.5, 1.5, 1.5], \"sizemode\": \"area\", \"sizeref\": 0.0525, \"symbol\": \"circle\"}, \"mode\": \"markers\", \"name\": \"Defender\", \"showlegend\": true, \"type\": \"scatter\", \"x\": [\"3.0\", \"3.0\", \"1.9\", \"2.4\", \"3.0\", \"3.3\", \"0.0\", \"0.0\", \"0.0\", \"2.8\", \"2.9\", \"3.0\", \"2.7\", \"1.9\", \"4.0\", \"0.0\", \"0.0\", \"2.1\", \"0.0\", \"1.7\", \"2.1\", \"3.0\", \"2.5\", \"2.2\", \"2.5\", \"2.1\", \"2.0\", \"2.8\", \"1.5\", \"2.4\", \"1.1\", \"2.0\", \"1.0\", \"2.9\", \"1.0\", \"2.4\", \"2.6\", \"2.5\", \"1.8\", \"0.0\", \"0.8\", \"3.7\", \"0.0\", \"2.4\", \"2.9\", \"0.0\", \"1.2\", \"3.5\", \"3.1\", \"3.5\", \"2.8\", \"3.4\", \"3.2\", \"1.0\", \"0.0\", \"2.6\", \"0.0\", \"0.0\", \"0.0\", \"0.0\", \"6.2\", \"3.1\", \"3.5\", \"1.3\", \"1.5\", \"0.0\", \"1.9\", \"2.6\", \"3.2\", \"0.0\", \"4.1\", \"2.7\", \"0.8\", \"3.1\", \"4.3\", \"3.4\", \"3.0\", \"0.0\", \"0.0\", \"0.0\", \"3.5\", \"2.9\", \"3.1\", \"2.3\", \"2.0\", \"1.5\", \"0.0\", \"2.8\", \"3.0\", \"0.0\", \"0.0\", \"4.4\", \"4.5\", \"3.7\", \"3.0\", \"3.8\", \"1.1\", \"1.9\", \"3.3\", \"0.0\", \"5.0\", \"6.0\", \"5.0\", \"4.0\", \"4.3\", \"1.8\", \"1.0\", \"0.0\", \"0.0\", \"3.1\", \"3.5\", \"3.6\", \"2.7\", \"2.0\", \"3.5\", \"0.0\", \"1.8\", \"2.5\", \"2.4\", \"0.0\", \"3.5\", \"3.1\", \"0.0\", \"2.0\", \"3.1\", \"2.6\", \"1.0\", \"2.7\", \"1.0\", \"0.0\", \"1.0\", \"1.4\", \"3.2\", \"4.7\", \"2.8\", \"1.8\", \"3.7\", \"2.8\", \"3.3\", \"4.0\", \"3.3\", \"3.5\", \"2.1\", \"3.4\", \"1.9\", \"0.0\", \"0.0\", \"1.5\", \"1.5\", \"2.1\", \"2.3\", \"2.1\", \"1.5\", \"1.9\", \"0.0\", \"0.0\", \"3.8\", \"1.0\", \"3.4\", \"4.0\", \"3.3\", \"0.0\", \"4.5\", \"3.2\", \"1.0\", \"3.3\", \"0.0\", \"2.7\", \"2.2\", \"1.6\", \"2.4\", \"3.0\", \"1.2\", \"0.0\", \"1.3\", \"0.0\", \"1.5\", \"0.0\", \"1.7\", \"2.7\", \"2.4\", \"2.2\", \"0.0\", \"0.8\", \"3.7\", \"2.8\", \"1.3\", \"3.1\", \"3.1\", \"1.6\", \"2.1\", \"2.8\", \"4.5\", \"0.0\", \"1.0\", \"2.2\", \"0.3\", \"2.6\", \"2.7\", \"1.7\", \"1.0\", \"2.7\", \"2.2\", \"2.6\", \"0.0\", \"0.0\", \"1.6\", \"0.0\", \"4.7\", \"3.1\", \"3.1\", \"4.9\", \"1.7\", \"3.2\", \"1.7\", \"0.5\", \"0.0\", \"0.0\"], \"xaxis\": \"x\", \"y\": [5.1, 5.4, 5.2, 4.5, 4.8, 5.0, 5.0, 4.3, 4.5, 4.4, 5.7, 4.3, 4.8, 5.3, 4.6, 4.0, 4.0, 4.1, 4.2, 4.2, 4.4, 4.4, 4.4, 4.3, 4.3, 4.4, 5.0, 4.8, 4.2, 4.3, 4.4, 4.3, 4.4, 4.2, 3.9, 4.3, 4.8, 4.3, 4.3, 4.3, 4.2, 4.7, 4.3, 4.5, 4.5, 4.0, 4.0, 4.0, 5.0, 5.2, 4.2, 4.3, 4.3, 4.3, 3.9, 4.2, 3.9, 4.0, 4.0, 4.0, 6.2, 6.0, 5.9, 5.4, 4.8, 4.2, 4.7, 5.0, 4.2, 3.9, 5.6, 5.0, 5.0, 4.3, 4.3, 4.1, 4.4, 3.9, 4.0, 4.0, 5.7, 5.3, 5.2, 5.3, 4.9, 5.3, 4.2, 4.3, 5.0, 4.0, 4.0, 6.3, 5.6, 5.3, 4.2, 4.9, 4.1, 4.8, 4.7, 3.9, 7.0, 7.8, 6.5, 5.3, 5.2, 5.3, 4.0, 3.9, 4.0, 6.3, 5.6, 5.5, 5.2, 5.3, 4.9, 5.0, 4.6, 5.1, 4.5, 4.0, 5.3, 5.3, 5.2, 5.4, 5.3, 5.4, 4.8, 4.9, 4.9, 4.9, 4.7, 4.4, 4.1, 5.3, 5.0, 4.4, 4.6, 4.3, 4.3, 4.4, 4.3, 4.3, 5.3, 4.3, 4.3, 3.9, 4.0, 4.3, 4.4, 4.3, 4.4, 4.4, 4.1, 4.3, 3.9, 3.9, 5.1, 4.2, 4.6, 5.1, 4.5, 3.9, 4.9, 4.6, 4.1, 4.0, 4.5, 4.5, 4.8, 4.6, 4.4, 4.4, 4.1, 3.9, 4.4, 4.2, 4.2, 4.0, 5.3, 5.2, 5.3, 5.3, 5.5, 4.8, 5.0, 4.0, 4.6, 4.3, 4.3, 4.2, 4.2, 4.3, 4.0, 3.9, 3.9, 4.8, 3.9, 4.5, 4.5, 4.1, 4.1, 4.4, 4.3, 4.3, 3.9, 4.0, 4.0, 4.0, 6.4, 5.4, 5.1, 4.8, 4.2, 4.6, 3.9, 4.6, 4.0, 3.9], \"yaxis\": \"y\"}, {\"customdata\": [[\"Arsenal\"], [\"Arsenal\"], [\"Arsenal\"], [\"Arsenal\"], [\"Arsenal\"], [\"Aston Villa\"], [\"Aston Villa\"], [\"Aston Villa\"], [\"Aston Villa\"], [\"Bournemouth\"], [\"Bournemouth\"], [\"Bournemouth\"], [\"Bournemouth\"], [\"Brighton\"], [\"Brighton\"], [\"Brighton\"], [\"Brighton\"], [\"Brighton\"], [\"Burnley\"], [\"Burnley\"], [\"Burnley\"], [\"Burnley\"], [\"Burnley\"], [\"Chelsea\"], [\"Chelsea\"], [\"Chelsea\"], [\"Chelsea\"], [\"Crystal Palace\"], [\"Crystal Palace\"], [\"Crystal Palace\"], [\"Crystal Palace\"], [\"Crystal Palace\"], [\"Everton\"], [\"Everton\"], [\"Everton\"], [\"Everton\"], [\"Leicester\"], [\"Leicester\"], [\"Liverpool\"], [\"Liverpool\"], [\"Liverpool\"], [\"Man City\"], [\"Man City\"], [\"Man Utd\"], [\"Man Utd\"], [\"Man Utd\"], [\"Man Utd\"], [\"Newcastle\"], [\"Newcastle\"], [\"Newcastle\"], [\"Newcastle\"], [\"Newcastle\"], [\"Norwich\"], [\"Norwich\"], [\"Norwich\"], [\"Norwich\"], [\"Sheffield Utd\"], [\"Sheffield Utd\"], [\"Sheffield Utd\"], [\"Sheffield Utd\"], [\"Sheffield Utd\"], [\"Sheffield Utd\"], [\"Southampton\"], [\"Southampton\"], [\"Southampton\"], [\"Southampton\"], [\"Southampton\"], [\"Southampton\"], [\"Southampton\"], [\"Spurs\"], [\"Spurs\"], [\"Spurs\"], [\"Watford\"], [\"Watford\"], [\"Watford\"], [\"Watford\"], [\"Watford\"], [\"Watford\"], [\"West Ham\"], [\"West Ham\"], [\"West Ham\"], [\"West Ham\"], [\"West Ham\"], [\"Wolves\"], [\"Wolves\"], [\"Wolves\"], [\"Wolves\"]], \"hoverlabel\": {\"namelength\": 0}, \"hovertemplate\": \"<b>%{hovertext}</b><br><br>Player Type=Forward<br>points_per_game=%{x}<br>now_cost=%{y}<br>size=%{marker.size}<br>team_name=%{customdata[0]}\", \"hovertext\": [\"Pierre-Emerick Aubameyang\", \"Alexandre Lacazette\", \"Edward Nketiah\", \"Gabriel Teodoro Martinelli\", \"Tyreece John-Jules\", \"Jonathan Kodjia\", \"Wesley Wesley\", \"Mbwana Samatta\", \"Borja Bast\\u00f3n\", \"Callum Callum Wilson\", \"Joshua King\", \"Dominic Solanke\", \"Sam Surridge\", \"Glenn Murray\", \"J\\u00fcrgen Locadia\", \"Florin Andone\", \"Neal Maupay\", \"Aaron Connolly\", \"Ashley Barnes\", \"Chris Wood\", \"Matej Vydra\", \"Jay Rodriguez\", \"Max Thompson\", \"Olivier Giroud\", \"Tammy Abraham\", \"Michy Batshuayi\", \"Armando Broja\", \"Christian Benteke\", \"Connor Wickham\", \"Cenk Tosun\", \"Jordan Ayew\", \"James Daly\", \"Dominic Calvert-Lewin\", \"Moise Kean\", \"Anthony Gordon\", \"Oumar Niasse\", \"Jamie Vardy\", \"Kelechi Iheanacho\", \"Roberto Firmino\", \"Divock Origi\", \"Rhian Brewster\", \"Sergio Ag\\u00fcero\", \"Gabriel Fernando Jesus\", \"Romelu Lukaku\", \"Marcus Rashford\", \"Mason Greenwood\", \"Odion Ighalo\", \"Yoshinori Muto\", \"Jose Luis Joselu\", \"Joelinton C\\u00e1ssio Joelinton\", \"Andy Carroll\", \"Dwight Gayle\", \"Teemu Pukki\", \"Dennis Srbeny\", \"Josip Drmic\", \"Adam Idah\", \"Lys Mousset\", \"Billy Sharp\", \"David McGoldrick\", \"Oliver McBurnie\", \"Leon Clarke\", \"Richairo Zivkovic\", \"Charlie Austin\", \"Danny Ings\", \"Michael Obafemi\", \"Shane Long\", \"Sam Gallagher\", \"Che Adams\", \"Daniel N'Lundulu\", \"Harry Kane\", \"Vincent Janssen\", \"Troy Parrott\", \"Troy Deeney\", \"Gerard Deulofeu\", \"Andre Gray\", \"Isaac Success\", \"Danny Welbeck\", \"Jo\\u00e3o Pedro Jo\\u00e3o Pedro\", \"Marko Arnautovic\", \"Javier Chicharito\", \"Alexandre Nascimento Xande Silva\", \"S\\u00e9bastien Haller\", \"Albian Ajeti\", \"Ra\\u00fal Jim\\u00e9nez\", \"Diogo Jota\", \"Patrick Cutrone\", \"Bernard Ashley-Seal\"], \"legendgroup\": \"Forward\", \"marker\": {\"color\": \"#EF553B\", \"size\": [4.5, 4.5, 6.0, 1.5, 1.5, 1.5, 1.5, 3.4499999999999997, 1.5, 3.75, 2.25, 3.0, 1.5, 2.25, 1.5, 1.5, 7.5, 6.0, 1.5, 1.5, 4.5, 6.75, 2.25, 9.0, 5.25, 1.5, 1.5, 3.0, 1.5, 1.5, 6.75, 1.5, 4.5, 2.25, 3.0, 1.5, 4.5, 3.75, 4.5, 1.5, 1.5, 5.550000000000001, 4.949999999999999, 1.5, 9.75, 3.75, 3.0, 1.5, 1.5, 6.75, 5.25, 7.5, 3.75, 1.5, 4.5, 3.0, 2.55, 3.4499999999999997, 3.0, 4.050000000000001, 1.5, 2.55, 1.5, 11.25, 6.0, 2.25, 1.5, 2.25, 1.5, 6.75, 1.5, 1.5, 4.5, 1.5, 2.25, 1.5, 3.75, 1.5, 1.5, 1.5, 1.5, 1.5, 1.5, 14.25, 4.5, 1.5, 1.5], \"sizemode\": \"area\", \"sizeref\": 0.0525, \"symbol\": \"circle\"}, \"mode\": \"markers\", \"name\": \"Forward\", \"showlegend\": true, \"type\": \"scatter\", \"x\": [\"5.4\", \"3.7\", \"2.6\", \"2.8\", \"0.0\", \"0.8\", \"3.2\", \"2.6\", \"1.0\", \"3.3\", \"3.5\", \"1.7\", \"1.0\", \"1.5\", \"1.5\", \"1.7\", \"3.6\", \"2.5\", \"3.2\", \"4.2\", \"2.5\", \"2.4\", \"1.0\", \"3.5\", \"5.0\", \"1.8\", \"1.0\", \"1.7\", \"2.5\", \"2.4\", \"3.8\", \"0.0\", \"4.0\", \"1.7\", \"1.0\", \"1.0\", \"6.1\", \"3.4\", \"4.3\", \"2.3\", \"0.0\", \"5.5\", \"3.9\", \"0.0\", \"6.0\", \"2.3\", \"1.0\", \"1.1\", \"0.0\", \"2.2\", \"2.0\", \"1.8\", \"4.3\", \"1.6\", \"1.4\", \"1.2\", \"2.9\", \"2.2\", \"2.0\", \"2.2\", \"1.0\", \"1.0\", \"0.0\", \"4.9\", \"2.0\", \"2.7\", \"0.0\", \"1.7\", \"0.0\", \"5.0\", \"0.0\", \"1.0\", \"3.7\", \"3.1\", \"1.8\", \"0.8\", \"1.3\", \"0.0\", \"0.0\", \"4.5\", \"0.0\", \"3.6\", \"1.0\", \"5.3\", \"3.4\", \"1.9\", \"0.0\"], \"xaxis\": \"x\", \"y\": [11.0, 9.3, 4.4, 4.4, 4.4, 5.4, 5.4, 5.6, 5.3, 7.4, 6.1, 5.1, 4.3, 5.4, 5.2, 4.7, 5.7, 4.2, 6.1, 6.1, 5.3, 5.7, 4.5, 6.6, 7.5, 6.6, 4.5, 5.7, 4.3, 5.7, 5.2, 4.5, 6.5, 6.3, 4.5, 4.5, 9.8, 5.7, 9.5, 5.1, 4.2, 11.7, 9.6, 8.5, 9.0, 4.3, 6.3, 5.1, 5.0, 5.5, 5.4, 5.0, 6.5, 5.2, 5.3, 4.4, 4.5, 5.5, 5.4, 5.6, 4.4, 4.7, 6.0, 7.2, 4.9, 4.7, 4.5, 5.3, 4.4, 10.9, 4.5, 4.3, 6.2, 6.1, 5.5, 4.7, 5.8, 4.9, 7.0, 6.0, 4.3, 6.8, 5.6, 8.3, 6.3, 5.4, 4.5], \"yaxis\": \"y\"}, {\"customdata\": [[\"Arsenal\"], [\"Arsenal\"], [\"Arsenal\"], [\"Aston Villa\"], [\"Aston Villa\"], [\"Aston Villa\"], [\"Aston Villa\"], [\"Aston Villa\"], [\"Bournemouth\"], [\"Bournemouth\"], [\"Bournemouth\"], [\"Bournemouth\"], [\"Brighton\"], [\"Brighton\"], [\"Burnley\"], [\"Burnley\"], [\"Burnley\"], [\"Burnley\"], [\"Chelsea\"], [\"Chelsea\"], [\"Crystal Palace\"], [\"Crystal Palace\"], [\"Crystal Palace\"], [\"Everton\"], [\"Everton\"], [\"Everton\"], [\"Everton\"], [\"Leicester\"], [\"Leicester\"], [\"Leicester\"], [\"Liverpool\"], [\"Liverpool\"], [\"Liverpool\"], [\"Liverpool\"], [\"Liverpool\"], [\"Man City\"], [\"Man City\"], [\"Man City\"], [\"Man Utd\"], [\"Man Utd\"], [\"Man Utd\"], [\"Newcastle\"], [\"Newcastle\"], [\"Newcastle\"], [\"Newcastle\"], [\"Norwich\"], [\"Norwich\"], [\"Norwich\"], [\"Norwich\"], [\"Sheffield Utd\"], [\"Sheffield Utd\"], [\"Sheffield Utd\"], [\"Sheffield Utd\"], [\"Southampton\"], [\"Southampton\"], [\"Southampton\"], [\"Southampton\"], [\"Spurs\"], [\"Spurs\"], [\"Spurs\"], [\"Spurs\"], [\"Spurs\"], [\"Watford\"], [\"Watford\"], [\"Watford\"], [\"West Ham\"], [\"West Ham\"], [\"West Ham\"], [\"West Ham\"], [\"West Ham\"], [\"Wolves\"], [\"Wolves\"], [\"Wolves\"]], \"hoverlabel\": {\"namelength\": 0}, \"hovertemplate\": \"<b>%{hovertext}</b><br><br>Player Type=Goalkeeper<br>points_per_game=%{x}<br>now_cost=%{y}<br>size=%{marker.size}<br>team_name=%{customdata[0]}\", \"hovertext\": [\"Bernd Leno\", \"Emiliano Mart\\u00ednez\", \"Matt Macey\", \"\\u00d8rjan Nyland\", \"Tom Heaton\", \"Jed Steer\", \"Lovre Kalinic\", \"Jos\\u00e9 Reina\", \"Asmir Begovic\", \"Artur Boruc\", \"Mark Travers\", \"Aaron Ramsdale\", \"Mathew Ryan\", \"David Button\", \"Nick Pope\", \"Joe Hart\", \"Bailey Peacock-Farrell\", \"Lukas Jensen\", \"Kepa Kepa\", \"Willy Caballero\", \"Vicente Guaita\", \"Wayne Hennessey\", \"Stephen Henderson\", \"Jordan Pickford\", \"Maarten Stekelenburg\", \"Jonas L\\u00f6ssl\", \"Jo\\u00e3o Manuel Virg\\u00ednia\", \"Kasper Schmeichel\", \"Eldin Jakupovic\", \"Danny Ward\", \"Alisson Alisson\", \"Simon Mignolet\", \"Adri\\u00e1n Adri\\u00e1n\", \"Andy Lonergan\", \"Caoimhin Kelleher\", \"Ederson Ederson\", \"Claudio Bravo\", \"Scott Carson\", \"David de Gea\", \"Sergio Romero\", \"Lee Grant\", \"Martin Dubravka\", \"Karl Darlow\", \"Frederick Woodman\", \"Robert Elliot\", \"Tim Krul\", \"Michael McGovern\", \"Ralf Fahrmann\", \"Archie Mair\", \"Jake Eastwood\", \"Simon Moore\", \"Dean Henderson\", \"Michael Verrips\", \"Fraser Forster\", \"Alex McCarthy\", \"Angus Gunn\", \"Harry Lewis\", \"Hugo Lloris\", \"Paulo Gazzaniga\", \"Alfie Whiteman\", \"Michel Vorm\", \"Brandon Austin\", \"Ben Foster\", \"Pontus Dahlberg\", \"Heurelho da Silva Gomes\", \"Lukasz Fabianski\", \"Roberto Roberto\", \"David Martin\", \"Joseph Anang\", \"Darren Randolph\", \"Rui Pedro Patr\\u00edcio\", \"John Ruddy\", \"Will Norris\"], \"legendgroup\": \"Goalkeeper\", \"marker\": {\"color\": \"#00cc96\", \"size\": [4.5, 6.0, 1.5, 6.449999999999999, 1.5, 1.5, 1.5, 1.5, 1.5, 1.5, 1.5, 3.75, 8.25, 1.5, 9.0, 1.5, 1.5, 1.5, 5.25, 1.5, 6.0, 2.25, 1.5, 12.75, 1.5, 1.5, 1.5, 14.25, 1.5, 1.5, 13.5, 1.5, 1.5, 1.5, 1.5, 8.55, 1.5, 1.5, 7.5, 1.5, 1.5, 7.5, 1.5, 1.5, 1.5, 6.0, 1.5, 1.5, 1.5, 1.5, 2.55, 7.949999999999999, 1.5, 1.5, 7.5, 1.5, 1.5, 10.5, 1.5, 1.5, 1.5, 1.5, 5.25, 1.5, 1.5, 4.5, 1.5, 1.5, 1.5, 1.5, 10.5, 1.5, 1.5], \"sizemode\": \"area\", \"sizeref\": 0.0525, \"symbol\": \"circle\"}, \"mode\": \"markers\", \"name\": \"Goalkeeper\", \"showlegend\": true, \"type\": \"scatter\", \"x\": [\"3.8\", \"4.5\", \"0.0\", \"2.2\", \"3.0\", \"1.0\", \"0.0\", \"3.2\", \"0.0\", \"0.0\", \"1.0\", \"3.3\", \"3.6\", \"0.0\", \"4.5\", \"0.0\", \"0.0\", \"0.0\", \"2.7\", \"1.8\", \"4.4\", \"2.3\", \"0.0\", \"3.2\", \"0.0\", \"0.0\", \"0.0\", \"4.4\", \"0.0\", \"0.0\", \"4.8\", \"0.0\", \"2.5\", \"0.0\", \"0.0\", \"3.4\", \"2.8\", \"0.0\", \"3.6\", \"0.0\", \"0.0\", \"4.1\", \"0.0\", \"0.0\", \"0.0\", \"3.3\", \"5.5\", \"1.0\", \"0.0\", \"0.0\", \"1.5\", \"4.7\", \"0.0\", \"0.0\", \"3.6\", \"2.9\", \"0.0\", \"4.5\", \"3.2\", \"0.0\", \"0.0\", \"0.0\", \"3.7\", \"0.0\", \"0.0\", \"3.5\", \"2.2\", \"4.0\", \"0.0\", \"1.5\", \"4.1\", \"0.0\", \"0.0\"], \"xaxis\": \"x\", \"y\": [4.9, 4.2, 4.0, 4.3, 4.3, 4.3, 4.2, 4.3, 4.2, 4.2, 4.2, 4.5, 4.7, 3.9, 5.0, 4.2, 4.3, 4.0, 5.4, 4.8, 5.0, 4.2, 4.0, 5.2, 3.9, 4.2, 4.0, 5.4, 4.2, 4.2, 6.2, 4.5, 4.0, 4.2, 4.4, 6.0, 4.7, 4.0, 5.3, 4.6, 4.7, 5.1, 4.3, 3.9, 4.0, 4.6, 4.1, 4.4, 4.0, 4.3, 4.3, 5.2, 4.4, 4.2, 4.5, 4.2, 4.0, 5.3, 4.2, 4.0, 4.2, 4.0, 4.9, 4.2, 4.3, 4.9, 4.4, 3.9, 4.0, 4.0, 5.3, 4.2, 3.9], \"yaxis\": \"y\"}, {\"customdata\": [[\"Arsenal\"], [\"Arsenal\"], [\"Arsenal\"], [\"Arsenal\"], [\"Arsenal\"], [\"Arsenal\"], [\"Arsenal\"], [\"Arsenal\"], [\"Arsenal\"], [\"Arsenal\"], [\"Arsenal\"], [\"Arsenal\"], [\"Aston Villa\"], [\"Aston Villa\"], [\"Aston Villa\"], [\"Aston Villa\"], [\"Aston Villa\"], [\"Aston Villa\"], [\"Aston Villa\"], [\"Aston Villa\"], [\"Aston Villa\"], [\"Aston Villa\"], [\"Aston Villa\"], [\"Aston Villa\"], [\"Aston Villa\"], [\"Aston Villa\"], [\"Bournemouth\"], [\"Bournemouth\"], [\"Bournemouth\"], [\"Bournemouth\"], [\"Bournemouth\"], [\"Bournemouth\"], [\"Bournemouth\"], [\"Bournemouth\"], [\"Bournemouth\"], [\"Bournemouth\"], [\"Bournemouth\"], [\"Bournemouth\"], [\"Bournemouth\"], [\"Bournemouth\"], [\"Brighton\"], [\"Brighton\"], [\"Brighton\"], [\"Brighton\"], [\"Brighton\"], [\"Brighton\"], [\"Brighton\"], [\"Brighton\"], [\"Brighton\"], [\"Brighton\"], [\"Brighton\"], [\"Brighton\"], [\"Brighton\"], [\"Burnley\"], [\"Burnley\"], [\"Burnley\"], [\"Burnley\"], [\"Burnley\"], [\"Burnley\"], [\"Burnley\"], [\"Burnley\"], [\"Burnley\"], [\"Burnley\"], [\"Chelsea\"], [\"Chelsea\"], [\"Chelsea\"], [\"Chelsea\"], [\"Chelsea\"], [\"Chelsea\"], [\"Chelsea\"], [\"Chelsea\"], [\"Chelsea\"], [\"Chelsea\"], [\"Chelsea\"], [\"Chelsea\"], [\"Chelsea\"], [\"Chelsea\"], [\"Crystal Palace\"], [\"Crystal Palace\"], [\"Crystal Palace\"], [\"Crystal Palace\"], [\"Crystal Palace\"], [\"Crystal Palace\"], [\"Crystal Palace\"], [\"Crystal Palace\"], [\"Crystal Palace\"], [\"Crystal Palace\"], [\"Crystal Palace\"], [\"Crystal Palace\"], [\"Crystal Palace\"], [\"Crystal Palace\"], [\"Everton\"], [\"Everton\"], [\"Everton\"], [\"Everton\"], [\"Everton\"], [\"Everton\"], [\"Everton\"], [\"Everton\"], [\"Everton\"], [\"Everton\"], [\"Everton\"], [\"Everton\"], [\"Leicester\"], [\"Leicester\"], [\"Leicester\"], [\"Leicester\"], [\"Leicester\"], [\"Leicester\"], [\"Leicester\"], [\"Leicester\"], [\"Leicester\"], [\"Leicester\"], [\"Leicester\"], [\"Leicester\"], [\"Leicester\"], [\"Leicester\"], [\"Liverpool\"], [\"Liverpool\"], [\"Liverpool\"], [\"Liverpool\"], [\"Liverpool\"], [\"Liverpool\"], [\"Liverpool\"], [\"Liverpool\"], [\"Liverpool\"], [\"Liverpool\"], [\"Liverpool\"], [\"Liverpool\"], [\"Liverpool\"], [\"Liverpool\"], [\"Man City\"], [\"Man City\"], [\"Man City\"], [\"Man City\"], [\"Man City\"], [\"Man City\"], [\"Man City\"], [\"Man City\"], [\"Man City\"], [\"Man City\"], [\"Man City\"], [\"Man City\"], [\"Man Utd\"], [\"Man Utd\"], [\"Man Utd\"], [\"Man Utd\"], [\"Man Utd\"], [\"Man Utd\"], [\"Man Utd\"], [\"Man Utd\"], [\"Man Utd\"], [\"Man Utd\"], [\"Man Utd\"], [\"Man Utd\"], [\"Man Utd\"], [\"Man Utd\"], [\"Newcastle\"], [\"Newcastle\"], [\"Newcastle\"], [\"Newcastle\"], [\"Newcastle\"], [\"Newcastle\"], [\"Newcastle\"], [\"Newcastle\"], [\"Newcastle\"], [\"Newcastle\"], [\"Newcastle\"], [\"Newcastle\"], [\"Newcastle\"], [\"Newcastle\"], [\"Norwich\"], [\"Norwich\"], [\"Norwich\"], [\"Norwich\"], [\"Norwich\"], [\"Norwich\"], [\"Norwich\"], [\"Norwich\"], [\"Norwich\"], [\"Norwich\"], [\"Norwich\"], [\"Norwich\"], [\"Norwich\"], [\"Norwich\"], [\"Sheffield Utd\"], [\"Sheffield Utd\"], [\"Sheffield Utd\"], [\"Sheffield Utd\"], [\"Sheffield Utd\"], [\"Sheffield Utd\"], [\"Sheffield Utd\"], [\"Sheffield Utd\"], [\"Sheffield Utd\"], [\"Sheffield Utd\"], [\"Southampton\"], [\"Southampton\"], [\"Southampton\"], [\"Southampton\"], [\"Southampton\"], [\"Southampton\"], [\"Southampton\"], [\"Southampton\"], [\"Southampton\"], [\"Southampton\"], [\"Southampton\"], [\"Southampton\"], [\"Southampton\"], [\"Spurs\"], [\"Spurs\"], [\"Spurs\"], [\"Spurs\"], [\"Spurs\"], [\"Spurs\"], [\"Spurs\"], [\"Spurs\"], [\"Spurs\"], [\"Spurs\"], [\"Spurs\"], [\"Spurs\"], [\"Spurs\"], [\"Spurs\"], [\"Spurs\"], [\"Spurs\"], [\"Spurs\"], [\"Spurs\"], [\"Watford\"], [\"Watford\"], [\"Watford\"], [\"Watford\"], [\"Watford\"], [\"Watford\"], [\"Watford\"], [\"Watford\"], [\"Watford\"], [\"Watford\"], [\"Watford\"], [\"West Ham\"], [\"West Ham\"], [\"West Ham\"], [\"West Ham\"], [\"West Ham\"], [\"West Ham\"], [\"West Ham\"], [\"West Ham\"], [\"West Ham\"], [\"West Ham\"], [\"West Ham\"], [\"West Ham\"], [\"West Ham\"], [\"West Ham\"], [\"West Ham\"], [\"West Ham\"], [\"Wolves\"], [\"Wolves\"], [\"Wolves\"], [\"Wolves\"], [\"Wolves\"], [\"Wolves\"], [\"Wolves\"], [\"Wolves\"], [\"Wolves\"], [\"Wolves\"], [\"Wolves\"], [\"Wolves\"], [\"Wolves\"]], \"hoverlabel\": {\"namelength\": 0}, \"hovertemplate\": \"<b>%{hovertext}</b><br><br>Player Type=Midfielder<br>points_per_game=%{x}<br>now_cost=%{y}<br>size=%{marker.size}<br>team_name=%{customdata[0]}\", \"hovertext\": [\"Mesut \\u00d6zil\", \"Henrikh Mkhitaryan\", \"Granit Xhaka\", \"Lucas Torreira\", \"Mohamed Elneny\", \"Matteo Guendouzi\", \"Daniel Ceballos\", \"Nicolas P\\u00e9p\\u00e9\", \"Reiss Nelson\", \"Joseph Willock\", \"Bukayo Saka\", \"Emile Smith Rowe\", \"Conor Hourihane\", \"Jack Grealish\", \"Anwar El Ghazi\", \"John McGinn\", \"Andre Green\", \"Birkir Bjarnason\", \"Keinan Davis\", \"Henri Lansbury\", \"Jos\\u00e9 Ignacio Jota\", \"Daniel Drinkwater\", \"Mahmoud Ahmed Tr\\u00e9z\\u00e9guet\", \"Douglas Luiz Douglas Luiz\", \"Marvelous Nakamba\", \"Indiana Vassilev\", \"Ryan Fraser\", \"David Brooks\", \"Junior Stanislas\", \"Jordon Ibe\", \"Lewis Lewis Cook\", \"Andrew Surman\", \"Dan Gosling\", \"Jefferson Lerma\", \"Philip Billing\", \"Arnaut Danjuma\", \"Harry Harry Wilson\", \"Christian Saydee\", \"Gavin Kilkenny\", \"Mihai-Alexandru Dobre\", \"Pascal Gro\\u00df\", \"Alireza Jahanbakhsh\", \"Jos\\u00e9 Heriberto Izquierdo\", \"Anthony Knockaert\", \"Yves Bissouma\", \"Davy Pr\\u00f6pper\", \"Solomon March\", \"Beram Kayal\", \"Dale Stephens\", \"Leandro Trossard\", \"Aaron Mooy\", \"Steven Alzate\", \"Alexis Mac Allister\", \"Johann Berg Gudmundsson\", \"Dwight McNeil\", \"Robbie Brady\", \"Steven Defour\", \"Jeff Hendrick\", \"Ashley Westwood\", \"Jack Cork\", \"Aaron Lennon\", \"Mace Goodridge\", \"Josh Brownhill\", \"Willian Willian\", \"Pedro Pedro\", \"Ruben Loftus-Cheek\", \"Callum Hudson-Odoi\", \"Ross Barkley\", \"Jorge Luiz Jorginho\", \"N'Golo Kant\\u00e9\", \"Ethan Ampadu\", \"Christian Pulisic\", \"Mateo Kovacic\", \"Robert Kenedy Kenedy\", \"Mason Mount\", \"Billy Gilmour\", \"Faustino Anjorin\", \"Wilfried Zaha\", \"Luka Milivojevic\", \"Andros Townsend\", \"Max Meyer\", \"Jeffrey Schlupp\", \"James McArthur\", \"Cheikhou Kouyat\\u00e9\", \"Luke Dreher\", \"James McCarthy\", \"V\\u00edctor Camarasa\", \"Jairo Riedewald\", \"Brandon Pierrick\", \"Nya Kirby\", \"Giovanni McGregor\", \"Alex Iwobi\", \"Richarlison Richarlison\", \"Gylfi Sigurdsson\", \"Bernard Bernard\", \"Theo Walcott\", \"Tom Davies\", \"Ademola Lookman\", \"Idrissa Gueye\", \"Morgan Schneiderlin\", \"Andr\\u00e9 Filipe Andr\\u00e9 Gomes\", \"Jean-Philippe Gbamin\", \"Beni Baningime\", \"James Maddison\", \"Harvey Barnes\", \"Rachid Ghezzal\", \"Marc Albrighton\", \"Demarai Gray\", \"Wilfred Ndidi\", \"Matty James\", \"Daniel Amartey\", \"Nampalys Mendy\", \"Hamza Choudhury\", \"Ayoze P\\u00e9rez\", \"Youri Tielemans\", \"Andy King\", \"Dennis Praet\", \"Mohamed Salah\", \"Sadio Man\\u00e9\", \"Alex Chamberlain\", \"Xherdan Shaqiri\", \"Adam Lallana\", \"Naby Keita\", \"Fabio Henrique Fabinho\", \"Jordan Henderson\", \"Georginio Wijnaldum\", \"James Milner\", \"Rafael Camacho\", \"Harvey Elliott\", \"Curtis Jones\", \"Takumi Minamino\", \"Raheem Sterling\", \"Kevin De Bruyne\", \"Leroy San\\u00e9\", \"Riyad Mahrez\", \"Bernardo Mota Bernardo Silva\", \"David David Silva\", \"Phil Foden\", \"Fernando Fernandinho\", \"Ilkay G\\u00fcndogan\", \"Rodrigo Rodrigo\", \"Cole Palmer\", \"Tommy Doyle\", \"Paul Pogba\", \"Anthony Martial\", \"Alexis S\\u00e1nchez\", \"Jesse Lingard\", \"Juan Mata\", \"Daniel James\", \"Frederico Fred\", \"Angel Gomes\", \"Andreas Pereira\", \"Nemanja Matic\", \"Scott McTominay\", \"Tahith Chong\", \"James Garner\", \"Bruno Miguel Fernandes\", \"Miguel Almir\\u00f3n\", \"Christian Atsu\", \"Sung-yueng Ki Sung-yueng\", \"Jonjo Shelvey\", \"Sean Longstaff\", \"Isaac Hayden\", \"Jack Colback\", \"Jacob Murphy\", \"Rolando Aarons\", \"Allan Saint-Maximin\", \"Matthew Matthew Longstaff\", \"Thomas Allan\", \"Nabil Bentaleb\", \"Valentino Lazaro\", \"Mario Vrancic\", \"Emiliano Buend\\u00eda\", \"Onel Hern\\u00e1ndez\", \"Marco Stiepermann\", \"Kenny McLean\", \"Todd Cantwell\", \"Moritz Leitner\", \"Alexander Tettey\", \"Tom Trybull\", \"Patrick Roberts\", \"Ibrahim Amadou\", \"Ondrej Duda\", \"Lukas Rupp\", \"Josh Martin\", \"Mark Duffy\", \"John Fleck\", \"Oliver Norwood\", \"Luke Freeman\", \"Callum Callum Robinson\", \"Ravel Morrison\", \"Ben Osborn\", \"Muhamed Be\\u0161i\\u0107\", \"Jack Rodwell\", \"Sander Berge\", \"Nathan Redmond\", \"James Ward-Prowse\", \"Mohamed Elyounoussi\", \"Stuart Armstrong\", \"Mario Lemina\", \"Pierre-Emile H\\u00f8jbjerg\", \"Tyreke Johnson\", \"Callum Slattery\", \"Oriol Oriol Romeu\", \"Moussa Djenepo\", \"Sofiane Boufal\", \"William Smallbone\", \"Nathan Tella\", \"Heung-Min Son\", \"Christian Eriksen\", \"Bamidele Alli\", \"Lucas Lucas Moura\", \"Erik Lamela\", \"Harry Winks\", \"Victor Wanyama\", \"Moussa Sissoko\", \"Eric Dier\", \"Luke Amos\", \"Oliver Skipp\", \"Tanguy Ndombele\", \"Giovani Lo Celso\", \"Ryan Sessegnon\", \"Georges-K\\u00e9vin Nkoudou\", \"Gedson Fernandes\", \"Steven Bergwijn\", \"Harvey White\", \"Abdoulaye Doucour\\u00e9\", \"Roberto Pereyra\", \"Will Hughes\", \"Tom Cleverley\", \"Ken Sema\", \"Etienne Capoue\", \"Nathaniel Chalobah\", \"Domingos Quina\", \"Isma\\u00efla Sarr\", \"Ayotomiwa Dele-Bashiru\", \"Ignacio Pussetto\", \"Michail Antonio\", \"Felipe Anderson Felipe Anderson\", \"Manuel Lanzini\", \"Andriy Yarmolenko\", \"Robert Snodgrass\", \"Jack Wilshere\", \"Declan Rice\", \"Mark Noble\", \"Carlos Carlos S\\u00e1nchez\", \"Grady Diangana\", \"Pablo Fornals\", \"Pedro Obiang\", \"Nathan Holland\", \"Bernardo Rosa\", \"Tomas Soucek\", \"Jarrod Bowen\", \"R\\u00faben Diogo Neves\", \"Jo\\u00e3o Filipe Iria Moutinho\", \"Morgan Gibbs-White\", \"Adama Traor\\u00e9\", \"H\\u00e9lder Costa\", \"Ivan Cavaleiro\", \"Leander Dendoncker\", \"Pedro Neto\", \"Taylor Perry\", \"Owen Otasowie\", \"Luke Cundle\", \"Bruno Andr\\u00e9 Jordao\", \"Daniel Podence\"], \"legendgroup\": \"Midfielder\", \"marker\": {\"color\": \"#ab63fa\", \"size\": [1.5, 1.5, 3.4499999999999997, 1.5, 1.5, 3.4499999999999997, 4.949999999999999, 7.050000000000001, 2.55, 6.0, 6.0, 1.5, 6.449999999999999, 4.5, 4.949999999999999, 4.949999999999999, 1.5, 1.5, 4.050000000000001, 1.5, 1.9500000000000002, 1.5, 3.4499999999999997, 4.050000000000001, 3.0, 1.5, 1.5, 3.75, 3.75, 1.5, 3.75, 1.5, 2.25, 4.5, 2.25, 3.0, 3.0, 1.5, 1.5, 1.5, 3.0, 1.5, 1.5, 1.5, 3.75, 3.75, 3.0, 1.5, 3.75, 3.75, 3.75, 1.5, 3.0, 1.5, 6.75, 1.5, 1.5, 1.5, 5.25, 5.25, 1.5, 1.5, 4.5, 10.5, 2.25, 2.25, 1.5, 3.75, 1.5, 3.75, 1.5, 12.0, 3.0, 1.5, 4.5, 2.25, 1.5, 6.75, 9.75, 3.75, 3.0, 1.5, 5.25, 5.25, 1.5, 3.75, 1.5, 3.0, 2.25, 1.5, 1.5, 6.0, 6.0, 3.0, 4.5, 1.5, 4.5, 1.5, 1.5, 1.5, 6.0, 1.5, 1.5, 5.25, 4.5, 1.5, 3.75, 6.75, 4.5, 1.5, 1.5, 3.75, 2.25, 2.25, 3.75, 1.5, 1.5, 9.75, 10.5, 3.0, 1.5, 1.5, 4.5, 14.25, 6.0, 4.5, 1.5, 1.5, 2.25, 1.5, 3.0, 7.5, 13.049999999999999, 1.9500000000000002, 15.0, 7.5, 7.949999999999999, 12.450000000000001, 4.5, 4.050000000000001, 3.4499999999999997, 1.5, 1.5, 6.75, 18.75, 1.5, 1.5, 2.25, 3.0, 3.0, 1.5, 2.25, 4.5, 3.75, 1.5, 1.5, 10.5, 7.5, 1.5, 1.5, 6.0, 1.5, 8.25, 1.5, 1.5, 1.5, 10.5, 1.5, 1.5, 3.0, 3.0, 3.0, 3.75, 3.75, 1.5, 4.5, 3.75, 1.5, 3.0, 3.0, 1.5, 1.5, 3.75, 3.0, 2.25, 1.5, 3.4499999999999997, 4.5, 2.55, 1.5, 1.5, 1.5, 1.5, 1.5, 4.5, 9.75, 5.25, 1.5, 12.75, 1.5, 5.25, 1.5, 1.5, 2.25, 1.5, 2.25, 2.25, 2.25, 7.5, 1.5, 2.25, 3.75, 4.5, 3.75, 1.5, 5.25, 5.25, 1.5, 1.5, 1.5, 4.5, 1.5, 1.5, 2.25, 10.5, 1.5, 4.5, 3.75, 4.5, 3.0, 1.5, 5.25, 3.0, 1.5, 4.5, 1.5, 1.5, 3.75, 4.5, 3.0, 2.25, 1.5, 1.5, 5.25, 3.75, 1.5, 1.5, 3.75, 1.5, 1.5, 1.5, 3.0, 4.5, 5.25, 4.5, 3.0, 9.0, 1.5, 1.5, 4.5, 6.75, 1.5, 1.5, 1.5, 1.5, 2.25], \"sizemode\": \"area\", \"sizeref\": 0.0525, \"symbol\": \"circle\"}, \"mode\": \"markers\", \"name\": \"Midfielder\", \"showlegend\": true, \"type\": \"scatter\", \"x\": [\"2.9\", \"1.3\", \"2.1\", \"1.8\", \"0.0\", \"2.0\", \"2.5\", \"3.8\", \"1.6\", \"1.5\", \"2.5\", \"2.0\", \"3.0\", \"4.3\", \"3.1\", \"3.2\", \"0.0\", \"0.0\", \"1.5\", \"1.2\", \"1.8\", \"1.2\", \"2.3\", \"2.6\", \"1.6\", \"1.0\", \"2.6\", \"1.5\", \"1.4\", \"1.0\", \"1.6\", \"1.2\", \"2.4\", \"2.0\", \"2.2\", \"1.8\", \"3.4\", \"0.0\", \"0.0\", \"0.0\", \"3.0\", \"3.2\", \"0.0\", \"0.0\", \"1.5\", \"2.4\", \"2.1\", \"0.0\", \"2.0\", \"3.1\", \"2.8\", \"1.7\", \"1.0\", \"2.9\", \"3.4\", \"2.1\", \"0.0\", \"2.8\", \"3.4\", \"2.3\", \"0.9\", \"0.0\", \"1.7\", \"4.2\", \"3.1\", \"1.0\", \"2.6\", \"2.7\", \"3.1\", \"2.6\", \"0.0\", \"4.7\", \"2.2\", \"0.0\", \"3.7\", \"1.5\", \"1.0\", \"3.3\", \"2.9\", \"2.2\", \"1.4\", \"2.9\", \"2.7\", \"2.7\", \"0.0\", \"1.3\", \"1.0\", \"1.4\", \"1.0\", \"0.0\", \"0.0\", \"2.2\", \"4.8\", \"2.5\", \"3.0\", \"2.3\", \"2.0\", \"0.0\", \"0.0\", \"1.2\", \"1.7\", \"2.0\", \"0.0\", \"4.1\", \"4.0\", \"0.0\", \"2.0\", \"1.9\", \"2.8\", \"1.0\", \"0.0\", \"1.7\", \"1.8\", \"4.3\", \"3.3\", \"0.0\", \"2.3\", \"7.3\", \"6.7\", \"2.5\", \"2.3\", \"1.8\", \"2.6\", \"2.8\", \"3.9\", \"3.0\", \"2.4\", \"0.0\", \"1.0\", \"1.0\", \"1.0\", \"5.0\", \"6.9\", \"1.0\", \"5.7\", \"3.6\", \"4.7\", \"2.6\", \"1.9\", \"2.1\", \"2.7\", \"0.0\", \"0.0\", \"2.7\", \"5.8\", \"0.0\", \"1.2\", \"2.1\", \"3.1\", \"1.8\", \"1.0\", \"2.5\", \"2.6\", \"3.0\", \"1.0\", \"1.0\", \"7.1\", \"2.9\", \"2.0\", \"1.3\", \"3.9\", \"1.8\", \"2.7\", \"0.0\", \"0.0\", \"0.0\", \"3.4\", \"3.6\", \"0.0\", \"1.4\", \"0.8\", \"1.6\", \"2.8\", \"1.9\", \"1.4\", \"2.2\", \"3.3\", \"1.8\", \"2.4\", \"1.8\", \"1.0\", \"1.6\", \"2.4\", \"1.7\", \"1.0\", \"0.0\", \"3.6\", \"2.7\", \"1.2\", \"2.1\", \"1.0\", \"1.0\", \"1.0\", \"0.0\", \"2.0\", \"3.2\", \"3.2\", \"0.0\", \"3.2\", \"0.0\", \"2.4\", \"0.0\", \"0.0\", \"1.6\", \"2.2\", \"1.7\", \"2.0\", \"1.0\", \"5.7\", \"2.4\", \"5.0\", \"2.8\", \"2.8\", \"1.5\", \"0.5\", \"2.5\", \"1.9\", \"0.0\", \"1.0\", \"2.3\", \"1.4\", \"1.5\", \"1.0\", \"1.0\", \"4.9\", \"0.0\", \"3.2\", \"2.2\", \"2.3\", \"2.2\", \"0.0\", \"2.6\", \"1.8\", \"1.0\", \"3.9\", \"0.0\", \"0.8\", \"2.8\", \"2.7\", \"2.2\", \"3.1\", \"3.6\", \"1.0\", \"2.3\", \"3.1\", \"1.2\", \"0.0\", \"2.6\", \"0.0\", \"1.0\", \"0.0\", \"1.3\", \"2.8\", \"2.5\", \"3.2\", \"1.7\", \"3.9\", \"0.0\", \"0.0\", \"2.4\", \"2.1\", \"0.0\", \"0.0\", \"0.0\", \"0.0\", \"1.0\"], \"xaxis\": \"x\", \"y\": [7.1, 6.7, 5.1, 4.7, 4.2, 4.2, 5.2, 9.2, 5.3, 4.7, 4.7, 4.3, 5.7, 6.3, 5.4, 5.4, 4.8, 4.5, 4.3, 4.4, 5.8, 4.4, 5.2, 4.4, 4.4, 4.5, 6.8, 6.2, 5.9, 4.6, 5.0, 4.7, 4.9, 4.8, 5.0, 5.8, 5.8, 4.5, 4.5, 4.4, 6.2, 5.8, 5.4, 5.3, 5.0, 4.8, 4.6, 4.3, 4.4, 5.8, 4.8, 4.5, 5.5, 5.9, 6.1, 5.5, 5.5, 5.4, 5.5, 4.9, 4.6, 4.5, 4.8, 7.0, 6.8, 6.2, 5.2, 5.7, 4.9, 5.0, 4.3, 6.9, 5.3, 5.2, 6.2, 4.4, 4.5, 6.7, 6.7, 5.6, 5.2, 5.4, 5.2, 4.9, 4.3, 4.3, 4.5, 4.5, 4.5, 4.5, 4.5, 5.6, 8.3, 7.3, 6.4, 6.2, 5.3, 5.0, 5.0, 4.4, 5.2, 4.8, 4.5, 7.5, 6.1, 5.1, 5.1, 5.0, 5.0, 4.3, 4.2, 4.3, 4.3, 6.1, 6.1, 4.2, 5.3, 12.7, 12.5, 6.2, 6.3, 5.7, 5.8, 5.4, 5.3, 5.4, 5.3, 4.5, 4.5, 4.5, 6.0, 11.7, 10.7, 9.2, 8.5, 7.7, 7.3, 5.2, 5.1, 5.2, 5.4, 4.5, 4.5, 8.3, 8.1, 6.8, 6.3, 6.1, 5.8, 5.3, 4.7, 4.8, 4.8, 4.9, 4.3, 4.3, 8.7, 5.8, 5.3, 4.7, 4.9, 5.0, 4.4, 4.3, 4.7, 4.8, 5.4, 4.5, 4.5, 4.9, 5.4, 6.2, 6.0, 5.3, 5.0, 4.8, 4.7, 4.3, 4.5, 4.3, 5.0, 4.5, 4.6, 4.4, 4.5, 5.2, 4.9, 4.8, 5.0, 4.9, 4.5, 4.7, 4.3, 4.5, 4.7, 6.2, 5.7, 5.2, 5.2, 4.6, 4.8, 4.4, 4.4, 4.3, 5.2, 5.5, 4.5, 4.5, 9.8, 8.6, 8.3, 7.1, 5.7, 5.2, 4.7, 4.8, 4.8, 4.4, 4.3, 5.8, 7.3, 5.4, 5.0, 4.7, 7.5, 4.5, 5.6, 5.6, 5.3, 4.8, 4.7, 4.8, 4.4, 4.3, 6.3, 4.5, 4.6, 6.9, 6.6, 6.1, 5.2, 5.1, 4.6, 4.7, 5.0, 4.3, 4.3, 6.0, 4.5, 4.4, 4.5, 4.8, 6.4, 5.2, 5.4, 4.7, 5.8, 4.8, 4.9, 4.4, 5.0, 4.5, 4.5, 4.5, 4.5, 5.0], \"yaxis\": \"y\"}],\n",
       "                        {\"annotations\": [{\"showarrow\": false, \"text\": \"Bubble Size : Player Form\", \"x\": 1.15, \"xref\": \"paper\", \"y\": 1.1, \"yref\": \"paper\"}], \"legend\": {\"itemsizing\": \"constant\", \"title\": {\"text\": \"Player Type\"}, \"tracegroupgap\": 0}, \"showlegend\": true, \"template\": {\"data\": {\"bar\": [{\"error_x\": {\"color\": \"#2a3f5f\"}, \"error_y\": {\"color\": \"#2a3f5f\"}, \"marker\": {\"line\": {\"color\": \"#E5ECF6\", \"width\": 0.5}}, \"type\": \"bar\"}], \"barpolar\": [{\"marker\": {\"line\": {\"color\": \"#E5ECF6\", \"width\": 0.5}}, \"type\": \"barpolar\"}], \"carpet\": [{\"aaxis\": {\"endlinecolor\": \"#2a3f5f\", \"gridcolor\": \"white\", \"linecolor\": \"white\", \"minorgridcolor\": \"white\", \"startlinecolor\": \"#2a3f5f\"}, \"baxis\": {\"endlinecolor\": \"#2a3f5f\", \"gridcolor\": \"white\", \"linecolor\": \"white\", \"minorgridcolor\": \"white\", \"startlinecolor\": \"#2a3f5f\"}, \"type\": \"carpet\"}], \"choropleth\": [{\"colorbar\": {\"outlinewidth\": 0, \"ticks\": \"\"}, \"type\": \"choropleth\"}], \"contour\": [{\"colorbar\": {\"outlinewidth\": 0, \"ticks\": \"\"}, \"colorscale\": [[0.0, \"#0d0887\"], [0.1111111111111111, \"#46039f\"], [0.2222222222222222, \"#7201a8\"], [0.3333333333333333, \"#9c179e\"], [0.4444444444444444, \"#bd3786\"], [0.5555555555555556, \"#d8576b\"], [0.6666666666666666, \"#ed7953\"], [0.7777777777777778, \"#fb9f3a\"], [0.8888888888888888, \"#fdca26\"], [1.0, \"#f0f921\"]], \"type\": \"contour\"}], \"contourcarpet\": [{\"colorbar\": {\"outlinewidth\": 0, \"ticks\": \"\"}, \"type\": \"contourcarpet\"}], \"heatmap\": [{\"colorbar\": {\"outlinewidth\": 0, \"ticks\": \"\"}, \"colorscale\": [[0.0, \"#0d0887\"], [0.1111111111111111, \"#46039f\"], [0.2222222222222222, \"#7201a8\"], [0.3333333333333333, \"#9c179e\"], [0.4444444444444444, \"#bd3786\"], [0.5555555555555556, \"#d8576b\"], [0.6666666666666666, \"#ed7953\"], [0.7777777777777778, \"#fb9f3a\"], [0.8888888888888888, \"#fdca26\"], [1.0, \"#f0f921\"]], \"type\": \"heatmap\"}], \"heatmapgl\": [{\"colorbar\": {\"outlinewidth\": 0, \"ticks\": \"\"}, \"colorscale\": [[0.0, \"#0d0887\"], [0.1111111111111111, \"#46039f\"], [0.2222222222222222, \"#7201a8\"], [0.3333333333333333, \"#9c179e\"], [0.4444444444444444, \"#bd3786\"], [0.5555555555555556, \"#d8576b\"], [0.6666666666666666, \"#ed7953\"], [0.7777777777777778, \"#fb9f3a\"], [0.8888888888888888, \"#fdca26\"], [1.0, \"#f0f921\"]], \"type\": \"heatmapgl\"}], \"histogram\": [{\"marker\": {\"colorbar\": {\"outlinewidth\": 0, \"ticks\": \"\"}}, \"type\": \"histogram\"}], \"histogram2d\": [{\"colorbar\": {\"outlinewidth\": 0, \"ticks\": \"\"}, \"colorscale\": [[0.0, \"#0d0887\"], [0.1111111111111111, \"#46039f\"], [0.2222222222222222, \"#7201a8\"], [0.3333333333333333, \"#9c179e\"], [0.4444444444444444, \"#bd3786\"], [0.5555555555555556, \"#d8576b\"], [0.6666666666666666, \"#ed7953\"], [0.7777777777777778, \"#fb9f3a\"], [0.8888888888888888, \"#fdca26\"], [1.0, \"#f0f921\"]], \"type\": \"histogram2d\"}], \"histogram2dcontour\": [{\"colorbar\": {\"outlinewidth\": 0, \"ticks\": \"\"}, \"colorscale\": [[0.0, \"#0d0887\"], [0.1111111111111111, \"#46039f\"], [0.2222222222222222, \"#7201a8\"], [0.3333333333333333, \"#9c179e\"], [0.4444444444444444, \"#bd3786\"], [0.5555555555555556, \"#d8576b\"], [0.6666666666666666, \"#ed7953\"], [0.7777777777777778, \"#fb9f3a\"], [0.8888888888888888, \"#fdca26\"], [1.0, \"#f0f921\"]], \"type\": \"histogram2dcontour\"}], \"mesh3d\": [{\"colorbar\": {\"outlinewidth\": 0, \"ticks\": \"\"}, \"type\": \"mesh3d\"}], \"parcoords\": [{\"line\": {\"colorbar\": {\"outlinewidth\": 0, \"ticks\": \"\"}}, \"type\": \"parcoords\"}], \"pie\": [{\"automargin\": true, \"type\": \"pie\"}], \"scatter\": [{\"marker\": {\"colorbar\": {\"outlinewidth\": 0, \"ticks\": \"\"}}, \"type\": \"scatter\"}], \"scatter3d\": [{\"line\": {\"colorbar\": {\"outlinewidth\": 0, \"ticks\": \"\"}}, \"marker\": {\"colorbar\": {\"outlinewidth\": 0, \"ticks\": \"\"}}, \"type\": \"scatter3d\"}], \"scattercarpet\": [{\"marker\": {\"colorbar\": {\"outlinewidth\": 0, \"ticks\": \"\"}}, \"type\": \"scattercarpet\"}], \"scattergeo\": [{\"marker\": {\"colorbar\": {\"outlinewidth\": 0, \"ticks\": \"\"}}, \"type\": \"scattergeo\"}], \"scattergl\": [{\"marker\": {\"colorbar\": {\"outlinewidth\": 0, \"ticks\": \"\"}}, \"type\": \"scattergl\"}], \"scattermapbox\": [{\"marker\": {\"colorbar\": {\"outlinewidth\": 0, \"ticks\": \"\"}}, \"type\": \"scattermapbox\"}], \"scatterpolar\": [{\"marker\": {\"colorbar\": {\"outlinewidth\": 0, \"ticks\": \"\"}}, \"type\": \"scatterpolar\"}], \"scatterpolargl\": [{\"marker\": {\"colorbar\": {\"outlinewidth\": 0, \"ticks\": \"\"}}, \"type\": \"scatterpolargl\"}], \"scatterternary\": [{\"marker\": {\"colorbar\": {\"outlinewidth\": 0, \"ticks\": \"\"}}, \"type\": \"scatterternary\"}], \"surface\": [{\"colorbar\": {\"outlinewidth\": 0, \"ticks\": \"\"}, \"colorscale\": [[0.0, \"#0d0887\"], [0.1111111111111111, \"#46039f\"], [0.2222222222222222, \"#7201a8\"], [0.3333333333333333, \"#9c179e\"], [0.4444444444444444, \"#bd3786\"], [0.5555555555555556, \"#d8576b\"], [0.6666666666666666, \"#ed7953\"], [0.7777777777777778, \"#fb9f3a\"], [0.8888888888888888, \"#fdca26\"], [1.0, \"#f0f921\"]], \"type\": \"surface\"}], \"table\": [{\"cells\": {\"fill\": {\"color\": \"#EBF0F8\"}, \"line\": {\"color\": \"white\"}}, \"header\": {\"fill\": {\"color\": \"#C8D4E3\"}, \"line\": {\"color\": \"white\"}}, \"type\": \"table\"}]}, \"layout\": {\"annotationdefaults\": {\"arrowcolor\": \"#2a3f5f\", \"arrowhead\": 0, \"arrowwidth\": 1}, \"coloraxis\": {\"colorbar\": {\"outlinewidth\": 0, \"ticks\": \"\"}}, \"colorscale\": {\"diverging\": [[0, \"#8e0152\"], [0.1, \"#c51b7d\"], [0.2, \"#de77ae\"], [0.3, \"#f1b6da\"], [0.4, \"#fde0ef\"], [0.5, \"#f7f7f7\"], [0.6, \"#e6f5d0\"], [0.7, \"#b8e186\"], [0.8, \"#7fbc41\"], [0.9, \"#4d9221\"], [1, \"#276419\"]], \"sequential\": [[0.0, \"#0d0887\"], [0.1111111111111111, \"#46039f\"], [0.2222222222222222, \"#7201a8\"], [0.3333333333333333, \"#9c179e\"], [0.4444444444444444, \"#bd3786\"], [0.5555555555555556, \"#d8576b\"], [0.6666666666666666, \"#ed7953\"], [0.7777777777777778, \"#fb9f3a\"], [0.8888888888888888, \"#fdca26\"], [1.0, \"#f0f921\"]], \"sequentialminus\": [[0.0, \"#0d0887\"], [0.1111111111111111, \"#46039f\"], [0.2222222222222222, \"#7201a8\"], [0.3333333333333333, \"#9c179e\"], [0.4444444444444444, \"#bd3786\"], [0.5555555555555556, \"#d8576b\"], [0.6666666666666666, \"#ed7953\"], [0.7777777777777778, \"#fb9f3a\"], [0.8888888888888888, \"#fdca26\"], [1.0, \"#f0f921\"]]}, \"colorway\": [\"#636efa\", \"#EF553B\", \"#00cc96\", \"#ab63fa\", \"#FFA15A\", \"#19d3f3\", \"#FF6692\", \"#B6E880\", \"#FF97FF\", \"#FECB52\"], \"font\": {\"color\": \"#2a3f5f\"}, \"geo\": {\"bgcolor\": \"white\", \"lakecolor\": \"white\", \"landcolor\": \"#E5ECF6\", \"showlakes\": true, \"showland\": true, \"subunitcolor\": \"white\"}, \"hoverlabel\": {\"align\": \"left\"}, \"hovermode\": \"closest\", \"mapbox\": {\"style\": \"light\"}, \"paper_bgcolor\": \"white\", \"plot_bgcolor\": \"#E5ECF6\", \"polar\": {\"angularaxis\": {\"gridcolor\": \"white\", \"linecolor\": \"white\", \"ticks\": \"\"}, \"bgcolor\": \"#E5ECF6\", \"radialaxis\": {\"gridcolor\": \"white\", \"linecolor\": \"white\", \"ticks\": \"\"}}, \"scene\": {\"xaxis\": {\"backgroundcolor\": \"#E5ECF6\", \"gridcolor\": \"white\", \"gridwidth\": 2, \"linecolor\": \"white\", \"showbackground\": true, \"ticks\": \"\", \"zerolinecolor\": \"white\"}, \"yaxis\": {\"backgroundcolor\": \"#E5ECF6\", \"gridcolor\": \"white\", \"gridwidth\": 2, \"linecolor\": \"white\", \"showbackground\": true, \"ticks\": \"\", \"zerolinecolor\": \"white\"}, \"zaxis\": {\"backgroundcolor\": \"#E5ECF6\", \"gridcolor\": \"white\", \"gridwidth\": 2, \"linecolor\": \"white\", \"showbackground\": true, \"ticks\": \"\", \"zerolinecolor\": \"white\"}}, \"shapedefaults\": {\"line\": {\"color\": \"#2a3f5f\"}}, \"ternary\": {\"aaxis\": {\"gridcolor\": \"white\", \"linecolor\": \"white\", \"ticks\": \"\"}, \"baxis\": {\"gridcolor\": \"white\", \"linecolor\": \"white\", \"ticks\": \"\"}, \"bgcolor\": \"#E5ECF6\", \"caxis\": {\"gridcolor\": \"white\", \"linecolor\": \"white\", \"ticks\": \"\"}}, \"title\": {\"x\": 0.05}, \"xaxis\": {\"automargin\": true, \"gridcolor\": \"white\", \"linecolor\": \"white\", \"ticks\": \"\", \"title\": {\"standoff\": 15}, \"zerolinecolor\": \"white\", \"zerolinewidth\": 2}, \"yaxis\": {\"automargin\": true, \"gridcolor\": \"white\", \"linecolor\": \"white\", \"ticks\": \"\", \"title\": {\"standoff\": 15}, \"zerolinecolor\": \"white\", \"zerolinewidth\": 2}}}, \"title\": {\"text\": \"Most Suitable Player to Buy Currently\"}, \"xaxis\": {\"anchor\": \"y\", \"domain\": [0.0, 1.0], \"title\": {\"text\": \"Points Per Game\"}}, \"yaxis\": {\"anchor\": \"x\", \"domain\": [0.0, 1.0], \"tickprefix\": \"\\u00a3\", \"title\": {\"text\": \"Price\"}}},\n",
       "                        {\"responsive\": true}\n",
       "                    ).then(function(){\n",
       "                            \n",
       "var gd = document.getElementById('22c1c70c-d5a2-41d7-9a25-49b26eb7da30');\n",
       "var x = new MutationObserver(function (mutations, observer) {{\n",
       "        var display = window.getComputedStyle(gd).display;\n",
       "        if (!display || display === 'none') {{\n",
       "            console.log([gd, 'removed!']);\n",
       "            Plotly.purge(gd);\n",
       "            observer.disconnect();\n",
       "        }}\n",
       "}});\n",
       "\n",
       "// Listen for the removal of the full notebook cells\n",
       "var notebookContainer = gd.closest('#notebook-container');\n",
       "if (notebookContainer) {{\n",
       "    x.observe(notebookContainer, {childList: true});\n",
       "}}\n",
       "\n",
       "// Listen for the clearing of the current output cell\n",
       "var outputEl = gd.closest('.output');\n",
       "if (outputEl) {{\n",
       "    x.observe(outputEl, {childList: true});\n",
       "}}\n",
       "\n",
       "                        })\n",
       "                };\n",
       "                });\n",
       "            </script>\n",
       "        </div>"
      ]
     },
     "metadata": {},
     "output_type": "display_data"
    }
   ],
   "source": [
    "cf.go_offline()\n",
    "\n",
    "df = players_details[['form','points_per_game','now_cost','team_name','singular_name','first_name','web_name']]\n",
    "df[\"now_cost\"] = df[\"now_cost\"]/10\n",
    "df.rename(columns = {'singular_name' : \"Player Type\"}, inplace = True)\n",
    "df[\"name\"] = df[\"first_name\"] + ' ' + df[\"web_name\"]\n",
    "fig = px.scatter(df, x='points_per_game', \n",
    "                 y='now_cost',  \n",
    "                 size = (players_details[\"form\"].astype(float).values + abs(players_details[\"form\"].astype(float).values.min()))*1.5, \n",
    "                 hover_name = \"name\",\n",
    "                 hover_data= [\"team_name\"],\n",
    "                 color =\"Player Type\",\n",
    "                 title = \"Most Suitable Player to Buy Currently\"\n",
    "                )\n",
    "fig['layout']['yaxis'].update({'title': 'Price', 'tickprefix': '£'})\n",
    "fig['layout']['xaxis'].update({'title': 'Points Per Game'})\n",
    "fig.update_layout(\n",
    "    showlegend=True,\n",
    "    annotations=[\n",
    "        dict(\n",
    "            x=1.15,\n",
    "            y=1.10,\n",
    "            xref=\"paper\",\n",
    "            yref=\"paper\",\n",
    "            showarrow=False,\n",
    "            text=\"Bubble Size : Player Form\"\n",
    "        )\n",
    "    ]\n",
    ")\n",
    "\n",
    "fig.show()"
   ]
  },
  {
   "cell_type": "code",
   "execution_count": null,
   "metadata": {},
   "outputs": [],
   "source": []
  }
 ],
 "metadata": {
  "kernelspec": {
   "display_name": "Python 3",
   "language": "python",
   "name": "python3"
  },
  "language_info": {
   "codemirror_mode": {
    "name": "ipython",
    "version": 3
   },
   "file_extension": ".py",
   "mimetype": "text/x-python",
   "name": "python",
   "nbconvert_exporter": "python",
   "pygments_lexer": "ipython3",
   "version": "3.7.6"
  }
 },
 "nbformat": 4,
 "nbformat_minor": 2
}
