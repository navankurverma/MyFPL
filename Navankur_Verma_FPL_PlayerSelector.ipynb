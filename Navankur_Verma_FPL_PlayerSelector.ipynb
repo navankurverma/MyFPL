{
 "cells": [
  {
   "cell_type": "markdown",
   "metadata": {},
   "source": [
    "\n",
    "# Fantasy Premier League - Player Selector\n",
    "# Navankur Verma - navankurverma@gmail.com"
   ]
  },
  {
   "cell_type": "markdown",
   "metadata": {},
   "source": [
    "[(Parent link)](https://navankurverma.github.io/MyFPL/Navankur_Verma_FPL.html)"
   ]
  },
  {
   "cell_type": "markdown",
   "metadata": {},
   "source": [
    "Libraries Used:"
   ]
  },
  {
   "cell_type": "code",
   "execution_count": 1,
   "metadata": {},
   "outputs": [],
   "source": [
    "import requests\n",
    "import json\n",
    "import pandas as pd\n",
    "import numpy as np\n",
    "import matplotlib\n",
    "import matplotlib.pyplot as plt\n",
    "import seaborn as sns\n",
    "import cufflinks as cf\n",
    "import plotly.express as px\n",
    "%matplotlib inline"
   ]
  },
  {
   "cell_type": "markdown",
   "metadata": {},
   "source": [
    "### Pull General FPL Data \n",
    "[Move to top](#Fantasy-Premier-League---Player-Selector)"
   ]
  },
  {
   "cell_type": "code",
   "execution_count": 2,
   "metadata": {},
   "outputs": [],
   "source": [
    "#Whole Data\n",
    "fpl = requests.get(\"https://fantasy.premierleague.com/api/bootstrap-static/\")\n",
    "fpl = fpl.json()"
   ]
  },
  {
   "cell_type": "code",
   "execution_count": 3,
   "metadata": {},
   "outputs": [],
   "source": [
    "if 'teams' in fpl:\n",
    "    teams = pd.DataFrame(fpl['teams'])\n",
    "    teams = teams.iloc[:,[0,3,5,9,10,14,15,16,17,18,19]] #picking only valuable columns\n",
    "    teams.rename(columns = {'code': 'team_code', 'id': 'team_id', 'name': 'team_name'}, inplace = True)\n",
    "    teams\n",
    "else:\n",
    "    print('Teams data not found')"
   ]
  },
  {
   "cell_type": "code",
   "execution_count": 4,
   "metadata": {},
   "outputs": [],
   "source": [
    "if 'element_types' in fpl:\n",
    "    element_types = pd.DataFrame(fpl['element_types'])\n",
    "    element_types.rename(columns= {'id': 'element_type'}, inplace = True)\n",
    "    element_types\n",
    "else:\n",
    "    print('Element_types data not found')"
   ]
  },
  {
   "cell_type": "code",
   "execution_count": 5,
   "metadata": {},
   "outputs": [],
   "source": [
    "if 'elements' in fpl:\n",
    "    players = fpl['elements']\n",
    "    players = pd.DataFrame(players)\n",
    "else:\n",
    "    print('Players data not found')"
   ]
  },
  {
   "cell_type": "markdown",
   "metadata": {},
   "source": [
    "#### Cleaning Public Data\n",
    "[Move to top](#Fantasy-Premier-League---Player-Selector)"
   ]
  },
  {
   "cell_type": "code",
   "execution_count": 6,
   "metadata": {},
   "outputs": [
    {
     "data": {
      "text/plain": [
       "chance_of_playing_next_round    452\n",
       "chance_of_playing_this_round    479\n",
       "code                              0\n",
       "cost_change_event                 0\n",
       "cost_change_event_fall            0\n",
       "                               ... \n",
       "creativity_rank_type              0\n",
       "threat_rank                       0\n",
       "threat_rank_type                  0\n",
       "ict_index_rank                    0\n",
       "ict_index_rank_type               0\n",
       "Length: 61, dtype: int64"
      ]
     },
     "execution_count": 6,
     "metadata": {},
     "output_type": "execute_result"
    }
   ],
   "source": [
    "players.isnull().sum()"
   ]
  },
  {
   "cell_type": "code",
   "execution_count": 7,
   "metadata": {},
   "outputs": [],
   "source": [
    "#Replacing missing values with Zeroes\n",
    "players['chance_of_playing_next_round'] = players['chance_of_playing_next_round'].fillna(0)\n",
    "players['chance_of_playing_this_round'] = players['chance_of_playing_this_round'].fillna(0)"
   ]
  },
  {
   "cell_type": "code",
   "execution_count": 8,
   "metadata": {},
   "outputs": [
    {
     "data": {
      "text/plain": [
       "chance_of_playing_next_round    0\n",
       "chance_of_playing_this_round    0\n",
       "code                            0\n",
       "cost_change_event               0\n",
       "cost_change_event_fall          0\n",
       "                               ..\n",
       "creativity_rank_type            0\n",
       "threat_rank                     0\n",
       "threat_rank_type                0\n",
       "ict_index_rank                  0\n",
       "ict_index_rank_type             0\n",
       "Length: 61, dtype: int64"
      ]
     },
     "execution_count": 8,
     "metadata": {},
     "output_type": "execute_result"
    }
   ],
   "source": [
    "players.isnull().sum()"
   ]
  },
  {
   "cell_type": "markdown",
   "metadata": {},
   "source": [
    "Column Description by its index:  \n",
    "14,12,35,26,27,8 <- id, name, teamName, position  \n",
    "29,30,31,32 <- Transfer details  \n",
    "25,0,1 <- Chances of playing  \n",
    "7, 11,13,15,20,28,18,22 <- fpl related details  \n",
    "36,37,38,39,40,41,42,43,44,45,46,47,48,49,50,51,52 <- onfield stats  \n",
    "Selecting only above columns:"
   ]
  },
  {
   "cell_type": "code",
   "execution_count": 9,
   "metadata": {},
   "outputs": [],
   "source": [
    "players.rename(columns = {'id': 'element'}, inplace = True)\n",
    "players_details = players.iloc[:,[14,12,35,26,27,8, 36,37,38,39,40,41,42,43,44,45,46,47,48,49,50,51,52, 7,11,13,15,20,28,18,22,29,30,31,32,25,0,1]]"
   ]
  },
  {
   "cell_type": "markdown",
   "metadata": {},
   "source": [
    "Joining players data with their corresponding details and teams:"
   ]
  },
  {
   "cell_type": "code",
   "execution_count": 10,
   "metadata": {},
   "outputs": [],
   "source": [
    "players_details = players_details.merge(teams[[\"team_code\",\"team_name\"]],\n",
    "                                        on = \"team_code\").merge(element_types[[\"singular_name\",\"element_type\"]],\n",
    "                                                                on = \"element_type\")\n",
    "players_details.drop(['team','team_code'], axis=1, inplace = True)\n",
    "players_details.set_index('element', inplace = True)"
   ]
  },
  {
   "cell_type": "code",
   "execution_count": 11,
   "metadata": {},
   "outputs": [
    {
     "data": {
      "text/html": [
       "<div>\n",
       "<style scoped>\n",
       "    .dataframe tbody tr th:only-of-type {\n",
       "        vertical-align: middle;\n",
       "    }\n",
       "\n",
       "    .dataframe tbody tr th {\n",
       "        vertical-align: top;\n",
       "    }\n",
       "\n",
       "    .dataframe thead th {\n",
       "        text-align: right;\n",
       "    }\n",
       "</style>\n",
       "<table border=\"1\" class=\"dataframe\">\n",
       "  <thead>\n",
       "    <tr style=\"text-align: right;\">\n",
       "      <th></th>\n",
       "      <th>first_name</th>\n",
       "      <th>web_name</th>\n",
       "      <th>element_type</th>\n",
       "      <th>minutes</th>\n",
       "      <th>goals_scored</th>\n",
       "      <th>assists</th>\n",
       "      <th>clean_sheets</th>\n",
       "      <th>goals_conceded</th>\n",
       "      <th>own_goals</th>\n",
       "      <th>penalties_saved</th>\n",
       "      <th>...</th>\n",
       "      <th>selected_by_percent</th>\n",
       "      <th>transfers_in</th>\n",
       "      <th>transfers_in_event</th>\n",
       "      <th>transfers_out</th>\n",
       "      <th>transfers_out_event</th>\n",
       "      <th>status</th>\n",
       "      <th>chance_of_playing_next_round</th>\n",
       "      <th>chance_of_playing_this_round</th>\n",
       "      <th>team_name</th>\n",
       "      <th>singular_name</th>\n",
       "    </tr>\n",
       "    <tr>\n",
       "      <th>element</th>\n",
       "      <th></th>\n",
       "      <th></th>\n",
       "      <th></th>\n",
       "      <th></th>\n",
       "      <th></th>\n",
       "      <th></th>\n",
       "      <th></th>\n",
       "      <th></th>\n",
       "      <th></th>\n",
       "      <th></th>\n",
       "      <th></th>\n",
       "      <th></th>\n",
       "      <th></th>\n",
       "      <th></th>\n",
       "      <th></th>\n",
       "      <th></th>\n",
       "      <th></th>\n",
       "      <th></th>\n",
       "      <th></th>\n",
       "      <th></th>\n",
       "      <th></th>\n",
       "    </tr>\n",
       "  </thead>\n",
       "  <tbody>\n",
       "    <tr>\n",
       "      <th>1</th>\n",
       "      <td>Mesut</td>\n",
       "      <td>Özil</td>\n",
       "      <td>3</td>\n",
       "      <td>1439</td>\n",
       "      <td>1</td>\n",
       "      <td>3</td>\n",
       "      <td>5</td>\n",
       "      <td>20</td>\n",
       "      <td>0</td>\n",
       "      <td>0</td>\n",
       "      <td>...</td>\n",
       "      <td>2.3</td>\n",
       "      <td>0</td>\n",
       "      <td>0</td>\n",
       "      <td>0</td>\n",
       "      <td>0</td>\n",
       "      <td>a</td>\n",
       "      <td>0.0</td>\n",
       "      <td>0</td>\n",
       "      <td>Arsenal</td>\n",
       "      <td>Midfielder</td>\n",
       "    </tr>\n",
       "    <tr>\n",
       "      <th>4</th>\n",
       "      <td>Pierre-Emerick</td>\n",
       "      <td>Aubameyang</td>\n",
       "      <td>3</td>\n",
       "      <td>3136</td>\n",
       "      <td>22</td>\n",
       "      <td>5</td>\n",
       "      <td>10</td>\n",
       "      <td>44</td>\n",
       "      <td>0</td>\n",
       "      <td>0</td>\n",
       "      <td>...</td>\n",
       "      <td>23.9</td>\n",
       "      <td>0</td>\n",
       "      <td>0</td>\n",
       "      <td>0</td>\n",
       "      <td>0</td>\n",
       "      <td>a</td>\n",
       "      <td>0.0</td>\n",
       "      <td>0</td>\n",
       "      <td>Arsenal</td>\n",
       "      <td>Midfielder</td>\n",
       "    </tr>\n",
       "    <tr>\n",
       "      <th>9</th>\n",
       "      <td>Granit</td>\n",
       "      <td>Xhaka</td>\n",
       "      <td>3</td>\n",
       "      <td>2586</td>\n",
       "      <td>1</td>\n",
       "      <td>2</td>\n",
       "      <td>10</td>\n",
       "      <td>31</td>\n",
       "      <td>0</td>\n",
       "      <td>0</td>\n",
       "      <td>...</td>\n",
       "      <td>0.4</td>\n",
       "      <td>0</td>\n",
       "      <td>0</td>\n",
       "      <td>0</td>\n",
       "      <td>0</td>\n",
       "      <td>a</td>\n",
       "      <td>0.0</td>\n",
       "      <td>0</td>\n",
       "      <td>Arsenal</td>\n",
       "      <td>Midfielder</td>\n",
       "    </tr>\n",
       "    <tr>\n",
       "      <th>18</th>\n",
       "      <td>Nicolas</td>\n",
       "      <td>Pépé</td>\n",
       "      <td>3</td>\n",
       "      <td>2004</td>\n",
       "      <td>5</td>\n",
       "      <td>6</td>\n",
       "      <td>5</td>\n",
       "      <td>30</td>\n",
       "      <td>0</td>\n",
       "      <td>0</td>\n",
       "      <td>...</td>\n",
       "      <td>2.2</td>\n",
       "      <td>0</td>\n",
       "      <td>0</td>\n",
       "      <td>0</td>\n",
       "      <td>0</td>\n",
       "      <td>a</td>\n",
       "      <td>0.0</td>\n",
       "      <td>0</td>\n",
       "      <td>Arsenal</td>\n",
       "      <td>Midfielder</td>\n",
       "    </tr>\n",
       "    <tr>\n",
       "      <th>19</th>\n",
       "      <td>Lucas</td>\n",
       "      <td>Torreira</td>\n",
       "      <td>3</td>\n",
       "      <td>1501</td>\n",
       "      <td>1</td>\n",
       "      <td>1</td>\n",
       "      <td>3</td>\n",
       "      <td>23</td>\n",
       "      <td>0</td>\n",
       "      <td>0</td>\n",
       "      <td>...</td>\n",
       "      <td>0.2</td>\n",
       "      <td>0</td>\n",
       "      <td>0</td>\n",
       "      <td>0</td>\n",
       "      <td>0</td>\n",
       "      <td>a</td>\n",
       "      <td>0.0</td>\n",
       "      <td>0</td>\n",
       "      <td>Arsenal</td>\n",
       "      <td>Midfielder</td>\n",
       "    </tr>\n",
       "  </tbody>\n",
       "</table>\n",
       "<p>5 rows × 37 columns</p>\n",
       "</div>"
      ],
      "text/plain": [
       "             first_name    web_name  element_type  minutes  goals_scored  \\\n",
       "element                                                                    \n",
       "1                 Mesut        Özil             3     1439             1   \n",
       "4        Pierre-Emerick  Aubameyang             3     3136            22   \n",
       "9                Granit       Xhaka             3     2586             1   \n",
       "18              Nicolas        Pépé             3     2004             5   \n",
       "19                Lucas    Torreira             3     1501             1   \n",
       "\n",
       "         assists  clean_sheets  goals_conceded  own_goals  penalties_saved  \\\n",
       "element                                                                      \n",
       "1              3             5              20          0                0   \n",
       "4              5            10              44          0                0   \n",
       "9              2            10              31          0                0   \n",
       "18             6             5              30          0                0   \n",
       "19             1             3              23          0                0   \n",
       "\n",
       "         ...  selected_by_percent  transfers_in  transfers_in_event  \\\n",
       "element  ...                                                          \n",
       "1        ...                  2.3             0                   0   \n",
       "4        ...                 23.9             0                   0   \n",
       "9        ...                  0.4             0                   0   \n",
       "18       ...                  2.2             0                   0   \n",
       "19       ...                  0.2             0                   0   \n",
       "\n",
       "         transfers_out  transfers_out_event  status  \\\n",
       "element                                               \n",
       "1                    0                    0       a   \n",
       "4                    0                    0       a   \n",
       "9                    0                    0       a   \n",
       "18                   0                    0       a   \n",
       "19                   0                    0       a   \n",
       "\n",
       "        chance_of_playing_next_round chance_of_playing_this_round team_name  \\\n",
       "element                                                                       \n",
       "1                                0.0                            0   Arsenal   \n",
       "4                                0.0                            0   Arsenal   \n",
       "9                                0.0                            0   Arsenal   \n",
       "18                               0.0                            0   Arsenal   \n",
       "19                               0.0                            0   Arsenal   \n",
       "\n",
       "        singular_name  \n",
       "element                \n",
       "1          Midfielder  \n",
       "4          Midfielder  \n",
       "9          Midfielder  \n",
       "18         Midfielder  \n",
       "19         Midfielder  \n",
       "\n",
       "[5 rows x 37 columns]"
      ]
     },
     "execution_count": 11,
     "metadata": {},
     "output_type": "execute_result"
    }
   ],
   "source": [
    "players_details.head()"
   ]
  },
  {
   "cell_type": "markdown",
   "metadata": {},
   "source": [
    "#### Most Suitable Player to Buy Currently\n",
    "[Move to top](#Fantasy-Premier-League---Player-Selector)"
   ]
  },
  {
   "cell_type": "code",
   "execution_count": 12,
   "metadata": {},
   "outputs": [
    {
     "data": {
      "text/html": [
       "        <script type=\"text/javascript\">\n",
       "        window.PlotlyConfig = {MathJaxConfig: 'local'};\n",
       "        if (window.MathJax) {MathJax.Hub.Config({SVG: {font: \"STIX-Web\"}});}\n",
       "        if (typeof require !== 'undefined') {\n",
       "        require.undef(\"plotly\");\n",
       "        requirejs.config({\n",
       "            paths: {\n",
       "                'plotly': ['https://cdn.plot.ly/plotly-latest.min']\n",
       "            }\n",
       "        });\n",
       "        require(['plotly'], function(Plotly) {\n",
       "            window._Plotly = Plotly;\n",
       "        });\n",
       "        }\n",
       "        </script>\n",
       "        "
      ]
     },
     "metadata": {},
     "output_type": "display_data"
    },
    {
     "data": {
      "application/vnd.plotly.v1+json": {
       "config": {
        "plotlyServerURL": "https://plot.ly"
       },
       "data": [
        {
         "customdata": [
          [
           "Arsenal"
          ],
          [
           "Arsenal"
          ],
          [
           "Arsenal"
          ],
          [
           "Arsenal"
          ],
          [
           "Arsenal"
          ],
          [
           "Arsenal"
          ],
          [
           "Arsenal"
          ],
          [
           "Arsenal"
          ],
          [
           "Arsenal"
          ],
          [
           "Arsenal"
          ],
          [
           "Arsenal"
          ],
          [
           "Arsenal"
          ],
          [
           "Aston Villa"
          ],
          [
           "Aston Villa"
          ],
          [
           "Aston Villa"
          ],
          [
           "Aston Villa"
          ],
          [
           "Aston Villa"
          ],
          [
           "Aston Villa"
          ],
          [
           "Aston Villa"
          ],
          [
           "Aston Villa"
          ],
          [
           "Aston Villa"
          ],
          [
           "Brighton"
          ],
          [
           "Brighton"
          ],
          [
           "Brighton"
          ],
          [
           "Brighton"
          ],
          [
           "Brighton"
          ],
          [
           "Brighton"
          ],
          [
           "Brighton"
          ],
          [
           "Brighton"
          ],
          [
           "Brighton"
          ],
          [
           "Brighton"
          ],
          [
           "Brighton"
          ],
          [
           "Brighton"
          ],
          [
           "Burnley"
          ],
          [
           "Burnley"
          ],
          [
           "Burnley"
          ],
          [
           "Burnley"
          ],
          [
           "Burnley"
          ],
          [
           "Burnley"
          ],
          [
           "Chelsea"
          ],
          [
           "Chelsea"
          ],
          [
           "Chelsea"
          ],
          [
           "Chelsea"
          ],
          [
           "Chelsea"
          ],
          [
           "Chelsea"
          ],
          [
           "Chelsea"
          ],
          [
           "Chelsea"
          ],
          [
           "Chelsea"
          ],
          [
           "Chelsea"
          ],
          [
           "Crystal Palace"
          ],
          [
           "Crystal Palace"
          ],
          [
           "Crystal Palace"
          ],
          [
           "Crystal Palace"
          ],
          [
           "Crystal Palace"
          ],
          [
           "Crystal Palace"
          ],
          [
           "Crystal Palace"
          ],
          [
           "Crystal Palace"
          ],
          [
           "Crystal Palace"
          ],
          [
           "Crystal Palace"
          ],
          [
           "Everton"
          ],
          [
           "Everton"
          ],
          [
           "Everton"
          ],
          [
           "Everton"
          ],
          [
           "Everton"
          ],
          [
           "Everton"
          ],
          [
           "Everton"
          ],
          [
           "Everton"
          ],
          [
           "Everton"
          ],
          [
           "Fulham"
          ],
          [
           "Fulham"
          ],
          [
           "Fulham"
          ],
          [
           "Fulham"
          ],
          [
           "Fulham"
          ],
          [
           "Fulham"
          ],
          [
           "Fulham"
          ],
          [
           "Fulham"
          ],
          [
           "Fulham"
          ],
          [
           "Fulham"
          ],
          [
           "Leicester"
          ],
          [
           "Leicester"
          ],
          [
           "Leicester"
          ],
          [
           "Leicester"
          ],
          [
           "Leicester"
          ],
          [
           "Leicester"
          ],
          [
           "Leicester"
          ],
          [
           "Leicester"
          ],
          [
           "Leicester"
          ],
          [
           "Leicester"
          ],
          [
           "Leicester"
          ],
          [
           "Leeds"
          ],
          [
           "Leeds"
          ],
          [
           "Leeds"
          ],
          [
           "Leeds"
          ],
          [
           "Leeds"
          ],
          [
           "Leeds"
          ],
          [
           "Leeds"
          ],
          [
           "Leeds"
          ],
          [
           "Leeds"
          ],
          [
           "Leeds"
          ],
          [
           "Leeds"
          ],
          [
           "Liverpool"
          ],
          [
           "Liverpool"
          ],
          [
           "Liverpool"
          ],
          [
           "Liverpool"
          ],
          [
           "Liverpool"
          ],
          [
           "Liverpool"
          ],
          [
           "Liverpool"
          ],
          [
           "Liverpool"
          ],
          [
           "Liverpool"
          ],
          [
           "Liverpool"
          ],
          [
           "Liverpool"
          ],
          [
           "Liverpool"
          ],
          [
           "Liverpool"
          ],
          [
           "Man City"
          ],
          [
           "Man City"
          ],
          [
           "Man City"
          ],
          [
           "Man City"
          ],
          [
           "Man City"
          ],
          [
           "Man City"
          ],
          [
           "Man City"
          ],
          [
           "Man City"
          ],
          [
           "Man City"
          ],
          [
           "Man Utd"
          ],
          [
           "Man Utd"
          ],
          [
           "Man Utd"
          ],
          [
           "Man Utd"
          ],
          [
           "Man Utd"
          ],
          [
           "Man Utd"
          ],
          [
           "Man Utd"
          ],
          [
           "Man Utd"
          ],
          [
           "Man Utd"
          ],
          [
           "Man Utd"
          ],
          [
           "Man Utd"
          ],
          [
           "Man Utd"
          ],
          [
           "Man Utd"
          ],
          [
           "Newcastle"
          ],
          [
           "Newcastle"
          ],
          [
           "Newcastle"
          ],
          [
           "Newcastle"
          ],
          [
           "Newcastle"
          ],
          [
           "Newcastle"
          ],
          [
           "Newcastle"
          ],
          [
           "Sheffield Utd"
          ],
          [
           "Sheffield Utd"
          ],
          [
           "Sheffield Utd"
          ],
          [
           "Sheffield Utd"
          ],
          [
           "Sheffield Utd"
          ],
          [
           "Sheffield Utd"
          ],
          [
           "Southampton"
          ],
          [
           "Southampton"
          ],
          [
           "Southampton"
          ],
          [
           "Southampton"
          ],
          [
           "Southampton"
          ],
          [
           "Southampton"
          ],
          [
           "Southampton"
          ],
          [
           "Southampton"
          ],
          [
           "Southampton"
          ],
          [
           "Spurs"
          ],
          [
           "Spurs"
          ],
          [
           "Spurs"
          ],
          [
           "Spurs"
          ],
          [
           "Spurs"
          ],
          [
           "Spurs"
          ],
          [
           "Spurs"
          ],
          [
           "Spurs"
          ],
          [
           "Spurs"
          ],
          [
           "Spurs"
          ],
          [
           "Spurs"
          ],
          [
           "Spurs"
          ],
          [
           "West Brom"
          ],
          [
           "West Brom"
          ],
          [
           "West Brom"
          ],
          [
           "West Brom"
          ],
          [
           "West Brom"
          ],
          [
           "West Brom"
          ],
          [
           "West Brom"
          ],
          [
           "West Brom"
          ],
          [
           "West Brom"
          ],
          [
           "West Ham"
          ],
          [
           "West Ham"
          ],
          [
           "West Ham"
          ],
          [
           "West Ham"
          ],
          [
           "West Ham"
          ],
          [
           "West Ham"
          ],
          [
           "West Ham"
          ],
          [
           "West Ham"
          ],
          [
           "West Ham"
          ],
          [
           "West Ham"
          ],
          [
           "West Ham"
          ],
          [
           "Wolves"
          ],
          [
           "Wolves"
          ],
          [
           "Wolves"
          ],
          [
           "Wolves"
          ],
          [
           "Wolves"
          ],
          [
           "Wolves"
          ],
          [
           "Wolves"
          ],
          [
           "Wolves"
          ],
          [
           "Wolves"
          ]
         ],
         "hovertemplate": "<b>%{hovertext}</b><br><br>Player Type=Midfielder<br>points_per_game=%{x}<br>now_cost=%{y}<br>size=%{marker.size}<br>team_name=%{customdata[0]}<extra></extra>",
         "hovertext": [
          "Mesut Özil",
          "Pierre-Emerick Aubameyang",
          "Granit Xhaka",
          "Nicolas Pépé",
          "Lucas Torreira",
          "Joseph Willock",
          "Reiss Nelson",
          "Emile Smith Rowe",
          "Bukayo Saka",
          "Matteo Guendouzi",
          "Gabriel Teodoro Martinelli",
          "Willian Willian",
          "Henri Lansbury",
          "Conor Hourihane",
          "José Ignacio Jota",
          "Jack Grealish",
          "John McGinn",
          "Mahmoud Ahmed Trézéguet",
          "Marvelous Nakamba",
          "Anwar El Ghazi",
          "Douglas Luiz Douglas Luiz",
          "Adam Lallana",
          "Dale Stephens",
          "Pascal Groß",
          "Davy Pröpper",
          "Aaron Mooy",
          "Solomon March",
          "Leandro Trossard",
          "Alireza Jahanbakhsh",
          "José Izquierdo",
          "Yves Bissouma",
          "Steven Alzate",
          "Alexis Mac Allister",
          "Jack Cork",
          "Ashley Westwood",
          "Johann Berg Gudmundsson",
          "Robbie Brady",
          "Josh Brownhill",
          "Dwight McNeil",
          "Jorge Luiz Jorginho",
          "Ross Barkley",
          "Mateo Kovacic",
          "N'Golo Kanté",
          "Hakim Ziyech",
          "Ruben Loftus-Cheek",
          "Christian Pulisic",
          "Mason Mount",
          "Callum Hudson-Odoi",
          "Billy Gilmour",
          "James McArthur",
          "James McCarthy",
          "Cheikhou Kouyaté",
          "Andros Townsend",
          "Luka Milivojevic",
          "Wilfried Zaha",
          "Jeffrey Schlupp",
          "Max Meyer",
          "Jairo Riedewald",
          "Brandon Pierrick",
          "Theo Walcott",
          "Fabian Delph",
          "Gylfi Sigurdsson",
          "Bernard Bernard",
          "André Filipe André Gomes",
          "Alex Iwobi",
          "Jean-Philippe Gbamin",
          "Tom Davies",
          "Anthony Gordon",
          "Kevin McDonald",
          "Stefan Johansen",
          "Tom Cairney",
          "Anthony Knockaert",
          "Neeskens Kebano",
          "Ivan Ricardo Cavaleiro",
          "Josh Onomah",
          "Jean Michaël Seri",
          "Aboubakar Kamara",
          "André-Frank Anguissa",
          "Adrien Silva",
          "Marc Albrighton",
          "Matty James",
          "Dennis Praet",
          "Youri Tielemans",
          "Ayoze Pérez",
          "Demarai Gray",
          "James Maddison",
          "Hamza Choudhury",
          "Harvey Barnes",
          "Wilfred Ndidi",
          "Pablo Hernández",
          "Mateusz Klich",
          "Adam Forshaw",
          "Jack Harrison",
          "Kalvin Phillips",
          "Hélder Wander Costa",
          "Tyler Roberts",
          "Jay-Roy Grot",
          "Ian Carlo Poveda-Ocampo",
          "Jamie Shackleton",
          "Jordan Stevens",
          "James Milner",
          "Georginio Wijnaldum",
          "Jordan Henderson",
          "Xherdan Shaqiri",
          "Alex Chamberlain",
          "Sadio Mané",
          "Fabio Henrique Fabinho",
          "Mohamed Salah",
          "Harry Harry Wilson",
          "Takumi Minamino",
          "Naby Keita",
          "Curtis Jones",
          "Harvey Elliott",
          "Ilkay Gündogan",
          "Kevin De Bruyne",
          "Riyad Mahrez",
          "Raheem Sterling",
          "Bernardo Mota Bernardo Silva",
          "Phil Foden",
          "Tommy Doyle",
          "Rodrigo Rodrigo",
          "Ferran Torres",
          "Juan Mata",
          "Nemanja Matic",
          "Paul Pogba",
          "Frederico Fred",
          "Jesse Lingard",
          "Bruno Miguel Fernandes",
          "Andreas Pereira",
          "Marcus Rashford",
          "Scott McTominay",
          "Daniel James",
          "Mason Greenwood",
          "Tahith Chong",
          "James Garner",
          "Jonjo Shelvey",
          "Matt Ritchie",
          "Christian Atsu",
          "Isaac Hayden",
          "Rolando Aarons",
          "Allan Saint-Maximin",
          "Miguel Almirón",
          "John Fleck",
          "Oliver Norwood",
          "John Lundstram",
          "Ben Osborn",
          "Sander Berge",
          "Luke Freeman",
          "Oriol Oriol Romeu",
          "Nathan Redmond",
          "Stuart Armstrong",
          "James Ward-Prowse",
          "Sofiane Boufal",
          "Harrison Reed",
          "Josh Sims",
          "William Smallbone",
          "Moussa Djenepo",
          "Moussa Sissoko",
          "Erik Lamela",
          "Heung-Min Son",
          "Lucas Lucas Moura",
          "Bamidele Alli",
          "Pierre-Emile Højbjerg",
          "Harry Winks",
          "Steven Bergwijn",
          "Gedson Fernandes",
          "Giovani Lo Celso",
          "Oliver Skipp",
          "Tanguy Ndombele",
          "Jake Livermore",
          "Kamil Grosicki",
          "Matt Phillips",
          "Romaine Sawyers",
          "Jonathan Leko",
          "Kyle Edwards",
          "Sam Field",
          "Oliver Burke",
          "Rekeem Harper",
          "Mark Noble",
          "Robert Snodgrass",
          "Jack Wilshere",
          "Andriy Yarmolenko",
          "Manuel Lanzini",
          "Felipe Anderson Felipe Anderson",
          "Jarrod Bowen",
          "Grady Diangana",
          "Declan Rice",
          "Tomas Soucek",
          "Pablo Fornals",
          "João Filipe Iria Moutinho",
          "Leander Dendoncker",
          "Adama Traoré",
          "Rúben Diogo Neves",
          "Diogo Jota",
          "Daniel Podence",
          "Morgan Gibbs-White",
          "Pedro Neto",
          "Bruno André Jordao"
         ],
         "legendgroup": "Midfielder",
         "marker": {
          "color": "#636efa",
          "size": [
           0.0,
           0.0,
           0.0,
           0.0,
           0.0,
           0.0,
           0.0,
           0.0,
           0.0,
           0.0,
           0.0,
           0.0,
           0.0,
           0.0,
           0.0,
           0.0,
           0.0,
           0.0,
           0.0,
           0.0,
           0.0,
           0.0,
           0.0,
           0.0,
           0.0,
           0.0,
           0.0,
           0.0,
           0.0,
           0.0,
           0.0,
           0.0,
           0.0,
           0.0,
           0.0,
           0.0,
           0.0,
           0.0,
           0.0,
           0.0,
           0.0,
           0.0,
           0.0,
           0.0,
           0.0,
           0.0,
           0.0,
           0.0,
           0.0,
           0.0,
           0.0,
           0.0,
           0.0,
           0.0,
           0.0,
           0.0,
           0.0,
           0.0,
           0.0,
           0.0,
           0.0,
           0.0,
           0.0,
           0.0,
           0.0,
           0.0,
           0.0,
           0.0,
           0.0,
           0.0,
           0.0,
           0.0,
           0.0,
           0.0,
           0.0,
           0.0,
           0.0,
           0.0,
           0.0,
           0.0,
           0.0,
           0.0,
           0.0,
           0.0,
           0.0,
           0.0,
           0.0,
           0.0,
           0.0,
           0.0,
           0.0,
           0.0,
           0.0,
           0.0,
           0.0,
           0.0,
           0.0,
           0.0,
           0.0,
           0.0,
           0.0,
           0.0,
           0.0,
           0.0,
           0.0,
           0.0,
           0.0,
           0.0,
           0.0,
           0.0,
           0.0,
           0.0,
           0.0,
           0.0,
           0.0,
           0.0,
           0.0,
           0.0,
           0.0,
           0.0,
           0.0,
           0.0,
           0.0,
           0.0,
           0.0,
           0.0,
           0.0,
           0.0,
           0.0,
           0.0,
           0.0,
           0.0,
           0.0,
           0.0,
           0.0,
           0.0,
           0.0,
           0.0,
           0.0,
           0.0,
           0.0,
           0.0,
           0.0,
           0.0,
           0.0,
           0.0,
           0.0,
           0.0,
           0.0,
           0.0,
           0.0,
           0.0,
           0.0,
           0.0,
           0.0,
           0.0,
           0.0,
           0.0,
           0.0,
           0.0,
           0.0,
           0.0,
           0.0,
           0.0,
           0.0,
           0.0,
           0.0,
           0.0,
           0.0,
           0.0,
           0.0,
           0.0,
           0.0,
           0.0,
           0.0,
           0.0,
           0.0,
           0.0,
           0.0,
           0.0,
           0.0,
           0.0,
           0.0,
           0.0,
           0.0,
           0.0,
           0.0,
           0.0,
           0.0,
           0.0,
           0.0,
           0.0,
           0.0,
           0.0,
           0.0,
           0.0,
           0.0,
           0.0
          ],
          "sizemode": "area",
          "sizeref": 0.0,
          "symbol": "circle"
         },
         "mode": "markers",
         "name": "Midfielder",
         "orientation": "v",
         "showlegend": true,
         "type": "scatter",
         "x": [
          "0.0",
          "0.0",
          "0.0",
          "0.0",
          "0.0",
          "0.0",
          "0.0",
          "0.0",
          "0.0",
          "0.0",
          "0.0",
          "0.0",
          "0.0",
          "0.0",
          "0.0",
          "0.0",
          "0.0",
          "0.0",
          "0.0",
          "0.0",
          "0.0",
          "0.0",
          "0.0",
          "0.0",
          "0.0",
          "0.0",
          "0.0",
          "0.0",
          "0.0",
          "0.0",
          "0.0",
          "0.0",
          "0.0",
          "0.0",
          "0.0",
          "0.0",
          "0.0",
          "0.0",
          "0.0",
          "0.0",
          "0.0",
          "0.0",
          "0.0",
          "0.0",
          "0.0",
          "0.0",
          "0.0",
          "0.0",
          "0.0",
          "0.0",
          "0.0",
          "0.0",
          "0.0",
          "0.0",
          "0.0",
          "0.0",
          "0.0",
          "0.0",
          "0.0",
          "0.0",
          "0.0",
          "0.0",
          "0.0",
          "0.0",
          "0.0",
          "0.0",
          "0.0",
          "0.0",
          "0.0",
          "0.0",
          "0.0",
          "0.0",
          "0.0",
          "0.0",
          "0.0",
          "0.0",
          "0.0",
          "0.0",
          "0.0",
          "0.0",
          "0.0",
          "0.0",
          "0.0",
          "0.0",
          "0.0",
          "0.0",
          "0.0",
          "0.0",
          "0.0",
          "0.0",
          "0.0",
          "0.0",
          "0.0",
          "0.0",
          "0.0",
          "0.0",
          "0.0",
          "0.0",
          "0.0",
          "0.0",
          "0.0",
          "0.0",
          "0.0",
          "0.0",
          "0.0",
          "0.0",
          "0.0",
          "0.0",
          "0.0",
          "0.0",
          "0.0",
          "0.0",
          "0.0",
          "0.0",
          "0.0",
          "0.0",
          "0.0",
          "0.0",
          "0.0",
          "0.0",
          "0.0",
          "0.0",
          "0.0",
          "0.0",
          "0.0",
          "0.0",
          "0.0",
          "0.0",
          "0.0",
          "0.0",
          "0.0",
          "0.0",
          "0.0",
          "0.0",
          "0.0",
          "0.0",
          "0.0",
          "0.0",
          "0.0",
          "0.0",
          "0.0",
          "0.0",
          "0.0",
          "0.0",
          "0.0",
          "0.0",
          "0.0",
          "0.0",
          "0.0",
          "0.0",
          "0.0",
          "0.0",
          "0.0",
          "0.0",
          "0.0",
          "0.0",
          "0.0",
          "0.0",
          "0.0",
          "0.0",
          "0.0",
          "0.0",
          "0.0",
          "0.0",
          "0.0",
          "0.0",
          "0.0",
          "0.0",
          "0.0",
          "0.0",
          "0.0",
          "0.0",
          "0.0",
          "0.0",
          "0.0",
          "0.0",
          "0.0",
          "0.0",
          "0.0",
          "0.0",
          "0.0",
          "0.0",
          "0.0",
          "0.0",
          "0.0",
          "0.0",
          "0.0",
          "0.0",
          "0.0",
          "0.0",
          "0.0",
          "0.0",
          "0.0",
          "0.0",
          "0.0",
          "0.0",
          "0.0",
          "0.0"
         ],
         "xaxis": "x",
         "y": [
          7.0,
          12.0,
          5.5,
          8.0,
          5.0,
          5.0,
          5.5,
          4.5,
          5.5,
          5.0,
          5.0,
          8.0,
          4.5,
          6.0,
          6.0,
          7.0,
          5.5,
          5.5,
          4.5,
          6.0,
          5.0,
          6.5,
          4.5,
          6.0,
          5.0,
          5.0,
          5.0,
          6.0,
          5.5,
          5.5,
          4.5,
          4.5,
          5.5,
          5.0,
          5.5,
          5.5,
          5.0,
          5.0,
          6.0,
          5.0,
          6.0,
          5.5,
          5.0,
          8.0,
          6.0,
          8.5,
          7.0,
          6.0,
          4.5,
          5.5,
          4.5,
          5.0,
          6.0,
          6.0,
          7.0,
          5.5,
          5.0,
          4.5,
          4.5,
          6.0,
          5.0,
          7.0,
          6.0,
          5.5,
          6.0,
          5.0,
          5.5,
          4.5,
          5.0,
          5.0,
          5.5,
          5.5,
          5.0,
          5.5,
          5.0,
          5.0,
          5.0,
          4.5,
          4.5,
          5.5,
          4.5,
          5.5,
          6.5,
          6.5,
          5.5,
          7.0,
          5.0,
          7.0,
          5.0,
          6.0,
          5.5,
          5.0,
          5.5,
          5.0,
          5.5,
          5.0,
          5.0,
          4.5,
          5.0,
          4.5,
          5.5,
          5.5,
          5.5,
          6.5,
          6.5,
          12.0,
          5.5,
          12.0,
          5.5,
          6.5,
          5.5,
          4.5,
          4.5,
          5.5,
          11.5,
          8.5,
          11.5,
          7.5,
          6.5,
          4.5,
          5.5,
          7.0,
          6.0,
          5.0,
          8.0,
          5.5,
          6.0,
          10.5,
          5.0,
          9.5,
          5.0,
          6.5,
          7.5,
          4.5,
          4.5,
          5.5,
          5.0,
          5.5,
          5.0,
          5.0,
          5.5,
          6.0,
          6.0,
          5.0,
          5.5,
          5.0,
          5.0,
          5.0,
          4.5,
          6.5,
          5.5,
          6.0,
          5.5,
          4.5,
          4.5,
          4.5,
          5.5,
          5.0,
          6.0,
          9.0,
          7.0,
          8.0,
          5.0,
          5.5,
          7.5,
          5.0,
          7.0,
          4.5,
          6.0,
          5.0,
          5.5,
          5.5,
          5.0,
          4.5,
          5.0,
          5.0,
          4.5,
          4.5,
          5.0,
          6.0,
          5.0,
          6.0,
          6.5,
          6.5,
          6.5,
          5.5,
          5.0,
          5.0,
          6.5,
          5.5,
          5.0,
          6.5,
          5.5,
          6.5,
          5.5,
          5.0,
          5.5,
          4.5
         ],
         "yaxis": "y"
        },
        {
         "customdata": [
          [
           "Arsenal"
          ],
          [
           "Arsenal"
          ],
          [
           "Arsenal"
          ],
          [
           "Arsenal"
          ],
          [
           "Arsenal"
          ],
          [
           "Arsenal"
          ],
          [
           "Arsenal"
          ],
          [
           "Arsenal"
          ],
          [
           "Arsenal"
          ],
          [
           "Arsenal"
          ],
          [
           "Arsenal"
          ],
          [
           "Arsenal"
          ],
          [
           "Aston Villa"
          ],
          [
           "Aston Villa"
          ],
          [
           "Aston Villa"
          ],
          [
           "Aston Villa"
          ],
          [
           "Aston Villa"
          ],
          [
           "Aston Villa"
          ],
          [
           "Aston Villa"
          ],
          [
           "Aston Villa"
          ],
          [
           "Aston Villa"
          ],
          [
           "Brighton"
          ],
          [
           "Brighton"
          ],
          [
           "Brighton"
          ],
          [
           "Brighton"
          ],
          [
           "Brighton"
          ],
          [
           "Brighton"
          ],
          [
           "Brighton"
          ],
          [
           "Brighton"
          ],
          [
           "Brighton"
          ],
          [
           "Brighton"
          ],
          [
           "Burnley"
          ],
          [
           "Burnley"
          ],
          [
           "Burnley"
          ],
          [
           "Burnley"
          ],
          [
           "Burnley"
          ],
          [
           "Burnley"
          ],
          [
           "Burnley"
          ],
          [
           "Burnley"
          ],
          [
           "Chelsea"
          ],
          [
           "Chelsea"
          ],
          [
           "Chelsea"
          ],
          [
           "Chelsea"
          ],
          [
           "Chelsea"
          ],
          [
           "Chelsea"
          ],
          [
           "Chelsea"
          ],
          [
           "Chelsea"
          ],
          [
           "Crystal Palace"
          ],
          [
           "Crystal Palace"
          ],
          [
           "Crystal Palace"
          ],
          [
           "Crystal Palace"
          ],
          [
           "Crystal Palace"
          ],
          [
           "Crystal Palace"
          ],
          [
           "Crystal Palace"
          ],
          [
           "Crystal Palace"
          ],
          [
           "Everton"
          ],
          [
           "Everton"
          ],
          [
           "Everton"
          ],
          [
           "Everton"
          ],
          [
           "Everton"
          ],
          [
           "Everton"
          ],
          [
           "Everton"
          ],
          [
           "Fulham"
          ],
          [
           "Fulham"
          ],
          [
           "Fulham"
          ],
          [
           "Fulham"
          ],
          [
           "Fulham"
          ],
          [
           "Fulham"
          ],
          [
           "Fulham"
          ],
          [
           "Leicester"
          ],
          [
           "Leicester"
          ],
          [
           "Leicester"
          ],
          [
           "Leicester"
          ],
          [
           "Leicester"
          ],
          [
           "Leicester"
          ],
          [
           "Leicester"
          ],
          [
           "Leicester"
          ],
          [
           "Leicester"
          ],
          [
           "Leicester"
          ],
          [
           "Leeds"
          ],
          [
           "Leeds"
          ],
          [
           "Leeds"
          ],
          [
           "Leeds"
          ],
          [
           "Leeds"
          ],
          [
           "Leeds"
          ],
          [
           "Leeds"
          ],
          [
           "Leeds"
          ],
          [
           "Liverpool"
          ],
          [
           "Liverpool"
          ],
          [
           "Liverpool"
          ],
          [
           "Liverpool"
          ],
          [
           "Liverpool"
          ],
          [
           "Liverpool"
          ],
          [
           "Liverpool"
          ],
          [
           "Man City"
          ],
          [
           "Man City"
          ],
          [
           "Man City"
          ],
          [
           "Man City"
          ],
          [
           "Man City"
          ],
          [
           "Man City"
          ],
          [
           "Man City"
          ],
          [
           "Man City"
          ],
          [
           "Man City"
          ],
          [
           "Man City"
          ],
          [
           "Man Utd"
          ],
          [
           "Man Utd"
          ],
          [
           "Man Utd"
          ],
          [
           "Man Utd"
          ],
          [
           "Man Utd"
          ],
          [
           "Man Utd"
          ],
          [
           "Man Utd"
          ],
          [
           "Man Utd"
          ],
          [
           "Man Utd"
          ],
          [
           "Man Utd"
          ],
          [
           "Man Utd"
          ],
          [
           "Man Utd"
          ],
          [
           "Man Utd"
          ],
          [
           "Newcastle"
          ],
          [
           "Newcastle"
          ],
          [
           "Newcastle"
          ],
          [
           "Newcastle"
          ],
          [
           "Newcastle"
          ],
          [
           "Newcastle"
          ],
          [
           "Newcastle"
          ],
          [
           "Newcastle"
          ],
          [
           "Newcastle"
          ],
          [
           "Newcastle"
          ],
          [
           "Sheffield Utd"
          ],
          [
           "Sheffield Utd"
          ],
          [
           "Sheffield Utd"
          ],
          [
           "Sheffield Utd"
          ],
          [
           "Sheffield Utd"
          ],
          [
           "Sheffield Utd"
          ],
          [
           "Southampton"
          ],
          [
           "Southampton"
          ],
          [
           "Southampton"
          ],
          [
           "Southampton"
          ],
          [
           "Southampton"
          ],
          [
           "Southampton"
          ],
          [
           "Southampton"
          ],
          [
           "Southampton"
          ],
          [
           "Spurs"
          ],
          [
           "Spurs"
          ],
          [
           "Spurs"
          ],
          [
           "Spurs"
          ],
          [
           "Spurs"
          ],
          [
           "Spurs"
          ],
          [
           "Spurs"
          ],
          [
           "Spurs"
          ],
          [
           "Spurs"
          ],
          [
           "West Brom"
          ],
          [
           "West Brom"
          ],
          [
           "West Brom"
          ],
          [
           "West Brom"
          ],
          [
           "West Brom"
          ],
          [
           "West Brom"
          ],
          [
           "West Brom"
          ],
          [
           "West Ham"
          ],
          [
           "West Ham"
          ],
          [
           "West Ham"
          ],
          [
           "West Ham"
          ],
          [
           "West Ham"
          ],
          [
           "West Ham"
          ],
          [
           "West Ham"
          ],
          [
           "Wolves"
          ],
          [
           "Wolves"
          ],
          [
           "Wolves"
          ],
          [
           "Wolves"
          ],
          [
           "Wolves"
          ],
          [
           "Wolves"
          ],
          [
           "Wolves"
          ],
          [
           "Wolves"
          ],
          [
           "Wolves"
          ]
         ],
         "hovertemplate": "<b>%{hovertext}</b><br><br>Player Type=Defender<br>points_per_game=%{x}<br>now_cost=%{y}<br>size=%{marker.size}<br>team_name=%{customdata[0]}<extra></extra>",
         "hovertext": [
          "Sokratis Sokratis",
          "David David Luiz",
          "Cédric Cédric",
          "Shkodran Mustafi",
          "Pablo Marí",
          "Héctor Bellerín",
          "Calum Chambers",
          "Sead Kolasinac",
          "Ainsley Maitland-Niles",
          "Rob Holding",
          "Kieran Tierney",
          "William Saliba",
          "Ahmed El Mohamady",
          "Neil Taylor",
          "Bjorn Engels",
          "Kortney Hause",
          "Tyrone Mings",
          "Matt Targett",
          "James Bree",
          "Ezri Konsa",
          "Frédéric Guilbert",
          "Shane Duffy",
          "Dan Burn",
          "Lewis Dunk",
          "Martín Montoya",
          "Adam Webster",
          "Joël Veltman",
          "Matthew Clarke",
          "Ben White",
          "Bernardo Bernardo",
          "Tariq Lamptey",
          "James Tarkowski",
          "Phil Bardsley",
          "Erik Pieters",
          "Kevin Long",
          "Ben Mee",
          "Matthew Lowton",
          "Ben Gibson",
          "Charlie Taylor",
          "César Azpilicueta",
          "Marcos Alonso",
          "Antonio Rüdiger",
          "Kurt Zouma",
          "Emerson Emerson",
          "Andreas Christensen",
          "Fikayo Tomori",
          "Reece James",
          "Gary Cahill",
          "Mamadou Sakho",
          "James Tomkins",
          "Joel Ward",
          "Martin Kelly",
          "Patrick van Aanholt",
          "Nathan Ferguson",
          "Tyrick Mitchell",
          "Seamus Coleman",
          "Lucas Digne",
          "Michael Keane",
          "Jonjoe Kenny",
          "Yerry Mina",
          "Mason Holgate",
          "Jarrad Branthwaite",
          "Maxime Le Marchand",
          "Tim Ream",
          "Michael Hector",
          "Cyrus Christie",
          "Joe Bryan",
          "Alfie Mawson",
          "Zeze Steven Sessegnon",
          "Wes Morgan",
          "Christian Fuchs",
          "Jonny Evans",
          "Ricardo Domingos Pereira",
          "Daniel Amartey",
          "Benjamin Chilwell",
          "Filip Benkovic",
          "Çaglar Söyüncü",
          "James Justin",
          "Luke Thomas",
          "Liam Cooper",
          "Barry Douglas",
          "Luke Ayling",
          "Stuart Dallas",
          "Ezgjan Alioski",
          "Pascal Struijk",
          "Leif Davis",
          "Oliver Casey",
          "Konstantinos Tsimikas",
          "Joel Matip",
          "Virgil van Dijk",
          "Andrew Robertson",
          "Trent Alexander-Arnold",
          "Joseph Gomez",
          "Neco Williams",
          "Fernando Fernandinho",
          "Nicolás Otamendi",
          "Kyle Walker",
          "John Stones",
          "Benjamin Mendy",
          "João Pedro Cavaco Cancelo",
          "Nathan Aké",
          "Aymeric Laporte",
          "Oleksandr Zinchenko",
          "Eric Garcia",
          "Chris Smalling",
          "Marcos Rojo",
          "Phil Jones",
          "Harry Maguire",
          "Luke Shaw",
          "Axel Tuanzebe",
          "Victor Lindelöf",
          "Eric Bailly",
          "Timothy Fosu-Mensah",
          "Aaron Wan-Bissaka",
          "José Diogo Dalot",
          "Brandon Williams",
          "Teden Mengi",
          "Federico Fernández",
          "Ciaran Clark",
          "Florian Lejeune",
          "Jamaal Lascelles",
          "Paul Dummett",
          "Javier Manquillo",
          "Emil Krafth",
          "Fabian Schär",
          "DeAndre Yedlin",
          "Kelland Watts",
          "Chris Basham",
          "Enda Stevens",
          "George Baldock",
          "Jack Jack Robinson",
          "John Egan",
          "Jack O'Connell",
          "Ryan Bertrand",
          "Jack Stephens",
          "Jannik Vestergaard",
          "Kyle Walker-Peters",
          "Jan Bednarek",
          "Yan Valery",
          "Jake Vokins",
          "Mohammed Salisu",
          "Danny Rose",
          "Toby Alderweireld",
          "Serge Aurier",
          "Eric Dier",
          "Ben Davies",
          "Davinson Sánchez",
          "Ryan Sessegnon",
          "Japhet Tanganga",
          "Juan Foyth",
          "Kieran Gibbs",
          "Kyle Bartley",
          "Ahmed El-Sayed Hegazi",
          "Conor Townsend",
          "Oluwasemilogo Adesewo Ibidapo Ajayi",
          "Darnell Furlong",
          "Dara O'Shea",
          "Angelo Ogbonna",
          "Aaron Cresswell",
          "Ryan Fredericks",
          "Arthur Masuaku",
          "Fabián Balbuena",
          "Issa Diop",
          "Ben Johnson",
          "Ryan Bennett",
          "Matt Doherty",
          "Willy Boly",
          "Conor Coady",
          "Romain Saïss",
          "Jonathan Jonny",
          "Oskar Buur",
          "Max Kilman",
          "Rúben Gonçalo Vinagre"
         ],
         "legendgroup": "Defender",
         "marker": {
          "color": "#EF553B",
          "size": [
           0.0,
           0.0,
           0.0,
           0.0,
           0.0,
           0.0,
           0.0,
           0.0,
           0.0,
           0.0,
           0.0,
           0.0,
           0.0,
           0.0,
           0.0,
           0.0,
           0.0,
           0.0,
           0.0,
           0.0,
           0.0,
           0.0,
           0.0,
           0.0,
           0.0,
           0.0,
           0.0,
           0.0,
           0.0,
           0.0,
           0.0,
           0.0,
           0.0,
           0.0,
           0.0,
           0.0,
           0.0,
           0.0,
           0.0,
           0.0,
           0.0,
           0.0,
           0.0,
           0.0,
           0.0,
           0.0,
           0.0,
           0.0,
           0.0,
           0.0,
           0.0,
           0.0,
           0.0,
           0.0,
           0.0,
           0.0,
           0.0,
           0.0,
           0.0,
           0.0,
           0.0,
           0.0,
           0.0,
           0.0,
           0.0,
           0.0,
           0.0,
           0.0,
           0.0,
           0.0,
           0.0,
           0.0,
           0.0,
           0.0,
           0.0,
           0.0,
           0.0,
           0.0,
           0.0,
           0.0,
           0.0,
           0.0,
           0.0,
           0.0,
           0.0,
           0.0,
           0.0,
           0.0,
           0.0,
           0.0,
           0.0,
           0.0,
           0.0,
           0.0,
           0.0,
           0.0,
           0.0,
           0.0,
           0.0,
           0.0,
           0.0,
           0.0,
           0.0,
           0.0,
           0.0,
           0.0,
           0.0,
           0.0,
           0.0,
           0.0,
           0.0,
           0.0,
           0.0,
           0.0,
           0.0,
           0.0,
           0.0,
           0.0,
           0.0,
           0.0,
           0.0,
           0.0,
           0.0,
           0.0,
           0.0,
           0.0,
           0.0,
           0.0,
           0.0,
           0.0,
           0.0,
           0.0,
           0.0,
           0.0,
           0.0,
           0.0,
           0.0,
           0.0,
           0.0,
           0.0,
           0.0,
           0.0,
           0.0,
           0.0,
           0.0,
           0.0,
           0.0,
           0.0,
           0.0,
           0.0,
           0.0,
           0.0,
           0.0,
           0.0,
           0.0,
           0.0,
           0.0,
           0.0,
           0.0,
           0.0,
           0.0,
           0.0,
           0.0,
           0.0,
           0.0,
           0.0,
           0.0,
           0.0,
           0.0,
           0.0,
           0.0,
           0.0,
           0.0
          ],
          "sizemode": "area",
          "sizeref": 0.0,
          "symbol": "circle"
         },
         "mode": "markers",
         "name": "Defender",
         "orientation": "v",
         "showlegend": true,
         "type": "scatter",
         "x": [
          "0.0",
          "0.0",
          "0.0",
          "0.0",
          "0.0",
          "0.0",
          "0.0",
          "0.0",
          "0.0",
          "0.0",
          "0.0",
          "0.0",
          "0.0",
          "0.0",
          "0.0",
          "0.0",
          "0.0",
          "0.0",
          "0.0",
          "0.0",
          "0.0",
          "0.0",
          "0.0",
          "0.0",
          "0.0",
          "0.0",
          "0.0",
          "0.0",
          "0.0",
          "0.0",
          "0.0",
          "0.0",
          "0.0",
          "0.0",
          "0.0",
          "0.0",
          "0.0",
          "0.0",
          "0.0",
          "0.0",
          "0.0",
          "0.0",
          "0.0",
          "0.0",
          "0.0",
          "0.0",
          "0.0",
          "0.0",
          "0.0",
          "0.0",
          "0.0",
          "0.0",
          "0.0",
          "0.0",
          "0.0",
          "0.0",
          "0.0",
          "0.0",
          "0.0",
          "0.0",
          "0.0",
          "0.0",
          "0.0",
          "0.0",
          "0.0",
          "0.0",
          "0.0",
          "0.0",
          "0.0",
          "0.0",
          "0.0",
          "0.0",
          "0.0",
          "0.0",
          "0.0",
          "0.0",
          "0.0",
          "0.0",
          "0.0",
          "0.0",
          "0.0",
          "0.0",
          "0.0",
          "0.0",
          "0.0",
          "0.0",
          "0.0",
          "0.0",
          "0.0",
          "0.0",
          "0.0",
          "0.0",
          "0.0",
          "0.0",
          "0.0",
          "0.0",
          "0.0",
          "0.0",
          "0.0",
          "0.0",
          "0.0",
          "0.0",
          "0.0",
          "0.0",
          "0.0",
          "0.0",
          "0.0",
          "0.0",
          "0.0",
          "0.0",
          "0.0",
          "0.0",
          "0.0",
          "0.0",
          "0.0",
          "0.0",
          "0.0",
          "0.0",
          "0.0",
          "0.0",
          "0.0",
          "0.0",
          "0.0",
          "0.0",
          "0.0",
          "0.0",
          "0.0",
          "0.0",
          "0.0",
          "0.0",
          "0.0",
          "0.0",
          "0.0",
          "0.0",
          "0.0",
          "0.0",
          "0.0",
          "0.0",
          "0.0",
          "0.0",
          "0.0",
          "0.0",
          "0.0",
          "0.0",
          "0.0",
          "0.0",
          "0.0",
          "0.0",
          "0.0",
          "0.0",
          "0.0",
          "0.0",
          "0.0",
          "0.0",
          "0.0",
          "0.0",
          "0.0",
          "0.0",
          "0.0",
          "0.0",
          "0.0",
          "0.0",
          "0.0",
          "0.0",
          "0.0",
          "0.0",
          "0.0",
          "0.0",
          "0.0",
          "0.0",
          "0.0",
          "0.0",
          "0.0"
         ],
         "xaxis": "x",
         "y": [
          5.0,
          5.5,
          5.0,
          5.0,
          4.5,
          5.0,
          4.5,
          5.0,
          5.0,
          4.5,
          5.5,
          4.5,
          4.5,
          4.5,
          4.5,
          4.5,
          5.0,
          4.5,
          4.5,
          4.5,
          4.5,
          4.5,
          4.5,
          5.0,
          4.5,
          4.5,
          4.5,
          4.5,
          4.5,
          4.0,
          4.5,
          5.5,
          4.5,
          4.5,
          4.5,
          5.0,
          4.5,
          4.0,
          4.5,
          6.0,
          6.0,
          5.0,
          5.0,
          5.0,
          5.0,
          5.0,
          5.0,
          4.5,
          4.5,
          4.5,
          4.5,
          4.5,
          5.5,
          4.0,
          4.0,
          5.0,
          6.0,
          5.0,
          4.5,
          5.5,
          5.0,
          4.0,
          4.5,
          4.5,
          4.5,
          4.5,
          5.0,
          4.5,
          4.5,
          4.5,
          4.5,
          5.5,
          6.0,
          4.0,
          5.5,
          4.5,
          5.5,
          4.5,
          4.5,
          4.5,
          4.0,
          4.5,
          4.5,
          4.5,
          4.0,
          4.0,
          4.0,
          5.0,
          5.5,
          6.5,
          7.0,
          7.5,
          5.5,
          4.0,
          5.5,
          5.0,
          6.0,
          5.0,
          6.0,
          5.5,
          5.5,
          6.0,
          5.5,
          5.0,
          5.0,
          5.0,
          5.0,
          5.5,
          5.0,
          4.5,
          5.0,
          5.0,
          4.5,
          5.5,
          5.0,
          4.5,
          4.0,
          5.0,
          4.5,
          4.5,
          4.5,
          4.5,
          4.5,
          4.5,
          5.0,
          4.5,
          4.0,
          5.0,
          5.5,
          5.5,
          4.5,
          5.0,
          5.0,
          5.0,
          5.0,
          4.5,
          4.5,
          4.5,
          5.0,
          4.0,
          4.5,
          5.0,
          5.5,
          5.5,
          5.0,
          5.0,
          5.5,
          5.0,
          5.0,
          4.5,
          4.5,
          4.5,
          4.5,
          4.5,
          5.0,
          4.5,
          4.5,
          5.0,
          5.0,
          4.5,
          4.5,
          4.5,
          4.5,
          4.0,
          4.5,
          6.0,
          5.5,
          5.0,
          5.0,
          5.5,
          4.0,
          4.0,
          4.5
         ],
         "yaxis": "y"
        },
        {
         "customdata": [
          [
           "Arsenal"
          ],
          [
           "Arsenal"
          ],
          [
           "Aston Villa"
          ],
          [
           "Aston Villa"
          ],
          [
           "Aston Villa"
          ],
          [
           "Aston Villa"
          ],
          [
           "Brighton"
          ],
          [
           "Brighton"
          ],
          [
           "Brighton"
          ],
          [
           "Brighton"
          ],
          [
           "Burnley"
          ],
          [
           "Burnley"
          ],
          [
           "Burnley"
          ],
          [
           "Burnley"
          ],
          [
           "Chelsea"
          ],
          [
           "Chelsea"
          ],
          [
           "Chelsea"
          ],
          [
           "Chelsea"
          ],
          [
           "Crystal Palace"
          ],
          [
           "Crystal Palace"
          ],
          [
           "Crystal Palace"
          ],
          [
           "Everton"
          ],
          [
           "Everton"
          ],
          [
           "Everton"
          ],
          [
           "Everton"
          ],
          [
           "Fulham"
          ],
          [
           "Fulham"
          ],
          [
           "Leicester"
          ],
          [
           "Leicester"
          ],
          [
           "Leeds"
          ],
          [
           "Liverpool"
          ],
          [
           "Liverpool"
          ],
          [
           "Liverpool"
          ],
          [
           "Man City"
          ],
          [
           "Man City"
          ],
          [
           "Man Utd"
          ],
          [
           "Man Utd"
          ],
          [
           "Newcastle"
          ],
          [
           "Newcastle"
          ],
          [
           "Newcastle"
          ],
          [
           "Newcastle"
          ],
          [
           "Sheffield Utd"
          ],
          [
           "Sheffield Utd"
          ],
          [
           "Sheffield Utd"
          ],
          [
           "Sheffield Utd"
          ],
          [
           "Sheffield Utd"
          ],
          [
           "Southampton"
          ],
          [
           "Southampton"
          ],
          [
           "Southampton"
          ],
          [
           "Southampton"
          ],
          [
           "Spurs"
          ],
          [
           "West Brom"
          ],
          [
           "West Brom"
          ],
          [
           "West Brom"
          ],
          [
           "West Ham"
          ],
          [
           "West Ham"
          ],
          [
           "West Ham"
          ],
          [
           "West Ham"
          ],
          [
           "Wolves"
          ],
          [
           "Wolves"
          ],
          [
           "Wolves"
          ]
         ],
         "hovertemplate": "<b>%{hovertext}</b><br><br>Player Type=Forward<br>points_per_game=%{x}<br>now_cost=%{y}<br>size=%{marker.size}<br>team_name=%{customdata[0]}<extra></extra>",
         "hovertext": [
          "Alexandre Lacazette",
          "Edward Nketiah",
          "Wesley Wesley",
          "Mbwana Samatta",
          "Keinan Davis",
          "Indiana Vassilev",
          "Glenn Murray",
          "Florin Andone",
          "Neal Maupay",
          "Aaron Connolly",
          "Jay Rodriguez",
          "Ashley Barnes",
          "Chris Wood",
          "Matej Vydra",
          "Olivier Giroud",
          "Michy Batshuayi",
          "Timo Werner",
          "Tammy Abraham",
          "Christian Benteke",
          "Connor Wickham",
          "Jordan Ayew",
          "Cenk Tosun",
          "Dominic Calvert-Lewin",
          "Richarlison Richarlison",
          "Moise Kean",
          "Bobby Decordova-Reid",
          "Aleksandar Mitrović",
          "Jamie Vardy",
          "Kelechi Iheanacho",
          "Patrick Bamford",
          "Roberto Firmino",
          "Divock Origi",
          "Rhian Brewster",
          "Sergio Agüero",
          "Gabriel Fernando Jesus",
          "Odion Ighalo",
          "Anthony Martial",
          "Andy Carroll",
          "Dwight Gayle",
          "Joelinton Cássio Joelinton",
          "Yoshinori Muto",
          "Billy Sharp",
          "David McGoldrick",
          "Oliver McBurnie",
          "Callum Callum Robinson",
          "Lys Mousset",
          "Shane Long",
          "Danny Ings",
          "Che Adams",
          "Michael Obafemi",
          "Harry Kane",
          "Hal Robson-Kanu",
          "Charlie Austin",
          "Kenneth Zohore",
          "Michail Antonio",
          "Sébastien Haller",
          "Jordan Hugill",
          "Albian Ajeti",
          "Raúl Jiménez",
          "Léo Bonatini",
          "Leonardo Campana"
         ],
         "legendgroup": "Forward",
         "marker": {
          "color": "#00cc96",
          "size": [
           0.0,
           0.0,
           0.0,
           0.0,
           0.0,
           0.0,
           0.0,
           0.0,
           0.0,
           0.0,
           0.0,
           0.0,
           0.0,
           0.0,
           0.0,
           0.0,
           0.0,
           0.0,
           0.0,
           0.0,
           0.0,
           0.0,
           0.0,
           0.0,
           0.0,
           0.0,
           0.0,
           0.0,
           0.0,
           0.0,
           0.0,
           0.0,
           0.0,
           0.0,
           0.0,
           0.0,
           0.0,
           0.0,
           0.0,
           0.0,
           0.0,
           0.0,
           0.0,
           0.0,
           0.0,
           0.0,
           0.0,
           0.0,
           0.0,
           0.0,
           0.0,
           0.0,
           0.0,
           0.0,
           0.0,
           0.0,
           0.0,
           0.0,
           0.0,
           0.0,
           0.0
          ],
          "sizemode": "area",
          "sizeref": 0.0,
          "symbol": "circle"
         },
         "mode": "markers",
         "name": "Forward",
         "orientation": "v",
         "showlegend": true,
         "type": "scatter",
         "x": [
          "0.0",
          "0.0",
          "0.0",
          "0.0",
          "0.0",
          "0.0",
          "0.0",
          "0.0",
          "0.0",
          "0.0",
          "0.0",
          "0.0",
          "0.0",
          "0.0",
          "0.0",
          "0.0",
          "0.0",
          "0.0",
          "0.0",
          "0.0",
          "0.0",
          "0.0",
          "0.0",
          "0.0",
          "0.0",
          "0.0",
          "0.0",
          "0.0",
          "0.0",
          "0.0",
          "0.0",
          "0.0",
          "0.0",
          "0.0",
          "0.0",
          "0.0",
          "0.0",
          "0.0",
          "0.0",
          "0.0",
          "0.0",
          "0.0",
          "0.0",
          "0.0",
          "0.0",
          "0.0",
          "0.0",
          "0.0",
          "0.0",
          "0.0",
          "0.0",
          "0.0",
          "0.0",
          "0.0",
          "0.0",
          "0.0",
          "0.0",
          "0.0",
          "0.0",
          "0.0",
          "0.0"
         ],
         "xaxis": "x",
         "y": [
          8.5,
          6.0,
          6.0,
          6.0,
          4.5,
          4.5,
          5.0,
          5.0,
          6.5,
          5.5,
          6.0,
          6.0,
          6.5,
          5.0,
          7.0,
          6.0,
          9.5,
          7.5,
          5.5,
          4.5,
          6.0,
          6.0,
          7.0,
          8.0,
          6.0,
          5.5,
          6.0,
          10.0,
          6.0,
          5.5,
          9.5,
          5.5,
          4.5,
          10.5,
          9.5,
          6.5,
          9.0,
          5.5,
          6.0,
          6.0,
          5.0,
          6.0,
          5.5,
          6.0,
          5.5,
          6.0,
          5.5,
          8.5,
          6.0,
          5.0,
          10.5,
          5.5,
          5.5,
          5.0,
          6.5,
          6.5,
          5.5,
          5.5,
          8.5,
          5.0,
          5.0
         ],
         "yaxis": "y"
        },
        {
         "customdata": [
          [
           "Arsenal"
          ],
          [
           "Arsenal"
          ],
          [
           "Aston Villa"
          ],
          [
           "Aston Villa"
          ],
          [
           "Aston Villa"
          ],
          [
           "Brighton"
          ],
          [
           "Brighton"
          ],
          [
           "Burnley"
          ],
          [
           "Burnley"
          ],
          [
           "Chelsea"
          ],
          [
           "Chelsea"
          ],
          [
           "Crystal Palace"
          ],
          [
           "Crystal Palace"
          ],
          [
           "Everton"
          ],
          [
           "Everton"
          ],
          [
           "Everton"
          ],
          [
           "Fulham"
          ],
          [
           "Fulham"
          ],
          [
           "Fulham"
          ],
          [
           "Leicester"
          ],
          [
           "Leicester"
          ],
          [
           "Leeds"
          ],
          [
           "Leeds"
          ],
          [
           "Leeds"
          ],
          [
           "Liverpool"
          ],
          [
           "Liverpool"
          ],
          [
           "Man City"
          ],
          [
           "Man City"
          ],
          [
           "Man Utd"
          ],
          [
           "Man Utd"
          ],
          [
           "Man Utd"
          ],
          [
           "Newcastle"
          ],
          [
           "Newcastle"
          ],
          [
           "Sheffield Utd"
          ],
          [
           "Sheffield Utd"
          ],
          [
           "Southampton"
          ],
          [
           "Southampton"
          ],
          [
           "Spurs"
          ],
          [
           "Spurs"
          ],
          [
           "West Brom"
          ],
          [
           "West Ham"
          ],
          [
           "West Ham"
          ],
          [
           "West Ham"
          ],
          [
           "West Ham"
          ],
          [
           "Wolves"
          ],
          [
           "Wolves"
          ],
          [
           "Wolves"
          ]
         ],
         "hovertemplate": "<b>%{hovertext}</b><br><br>Player Type=Goalkeeper<br>points_per_game=%{x}<br>now_cost=%{y}<br>size=%{marker.size}<br>team_name=%{customdata[0]}<extra></extra>",
         "hovertext": [
          "Bernd Leno",
          "Emiliano Martínez",
          "Tom Heaton",
          "Jed Steer",
          "Ørjan Nyland",
          "David Button",
          "Mathew Ryan",
          "Nick Pope",
          "Bailey Peacock-Farrell",
          "Willy Caballero",
          "Kepa Arrizabalaga",
          "Wayne Hennessey",
          "Vicente Guaita",
          "Jonas Lössl",
          "Jordan Pickford",
          "João Virgínia",
          "Fabricio Fabri",
          "Marcus Bettinelli",
          "Marek Rodák",
          "Kasper Schmeichel",
          "Danny Ward",
          "Francisco Casilla",
          "Kamil Miazek",
          "Illan Meslier",
          "Adrián Adrián",
          "Alisson Alisson",
          "Claudio Bravo",
          "Ederson Ederson",
          "Sergio Romero",
          "David de Gea",
          "Dean Henderson",
          "Karl Darlow",
          "Martin Dubravka",
          "Simon Moore",
          "Wes Foderingham",
          "Alex McCarthy",
          "Angus Gunn",
          "Hugo Lloris",
          "Paulo Gazzaniga",
          "Sam Johnstone",
          "David Martin",
          "Darren Randolph",
          "Lukasz Fabianski",
          "Roberto Roberto",
          "John Ruddy",
          "Rui Pedro Patrício",
          "Matija Sarkic"
         ],
         "legendgroup": "Goalkeeper",
         "marker": {
          "color": "#ab63fa",
          "size": [
           0.0,
           0.0,
           0.0,
           0.0,
           0.0,
           0.0,
           0.0,
           0.0,
           0.0,
           0.0,
           0.0,
           0.0,
           0.0,
           0.0,
           0.0,
           0.0,
           0.0,
           0.0,
           0.0,
           0.0,
           0.0,
           0.0,
           0.0,
           0.0,
           0.0,
           0.0,
           0.0,
           0.0,
           0.0,
           0.0,
           0.0,
           0.0,
           0.0,
           0.0,
           0.0,
           0.0,
           0.0,
           0.0,
           0.0,
           0.0,
           0.0,
           0.0,
           0.0,
           0.0,
           0.0,
           0.0,
           0.0
          ],
          "sizemode": "area",
          "sizeref": 0.0,
          "symbol": "circle"
         },
         "mode": "markers",
         "name": "Goalkeeper",
         "orientation": "v",
         "showlegend": true,
         "type": "scatter",
         "x": [
          "0.0",
          "0.0",
          "0.0",
          "0.0",
          "0.0",
          "0.0",
          "0.0",
          "0.0",
          "0.0",
          "0.0",
          "0.0",
          "0.0",
          "0.0",
          "0.0",
          "0.0",
          "0.0",
          "0.0",
          "0.0",
          "0.0",
          "0.0",
          "0.0",
          "0.0",
          "0.0",
          "0.0",
          "0.0",
          "0.0",
          "0.0",
          "0.0",
          "0.0",
          "0.0",
          "0.0",
          "0.0",
          "0.0",
          "0.0",
          "0.0",
          "0.0",
          "0.0",
          "0.0",
          "0.0",
          "0.0",
          "0.0",
          "0.0",
          "0.0",
          "0.0",
          "0.0",
          "0.0",
          "0.0"
         ],
         "xaxis": "x",
         "y": [
          5.0,
          4.5,
          4.5,
          4.0,
          4.0,
          4.0,
          4.5,
          5.5,
          4.0,
          5.0,
          5.0,
          4.5,
          5.0,
          4.5,
          5.0,
          4.5,
          4.0,
          4.5,
          4.5,
          5.5,
          4.5,
          4.5,
          4.0,
          4.5,
          4.5,
          6.0,
          4.5,
          6.0,
          5.0,
          5.5,
          5.5,
          5.0,
          5.0,
          4.5,
          4.5,
          4.5,
          4.5,
          5.5,
          4.5,
          4.5,
          4.0,
          4.5,
          5.0,
          4.5,
          4.5,
          5.5,
          4.5
         ],
         "yaxis": "y"
        }
       ],
       "layout": {
        "annotations": [
         {
          "showarrow": false,
          "text": "Bubble Size : Player Form",
          "x": 1.15,
          "xref": "paper",
          "y": 1.1,
          "yref": "paper"
         }
        ],
        "legend": {
         "itemsizing": "constant",
         "title": {
          "text": "Player Type"
         },
         "tracegroupgap": 0
        },
        "showlegend": true,
        "template": {
         "data": {
          "bar": [
           {
            "error_x": {
             "color": "#2a3f5f"
            },
            "error_y": {
             "color": "#2a3f5f"
            },
            "marker": {
             "line": {
              "color": "#E5ECF6",
              "width": 0.5
             }
            },
            "type": "bar"
           }
          ],
          "barpolar": [
           {
            "marker": {
             "line": {
              "color": "#E5ECF6",
              "width": 0.5
             }
            },
            "type": "barpolar"
           }
          ],
          "carpet": [
           {
            "aaxis": {
             "endlinecolor": "#2a3f5f",
             "gridcolor": "white",
             "linecolor": "white",
             "minorgridcolor": "white",
             "startlinecolor": "#2a3f5f"
            },
            "baxis": {
             "endlinecolor": "#2a3f5f",
             "gridcolor": "white",
             "linecolor": "white",
             "minorgridcolor": "white",
             "startlinecolor": "#2a3f5f"
            },
            "type": "carpet"
           }
          ],
          "choropleth": [
           {
            "colorbar": {
             "outlinewidth": 0,
             "ticks": ""
            },
            "type": "choropleth"
           }
          ],
          "contour": [
           {
            "colorbar": {
             "outlinewidth": 0,
             "ticks": ""
            },
            "colorscale": [
             [
              0.0,
              "#0d0887"
             ],
             [
              0.1111111111111111,
              "#46039f"
             ],
             [
              0.2222222222222222,
              "#7201a8"
             ],
             [
              0.3333333333333333,
              "#9c179e"
             ],
             [
              0.4444444444444444,
              "#bd3786"
             ],
             [
              0.5555555555555556,
              "#d8576b"
             ],
             [
              0.6666666666666666,
              "#ed7953"
             ],
             [
              0.7777777777777778,
              "#fb9f3a"
             ],
             [
              0.8888888888888888,
              "#fdca26"
             ],
             [
              1.0,
              "#f0f921"
             ]
            ],
            "type": "contour"
           }
          ],
          "contourcarpet": [
           {
            "colorbar": {
             "outlinewidth": 0,
             "ticks": ""
            },
            "type": "contourcarpet"
           }
          ],
          "heatmap": [
           {
            "colorbar": {
             "outlinewidth": 0,
             "ticks": ""
            },
            "colorscale": [
             [
              0.0,
              "#0d0887"
             ],
             [
              0.1111111111111111,
              "#46039f"
             ],
             [
              0.2222222222222222,
              "#7201a8"
             ],
             [
              0.3333333333333333,
              "#9c179e"
             ],
             [
              0.4444444444444444,
              "#bd3786"
             ],
             [
              0.5555555555555556,
              "#d8576b"
             ],
             [
              0.6666666666666666,
              "#ed7953"
             ],
             [
              0.7777777777777778,
              "#fb9f3a"
             ],
             [
              0.8888888888888888,
              "#fdca26"
             ],
             [
              1.0,
              "#f0f921"
             ]
            ],
            "type": "heatmap"
           }
          ],
          "heatmapgl": [
           {
            "colorbar": {
             "outlinewidth": 0,
             "ticks": ""
            },
            "colorscale": [
             [
              0.0,
              "#0d0887"
             ],
             [
              0.1111111111111111,
              "#46039f"
             ],
             [
              0.2222222222222222,
              "#7201a8"
             ],
             [
              0.3333333333333333,
              "#9c179e"
             ],
             [
              0.4444444444444444,
              "#bd3786"
             ],
             [
              0.5555555555555556,
              "#d8576b"
             ],
             [
              0.6666666666666666,
              "#ed7953"
             ],
             [
              0.7777777777777778,
              "#fb9f3a"
             ],
             [
              0.8888888888888888,
              "#fdca26"
             ],
             [
              1.0,
              "#f0f921"
             ]
            ],
            "type": "heatmapgl"
           }
          ],
          "histogram": [
           {
            "marker": {
             "colorbar": {
              "outlinewidth": 0,
              "ticks": ""
             }
            },
            "type": "histogram"
           }
          ],
          "histogram2d": [
           {
            "colorbar": {
             "outlinewidth": 0,
             "ticks": ""
            },
            "colorscale": [
             [
              0.0,
              "#0d0887"
             ],
             [
              0.1111111111111111,
              "#46039f"
             ],
             [
              0.2222222222222222,
              "#7201a8"
             ],
             [
              0.3333333333333333,
              "#9c179e"
             ],
             [
              0.4444444444444444,
              "#bd3786"
             ],
             [
              0.5555555555555556,
              "#d8576b"
             ],
             [
              0.6666666666666666,
              "#ed7953"
             ],
             [
              0.7777777777777778,
              "#fb9f3a"
             ],
             [
              0.8888888888888888,
              "#fdca26"
             ],
             [
              1.0,
              "#f0f921"
             ]
            ],
            "type": "histogram2d"
           }
          ],
          "histogram2dcontour": [
           {
            "colorbar": {
             "outlinewidth": 0,
             "ticks": ""
            },
            "colorscale": [
             [
              0.0,
              "#0d0887"
             ],
             [
              0.1111111111111111,
              "#46039f"
             ],
             [
              0.2222222222222222,
              "#7201a8"
             ],
             [
              0.3333333333333333,
              "#9c179e"
             ],
             [
              0.4444444444444444,
              "#bd3786"
             ],
             [
              0.5555555555555556,
              "#d8576b"
             ],
             [
              0.6666666666666666,
              "#ed7953"
             ],
             [
              0.7777777777777778,
              "#fb9f3a"
             ],
             [
              0.8888888888888888,
              "#fdca26"
             ],
             [
              1.0,
              "#f0f921"
             ]
            ],
            "type": "histogram2dcontour"
           }
          ],
          "mesh3d": [
           {
            "colorbar": {
             "outlinewidth": 0,
             "ticks": ""
            },
            "type": "mesh3d"
           }
          ],
          "parcoords": [
           {
            "line": {
             "colorbar": {
              "outlinewidth": 0,
              "ticks": ""
             }
            },
            "type": "parcoords"
           }
          ],
          "pie": [
           {
            "automargin": true,
            "type": "pie"
           }
          ],
          "scatter": [
           {
            "marker": {
             "colorbar": {
              "outlinewidth": 0,
              "ticks": ""
             }
            },
            "type": "scatter"
           }
          ],
          "scatter3d": [
           {
            "line": {
             "colorbar": {
              "outlinewidth": 0,
              "ticks": ""
             }
            },
            "marker": {
             "colorbar": {
              "outlinewidth": 0,
              "ticks": ""
             }
            },
            "type": "scatter3d"
           }
          ],
          "scattercarpet": [
           {
            "marker": {
             "colorbar": {
              "outlinewidth": 0,
              "ticks": ""
             }
            },
            "type": "scattercarpet"
           }
          ],
          "scattergeo": [
           {
            "marker": {
             "colorbar": {
              "outlinewidth": 0,
              "ticks": ""
             }
            },
            "type": "scattergeo"
           }
          ],
          "scattergl": [
           {
            "marker": {
             "colorbar": {
              "outlinewidth": 0,
              "ticks": ""
             }
            },
            "type": "scattergl"
           }
          ],
          "scattermapbox": [
           {
            "marker": {
             "colorbar": {
              "outlinewidth": 0,
              "ticks": ""
             }
            },
            "type": "scattermapbox"
           }
          ],
          "scatterpolar": [
           {
            "marker": {
             "colorbar": {
              "outlinewidth": 0,
              "ticks": ""
             }
            },
            "type": "scatterpolar"
           }
          ],
          "scatterpolargl": [
           {
            "marker": {
             "colorbar": {
              "outlinewidth": 0,
              "ticks": ""
             }
            },
            "type": "scatterpolargl"
           }
          ],
          "scatterternary": [
           {
            "marker": {
             "colorbar": {
              "outlinewidth": 0,
              "ticks": ""
             }
            },
            "type": "scatterternary"
           }
          ],
          "surface": [
           {
            "colorbar": {
             "outlinewidth": 0,
             "ticks": ""
            },
            "colorscale": [
             [
              0.0,
              "#0d0887"
             ],
             [
              0.1111111111111111,
              "#46039f"
             ],
             [
              0.2222222222222222,
              "#7201a8"
             ],
             [
              0.3333333333333333,
              "#9c179e"
             ],
             [
              0.4444444444444444,
              "#bd3786"
             ],
             [
              0.5555555555555556,
              "#d8576b"
             ],
             [
              0.6666666666666666,
              "#ed7953"
             ],
             [
              0.7777777777777778,
              "#fb9f3a"
             ],
             [
              0.8888888888888888,
              "#fdca26"
             ],
             [
              1.0,
              "#f0f921"
             ]
            ],
            "type": "surface"
           }
          ],
          "table": [
           {
            "cells": {
             "fill": {
              "color": "#EBF0F8"
             },
             "line": {
              "color": "white"
             }
            },
            "header": {
             "fill": {
              "color": "#C8D4E3"
             },
             "line": {
              "color": "white"
             }
            },
            "type": "table"
           }
          ]
         },
         "layout": {
          "annotationdefaults": {
           "arrowcolor": "#2a3f5f",
           "arrowhead": 0,
           "arrowwidth": 1
          },
          "coloraxis": {
           "colorbar": {
            "outlinewidth": 0,
            "ticks": ""
           }
          },
          "colorscale": {
           "diverging": [
            [
             0,
             "#8e0152"
            ],
            [
             0.1,
             "#c51b7d"
            ],
            [
             0.2,
             "#de77ae"
            ],
            [
             0.3,
             "#f1b6da"
            ],
            [
             0.4,
             "#fde0ef"
            ],
            [
             0.5,
             "#f7f7f7"
            ],
            [
             0.6,
             "#e6f5d0"
            ],
            [
             0.7,
             "#b8e186"
            ],
            [
             0.8,
             "#7fbc41"
            ],
            [
             0.9,
             "#4d9221"
            ],
            [
             1,
             "#276419"
            ]
           ],
           "sequential": [
            [
             0.0,
             "#0d0887"
            ],
            [
             0.1111111111111111,
             "#46039f"
            ],
            [
             0.2222222222222222,
             "#7201a8"
            ],
            [
             0.3333333333333333,
             "#9c179e"
            ],
            [
             0.4444444444444444,
             "#bd3786"
            ],
            [
             0.5555555555555556,
             "#d8576b"
            ],
            [
             0.6666666666666666,
             "#ed7953"
            ],
            [
             0.7777777777777778,
             "#fb9f3a"
            ],
            [
             0.8888888888888888,
             "#fdca26"
            ],
            [
             1.0,
             "#f0f921"
            ]
           ],
           "sequentialminus": [
            [
             0.0,
             "#0d0887"
            ],
            [
             0.1111111111111111,
             "#46039f"
            ],
            [
             0.2222222222222222,
             "#7201a8"
            ],
            [
             0.3333333333333333,
             "#9c179e"
            ],
            [
             0.4444444444444444,
             "#bd3786"
            ],
            [
             0.5555555555555556,
             "#d8576b"
            ],
            [
             0.6666666666666666,
             "#ed7953"
            ],
            [
             0.7777777777777778,
             "#fb9f3a"
            ],
            [
             0.8888888888888888,
             "#fdca26"
            ],
            [
             1.0,
             "#f0f921"
            ]
           ]
          },
          "colorway": [
           "#636efa",
           "#EF553B",
           "#00cc96",
           "#ab63fa",
           "#FFA15A",
           "#19d3f3",
           "#FF6692",
           "#B6E880",
           "#FF97FF",
           "#FECB52"
          ],
          "font": {
           "color": "#2a3f5f"
          },
          "geo": {
           "bgcolor": "white",
           "lakecolor": "white",
           "landcolor": "#E5ECF6",
           "showlakes": true,
           "showland": true,
           "subunitcolor": "white"
          },
          "hoverlabel": {
           "align": "left"
          },
          "hovermode": "closest",
          "mapbox": {
           "style": "light"
          },
          "paper_bgcolor": "white",
          "plot_bgcolor": "#E5ECF6",
          "polar": {
           "angularaxis": {
            "gridcolor": "white",
            "linecolor": "white",
            "ticks": ""
           },
           "bgcolor": "#E5ECF6",
           "radialaxis": {
            "gridcolor": "white",
            "linecolor": "white",
            "ticks": ""
           }
          },
          "scene": {
           "xaxis": {
            "backgroundcolor": "#E5ECF6",
            "gridcolor": "white",
            "gridwidth": 2,
            "linecolor": "white",
            "showbackground": true,
            "ticks": "",
            "zerolinecolor": "white"
           },
           "yaxis": {
            "backgroundcolor": "#E5ECF6",
            "gridcolor": "white",
            "gridwidth": 2,
            "linecolor": "white",
            "showbackground": true,
            "ticks": "",
            "zerolinecolor": "white"
           },
           "zaxis": {
            "backgroundcolor": "#E5ECF6",
            "gridcolor": "white",
            "gridwidth": 2,
            "linecolor": "white",
            "showbackground": true,
            "ticks": "",
            "zerolinecolor": "white"
           }
          },
          "shapedefaults": {
           "line": {
            "color": "#2a3f5f"
           }
          },
          "ternary": {
           "aaxis": {
            "gridcolor": "white",
            "linecolor": "white",
            "ticks": ""
           },
           "baxis": {
            "gridcolor": "white",
            "linecolor": "white",
            "ticks": ""
           },
           "bgcolor": "#E5ECF6",
           "caxis": {
            "gridcolor": "white",
            "linecolor": "white",
            "ticks": ""
           }
          },
          "title": {
           "x": 0.05
          },
          "xaxis": {
           "automargin": true,
           "gridcolor": "white",
           "linecolor": "white",
           "ticks": "",
           "title": {
            "standoff": 15
           },
           "zerolinecolor": "white",
           "zerolinewidth": 2
          },
          "yaxis": {
           "automargin": true,
           "gridcolor": "white",
           "linecolor": "white",
           "ticks": "",
           "title": {
            "standoff": 15
           },
           "zerolinecolor": "white",
           "zerolinewidth": 2
          }
         }
        },
        "title": {
         "text": "Most Suitable Player to Buy Currently"
        },
        "xaxis": {
         "anchor": "y",
         "domain": [
          0.0,
          1.0
         ],
         "title": {
          "text": "Points Per Game"
         }
        },
        "yaxis": {
         "anchor": "x",
         "domain": [
          0.0,
          1.0
         ],
         "tickprefix": "£",
         "title": {
          "text": "Price"
         }
        }
       }
      },
      "text/html": [
       "<div>\n",
       "        \n",
       "        \n",
       "            <div id=\"21218f77-2043-4f7c-8e84-1c436f017aaf\" class=\"plotly-graph-div\" style=\"height:525px; width:100%;\"></div>\n",
       "            <script type=\"text/javascript\">\n",
       "                require([\"plotly\"], function(Plotly) {\n",
       "                    window.PLOTLYENV=window.PLOTLYENV || {};\n",
       "                    \n",
       "                if (document.getElementById(\"21218f77-2043-4f7c-8e84-1c436f017aaf\")) {\n",
       "                    Plotly.newPlot(\n",
       "                        '21218f77-2043-4f7c-8e84-1c436f017aaf',\n",
       "                        [{\"customdata\": [[\"Arsenal\"], [\"Arsenal\"], [\"Arsenal\"], [\"Arsenal\"], [\"Arsenal\"], [\"Arsenal\"], [\"Arsenal\"], [\"Arsenal\"], [\"Arsenal\"], [\"Arsenal\"], [\"Arsenal\"], [\"Arsenal\"], [\"Aston Villa\"], [\"Aston Villa\"], [\"Aston Villa\"], [\"Aston Villa\"], [\"Aston Villa\"], [\"Aston Villa\"], [\"Aston Villa\"], [\"Aston Villa\"], [\"Aston Villa\"], [\"Brighton\"], [\"Brighton\"], [\"Brighton\"], [\"Brighton\"], [\"Brighton\"], [\"Brighton\"], [\"Brighton\"], [\"Brighton\"], [\"Brighton\"], [\"Brighton\"], [\"Brighton\"], [\"Brighton\"], [\"Burnley\"], [\"Burnley\"], [\"Burnley\"], [\"Burnley\"], [\"Burnley\"], [\"Burnley\"], [\"Chelsea\"], [\"Chelsea\"], [\"Chelsea\"], [\"Chelsea\"], [\"Chelsea\"], [\"Chelsea\"], [\"Chelsea\"], [\"Chelsea\"], [\"Chelsea\"], [\"Chelsea\"], [\"Crystal Palace\"], [\"Crystal Palace\"], [\"Crystal Palace\"], [\"Crystal Palace\"], [\"Crystal Palace\"], [\"Crystal Palace\"], [\"Crystal Palace\"], [\"Crystal Palace\"], [\"Crystal Palace\"], [\"Crystal Palace\"], [\"Everton\"], [\"Everton\"], [\"Everton\"], [\"Everton\"], [\"Everton\"], [\"Everton\"], [\"Everton\"], [\"Everton\"], [\"Everton\"], [\"Fulham\"], [\"Fulham\"], [\"Fulham\"], [\"Fulham\"], [\"Fulham\"], [\"Fulham\"], [\"Fulham\"], [\"Fulham\"], [\"Fulham\"], [\"Fulham\"], [\"Leicester\"], [\"Leicester\"], [\"Leicester\"], [\"Leicester\"], [\"Leicester\"], [\"Leicester\"], [\"Leicester\"], [\"Leicester\"], [\"Leicester\"], [\"Leicester\"], [\"Leicester\"], [\"Leeds\"], [\"Leeds\"], [\"Leeds\"], [\"Leeds\"], [\"Leeds\"], [\"Leeds\"], [\"Leeds\"], [\"Leeds\"], [\"Leeds\"], [\"Leeds\"], [\"Leeds\"], [\"Liverpool\"], [\"Liverpool\"], [\"Liverpool\"], [\"Liverpool\"], [\"Liverpool\"], [\"Liverpool\"], [\"Liverpool\"], [\"Liverpool\"], [\"Liverpool\"], [\"Liverpool\"], [\"Liverpool\"], [\"Liverpool\"], [\"Liverpool\"], [\"Man City\"], [\"Man City\"], [\"Man City\"], [\"Man City\"], [\"Man City\"], [\"Man City\"], [\"Man City\"], [\"Man City\"], [\"Man City\"], [\"Man Utd\"], [\"Man Utd\"], [\"Man Utd\"], [\"Man Utd\"], [\"Man Utd\"], [\"Man Utd\"], [\"Man Utd\"], [\"Man Utd\"], [\"Man Utd\"], [\"Man Utd\"], [\"Man Utd\"], [\"Man Utd\"], [\"Man Utd\"], [\"Newcastle\"], [\"Newcastle\"], [\"Newcastle\"], [\"Newcastle\"], [\"Newcastle\"], [\"Newcastle\"], [\"Newcastle\"], [\"Sheffield Utd\"], [\"Sheffield Utd\"], [\"Sheffield Utd\"], [\"Sheffield Utd\"], [\"Sheffield Utd\"], [\"Sheffield Utd\"], [\"Southampton\"], [\"Southampton\"], [\"Southampton\"], [\"Southampton\"], [\"Southampton\"], [\"Southampton\"], [\"Southampton\"], [\"Southampton\"], [\"Southampton\"], [\"Spurs\"], [\"Spurs\"], [\"Spurs\"], [\"Spurs\"], [\"Spurs\"], [\"Spurs\"], [\"Spurs\"], [\"Spurs\"], [\"Spurs\"], [\"Spurs\"], [\"Spurs\"], [\"Spurs\"], [\"West Brom\"], [\"West Brom\"], [\"West Brom\"], [\"West Brom\"], [\"West Brom\"], [\"West Brom\"], [\"West Brom\"], [\"West Brom\"], [\"West Brom\"], [\"West Ham\"], [\"West Ham\"], [\"West Ham\"], [\"West Ham\"], [\"West Ham\"], [\"West Ham\"], [\"West Ham\"], [\"West Ham\"], [\"West Ham\"], [\"West Ham\"], [\"West Ham\"], [\"Wolves\"], [\"Wolves\"], [\"Wolves\"], [\"Wolves\"], [\"Wolves\"], [\"Wolves\"], [\"Wolves\"], [\"Wolves\"], [\"Wolves\"]], \"hovertemplate\": \"<b>%{hovertext}</b><br><br>Player Type=Midfielder<br>points_per_game=%{x}<br>now_cost=%{y}<br>size=%{marker.size}<br>team_name=%{customdata[0]}<extra></extra>\", \"hovertext\": [\"Mesut \\u00d6zil\", \"Pierre-Emerick Aubameyang\", \"Granit Xhaka\", \"Nicolas P\\u00e9p\\u00e9\", \"Lucas Torreira\", \"Joseph Willock\", \"Reiss Nelson\", \"Emile Smith Rowe\", \"Bukayo Saka\", \"Matteo Guendouzi\", \"Gabriel Teodoro Martinelli\", \"Willian Willian\", \"Henri Lansbury\", \"Conor Hourihane\", \"Jos\\u00e9 Ignacio Jota\", \"Jack Grealish\", \"John McGinn\", \"Mahmoud Ahmed Tr\\u00e9z\\u00e9guet\", \"Marvelous Nakamba\", \"Anwar El Ghazi\", \"Douglas Luiz Douglas Luiz\", \"Adam Lallana\", \"Dale Stephens\", \"Pascal Gro\\u00df\", \"Davy Pr\\u00f6pper\", \"Aaron Mooy\", \"Solomon March\", \"Leandro Trossard\", \"Alireza Jahanbakhsh\", \"Jos\\u00e9 Izquierdo\", \"Yves Bissouma\", \"Steven Alzate\", \"Alexis Mac Allister\", \"Jack Cork\", \"Ashley Westwood\", \"Johann Berg Gudmundsson\", \"Robbie Brady\", \"Josh Brownhill\", \"Dwight McNeil\", \"Jorge Luiz Jorginho\", \"Ross Barkley\", \"Mateo Kovacic\", \"N'Golo Kant\\u00e9\", \"Hakim Ziyech\", \"Ruben Loftus-Cheek\", \"Christian Pulisic\", \"Mason Mount\", \"Callum Hudson-Odoi\", \"Billy Gilmour\", \"James McArthur\", \"James McCarthy\", \"Cheikhou Kouyat\\u00e9\", \"Andros Townsend\", \"Luka Milivojevic\", \"Wilfried Zaha\", \"Jeffrey Schlupp\", \"Max Meyer\", \"Jairo Riedewald\", \"Brandon Pierrick\", \"Theo Walcott\", \"Fabian Delph\", \"Gylfi Sigurdsson\", \"Bernard Bernard\", \"Andr\\u00e9 Filipe Andr\\u00e9 Gomes\", \"Alex Iwobi\", \"Jean-Philippe Gbamin\", \"Tom Davies\", \"Anthony Gordon\", \"Kevin McDonald\", \"Stefan Johansen\", \"Tom Cairney\", \"Anthony Knockaert\", \"Neeskens Kebano\", \"Ivan Ricardo Cavaleiro\", \"Josh Onomah\", \"Jean Micha\\u00ebl Seri\", \"Aboubakar Kamara\", \"Andr\\u00e9-Frank Anguissa\", \"Adrien Silva\", \"Marc Albrighton\", \"Matty James\", \"Dennis Praet\", \"Youri Tielemans\", \"Ayoze P\\u00e9rez\", \"Demarai Gray\", \"James Maddison\", \"Hamza Choudhury\", \"Harvey Barnes\", \"Wilfred Ndidi\", \"Pablo Hern\\u00e1ndez\", \"Mateusz Klich\", \"Adam Forshaw\", \"Jack Harrison\", \"Kalvin Phillips\", \"H\\u00e9lder Wander Costa\", \"Tyler Roberts\", \"Jay-Roy Grot\", \"Ian Carlo Poveda-Ocampo\", \"Jamie Shackleton\", \"Jordan Stevens\", \"James Milner\", \"Georginio Wijnaldum\", \"Jordan Henderson\", \"Xherdan Shaqiri\", \"Alex Chamberlain\", \"Sadio Man\\u00e9\", \"Fabio Henrique Fabinho\", \"Mohamed Salah\", \"Harry Harry Wilson\", \"Takumi Minamino\", \"Naby Keita\", \"Curtis Jones\", \"Harvey Elliott\", \"Ilkay G\\u00fcndogan\", \"Kevin De Bruyne\", \"Riyad Mahrez\", \"Raheem Sterling\", \"Bernardo Mota Bernardo Silva\", \"Phil Foden\", \"Tommy Doyle\", \"Rodrigo Rodrigo\", \"Ferran Torres\", \"Juan Mata\", \"Nemanja Matic\", \"Paul Pogba\", \"Frederico Fred\", \"Jesse Lingard\", \"Bruno Miguel Fernandes\", \"Andreas Pereira\", \"Marcus Rashford\", \"Scott McTominay\", \"Daniel James\", \"Mason Greenwood\", \"Tahith Chong\", \"James Garner\", \"Jonjo Shelvey\", \"Matt Ritchie\", \"Christian Atsu\", \"Isaac Hayden\", \"Rolando Aarons\", \"Allan Saint-Maximin\", \"Miguel Almir\\u00f3n\", \"John Fleck\", \"Oliver Norwood\", \"John Lundstram\", \"Ben Osborn\", \"Sander Berge\", \"Luke Freeman\", \"Oriol Oriol Romeu\", \"Nathan Redmond\", \"Stuart Armstrong\", \"James Ward-Prowse\", \"Sofiane Boufal\", \"Harrison Reed\", \"Josh Sims\", \"William Smallbone\", \"Moussa Djenepo\", \"Moussa Sissoko\", \"Erik Lamela\", \"Heung-Min Son\", \"Lucas Lucas Moura\", \"Bamidele Alli\", \"Pierre-Emile H\\u00f8jbjerg\", \"Harry Winks\", \"Steven Bergwijn\", \"Gedson Fernandes\", \"Giovani Lo Celso\", \"Oliver Skipp\", \"Tanguy Ndombele\", \"Jake Livermore\", \"Kamil Grosicki\", \"Matt Phillips\", \"Romaine Sawyers\", \"Jonathan Leko\", \"Kyle Edwards\", \"Sam Field\", \"Oliver Burke\", \"Rekeem Harper\", \"Mark Noble\", \"Robert Snodgrass\", \"Jack Wilshere\", \"Andriy Yarmolenko\", \"Manuel Lanzini\", \"Felipe Anderson Felipe Anderson\", \"Jarrod Bowen\", \"Grady Diangana\", \"Declan Rice\", \"Tomas Soucek\", \"Pablo Fornals\", \"Jo\\u00e3o Filipe Iria Moutinho\", \"Leander Dendoncker\", \"Adama Traor\\u00e9\", \"R\\u00faben Diogo Neves\", \"Diogo Jota\", \"Daniel Podence\", \"Morgan Gibbs-White\", \"Pedro Neto\", \"Bruno Andr\\u00e9 Jordao\"], \"legendgroup\": \"Midfielder\", \"marker\": {\"color\": \"#636efa\", \"size\": [0.0, 0.0, 0.0, 0.0, 0.0, 0.0, 0.0, 0.0, 0.0, 0.0, 0.0, 0.0, 0.0, 0.0, 0.0, 0.0, 0.0, 0.0, 0.0, 0.0, 0.0, 0.0, 0.0, 0.0, 0.0, 0.0, 0.0, 0.0, 0.0, 0.0, 0.0, 0.0, 0.0, 0.0, 0.0, 0.0, 0.0, 0.0, 0.0, 0.0, 0.0, 0.0, 0.0, 0.0, 0.0, 0.0, 0.0, 0.0, 0.0, 0.0, 0.0, 0.0, 0.0, 0.0, 0.0, 0.0, 0.0, 0.0, 0.0, 0.0, 0.0, 0.0, 0.0, 0.0, 0.0, 0.0, 0.0, 0.0, 0.0, 0.0, 0.0, 0.0, 0.0, 0.0, 0.0, 0.0, 0.0, 0.0, 0.0, 0.0, 0.0, 0.0, 0.0, 0.0, 0.0, 0.0, 0.0, 0.0, 0.0, 0.0, 0.0, 0.0, 0.0, 0.0, 0.0, 0.0, 0.0, 0.0, 0.0, 0.0, 0.0, 0.0, 0.0, 0.0, 0.0, 0.0, 0.0, 0.0, 0.0, 0.0, 0.0, 0.0, 0.0, 0.0, 0.0, 0.0, 0.0, 0.0, 0.0, 0.0, 0.0, 0.0, 0.0, 0.0, 0.0, 0.0, 0.0, 0.0, 0.0, 0.0, 0.0, 0.0, 0.0, 0.0, 0.0, 0.0, 0.0, 0.0, 0.0, 0.0, 0.0, 0.0, 0.0, 0.0, 0.0, 0.0, 0.0, 0.0, 0.0, 0.0, 0.0, 0.0, 0.0, 0.0, 0.0, 0.0, 0.0, 0.0, 0.0, 0.0, 0.0, 0.0, 0.0, 0.0, 0.0, 0.0, 0.0, 0.0, 0.0, 0.0, 0.0, 0.0, 0.0, 0.0, 0.0, 0.0, 0.0, 0.0, 0.0, 0.0, 0.0, 0.0, 0.0, 0.0, 0.0, 0.0, 0.0, 0.0, 0.0, 0.0, 0.0, 0.0, 0.0, 0.0, 0.0, 0.0, 0.0, 0.0], \"sizemode\": \"area\", \"sizeref\": 0.0, \"symbol\": \"circle\"}, \"mode\": \"markers\", \"name\": \"Midfielder\", \"orientation\": \"v\", \"showlegend\": true, \"type\": \"scatter\", \"x\": [\"0.0\", \"0.0\", \"0.0\", \"0.0\", \"0.0\", \"0.0\", \"0.0\", \"0.0\", \"0.0\", \"0.0\", \"0.0\", \"0.0\", \"0.0\", \"0.0\", \"0.0\", \"0.0\", \"0.0\", \"0.0\", \"0.0\", \"0.0\", \"0.0\", \"0.0\", \"0.0\", \"0.0\", \"0.0\", \"0.0\", \"0.0\", \"0.0\", \"0.0\", \"0.0\", \"0.0\", \"0.0\", \"0.0\", \"0.0\", \"0.0\", \"0.0\", \"0.0\", \"0.0\", \"0.0\", \"0.0\", \"0.0\", \"0.0\", \"0.0\", \"0.0\", \"0.0\", \"0.0\", \"0.0\", \"0.0\", \"0.0\", \"0.0\", \"0.0\", \"0.0\", \"0.0\", \"0.0\", \"0.0\", \"0.0\", \"0.0\", \"0.0\", \"0.0\", \"0.0\", \"0.0\", \"0.0\", \"0.0\", \"0.0\", \"0.0\", \"0.0\", \"0.0\", \"0.0\", \"0.0\", \"0.0\", \"0.0\", \"0.0\", \"0.0\", \"0.0\", \"0.0\", \"0.0\", \"0.0\", \"0.0\", \"0.0\", \"0.0\", \"0.0\", \"0.0\", \"0.0\", \"0.0\", \"0.0\", \"0.0\", \"0.0\", \"0.0\", \"0.0\", \"0.0\", \"0.0\", \"0.0\", \"0.0\", \"0.0\", \"0.0\", \"0.0\", \"0.0\", \"0.0\", \"0.0\", \"0.0\", \"0.0\", \"0.0\", \"0.0\", \"0.0\", \"0.0\", \"0.0\", \"0.0\", \"0.0\", \"0.0\", \"0.0\", \"0.0\", \"0.0\", \"0.0\", \"0.0\", \"0.0\", \"0.0\", \"0.0\", \"0.0\", \"0.0\", \"0.0\", \"0.0\", \"0.0\", \"0.0\", \"0.0\", \"0.0\", \"0.0\", \"0.0\", \"0.0\", \"0.0\", \"0.0\", \"0.0\", \"0.0\", \"0.0\", \"0.0\", \"0.0\", \"0.0\", \"0.0\", \"0.0\", \"0.0\", \"0.0\", \"0.0\", \"0.0\", \"0.0\", \"0.0\", \"0.0\", \"0.0\", \"0.0\", \"0.0\", \"0.0\", \"0.0\", \"0.0\", \"0.0\", \"0.0\", \"0.0\", \"0.0\", \"0.0\", \"0.0\", \"0.0\", \"0.0\", \"0.0\", \"0.0\", \"0.0\", \"0.0\", \"0.0\", \"0.0\", \"0.0\", \"0.0\", \"0.0\", \"0.0\", \"0.0\", \"0.0\", \"0.0\", \"0.0\", \"0.0\", \"0.0\", \"0.0\", \"0.0\", \"0.0\", \"0.0\", \"0.0\", \"0.0\", \"0.0\", \"0.0\", \"0.0\", \"0.0\", \"0.0\", \"0.0\", \"0.0\", \"0.0\", \"0.0\", \"0.0\", \"0.0\", \"0.0\", \"0.0\", \"0.0\", \"0.0\", \"0.0\", \"0.0\"], \"xaxis\": \"x\", \"y\": [7.0, 12.0, 5.5, 8.0, 5.0, 5.0, 5.5, 4.5, 5.5, 5.0, 5.0, 8.0, 4.5, 6.0, 6.0, 7.0, 5.5, 5.5, 4.5, 6.0, 5.0, 6.5, 4.5, 6.0, 5.0, 5.0, 5.0, 6.0, 5.5, 5.5, 4.5, 4.5, 5.5, 5.0, 5.5, 5.5, 5.0, 5.0, 6.0, 5.0, 6.0, 5.5, 5.0, 8.0, 6.0, 8.5, 7.0, 6.0, 4.5, 5.5, 4.5, 5.0, 6.0, 6.0, 7.0, 5.5, 5.0, 4.5, 4.5, 6.0, 5.0, 7.0, 6.0, 5.5, 6.0, 5.0, 5.5, 4.5, 5.0, 5.0, 5.5, 5.5, 5.0, 5.5, 5.0, 5.0, 5.0, 4.5, 4.5, 5.5, 4.5, 5.5, 6.5, 6.5, 5.5, 7.0, 5.0, 7.0, 5.0, 6.0, 5.5, 5.0, 5.5, 5.0, 5.5, 5.0, 5.0, 4.5, 5.0, 4.5, 5.5, 5.5, 5.5, 6.5, 6.5, 12.0, 5.5, 12.0, 5.5, 6.5, 5.5, 4.5, 4.5, 5.5, 11.5, 8.5, 11.5, 7.5, 6.5, 4.5, 5.5, 7.0, 6.0, 5.0, 8.0, 5.5, 6.0, 10.5, 5.0, 9.5, 5.0, 6.5, 7.5, 4.5, 4.5, 5.5, 5.0, 5.5, 5.0, 5.0, 5.5, 6.0, 6.0, 5.0, 5.5, 5.0, 5.0, 5.0, 4.5, 6.5, 5.5, 6.0, 5.5, 4.5, 4.5, 4.5, 5.5, 5.0, 6.0, 9.0, 7.0, 8.0, 5.0, 5.5, 7.5, 5.0, 7.0, 4.5, 6.0, 5.0, 5.5, 5.5, 5.0, 4.5, 5.0, 5.0, 4.5, 4.5, 5.0, 6.0, 5.0, 6.0, 6.5, 6.5, 6.5, 5.5, 5.0, 5.0, 6.5, 5.5, 5.0, 6.5, 5.5, 6.5, 5.5, 5.0, 5.5, 4.5], \"yaxis\": \"y\"}, {\"customdata\": [[\"Arsenal\"], [\"Arsenal\"], [\"Arsenal\"], [\"Arsenal\"], [\"Arsenal\"], [\"Arsenal\"], [\"Arsenal\"], [\"Arsenal\"], [\"Arsenal\"], [\"Arsenal\"], [\"Arsenal\"], [\"Arsenal\"], [\"Aston Villa\"], [\"Aston Villa\"], [\"Aston Villa\"], [\"Aston Villa\"], [\"Aston Villa\"], [\"Aston Villa\"], [\"Aston Villa\"], [\"Aston Villa\"], [\"Aston Villa\"], [\"Brighton\"], [\"Brighton\"], [\"Brighton\"], [\"Brighton\"], [\"Brighton\"], [\"Brighton\"], [\"Brighton\"], [\"Brighton\"], [\"Brighton\"], [\"Brighton\"], [\"Burnley\"], [\"Burnley\"], [\"Burnley\"], [\"Burnley\"], [\"Burnley\"], [\"Burnley\"], [\"Burnley\"], [\"Burnley\"], [\"Chelsea\"], [\"Chelsea\"], [\"Chelsea\"], [\"Chelsea\"], [\"Chelsea\"], [\"Chelsea\"], [\"Chelsea\"], [\"Chelsea\"], [\"Crystal Palace\"], [\"Crystal Palace\"], [\"Crystal Palace\"], [\"Crystal Palace\"], [\"Crystal Palace\"], [\"Crystal Palace\"], [\"Crystal Palace\"], [\"Crystal Palace\"], [\"Everton\"], [\"Everton\"], [\"Everton\"], [\"Everton\"], [\"Everton\"], [\"Everton\"], [\"Everton\"], [\"Fulham\"], [\"Fulham\"], [\"Fulham\"], [\"Fulham\"], [\"Fulham\"], [\"Fulham\"], [\"Fulham\"], [\"Leicester\"], [\"Leicester\"], [\"Leicester\"], [\"Leicester\"], [\"Leicester\"], [\"Leicester\"], [\"Leicester\"], [\"Leicester\"], [\"Leicester\"], [\"Leicester\"], [\"Leeds\"], [\"Leeds\"], [\"Leeds\"], [\"Leeds\"], [\"Leeds\"], [\"Leeds\"], [\"Leeds\"], [\"Leeds\"], [\"Liverpool\"], [\"Liverpool\"], [\"Liverpool\"], [\"Liverpool\"], [\"Liverpool\"], [\"Liverpool\"], [\"Liverpool\"], [\"Man City\"], [\"Man City\"], [\"Man City\"], [\"Man City\"], [\"Man City\"], [\"Man City\"], [\"Man City\"], [\"Man City\"], [\"Man City\"], [\"Man City\"], [\"Man Utd\"], [\"Man Utd\"], [\"Man Utd\"], [\"Man Utd\"], [\"Man Utd\"], [\"Man Utd\"], [\"Man Utd\"], [\"Man Utd\"], [\"Man Utd\"], [\"Man Utd\"], [\"Man Utd\"], [\"Man Utd\"], [\"Man Utd\"], [\"Newcastle\"], [\"Newcastle\"], [\"Newcastle\"], [\"Newcastle\"], [\"Newcastle\"], [\"Newcastle\"], [\"Newcastle\"], [\"Newcastle\"], [\"Newcastle\"], [\"Newcastle\"], [\"Sheffield Utd\"], [\"Sheffield Utd\"], [\"Sheffield Utd\"], [\"Sheffield Utd\"], [\"Sheffield Utd\"], [\"Sheffield Utd\"], [\"Southampton\"], [\"Southampton\"], [\"Southampton\"], [\"Southampton\"], [\"Southampton\"], [\"Southampton\"], [\"Southampton\"], [\"Southampton\"], [\"Spurs\"], [\"Spurs\"], [\"Spurs\"], [\"Spurs\"], [\"Spurs\"], [\"Spurs\"], [\"Spurs\"], [\"Spurs\"], [\"Spurs\"], [\"West Brom\"], [\"West Brom\"], [\"West Brom\"], [\"West Brom\"], [\"West Brom\"], [\"West Brom\"], [\"West Brom\"], [\"West Ham\"], [\"West Ham\"], [\"West Ham\"], [\"West Ham\"], [\"West Ham\"], [\"West Ham\"], [\"West Ham\"], [\"Wolves\"], [\"Wolves\"], [\"Wolves\"], [\"Wolves\"], [\"Wolves\"], [\"Wolves\"], [\"Wolves\"], [\"Wolves\"], [\"Wolves\"]], \"hovertemplate\": \"<b>%{hovertext}</b><br><br>Player Type=Defender<br>points_per_game=%{x}<br>now_cost=%{y}<br>size=%{marker.size}<br>team_name=%{customdata[0]}<extra></extra>\", \"hovertext\": [\"Sokratis Sokratis\", \"David David Luiz\", \"C\\u00e9dric C\\u00e9dric\", \"Shkodran Mustafi\", \"Pablo Mar\\u00ed\", \"H\\u00e9ctor Beller\\u00edn\", \"Calum Chambers\", \"Sead Kolasinac\", \"Ainsley Maitland-Niles\", \"Rob Holding\", \"Kieran Tierney\", \"William Saliba\", \"Ahmed El Mohamady\", \"Neil Taylor\", \"Bjorn Engels\", \"Kortney Hause\", \"Tyrone Mings\", \"Matt Targett\", \"James Bree\", \"Ezri Konsa\", \"Fr\\u00e9d\\u00e9ric Guilbert\", \"Shane Duffy\", \"Dan Burn\", \"Lewis Dunk\", \"Mart\\u00edn Montoya\", \"Adam Webster\", \"Jo\\u00ebl Veltman\", \"Matthew Clarke\", \"Ben White\", \"Bernardo Bernardo\", \"Tariq Lamptey\", \"James Tarkowski\", \"Phil Bardsley\", \"Erik Pieters\", \"Kevin Long\", \"Ben Mee\", \"Matthew Lowton\", \"Ben Gibson\", \"Charlie Taylor\", \"C\\u00e9sar Azpilicueta\", \"Marcos Alonso\", \"Antonio R\\u00fcdiger\", \"Kurt Zouma\", \"Emerson Emerson\", \"Andreas Christensen\", \"Fikayo Tomori\", \"Reece James\", \"Gary Cahill\", \"Mamadou Sakho\", \"James Tomkins\", \"Joel Ward\", \"Martin Kelly\", \"Patrick van Aanholt\", \"Nathan Ferguson\", \"Tyrick Mitchell\", \"Seamus Coleman\", \"Lucas Digne\", \"Michael Keane\", \"Jonjoe Kenny\", \"Yerry Mina\", \"Mason Holgate\", \"Jarrad Branthwaite\", \"Maxime Le Marchand\", \"Tim Ream\", \"Michael Hector\", \"Cyrus Christie\", \"Joe Bryan\", \"Alfie Mawson\", \"Zeze Steven Sessegnon\", \"Wes Morgan\", \"Christian Fuchs\", \"Jonny Evans\", \"Ricardo Domingos Pereira\", \"Daniel Amartey\", \"Benjamin Chilwell\", \"Filip Benkovic\", \"\\u00c7aglar S\\u00f6y\\u00fcnc\\u00fc\", \"James Justin\", \"Luke Thomas\", \"Liam Cooper\", \"Barry Douglas\", \"Luke Ayling\", \"Stuart Dallas\", \"Ezgjan Alioski\", \"Pascal Struijk\", \"Leif Davis\", \"Oliver Casey\", \"Konstantinos Tsimikas\", \"Joel Matip\", \"Virgil van Dijk\", \"Andrew Robertson\", \"Trent Alexander-Arnold\", \"Joseph Gomez\", \"Neco Williams\", \"Fernando Fernandinho\", \"Nicol\\u00e1s Otamendi\", \"Kyle Walker\", \"John Stones\", \"Benjamin Mendy\", \"Jo\\u00e3o Pedro Cavaco Cancelo\", \"Nathan Ak\\u00e9\", \"Aymeric Laporte\", \"Oleksandr Zinchenko\", \"Eric Garcia\", \"Chris Smalling\", \"Marcos Rojo\", \"Phil Jones\", \"Harry Maguire\", \"Luke Shaw\", \"Axel Tuanzebe\", \"Victor Lindel\\u00f6f\", \"Eric Bailly\", \"Timothy Fosu-Mensah\", \"Aaron Wan-Bissaka\", \"Jos\\u00e9 Diogo Dalot\", \"Brandon Williams\", \"Teden Mengi\", \"Federico Fern\\u00e1ndez\", \"Ciaran Clark\", \"Florian Lejeune\", \"Jamaal Lascelles\", \"Paul Dummett\", \"Javier Manquillo\", \"Emil Krafth\", \"Fabian Sch\\u00e4r\", \"DeAndre Yedlin\", \"Kelland Watts\", \"Chris Basham\", \"Enda Stevens\", \"George Baldock\", \"Jack Jack Robinson\", \"John Egan\", \"Jack O'Connell\", \"Ryan Bertrand\", \"Jack Stephens\", \"Jannik Vestergaard\", \"Kyle Walker-Peters\", \"Jan Bednarek\", \"Yan Valery\", \"Jake Vokins\", \"Mohammed Salisu\", \"Danny Rose\", \"Toby Alderweireld\", \"Serge Aurier\", \"Eric Dier\", \"Ben Davies\", \"Davinson S\\u00e1nchez\", \"Ryan Sessegnon\", \"Japhet Tanganga\", \"Juan Foyth\", \"Kieran Gibbs\", \"Kyle Bartley\", \"Ahmed El-Sayed Hegazi\", \"Conor Townsend\", \"Oluwasemilogo Adesewo Ibidapo Ajayi\", \"Darnell Furlong\", \"Dara O'Shea\", \"Angelo Ogbonna\", \"Aaron Cresswell\", \"Ryan Fredericks\", \"Arthur Masuaku\", \"Fabi\\u00e1n Balbuena\", \"Issa Diop\", \"Ben Johnson\", \"Ryan Bennett\", \"Matt Doherty\", \"Willy Boly\", \"Conor Coady\", \"Romain Sa\\u00efss\", \"Jonathan Jonny\", \"Oskar Buur\", \"Max Kilman\", \"R\\u00faben Gon\\u00e7alo Vinagre\"], \"legendgroup\": \"Defender\", \"marker\": {\"color\": \"#EF553B\", \"size\": [0.0, 0.0, 0.0, 0.0, 0.0, 0.0, 0.0, 0.0, 0.0, 0.0, 0.0, 0.0, 0.0, 0.0, 0.0, 0.0, 0.0, 0.0, 0.0, 0.0, 0.0, 0.0, 0.0, 0.0, 0.0, 0.0, 0.0, 0.0, 0.0, 0.0, 0.0, 0.0, 0.0, 0.0, 0.0, 0.0, 0.0, 0.0, 0.0, 0.0, 0.0, 0.0, 0.0, 0.0, 0.0, 0.0, 0.0, 0.0, 0.0, 0.0, 0.0, 0.0, 0.0, 0.0, 0.0, 0.0, 0.0, 0.0, 0.0, 0.0, 0.0, 0.0, 0.0, 0.0, 0.0, 0.0, 0.0, 0.0, 0.0, 0.0, 0.0, 0.0, 0.0, 0.0, 0.0, 0.0, 0.0, 0.0, 0.0, 0.0, 0.0, 0.0, 0.0, 0.0, 0.0, 0.0, 0.0, 0.0, 0.0, 0.0, 0.0, 0.0, 0.0, 0.0, 0.0, 0.0, 0.0, 0.0, 0.0, 0.0, 0.0, 0.0, 0.0, 0.0, 0.0, 0.0, 0.0, 0.0, 0.0, 0.0, 0.0, 0.0, 0.0, 0.0, 0.0, 0.0, 0.0, 0.0, 0.0, 0.0, 0.0, 0.0, 0.0, 0.0, 0.0, 0.0, 0.0, 0.0, 0.0, 0.0, 0.0, 0.0, 0.0, 0.0, 0.0, 0.0, 0.0, 0.0, 0.0, 0.0, 0.0, 0.0, 0.0, 0.0, 0.0, 0.0, 0.0, 0.0, 0.0, 0.0, 0.0, 0.0, 0.0, 0.0, 0.0, 0.0, 0.0, 0.0, 0.0, 0.0, 0.0, 0.0, 0.0, 0.0, 0.0, 0.0, 0.0, 0.0, 0.0, 0.0, 0.0, 0.0, 0.0], \"sizemode\": \"area\", \"sizeref\": 0.0, \"symbol\": \"circle\"}, \"mode\": \"markers\", \"name\": \"Defender\", \"orientation\": \"v\", \"showlegend\": true, \"type\": \"scatter\", \"x\": [\"0.0\", \"0.0\", \"0.0\", \"0.0\", \"0.0\", \"0.0\", \"0.0\", \"0.0\", \"0.0\", \"0.0\", \"0.0\", \"0.0\", \"0.0\", \"0.0\", \"0.0\", \"0.0\", \"0.0\", \"0.0\", \"0.0\", \"0.0\", \"0.0\", \"0.0\", \"0.0\", \"0.0\", \"0.0\", \"0.0\", \"0.0\", \"0.0\", \"0.0\", \"0.0\", \"0.0\", \"0.0\", \"0.0\", \"0.0\", \"0.0\", \"0.0\", \"0.0\", \"0.0\", \"0.0\", \"0.0\", \"0.0\", \"0.0\", \"0.0\", \"0.0\", \"0.0\", \"0.0\", \"0.0\", \"0.0\", \"0.0\", \"0.0\", \"0.0\", \"0.0\", \"0.0\", \"0.0\", \"0.0\", \"0.0\", \"0.0\", \"0.0\", \"0.0\", \"0.0\", \"0.0\", \"0.0\", \"0.0\", \"0.0\", \"0.0\", \"0.0\", \"0.0\", \"0.0\", \"0.0\", \"0.0\", \"0.0\", \"0.0\", \"0.0\", \"0.0\", \"0.0\", \"0.0\", \"0.0\", \"0.0\", \"0.0\", \"0.0\", \"0.0\", \"0.0\", \"0.0\", \"0.0\", \"0.0\", \"0.0\", \"0.0\", \"0.0\", \"0.0\", \"0.0\", \"0.0\", \"0.0\", \"0.0\", \"0.0\", \"0.0\", \"0.0\", \"0.0\", \"0.0\", \"0.0\", \"0.0\", \"0.0\", \"0.0\", \"0.0\", \"0.0\", \"0.0\", \"0.0\", \"0.0\", \"0.0\", \"0.0\", \"0.0\", \"0.0\", \"0.0\", \"0.0\", \"0.0\", \"0.0\", \"0.0\", \"0.0\", \"0.0\", \"0.0\", \"0.0\", \"0.0\", \"0.0\", \"0.0\", \"0.0\", \"0.0\", \"0.0\", \"0.0\", \"0.0\", \"0.0\", \"0.0\", \"0.0\", \"0.0\", \"0.0\", \"0.0\", \"0.0\", \"0.0\", \"0.0\", \"0.0\", \"0.0\", \"0.0\", \"0.0\", \"0.0\", \"0.0\", \"0.0\", \"0.0\", \"0.0\", \"0.0\", \"0.0\", \"0.0\", \"0.0\", \"0.0\", \"0.0\", \"0.0\", \"0.0\", \"0.0\", \"0.0\", \"0.0\", \"0.0\", \"0.0\", \"0.0\", \"0.0\", \"0.0\", \"0.0\", \"0.0\", \"0.0\", \"0.0\", \"0.0\", \"0.0\", \"0.0\", \"0.0\", \"0.0\", \"0.0\", \"0.0\"], \"xaxis\": \"x\", \"y\": [5.0, 5.5, 5.0, 5.0, 4.5, 5.0, 4.5, 5.0, 5.0, 4.5, 5.5, 4.5, 4.5, 4.5, 4.5, 4.5, 5.0, 4.5, 4.5, 4.5, 4.5, 4.5, 4.5, 5.0, 4.5, 4.5, 4.5, 4.5, 4.5, 4.0, 4.5, 5.5, 4.5, 4.5, 4.5, 5.0, 4.5, 4.0, 4.5, 6.0, 6.0, 5.0, 5.0, 5.0, 5.0, 5.0, 5.0, 4.5, 4.5, 4.5, 4.5, 4.5, 5.5, 4.0, 4.0, 5.0, 6.0, 5.0, 4.5, 5.5, 5.0, 4.0, 4.5, 4.5, 4.5, 4.5, 5.0, 4.5, 4.5, 4.5, 4.5, 5.5, 6.0, 4.0, 5.5, 4.5, 5.5, 4.5, 4.5, 4.5, 4.0, 4.5, 4.5, 4.5, 4.0, 4.0, 4.0, 5.0, 5.5, 6.5, 7.0, 7.5, 5.5, 4.0, 5.5, 5.0, 6.0, 5.0, 6.0, 5.5, 5.5, 6.0, 5.5, 5.0, 5.0, 5.0, 5.0, 5.5, 5.0, 4.5, 5.0, 5.0, 4.5, 5.5, 5.0, 4.5, 4.0, 5.0, 4.5, 4.5, 4.5, 4.5, 4.5, 4.5, 5.0, 4.5, 4.0, 5.0, 5.5, 5.5, 4.5, 5.0, 5.0, 5.0, 5.0, 4.5, 4.5, 4.5, 5.0, 4.0, 4.5, 5.0, 5.5, 5.5, 5.0, 5.0, 5.5, 5.0, 5.0, 4.5, 4.5, 4.5, 4.5, 4.5, 5.0, 4.5, 4.5, 5.0, 5.0, 4.5, 4.5, 4.5, 4.5, 4.0, 4.5, 6.0, 5.5, 5.0, 5.0, 5.5, 4.0, 4.0, 4.5], \"yaxis\": \"y\"}, {\"customdata\": [[\"Arsenal\"], [\"Arsenal\"], [\"Aston Villa\"], [\"Aston Villa\"], [\"Aston Villa\"], [\"Aston Villa\"], [\"Brighton\"], [\"Brighton\"], [\"Brighton\"], [\"Brighton\"], [\"Burnley\"], [\"Burnley\"], [\"Burnley\"], [\"Burnley\"], [\"Chelsea\"], [\"Chelsea\"], [\"Chelsea\"], [\"Chelsea\"], [\"Crystal Palace\"], [\"Crystal Palace\"], [\"Crystal Palace\"], [\"Everton\"], [\"Everton\"], [\"Everton\"], [\"Everton\"], [\"Fulham\"], [\"Fulham\"], [\"Leicester\"], [\"Leicester\"], [\"Leeds\"], [\"Liverpool\"], [\"Liverpool\"], [\"Liverpool\"], [\"Man City\"], [\"Man City\"], [\"Man Utd\"], [\"Man Utd\"], [\"Newcastle\"], [\"Newcastle\"], [\"Newcastle\"], [\"Newcastle\"], [\"Sheffield Utd\"], [\"Sheffield Utd\"], [\"Sheffield Utd\"], [\"Sheffield Utd\"], [\"Sheffield Utd\"], [\"Southampton\"], [\"Southampton\"], [\"Southampton\"], [\"Southampton\"], [\"Spurs\"], [\"West Brom\"], [\"West Brom\"], [\"West Brom\"], [\"West Ham\"], [\"West Ham\"], [\"West Ham\"], [\"West Ham\"], [\"Wolves\"], [\"Wolves\"], [\"Wolves\"]], \"hovertemplate\": \"<b>%{hovertext}</b><br><br>Player Type=Forward<br>points_per_game=%{x}<br>now_cost=%{y}<br>size=%{marker.size}<br>team_name=%{customdata[0]}<extra></extra>\", \"hovertext\": [\"Alexandre Lacazette\", \"Edward Nketiah\", \"Wesley Wesley\", \"Mbwana Samatta\", \"Keinan Davis\", \"Indiana Vassilev\", \"Glenn Murray\", \"Florin Andone\", \"Neal Maupay\", \"Aaron Connolly\", \"Jay Rodriguez\", \"Ashley Barnes\", \"Chris Wood\", \"Matej Vydra\", \"Olivier Giroud\", \"Michy Batshuayi\", \"Timo Werner\", \"Tammy Abraham\", \"Christian Benteke\", \"Connor Wickham\", \"Jordan Ayew\", \"Cenk Tosun\", \"Dominic Calvert-Lewin\", \"Richarlison Richarlison\", \"Moise Kean\", \"Bobby Decordova-Reid\", \"Aleksandar Mitrovi\\u0107\", \"Jamie Vardy\", \"Kelechi Iheanacho\", \"Patrick Bamford\", \"Roberto Firmino\", \"Divock Origi\", \"Rhian Brewster\", \"Sergio Ag\\u00fcero\", \"Gabriel Fernando Jesus\", \"Odion Ighalo\", \"Anthony Martial\", \"Andy Carroll\", \"Dwight Gayle\", \"Joelinton C\\u00e1ssio Joelinton\", \"Yoshinori Muto\", \"Billy Sharp\", \"David McGoldrick\", \"Oliver McBurnie\", \"Callum Callum Robinson\", \"Lys Mousset\", \"Shane Long\", \"Danny Ings\", \"Che Adams\", \"Michael Obafemi\", \"Harry Kane\", \"Hal Robson-Kanu\", \"Charlie Austin\", \"Kenneth Zohore\", \"Michail Antonio\", \"S\\u00e9bastien Haller\", \"Jordan Hugill\", \"Albian Ajeti\", \"Ra\\u00fal Jim\\u00e9nez\", \"L\\u00e9o Bonatini\", \"Leonardo Campana\"], \"legendgroup\": \"Forward\", \"marker\": {\"color\": \"#00cc96\", \"size\": [0.0, 0.0, 0.0, 0.0, 0.0, 0.0, 0.0, 0.0, 0.0, 0.0, 0.0, 0.0, 0.0, 0.0, 0.0, 0.0, 0.0, 0.0, 0.0, 0.0, 0.0, 0.0, 0.0, 0.0, 0.0, 0.0, 0.0, 0.0, 0.0, 0.0, 0.0, 0.0, 0.0, 0.0, 0.0, 0.0, 0.0, 0.0, 0.0, 0.0, 0.0, 0.0, 0.0, 0.0, 0.0, 0.0, 0.0, 0.0, 0.0, 0.0, 0.0, 0.0, 0.0, 0.0, 0.0, 0.0, 0.0, 0.0, 0.0, 0.0, 0.0], \"sizemode\": \"area\", \"sizeref\": 0.0, \"symbol\": \"circle\"}, \"mode\": \"markers\", \"name\": \"Forward\", \"orientation\": \"v\", \"showlegend\": true, \"type\": \"scatter\", \"x\": [\"0.0\", \"0.0\", \"0.0\", \"0.0\", \"0.0\", \"0.0\", \"0.0\", \"0.0\", \"0.0\", \"0.0\", \"0.0\", \"0.0\", \"0.0\", \"0.0\", \"0.0\", \"0.0\", \"0.0\", \"0.0\", \"0.0\", \"0.0\", \"0.0\", \"0.0\", \"0.0\", \"0.0\", \"0.0\", \"0.0\", \"0.0\", \"0.0\", \"0.0\", \"0.0\", \"0.0\", \"0.0\", \"0.0\", \"0.0\", \"0.0\", \"0.0\", \"0.0\", \"0.0\", \"0.0\", \"0.0\", \"0.0\", \"0.0\", \"0.0\", \"0.0\", \"0.0\", \"0.0\", \"0.0\", \"0.0\", \"0.0\", \"0.0\", \"0.0\", \"0.0\", \"0.0\", \"0.0\", \"0.0\", \"0.0\", \"0.0\", \"0.0\", \"0.0\", \"0.0\", \"0.0\"], \"xaxis\": \"x\", \"y\": [8.5, 6.0, 6.0, 6.0, 4.5, 4.5, 5.0, 5.0, 6.5, 5.5, 6.0, 6.0, 6.5, 5.0, 7.0, 6.0, 9.5, 7.5, 5.5, 4.5, 6.0, 6.0, 7.0, 8.0, 6.0, 5.5, 6.0, 10.0, 6.0, 5.5, 9.5, 5.5, 4.5, 10.5, 9.5, 6.5, 9.0, 5.5, 6.0, 6.0, 5.0, 6.0, 5.5, 6.0, 5.5, 6.0, 5.5, 8.5, 6.0, 5.0, 10.5, 5.5, 5.5, 5.0, 6.5, 6.5, 5.5, 5.5, 8.5, 5.0, 5.0], \"yaxis\": \"y\"}, {\"customdata\": [[\"Arsenal\"], [\"Arsenal\"], [\"Aston Villa\"], [\"Aston Villa\"], [\"Aston Villa\"], [\"Brighton\"], [\"Brighton\"], [\"Burnley\"], [\"Burnley\"], [\"Chelsea\"], [\"Chelsea\"], [\"Crystal Palace\"], [\"Crystal Palace\"], [\"Everton\"], [\"Everton\"], [\"Everton\"], [\"Fulham\"], [\"Fulham\"], [\"Fulham\"], [\"Leicester\"], [\"Leicester\"], [\"Leeds\"], [\"Leeds\"], [\"Leeds\"], [\"Liverpool\"], [\"Liverpool\"], [\"Man City\"], [\"Man City\"], [\"Man Utd\"], [\"Man Utd\"], [\"Man Utd\"], [\"Newcastle\"], [\"Newcastle\"], [\"Sheffield Utd\"], [\"Sheffield Utd\"], [\"Southampton\"], [\"Southampton\"], [\"Spurs\"], [\"Spurs\"], [\"West Brom\"], [\"West Ham\"], [\"West Ham\"], [\"West Ham\"], [\"West Ham\"], [\"Wolves\"], [\"Wolves\"], [\"Wolves\"]], \"hovertemplate\": \"<b>%{hovertext}</b><br><br>Player Type=Goalkeeper<br>points_per_game=%{x}<br>now_cost=%{y}<br>size=%{marker.size}<br>team_name=%{customdata[0]}<extra></extra>\", \"hovertext\": [\"Bernd Leno\", \"Emiliano Mart\\u00ednez\", \"Tom Heaton\", \"Jed Steer\", \"\\u00d8rjan Nyland\", \"David Button\", \"Mathew Ryan\", \"Nick Pope\", \"Bailey Peacock-Farrell\", \"Willy Caballero\", \"Kepa Arrizabalaga\", \"Wayne Hennessey\", \"Vicente Guaita\", \"Jonas L\\u00f6ssl\", \"Jordan Pickford\", \"Jo\\u00e3o Virg\\u00ednia\", \"Fabricio Fabri\", \"Marcus Bettinelli\", \"Marek Rod\\u00e1k\", \"Kasper Schmeichel\", \"Danny Ward\", \"Francisco Casilla\", \"Kamil Miazek\", \"Illan Meslier\", \"Adri\\u00e1n Adri\\u00e1n\", \"Alisson Alisson\", \"Claudio Bravo\", \"Ederson Ederson\", \"Sergio Romero\", \"David de Gea\", \"Dean Henderson\", \"Karl Darlow\", \"Martin Dubravka\", \"Simon Moore\", \"Wes Foderingham\", \"Alex McCarthy\", \"Angus Gunn\", \"Hugo Lloris\", \"Paulo Gazzaniga\", \"Sam Johnstone\", \"David Martin\", \"Darren Randolph\", \"Lukasz Fabianski\", \"Roberto Roberto\", \"John Ruddy\", \"Rui Pedro Patr\\u00edcio\", \"Matija Sarkic\"], \"legendgroup\": \"Goalkeeper\", \"marker\": {\"color\": \"#ab63fa\", \"size\": [0.0, 0.0, 0.0, 0.0, 0.0, 0.0, 0.0, 0.0, 0.0, 0.0, 0.0, 0.0, 0.0, 0.0, 0.0, 0.0, 0.0, 0.0, 0.0, 0.0, 0.0, 0.0, 0.0, 0.0, 0.0, 0.0, 0.0, 0.0, 0.0, 0.0, 0.0, 0.0, 0.0, 0.0, 0.0, 0.0, 0.0, 0.0, 0.0, 0.0, 0.0, 0.0, 0.0, 0.0, 0.0, 0.0, 0.0], \"sizemode\": \"area\", \"sizeref\": 0.0, \"symbol\": \"circle\"}, \"mode\": \"markers\", \"name\": \"Goalkeeper\", \"orientation\": \"v\", \"showlegend\": true, \"type\": \"scatter\", \"x\": [\"0.0\", \"0.0\", \"0.0\", \"0.0\", \"0.0\", \"0.0\", \"0.0\", \"0.0\", \"0.0\", \"0.0\", \"0.0\", \"0.0\", \"0.0\", \"0.0\", \"0.0\", \"0.0\", \"0.0\", \"0.0\", \"0.0\", \"0.0\", \"0.0\", \"0.0\", \"0.0\", \"0.0\", \"0.0\", \"0.0\", \"0.0\", \"0.0\", \"0.0\", \"0.0\", \"0.0\", \"0.0\", \"0.0\", \"0.0\", \"0.0\", \"0.0\", \"0.0\", \"0.0\", \"0.0\", \"0.0\", \"0.0\", \"0.0\", \"0.0\", \"0.0\", \"0.0\", \"0.0\", \"0.0\"], \"xaxis\": \"x\", \"y\": [5.0, 4.5, 4.5, 4.0, 4.0, 4.0, 4.5, 5.5, 4.0, 5.0, 5.0, 4.5, 5.0, 4.5, 5.0, 4.5, 4.0, 4.5, 4.5, 5.5, 4.5, 4.5, 4.0, 4.5, 4.5, 6.0, 4.5, 6.0, 5.0, 5.5, 5.5, 5.0, 5.0, 4.5, 4.5, 4.5, 4.5, 5.5, 4.5, 4.5, 4.0, 4.5, 5.0, 4.5, 4.5, 5.5, 4.5], \"yaxis\": \"y\"}],\n",
       "                        {\"annotations\": [{\"showarrow\": false, \"text\": \"Bubble Size : Player Form\", \"x\": 1.15, \"xref\": \"paper\", \"y\": 1.1, \"yref\": \"paper\"}], \"legend\": {\"itemsizing\": \"constant\", \"title\": {\"text\": \"Player Type\"}, \"tracegroupgap\": 0}, \"showlegend\": true, \"template\": {\"data\": {\"bar\": [{\"error_x\": {\"color\": \"#2a3f5f\"}, \"error_y\": {\"color\": \"#2a3f5f\"}, \"marker\": {\"line\": {\"color\": \"#E5ECF6\", \"width\": 0.5}}, \"type\": \"bar\"}], \"barpolar\": [{\"marker\": {\"line\": {\"color\": \"#E5ECF6\", \"width\": 0.5}}, \"type\": \"barpolar\"}], \"carpet\": [{\"aaxis\": {\"endlinecolor\": \"#2a3f5f\", \"gridcolor\": \"white\", \"linecolor\": \"white\", \"minorgridcolor\": \"white\", \"startlinecolor\": \"#2a3f5f\"}, \"baxis\": {\"endlinecolor\": \"#2a3f5f\", \"gridcolor\": \"white\", \"linecolor\": \"white\", \"minorgridcolor\": \"white\", \"startlinecolor\": \"#2a3f5f\"}, \"type\": \"carpet\"}], \"choropleth\": [{\"colorbar\": {\"outlinewidth\": 0, \"ticks\": \"\"}, \"type\": \"choropleth\"}], \"contour\": [{\"colorbar\": {\"outlinewidth\": 0, \"ticks\": \"\"}, \"colorscale\": [[0.0, \"#0d0887\"], [0.1111111111111111, \"#46039f\"], [0.2222222222222222, \"#7201a8\"], [0.3333333333333333, \"#9c179e\"], [0.4444444444444444, \"#bd3786\"], [0.5555555555555556, \"#d8576b\"], [0.6666666666666666, \"#ed7953\"], [0.7777777777777778, \"#fb9f3a\"], [0.8888888888888888, \"#fdca26\"], [1.0, \"#f0f921\"]], \"type\": \"contour\"}], \"contourcarpet\": [{\"colorbar\": {\"outlinewidth\": 0, \"ticks\": \"\"}, \"type\": \"contourcarpet\"}], \"heatmap\": [{\"colorbar\": {\"outlinewidth\": 0, \"ticks\": \"\"}, \"colorscale\": [[0.0, \"#0d0887\"], [0.1111111111111111, \"#46039f\"], [0.2222222222222222, \"#7201a8\"], [0.3333333333333333, \"#9c179e\"], [0.4444444444444444, \"#bd3786\"], [0.5555555555555556, \"#d8576b\"], [0.6666666666666666, \"#ed7953\"], [0.7777777777777778, \"#fb9f3a\"], [0.8888888888888888, \"#fdca26\"], [1.0, \"#f0f921\"]], \"type\": \"heatmap\"}], \"heatmapgl\": [{\"colorbar\": {\"outlinewidth\": 0, \"ticks\": \"\"}, \"colorscale\": [[0.0, \"#0d0887\"], [0.1111111111111111, \"#46039f\"], [0.2222222222222222, \"#7201a8\"], [0.3333333333333333, \"#9c179e\"], [0.4444444444444444, \"#bd3786\"], [0.5555555555555556, \"#d8576b\"], [0.6666666666666666, \"#ed7953\"], [0.7777777777777778, \"#fb9f3a\"], [0.8888888888888888, \"#fdca26\"], [1.0, \"#f0f921\"]], \"type\": \"heatmapgl\"}], \"histogram\": [{\"marker\": {\"colorbar\": {\"outlinewidth\": 0, \"ticks\": \"\"}}, \"type\": \"histogram\"}], \"histogram2d\": [{\"colorbar\": {\"outlinewidth\": 0, \"ticks\": \"\"}, \"colorscale\": [[0.0, \"#0d0887\"], [0.1111111111111111, \"#46039f\"], [0.2222222222222222, \"#7201a8\"], [0.3333333333333333, \"#9c179e\"], [0.4444444444444444, \"#bd3786\"], [0.5555555555555556, \"#d8576b\"], [0.6666666666666666, \"#ed7953\"], [0.7777777777777778, \"#fb9f3a\"], [0.8888888888888888, \"#fdca26\"], [1.0, \"#f0f921\"]], \"type\": \"histogram2d\"}], \"histogram2dcontour\": [{\"colorbar\": {\"outlinewidth\": 0, \"ticks\": \"\"}, \"colorscale\": [[0.0, \"#0d0887\"], [0.1111111111111111, \"#46039f\"], [0.2222222222222222, \"#7201a8\"], [0.3333333333333333, \"#9c179e\"], [0.4444444444444444, \"#bd3786\"], [0.5555555555555556, \"#d8576b\"], [0.6666666666666666, \"#ed7953\"], [0.7777777777777778, \"#fb9f3a\"], [0.8888888888888888, \"#fdca26\"], [1.0, \"#f0f921\"]], \"type\": \"histogram2dcontour\"}], \"mesh3d\": [{\"colorbar\": {\"outlinewidth\": 0, \"ticks\": \"\"}, \"type\": \"mesh3d\"}], \"parcoords\": [{\"line\": {\"colorbar\": {\"outlinewidth\": 0, \"ticks\": \"\"}}, \"type\": \"parcoords\"}], \"pie\": [{\"automargin\": true, \"type\": \"pie\"}], \"scatter\": [{\"marker\": {\"colorbar\": {\"outlinewidth\": 0, \"ticks\": \"\"}}, \"type\": \"scatter\"}], \"scatter3d\": [{\"line\": {\"colorbar\": {\"outlinewidth\": 0, \"ticks\": \"\"}}, \"marker\": {\"colorbar\": {\"outlinewidth\": 0, \"ticks\": \"\"}}, \"type\": \"scatter3d\"}], \"scattercarpet\": [{\"marker\": {\"colorbar\": {\"outlinewidth\": 0, \"ticks\": \"\"}}, \"type\": \"scattercarpet\"}], \"scattergeo\": [{\"marker\": {\"colorbar\": {\"outlinewidth\": 0, \"ticks\": \"\"}}, \"type\": \"scattergeo\"}], \"scattergl\": [{\"marker\": {\"colorbar\": {\"outlinewidth\": 0, \"ticks\": \"\"}}, \"type\": \"scattergl\"}], \"scattermapbox\": [{\"marker\": {\"colorbar\": {\"outlinewidth\": 0, \"ticks\": \"\"}}, \"type\": \"scattermapbox\"}], \"scatterpolar\": [{\"marker\": {\"colorbar\": {\"outlinewidth\": 0, \"ticks\": \"\"}}, \"type\": \"scatterpolar\"}], \"scatterpolargl\": [{\"marker\": {\"colorbar\": {\"outlinewidth\": 0, \"ticks\": \"\"}}, \"type\": \"scatterpolargl\"}], \"scatterternary\": [{\"marker\": {\"colorbar\": {\"outlinewidth\": 0, \"ticks\": \"\"}}, \"type\": \"scatterternary\"}], \"surface\": [{\"colorbar\": {\"outlinewidth\": 0, \"ticks\": \"\"}, \"colorscale\": [[0.0, \"#0d0887\"], [0.1111111111111111, \"#46039f\"], [0.2222222222222222, \"#7201a8\"], [0.3333333333333333, \"#9c179e\"], [0.4444444444444444, \"#bd3786\"], [0.5555555555555556, \"#d8576b\"], [0.6666666666666666, \"#ed7953\"], [0.7777777777777778, \"#fb9f3a\"], [0.8888888888888888, \"#fdca26\"], [1.0, \"#f0f921\"]], \"type\": \"surface\"}], \"table\": [{\"cells\": {\"fill\": {\"color\": \"#EBF0F8\"}, \"line\": {\"color\": \"white\"}}, \"header\": {\"fill\": {\"color\": \"#C8D4E3\"}, \"line\": {\"color\": \"white\"}}, \"type\": \"table\"}]}, \"layout\": {\"annotationdefaults\": {\"arrowcolor\": \"#2a3f5f\", \"arrowhead\": 0, \"arrowwidth\": 1}, \"coloraxis\": {\"colorbar\": {\"outlinewidth\": 0, \"ticks\": \"\"}}, \"colorscale\": {\"diverging\": [[0, \"#8e0152\"], [0.1, \"#c51b7d\"], [0.2, \"#de77ae\"], [0.3, \"#f1b6da\"], [0.4, \"#fde0ef\"], [0.5, \"#f7f7f7\"], [0.6, \"#e6f5d0\"], [0.7, \"#b8e186\"], [0.8, \"#7fbc41\"], [0.9, \"#4d9221\"], [1, \"#276419\"]], \"sequential\": [[0.0, \"#0d0887\"], [0.1111111111111111, \"#46039f\"], [0.2222222222222222, \"#7201a8\"], [0.3333333333333333, \"#9c179e\"], [0.4444444444444444, \"#bd3786\"], [0.5555555555555556, \"#d8576b\"], [0.6666666666666666, \"#ed7953\"], [0.7777777777777778, \"#fb9f3a\"], [0.8888888888888888, \"#fdca26\"], [1.0, \"#f0f921\"]], \"sequentialminus\": [[0.0, \"#0d0887\"], [0.1111111111111111, \"#46039f\"], [0.2222222222222222, \"#7201a8\"], [0.3333333333333333, \"#9c179e\"], [0.4444444444444444, \"#bd3786\"], [0.5555555555555556, \"#d8576b\"], [0.6666666666666666, \"#ed7953\"], [0.7777777777777778, \"#fb9f3a\"], [0.8888888888888888, \"#fdca26\"], [1.0, \"#f0f921\"]]}, \"colorway\": [\"#636efa\", \"#EF553B\", \"#00cc96\", \"#ab63fa\", \"#FFA15A\", \"#19d3f3\", \"#FF6692\", \"#B6E880\", \"#FF97FF\", \"#FECB52\"], \"font\": {\"color\": \"#2a3f5f\"}, \"geo\": {\"bgcolor\": \"white\", \"lakecolor\": \"white\", \"landcolor\": \"#E5ECF6\", \"showlakes\": true, \"showland\": true, \"subunitcolor\": \"white\"}, \"hoverlabel\": {\"align\": \"left\"}, \"hovermode\": \"closest\", \"mapbox\": {\"style\": \"light\"}, \"paper_bgcolor\": \"white\", \"plot_bgcolor\": \"#E5ECF6\", \"polar\": {\"angularaxis\": {\"gridcolor\": \"white\", \"linecolor\": \"white\", \"ticks\": \"\"}, \"bgcolor\": \"#E5ECF6\", \"radialaxis\": {\"gridcolor\": \"white\", \"linecolor\": \"white\", \"ticks\": \"\"}}, \"scene\": {\"xaxis\": {\"backgroundcolor\": \"#E5ECF6\", \"gridcolor\": \"white\", \"gridwidth\": 2, \"linecolor\": \"white\", \"showbackground\": true, \"ticks\": \"\", \"zerolinecolor\": \"white\"}, \"yaxis\": {\"backgroundcolor\": \"#E5ECF6\", \"gridcolor\": \"white\", \"gridwidth\": 2, \"linecolor\": \"white\", \"showbackground\": true, \"ticks\": \"\", \"zerolinecolor\": \"white\"}, \"zaxis\": {\"backgroundcolor\": \"#E5ECF6\", \"gridcolor\": \"white\", \"gridwidth\": 2, \"linecolor\": \"white\", \"showbackground\": true, \"ticks\": \"\", \"zerolinecolor\": \"white\"}}, \"shapedefaults\": {\"line\": {\"color\": \"#2a3f5f\"}}, \"ternary\": {\"aaxis\": {\"gridcolor\": \"white\", \"linecolor\": \"white\", \"ticks\": \"\"}, \"baxis\": {\"gridcolor\": \"white\", \"linecolor\": \"white\", \"ticks\": \"\"}, \"bgcolor\": \"#E5ECF6\", \"caxis\": {\"gridcolor\": \"white\", \"linecolor\": \"white\", \"ticks\": \"\"}}, \"title\": {\"x\": 0.05}, \"xaxis\": {\"automargin\": true, \"gridcolor\": \"white\", \"linecolor\": \"white\", \"ticks\": \"\", \"title\": {\"standoff\": 15}, \"zerolinecolor\": \"white\", \"zerolinewidth\": 2}, \"yaxis\": {\"automargin\": true, \"gridcolor\": \"white\", \"linecolor\": \"white\", \"ticks\": \"\", \"title\": {\"standoff\": 15}, \"zerolinecolor\": \"white\", \"zerolinewidth\": 2}}}, \"title\": {\"text\": \"Most Suitable Player to Buy Currently\"}, \"xaxis\": {\"anchor\": \"y\", \"domain\": [0.0, 1.0], \"title\": {\"text\": \"Points Per Game\"}}, \"yaxis\": {\"anchor\": \"x\", \"domain\": [0.0, 1.0], \"tickprefix\": \"\\u00a3\", \"title\": {\"text\": \"Price\"}}},\n",
       "                        {\"responsive\": true}\n",
       "                    ).then(function(){\n",
       "                            \n",
       "var gd = document.getElementById('21218f77-2043-4f7c-8e84-1c436f017aaf');\n",
       "var x = new MutationObserver(function (mutations, observer) {{\n",
       "        var display = window.getComputedStyle(gd).display;\n",
       "        if (!display || display === 'none') {{\n",
       "            console.log([gd, 'removed!']);\n",
       "            Plotly.purge(gd);\n",
       "            observer.disconnect();\n",
       "        }}\n",
       "}});\n",
       "\n",
       "// Listen for the removal of the full notebook cells\n",
       "var notebookContainer = gd.closest('#notebook-container');\n",
       "if (notebookContainer) {{\n",
       "    x.observe(notebookContainer, {childList: true});\n",
       "}}\n",
       "\n",
       "// Listen for the clearing of the current output cell\n",
       "var outputEl = gd.closest('.output');\n",
       "if (outputEl) {{\n",
       "    x.observe(outputEl, {childList: true});\n",
       "}}\n",
       "\n",
       "                        })\n",
       "                };\n",
       "                });\n",
       "            </script>\n",
       "        </div>"
      ]
     },
     "metadata": {},
     "output_type": "display_data"
    }
   ],
   "source": [
    "cf.go_offline()\n",
    "\n",
    "df = players_details[['form','points_per_game','now_cost','team_name','singular_name','first_name','web_name']]\n",
    "df[\"now_cost\"] = df[\"now_cost\"]/10\n",
    "df.rename(columns = {'singular_name' : \"Player Type\"}, inplace = True)\n",
    "df[\"name\"] = df[\"first_name\"] + ' ' + df[\"web_name\"]\n",
    "fig = px.scatter(df, x='points_per_game', \n",
    "                 y='now_cost',  \n",
    "                 size = (players_details[\"form\"].astype(float).values + abs(players_details[\"form\"].astype(float).values.min()))*1.5, \n",
    "                 hover_name = \"name\",\n",
    "                 hover_data= [\"team_name\"],\n",
    "                 color =\"Player Type\",\n",
    "                 title = \"Most Suitable Player to Buy Currently\"\n",
    "                )\n",
    "fig['layout']['yaxis'].update({'title': 'Price', 'tickprefix': '£'})\n",
    "fig['layout']['xaxis'].update({'title': 'Points Per Game'})\n",
    "fig.update_layout(\n",
    "    showlegend=True,\n",
    "    annotations=[\n",
    "        dict(\n",
    "            x=1.15,\n",
    "            y=1.10,\n",
    "            xref=\"paper\",\n",
    "            yref=\"paper\",\n",
    "            showarrow=False,\n",
    "            text=\"Bubble Size : Player Form\"\n",
    "        )\n",
    "    ]\n",
    ")\n",
    "\n",
    "fig.show()"
   ]
  },
  {
   "cell_type": "code",
   "execution_count": null,
   "metadata": {},
   "outputs": [],
   "source": []
  }
 ],
 "metadata": {
  "kernelspec": {
   "display_name": "Python 3",
   "language": "python",
   "name": "python3"
  },
  "language_info": {
   "codemirror_mode": {
    "name": "ipython",
    "version": 3
   },
   "file_extension": ".py",
   "mimetype": "text/x-python",
   "name": "python",
   "nbconvert_exporter": "python",
   "pygments_lexer": "ipython3",
   "version": "3.7.8"
  }
 },
 "nbformat": 4,
 "nbformat_minor": 2
}
