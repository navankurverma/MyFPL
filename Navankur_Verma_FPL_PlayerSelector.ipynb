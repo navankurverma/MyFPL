{
 "cells": [
  {
   "cell_type": "markdown",
   "metadata": {},
   "source": [
    "\n",
    "# Fantasy Premier League - Player Selector\n",
    "# Navankur Verma - navankurverma@gmail.com"
   ]
  },
  {
   "cell_type": "markdown",
   "metadata": {},
   "source": [
    "[(Parent link)](https://navankurverma.github.io/MyFPL/Navankur_Verma_FPL.html)"
   ]
  },
  {
   "cell_type": "markdown",
   "metadata": {},
   "source": [
    "Libraries Used:"
   ]
  },
  {
   "cell_type": "code",
   "execution_count": 1,
   "metadata": {
    "execution": {
     "iopub.execute_input": "2022-04-18T04:27:20.638365Z",
     "iopub.status.busy": "2022-04-18T04:27:20.638091Z",
     "iopub.status.idle": "2022-04-18T04:27:23.067746Z",
     "shell.execute_reply": "2022-04-18T04:27:23.066896Z"
    }
   },
   "outputs": [],
   "source": [
    "import requests\n",
    "import json\n",
    "import pandas as pd\n",
    "import numpy as np\n",
    "import matplotlib\n",
    "import matplotlib.pyplot as plt\n",
    "import seaborn as sns\n",
    "import cufflinks as cf\n",
    "import plotly.express as px\n",
    "%matplotlib inline"
   ]
  },
  {
   "cell_type": "markdown",
   "metadata": {},
   "source": [
    "### Pull General FPL Data \n",
    "[Move to top](#Fantasy-Premier-League---Player-Selector)"
   ]
  },
  {
   "cell_type": "code",
   "execution_count": 2,
   "metadata": {
    "execution": {
     "iopub.execute_input": "2022-04-18T04:27:23.071801Z",
     "iopub.status.busy": "2022-04-18T04:27:23.071551Z",
     "iopub.status.idle": "2022-04-18T04:27:23.264557Z",
     "shell.execute_reply": "2022-04-18T04:27:23.263430Z"
    }
   },
   "outputs": [],
   "source": [
    "#Whole Data\n",
    "fpl = requests.get(\"https://fantasy.premierleague.com/api/bootstrap-static/\")\n",
    "fpl = fpl.json()"
   ]
  },
  {
   "cell_type": "code",
   "execution_count": 3,
   "metadata": {
    "execution": {
     "iopub.execute_input": "2022-04-18T04:27:23.271014Z",
     "iopub.status.busy": "2022-04-18T04:27:23.270629Z",
     "iopub.status.idle": "2022-04-18T04:27:23.280698Z",
     "shell.execute_reply": "2022-04-18T04:27:23.279907Z"
    }
   },
   "outputs": [],
   "source": [
    "if 'teams' in fpl:\n",
    "    teams = pd.DataFrame(fpl['teams'])\n",
    "    teams = teams.iloc[:,[0,3,5,9,10,14,15,16,17,18,19]] #picking only valuable columns\n",
    "    teams.rename(columns = {'code': 'team_code', 'id': 'team_id', 'name': 'team_name'}, inplace = True)\n",
    "    teams\n",
    "else:\n",
    "    print('Teams data not found')"
   ]
  },
  {
   "cell_type": "code",
   "execution_count": 4,
   "metadata": {
    "execution": {
     "iopub.execute_input": "2022-04-18T04:27:23.284636Z",
     "iopub.status.busy": "2022-04-18T04:27:23.284179Z",
     "iopub.status.idle": "2022-04-18T04:27:23.290180Z",
     "shell.execute_reply": "2022-04-18T04:27:23.289414Z"
    }
   },
   "outputs": [],
   "source": [
    "if 'element_types' in fpl:\n",
    "    element_types = pd.DataFrame(fpl['element_types'])\n",
    "    element_types.rename(columns= {'id': 'element_type'}, inplace = True)\n",
    "    element_types\n",
    "else:\n",
    "    print('Element_types data not found')"
   ]
  },
  {
   "cell_type": "code",
   "execution_count": 5,
   "metadata": {
    "execution": {
     "iopub.execute_input": "2022-04-18T04:27:23.294001Z",
     "iopub.status.busy": "2022-04-18T04:27:23.293554Z",
     "iopub.status.idle": "2022-04-18T04:27:23.314201Z",
     "shell.execute_reply": "2022-04-18T04:27:23.313384Z"
    }
   },
   "outputs": [],
   "source": [
    "if 'elements' in fpl:\n",
    "    players = fpl['elements']\n",
    "    players = pd.DataFrame(players)\n",
    "else:\n",
    "    print('Players data not found')"
   ]
  },
  {
   "cell_type": "markdown",
   "metadata": {},
   "source": [
    "#### Cleaning Public Data\n",
    "[Move to top](#Fantasy-Premier-League---Player-Selector)"
   ]
  },
  {
   "cell_type": "code",
   "execution_count": 6,
   "metadata": {
    "execution": {
     "iopub.execute_input": "2022-04-18T04:27:23.317875Z",
     "iopub.status.busy": "2022-04-18T04:27:23.317409Z",
     "iopub.status.idle": "2022-04-18T04:27:23.335845Z",
     "shell.execute_reply": "2022-04-18T04:27:23.335083Z"
    }
   },
   "outputs": [
    {
     "data": {
      "text/plain": [
       "chance_of_playing_next_round           167\n",
       "chance_of_playing_this_round           167\n",
       "code                                     0\n",
       "cost_change_event                        0\n",
       "cost_change_event_fall                   0\n",
       "                                      ... \n",
       "corners_and_indirect_freekicks_text      0\n",
       "direct_freekicks_order                 640\n",
       "direct_freekicks_text                    0\n",
       "penalties_order                        657\n",
       "penalties_text                           0\n",
       "Length: 67, dtype: int64"
      ]
     },
     "execution_count": 6,
     "metadata": {},
     "output_type": "execute_result"
    }
   ],
   "source": [
    "players.isnull().sum()"
   ]
  },
  {
   "cell_type": "code",
   "execution_count": 7,
   "metadata": {
    "execution": {
     "iopub.execute_input": "2022-04-18T04:27:23.367263Z",
     "iopub.status.busy": "2022-04-18T04:27:23.366453Z",
     "iopub.status.idle": "2022-04-18T04:27:23.372599Z",
     "shell.execute_reply": "2022-04-18T04:27:23.371811Z"
    }
   },
   "outputs": [],
   "source": [
    "#Replacing missing values with Zeroes\n",
    "players['chance_of_playing_next_round'] = players['chance_of_playing_next_round'].fillna(0)\n",
    "players['chance_of_playing_this_round'] = players['chance_of_playing_this_round'].fillna(0)"
   ]
  },
  {
   "cell_type": "code",
   "execution_count": 8,
   "metadata": {
    "execution": {
     "iopub.execute_input": "2022-04-18T04:27:23.376022Z",
     "iopub.status.busy": "2022-04-18T04:27:23.375411Z",
     "iopub.status.idle": "2022-04-18T04:27:23.385569Z",
     "shell.execute_reply": "2022-04-18T04:27:23.384791Z"
    }
   },
   "outputs": [
    {
     "data": {
      "text/plain": [
       "chance_of_playing_next_round             0\n",
       "chance_of_playing_this_round             0\n",
       "code                                     0\n",
       "cost_change_event                        0\n",
       "cost_change_event_fall                   0\n",
       "                                      ... \n",
       "corners_and_indirect_freekicks_text      0\n",
       "direct_freekicks_order                 640\n",
       "direct_freekicks_text                    0\n",
       "penalties_order                        657\n",
       "penalties_text                           0\n",
       "Length: 67, dtype: int64"
      ]
     },
     "execution_count": 8,
     "metadata": {},
     "output_type": "execute_result"
    }
   ],
   "source": [
    "players.isnull().sum()"
   ]
  },
  {
   "cell_type": "markdown",
   "metadata": {},
   "source": [
    "Column Description by its index:  \n",
    "14,12,35,26,27,8 <- id, name, teamName, position  \n",
    "29,30,31,32 <- Transfer details  \n",
    "25,0,1 <- Chances of playing  \n",
    "7, 11,13,15,20,28,18,22 <- fpl related details  \n",
    "36,37,38,39,40,41,42,43,44,45,46,47,48,49,50,51,52 <- onfield stats  \n",
    "Selecting only above columns:"
   ]
  },
  {
   "cell_type": "code",
   "execution_count": 9,
   "metadata": {
    "execution": {
     "iopub.execute_input": "2022-04-18T04:27:23.389144Z",
     "iopub.status.busy": "2022-04-18T04:27:23.388447Z",
     "iopub.status.idle": "2022-04-18T04:27:23.395899Z",
     "shell.execute_reply": "2022-04-18T04:27:23.394960Z"
    }
   },
   "outputs": [],
   "source": [
    "players.rename(columns = {'id': 'element'}, inplace = True)\n",
    "players_details = players.iloc[:,[14,12,35,26,27,8, 36,37,38,39,40,41,42,43,44,45,46,47,48,49,50,51,52, 7,11,13,15,20,28,18,22,29,30,31,32,25,0,1]]"
   ]
  },
  {
   "cell_type": "markdown",
   "metadata": {},
   "source": [
    "Joining players data with their corresponding details and teams:"
   ]
  },
  {
   "cell_type": "code",
   "execution_count": 10,
   "metadata": {
    "execution": {
     "iopub.execute_input": "2022-04-18T04:27:23.400151Z",
     "iopub.status.busy": "2022-04-18T04:27:23.399938Z",
     "iopub.status.idle": "2022-04-18T04:27:23.419148Z",
     "shell.execute_reply": "2022-04-18T04:27:23.418115Z"
    }
   },
   "outputs": [],
   "source": [
    "players_details = players_details.merge(teams[[\"team_code\",\"team_name\"]],\n",
    "                                        on = \"team_code\").merge(element_types[[\"singular_name\",\"element_type\"]],\n",
    "                                                                on = \"element_type\")\n",
    "players_details.drop(['team','team_code'], axis=1, inplace = True)\n",
    "players_details.set_index('element', inplace = True)"
   ]
  },
  {
   "cell_type": "code",
   "execution_count": 11,
   "metadata": {
    "execution": {
     "iopub.execute_input": "2022-04-18T04:27:23.422982Z",
     "iopub.status.busy": "2022-04-18T04:27:23.422752Z",
     "iopub.status.idle": "2022-04-18T04:27:23.446082Z",
     "shell.execute_reply": "2022-04-18T04:27:23.445302Z"
    }
   },
   "outputs": [
    {
     "data": {
      "text/html": [
       "<div>\n",
       "<style scoped>\n",
       "    .dataframe tbody tr th:only-of-type {\n",
       "        vertical-align: middle;\n",
       "    }\n",
       "\n",
       "    .dataframe tbody tr th {\n",
       "        vertical-align: top;\n",
       "    }\n",
       "\n",
       "    .dataframe thead th {\n",
       "        text-align: right;\n",
       "    }\n",
       "</style>\n",
       "<table border=\"1\" class=\"dataframe\">\n",
       "  <thead>\n",
       "    <tr style=\"text-align: right;\">\n",
       "      <th></th>\n",
       "      <th>first_name</th>\n",
       "      <th>web_name</th>\n",
       "      <th>element_type</th>\n",
       "      <th>minutes</th>\n",
       "      <th>goals_scored</th>\n",
       "      <th>assists</th>\n",
       "      <th>clean_sheets</th>\n",
       "      <th>goals_conceded</th>\n",
       "      <th>own_goals</th>\n",
       "      <th>penalties_saved</th>\n",
       "      <th>...</th>\n",
       "      <th>selected_by_percent</th>\n",
       "      <th>transfers_in</th>\n",
       "      <th>transfers_in_event</th>\n",
       "      <th>transfers_out</th>\n",
       "      <th>transfers_out_event</th>\n",
       "      <th>status</th>\n",
       "      <th>chance_of_playing_next_round</th>\n",
       "      <th>chance_of_playing_this_round</th>\n",
       "      <th>team_name</th>\n",
       "      <th>singular_name</th>\n",
       "    </tr>\n",
       "    <tr>\n",
       "      <th>element</th>\n",
       "      <th></th>\n",
       "      <th></th>\n",
       "      <th></th>\n",
       "      <th></th>\n",
       "      <th></th>\n",
       "      <th></th>\n",
       "      <th></th>\n",
       "      <th></th>\n",
       "      <th></th>\n",
       "      <th></th>\n",
       "      <th></th>\n",
       "      <th></th>\n",
       "      <th></th>\n",
       "      <th></th>\n",
       "      <th></th>\n",
       "      <th></th>\n",
       "      <th></th>\n",
       "      <th></th>\n",
       "      <th></th>\n",
       "      <th></th>\n",
       "      <th></th>\n",
       "    </tr>\n",
       "  </thead>\n",
       "  <tbody>\n",
       "    <tr>\n",
       "      <th>1</th>\n",
       "      <td>Bernd</td>\n",
       "      <td>Leno</td>\n",
       "      <td>1</td>\n",
       "      <td>360</td>\n",
       "      <td>0</td>\n",
       "      <td>0</td>\n",
       "      <td>1</td>\n",
       "      <td>9</td>\n",
       "      <td>0</td>\n",
       "      <td>0</td>\n",
       "      <td>...</td>\n",
       "      <td>0.9</td>\n",
       "      <td>79901</td>\n",
       "      <td>33</td>\n",
       "      <td>200562</td>\n",
       "      <td>203</td>\n",
       "      <td>a</td>\n",
       "      <td>100.0</td>\n",
       "      <td>100.0</td>\n",
       "      <td>Arsenal</td>\n",
       "      <td>Goalkeeper</td>\n",
       "    </tr>\n",
       "    <tr>\n",
       "      <th>2</th>\n",
       "      <td>Rúnar Alex</td>\n",
       "      <td>Rúnarsson</td>\n",
       "      <td>1</td>\n",
       "      <td>0</td>\n",
       "      <td>0</td>\n",
       "      <td>0</td>\n",
       "      <td>0</td>\n",
       "      <td>0</td>\n",
       "      <td>0</td>\n",
       "      <td>0</td>\n",
       "      <td>...</td>\n",
       "      <td>0.5</td>\n",
       "      <td>19017</td>\n",
       "      <td>0</td>\n",
       "      <td>80031</td>\n",
       "      <td>20</td>\n",
       "      <td>u</td>\n",
       "      <td>0.0</td>\n",
       "      <td>0.0</td>\n",
       "      <td>Arsenal</td>\n",
       "      <td>Goalkeeper</td>\n",
       "    </tr>\n",
       "    <tr>\n",
       "      <th>532</th>\n",
       "      <td>Karl</td>\n",
       "      <td>Hein</td>\n",
       "      <td>1</td>\n",
       "      <td>0</td>\n",
       "      <td>0</td>\n",
       "      <td>0</td>\n",
       "      <td>0</td>\n",
       "      <td>0</td>\n",
       "      <td>0</td>\n",
       "      <td>0</td>\n",
       "      <td>...</td>\n",
       "      <td>0.4</td>\n",
       "      <td>50944</td>\n",
       "      <td>0</td>\n",
       "      <td>42888</td>\n",
       "      <td>30</td>\n",
       "      <td>u</td>\n",
       "      <td>0.0</td>\n",
       "      <td>0.0</td>\n",
       "      <td>Arsenal</td>\n",
       "      <td>Goalkeeper</td>\n",
       "    </tr>\n",
       "    <tr>\n",
       "      <th>559</th>\n",
       "      <td>Aaron</td>\n",
       "      <td>Ramsdale</td>\n",
       "      <td>1</td>\n",
       "      <td>2430</td>\n",
       "      <td>0</td>\n",
       "      <td>0</td>\n",
       "      <td>12</td>\n",
       "      <td>28</td>\n",
       "      <td>0</td>\n",
       "      <td>0</td>\n",
       "      <td>...</td>\n",
       "      <td>19.1</td>\n",
       "      <td>2889544</td>\n",
       "      <td>967</td>\n",
       "      <td>1349107</td>\n",
       "      <td>6777</td>\n",
       "      <td>a</td>\n",
       "      <td>100.0</td>\n",
       "      <td>100.0</td>\n",
       "      <td>Arsenal</td>\n",
       "      <td>Goalkeeper</td>\n",
       "    </tr>\n",
       "    <tr>\n",
       "      <th>572</th>\n",
       "      <td>Arthur</td>\n",
       "      <td>Okonkwo</td>\n",
       "      <td>1</td>\n",
       "      <td>0</td>\n",
       "      <td>0</td>\n",
       "      <td>0</td>\n",
       "      <td>0</td>\n",
       "      <td>0</td>\n",
       "      <td>0</td>\n",
       "      <td>0</td>\n",
       "      <td>...</td>\n",
       "      <td>0.8</td>\n",
       "      <td>98665</td>\n",
       "      <td>293</td>\n",
       "      <td>39194</td>\n",
       "      <td>169</td>\n",
       "      <td>a</td>\n",
       "      <td>0.0</td>\n",
       "      <td>0.0</td>\n",
       "      <td>Arsenal</td>\n",
       "      <td>Goalkeeper</td>\n",
       "    </tr>\n",
       "  </tbody>\n",
       "</table>\n",
       "<p>5 rows × 37 columns</p>\n",
       "</div>"
      ],
      "text/plain": [
       "         first_name   web_name  element_type  minutes  goals_scored  assists  \\\n",
       "element                                                                        \n",
       "1             Bernd       Leno             1      360             0        0   \n",
       "2        Rúnar Alex  Rúnarsson             1        0             0        0   \n",
       "532            Karl       Hein             1        0             0        0   \n",
       "559           Aaron   Ramsdale             1     2430             0        0   \n",
       "572          Arthur    Okonkwo             1        0             0        0   \n",
       "\n",
       "         clean_sheets  goals_conceded  own_goals  penalties_saved  ...  \\\n",
       "element                                                            ...   \n",
       "1                   1               9          0                0  ...   \n",
       "2                   0               0          0                0  ...   \n",
       "532                 0               0          0                0  ...   \n",
       "559                12              28          0                0  ...   \n",
       "572                 0               0          0                0  ...   \n",
       "\n",
       "         selected_by_percent  transfers_in  transfers_in_event  transfers_out  \\\n",
       "element                                                                         \n",
       "1                        0.9         79901                  33         200562   \n",
       "2                        0.5         19017                   0          80031   \n",
       "532                      0.4         50944                   0          42888   \n",
       "559                     19.1       2889544                 967        1349107   \n",
       "572                      0.8         98665                 293          39194   \n",
       "\n",
       "         transfers_out_event  status chance_of_playing_next_round  \\\n",
       "element                                                             \n",
       "1                        203       a                        100.0   \n",
       "2                         20       u                          0.0   \n",
       "532                       30       u                          0.0   \n",
       "559                     6777       a                        100.0   \n",
       "572                      169       a                          0.0   \n",
       "\n",
       "        chance_of_playing_this_round team_name singular_name  \n",
       "element                                                       \n",
       "1                              100.0   Arsenal    Goalkeeper  \n",
       "2                                0.0   Arsenal    Goalkeeper  \n",
       "532                              0.0   Arsenal    Goalkeeper  \n",
       "559                            100.0   Arsenal    Goalkeeper  \n",
       "572                              0.0   Arsenal    Goalkeeper  \n",
       "\n",
       "[5 rows x 37 columns]"
      ]
     },
     "execution_count": 11,
     "metadata": {},
     "output_type": "execute_result"
    }
   ],
   "source": [
    "players_details.head()"
   ]
  },
  {
   "cell_type": "markdown",
   "metadata": {},
   "source": [
    "#### Most Suitable Player to Buy Currently\n",
    "[Move to top](#Fantasy-Premier-League---Player-Selector)"
   ]
  },
  {
   "cell_type": "code",
   "execution_count": 12,
   "metadata": {
    "execution": {
     "iopub.execute_input": "2022-04-18T04:27:23.449811Z",
     "iopub.status.busy": "2022-04-18T04:27:23.449589Z",
     "iopub.status.idle": "2022-04-18T04:27:23.891240Z",
     "shell.execute_reply": "2022-04-18T04:27:23.890590Z"
    }
   },
   "outputs": [
    {
     "data": {
      "text/html": [
       "        <script type=\"text/javascript\">\n",
       "        window.PlotlyConfig = {MathJaxConfig: 'local'};\n",
       "        if (window.MathJax) {MathJax.Hub.Config({SVG: {font: \"STIX-Web\"}});}\n",
       "        if (typeof require !== 'undefined') {\n",
       "        require.undef(\"plotly\");\n",
       "        requirejs.config({\n",
       "            paths: {\n",
       "                'plotly': ['https://cdn.plot.ly/plotly-2.11.1.min']\n",
       "            }\n",
       "        });\n",
       "        require(['plotly'], function(Plotly) {\n",
       "            window._Plotly = Plotly;\n",
       "        });\n",
       "        }\n",
       "        </script>\n",
       "        "
      ]
     },
     "metadata": {},
     "output_type": "display_data"
    },
    {
     "data": {
      "application/vnd.plotly.v1+json": {
       "config": {
        "plotlyServerURL": "https://plot.ly"
       },
       "data": [
        {
         "customdata": [
          [
           "Arsenal"
          ],
          [
           "Arsenal"
          ],
          [
           "Arsenal"
          ],
          [
           "Arsenal"
          ],
          [
           "Arsenal"
          ],
          [
           "Aston Villa"
          ],
          [
           "Aston Villa"
          ],
          [
           "Aston Villa"
          ],
          [
           "Aston Villa"
          ],
          [
           "Aston Villa"
          ],
          [
           "Brentford"
          ],
          [
           "Brentford"
          ],
          [
           "Brentford"
          ],
          [
           "Brentford"
          ],
          [
           "Brentford"
          ],
          [
           "Brentford"
          ],
          [
           "Brighton"
          ],
          [
           "Brighton"
          ],
          [
           "Brighton"
          ],
          [
           "Brighton"
          ],
          [
           "Brighton"
          ],
          [
           "Burnley"
          ],
          [
           "Burnley"
          ],
          [
           "Burnley"
          ],
          [
           "Burnley"
          ],
          [
           "Burnley"
          ],
          [
           "Chelsea"
          ],
          [
           "Chelsea"
          ],
          [
           "Chelsea"
          ],
          [
           "Crystal Palace"
          ],
          [
           "Crystal Palace"
          ],
          [
           "Crystal Palace"
          ],
          [
           "Everton"
          ],
          [
           "Everton"
          ],
          [
           "Everton"
          ],
          [
           "Everton"
          ],
          [
           "Everton"
          ],
          [
           "Leicester"
          ],
          [
           "Leicester"
          ],
          [
           "Leicester"
          ],
          [
           "Leeds"
          ],
          [
           "Leeds"
          ],
          [
           "Leeds"
          ],
          [
           "Liverpool"
          ],
          [
           "Liverpool"
          ],
          [
           "Liverpool"
          ],
          [
           "Liverpool"
          ],
          [
           "Man City"
          ],
          [
           "Man City"
          ],
          [
           "Man City"
          ],
          [
           "Man City"
          ],
          [
           "Man Utd"
          ],
          [
           "Man Utd"
          ],
          [
           "Man Utd"
          ],
          [
           "Newcastle"
          ],
          [
           "Newcastle"
          ],
          [
           "Newcastle"
          ],
          [
           "Newcastle"
          ],
          [
           "Norwich"
          ],
          [
           "Norwich"
          ],
          [
           "Norwich"
          ],
          [
           "Norwich"
          ],
          [
           "Southampton"
          ],
          [
           "Southampton"
          ],
          [
           "Southampton"
          ],
          [
           "Southampton"
          ],
          [
           "Spurs"
          ],
          [
           "Spurs"
          ],
          [
           "Spurs"
          ],
          [
           "Spurs"
          ],
          [
           "Watford"
          ],
          [
           "Watford"
          ],
          [
           "Watford"
          ],
          [
           "Watford"
          ],
          [
           "West Ham"
          ],
          [
           "West Ham"
          ],
          [
           "West Ham"
          ],
          [
           "Wolves"
          ],
          [
           "Wolves"
          ],
          [
           "Wolves"
          ],
          [
           "Wolves"
          ],
          [
           "Wolves"
          ],
          [
           "Wolves"
          ]
         ],
         "hovertemplate": "<b>%{hovertext}</b><br><br>Player Type=Goalkeeper<br>points_per_game=%{x}<br>now_cost=%{y}<br>size=%{marker.size}<br>team_name=%{customdata[0]}<extra></extra>",
         "hovertext": [
          "Bernd Leno",
          "Rúnar Alex Rúnarsson",
          "Karl Hein",
          "Aaron Ramsdale",
          "Arthur Okonkwo",
          "Jed Steer",
          "Emiliano Martínez",
          "Viljami Sinisalo",
          "Filip Marschall",
          "Robin Olsen",
          "David Raya",
          "Ellery Balcombe",
          "Patrik Gunnarsson",
          "Álvaro Fernández",
          "Matthew Cox",
          "Jonas Lössl",
          "Jason Steele",
          "Mathew Ryan",
          "Robert Sánchez",
          "Kjell Scherpen",
          "Thomas McGill",
          "Nick Pope",
          "Will Norris",
          "Bailey Peacock-Farrell",
          "Wayne Hennessey",
          "Sam Waller",
          "Kepa Arrizabalaga",
          "Edouard Mendy",
          "Marcus Bettinelli",
          "Vicente Guaita",
          "Jack Butland",
          "Remi Matthews",
          "Jordan Pickford",
          "João Virgínia",
          "Asmir Begović",
          "Andy Lonergan",
          "Harry Tyrer",
          "Kasper Schmeichel",
          "Danny Ward",
          "Eldin Jakupovic",
          "Francisco Casilla",
          "Illan Meslier",
          "Kristoffer Klaesson",
          "Adrián Adrián",
          "Alisson Alisson",
          "Caoimhin Kelleher",
          "Marcelo Pitaluga",
          "Ederson Ederson",
          "Zack Steffen",
          "Scott Carson",
          "Cieran Slicker",
          "David de Gea",
          "Dean Henderson",
          "Tom Heaton",
          "Karl Darlow",
          "Martin Dubravka",
          "Freddie Woodman",
          "Mark Gillespie",
          "Michael McGovern",
          "Tim Krul",
          "Angus Gunn",
          "Jon McCracken",
          "Fraser Forster",
          "Alex McCarthy",
          "Harry Lewis",
          "Willy Caballero",
          "Joe Hart",
          "Hugo Lloris",
          "Pierluigi Gollini",
          "Brandon Austin",
          "Ben Foster",
          "Daniel Bachmann",
          "Robert Elliot",
          "Vincent Angelini",
          "Darren Randolph",
          "Lukasz Fabianski",
          "Alphonse Areola",
          "Rui Pedro Patrício",
          "Andreas Söndergaard",
          "John Ruddy",
          "José Sá",
          "Louie Moulden",
          "James Storer"
         ],
         "legendgroup": "Goalkeeper",
         "marker": {
          "color": "#636efa",
          "size": [
           1.7999999999999998,
           0.0,
           0.0,
           1.2000000000000002,
           0.0,
           0.0,
           2.55,
           0.0,
           0.0,
           0.0,
           5.699999999999999,
           0.0,
           0.0,
           0.0,
           0.0,
           0.0,
           0.0,
           0.0,
           5.25,
           0.0,
           0.0,
           2.4000000000000004,
           0.0,
           0.0,
           0.0,
           0.0,
           0.0,
           3.0,
           0.0,
           4.050000000000001,
           0.0,
           0.0,
           4.5,
           0.0,
           0.0,
           0.0,
           0.0,
           5.4,
           0.0,
           0.0,
           0.0,
           6.75,
           0.0,
           0.0,
           3.4499999999999997,
           0.0,
           0.0,
           3.4499999999999997,
           0.0,
           0.0,
           0.0,
           1.7999999999999998,
           0.0,
           0.0,
           0.0,
           3.3000000000000003,
           0.0,
           0.0,
           0.0,
           10.95,
           0.0,
           0.0,
           4.800000000000001,
           0.0,
           0.0,
           0.0,
           0.0,
           6.300000000000001,
           0.0,
           0.0,
           1.9500000000000002,
           0.0,
           0.0,
           0.0,
           0.0,
           2.25,
           0.0,
           0.0,
           0.0,
           0.0,
           4.5,
           0.0,
           0.0
          ],
          "sizemode": "area",
          "sizeref": 0.04800000000000001,
          "symbol": "circle"
         },
         "mode": "markers",
         "name": "Goalkeeper",
         "orientation": "v",
         "showlegend": true,
         "type": "scatter",
         "x": [
          2.5,
          0.0,
          0.0,
          4.5,
          0.0,
          1.0,
          3.5,
          0.0,
          0.0,
          0.0,
          4.1,
          0.0,
          0.0,
          2.6,
          0.0,
          1.0,
          2.0,
          0.0,
          3.4,
          0.0,
          0.0,
          3.4,
          0.0,
          0.0,
          2.0,
          0.0,
          4.8,
          4.2,
          0.0,
          3.7,
          3.2,
          0.0,
          3.1,
          0.0,
          6.0,
          0.0,
          0.0,
          3.5,
          0.0,
          0.0,
          0.0,
          2.6,
          2.0,
          0.0,
          5.0,
          4.0,
          0.0,
          4.3,
          7.0,
          0.0,
          0.0,
          3.7,
          0.0,
          0.0,
          2.5,
          3.3,
          2.2,
          0.0,
          0.0,
          3.4,
          3.7,
          0.0,
          3.3,
          3.5,
          0.0,
          1.0,
          0.0,
          4.0,
          0.0,
          0.0,
          3.0,
          2.0,
          0.0,
          0.0,
          0.0,
          3.3,
          2.0,
          0.0,
          0.0,
          0.0,
          4.3,
          0.0,
          0.0
         ],
         "xaxis": "x",
         "y": [
          4.5,
          4.0,
          4.0,
          5.1,
          3.9,
          3.9,
          5.5,
          4.0,
          4.0,
          4.0,
          4.3,
          4.0,
          3.9,
          4.5,
          4.0,
          4.5,
          3.9,
          4.5,
          4.6,
          4.5,
          4.0,
          5.4,
          4.3,
          4.5,
          4.5,
          4.0,
          4.5,
          6.1,
          4.0,
          4.6,
          4.4,
          3.9,
          4.8,
          4.0,
          4.0,
          3.9,
          4.0,
          4.9,
          4.0,
          3.9,
          4.5,
          4.8,
          4.3,
          4.3,
          6.0,
          4.3,
          4.0,
          6.1,
          4.4,
          3.9,
          4.0,
          5.1,
          4.7,
          3.9,
          4.5,
          4.5,
          4.3,
          3.9,
          3.9,
          4.5,
          4.0,
          4.0,
          4.4,
          4.3,
          3.9,
          4.2,
          4.5,
          5.4,
          4.2,
          4.0,
          4.1,
          4.1,
          4.0,
          4.0,
          4.3,
          5.0,
          4.7,
          5.0,
          3.9,
          4.3,
          5.3,
          4.0,
          4.0
         ],
         "yaxis": "y"
        },
        {
         "customdata": [
          [
           "Arsenal"
          ],
          [
           "Arsenal"
          ],
          [
           "Arsenal"
          ],
          [
           "Arsenal"
          ],
          [
           "Arsenal"
          ],
          [
           "Arsenal"
          ],
          [
           "Arsenal"
          ],
          [
           "Arsenal"
          ],
          [
           "Arsenal"
          ],
          [
           "Arsenal"
          ],
          [
           "Arsenal"
          ],
          [
           "Arsenal"
          ],
          [
           "Arsenal"
          ],
          [
           "Arsenal"
          ],
          [
           "Arsenal"
          ],
          [
           "Arsenal"
          ],
          [
           "Arsenal"
          ],
          [
           "Arsenal"
          ],
          [
           "Arsenal"
          ],
          [
           "Aston Villa"
          ],
          [
           "Aston Villa"
          ],
          [
           "Aston Villa"
          ],
          [
           "Aston Villa"
          ],
          [
           "Aston Villa"
          ],
          [
           "Aston Villa"
          ],
          [
           "Aston Villa"
          ],
          [
           "Aston Villa"
          ],
          [
           "Aston Villa"
          ],
          [
           "Aston Villa"
          ],
          [
           "Aston Villa"
          ],
          [
           "Aston Villa"
          ],
          [
           "Aston Villa"
          ],
          [
           "Aston Villa"
          ],
          [
           "Aston Villa"
          ],
          [
           "Aston Villa"
          ],
          [
           "Aston Villa"
          ],
          [
           "Brentford"
          ],
          [
           "Brentford"
          ],
          [
           "Brentford"
          ],
          [
           "Brentford"
          ],
          [
           "Brentford"
          ],
          [
           "Brentford"
          ],
          [
           "Brentford"
          ],
          [
           "Brentford"
          ],
          [
           "Brentford"
          ],
          [
           "Brentford"
          ],
          [
           "Brentford"
          ],
          [
           "Brentford"
          ],
          [
           "Brentford"
          ],
          [
           "Brentford"
          ],
          [
           "Brentford"
          ],
          [
           "Brentford"
          ],
          [
           "Brentford"
          ],
          [
           "Brighton"
          ],
          [
           "Brighton"
          ],
          [
           "Brighton"
          ],
          [
           "Brighton"
          ],
          [
           "Brighton"
          ],
          [
           "Brighton"
          ],
          [
           "Brighton"
          ],
          [
           "Brighton"
          ],
          [
           "Brighton"
          ],
          [
           "Brighton"
          ],
          [
           "Brighton"
          ],
          [
           "Brighton"
          ],
          [
           "Brighton"
          ],
          [
           "Brighton"
          ],
          [
           "Brighton"
          ],
          [
           "Burnley"
          ],
          [
           "Burnley"
          ],
          [
           "Burnley"
          ],
          [
           "Burnley"
          ],
          [
           "Burnley"
          ],
          [
           "Burnley"
          ],
          [
           "Burnley"
          ],
          [
           "Burnley"
          ],
          [
           "Burnley"
          ],
          [
           "Chelsea"
          ],
          [
           "Chelsea"
          ],
          [
           "Chelsea"
          ],
          [
           "Chelsea"
          ],
          [
           "Chelsea"
          ],
          [
           "Chelsea"
          ],
          [
           "Chelsea"
          ],
          [
           "Chelsea"
          ],
          [
           "Chelsea"
          ],
          [
           "Chelsea"
          ],
          [
           "Chelsea"
          ],
          [
           "Chelsea"
          ],
          [
           "Chelsea"
          ],
          [
           "Crystal Palace"
          ],
          [
           "Crystal Palace"
          ],
          [
           "Crystal Palace"
          ],
          [
           "Crystal Palace"
          ],
          [
           "Crystal Palace"
          ],
          [
           "Crystal Palace"
          ],
          [
           "Crystal Palace"
          ],
          [
           "Crystal Palace"
          ],
          [
           "Crystal Palace"
          ],
          [
           "Crystal Palace"
          ],
          [
           "Crystal Palace"
          ],
          [
           "Everton"
          ],
          [
           "Everton"
          ],
          [
           "Everton"
          ],
          [
           "Everton"
          ],
          [
           "Everton"
          ],
          [
           "Everton"
          ],
          [
           "Everton"
          ],
          [
           "Everton"
          ],
          [
           "Everton"
          ],
          [
           "Everton"
          ],
          [
           "Everton"
          ],
          [
           "Everton"
          ],
          [
           "Everton"
          ],
          [
           "Everton"
          ],
          [
           "Everton"
          ],
          [
           "Everton"
          ],
          [
           "Everton"
          ],
          [
           "Everton"
          ],
          [
           "Everton"
          ],
          [
           "Leicester"
          ],
          [
           "Leicester"
          ],
          [
           "Leicester"
          ],
          [
           "Leicester"
          ],
          [
           "Leicester"
          ],
          [
           "Leicester"
          ],
          [
           "Leicester"
          ],
          [
           "Leicester"
          ],
          [
           "Leicester"
          ],
          [
           "Leicester"
          ],
          [
           "Leicester"
          ],
          [
           "Leicester"
          ],
          [
           "Leicester"
          ],
          [
           "Leicester"
          ],
          [
           "Leeds"
          ],
          [
           "Leeds"
          ],
          [
           "Leeds"
          ],
          [
           "Leeds"
          ],
          [
           "Leeds"
          ],
          [
           "Leeds"
          ],
          [
           "Leeds"
          ],
          [
           "Leeds"
          ],
          [
           "Leeds"
          ],
          [
           "Leeds"
          ],
          [
           "Leeds"
          ],
          [
           "Leeds"
          ],
          [
           "Leeds"
          ],
          [
           "Leeds"
          ],
          [
           "Leeds"
          ],
          [
           "Leeds"
          ],
          [
           "Leeds"
          ],
          [
           "Leeds"
          ],
          [
           "Leeds"
          ],
          [
           "Liverpool"
          ],
          [
           "Liverpool"
          ],
          [
           "Liverpool"
          ],
          [
           "Liverpool"
          ],
          [
           "Liverpool"
          ],
          [
           "Liverpool"
          ],
          [
           "Liverpool"
          ],
          [
           "Liverpool"
          ],
          [
           "Liverpool"
          ],
          [
           "Liverpool"
          ],
          [
           "Liverpool"
          ],
          [
           "Liverpool"
          ],
          [
           "Liverpool"
          ],
          [
           "Liverpool"
          ],
          [
           "Liverpool"
          ],
          [
           "Liverpool"
          ],
          [
           "Liverpool"
          ],
          [
           "Man City"
          ],
          [
           "Man City"
          ],
          [
           "Man City"
          ],
          [
           "Man City"
          ],
          [
           "Man City"
          ],
          [
           "Man City"
          ],
          [
           "Man City"
          ],
          [
           "Man City"
          ],
          [
           "Man City"
          ],
          [
           "Man City"
          ],
          [
           "Man City"
          ],
          [
           "Man City"
          ],
          [
           "Man City"
          ],
          [
           "Man City"
          ],
          [
           "Man City"
          ],
          [
           "Man Utd"
          ],
          [
           "Man Utd"
          ],
          [
           "Man Utd"
          ],
          [
           "Man Utd"
          ],
          [
           "Man Utd"
          ],
          [
           "Man Utd"
          ],
          [
           "Man Utd"
          ],
          [
           "Man Utd"
          ],
          [
           "Man Utd"
          ],
          [
           "Man Utd"
          ],
          [
           "Man Utd"
          ],
          [
           "Man Utd"
          ],
          [
           "Man Utd"
          ],
          [
           "Man Utd"
          ],
          [
           "Man Utd"
          ],
          [
           "Newcastle"
          ],
          [
           "Newcastle"
          ],
          [
           "Newcastle"
          ],
          [
           "Newcastle"
          ],
          [
           "Newcastle"
          ],
          [
           "Newcastle"
          ],
          [
           "Newcastle"
          ],
          [
           "Newcastle"
          ],
          [
           "Newcastle"
          ],
          [
           "Newcastle"
          ],
          [
           "Newcastle"
          ],
          [
           "Newcastle"
          ],
          [
           "Newcastle"
          ],
          [
           "Norwich"
          ],
          [
           "Norwich"
          ],
          [
           "Norwich"
          ],
          [
           "Norwich"
          ],
          [
           "Norwich"
          ],
          [
           "Norwich"
          ],
          [
           "Norwich"
          ],
          [
           "Norwich"
          ],
          [
           "Norwich"
          ],
          [
           "Norwich"
          ],
          [
           "Norwich"
          ],
          [
           "Norwich"
          ],
          [
           "Norwich"
          ],
          [
           "Norwich"
          ],
          [
           "Norwich"
          ],
          [
           "Norwich"
          ],
          [
           "Southampton"
          ],
          [
           "Southampton"
          ],
          [
           "Southampton"
          ],
          [
           "Southampton"
          ],
          [
           "Southampton"
          ],
          [
           "Southampton"
          ],
          [
           "Southampton"
          ],
          [
           "Southampton"
          ],
          [
           "Southampton"
          ],
          [
           "Southampton"
          ],
          [
           "Southampton"
          ],
          [
           "Spurs"
          ],
          [
           "Spurs"
          ],
          [
           "Spurs"
          ],
          [
           "Spurs"
          ],
          [
           "Spurs"
          ],
          [
           "Spurs"
          ],
          [
           "Spurs"
          ],
          [
           "Spurs"
          ],
          [
           "Spurs"
          ],
          [
           "Spurs"
          ],
          [
           "Spurs"
          ],
          [
           "Spurs"
          ],
          [
           "Spurs"
          ],
          [
           "Spurs"
          ],
          [
           "Spurs"
          ],
          [
           "Spurs"
          ],
          [
           "Watford"
          ],
          [
           "Watford"
          ],
          [
           "Watford"
          ],
          [
           "Watford"
          ],
          [
           "Watford"
          ],
          [
           "Watford"
          ],
          [
           "Watford"
          ],
          [
           "Watford"
          ],
          [
           "Watford"
          ],
          [
           "Watford"
          ],
          [
           "Watford"
          ],
          [
           "Watford"
          ],
          [
           "Watford"
          ],
          [
           "Watford"
          ],
          [
           "Watford"
          ],
          [
           "Watford"
          ],
          [
           "Watford"
          ],
          [
           "Watford"
          ],
          [
           "West Ham"
          ],
          [
           "West Ham"
          ],
          [
           "West Ham"
          ],
          [
           "West Ham"
          ],
          [
           "West Ham"
          ],
          [
           "West Ham"
          ],
          [
           "West Ham"
          ],
          [
           "West Ham"
          ],
          [
           "West Ham"
          ],
          [
           "West Ham"
          ],
          [
           "West Ham"
          ],
          [
           "West Ham"
          ],
          [
           "West Ham"
          ],
          [
           "West Ham"
          ],
          [
           "Wolves"
          ],
          [
           "Wolves"
          ],
          [
           "Wolves"
          ],
          [
           "Wolves"
          ],
          [
           "Wolves"
          ],
          [
           "Wolves"
          ],
          [
           "Wolves"
          ],
          [
           "Wolves"
          ],
          [
           "Wolves"
          ],
          [
           "Wolves"
          ],
          [
           "Wolves"
          ],
          [
           "Wolves"
          ],
          [
           "Wolves"
          ],
          [
           "Wolves"
          ]
         ],
         "hovertemplate": "<b>%{hovertext}</b><br><br>Player Type=Midfielder<br>points_per_game=%{x}<br>now_cost=%{y}<br>size=%{marker.size}<br>team_name=%{customdata[0]}<extra></extra>",
         "hovertext": [
          "Willian Willian",
          "Granit Xhaka",
          "Mohamed Naser Elneny",
          "Ainsley Maitland-Niles",
          "Thomas Partey",
          "Nicolas Pépé",
          "Lucas Torreira",
          "Emile Smith Rowe",
          "Bukayo Saka",
          "Mattéo Guendouzi",
          "Gabriel Teodoro Martinelli",
          "Albert Sambi Lokonga",
          "Reiss Nelson",
          "Martin Ødegaard",
          "Charlie Patino",
          "Omari Hutchinson",
          "Salah-Eddine Oulad M'hand",
          "Marcelo Flores",
          "Miguel Azeez",
          "Conor Hourihane",
          "Bertrand Traoré",
          "Morgan Sanson",
          "John McGinn",
          "Mahmoud Ahmed Trézéguet",
          "Marvelous Nakamba",
          "Emiliano Buendía",
          "Douglas Luiz Douglas Luiz",
          "Jacob Ramsey",
          "Leon Bailey",
          "Aaron Ramsey",
          "Jaden Philogene-Bidace",
          "Carney Chukwuemeka",
          "Tim Iroegbunam",
          "Philippe Coutinho",
          "Benjamin Chrisene",
          "Tommi O'Reilly",
          "Christian Nørgaard",
          "Tariqe Fosu",
          "Sergi Canós",
          "Pelenda Joshua Dasilva",
          "Vitaly Janelt",
          "Saman Ghoddos",
          "Mathias Jensen",
          "Jan Zamburek",
          "Bryan Mbeumo",
          "Mads Bidstrup",
          "Frank Onyeka",
          "Shandon Baptiste",
          "Yoane Wissa",
          "Paris Maghoma",
          "Maxwell Haygarth",
          "Myles Peart-Harris",
          "Christian Eriksen",
          "Adam Lallana",
          "Pascal Groß",
          "Davy Pröpper",
          "Solomon March",
          "Leandro Trossard",
          "Alireza Jahanbakhsh",
          "Yves Bissouma",
          "Steven Alzate",
          "Alexis Mac Allister",
          "Jakub Moder",
          "Enock Mwepu",
          "Taylor Richards",
          "Moisés Caicedo",
          "Jeremy Sarmiento",
          "Marc Leonard",
          "Jack Cork",
          "Dale Stephens",
          "Ashley Westwood",
          "Johann Berg Gudmundsson",
          "Josh Brownhill",
          "Josh Benson",
          "Dwight McNeil",
          "Aaron Lennon",
          "Maxwel Cornet",
          "Jorge Luiz Jorginho",
          "Ross Barkley",
          "Mateo Kovacic",
          "N'Golo Kanté",
          "Hakim Ziyech",
          "Ruben Loftus-Cheek",
          "Christian Pulisic",
          "Mason Mount",
          "Callum Hudson-Odoi",
          "Kai Havertz",
          "Saúl Saúl",
          "Lewis Hall",
          "Harvey Vale",
          "Conor Gallagher",
          "James McArthur",
          "Luka Milivojevic",
          "Wilfried Zaha",
          "Jeffrey Schlupp",
          "Jairo Riedewald",
          "Eberechi Eze",
          "Will Hughes",
          "Michael Olise",
          "Jesurun Rak-Sakyi",
          "Scott Banks",
          "Anwar El Ghazi",
          "Fabian Delph",
          "Gylfi Sigurdsson",
          "James James",
          "Bernard Bernard",
          "Allan Allan",
          "André Filipe André Gomes",
          "Abdoulaye Doucouré",
          "Alex Iwobi",
          "Tom Davies",
          "Donny van de Beek",
          "Bamidele Dele",
          "Andros Townsend",
          "Demarai Gray",
          "Anthony Gordon",
          "Jean-Philippe Gbamin",
          "Charlie Whitaker",
          "Tyler Onyango",
          "Isaac Price",
          "Marc Albrighton",
          "Nampalys Mendy",
          "Dennis Praet",
          "Youri Tielemans",
          "Ayoze Pérez",
          "James Maddison",
          "Hamza Choudhury",
          "Harvey Barnes",
          "Wilfred Ndidi",
          "Boubakary Soumaré",
          "Kiernan Dewsbury-Hall",
          "Ademola Lookman",
          "Lewis Brunt",
          "Kasey McAteer",
          "Pablo Hernández",
          "Mateusz Klich",
          "Stuart Dallas",
          "Kalvin Phillips",
          "Hélder Wander Costa",
          "Tyler Roberts",
          "Ian Carlo Poveda",
          "Raphael Raphinha",
          "Jamie Shackleton",
          "Jack Harrison",
          "Daniel James",
          "Crysencio Summerville",
          "Adam Forshaw",
          "Liam McCarron",
          "Nohan Kenneh",
          "Stuart McKinstry",
          "Lewis Bate",
          "Jack Jenkins",
          "Archie Gray",
          "James Milner",
          "Jordan Henderson",
          "Thiago Thiago",
          "Xherdan Shaqiri",
          "Alex Chamberlain",
          "Sadio Mané",
          "Fabio Henrique Fabinho",
          "Mohamed Salah",
          "Takumi Minamino",
          "Naby Keita",
          "Diogo Jota",
          "Curtis Jones",
          "Harvey Elliott",
          "Ben Woodburn",
          "Tyler Morton",
          "Kaide Gordon",
          "Luis Luis Díaz",
          "Jack Grealish",
          "Ilkay Gündogan",
          "Kevin De Bruyne",
          "Riyad Mahrez",
          "Raheem Sterling",
          "Bernardo Mota Bernardo",
          "Phil Foden",
          "Rodrigo Rodrigo",
          "Ferran Torres",
          "Fernando Fernandinho",
          "Cole Palmer",
          "Samuel Edozie",
          "Tommy Doyle",
          "Romeo Lavia",
          "James McAtee",
          "Nemanja Matic",
          "Paul Pogba",
          "Frederico Fred",
          "Jesse Lingard",
          "Bruno Miguel Fernandes",
          "Marcus Rashford",
          "Scott McTominay",
          "Mason Greenwood",
          "Juan Mata",
          "Jadon Sancho",
          "Andreas Pereira",
          "Anthony Elanga",
          "Amad Diallo",
          "Hannibal Mejbri",
          "Alejandro Garnacho",
          "Joseph Willock",
          "Jonjo Shelvey",
          "Jeff Hendrick",
          "Ryan Fraser",
          "Jacob Murphy",
          "Isaac Hayden",
          "Miguel Almirón",
          "Sean S.Longstaff",
          "Matthew M.Longstaff",
          "Joe White",
          "Elliot Anderson",
          "Bruno Bruno Guimarães",
          "Lucas De Bolle",
          "Billy Gilmour",
          "Marco Stiepermann",
          "Lukas Rupp",
          "Kenny McLean",
          "Onel Hernández",
          "Kieran Dowell",
          "Todd Cantwell",
          "Przemyslaw Placheta",
          "Josh Martin",
          "Milot Rashica",
          "Pierre Lees-Melou",
          "Christos Tzolis",
          "Mathias Normann",
          "Jonathan Rowe",
          "Liam Gibbs",
          "Tony Springett",
          "Theo Walcott",
          "Oriol Romeu",
          "Nathan Redmond",
          "Stuart S.Armstrong",
          "James Ward-Prowse",
          "Nathan Tella",
          "William Smallbone",
          "Ibrahima Diallo",
          "Moussa Djenepo",
          "Mohamed Elyounoussi",
          "Kgaogelo Chauke",
          "Erik Lamela",
          "Heung-Min Son",
          "Lucas Lucas Moura",
          "Pierre-Emile Højbjerg",
          "Harry Winks",
          "Steven Bergwijn",
          "Giovani Lo Celso",
          "Oliver Skipp",
          "Tanguy Ndombele",
          "Bryan Bryan",
          "Dilan Markanday",
          "Harvey White",
          "Dejan Kulusevski",
          "Rodrigo Bentancur",
          "Alfie Devine",
          "Jamie Bowden",
          "Moussa Sissoko",
          "Dan Gosling",
          "Tom Cleverley",
          "Nathaniel Chalobah",
          "Ken Sema",
          "Philip Zinckernagel",
          "Ayotomiwa Dele-Bashiru",
          "Domingos Quina",
          "Ismaila Sarr",
          "Joseph Hungbo",
          "Imrân Louza",
          "Kwadwo Baah",
          "Oghenekaro Peter Etebo",
          "Juraj Kucka",
          "Ozan Tufan",
          "Kamil Conteh",
          "Edo Kayembe",
          "Samuel Kalu",
          "Mark Noble",
          "Andriy Yarmolenko",
          "Manuel Lanzini",
          "Saïd Benrahma",
          "Jarrod Bowen",
          "Declan Rice",
          "Tomas Soucek",
          "Pablo Fornals",
          "Conor Coventry",
          "Nikola Vlasic",
          "Alex Kral",
          "Sonny Perkins",
          "Armstrong Oko-Flex",
          "Daniel Chesters",
          "João Filipe Iria Moutinho",
          "Leander Dendoncker",
          "Adama Traoré",
          "Rúben Diogo Neves",
          "Daniel Podence",
          "Morgan Gibbs-White",
          "Pedro Neto",
          "Owen Otasowie",
          "Francisco Trincão",
          "Luke Cundle",
          "Chem Campbell",
          "Bruno André Jordão",
          "Ryan Giles",
          "Francisco Jorge Chiquinho"
         ],
         "legendgroup": "Midfielder",
         "marker": {
          "color": "#EF553B",
          "size": [
           0.0,
           3.5999999999999996,
           0.0,
           0.0,
           0.8999999999999999,
           0.8999999999999999,
           0.0,
           2.4000000000000004,
           4.800000000000001,
           0.0,
           1.5,
           1.2000000000000002,
           0.0,
           4.199999999999999,
           0.0,
           0.0,
           0.0,
           0.0,
           0.0,
           0.0,
           0.44999999999999996,
           1.0499999999999998,
           1.9500000000000002,
           0.0,
           0.0,
           1.9500000000000002,
           2.55,
           2.55,
           1.9500000000000002,
           0.0,
           0.0,
           0.0,
           0.0,
           3.0,
           0.0,
           0.0,
           6.0,
           0.30000000000000004,
           0.75,
           0.0,
           7.800000000000001,
           0.30000000000000004,
           1.7999999999999998,
           0.0,
           10.8,
           0.0,
           0.0,
           0.30000000000000004,
           7.199999999999999,
           0.0,
           0.0,
           0.0,
           6.300000000000001,
           0.75,
           2.7,
           0.0,
           1.5,
           8.25,
           0.0,
           1.5,
           0.0,
           3.0,
           0.30000000000000004,
           5.699999999999999,
           0.0,
           2.7,
           0.30000000000000004,
           0.0,
           0.8999999999999999,
           0.0,
           2.0999999999999996,
           0.0,
           2.0999999999999996,
           0.0,
           1.5,
           1.7999999999999998,
           4.5,
           0.0,
           0.0,
           1.9500000000000002,
           5.550000000000001,
           1.5,
           2.55,
           0.44999999999999996,
           10.5,
           0.0,
           4.050000000000001,
           0.0,
           0.0,
           0.0,
           1.9500000000000002,
           1.0499999999999998,
           0.44999999999999996,
           6.449999999999999,
           2.55,
           0.0,
           0.44999999999999996,
           0.0,
           0.0,
           0.0,
           0.0,
           0.0,
           1.2000000000000002,
           0.0,
           0.0,
           0.0,
           1.2000000000000002,
           0.0,
           1.7999999999999998,
           2.7,
           0.0,
           0.0,
           0.0,
           0.0,
           1.5,
           6.0,
           0.0,
           0.0,
           0.0,
           0.0,
           0.0,
           2.0999999999999996,
           0.0,
           2.4000000000000004,
           1.2000000000000002,
           6.8999999999999995,
           0.30000000000000004,
           2.7,
           0.0,
           0.30000000000000004,
           5.699999999999999,
           4.800000000000001,
           0.0,
           0.0,
           0.0,
           2.25,
           3.75,
           1.5,
           0.0,
           0.0,
           0.0,
           11.25,
           0.0,
           13.5,
           5.25,
           0.75,
           1.5,
           0.0,
           0.0,
           0.0,
           0.0,
           0.0,
           0.0,
           0.44999999999999996,
           2.55,
           1.9500000000000002,
           0.0,
           0.0,
           4.050000000000001,
           4.050000000000001,
           4.050000000000001,
           0.0,
           0.44999999999999996,
           10.5,
           1.5,
           0.0,
           0.0,
           0.0,
           0.0,
           0.44999999999999996,
           1.9500000000000002,
           4.5,
           10.05,
           0.44999999999999996,
           6.449999999999999,
           2.55,
           2.55,
           2.55,
           0.0,
           0.0,
           0.0,
           0.0,
           0.0,
           0.0,
           0.0,
           1.5,
           1.5,
           4.199999999999999,
           0.75,
           3.3000000000000003,
           1.5,
           0.0,
           0.0,
           0.75,
           2.25,
           0.0,
           4.800000000000001,
           0.0,
           0.0,
           0.0,
           3.3000000000000003,
           2.7,
           0.0,
           1.2000000000000002,
           1.2000000000000002,
           0.0,
           1.7999999999999998,
           0.30000000000000004,
           0.0,
           0.0,
           0.0,
           6.75,
           0.0,
           1.9500000000000002,
           0.0,
           0.44999999999999996,
           3.4499999999999997,
           0.0,
           7.5,
           0.0,
           0.44999999999999996,
           0.0,
           4.050000000000001,
           6.0,
           1.0499999999999998,
           5.550000000000001,
           1.0499999999999998,
           0.0,
           0.0,
           0.0,
           2.25,
           0.30000000000000004,
           2.25,
           5.699999999999999,
           0.30000000000000004,
           0.30000000000000004,
           1.2000000000000002,
           0.0,
           3.3000000000000003,
           0.0,
           0.0,
           19.200000000000003,
           2.7,
           3.0,
           0.75,
           3.3000000000000003,
           0.0,
           0.0,
           0.0,
           0.0,
           0.0,
           0.0,
           8.25,
           3.0,
           0.0,
           0.0,
           2.55,
           0.0,
           1.0499999999999998,
           0.0,
           0.0,
           0.0,
           0.0,
           0.0,
           4.5,
           0.0,
           1.9500000000000002,
           0.0,
           0.0,
           3.0,
           0.0,
           0.0,
           0.44999999999999996,
           0.0,
           0.30000000000000004,
           0.75,
           3.3000000000000003,
           4.5,
           6.300000000000001,
           3.3000000000000003,
           6.0,
           2.25,
           0.0,
           1.5,
           0.0,
           0.0,
           0.0,
           0.0,
           2.25,
           1.5,
           0.0,
           0.0,
           2.25,
           0.0,
           0.75,
           0.0,
           3.75,
           1.5,
           0.75,
           0.0,
           0.0,
           0.75
          ],
          "sizemode": "area",
          "sizeref": 0.04800000000000001,
          "symbol": "circle"
         },
         "mode": "markers",
         "name": "Midfielder",
         "orientation": "v",
         "showlegend": true,
         "type": "scatter",
         "x": [
          0.0,
          2.1,
          1.6,
          1.5,
          3.0,
          2.3,
          0.0,
          4.2,
          4.6,
          0.0,
          3.7,
          1.8,
          1.0,
          3.8,
          0.0,
          0.0,
          0.0,
          0.0,
          0.0,
          0.0,
          1.6,
          1.3,
          3.0,
          1.0,
          1.3,
          2.8,
          2.6,
          3.4,
          2.1,
          0.0,
          1.0,
          1.4,
          1.0,
          5.2,
          0.0,
          0.0,
          2.8,
          1.0,
          2.6,
          0.5,
          3.0,
          1.7,
          1.7,
          0.0,
          3.6,
          1.0,
          1.8,
          1.6,
          2.6,
          0.0,
          0.0,
          0.0,
          4.2,
          1.9,
          2.4,
          0.0,
          1.8,
          3.5,
          0.0,
          2.0,
          1.4,
          2.9,
          2.1,
          3.6,
          1.0,
          3.5,
          1.0,
          0.0,
          1.9,
          1.5,
          2.3,
          1.8,
          2.2,
          0.0,
          2.2,
          2.4,
          3.8,
          4.1,
          1.4,
          3.3,
          3.3,
          4.0,
          2.2,
          3.4,
          5.5,
          3.3,
          4.2,
          1.6,
          0.0,
          0.0,
          4.7,
          2.6,
          1.2,
          4.3,
          2.8,
          1.3,
          1.1,
          2.4,
          3.0,
          1.0,
          0.0,
          2.0,
          1.3,
          0.0,
          0.0,
          0.0,
          2.2,
          1.2,
          3.3,
          2.8,
          2.2,
          1.8,
          1.9,
          3.1,
          3.2,
          3.1,
          1.0,
          0.0,
          1.0,
          0.0,
          2.3,
          1.7,
          0.0,
          4.0,
          1.9,
          4.5,
          1.3,
          3.7,
          2.2,
          1.9,
          2.6,
          3.3,
          0.0,
          1.0,
          0.0,
          2.0,
          2.4,
          1.9,
          1.0,
          1.5,
          0.0,
          4.4,
          1.4,
          3.3,
          3.0,
          1.0,
          1.7,
          1.0,
          0.0,
          1.0,
          1.0,
          0.0,
          0.0,
          1.6,
          3.4,
          2.6,
          0.0,
          2.5,
          5.3,
          3.7,
          7.9,
          1.9,
          3.1,
          5.5,
          2.8,
          2.0,
          0.0,
          0.5,
          1.0,
          4.0,
          3.1,
          4.7,
          6.0,
          5.0,
          5.0,
          4.5,
          4.7,
          3.2,
          6.5,
          2.4,
          2.2,
          0.0,
          0.0,
          0.0,
          1.0,
          1.9,
          3.4,
          3.6,
          1.9,
          4.6,
          2.6,
          2.3,
          3.9,
          1.0,
          3.3,
          0.0,
          2.9,
          0.0,
          0.0,
          0.0,
          2.8,
          2.6,
          2.7,
          3.0,
          1.9,
          2.0,
          1.8,
          1.9,
          0.0,
          0.0,
          0.0,
          3.3,
          0.0,
          2.0,
          0.0,
          1.3,
          2.2,
          0.0,
          2.2,
          1.2,
          1.6,
          0.0,
          2.3,
          2.1,
          1.2,
          2.5,
          1.3,
          0.0,
          0.0,
          1.3,
          2.3,
          2.9,
          2.4,
          4.2,
          1.6,
          1.3,
          2.0,
          1.1,
          3.3,
          0.0,
          0.0,
          6.9,
          2.7,
          3.1,
          1.9,
          2.4,
          1.2,
          1.9,
          2.4,
          1.0,
          0.0,
          0.0,
          5.6,
          2.4,
          0.0,
          0.0,
          2.4,
          1.0,
          1.7,
          0.0,
          1.3,
          0.0,
          0.0,
          0.0,
          3.9,
          0.0,
          1.5,
          0.0,
          1.1,
          2.0,
          1.4,
          0.0,
          1.8,
          1.0,
          1.8,
          1.3,
          3.0,
          4.0,
          5.5,
          2.7,
          3.5,
          3.3,
          0.0,
          1.6,
          1.0,
          1.0,
          0.0,
          1.0,
          2.9,
          2.4,
          2.2,
          3.1,
          2.8,
          0.5,
          1.0,
          0.0,
          2.4,
          2.0,
          1.0,
          0.0,
          0.0,
          1.6
         ],
         "xaxis": "x",
         "y": [
          6.3,
          4.8,
          4.4,
          5.2,
          5.0,
          6.9,
          4.5,
          5.7,
          6.8,
          4.5,
          5.3,
          4.8,
          5.0,
          5.6,
          4.5,
          4.5,
          4.5,
          4.5,
          4.5,
          4.9,
          5.7,
          5.0,
          5.6,
          5.4,
          4.4,
          6.2,
          4.4,
          4.7,
          6.3,
          4.4,
          5.0,
          4.5,
          4.5,
          7.1,
          4.5,
          4.5,
          5.0,
          5.1,
          5.5,
          5.3,
          4.9,
          5.2,
          4.9,
          4.4,
          5.2,
          4.4,
          4.9,
          4.9,
          5.7,
          4.5,
          4.5,
          4.5,
          5.6,
          5.3,
          5.7,
          4.5,
          5.3,
          5.8,
          5.5,
          4.4,
          4.8,
          5.1,
          4.5,
          5.9,
          4.5,
          4.5,
          4.5,
          4.5,
          4.4,
          4.4,
          5.2,
          5.4,
          4.3,
          4.5,
          5.6,
          4.8,
          5.9,
          5.7,
          5.2,
          4.9,
          4.9,
          7.3,
          5.4,
          7.9,
          7.6,
          5.3,
          7.9,
          4.9,
          4.5,
          4.5,
          6.1,
          4.3,
          5.3,
          6.8,
          5.4,
          4.7,
          5.9,
          4.7,
          5.4,
          4.4,
          4.5,
          5.6,
          4.2,
          6.7,
          6.9,
          5.5,
          4.3,
          4.9,
          5.3,
          5.8,
          4.8,
          5.7,
          6.2,
          5.2,
          5.5,
          4.6,
          4.4,
          4.5,
          4.5,
          4.5,
          5.2,
          4.3,
          4.9,
          6.4,
          5.7,
          7.0,
          4.4,
          6.6,
          4.8,
          4.8,
          4.4,
          5.9,
          4.5,
          4.5,
          5.5,
          5.1,
          4.9,
          4.7,
          5.4,
          4.8,
          4.5,
          6.4,
          4.4,
          5.5,
          6.0,
          4.5,
          4.5,
          4.4,
          4.4,
          4.3,
          4.5,
          4.5,
          4.5,
          4.9,
          4.9,
          5.3,
          5.9,
          5.8,
          11.7,
          5.4,
          13.2,
          5.1,
          5.0,
          8.3,
          5.0,
          5.3,
          4.5,
          4.5,
          4.5,
          7.9,
          7.5,
          7.1,
          11.8,
          8.6,
          10.5,
          7.0,
          7.8,
          5.5,
          6.7,
          4.7,
          4.5,
          4.7,
          4.5,
          4.4,
          4.4,
          4.3,
          7.4,
          4.9,
          6.7,
          11.6,
          9.4,
          5.4,
          7.1,
          4.7,
          8.9,
          5.0,
          4.8,
          5.0,
          4.5,
          4.5,
          5.6,
          5.3,
          4.8,
          5.3,
          4.7,
          4.5,
          5.0,
          4.3,
          4.5,
          4.4,
          4.5,
          4.9,
          4.4,
          4.3,
          5.0,
          4.4,
          4.9,
          4.9,
          5.1,
          5.3,
          4.7,
          5.0,
          5.2,
          4.8,
          4.8,
          4.5,
          4.4,
          4.5,
          4.5,
          5.8,
          4.5,
          5.9,
          5.8,
          6.4,
          4.7,
          4.5,
          4.5,
          5.2,
          5.4,
          4.5,
          6.0,
          11.1,
          6.0,
          4.8,
          4.4,
          5.9,
          5.9,
          4.4,
          5.7,
          5.7,
          4.5,
          4.4,
          6.4,
          4.9,
          4.5,
          4.5,
          4.4,
          4.7,
          4.8,
          5.0,
          5.2,
          5.5,
          4.5,
          4.5,
          5.7,
          4.5,
          5.2,
          4.3,
          4.3,
          5.5,
          5.0,
          4.5,
          4.6,
          4.9,
          4.3,
          5.1,
          5.6,
          5.9,
          6.9,
          5.0,
          5.7,
          6.0,
          4.5,
          5.6,
          4.4,
          4.5,
          4.4,
          4.5,
          4.9,
          4.7,
          5.6,
          5.2,
          5.5,
          4.5,
          6.2,
          4.5,
          5.6,
          4.4,
          4.4,
          4.5,
          4.5,
          5.5
         ],
         "yaxis": "y"
        },
        {
         "customdata": [
          [
           "Arsenal"
          ],
          [
           "Arsenal"
          ],
          [
           "Arsenal"
          ],
          [
           "Arsenal"
          ],
          [
           "Arsenal"
          ],
          [
           "Aston Villa"
          ],
          [
           "Aston Villa"
          ],
          [
           "Aston Villa"
          ],
          [
           "Aston Villa"
          ],
          [
           "Aston Villa"
          ],
          [
           "Aston Villa"
          ],
          [
           "Brentford"
          ],
          [
           "Brentford"
          ],
          [
           "Brentford"
          ],
          [
           "Brentford"
          ],
          [
           "Brighton"
          ],
          [
           "Brighton"
          ],
          [
           "Brighton"
          ],
          [
           "Brighton"
          ],
          [
           "Brighton"
          ],
          [
           "Brighton"
          ],
          [
           "Brighton"
          ],
          [
           "Burnley"
          ],
          [
           "Burnley"
          ],
          [
           "Burnley"
          ],
          [
           "Burnley"
          ],
          [
           "Burnley"
          ],
          [
           "Chelsea"
          ],
          [
           "Chelsea"
          ],
          [
           "Chelsea"
          ],
          [
           "Chelsea"
          ],
          [
           "Chelsea"
          ],
          [
           "Crystal Palace"
          ],
          [
           "Crystal Palace"
          ],
          [
           "Crystal Palace"
          ],
          [
           "Crystal Palace"
          ],
          [
           "Crystal Palace"
          ],
          [
           "Everton"
          ],
          [
           "Everton"
          ],
          [
           "Everton"
          ],
          [
           "Everton"
          ],
          [
           "Everton"
          ],
          [
           "Everton"
          ],
          [
           "Everton"
          ],
          [
           "Everton"
          ],
          [
           "Leicester"
          ],
          [
           "Leicester"
          ],
          [
           "Leicester"
          ],
          [
           "Leeds"
          ],
          [
           "Leeds"
          ],
          [
           "Leeds"
          ],
          [
           "Leeds"
          ],
          [
           "Liverpool"
          ],
          [
           "Liverpool"
          ],
          [
           "Man City"
          ],
          [
           "Man City"
          ],
          [
           "Man City"
          ],
          [
           "Man Utd"
          ],
          [
           "Man Utd"
          ],
          [
           "Man Utd"
          ],
          [
           "Newcastle"
          ],
          [
           "Newcastle"
          ],
          [
           "Newcastle"
          ],
          [
           "Newcastle"
          ],
          [
           "Newcastle"
          ],
          [
           "Norwich"
          ],
          [
           "Norwich"
          ],
          [
           "Norwich"
          ],
          [
           "Norwich"
          ],
          [
           "Norwich"
          ],
          [
           "Norwich"
          ],
          [
           "Southampton"
          ],
          [
           "Southampton"
          ],
          [
           "Southampton"
          ],
          [
           "Southampton"
          ],
          [
           "Southampton"
          ],
          [
           "Southampton"
          ],
          [
           "Spurs"
          ],
          [
           "Spurs"
          ],
          [
           "Watford"
          ],
          [
           "Watford"
          ],
          [
           "Watford"
          ],
          [
           "Watford"
          ],
          [
           "Watford"
          ],
          [
           "Watford"
          ],
          [
           "Watford"
          ],
          [
           "Watford"
          ],
          [
           "Watford"
          ],
          [
           "Watford"
          ],
          [
           "Watford"
          ],
          [
           "West Ham"
          ],
          [
           "Wolves"
          ],
          [
           "Wolves"
          ],
          [
           "Wolves"
          ],
          [
           "Wolves"
          ]
         ],
         "hovertemplate": "<b>%{hovertext}</b><br><br>Player Type=Forward<br>points_per_game=%{x}<br>now_cost=%{y}<br>size=%{marker.size}<br>team_name=%{customdata[0]}<extra></extra>",
         "hovertext": [
          "Pierre-Emerick Aubameyang",
          "Alexandre Lacazette",
          "Edward Nketiah",
          "Folarin Balogun",
          "Mika Biereth",
          "Ollie Watkins",
          "Wesley Wesley",
          "Mbwana Ally Samatta",
          "Keinan Davis",
          "Danny Ings",
          "Cameron Archer",
          "Ivan Toney",
          "Marcus Forss",
          "Halil Dervişoğlu",
          "Nathan Young-Coombes",
          "Neal Maupay",
          "Aaron Connolly",
          "Danny Welbeck",
          "Florin Andone",
          "Andi Zeqiri",
          "Jürgen Locadia",
          "Evan Ferguson",
          "Jay Rodriguez",
          "Ashley Barnes",
          "Matej Vydra",
          "Lewis Richardson",
          "Wout Weghorst",
          "Olivier Giroud",
          "Michy Batshuayi",
          "Timo Werner",
          "Tammy Abraham",
          "Romelu Lukaku",
          "Christian Benteke",
          "Jordan Ayew",
          "Jean-Philippe Mateta",
          "Robert Street",
          "Odsonne Edouard",
          "Dominic Calvert-Lewin",
          "Richarlison Richarlison",
          "Nathan Broadhead",
          "Moise Kean",
          "Salomón Rondón",
          "Ellis Simms",
          "Lewis Dobbin",
          "Cenk Tosun",
          "Jamie Vardy",
          "Kelechi Iheanacho",
          "Patson Daka",
          "Rodrigo Rodrigo",
          "Patrick Bamford",
          "Sam Greenwood",
          "Joe Gelhardt",
          "Roberto Firmino",
          "Divock Origi",
          "Gabriel Fernando Jesus",
          "Kayky da Silva Kayky",
          "Liam Delap",
          "Edinson Cavani",
          "Anthony Martial",
          "Cristiano Ronaldo Ronaldo",
          "Chris Wood",
          "Callum Wilson",
          "Dwight Gayle",
          "Allan Saint-Maximin",
          "Joelinton Cássio Joelinton",
          "Teemu Pukki",
          "Jordan Hugill",
          "Adam Idah",
          "Joshua Sargent",
          "Thomas Dickson-Peters",
          "Abu Kamara",
          "Daniel Nlundulu",
          "Che Adams",
          "Michael Obafemi",
          "Armando Broja",
          "Shane Long",
          "Adam A.Armstrong",
          "Harry Kane",
          "Dane Scarlett",
          "Troy Deeney",
          "Andre Gray",
          "Stipe Perica",
          "Isaac Success",
          "Ashley Fletcher",
          "João Pedro João Pedro",
          "Emmanuel Dennis",
          "Joshua King",
          "Adedapo Mebude",
          "Juan Camilo Cucho",
          "Shaqai Forde",
          "Michail Antonio",
          "Raúl Jiménez",
          "Fabio Fabio Silva",
          "Patrick Cutrone",
          "Hee-Chan Hwang"
         ],
         "legendgroup": "Forward",
         "marker": {
          "color": "#00cc96",
          "size": [
           0.0,
           1.7999999999999998,
           1.5,
           0.0,
           0.0,
           6.449999999999999,
           0.0,
           0.0,
           0.0,
           1.0499999999999998,
           0.0,
           7.5,
           0.0,
           0.0,
           0.0,
           0.0,
           0.0,
           1.7999999999999998,
           0.0,
           0.0,
           0.0,
           0.0,
           4.5,
           0.6000000000000001,
           1.7999999999999998,
           0.0,
           3.5999999999999996,
           0.0,
           0.0,
           8.55,
           0.0,
           0.44999999999999996,
           0.0,
           4.949999999999999,
           4.050000000000001,
           0.0,
           0.44999999999999996,
           2.25,
           7.199999999999999,
           0.0,
           0.0,
           0.30000000000000004,
           0.0,
           0.0,
           0.0,
           0.0,
           3.5999999999999996,
           1.7999999999999998,
           8.25,
           0.0,
           3.0,
           0.75,
           1.5,
           0.0,
           4.949999999999999,
           0.0,
           0.0,
           0.0,
           0.0,
           6.75,
           4.800000000000001,
           0.0,
           0.30000000000000004,
           1.7999999999999998,
           1.5,
           10.05,
           0.0,
           0.0,
           0.0,
           0.0,
           0.0,
           0.0,
           1.5,
           0.0,
           1.2000000000000002,
           0.30000000000000004,
           0.30000000000000004,
           10.8,
           0.0,
           0.0,
           0.0,
           0.0,
           0.0,
           0.0,
           3.0,
           4.949999999999999,
           1.5,
           0.0,
           1.0499999999999998,
           0.0,
           3.3000000000000003,
           0.0,
           5.25,
           0.0,
           2.25
          ],
          "sizemode": "area",
          "sizeref": 0.04800000000000001,
          "symbol": "circle"
         },
         "mode": "markers",
         "name": "Forward",
         "orientation": "v",
         "showlegend": true,
         "type": "scatter",
         "x": [
          3.1,
          3.4,
          1.2,
          1.0,
          0.0,
          3.5,
          1.0,
          0.0,
          1.0,
          3.5,
          1.0,
          4.5,
          1.6,
          0.0,
          0.0,
          3.4,
          1.2,
          2.4,
          0.0,
          0.0,
          1.0,
          1.0,
          2.1,
          1.0,
          1.7,
          0.0,
          3.2,
          0.0,
          0.0,
          2.9,
          0.0,
          3.2,
          2.5,
          2.5,
          2.9,
          0.0,
          3.4,
          3.2,
          3.6,
          0.0,
          1.0,
          1.7,
          2.0,
          0.7,
          1.0,
          5.1,
          2.9,
          3.1,
          3.0,
          3.1,
          3.3,
          2.3,
          3.1,
          3.2,
          3.7,
          1.0,
          1.0,
          2.5,
          1.8,
          5.2,
          2.8,
          3.9,
          0.8,
          3.4,
          2.0,
          4.0,
          0.0,
          2.1,
          2.4,
          0.0,
          0.0,
          0.0,
          3.8,
          0.0,
          3.1,
          1.4,
          2.5,
          4.9,
          1.0,
          1.0,
          0.0,
          0.0,
          0.0,
          1.0,
          2.0,
          4.2,
          2.8,
          0.0,
          2.5,
          0.0,
          3.8,
          3.1,
          1.4,
          0.0,
          3.0
         ],
         "xaxis": "x",
         "y": [
          9.6,
          8.4,
          5.4,
          4.7,
          4.5,
          7.4,
          5.4,
          5.5,
          4.5,
          7.7,
          4.5,
          6.9,
          5.3,
          5.4,
          4.5,
          6.4,
          5.3,
          5.9,
          5.0,
          4.5,
          4.4,
          4.5,
          5.2,
          5.2,
          5.2,
          4.5,
          6.4,
          6.5,
          5.5,
          8.6,
          6.5,
          11.4,
          6.0,
          5.8,
          5.3,
          4.5,
          6.1,
          7.7,
          7.5,
          4.5,
          6.0,
          6.0,
          4.5,
          4.5,
          5.0,
          10.3,
          7.1,
          7.0,
          6.3,
          7.7,
          4.6,
          4.6,
          8.7,
          4.8,
          8.4,
          5.0,
          4.5,
          8.4,
          7.6,
          12.2,
          6.8,
          7.1,
          5.2,
          6.8,
          5.8,
          5.9,
          5.4,
          4.9,
          5.4,
          4.5,
          4.5,
          4.5,
          6.8,
          4.5,
          5.5,
          5.4,
          5.7,
          12.6,
          4.5,
          5.4,
          5.4,
          4.5,
          5.0,
          4.8,
          5.4,
          5.8,
          5.6,
          4.5,
          5.1,
          4.5,
          7.5,
          7.5,
          5.6,
          5.0,
          5.4
         ],
         "yaxis": "y"
        },
        {
         "customdata": [
          [
           "Arsenal"
          ],
          [
           "Arsenal"
          ],
          [
           "Arsenal"
          ],
          [
           "Arsenal"
          ],
          [
           "Arsenal"
          ],
          [
           "Arsenal"
          ],
          [
           "Arsenal"
          ],
          [
           "Arsenal"
          ],
          [
           "Arsenal"
          ],
          [
           "Arsenal"
          ],
          [
           "Arsenal"
          ],
          [
           "Arsenal"
          ],
          [
           "Arsenal"
          ],
          [
           "Arsenal"
          ],
          [
           "Arsenal"
          ],
          [
           "Arsenal"
          ],
          [
           "Aston Villa"
          ],
          [
           "Aston Villa"
          ],
          [
           "Aston Villa"
          ],
          [
           "Aston Villa"
          ],
          [
           "Aston Villa"
          ],
          [
           "Aston Villa"
          ],
          [
           "Aston Villa"
          ],
          [
           "Aston Villa"
          ],
          [
           "Aston Villa"
          ],
          [
           "Aston Villa"
          ],
          [
           "Aston Villa"
          ],
          [
           "Aston Villa"
          ],
          [
           "Brentford"
          ],
          [
           "Brentford"
          ],
          [
           "Brentford"
          ],
          [
           "Brentford"
          ],
          [
           "Brentford"
          ],
          [
           "Brentford"
          ],
          [
           "Brentford"
          ],
          [
           "Brentford"
          ],
          [
           "Brentford"
          ],
          [
           "Brentford"
          ],
          [
           "Brentford"
          ],
          [
           "Brighton"
          ],
          [
           "Brighton"
          ],
          [
           "Brighton"
          ],
          [
           "Brighton"
          ],
          [
           "Brighton"
          ],
          [
           "Brighton"
          ],
          [
           "Brighton"
          ],
          [
           "Brighton"
          ],
          [
           "Brighton"
          ],
          [
           "Brighton"
          ],
          [
           "Brighton"
          ],
          [
           "Burnley"
          ],
          [
           "Burnley"
          ],
          [
           "Burnley"
          ],
          [
           "Burnley"
          ],
          [
           "Burnley"
          ],
          [
           "Burnley"
          ],
          [
           "Burnley"
          ],
          [
           "Burnley"
          ],
          [
           "Burnley"
          ],
          [
           "Burnley"
          ],
          [
           "Burnley"
          ],
          [
           "Chelsea"
          ],
          [
           "Chelsea"
          ],
          [
           "Chelsea"
          ],
          [
           "Chelsea"
          ],
          [
           "Chelsea"
          ],
          [
           "Chelsea"
          ],
          [
           "Chelsea"
          ],
          [
           "Chelsea"
          ],
          [
           "Chelsea"
          ],
          [
           "Chelsea"
          ],
          [
           "Chelsea"
          ],
          [
           "Chelsea"
          ],
          [
           "Crystal Palace"
          ],
          [
           "Crystal Palace"
          ],
          [
           "Crystal Palace"
          ],
          [
           "Crystal Palace"
          ],
          [
           "Crystal Palace"
          ],
          [
           "Crystal Palace"
          ],
          [
           "Crystal Palace"
          ],
          [
           "Crystal Palace"
          ],
          [
           "Crystal Palace"
          ],
          [
           "Crystal Palace"
          ],
          [
           "Crystal Palace"
          ],
          [
           "Crystal Palace"
          ],
          [
           "Everton"
          ],
          [
           "Everton"
          ],
          [
           "Everton"
          ],
          [
           "Everton"
          ],
          [
           "Everton"
          ],
          [
           "Everton"
          ],
          [
           "Everton"
          ],
          [
           "Everton"
          ],
          [
           "Everton"
          ],
          [
           "Everton"
          ],
          [
           "Everton"
          ],
          [
           "Leicester"
          ],
          [
           "Leicester"
          ],
          [
           "Leicester"
          ],
          [
           "Leicester"
          ],
          [
           "Leicester"
          ],
          [
           "Leicester"
          ],
          [
           "Leicester"
          ],
          [
           "Leicester"
          ],
          [
           "Leicester"
          ],
          [
           "Leicester"
          ],
          [
           "Leicester"
          ],
          [
           "Leicester"
          ],
          [
           "Leeds"
          ],
          [
           "Leeds"
          ],
          [
           "Leeds"
          ],
          [
           "Leeds"
          ],
          [
           "Leeds"
          ],
          [
           "Leeds"
          ],
          [
           "Leeds"
          ],
          [
           "Leeds"
          ],
          [
           "Leeds"
          ],
          [
           "Leeds"
          ],
          [
           "Liverpool"
          ],
          [
           "Liverpool"
          ],
          [
           "Liverpool"
          ],
          [
           "Liverpool"
          ],
          [
           "Liverpool"
          ],
          [
           "Liverpool"
          ],
          [
           "Liverpool"
          ],
          [
           "Liverpool"
          ],
          [
           "Liverpool"
          ],
          [
           "Liverpool"
          ],
          [
           "Liverpool"
          ],
          [
           "Liverpool"
          ],
          [
           "Liverpool"
          ],
          [
           "Liverpool"
          ],
          [
           "Man City"
          ],
          [
           "Man City"
          ],
          [
           "Man City"
          ],
          [
           "Man City"
          ],
          [
           "Man City"
          ],
          [
           "Man City"
          ],
          [
           "Man City"
          ],
          [
           "Man City"
          ],
          [
           "Man City"
          ],
          [
           "Man City"
          ],
          [
           "Man City"
          ],
          [
           "Man Utd"
          ],
          [
           "Man Utd"
          ],
          [
           "Man Utd"
          ],
          [
           "Man Utd"
          ],
          [
           "Man Utd"
          ],
          [
           "Man Utd"
          ],
          [
           "Man Utd"
          ],
          [
           "Man Utd"
          ],
          [
           "Man Utd"
          ],
          [
           "Man Utd"
          ],
          [
           "Newcastle"
          ],
          [
           "Newcastle"
          ],
          [
           "Newcastle"
          ],
          [
           "Newcastle"
          ],
          [
           "Newcastle"
          ],
          [
           "Newcastle"
          ],
          [
           "Newcastle"
          ],
          [
           "Newcastle"
          ],
          [
           "Newcastle"
          ],
          [
           "Newcastle"
          ],
          [
           "Newcastle"
          ],
          [
           "Newcastle"
          ],
          [
           "Norwich"
          ],
          [
           "Norwich"
          ],
          [
           "Norwich"
          ],
          [
           "Norwich"
          ],
          [
           "Norwich"
          ],
          [
           "Norwich"
          ],
          [
           "Norwich"
          ],
          [
           "Norwich"
          ],
          [
           "Norwich"
          ],
          [
           "Norwich"
          ],
          [
           "Norwich"
          ],
          [
           "Norwich"
          ],
          [
           "Southampton"
          ],
          [
           "Southampton"
          ],
          [
           "Southampton"
          ],
          [
           "Southampton"
          ],
          [
           "Southampton"
          ],
          [
           "Southampton"
          ],
          [
           "Southampton"
          ],
          [
           "Southampton"
          ],
          [
           "Southampton"
          ],
          [
           "Southampton"
          ],
          [
           "Spurs"
          ],
          [
           "Spurs"
          ],
          [
           "Spurs"
          ],
          [
           "Spurs"
          ],
          [
           "Spurs"
          ],
          [
           "Spurs"
          ],
          [
           "Spurs"
          ],
          [
           "Spurs"
          ],
          [
           "Spurs"
          ],
          [
           "Spurs"
          ],
          [
           "Spurs"
          ],
          [
           "Spurs"
          ],
          [
           "Spurs"
          ],
          [
           "Spurs"
          ],
          [
           "Watford"
          ],
          [
           "Watford"
          ],
          [
           "Watford"
          ],
          [
           "Watford"
          ],
          [
           "Watford"
          ],
          [
           "Watford"
          ],
          [
           "Watford"
          ],
          [
           "Watford"
          ],
          [
           "Watford"
          ],
          [
           "Watford"
          ],
          [
           "Watford"
          ],
          [
           "Watford"
          ],
          [
           "Watford"
          ],
          [
           "Watford"
          ],
          [
           "Watford"
          ],
          [
           "West Ham"
          ],
          [
           "West Ham"
          ],
          [
           "West Ham"
          ],
          [
           "West Ham"
          ],
          [
           "West Ham"
          ],
          [
           "West Ham"
          ],
          [
           "West Ham"
          ],
          [
           "West Ham"
          ],
          [
           "West Ham"
          ],
          [
           "West Ham"
          ],
          [
           "West Ham"
          ],
          [
           "West Ham"
          ],
          [
           "West Ham"
          ],
          [
           "West Ham"
          ],
          [
           "West Ham"
          ],
          [
           "Wolves"
          ],
          [
           "Wolves"
          ],
          [
           "Wolves"
          ],
          [
           "Wolves"
          ],
          [
           "Wolves"
          ],
          [
           "Wolves"
          ],
          [
           "Wolves"
          ],
          [
           "Wolves"
          ],
          [
           "Wolves"
          ],
          [
           "Wolves"
          ],
          [
           "Wolves"
          ],
          [
           "Wolves"
          ],
          [
           "Wolves"
          ],
          [
           "Wolves"
          ]
         ],
         "hovertemplate": "<b>%{hovertext}</b><br><br>Player Type=Defender<br>points_per_game=%{x}<br>now_cost=%{y}<br>size=%{marker.size}<br>team_name=%{customdata[0]}<extra></extra>",
         "hovertext": [
          "Cédric Cédric",
          "Pablo Marí",
          "Héctor Bellerín",
          "Sead Kolasinac",
          "Rob Holding",
          "Kieran Tierney",
          "Gabriel Gabriel",
          "Konstantinos Mavropanos",
          "William Saliba",
          "Ben White",
          "Nuno Tavares",
          "Takehiro Tomiyasu",
          "Ryan Alebiosu",
          "Zach Awe",
          "Zak Swanson",
          "Mazeed Ogungbo",
          "Calum Chambers",
          "Björn Engels",
          "Kortney Hause",
          "Tyrone Mings",
          "Matthew Cash",
          "Ezri Konsa",
          "Frédéric Guilbert",
          "Ashley Young",
          "Lucas Digne",
          "Lamare Bogarde",
          "Josh Feeney",
          "Kaine Hayden",
          "Pontus Jansson",
          "Rico Henry",
          "Charlie Goode",
          "Mads Roerslev",
          "Mads Sørensen",
          "Ethan Pinnock",
          "Kristoffer Ajer",
          "Dominic Thompson",
          "Finley Stevens",
          "Mathias Zanka",
          "Julian Jeanvier",
          "Shane Duffy",
          "Lewis Dunk",
          "Adam Webster",
          "Joël Veltman",
          "Bernardo Bernardo",
          "Tariq Lamptey",
          "Michal Karbownik",
          "Haydon Roberts",
          "Marc Cucurella",
          "Ed Turns",
          "Odeluga Offiah",
          "James Tarkowski",
          "Phil Bardsley",
          "Erik Pieters",
          "Kevin Long",
          "Ben Mee",
          "Matthew Lowton",
          "Charlie Taylor",
          "Nathan Collins",
          "Bobby Thomas",
          "Owen Dodgson",
          "Connor Roberts",
          "César Azpilicueta",
          "Thiago Thiago Silva",
          "Marcos Alonso",
          "Antonio Rüdiger",
          "Andreas Christensen",
          "Benjamin Chilwell",
          "Ethan Ampadu",
          "Reece James",
          "Malang Sarr",
          "Trevoh Chalobah",
          "Emerson Emerson",
          "Robert Kenedy Kenedy",
          "James Tomkins",
          "Cheikhou Kouyaté",
          "Martin Kelly",
          "Jarosław Jach",
          "Nathan Ferguson",
          "Tyrick Mitchell",
          "Joel Ward",
          "Marc Guéhi",
          "Joachim Andersen",
          "Nathaniel Clyne",
          "Reece Hannam",
          "Tayo Adaramola",
          "Seamus Coleman",
          "Michael Keane",
          "Yerry Mina",
          "Mason Holgate",
          "Ben Godfrey",
          "Jonjoe Kenny",
          "Jarrad Branthwaite",
          "Niels Nkounkou",
          "Reece Welch",
          "Nathan Patterson",
          "Vitalii Mykolenko",
          "Jonny Evans",
          "Ricardo Domingos Pereira",
          "Daniel Amartey",
          "Timothy Castagne",
          "Çaglar Söyüncü",
          "James Justin",
          "Luke Thomas",
          "Wesley Fofana",
          "Jannik Vestergaard",
          "Ryan Bertrand",
          "Vontae Daley-Campbell",
          "Ben Nelson",
          "Liam Cooper",
          "Luke Ayling",
          "Diego Llorente",
          "Robin Koch",
          "Pascal Struijk",
          "Héctor Junior Firpo",
          "Cody Drameh",
          "Charlie Cresswell",
          "Leo Fuhr Hjelde",
          "Kris Moore",
          "Joel Matip",
          "Virgil van Dijk",
          "Andrew Robertson",
          "Trent Alexander-Arnold",
          "Joseph Gomez",
          "Nathaniel Phillips",
          "Ibrahima Konaté",
          "Konstantinos Tsimikas",
          "Neco N.Williams",
          "Rhys R.Williams",
          "Ben Davies",
          "Conor Bradley",
          "Owen Beck",
          "Jarell Quansah",
          "Kyle Walker",
          "John Stones",
          "Benjamin Mendy",
          "João Pedro Cavaco Cancelo",
          "Nathan Aké",
          "Aymeric Laporte",
          "Rúben Santos Dias",
          "Oleksandr Zinchenko",
          "Luke Mbete",
          "Joshua Wilson-Esbrand",
          "Conrad Egan-Riley",
          "Harry Maguire",
          "Luke Shaw",
          "Alex Nicolao Telles",
          "Axel Tuanzebe",
          "Victor Lindelöf",
          "Eric Bailly",
          "Aaron Wan-Bissaka",
          "José Diogo Dalot",
          "Raphaël Varane",
          "Phil Jones",
          "Matt Targett",
          "Dan Burn",
          "Matt Ritchie",
          "Ciaran Clark",
          "Jamaal Lascelles",
          "Paul Dummett",
          "Javier Manquillo",
          "Emil Krafth",
          "Fabian Schär",
          "Jamal Lewis",
          "Federico Fernández",
          "Kieran Trippier",
          "Brandon Williams",
          "Grant Hanley",
          "Sam Byram",
          "Christoph Zimmermann",
          "Max Aarons",
          "Jacob Sørensen",
          "Andrew Omobamidele",
          "Ben Gibson",
          "Dimitris Giannoulis",
          "Bali Mumba",
          "Ozan Kabak",
          "Jonathan Tomkinson",
          "Jack Stephens",
          "Kyle Walker-Peters",
          "Jan Bednarek",
          "Mohammed Salisu",
          "Romain Perraud",
          "Tino Livramento",
          "Yan Valery",
          "Lyanco Evangelista Lyanco",
          "Dynel Simeu",
          "Thierry Small",
          "Toby Alderweireld",
          "Serge Aurier",
          "Matt Doherty",
          "Eric Dier",
          "Ben Davies",
          "Davinson Sánchez",
          "Ryan Sessegnon",
          "Sergio Reguilón",
          "Japhet Tanganga",
          "Joe Rodon",
          "Cristian Romero",
          "Emerson Aparecido Emerson Royal",
          "Tobi Omole",
          "Marcel Lavinier",
          "Danny Rose",
          "Craig Cathcart",
          "Francisco Femenía",
          "Christian Kabasele",
          "William Troost-Ekong",
          "Adam Masina",
          "Francisco Sierralta",
          "Marc Navarro",
          "Jeremy Ngakia",
          "Ben Wilmot",
          "Matthew Pollock",
          "Nicolas Nkoulou",
          "James Morris",
          "Hassane Kamara",
          "Samir Samir",
          "Kurt Zouma",
          "Angelo Ogbonna",
          "Winston Reid",
          "Aaron Cresswell",
          "Craig Dawson",
          "Ryan Fredericks",
          "Arthur Masuaku",
          "Vladimir Coufal",
          "Issa Diop",
          "Ben Johnson",
          "Frederik Alves",
          "Jamal Baptiste",
          "Harrison Ashby",
          "Ajibola Alese",
          "Pierre Ekwah",
          "Willy Boly",
          "Conor Coady",
          "Romain Saïss",
          "Fernando Marçal",
          "Jonathan Jonny",
          "Nélson Semedo",
          "Max Kilman",
          "Ki-Jana Hoever",
          "Yerson Mosquera",
          "Rayan Ait Nouri",
          "Christian Marques",
          "Hugo Bueno",
          "Toti António Toti",
          "Dion Sanderson"
         ],
         "legendgroup": "Defender",
         "marker": {
          "color": "#ab63fa",
          "size": [
           2.4000000000000004,
           0.0,
           0.0,
           0.0,
           0.30000000000000004,
           1.7999999999999998,
           3.5999999999999996,
           0.0,
           0.0,
           3.0,
           0.6000000000000001,
           0.0,
           0.0,
           0.0,
           0.0,
           0.0,
           0.0,
           0.0,
           0.0,
           1.0499999999999998,
           1.5,
           1.0499999999999998,
           0.0,
           0.44999999999999996,
           0.44999999999999996,
           0.0,
           0.0,
           0.0,
           4.800000000000001,
           4.5,
           0.0,
           1.5,
           0.75,
           3.3000000000000003,
           5.25,
           0.0,
           0.0,
           2.25,
           0.0,
           0.0,
           4.800000000000001,
           0.30000000000000004,
           5.699999999999999,
           0.0,
           5.25,
           0.0,
           0.0,
           6.75,
           0.0,
           0.0,
           1.5,
           0.0,
           0.0,
           0.30000000000000004,
           0.0,
           2.0999999999999996,
           2.0999999999999996,
           3.0,
           0.0,
           0.0,
           0.8999999999999999,
           0.0,
           3.0,
           6.449999999999999,
           6.0,
           3.0,
           0.0,
           0.0,
           0.44999999999999996,
           0.0,
           0.0,
           0.0,
           0.0,
           0.0,
           3.0,
           0.0,
           0.0,
           0.0,
           3.4499999999999997,
           0.0,
           3.4499999999999997,
           7.949999999999999,
           3.4499999999999997,
           0.0,
           0.0,
           2.25,
           1.5,
           0.0,
           3.0,
           2.7,
           0.75,
           0.30000000000000004,
           0.0,
           0.0,
           0.0,
           5.25,
           2.0999999999999996,
           0.0,
           1.5,
           5.1,
           1.5,
           2.0999999999999996,
           0.6000000000000001,
           0.30000000000000004,
           0.0,
           0.0,
           0.0,
           0.0,
           6.75,
           5.25,
           6.0,
           4.5,
           0.75,
           0.0,
           0.0,
           0.0,
           0.0,
           0.0,
           4.050000000000001,
           3.0,
           3.0,
           1.9500000000000002,
           4.949999999999999,
           0.0,
           0.0,
           0.0,
           0.0,
           0.0,
           0.0,
           0.0,
           0.0,
           0.0,
           3.4499999999999997,
           0.44999999999999996,
           0.0,
           5.550000000000001,
           3.0,
           3.4499999999999997,
           0.0,
           0.0,
           0.0,
           0.0,
           0.0,
           1.7999999999999998,
           0.0,
           2.7,
           0.0,
           1.2000000000000002,
           0.0,
           0.75,
           1.2000000000000002,
           0.75,
           0.0,
           3.0,
           3.3000000000000003,
           0.0,
           0.0,
           0.30000000000000004,
           0.0,
           0.0,
           2.7,
           4.800000000000001,
           0.0,
           0.0,
           0.0,
           0.44999999999999996,
           7.050000000000001,
           6.449999999999999,
           0.0,
           0.0,
           0.0,
           0.0,
           6.449999999999999,
           6.449999999999999,
           0.0,
           0.0,
           0.0,
           0.0,
           4.199999999999999,
           5.699999999999999,
           0.30000000000000004,
           2.25,
           0.75,
           2.25,
           2.7,
           0.0,
           0.0,
           0.0,
           0.0,
           6.300000000000001,
           4.5,
           6.75,
           0.0,
           0.0,
           3.75,
           0.0,
           0.0,
           4.5,
           5.699999999999999,
           0.0,
           0.0,
           0.0,
           0.44999999999999996,
           1.9500000000000002,
           1.5,
           0.0,
           0.0,
           0.0,
           0.0,
           0.0,
           0.0,
           0.0,
           0.0,
           0.0,
           1.0499999999999998,
           1.5,
           0.75,
           0.0,
           0.0,
           4.800000000000001,
           3.0,
           0.75,
           0.0,
           0.30000000000000004,
           1.2000000000000002,
           1.2000000000000002,
           0.0,
           0.0,
           0.0,
           0.0,
           0.0,
           3.0,
           2.25,
           0.0,
           5.25,
           8.25,
           0.0,
           3.0,
           0.0,
           0.0,
           0.75,
           0.0,
           0.0,
           0.0,
           0.0
          ],
          "sizemode": "area",
          "sizeref": 0.04800000000000001,
          "symbol": "circle"
         },
         "mode": "markers",
         "name": "Defender",
         "orientation": "v",
         "showlegend": true,
         "type": "scatter",
         "x": [
          1.9,
          0.5,
          0.0,
          0.0,
          1.8,
          4.8,
          4.3,
          0.0,
          0.0,
          3.7,
          2.1,
          4.3,
          0.0,
          0.0,
          0.0,
          0.0,
          3.4,
          0.0,
          2.9,
          3.4,
          3.9,
          2.7,
          0.0,
          2.0,
          2.5,
          0.0,
          0.0,
          0.0,
          3.1,
          3.0,
          1.7,
          1.8,
          1.3,
          2.8,
          3.3,
          1.5,
          1.0,
          2.2,
          0.0,
          2.7,
          3.3,
          3.4,
          2.5,
          0.0,
          2.8,
          0.0,
          0.0,
          3.5,
          0.0,
          0.0,
          2.4,
          0.0,
          3.0,
          1.0,
          3.5,
          3.0,
          2.3,
          2.4,
          0.0,
          0.0,
          2.9,
          3.6,
          4.6,
          4.3,
          4.7,
          3.7,
          9.0,
          0.0,
          5.8,
          5.8,
          4.9,
          1.0,
          0.0,
          2.1,
          3.1,
          0.0,
          0.0,
          1.0,
          3.1,
          2.3,
          3.2,
          3.5,
          3.0,
          0.0,
          0.0,
          2.8,
          3.0,
          1.6,
          2.1,
          2.0,
          1.6,
          2.5,
          0.0,
          0.0,
          0.0,
          2.8,
          2.2,
          2.4,
          2.1,
          2.4,
          2.2,
          1.3,
          2.4,
          1.0,
          1.1,
          1.0,
          0.0,
          0.0,
          2.9,
          2.2,
          2.5,
          1.1,
          0.8,
          0.7,
          0.0,
          0.8,
          1.0,
          0.0,
          4.8,
          5.4,
          6.2,
          7.1,
          2.7,
          0.0,
          3.4,
          3.8,
          4.0,
          0.0,
          0.0,
          0.0,
          0.0,
          0.0,
          4.2,
          5.2,
          3.0,
          6.0,
          4.4,
          5.0,
          4.9,
          4.2,
          0.0,
          0.0,
          0.0,
          2.4,
          2.3,
          3.2,
          1.6,
          2.6,
          0.5,
          2.2,
          2.5,
          3.2,
          2.0,
          2.7,
          3.0,
          1.1,
          1.1,
          1.7,
          2.3,
          2.0,
          2.3,
          3.5,
          2.0,
          1.6,
          6.5,
          1.5,
          2.4,
          1.8,
          0.0,
          1.8,
          1.3,
          2.8,
          1.9,
          2.6,
          0.0,
          1.6,
          0.0,
          1.3,
          3.0,
          3.4,
          1.9,
          2.2,
          3.0,
          2.0,
          1.4,
          0.0,
          0.0,
          0.0,
          0.0,
          4.5,
          3.6,
          3.5,
          3.7,
          2.6,
          4.2,
          2.6,
          1.0,
          2.6,
          2.9,
          0.0,
          0.0,
          0.9,
          1.7,
          2.0,
          1.2,
          1.1,
          1.1,
          1.0,
          0.0,
          1.5,
          0.0,
          0.0,
          1.7,
          0.0,
          2.1,
          1.9,
          2.9,
          3.6,
          0.0,
          4.0,
          2.7,
          1.0,
          2.2,
          2.6,
          2.3,
          2.6,
          0.0,
          0.0,
          1.0,
          0.0,
          0.0,
          2.5,
          3.9,
          3.8,
          3.7,
          4.6,
          4.0,
          3.5,
          1.8,
          0.0,
          4.1,
          0.0,
          0.0,
          1.5,
          0.0
         ],
         "xaxis": "x",
         "y": [
          4.2,
          4.2,
          4.8,
          4.2,
          4.1,
          5.0,
          5.4,
          4.5,
          4.5,
          4.6,
          4.3,
          4.5,
          4.0,
          4.0,
          4.0,
          4.0,
          4.2,
          4.5,
          4.4,
          5.0,
          5.2,
          4.9,
          4.5,
          4.7,
          5.0,
          4.0,
          4.0,
          4.0,
          4.4,
          4.5,
          3.9,
          4.1,
          4.3,
          4.4,
          4.4,
          4.4,
          3.9,
          4.5,
          4.0,
          4.0,
          4.8,
          4.3,
          4.2,
          4.0,
          4.5,
          4.0,
          3.9,
          4.9,
          4.0,
          4.0,
          4.9,
          3.9,
          4.1,
          4.0,
          4.7,
          4.4,
          4.4,
          4.3,
          3.9,
          3.9,
          4.4,
          5.6,
          5.6,
          5.5,
          6.2,
          4.6,
          5.6,
          4.5,
          6.3,
          4.9,
          4.7,
          4.5,
          4.5,
          4.3,
          4.5,
          3.8,
          4.2,
          4.5,
          4.5,
          4.5,
          4.5,
          4.6,
          4.3,
          3.9,
          4.0,
          4.9,
          4.7,
          4.9,
          4.2,
          4.7,
          4.4,
          4.0,
          4.0,
          4.0,
          4.2,
          4.9,
          5.4,
          5.2,
          4.0,
          5.3,
          4.9,
          4.9,
          4.3,
          4.3,
          4.7,
          4.6,
          4.0,
          4.0,
          4.4,
          4.3,
          4.5,
          4.3,
          4.3,
          4.7,
          3.9,
          4.0,
          4.0,
          4.0,
          5.0,
          6.8,
          7.3,
          8.4,
          4.7,
          4.2,
          5.1,
          3.7,
          3.8,
          4.4,
          4.0,
          4.0,
          4.0,
          4.0,
          5.4,
          5.2,
          5.2,
          7.1,
          4.7,
          5.9,
          6.1,
          5.3,
          3.9,
          3.9,
          4.0,
          5.4,
          5.0,
          5.1,
          4.4,
          4.8,
          4.9,
          5.1,
          4.2,
          5.5,
          4.5,
          4.7,
          4.4,
          4.9,
          4.4,
          4.4,
          4.5,
          3.9,
          4.3,
          4.4,
          4.2,
          4.3,
          4.9,
          3.9,
          4.4,
          4.4,
          4.4,
          4.3,
          4.3,
          3.9,
          4.4,
          4.4,
          3.9,
          4.3,
          4.0,
          4.4,
          4.8,
          4.4,
          4.5,
          4.8,
          4.3,
          3.9,
          4.4,
          4.0,
          4.0,
          5.0,
          4.9,
          4.8,
          4.6,
          4.4,
          4.3,
          4.3,
          5.1,
          4.2,
          4.2,
          4.8,
          4.5,
          3.9,
          4.0,
          4.2,
          4.3,
          4.3,
          4.3,
          4.3,
          4.3,
          4.3,
          4.0,
          4.2,
          4.5,
          4.0,
          4.4,
          4.0,
          4.5,
          4.5,
          5.4,
          4.9,
          3.9,
          5.5,
          4.9,
          4.4,
          4.4,
          4.7,
          4.2,
          3.9,
          4.0,
          3.9,
          4.0,
          4.0,
          4.0,
          4.9,
          4.8,
          4.9,
          4.2,
          4.5,
          4.8,
          4.5,
          3.9,
          4.4,
          4.2,
          4.0,
          4.0,
          4.4,
          4.0
         ],
         "yaxis": "y"
        }
       ],
       "layout": {
        "annotations": [
         {
          "showarrow": false,
          "text": "Bubble Size : Player Form",
          "x": 1.15,
          "xref": "paper",
          "y": 1.1,
          "yref": "paper"
         }
        ],
        "legend": {
         "itemsizing": "constant",
         "title": {
          "text": "Player Type"
         },
         "tracegroupgap": 0
        },
        "showlegend": true,
        "template": {
         "data": {
          "bar": [
           {
            "error_x": {
             "color": "#2a3f5f"
            },
            "error_y": {
             "color": "#2a3f5f"
            },
            "marker": {
             "line": {
              "color": "#E5ECF6",
              "width": 0.5
             },
             "pattern": {
              "fillmode": "overlay",
              "size": 10,
              "solidity": 0.2
             }
            },
            "type": "bar"
           }
          ],
          "barpolar": [
           {
            "marker": {
             "line": {
              "color": "#E5ECF6",
              "width": 0.5
             },
             "pattern": {
              "fillmode": "overlay",
              "size": 10,
              "solidity": 0.2
             }
            },
            "type": "barpolar"
           }
          ],
          "carpet": [
           {
            "aaxis": {
             "endlinecolor": "#2a3f5f",
             "gridcolor": "white",
             "linecolor": "white",
             "minorgridcolor": "white",
             "startlinecolor": "#2a3f5f"
            },
            "baxis": {
             "endlinecolor": "#2a3f5f",
             "gridcolor": "white",
             "linecolor": "white",
             "minorgridcolor": "white",
             "startlinecolor": "#2a3f5f"
            },
            "type": "carpet"
           }
          ],
          "choropleth": [
           {
            "colorbar": {
             "outlinewidth": 0,
             "ticks": ""
            },
            "type": "choropleth"
           }
          ],
          "contour": [
           {
            "colorbar": {
             "outlinewidth": 0,
             "ticks": ""
            },
            "colorscale": [
             [
              0.0,
              "#0d0887"
             ],
             [
              0.1111111111111111,
              "#46039f"
             ],
             [
              0.2222222222222222,
              "#7201a8"
             ],
             [
              0.3333333333333333,
              "#9c179e"
             ],
             [
              0.4444444444444444,
              "#bd3786"
             ],
             [
              0.5555555555555556,
              "#d8576b"
             ],
             [
              0.6666666666666666,
              "#ed7953"
             ],
             [
              0.7777777777777778,
              "#fb9f3a"
             ],
             [
              0.8888888888888888,
              "#fdca26"
             ],
             [
              1.0,
              "#f0f921"
             ]
            ],
            "type": "contour"
           }
          ],
          "contourcarpet": [
           {
            "colorbar": {
             "outlinewidth": 0,
             "ticks": ""
            },
            "type": "contourcarpet"
           }
          ],
          "heatmap": [
           {
            "colorbar": {
             "outlinewidth": 0,
             "ticks": ""
            },
            "colorscale": [
             [
              0.0,
              "#0d0887"
             ],
             [
              0.1111111111111111,
              "#46039f"
             ],
             [
              0.2222222222222222,
              "#7201a8"
             ],
             [
              0.3333333333333333,
              "#9c179e"
             ],
             [
              0.4444444444444444,
              "#bd3786"
             ],
             [
              0.5555555555555556,
              "#d8576b"
             ],
             [
              0.6666666666666666,
              "#ed7953"
             ],
             [
              0.7777777777777778,
              "#fb9f3a"
             ],
             [
              0.8888888888888888,
              "#fdca26"
             ],
             [
              1.0,
              "#f0f921"
             ]
            ],
            "type": "heatmap"
           }
          ],
          "heatmapgl": [
           {
            "colorbar": {
             "outlinewidth": 0,
             "ticks": ""
            },
            "colorscale": [
             [
              0.0,
              "#0d0887"
             ],
             [
              0.1111111111111111,
              "#46039f"
             ],
             [
              0.2222222222222222,
              "#7201a8"
             ],
             [
              0.3333333333333333,
              "#9c179e"
             ],
             [
              0.4444444444444444,
              "#bd3786"
             ],
             [
              0.5555555555555556,
              "#d8576b"
             ],
             [
              0.6666666666666666,
              "#ed7953"
             ],
             [
              0.7777777777777778,
              "#fb9f3a"
             ],
             [
              0.8888888888888888,
              "#fdca26"
             ],
             [
              1.0,
              "#f0f921"
             ]
            ],
            "type": "heatmapgl"
           }
          ],
          "histogram": [
           {
            "marker": {
             "pattern": {
              "fillmode": "overlay",
              "size": 10,
              "solidity": 0.2
             }
            },
            "type": "histogram"
           }
          ],
          "histogram2d": [
           {
            "colorbar": {
             "outlinewidth": 0,
             "ticks": ""
            },
            "colorscale": [
             [
              0.0,
              "#0d0887"
             ],
             [
              0.1111111111111111,
              "#46039f"
             ],
             [
              0.2222222222222222,
              "#7201a8"
             ],
             [
              0.3333333333333333,
              "#9c179e"
             ],
             [
              0.4444444444444444,
              "#bd3786"
             ],
             [
              0.5555555555555556,
              "#d8576b"
             ],
             [
              0.6666666666666666,
              "#ed7953"
             ],
             [
              0.7777777777777778,
              "#fb9f3a"
             ],
             [
              0.8888888888888888,
              "#fdca26"
             ],
             [
              1.0,
              "#f0f921"
             ]
            ],
            "type": "histogram2d"
           }
          ],
          "histogram2dcontour": [
           {
            "colorbar": {
             "outlinewidth": 0,
             "ticks": ""
            },
            "colorscale": [
             [
              0.0,
              "#0d0887"
             ],
             [
              0.1111111111111111,
              "#46039f"
             ],
             [
              0.2222222222222222,
              "#7201a8"
             ],
             [
              0.3333333333333333,
              "#9c179e"
             ],
             [
              0.4444444444444444,
              "#bd3786"
             ],
             [
              0.5555555555555556,
              "#d8576b"
             ],
             [
              0.6666666666666666,
              "#ed7953"
             ],
             [
              0.7777777777777778,
              "#fb9f3a"
             ],
             [
              0.8888888888888888,
              "#fdca26"
             ],
             [
              1.0,
              "#f0f921"
             ]
            ],
            "type": "histogram2dcontour"
           }
          ],
          "mesh3d": [
           {
            "colorbar": {
             "outlinewidth": 0,
             "ticks": ""
            },
            "type": "mesh3d"
           }
          ],
          "parcoords": [
           {
            "line": {
             "colorbar": {
              "outlinewidth": 0,
              "ticks": ""
             }
            },
            "type": "parcoords"
           }
          ],
          "pie": [
           {
            "automargin": true,
            "type": "pie"
           }
          ],
          "scatter": [
           {
            "fillpattern": {
             "fillmode": "overlay",
             "size": 10,
             "solidity": 0.2
            },
            "type": "scatter"
           }
          ],
          "scatter3d": [
           {
            "line": {
             "colorbar": {
              "outlinewidth": 0,
              "ticks": ""
             }
            },
            "marker": {
             "colorbar": {
              "outlinewidth": 0,
              "ticks": ""
             }
            },
            "type": "scatter3d"
           }
          ],
          "scattercarpet": [
           {
            "marker": {
             "colorbar": {
              "outlinewidth": 0,
              "ticks": ""
             }
            },
            "type": "scattercarpet"
           }
          ],
          "scattergeo": [
           {
            "marker": {
             "colorbar": {
              "outlinewidth": 0,
              "ticks": ""
             }
            },
            "type": "scattergeo"
           }
          ],
          "scattergl": [
           {
            "marker": {
             "colorbar": {
              "outlinewidth": 0,
              "ticks": ""
             }
            },
            "type": "scattergl"
           }
          ],
          "scattermapbox": [
           {
            "marker": {
             "colorbar": {
              "outlinewidth": 0,
              "ticks": ""
             }
            },
            "type": "scattermapbox"
           }
          ],
          "scatterpolar": [
           {
            "marker": {
             "colorbar": {
              "outlinewidth": 0,
              "ticks": ""
             }
            },
            "type": "scatterpolar"
           }
          ],
          "scatterpolargl": [
           {
            "marker": {
             "colorbar": {
              "outlinewidth": 0,
              "ticks": ""
             }
            },
            "type": "scatterpolargl"
           }
          ],
          "scatterternary": [
           {
            "marker": {
             "colorbar": {
              "outlinewidth": 0,
              "ticks": ""
             }
            },
            "type": "scatterternary"
           }
          ],
          "surface": [
           {
            "colorbar": {
             "outlinewidth": 0,
             "ticks": ""
            },
            "colorscale": [
             [
              0.0,
              "#0d0887"
             ],
             [
              0.1111111111111111,
              "#46039f"
             ],
             [
              0.2222222222222222,
              "#7201a8"
             ],
             [
              0.3333333333333333,
              "#9c179e"
             ],
             [
              0.4444444444444444,
              "#bd3786"
             ],
             [
              0.5555555555555556,
              "#d8576b"
             ],
             [
              0.6666666666666666,
              "#ed7953"
             ],
             [
              0.7777777777777778,
              "#fb9f3a"
             ],
             [
              0.8888888888888888,
              "#fdca26"
             ],
             [
              1.0,
              "#f0f921"
             ]
            ],
            "type": "surface"
           }
          ],
          "table": [
           {
            "cells": {
             "fill": {
              "color": "#EBF0F8"
             },
             "line": {
              "color": "white"
             }
            },
            "header": {
             "fill": {
              "color": "#C8D4E3"
             },
             "line": {
              "color": "white"
             }
            },
            "type": "table"
           }
          ]
         },
         "layout": {
          "annotationdefaults": {
           "arrowcolor": "#2a3f5f",
           "arrowhead": 0,
           "arrowwidth": 1
          },
          "autotypenumbers": "strict",
          "coloraxis": {
           "colorbar": {
            "outlinewidth": 0,
            "ticks": ""
           }
          },
          "colorscale": {
           "diverging": [
            [
             0,
             "#8e0152"
            ],
            [
             0.1,
             "#c51b7d"
            ],
            [
             0.2,
             "#de77ae"
            ],
            [
             0.3,
             "#f1b6da"
            ],
            [
             0.4,
             "#fde0ef"
            ],
            [
             0.5,
             "#f7f7f7"
            ],
            [
             0.6,
             "#e6f5d0"
            ],
            [
             0.7,
             "#b8e186"
            ],
            [
             0.8,
             "#7fbc41"
            ],
            [
             0.9,
             "#4d9221"
            ],
            [
             1,
             "#276419"
            ]
           ],
           "sequential": [
            [
             0.0,
             "#0d0887"
            ],
            [
             0.1111111111111111,
             "#46039f"
            ],
            [
             0.2222222222222222,
             "#7201a8"
            ],
            [
             0.3333333333333333,
             "#9c179e"
            ],
            [
             0.4444444444444444,
             "#bd3786"
            ],
            [
             0.5555555555555556,
             "#d8576b"
            ],
            [
             0.6666666666666666,
             "#ed7953"
            ],
            [
             0.7777777777777778,
             "#fb9f3a"
            ],
            [
             0.8888888888888888,
             "#fdca26"
            ],
            [
             1.0,
             "#f0f921"
            ]
           ],
           "sequentialminus": [
            [
             0.0,
             "#0d0887"
            ],
            [
             0.1111111111111111,
             "#46039f"
            ],
            [
             0.2222222222222222,
             "#7201a8"
            ],
            [
             0.3333333333333333,
             "#9c179e"
            ],
            [
             0.4444444444444444,
             "#bd3786"
            ],
            [
             0.5555555555555556,
             "#d8576b"
            ],
            [
             0.6666666666666666,
             "#ed7953"
            ],
            [
             0.7777777777777778,
             "#fb9f3a"
            ],
            [
             0.8888888888888888,
             "#fdca26"
            ],
            [
             1.0,
             "#f0f921"
            ]
           ]
          },
          "colorway": [
           "#636efa",
           "#EF553B",
           "#00cc96",
           "#ab63fa",
           "#FFA15A",
           "#19d3f3",
           "#FF6692",
           "#B6E880",
           "#FF97FF",
           "#FECB52"
          ],
          "font": {
           "color": "#2a3f5f"
          },
          "geo": {
           "bgcolor": "white",
           "lakecolor": "white",
           "landcolor": "#E5ECF6",
           "showlakes": true,
           "showland": true,
           "subunitcolor": "white"
          },
          "hoverlabel": {
           "align": "left"
          },
          "hovermode": "closest",
          "mapbox": {
           "style": "light"
          },
          "paper_bgcolor": "white",
          "plot_bgcolor": "#E5ECF6",
          "polar": {
           "angularaxis": {
            "gridcolor": "white",
            "linecolor": "white",
            "ticks": ""
           },
           "bgcolor": "#E5ECF6",
           "radialaxis": {
            "gridcolor": "white",
            "linecolor": "white",
            "ticks": ""
           }
          },
          "scene": {
           "xaxis": {
            "backgroundcolor": "#E5ECF6",
            "gridcolor": "white",
            "gridwidth": 2,
            "linecolor": "white",
            "showbackground": true,
            "ticks": "",
            "zerolinecolor": "white"
           },
           "yaxis": {
            "backgroundcolor": "#E5ECF6",
            "gridcolor": "white",
            "gridwidth": 2,
            "linecolor": "white",
            "showbackground": true,
            "ticks": "",
            "zerolinecolor": "white"
           },
           "zaxis": {
            "backgroundcolor": "#E5ECF6",
            "gridcolor": "white",
            "gridwidth": 2,
            "linecolor": "white",
            "showbackground": true,
            "ticks": "",
            "zerolinecolor": "white"
           }
          },
          "shapedefaults": {
           "line": {
            "color": "#2a3f5f"
           }
          },
          "ternary": {
           "aaxis": {
            "gridcolor": "white",
            "linecolor": "white",
            "ticks": ""
           },
           "baxis": {
            "gridcolor": "white",
            "linecolor": "white",
            "ticks": ""
           },
           "bgcolor": "#E5ECF6",
           "caxis": {
            "gridcolor": "white",
            "linecolor": "white",
            "ticks": ""
           }
          },
          "title": {
           "x": 0.05
          },
          "xaxis": {
           "automargin": true,
           "gridcolor": "white",
           "linecolor": "white",
           "ticks": "",
           "title": {
            "standoff": 15
           },
           "zerolinecolor": "white",
           "zerolinewidth": 2
          },
          "yaxis": {
           "automargin": true,
           "gridcolor": "white",
           "linecolor": "white",
           "ticks": "",
           "title": {
            "standoff": 15
           },
           "zerolinecolor": "white",
           "zerolinewidth": 2
          }
         }
        },
        "title": {
         "text": "Most Suitable Player to Buy Currently"
        },
        "xaxis": {
         "anchor": "y",
         "domain": [
          0.0,
          1.0
         ],
         "title": {
          "text": "Points Per Game"
         }
        },
        "yaxis": {
         "anchor": "x",
         "domain": [
          0.0,
          1.0
         ],
         "tickprefix": "£",
         "title": {
          "text": "Price"
         }
        }
       }
      },
      "text/html": [
       "<div>                            <div id=\"45895baa-e93d-4646-86cc-4860f2f692d2\" class=\"plotly-graph-div\" style=\"height:525px; width:100%;\"></div>            <script type=\"text/javascript\">                require([\"plotly\"], function(Plotly) {                    window.PLOTLYENV=window.PLOTLYENV || {};                                    if (document.getElementById(\"45895baa-e93d-4646-86cc-4860f2f692d2\")) {                    Plotly.newPlot(                        \"45895baa-e93d-4646-86cc-4860f2f692d2\",                        [{\"customdata\":[[\"Arsenal\"],[\"Arsenal\"],[\"Arsenal\"],[\"Arsenal\"],[\"Arsenal\"],[\"Aston Villa\"],[\"Aston Villa\"],[\"Aston Villa\"],[\"Aston Villa\"],[\"Aston Villa\"],[\"Brentford\"],[\"Brentford\"],[\"Brentford\"],[\"Brentford\"],[\"Brentford\"],[\"Brentford\"],[\"Brighton\"],[\"Brighton\"],[\"Brighton\"],[\"Brighton\"],[\"Brighton\"],[\"Burnley\"],[\"Burnley\"],[\"Burnley\"],[\"Burnley\"],[\"Burnley\"],[\"Chelsea\"],[\"Chelsea\"],[\"Chelsea\"],[\"Crystal Palace\"],[\"Crystal Palace\"],[\"Crystal Palace\"],[\"Everton\"],[\"Everton\"],[\"Everton\"],[\"Everton\"],[\"Everton\"],[\"Leicester\"],[\"Leicester\"],[\"Leicester\"],[\"Leeds\"],[\"Leeds\"],[\"Leeds\"],[\"Liverpool\"],[\"Liverpool\"],[\"Liverpool\"],[\"Liverpool\"],[\"Man City\"],[\"Man City\"],[\"Man City\"],[\"Man City\"],[\"Man Utd\"],[\"Man Utd\"],[\"Man Utd\"],[\"Newcastle\"],[\"Newcastle\"],[\"Newcastle\"],[\"Newcastle\"],[\"Norwich\"],[\"Norwich\"],[\"Norwich\"],[\"Norwich\"],[\"Southampton\"],[\"Southampton\"],[\"Southampton\"],[\"Southampton\"],[\"Spurs\"],[\"Spurs\"],[\"Spurs\"],[\"Spurs\"],[\"Watford\"],[\"Watford\"],[\"Watford\"],[\"Watford\"],[\"West Ham\"],[\"West Ham\"],[\"West Ham\"],[\"Wolves\"],[\"Wolves\"],[\"Wolves\"],[\"Wolves\"],[\"Wolves\"],[\"Wolves\"]],\"hovertemplate\":\"<b>%{hovertext}</b><br><br>Player Type=Goalkeeper<br>points_per_game=%{x}<br>now_cost=%{y}<br>size=%{marker.size}<br>team_name=%{customdata[0]}<extra></extra>\",\"hovertext\":[\"Bernd Leno\",\"R\\u00fanar Alex R\\u00fanarsson\",\"Karl Hein\",\"Aaron Ramsdale\",\"Arthur Okonkwo\",\"Jed Steer\",\"Emiliano Mart\\u00ednez\",\"Viljami Sinisalo\",\"Filip Marschall\",\"Robin Olsen\",\"David Raya\",\"Ellery Balcombe\",\"Patrik Gunnarsson\",\"\\u00c1lvaro Fern\\u00e1ndez\",\"Matthew Cox\",\"Jonas L\\u00f6ssl\",\"Jason Steele\",\"Mathew Ryan\",\"Robert S\\u00e1nchez\",\"Kjell Scherpen\",\"Thomas McGill\",\"Nick Pope\",\"Will Norris\",\"Bailey Peacock-Farrell\",\"Wayne Hennessey\",\"Sam Waller\",\"Kepa Arrizabalaga\",\"Edouard Mendy\",\"Marcus Bettinelli\",\"Vicente Guaita\",\"Jack Butland\",\"Remi Matthews\",\"Jordan Pickford\",\"Jo\\u00e3o Virg\\u00ednia\",\"Asmir Begovi\\u0107\",\"Andy Lonergan\",\"Harry Tyrer\",\"Kasper Schmeichel\",\"Danny Ward\",\"Eldin Jakupovic\",\"Francisco Casilla\",\"Illan Meslier\",\"Kristoffer Klaesson\",\"Adri\\u00e1n Adri\\u00e1n\",\"Alisson Alisson\",\"Caoimhin Kelleher\",\"Marcelo Pitaluga\",\"Ederson Ederson\",\"Zack Steffen\",\"Scott Carson\",\"Cieran Slicker\",\"David de Gea\",\"Dean Henderson\",\"Tom Heaton\",\"Karl Darlow\",\"Martin Dubravka\",\"Freddie Woodman\",\"Mark Gillespie\",\"Michael McGovern\",\"Tim Krul\",\"Angus Gunn\",\"Jon McCracken\",\"Fraser Forster\",\"Alex McCarthy\",\"Harry Lewis\",\"Willy Caballero\",\"Joe Hart\",\"Hugo Lloris\",\"Pierluigi Gollini\",\"Brandon Austin\",\"Ben Foster\",\"Daniel Bachmann\",\"Robert Elliot\",\"Vincent Angelini\",\"Darren Randolph\",\"Lukasz Fabianski\",\"Alphonse Areola\",\"Rui Pedro Patr\\u00edcio\",\"Andreas S\\u00f6ndergaard\",\"John Ruddy\",\"Jos\\u00e9 S\\u00e1\",\"Louie Moulden\",\"James Storer\"],\"legendgroup\":\"Goalkeeper\",\"marker\":{\"color\":\"#636efa\",\"size\":[1.7999999999999998,0.0,0.0,1.2000000000000002,0.0,0.0,2.55,0.0,0.0,0.0,5.699999999999999,0.0,0.0,0.0,0.0,0.0,0.0,0.0,5.25,0.0,0.0,2.4000000000000004,0.0,0.0,0.0,0.0,0.0,3.0,0.0,4.050000000000001,0.0,0.0,4.5,0.0,0.0,0.0,0.0,5.4,0.0,0.0,0.0,6.75,0.0,0.0,3.4499999999999997,0.0,0.0,3.4499999999999997,0.0,0.0,0.0,1.7999999999999998,0.0,0.0,0.0,3.3000000000000003,0.0,0.0,0.0,10.95,0.0,0.0,4.800000000000001,0.0,0.0,0.0,0.0,6.300000000000001,0.0,0.0,1.9500000000000002,0.0,0.0,0.0,0.0,2.25,0.0,0.0,0.0,0.0,4.5,0.0,0.0],\"sizemode\":\"area\",\"sizeref\":0.04800000000000001,\"symbol\":\"circle\"},\"mode\":\"markers\",\"name\":\"Goalkeeper\",\"orientation\":\"v\",\"showlegend\":true,\"x\":[2.5,0.0,0.0,4.5,0.0,1.0,3.5,0.0,0.0,0.0,4.1,0.0,0.0,2.6,0.0,1.0,2.0,0.0,3.4,0.0,0.0,3.4,0.0,0.0,2.0,0.0,4.8,4.2,0.0,3.7,3.2,0.0,3.1,0.0,6.0,0.0,0.0,3.5,0.0,0.0,0.0,2.6,2.0,0.0,5.0,4.0,0.0,4.3,7.0,0.0,0.0,3.7,0.0,0.0,2.5,3.3,2.2,0.0,0.0,3.4,3.7,0.0,3.3,3.5,0.0,1.0,0.0,4.0,0.0,0.0,3.0,2.0,0.0,0.0,0.0,3.3,2.0,0.0,0.0,0.0,4.3,0.0,0.0],\"xaxis\":\"x\",\"y\":[4.5,4.0,4.0,5.1,3.9,3.9,5.5,4.0,4.0,4.0,4.3,4.0,3.9,4.5,4.0,4.5,3.9,4.5,4.6,4.5,4.0,5.4,4.3,4.5,4.5,4.0,4.5,6.1,4.0,4.6,4.4,3.9,4.8,4.0,4.0,3.9,4.0,4.9,4.0,3.9,4.5,4.8,4.3,4.3,6.0,4.3,4.0,6.1,4.4,3.9,4.0,5.1,4.7,3.9,4.5,4.5,4.3,3.9,3.9,4.5,4.0,4.0,4.4,4.3,3.9,4.2,4.5,5.4,4.2,4.0,4.1,4.1,4.0,4.0,4.3,5.0,4.7,5.0,3.9,4.3,5.3,4.0,4.0],\"yaxis\":\"y\",\"type\":\"scatter\"},{\"customdata\":[[\"Arsenal\"],[\"Arsenal\"],[\"Arsenal\"],[\"Arsenal\"],[\"Arsenal\"],[\"Arsenal\"],[\"Arsenal\"],[\"Arsenal\"],[\"Arsenal\"],[\"Arsenal\"],[\"Arsenal\"],[\"Arsenal\"],[\"Arsenal\"],[\"Arsenal\"],[\"Arsenal\"],[\"Arsenal\"],[\"Arsenal\"],[\"Arsenal\"],[\"Arsenal\"],[\"Aston Villa\"],[\"Aston Villa\"],[\"Aston Villa\"],[\"Aston Villa\"],[\"Aston Villa\"],[\"Aston Villa\"],[\"Aston Villa\"],[\"Aston Villa\"],[\"Aston Villa\"],[\"Aston Villa\"],[\"Aston Villa\"],[\"Aston Villa\"],[\"Aston Villa\"],[\"Aston Villa\"],[\"Aston Villa\"],[\"Aston Villa\"],[\"Aston Villa\"],[\"Brentford\"],[\"Brentford\"],[\"Brentford\"],[\"Brentford\"],[\"Brentford\"],[\"Brentford\"],[\"Brentford\"],[\"Brentford\"],[\"Brentford\"],[\"Brentford\"],[\"Brentford\"],[\"Brentford\"],[\"Brentford\"],[\"Brentford\"],[\"Brentford\"],[\"Brentford\"],[\"Brentford\"],[\"Brighton\"],[\"Brighton\"],[\"Brighton\"],[\"Brighton\"],[\"Brighton\"],[\"Brighton\"],[\"Brighton\"],[\"Brighton\"],[\"Brighton\"],[\"Brighton\"],[\"Brighton\"],[\"Brighton\"],[\"Brighton\"],[\"Brighton\"],[\"Brighton\"],[\"Burnley\"],[\"Burnley\"],[\"Burnley\"],[\"Burnley\"],[\"Burnley\"],[\"Burnley\"],[\"Burnley\"],[\"Burnley\"],[\"Burnley\"],[\"Chelsea\"],[\"Chelsea\"],[\"Chelsea\"],[\"Chelsea\"],[\"Chelsea\"],[\"Chelsea\"],[\"Chelsea\"],[\"Chelsea\"],[\"Chelsea\"],[\"Chelsea\"],[\"Chelsea\"],[\"Chelsea\"],[\"Chelsea\"],[\"Crystal Palace\"],[\"Crystal Palace\"],[\"Crystal Palace\"],[\"Crystal Palace\"],[\"Crystal Palace\"],[\"Crystal Palace\"],[\"Crystal Palace\"],[\"Crystal Palace\"],[\"Crystal Palace\"],[\"Crystal Palace\"],[\"Crystal Palace\"],[\"Everton\"],[\"Everton\"],[\"Everton\"],[\"Everton\"],[\"Everton\"],[\"Everton\"],[\"Everton\"],[\"Everton\"],[\"Everton\"],[\"Everton\"],[\"Everton\"],[\"Everton\"],[\"Everton\"],[\"Everton\"],[\"Everton\"],[\"Everton\"],[\"Everton\"],[\"Everton\"],[\"Everton\"],[\"Leicester\"],[\"Leicester\"],[\"Leicester\"],[\"Leicester\"],[\"Leicester\"],[\"Leicester\"],[\"Leicester\"],[\"Leicester\"],[\"Leicester\"],[\"Leicester\"],[\"Leicester\"],[\"Leicester\"],[\"Leicester\"],[\"Leicester\"],[\"Leeds\"],[\"Leeds\"],[\"Leeds\"],[\"Leeds\"],[\"Leeds\"],[\"Leeds\"],[\"Leeds\"],[\"Leeds\"],[\"Leeds\"],[\"Leeds\"],[\"Leeds\"],[\"Leeds\"],[\"Leeds\"],[\"Leeds\"],[\"Leeds\"],[\"Leeds\"],[\"Leeds\"],[\"Leeds\"],[\"Leeds\"],[\"Liverpool\"],[\"Liverpool\"],[\"Liverpool\"],[\"Liverpool\"],[\"Liverpool\"],[\"Liverpool\"],[\"Liverpool\"],[\"Liverpool\"],[\"Liverpool\"],[\"Liverpool\"],[\"Liverpool\"],[\"Liverpool\"],[\"Liverpool\"],[\"Liverpool\"],[\"Liverpool\"],[\"Liverpool\"],[\"Liverpool\"],[\"Man City\"],[\"Man City\"],[\"Man City\"],[\"Man City\"],[\"Man City\"],[\"Man City\"],[\"Man City\"],[\"Man City\"],[\"Man City\"],[\"Man City\"],[\"Man City\"],[\"Man City\"],[\"Man City\"],[\"Man City\"],[\"Man City\"],[\"Man Utd\"],[\"Man Utd\"],[\"Man Utd\"],[\"Man Utd\"],[\"Man Utd\"],[\"Man Utd\"],[\"Man Utd\"],[\"Man Utd\"],[\"Man Utd\"],[\"Man Utd\"],[\"Man Utd\"],[\"Man Utd\"],[\"Man Utd\"],[\"Man Utd\"],[\"Man Utd\"],[\"Newcastle\"],[\"Newcastle\"],[\"Newcastle\"],[\"Newcastle\"],[\"Newcastle\"],[\"Newcastle\"],[\"Newcastle\"],[\"Newcastle\"],[\"Newcastle\"],[\"Newcastle\"],[\"Newcastle\"],[\"Newcastle\"],[\"Newcastle\"],[\"Norwich\"],[\"Norwich\"],[\"Norwich\"],[\"Norwich\"],[\"Norwich\"],[\"Norwich\"],[\"Norwich\"],[\"Norwich\"],[\"Norwich\"],[\"Norwich\"],[\"Norwich\"],[\"Norwich\"],[\"Norwich\"],[\"Norwich\"],[\"Norwich\"],[\"Norwich\"],[\"Southampton\"],[\"Southampton\"],[\"Southampton\"],[\"Southampton\"],[\"Southampton\"],[\"Southampton\"],[\"Southampton\"],[\"Southampton\"],[\"Southampton\"],[\"Southampton\"],[\"Southampton\"],[\"Spurs\"],[\"Spurs\"],[\"Spurs\"],[\"Spurs\"],[\"Spurs\"],[\"Spurs\"],[\"Spurs\"],[\"Spurs\"],[\"Spurs\"],[\"Spurs\"],[\"Spurs\"],[\"Spurs\"],[\"Spurs\"],[\"Spurs\"],[\"Spurs\"],[\"Spurs\"],[\"Watford\"],[\"Watford\"],[\"Watford\"],[\"Watford\"],[\"Watford\"],[\"Watford\"],[\"Watford\"],[\"Watford\"],[\"Watford\"],[\"Watford\"],[\"Watford\"],[\"Watford\"],[\"Watford\"],[\"Watford\"],[\"Watford\"],[\"Watford\"],[\"Watford\"],[\"Watford\"],[\"West Ham\"],[\"West Ham\"],[\"West Ham\"],[\"West Ham\"],[\"West Ham\"],[\"West Ham\"],[\"West Ham\"],[\"West Ham\"],[\"West Ham\"],[\"West Ham\"],[\"West Ham\"],[\"West Ham\"],[\"West Ham\"],[\"West Ham\"],[\"Wolves\"],[\"Wolves\"],[\"Wolves\"],[\"Wolves\"],[\"Wolves\"],[\"Wolves\"],[\"Wolves\"],[\"Wolves\"],[\"Wolves\"],[\"Wolves\"],[\"Wolves\"],[\"Wolves\"],[\"Wolves\"],[\"Wolves\"]],\"hovertemplate\":\"<b>%{hovertext}</b><br><br>Player Type=Midfielder<br>points_per_game=%{x}<br>now_cost=%{y}<br>size=%{marker.size}<br>team_name=%{customdata[0]}<extra></extra>\",\"hovertext\":[\"Willian Willian\",\"Granit Xhaka\",\"Mohamed Naser Elneny\",\"Ainsley Maitland-Niles\",\"Thomas Partey\",\"Nicolas P\\u00e9p\\u00e9\",\"Lucas Torreira\",\"Emile Smith Rowe\",\"Bukayo Saka\",\"Matt\\u00e9o Guendouzi\",\"Gabriel Teodoro Martinelli\",\"Albert Sambi Lokonga\",\"Reiss Nelson\",\"Martin \\u00d8degaard\",\"Charlie Patino\",\"Omari Hutchinson\",\"Salah-Eddine Oulad M'hand\",\"Marcelo Flores\",\"Miguel Azeez\",\"Conor Hourihane\",\"Bertrand Traor\\u00e9\",\"Morgan Sanson\",\"John McGinn\",\"Mahmoud Ahmed Tr\\u00e9z\\u00e9guet\",\"Marvelous Nakamba\",\"Emiliano Buend\\u00eda\",\"Douglas Luiz Douglas Luiz\",\"Jacob Ramsey\",\"Leon Bailey\",\"Aaron Ramsey\",\"Jaden Philogene-Bidace\",\"Carney Chukwuemeka\",\"Tim Iroegbunam\",\"Philippe Coutinho\",\"Benjamin Chrisene\",\"Tommi O'Reilly\",\"Christian N\\u00f8rgaard\",\"Tariqe Fosu\",\"Sergi Can\\u00f3s\",\"Pelenda Joshua Dasilva\",\"Vitaly Janelt\",\"Saman Ghoddos\",\"Mathias Jensen\",\"Jan Zamburek\",\"Bryan Mbeumo\",\"Mads Bidstrup\",\"Frank Onyeka\",\"Shandon Baptiste\",\"Yoane Wissa\",\"Paris Maghoma\",\"Maxwell Haygarth\",\"Myles Peart-Harris\",\"Christian Eriksen\",\"Adam Lallana\",\"Pascal Gro\\u00df\",\"Davy Pr\\u00f6pper\",\"Solomon March\",\"Leandro Trossard\",\"Alireza Jahanbakhsh\",\"Yves Bissouma\",\"Steven Alzate\",\"Alexis Mac Allister\",\"Jakub Moder\",\"Enock Mwepu\",\"Taylor Richards\",\"Mois\\u00e9s Caicedo\",\"Jeremy Sarmiento\",\"Marc Leonard\",\"Jack Cork\",\"Dale Stephens\",\"Ashley Westwood\",\"Johann Berg Gudmundsson\",\"Josh Brownhill\",\"Josh Benson\",\"Dwight McNeil\",\"Aaron Lennon\",\"Maxwel Cornet\",\"Jorge Luiz Jorginho\",\"Ross Barkley\",\"Mateo Kovacic\",\"N'Golo Kant\\u00e9\",\"Hakim Ziyech\",\"Ruben Loftus-Cheek\",\"Christian Pulisic\",\"Mason Mount\",\"Callum Hudson-Odoi\",\"Kai Havertz\",\"Sa\\u00fal Sa\\u00fal\",\"Lewis Hall\",\"Harvey Vale\",\"Conor Gallagher\",\"James McArthur\",\"Luka Milivojevic\",\"Wilfried Zaha\",\"Jeffrey Schlupp\",\"Jairo Riedewald\",\"Eberechi Eze\",\"Will Hughes\",\"Michael Olise\",\"Jesurun Rak-Sakyi\",\"Scott Banks\",\"Anwar El Ghazi\",\"Fabian Delph\",\"Gylfi Sigurdsson\",\"James James\",\"Bernard Bernard\",\"Allan Allan\",\"Andr\\u00e9 Filipe Andr\\u00e9 Gomes\",\"Abdoulaye Doucour\\u00e9\",\"Alex Iwobi\",\"Tom Davies\",\"Donny van de Beek\",\"Bamidele Dele\",\"Andros Townsend\",\"Demarai Gray\",\"Anthony Gordon\",\"Jean-Philippe Gbamin\",\"Charlie Whitaker\",\"Tyler Onyango\",\"Isaac Price\",\"Marc Albrighton\",\"Nampalys Mendy\",\"Dennis Praet\",\"Youri Tielemans\",\"Ayoze P\\u00e9rez\",\"James Maddison\",\"Hamza Choudhury\",\"Harvey Barnes\",\"Wilfred Ndidi\",\"Boubakary Soumar\\u00e9\",\"Kiernan Dewsbury-Hall\",\"Ademola Lookman\",\"Lewis Brunt\",\"Kasey McAteer\",\"Pablo Hern\\u00e1ndez\",\"Mateusz Klich\",\"Stuart Dallas\",\"Kalvin Phillips\",\"H\\u00e9lder Wander Costa\",\"Tyler Roberts\",\"Ian Carlo Poveda\",\"Raphael Raphinha\",\"Jamie Shackleton\",\"Jack Harrison\",\"Daniel James\",\"Crysencio Summerville\",\"Adam Forshaw\",\"Liam McCarron\",\"Nohan Kenneh\",\"Stuart McKinstry\",\"Lewis Bate\",\"Jack Jenkins\",\"Archie Gray\",\"James Milner\",\"Jordan Henderson\",\"Thiago Thiago\",\"Xherdan Shaqiri\",\"Alex Chamberlain\",\"Sadio Man\\u00e9\",\"Fabio Henrique Fabinho\",\"Mohamed Salah\",\"Takumi Minamino\",\"Naby Keita\",\"Diogo Jota\",\"Curtis Jones\",\"Harvey Elliott\",\"Ben Woodburn\",\"Tyler Morton\",\"Kaide Gordon\",\"Luis Luis D\\u00edaz\",\"Jack Grealish\",\"Ilkay G\\u00fcndogan\",\"Kevin De Bruyne\",\"Riyad Mahrez\",\"Raheem Sterling\",\"Bernardo Mota Bernardo\",\"Phil Foden\",\"Rodrigo Rodrigo\",\"Ferran Torres\",\"Fernando Fernandinho\",\"Cole Palmer\",\"Samuel Edozie\",\"Tommy Doyle\",\"Romeo Lavia\",\"James McAtee\",\"Nemanja Matic\",\"Paul Pogba\",\"Frederico Fred\",\"Jesse Lingard\",\"Bruno Miguel Fernandes\",\"Marcus Rashford\",\"Scott McTominay\",\"Mason Greenwood\",\"Juan Mata\",\"Jadon Sancho\",\"Andreas Pereira\",\"Anthony Elanga\",\"Amad Diallo\",\"Hannibal Mejbri\",\"Alejandro Garnacho\",\"Joseph Willock\",\"Jonjo Shelvey\",\"Jeff Hendrick\",\"Ryan Fraser\",\"Jacob Murphy\",\"Isaac Hayden\",\"Miguel Almir\\u00f3n\",\"Sean S.Longstaff\",\"Matthew M.Longstaff\",\"Joe White\",\"Elliot Anderson\",\"Bruno Bruno Guimar\\u00e3es\",\"Lucas De Bolle\",\"Billy Gilmour\",\"Marco Stiepermann\",\"Lukas Rupp\",\"Kenny McLean\",\"Onel Hern\\u00e1ndez\",\"Kieran Dowell\",\"Todd Cantwell\",\"Przemyslaw Placheta\",\"Josh Martin\",\"Milot Rashica\",\"Pierre Lees-Melou\",\"Christos Tzolis\",\"Mathias Normann\",\"Jonathan Rowe\",\"Liam Gibbs\",\"Tony Springett\",\"Theo Walcott\",\"Oriol Romeu\",\"Nathan Redmond\",\"Stuart S.Armstrong\",\"James Ward-Prowse\",\"Nathan Tella\",\"William Smallbone\",\"Ibrahima Diallo\",\"Moussa Djenepo\",\"Mohamed Elyounoussi\",\"Kgaogelo Chauke\",\"Erik Lamela\",\"Heung-Min Son\",\"Lucas Lucas Moura\",\"Pierre-Emile H\\u00f8jbjerg\",\"Harry Winks\",\"Steven Bergwijn\",\"Giovani Lo Celso\",\"Oliver Skipp\",\"Tanguy Ndombele\",\"Bryan Bryan\",\"Dilan Markanday\",\"Harvey White\",\"Dejan Kulusevski\",\"Rodrigo Bentancur\",\"Alfie Devine\",\"Jamie Bowden\",\"Moussa Sissoko\",\"Dan Gosling\",\"Tom Cleverley\",\"Nathaniel Chalobah\",\"Ken Sema\",\"Philip Zinckernagel\",\"Ayotomiwa Dele-Bashiru\",\"Domingos Quina\",\"Ismaila Sarr\",\"Joseph Hungbo\",\"Imr\\u00e2n Louza\",\"Kwadwo Baah\",\"Oghenekaro Peter Etebo\",\"Juraj Kucka\",\"Ozan Tufan\",\"Kamil Conteh\",\"Edo Kayembe\",\"Samuel Kalu\",\"Mark Noble\",\"Andriy Yarmolenko\",\"Manuel Lanzini\",\"Sa\\u00efd Benrahma\",\"Jarrod Bowen\",\"Declan Rice\",\"Tomas Soucek\",\"Pablo Fornals\",\"Conor Coventry\",\"Nikola Vlasic\",\"Alex Kral\",\"Sonny Perkins\",\"Armstrong Oko-Flex\",\"Daniel Chesters\",\"Jo\\u00e3o Filipe Iria Moutinho\",\"Leander Dendoncker\",\"Adama Traor\\u00e9\",\"R\\u00faben Diogo Neves\",\"Daniel Podence\",\"Morgan Gibbs-White\",\"Pedro Neto\",\"Owen Otasowie\",\"Francisco Trinc\\u00e3o\",\"Luke Cundle\",\"Chem Campbell\",\"Bruno Andr\\u00e9 Jord\\u00e3o\",\"Ryan Giles\",\"Francisco Jorge Chiquinho\"],\"legendgroup\":\"Midfielder\",\"marker\":{\"color\":\"#EF553B\",\"size\":[0.0,3.5999999999999996,0.0,0.0,0.8999999999999999,0.8999999999999999,0.0,2.4000000000000004,4.800000000000001,0.0,1.5,1.2000000000000002,0.0,4.199999999999999,0.0,0.0,0.0,0.0,0.0,0.0,0.44999999999999996,1.0499999999999998,1.9500000000000002,0.0,0.0,1.9500000000000002,2.55,2.55,1.9500000000000002,0.0,0.0,0.0,0.0,3.0,0.0,0.0,6.0,0.30000000000000004,0.75,0.0,7.800000000000001,0.30000000000000004,1.7999999999999998,0.0,10.8,0.0,0.0,0.30000000000000004,7.199999999999999,0.0,0.0,0.0,6.300000000000001,0.75,2.7,0.0,1.5,8.25,0.0,1.5,0.0,3.0,0.30000000000000004,5.699999999999999,0.0,2.7,0.30000000000000004,0.0,0.8999999999999999,0.0,2.0999999999999996,0.0,2.0999999999999996,0.0,1.5,1.7999999999999998,4.5,0.0,0.0,1.9500000000000002,5.550000000000001,1.5,2.55,0.44999999999999996,10.5,0.0,4.050000000000001,0.0,0.0,0.0,1.9500000000000002,1.0499999999999998,0.44999999999999996,6.449999999999999,2.55,0.0,0.44999999999999996,0.0,0.0,0.0,0.0,0.0,1.2000000000000002,0.0,0.0,0.0,1.2000000000000002,0.0,1.7999999999999998,2.7,0.0,0.0,0.0,0.0,1.5,6.0,0.0,0.0,0.0,0.0,0.0,2.0999999999999996,0.0,2.4000000000000004,1.2000000000000002,6.8999999999999995,0.30000000000000004,2.7,0.0,0.30000000000000004,5.699999999999999,4.800000000000001,0.0,0.0,0.0,2.25,3.75,1.5,0.0,0.0,0.0,11.25,0.0,13.5,5.25,0.75,1.5,0.0,0.0,0.0,0.0,0.0,0.0,0.44999999999999996,2.55,1.9500000000000002,0.0,0.0,4.050000000000001,4.050000000000001,4.050000000000001,0.0,0.44999999999999996,10.5,1.5,0.0,0.0,0.0,0.0,0.44999999999999996,1.9500000000000002,4.5,10.05,0.44999999999999996,6.449999999999999,2.55,2.55,2.55,0.0,0.0,0.0,0.0,0.0,0.0,0.0,1.5,1.5,4.199999999999999,0.75,3.3000000000000003,1.5,0.0,0.0,0.75,2.25,0.0,4.800000000000001,0.0,0.0,0.0,3.3000000000000003,2.7,0.0,1.2000000000000002,1.2000000000000002,0.0,1.7999999999999998,0.30000000000000004,0.0,0.0,0.0,6.75,0.0,1.9500000000000002,0.0,0.44999999999999996,3.4499999999999997,0.0,7.5,0.0,0.44999999999999996,0.0,4.050000000000001,6.0,1.0499999999999998,5.550000000000001,1.0499999999999998,0.0,0.0,0.0,2.25,0.30000000000000004,2.25,5.699999999999999,0.30000000000000004,0.30000000000000004,1.2000000000000002,0.0,3.3000000000000003,0.0,0.0,19.200000000000003,2.7,3.0,0.75,3.3000000000000003,0.0,0.0,0.0,0.0,0.0,0.0,8.25,3.0,0.0,0.0,2.55,0.0,1.0499999999999998,0.0,0.0,0.0,0.0,0.0,4.5,0.0,1.9500000000000002,0.0,0.0,3.0,0.0,0.0,0.44999999999999996,0.0,0.30000000000000004,0.75,3.3000000000000003,4.5,6.300000000000001,3.3000000000000003,6.0,2.25,0.0,1.5,0.0,0.0,0.0,0.0,2.25,1.5,0.0,0.0,2.25,0.0,0.75,0.0,3.75,1.5,0.75,0.0,0.0,0.75],\"sizemode\":\"area\",\"sizeref\":0.04800000000000001,\"symbol\":\"circle\"},\"mode\":\"markers\",\"name\":\"Midfielder\",\"orientation\":\"v\",\"showlegend\":true,\"x\":[0.0,2.1,1.6,1.5,3.0,2.3,0.0,4.2,4.6,0.0,3.7,1.8,1.0,3.8,0.0,0.0,0.0,0.0,0.0,0.0,1.6,1.3,3.0,1.0,1.3,2.8,2.6,3.4,2.1,0.0,1.0,1.4,1.0,5.2,0.0,0.0,2.8,1.0,2.6,0.5,3.0,1.7,1.7,0.0,3.6,1.0,1.8,1.6,2.6,0.0,0.0,0.0,4.2,1.9,2.4,0.0,1.8,3.5,0.0,2.0,1.4,2.9,2.1,3.6,1.0,3.5,1.0,0.0,1.9,1.5,2.3,1.8,2.2,0.0,2.2,2.4,3.8,4.1,1.4,3.3,3.3,4.0,2.2,3.4,5.5,3.3,4.2,1.6,0.0,0.0,4.7,2.6,1.2,4.3,2.8,1.3,1.1,2.4,3.0,1.0,0.0,2.0,1.3,0.0,0.0,0.0,2.2,1.2,3.3,2.8,2.2,1.8,1.9,3.1,3.2,3.1,1.0,0.0,1.0,0.0,2.3,1.7,0.0,4.0,1.9,4.5,1.3,3.7,2.2,1.9,2.6,3.3,0.0,1.0,0.0,2.0,2.4,1.9,1.0,1.5,0.0,4.4,1.4,3.3,3.0,1.0,1.7,1.0,0.0,1.0,1.0,0.0,0.0,1.6,3.4,2.6,0.0,2.5,5.3,3.7,7.9,1.9,3.1,5.5,2.8,2.0,0.0,0.5,1.0,4.0,3.1,4.7,6.0,5.0,5.0,4.5,4.7,3.2,6.5,2.4,2.2,0.0,0.0,0.0,1.0,1.9,3.4,3.6,1.9,4.6,2.6,2.3,3.9,1.0,3.3,0.0,2.9,0.0,0.0,0.0,2.8,2.6,2.7,3.0,1.9,2.0,1.8,1.9,0.0,0.0,0.0,3.3,0.0,2.0,0.0,1.3,2.2,0.0,2.2,1.2,1.6,0.0,2.3,2.1,1.2,2.5,1.3,0.0,0.0,1.3,2.3,2.9,2.4,4.2,1.6,1.3,2.0,1.1,3.3,0.0,0.0,6.9,2.7,3.1,1.9,2.4,1.2,1.9,2.4,1.0,0.0,0.0,5.6,2.4,0.0,0.0,2.4,1.0,1.7,0.0,1.3,0.0,0.0,0.0,3.9,0.0,1.5,0.0,1.1,2.0,1.4,0.0,1.8,1.0,1.8,1.3,3.0,4.0,5.5,2.7,3.5,3.3,0.0,1.6,1.0,1.0,0.0,1.0,2.9,2.4,2.2,3.1,2.8,0.5,1.0,0.0,2.4,2.0,1.0,0.0,0.0,1.6],\"xaxis\":\"x\",\"y\":[6.3,4.8,4.4,5.2,5.0,6.9,4.5,5.7,6.8,4.5,5.3,4.8,5.0,5.6,4.5,4.5,4.5,4.5,4.5,4.9,5.7,5.0,5.6,5.4,4.4,6.2,4.4,4.7,6.3,4.4,5.0,4.5,4.5,7.1,4.5,4.5,5.0,5.1,5.5,5.3,4.9,5.2,4.9,4.4,5.2,4.4,4.9,4.9,5.7,4.5,4.5,4.5,5.6,5.3,5.7,4.5,5.3,5.8,5.5,4.4,4.8,5.1,4.5,5.9,4.5,4.5,4.5,4.5,4.4,4.4,5.2,5.4,4.3,4.5,5.6,4.8,5.9,5.7,5.2,4.9,4.9,7.3,5.4,7.9,7.6,5.3,7.9,4.9,4.5,4.5,6.1,4.3,5.3,6.8,5.4,4.7,5.9,4.7,5.4,4.4,4.5,5.6,4.2,6.7,6.9,5.5,4.3,4.9,5.3,5.8,4.8,5.7,6.2,5.2,5.5,4.6,4.4,4.5,4.5,4.5,5.2,4.3,4.9,6.4,5.7,7.0,4.4,6.6,4.8,4.8,4.4,5.9,4.5,4.5,5.5,5.1,4.9,4.7,5.4,4.8,4.5,6.4,4.4,5.5,6.0,4.5,4.5,4.4,4.4,4.3,4.5,4.5,4.5,4.9,4.9,5.3,5.9,5.8,11.7,5.4,13.2,5.1,5.0,8.3,5.0,5.3,4.5,4.5,4.5,7.9,7.5,7.1,11.8,8.6,10.5,7.0,7.8,5.5,6.7,4.7,4.5,4.7,4.5,4.4,4.4,4.3,7.4,4.9,6.7,11.6,9.4,5.4,7.1,4.7,8.9,5.0,4.8,5.0,4.5,4.5,5.6,5.3,4.8,5.3,4.7,4.5,5.0,4.3,4.5,4.4,4.5,4.9,4.4,4.3,5.0,4.4,4.9,4.9,5.1,5.3,4.7,5.0,5.2,4.8,4.8,4.5,4.4,4.5,4.5,5.8,4.5,5.9,5.8,6.4,4.7,4.5,4.5,5.2,5.4,4.5,6.0,11.1,6.0,4.8,4.4,5.9,5.9,4.4,5.7,5.7,4.5,4.4,6.4,4.9,4.5,4.5,4.4,4.7,4.8,5.0,5.2,5.5,4.5,4.5,5.7,4.5,5.2,4.3,4.3,5.5,5.0,4.5,4.6,4.9,4.3,5.1,5.6,5.9,6.9,5.0,5.7,6.0,4.5,5.6,4.4,4.5,4.4,4.5,4.9,4.7,5.6,5.2,5.5,4.5,6.2,4.5,5.6,4.4,4.4,4.5,4.5,5.5],\"yaxis\":\"y\",\"type\":\"scatter\"},{\"customdata\":[[\"Arsenal\"],[\"Arsenal\"],[\"Arsenal\"],[\"Arsenal\"],[\"Arsenal\"],[\"Aston Villa\"],[\"Aston Villa\"],[\"Aston Villa\"],[\"Aston Villa\"],[\"Aston Villa\"],[\"Aston Villa\"],[\"Brentford\"],[\"Brentford\"],[\"Brentford\"],[\"Brentford\"],[\"Brighton\"],[\"Brighton\"],[\"Brighton\"],[\"Brighton\"],[\"Brighton\"],[\"Brighton\"],[\"Brighton\"],[\"Burnley\"],[\"Burnley\"],[\"Burnley\"],[\"Burnley\"],[\"Burnley\"],[\"Chelsea\"],[\"Chelsea\"],[\"Chelsea\"],[\"Chelsea\"],[\"Chelsea\"],[\"Crystal Palace\"],[\"Crystal Palace\"],[\"Crystal Palace\"],[\"Crystal Palace\"],[\"Crystal Palace\"],[\"Everton\"],[\"Everton\"],[\"Everton\"],[\"Everton\"],[\"Everton\"],[\"Everton\"],[\"Everton\"],[\"Everton\"],[\"Leicester\"],[\"Leicester\"],[\"Leicester\"],[\"Leeds\"],[\"Leeds\"],[\"Leeds\"],[\"Leeds\"],[\"Liverpool\"],[\"Liverpool\"],[\"Man City\"],[\"Man City\"],[\"Man City\"],[\"Man Utd\"],[\"Man Utd\"],[\"Man Utd\"],[\"Newcastle\"],[\"Newcastle\"],[\"Newcastle\"],[\"Newcastle\"],[\"Newcastle\"],[\"Norwich\"],[\"Norwich\"],[\"Norwich\"],[\"Norwich\"],[\"Norwich\"],[\"Norwich\"],[\"Southampton\"],[\"Southampton\"],[\"Southampton\"],[\"Southampton\"],[\"Southampton\"],[\"Southampton\"],[\"Spurs\"],[\"Spurs\"],[\"Watford\"],[\"Watford\"],[\"Watford\"],[\"Watford\"],[\"Watford\"],[\"Watford\"],[\"Watford\"],[\"Watford\"],[\"Watford\"],[\"Watford\"],[\"Watford\"],[\"West Ham\"],[\"Wolves\"],[\"Wolves\"],[\"Wolves\"],[\"Wolves\"]],\"hovertemplate\":\"<b>%{hovertext}</b><br><br>Player Type=Forward<br>points_per_game=%{x}<br>now_cost=%{y}<br>size=%{marker.size}<br>team_name=%{customdata[0]}<extra></extra>\",\"hovertext\":[\"Pierre-Emerick Aubameyang\",\"Alexandre Lacazette\",\"Edward Nketiah\",\"Folarin Balogun\",\"Mika Biereth\",\"Ollie Watkins\",\"Wesley Wesley\",\"Mbwana Ally Samatta\",\"Keinan Davis\",\"Danny Ings\",\"Cameron Archer\",\"Ivan Toney\",\"Marcus Forss\",\"Halil Dervi\\u015fo\\u011flu\",\"Nathan Young-Coombes\",\"Neal Maupay\",\"Aaron Connolly\",\"Danny Welbeck\",\"Florin Andone\",\"Andi Zeqiri\",\"J\\u00fcrgen Locadia\",\"Evan Ferguson\",\"Jay Rodriguez\",\"Ashley Barnes\",\"Matej Vydra\",\"Lewis Richardson\",\"Wout Weghorst\",\"Olivier Giroud\",\"Michy Batshuayi\",\"Timo Werner\",\"Tammy Abraham\",\"Romelu Lukaku\",\"Christian Benteke\",\"Jordan Ayew\",\"Jean-Philippe Mateta\",\"Robert Street\",\"Odsonne Edouard\",\"Dominic Calvert-Lewin\",\"Richarlison Richarlison\",\"Nathan Broadhead\",\"Moise Kean\",\"Salom\\u00f3n Rond\\u00f3n\",\"Ellis Simms\",\"Lewis Dobbin\",\"Cenk Tosun\",\"Jamie Vardy\",\"Kelechi Iheanacho\",\"Patson Daka\",\"Rodrigo Rodrigo\",\"Patrick Bamford\",\"Sam Greenwood\",\"Joe Gelhardt\",\"Roberto Firmino\",\"Divock Origi\",\"Gabriel Fernando Jesus\",\"Kayky da Silva Kayky\",\"Liam Delap\",\"Edinson Cavani\",\"Anthony Martial\",\"Cristiano Ronaldo Ronaldo\",\"Chris Wood\",\"Callum Wilson\",\"Dwight Gayle\",\"Allan Saint-Maximin\",\"Joelinton C\\u00e1ssio Joelinton\",\"Teemu Pukki\",\"Jordan Hugill\",\"Adam Idah\",\"Joshua Sargent\",\"Thomas Dickson-Peters\",\"Abu Kamara\",\"Daniel Nlundulu\",\"Che Adams\",\"Michael Obafemi\",\"Armando Broja\",\"Shane Long\",\"Adam A.Armstrong\",\"Harry Kane\",\"Dane Scarlett\",\"Troy Deeney\",\"Andre Gray\",\"Stipe Perica\",\"Isaac Success\",\"Ashley Fletcher\",\"Jo\\u00e3o Pedro Jo\\u00e3o Pedro\",\"Emmanuel Dennis\",\"Joshua King\",\"Adedapo Mebude\",\"Juan Camilo Cucho\",\"Shaqai Forde\",\"Michail Antonio\",\"Ra\\u00fal Jim\\u00e9nez\",\"Fabio Fabio Silva\",\"Patrick Cutrone\",\"Hee-Chan Hwang\"],\"legendgroup\":\"Forward\",\"marker\":{\"color\":\"#00cc96\",\"size\":[0.0,1.7999999999999998,1.5,0.0,0.0,6.449999999999999,0.0,0.0,0.0,1.0499999999999998,0.0,7.5,0.0,0.0,0.0,0.0,0.0,1.7999999999999998,0.0,0.0,0.0,0.0,4.5,0.6000000000000001,1.7999999999999998,0.0,3.5999999999999996,0.0,0.0,8.55,0.0,0.44999999999999996,0.0,4.949999999999999,4.050000000000001,0.0,0.44999999999999996,2.25,7.199999999999999,0.0,0.0,0.30000000000000004,0.0,0.0,0.0,0.0,3.5999999999999996,1.7999999999999998,8.25,0.0,3.0,0.75,1.5,0.0,4.949999999999999,0.0,0.0,0.0,0.0,6.75,4.800000000000001,0.0,0.30000000000000004,1.7999999999999998,1.5,10.05,0.0,0.0,0.0,0.0,0.0,0.0,1.5,0.0,1.2000000000000002,0.30000000000000004,0.30000000000000004,10.8,0.0,0.0,0.0,0.0,0.0,0.0,3.0,4.949999999999999,1.5,0.0,1.0499999999999998,0.0,3.3000000000000003,0.0,5.25,0.0,2.25],\"sizemode\":\"area\",\"sizeref\":0.04800000000000001,\"symbol\":\"circle\"},\"mode\":\"markers\",\"name\":\"Forward\",\"orientation\":\"v\",\"showlegend\":true,\"x\":[3.1,3.4,1.2,1.0,0.0,3.5,1.0,0.0,1.0,3.5,1.0,4.5,1.6,0.0,0.0,3.4,1.2,2.4,0.0,0.0,1.0,1.0,2.1,1.0,1.7,0.0,3.2,0.0,0.0,2.9,0.0,3.2,2.5,2.5,2.9,0.0,3.4,3.2,3.6,0.0,1.0,1.7,2.0,0.7,1.0,5.1,2.9,3.1,3.0,3.1,3.3,2.3,3.1,3.2,3.7,1.0,1.0,2.5,1.8,5.2,2.8,3.9,0.8,3.4,2.0,4.0,0.0,2.1,2.4,0.0,0.0,0.0,3.8,0.0,3.1,1.4,2.5,4.9,1.0,1.0,0.0,0.0,0.0,1.0,2.0,4.2,2.8,0.0,2.5,0.0,3.8,3.1,1.4,0.0,3.0],\"xaxis\":\"x\",\"y\":[9.6,8.4,5.4,4.7,4.5,7.4,5.4,5.5,4.5,7.7,4.5,6.9,5.3,5.4,4.5,6.4,5.3,5.9,5.0,4.5,4.4,4.5,5.2,5.2,5.2,4.5,6.4,6.5,5.5,8.6,6.5,11.4,6.0,5.8,5.3,4.5,6.1,7.7,7.5,4.5,6.0,6.0,4.5,4.5,5.0,10.3,7.1,7.0,6.3,7.7,4.6,4.6,8.7,4.8,8.4,5.0,4.5,8.4,7.6,12.2,6.8,7.1,5.2,6.8,5.8,5.9,5.4,4.9,5.4,4.5,4.5,4.5,6.8,4.5,5.5,5.4,5.7,12.6,4.5,5.4,5.4,4.5,5.0,4.8,5.4,5.8,5.6,4.5,5.1,4.5,7.5,7.5,5.6,5.0,5.4],\"yaxis\":\"y\",\"type\":\"scatter\"},{\"customdata\":[[\"Arsenal\"],[\"Arsenal\"],[\"Arsenal\"],[\"Arsenal\"],[\"Arsenal\"],[\"Arsenal\"],[\"Arsenal\"],[\"Arsenal\"],[\"Arsenal\"],[\"Arsenal\"],[\"Arsenal\"],[\"Arsenal\"],[\"Arsenal\"],[\"Arsenal\"],[\"Arsenal\"],[\"Arsenal\"],[\"Aston Villa\"],[\"Aston Villa\"],[\"Aston Villa\"],[\"Aston Villa\"],[\"Aston Villa\"],[\"Aston Villa\"],[\"Aston Villa\"],[\"Aston Villa\"],[\"Aston Villa\"],[\"Aston Villa\"],[\"Aston Villa\"],[\"Aston Villa\"],[\"Brentford\"],[\"Brentford\"],[\"Brentford\"],[\"Brentford\"],[\"Brentford\"],[\"Brentford\"],[\"Brentford\"],[\"Brentford\"],[\"Brentford\"],[\"Brentford\"],[\"Brentford\"],[\"Brighton\"],[\"Brighton\"],[\"Brighton\"],[\"Brighton\"],[\"Brighton\"],[\"Brighton\"],[\"Brighton\"],[\"Brighton\"],[\"Brighton\"],[\"Brighton\"],[\"Brighton\"],[\"Burnley\"],[\"Burnley\"],[\"Burnley\"],[\"Burnley\"],[\"Burnley\"],[\"Burnley\"],[\"Burnley\"],[\"Burnley\"],[\"Burnley\"],[\"Burnley\"],[\"Burnley\"],[\"Chelsea\"],[\"Chelsea\"],[\"Chelsea\"],[\"Chelsea\"],[\"Chelsea\"],[\"Chelsea\"],[\"Chelsea\"],[\"Chelsea\"],[\"Chelsea\"],[\"Chelsea\"],[\"Chelsea\"],[\"Chelsea\"],[\"Crystal Palace\"],[\"Crystal Palace\"],[\"Crystal Palace\"],[\"Crystal Palace\"],[\"Crystal Palace\"],[\"Crystal Palace\"],[\"Crystal Palace\"],[\"Crystal Palace\"],[\"Crystal Palace\"],[\"Crystal Palace\"],[\"Crystal Palace\"],[\"Crystal Palace\"],[\"Everton\"],[\"Everton\"],[\"Everton\"],[\"Everton\"],[\"Everton\"],[\"Everton\"],[\"Everton\"],[\"Everton\"],[\"Everton\"],[\"Everton\"],[\"Everton\"],[\"Leicester\"],[\"Leicester\"],[\"Leicester\"],[\"Leicester\"],[\"Leicester\"],[\"Leicester\"],[\"Leicester\"],[\"Leicester\"],[\"Leicester\"],[\"Leicester\"],[\"Leicester\"],[\"Leicester\"],[\"Leeds\"],[\"Leeds\"],[\"Leeds\"],[\"Leeds\"],[\"Leeds\"],[\"Leeds\"],[\"Leeds\"],[\"Leeds\"],[\"Leeds\"],[\"Leeds\"],[\"Liverpool\"],[\"Liverpool\"],[\"Liverpool\"],[\"Liverpool\"],[\"Liverpool\"],[\"Liverpool\"],[\"Liverpool\"],[\"Liverpool\"],[\"Liverpool\"],[\"Liverpool\"],[\"Liverpool\"],[\"Liverpool\"],[\"Liverpool\"],[\"Liverpool\"],[\"Man City\"],[\"Man City\"],[\"Man City\"],[\"Man City\"],[\"Man City\"],[\"Man City\"],[\"Man City\"],[\"Man City\"],[\"Man City\"],[\"Man City\"],[\"Man City\"],[\"Man Utd\"],[\"Man Utd\"],[\"Man Utd\"],[\"Man Utd\"],[\"Man Utd\"],[\"Man Utd\"],[\"Man Utd\"],[\"Man Utd\"],[\"Man Utd\"],[\"Man Utd\"],[\"Newcastle\"],[\"Newcastle\"],[\"Newcastle\"],[\"Newcastle\"],[\"Newcastle\"],[\"Newcastle\"],[\"Newcastle\"],[\"Newcastle\"],[\"Newcastle\"],[\"Newcastle\"],[\"Newcastle\"],[\"Newcastle\"],[\"Norwich\"],[\"Norwich\"],[\"Norwich\"],[\"Norwich\"],[\"Norwich\"],[\"Norwich\"],[\"Norwich\"],[\"Norwich\"],[\"Norwich\"],[\"Norwich\"],[\"Norwich\"],[\"Norwich\"],[\"Southampton\"],[\"Southampton\"],[\"Southampton\"],[\"Southampton\"],[\"Southampton\"],[\"Southampton\"],[\"Southampton\"],[\"Southampton\"],[\"Southampton\"],[\"Southampton\"],[\"Spurs\"],[\"Spurs\"],[\"Spurs\"],[\"Spurs\"],[\"Spurs\"],[\"Spurs\"],[\"Spurs\"],[\"Spurs\"],[\"Spurs\"],[\"Spurs\"],[\"Spurs\"],[\"Spurs\"],[\"Spurs\"],[\"Spurs\"],[\"Watford\"],[\"Watford\"],[\"Watford\"],[\"Watford\"],[\"Watford\"],[\"Watford\"],[\"Watford\"],[\"Watford\"],[\"Watford\"],[\"Watford\"],[\"Watford\"],[\"Watford\"],[\"Watford\"],[\"Watford\"],[\"Watford\"],[\"West Ham\"],[\"West Ham\"],[\"West Ham\"],[\"West Ham\"],[\"West Ham\"],[\"West Ham\"],[\"West Ham\"],[\"West Ham\"],[\"West Ham\"],[\"West Ham\"],[\"West Ham\"],[\"West Ham\"],[\"West Ham\"],[\"West Ham\"],[\"West Ham\"],[\"Wolves\"],[\"Wolves\"],[\"Wolves\"],[\"Wolves\"],[\"Wolves\"],[\"Wolves\"],[\"Wolves\"],[\"Wolves\"],[\"Wolves\"],[\"Wolves\"],[\"Wolves\"],[\"Wolves\"],[\"Wolves\"],[\"Wolves\"]],\"hovertemplate\":\"<b>%{hovertext}</b><br><br>Player Type=Defender<br>points_per_game=%{x}<br>now_cost=%{y}<br>size=%{marker.size}<br>team_name=%{customdata[0]}<extra></extra>\",\"hovertext\":[\"C\\u00e9dric C\\u00e9dric\",\"Pablo Mar\\u00ed\",\"H\\u00e9ctor Beller\\u00edn\",\"Sead Kolasinac\",\"Rob Holding\",\"Kieran Tierney\",\"Gabriel Gabriel\",\"Konstantinos Mavropanos\",\"William Saliba\",\"Ben White\",\"Nuno Tavares\",\"Takehiro Tomiyasu\",\"Ryan Alebiosu\",\"Zach Awe\",\"Zak Swanson\",\"Mazeed Ogungbo\",\"Calum Chambers\",\"Bj\\u00f6rn Engels\",\"Kortney Hause\",\"Tyrone Mings\",\"Matthew Cash\",\"Ezri Konsa\",\"Fr\\u00e9d\\u00e9ric Guilbert\",\"Ashley Young\",\"Lucas Digne\",\"Lamare Bogarde\",\"Josh Feeney\",\"Kaine Hayden\",\"Pontus Jansson\",\"Rico Henry\",\"Charlie Goode\",\"Mads Roerslev\",\"Mads S\\u00f8rensen\",\"Ethan Pinnock\",\"Kristoffer Ajer\",\"Dominic Thompson\",\"Finley Stevens\",\"Mathias Zanka\",\"Julian Jeanvier\",\"Shane Duffy\",\"Lewis Dunk\",\"Adam Webster\",\"Jo\\u00ebl Veltman\",\"Bernardo Bernardo\",\"Tariq Lamptey\",\"Michal Karbownik\",\"Haydon Roberts\",\"Marc Cucurella\",\"Ed Turns\",\"Odeluga Offiah\",\"James Tarkowski\",\"Phil Bardsley\",\"Erik Pieters\",\"Kevin Long\",\"Ben Mee\",\"Matthew Lowton\",\"Charlie Taylor\",\"Nathan Collins\",\"Bobby Thomas\",\"Owen Dodgson\",\"Connor Roberts\",\"C\\u00e9sar Azpilicueta\",\"Thiago Thiago Silva\",\"Marcos Alonso\",\"Antonio R\\u00fcdiger\",\"Andreas Christensen\",\"Benjamin Chilwell\",\"Ethan Ampadu\",\"Reece James\",\"Malang Sarr\",\"Trevoh Chalobah\",\"Emerson Emerson\",\"Robert Kenedy Kenedy\",\"James Tomkins\",\"Cheikhou Kouyat\\u00e9\",\"Martin Kelly\",\"Jaros\\u0142aw Jach\",\"Nathan Ferguson\",\"Tyrick Mitchell\",\"Joel Ward\",\"Marc Gu\\u00e9hi\",\"Joachim Andersen\",\"Nathaniel Clyne\",\"Reece Hannam\",\"Tayo Adaramola\",\"Seamus Coleman\",\"Michael Keane\",\"Yerry Mina\",\"Mason Holgate\",\"Ben Godfrey\",\"Jonjoe Kenny\",\"Jarrad Branthwaite\",\"Niels Nkounkou\",\"Reece Welch\",\"Nathan Patterson\",\"Vitalii Mykolenko\",\"Jonny Evans\",\"Ricardo Domingos Pereira\",\"Daniel Amartey\",\"Timothy Castagne\",\"\\u00c7aglar S\\u00f6y\\u00fcnc\\u00fc\",\"James Justin\",\"Luke Thomas\",\"Wesley Fofana\",\"Jannik Vestergaard\",\"Ryan Bertrand\",\"Vontae Daley-Campbell\",\"Ben Nelson\",\"Liam Cooper\",\"Luke Ayling\",\"Diego Llorente\",\"Robin Koch\",\"Pascal Struijk\",\"H\\u00e9ctor Junior Firpo\",\"Cody Drameh\",\"Charlie Cresswell\",\"Leo Fuhr Hjelde\",\"Kris Moore\",\"Joel Matip\",\"Virgil van Dijk\",\"Andrew Robertson\",\"Trent Alexander-Arnold\",\"Joseph Gomez\",\"Nathaniel Phillips\",\"Ibrahima Konat\\u00e9\",\"Konstantinos Tsimikas\",\"Neco N.Williams\",\"Rhys R.Williams\",\"Ben Davies\",\"Conor Bradley\",\"Owen Beck\",\"Jarell Quansah\",\"Kyle Walker\",\"John Stones\",\"Benjamin Mendy\",\"Jo\\u00e3o Pedro Cavaco Cancelo\",\"Nathan Ak\\u00e9\",\"Aymeric Laporte\",\"R\\u00faben Santos Dias\",\"Oleksandr Zinchenko\",\"Luke Mbete\",\"Joshua Wilson-Esbrand\",\"Conrad Egan-Riley\",\"Harry Maguire\",\"Luke Shaw\",\"Alex Nicolao Telles\",\"Axel Tuanzebe\",\"Victor Lindel\\u00f6f\",\"Eric Bailly\",\"Aaron Wan-Bissaka\",\"Jos\\u00e9 Diogo Dalot\",\"Rapha\\u00ebl Varane\",\"Phil Jones\",\"Matt Targett\",\"Dan Burn\",\"Matt Ritchie\",\"Ciaran Clark\",\"Jamaal Lascelles\",\"Paul Dummett\",\"Javier Manquillo\",\"Emil Krafth\",\"Fabian Sch\\u00e4r\",\"Jamal Lewis\",\"Federico Fern\\u00e1ndez\",\"Kieran Trippier\",\"Brandon Williams\",\"Grant Hanley\",\"Sam Byram\",\"Christoph Zimmermann\",\"Max Aarons\",\"Jacob S\\u00f8rensen\",\"Andrew Omobamidele\",\"Ben Gibson\",\"Dimitris Giannoulis\",\"Bali Mumba\",\"Ozan Kabak\",\"Jonathan Tomkinson\",\"Jack Stephens\",\"Kyle Walker-Peters\",\"Jan Bednarek\",\"Mohammed Salisu\",\"Romain Perraud\",\"Tino Livramento\",\"Yan Valery\",\"Lyanco Evangelista Lyanco\",\"Dynel Simeu\",\"Thierry Small\",\"Toby Alderweireld\",\"Serge Aurier\",\"Matt Doherty\",\"Eric Dier\",\"Ben Davies\",\"Davinson S\\u00e1nchez\",\"Ryan Sessegnon\",\"Sergio Reguil\\u00f3n\",\"Japhet Tanganga\",\"Joe Rodon\",\"Cristian Romero\",\"Emerson Aparecido Emerson Royal\",\"Tobi Omole\",\"Marcel Lavinier\",\"Danny Rose\",\"Craig Cathcart\",\"Francisco Femen\\u00eda\",\"Christian Kabasele\",\"William Troost-Ekong\",\"Adam Masina\",\"Francisco Sierralta\",\"Marc Navarro\",\"Jeremy Ngakia\",\"Ben Wilmot\",\"Matthew Pollock\",\"Nicolas Nkoulou\",\"James Morris\",\"Hassane Kamara\",\"Samir Samir\",\"Kurt Zouma\",\"Angelo Ogbonna\",\"Winston Reid\",\"Aaron Cresswell\",\"Craig Dawson\",\"Ryan Fredericks\",\"Arthur Masuaku\",\"Vladimir Coufal\",\"Issa Diop\",\"Ben Johnson\",\"Frederik Alves\",\"Jamal Baptiste\",\"Harrison Ashby\",\"Ajibola Alese\",\"Pierre Ekwah\",\"Willy Boly\",\"Conor Coady\",\"Romain Sa\\u00efss\",\"Fernando Mar\\u00e7al\",\"Jonathan Jonny\",\"N\\u00e9lson Semedo\",\"Max Kilman\",\"Ki-Jana Hoever\",\"Yerson Mosquera\",\"Rayan Ait Nouri\",\"Christian Marques\",\"Hugo Bueno\",\"Toti Ant\\u00f3nio Toti\",\"Dion Sanderson\"],\"legendgroup\":\"Defender\",\"marker\":{\"color\":\"#ab63fa\",\"size\":[2.4000000000000004,0.0,0.0,0.0,0.30000000000000004,1.7999999999999998,3.5999999999999996,0.0,0.0,3.0,0.6000000000000001,0.0,0.0,0.0,0.0,0.0,0.0,0.0,0.0,1.0499999999999998,1.5,1.0499999999999998,0.0,0.44999999999999996,0.44999999999999996,0.0,0.0,0.0,4.800000000000001,4.5,0.0,1.5,0.75,3.3000000000000003,5.25,0.0,0.0,2.25,0.0,0.0,4.800000000000001,0.30000000000000004,5.699999999999999,0.0,5.25,0.0,0.0,6.75,0.0,0.0,1.5,0.0,0.0,0.30000000000000004,0.0,2.0999999999999996,2.0999999999999996,3.0,0.0,0.0,0.8999999999999999,0.0,3.0,6.449999999999999,6.0,3.0,0.0,0.0,0.44999999999999996,0.0,0.0,0.0,0.0,0.0,3.0,0.0,0.0,0.0,3.4499999999999997,0.0,3.4499999999999997,7.949999999999999,3.4499999999999997,0.0,0.0,2.25,1.5,0.0,3.0,2.7,0.75,0.30000000000000004,0.0,0.0,0.0,5.25,2.0999999999999996,0.0,1.5,5.1,1.5,2.0999999999999996,0.6000000000000001,0.30000000000000004,0.0,0.0,0.0,0.0,6.75,5.25,6.0,4.5,0.75,0.0,0.0,0.0,0.0,0.0,4.050000000000001,3.0,3.0,1.9500000000000002,4.949999999999999,0.0,0.0,0.0,0.0,0.0,0.0,0.0,0.0,0.0,3.4499999999999997,0.44999999999999996,0.0,5.550000000000001,3.0,3.4499999999999997,0.0,0.0,0.0,0.0,0.0,1.7999999999999998,0.0,2.7,0.0,1.2000000000000002,0.0,0.75,1.2000000000000002,0.75,0.0,3.0,3.3000000000000003,0.0,0.0,0.30000000000000004,0.0,0.0,2.7,4.800000000000001,0.0,0.0,0.0,0.44999999999999996,7.050000000000001,6.449999999999999,0.0,0.0,0.0,0.0,6.449999999999999,6.449999999999999,0.0,0.0,0.0,0.0,4.199999999999999,5.699999999999999,0.30000000000000004,2.25,0.75,2.25,2.7,0.0,0.0,0.0,0.0,6.300000000000001,4.5,6.75,0.0,0.0,3.75,0.0,0.0,4.5,5.699999999999999,0.0,0.0,0.0,0.44999999999999996,1.9500000000000002,1.5,0.0,0.0,0.0,0.0,0.0,0.0,0.0,0.0,0.0,1.0499999999999998,1.5,0.75,0.0,0.0,4.800000000000001,3.0,0.75,0.0,0.30000000000000004,1.2000000000000002,1.2000000000000002,0.0,0.0,0.0,0.0,0.0,3.0,2.25,0.0,5.25,8.25,0.0,3.0,0.0,0.0,0.75,0.0,0.0,0.0,0.0],\"sizemode\":\"area\",\"sizeref\":0.04800000000000001,\"symbol\":\"circle\"},\"mode\":\"markers\",\"name\":\"Defender\",\"orientation\":\"v\",\"showlegend\":true,\"x\":[1.9,0.5,0.0,0.0,1.8,4.8,4.3,0.0,0.0,3.7,2.1,4.3,0.0,0.0,0.0,0.0,3.4,0.0,2.9,3.4,3.9,2.7,0.0,2.0,2.5,0.0,0.0,0.0,3.1,3.0,1.7,1.8,1.3,2.8,3.3,1.5,1.0,2.2,0.0,2.7,3.3,3.4,2.5,0.0,2.8,0.0,0.0,3.5,0.0,0.0,2.4,0.0,3.0,1.0,3.5,3.0,2.3,2.4,0.0,0.0,2.9,3.6,4.6,4.3,4.7,3.7,9.0,0.0,5.8,5.8,4.9,1.0,0.0,2.1,3.1,0.0,0.0,1.0,3.1,2.3,3.2,3.5,3.0,0.0,0.0,2.8,3.0,1.6,2.1,2.0,1.6,2.5,0.0,0.0,0.0,2.8,2.2,2.4,2.1,2.4,2.2,1.3,2.4,1.0,1.1,1.0,0.0,0.0,2.9,2.2,2.5,1.1,0.8,0.7,0.0,0.8,1.0,0.0,4.8,5.4,6.2,7.1,2.7,0.0,3.4,3.8,4.0,0.0,0.0,0.0,0.0,0.0,4.2,5.2,3.0,6.0,4.4,5.0,4.9,4.2,0.0,0.0,0.0,2.4,2.3,3.2,1.6,2.6,0.5,2.2,2.5,3.2,2.0,2.7,3.0,1.1,1.1,1.7,2.3,2.0,2.3,3.5,2.0,1.6,6.5,1.5,2.4,1.8,0.0,1.8,1.3,2.8,1.9,2.6,0.0,1.6,0.0,1.3,3.0,3.4,1.9,2.2,3.0,2.0,1.4,0.0,0.0,0.0,0.0,4.5,3.6,3.5,3.7,2.6,4.2,2.6,1.0,2.6,2.9,0.0,0.0,0.9,1.7,2.0,1.2,1.1,1.1,1.0,0.0,1.5,0.0,0.0,1.7,0.0,2.1,1.9,2.9,3.6,0.0,4.0,2.7,1.0,2.2,2.6,2.3,2.6,0.0,0.0,1.0,0.0,0.0,2.5,3.9,3.8,3.7,4.6,4.0,3.5,1.8,0.0,4.1,0.0,0.0,1.5,0.0],\"xaxis\":\"x\",\"y\":[4.2,4.2,4.8,4.2,4.1,5.0,5.4,4.5,4.5,4.6,4.3,4.5,4.0,4.0,4.0,4.0,4.2,4.5,4.4,5.0,5.2,4.9,4.5,4.7,5.0,4.0,4.0,4.0,4.4,4.5,3.9,4.1,4.3,4.4,4.4,4.4,3.9,4.5,4.0,4.0,4.8,4.3,4.2,4.0,4.5,4.0,3.9,4.9,4.0,4.0,4.9,3.9,4.1,4.0,4.7,4.4,4.4,4.3,3.9,3.9,4.4,5.6,5.6,5.5,6.2,4.6,5.6,4.5,6.3,4.9,4.7,4.5,4.5,4.3,4.5,3.8,4.2,4.5,4.5,4.5,4.5,4.6,4.3,3.9,4.0,4.9,4.7,4.9,4.2,4.7,4.4,4.0,4.0,4.0,4.2,4.9,5.4,5.2,4.0,5.3,4.9,4.9,4.3,4.3,4.7,4.6,4.0,4.0,4.4,4.3,4.5,4.3,4.3,4.7,3.9,4.0,4.0,4.0,5.0,6.8,7.3,8.4,4.7,4.2,5.1,3.7,3.8,4.4,4.0,4.0,4.0,4.0,5.4,5.2,5.2,7.1,4.7,5.9,6.1,5.3,3.9,3.9,4.0,5.4,5.0,5.1,4.4,4.8,4.9,5.1,4.2,5.5,4.5,4.7,4.4,4.9,4.4,4.4,4.5,3.9,4.3,4.4,4.2,4.3,4.9,3.9,4.4,4.4,4.4,4.3,4.3,3.9,4.4,4.4,3.9,4.3,4.0,4.4,4.8,4.4,4.5,4.8,4.3,3.9,4.4,4.0,4.0,5.0,4.9,4.8,4.6,4.4,4.3,4.3,5.1,4.2,4.2,4.8,4.5,3.9,4.0,4.2,4.3,4.3,4.3,4.3,4.3,4.3,4.0,4.2,4.5,4.0,4.4,4.0,4.5,4.5,5.4,4.9,3.9,5.5,4.9,4.4,4.4,4.7,4.2,3.9,4.0,3.9,4.0,4.0,4.0,4.9,4.8,4.9,4.2,4.5,4.8,4.5,3.9,4.4,4.2,4.0,4.0,4.4,4.0],\"yaxis\":\"y\",\"type\":\"scatter\"}],                        {\"template\":{\"data\":{\"histogram2dcontour\":[{\"type\":\"histogram2dcontour\",\"colorbar\":{\"outlinewidth\":0,\"ticks\":\"\"},\"colorscale\":[[0.0,\"#0d0887\"],[0.1111111111111111,\"#46039f\"],[0.2222222222222222,\"#7201a8\"],[0.3333333333333333,\"#9c179e\"],[0.4444444444444444,\"#bd3786\"],[0.5555555555555556,\"#d8576b\"],[0.6666666666666666,\"#ed7953\"],[0.7777777777777778,\"#fb9f3a\"],[0.8888888888888888,\"#fdca26\"],[1.0,\"#f0f921\"]]}],\"choropleth\":[{\"type\":\"choropleth\",\"colorbar\":{\"outlinewidth\":0,\"ticks\":\"\"}}],\"histogram2d\":[{\"type\":\"histogram2d\",\"colorbar\":{\"outlinewidth\":0,\"ticks\":\"\"},\"colorscale\":[[0.0,\"#0d0887\"],[0.1111111111111111,\"#46039f\"],[0.2222222222222222,\"#7201a8\"],[0.3333333333333333,\"#9c179e\"],[0.4444444444444444,\"#bd3786\"],[0.5555555555555556,\"#d8576b\"],[0.6666666666666666,\"#ed7953\"],[0.7777777777777778,\"#fb9f3a\"],[0.8888888888888888,\"#fdca26\"],[1.0,\"#f0f921\"]]}],\"heatmap\":[{\"type\":\"heatmap\",\"colorbar\":{\"outlinewidth\":0,\"ticks\":\"\"},\"colorscale\":[[0.0,\"#0d0887\"],[0.1111111111111111,\"#46039f\"],[0.2222222222222222,\"#7201a8\"],[0.3333333333333333,\"#9c179e\"],[0.4444444444444444,\"#bd3786\"],[0.5555555555555556,\"#d8576b\"],[0.6666666666666666,\"#ed7953\"],[0.7777777777777778,\"#fb9f3a\"],[0.8888888888888888,\"#fdca26\"],[1.0,\"#f0f921\"]]}],\"heatmapgl\":[{\"type\":\"heatmapgl\",\"colorbar\":{\"outlinewidth\":0,\"ticks\":\"\"},\"colorscale\":[[0.0,\"#0d0887\"],[0.1111111111111111,\"#46039f\"],[0.2222222222222222,\"#7201a8\"],[0.3333333333333333,\"#9c179e\"],[0.4444444444444444,\"#bd3786\"],[0.5555555555555556,\"#d8576b\"],[0.6666666666666666,\"#ed7953\"],[0.7777777777777778,\"#fb9f3a\"],[0.8888888888888888,\"#fdca26\"],[1.0,\"#f0f921\"]]}],\"contourcarpet\":[{\"type\":\"contourcarpet\",\"colorbar\":{\"outlinewidth\":0,\"ticks\":\"\"}}],\"contour\":[{\"type\":\"contour\",\"colorbar\":{\"outlinewidth\":0,\"ticks\":\"\"},\"colorscale\":[[0.0,\"#0d0887\"],[0.1111111111111111,\"#46039f\"],[0.2222222222222222,\"#7201a8\"],[0.3333333333333333,\"#9c179e\"],[0.4444444444444444,\"#bd3786\"],[0.5555555555555556,\"#d8576b\"],[0.6666666666666666,\"#ed7953\"],[0.7777777777777778,\"#fb9f3a\"],[0.8888888888888888,\"#fdca26\"],[1.0,\"#f0f921\"]]}],\"surface\":[{\"type\":\"surface\",\"colorbar\":{\"outlinewidth\":0,\"ticks\":\"\"},\"colorscale\":[[0.0,\"#0d0887\"],[0.1111111111111111,\"#46039f\"],[0.2222222222222222,\"#7201a8\"],[0.3333333333333333,\"#9c179e\"],[0.4444444444444444,\"#bd3786\"],[0.5555555555555556,\"#d8576b\"],[0.6666666666666666,\"#ed7953\"],[0.7777777777777778,\"#fb9f3a\"],[0.8888888888888888,\"#fdca26\"],[1.0,\"#f0f921\"]]}],\"mesh3d\":[{\"type\":\"mesh3d\",\"colorbar\":{\"outlinewidth\":0,\"ticks\":\"\"}}],\"scatter\":[{\"fillpattern\":{\"fillmode\":\"overlay\",\"size\":10,\"solidity\":0.2},\"type\":\"scatter\"}],\"parcoords\":[{\"type\":\"parcoords\",\"line\":{\"colorbar\":{\"outlinewidth\":0,\"ticks\":\"\"}}}],\"scatterpolargl\":[{\"type\":\"scatterpolargl\",\"marker\":{\"colorbar\":{\"outlinewidth\":0,\"ticks\":\"\"}}}],\"bar\":[{\"error_x\":{\"color\":\"#2a3f5f\"},\"error_y\":{\"color\":\"#2a3f5f\"},\"marker\":{\"line\":{\"color\":\"#E5ECF6\",\"width\":0.5},\"pattern\":{\"fillmode\":\"overlay\",\"size\":10,\"solidity\":0.2}},\"type\":\"bar\"}],\"scattergeo\":[{\"type\":\"scattergeo\",\"marker\":{\"colorbar\":{\"outlinewidth\":0,\"ticks\":\"\"}}}],\"scatterpolar\":[{\"type\":\"scatterpolar\",\"marker\":{\"colorbar\":{\"outlinewidth\":0,\"ticks\":\"\"}}}],\"histogram\":[{\"marker\":{\"pattern\":{\"fillmode\":\"overlay\",\"size\":10,\"solidity\":0.2}},\"type\":\"histogram\"}],\"scattergl\":[{\"type\":\"scattergl\",\"marker\":{\"colorbar\":{\"outlinewidth\":0,\"ticks\":\"\"}}}],\"scatter3d\":[{\"type\":\"scatter3d\",\"line\":{\"colorbar\":{\"outlinewidth\":0,\"ticks\":\"\"}},\"marker\":{\"colorbar\":{\"outlinewidth\":0,\"ticks\":\"\"}}}],\"scattermapbox\":[{\"type\":\"scattermapbox\",\"marker\":{\"colorbar\":{\"outlinewidth\":0,\"ticks\":\"\"}}}],\"scatterternary\":[{\"type\":\"scatterternary\",\"marker\":{\"colorbar\":{\"outlinewidth\":0,\"ticks\":\"\"}}}],\"scattercarpet\":[{\"type\":\"scattercarpet\",\"marker\":{\"colorbar\":{\"outlinewidth\":0,\"ticks\":\"\"}}}],\"carpet\":[{\"aaxis\":{\"endlinecolor\":\"#2a3f5f\",\"gridcolor\":\"white\",\"linecolor\":\"white\",\"minorgridcolor\":\"white\",\"startlinecolor\":\"#2a3f5f\"},\"baxis\":{\"endlinecolor\":\"#2a3f5f\",\"gridcolor\":\"white\",\"linecolor\":\"white\",\"minorgridcolor\":\"white\",\"startlinecolor\":\"#2a3f5f\"},\"type\":\"carpet\"}],\"table\":[{\"cells\":{\"fill\":{\"color\":\"#EBF0F8\"},\"line\":{\"color\":\"white\"}},\"header\":{\"fill\":{\"color\":\"#C8D4E3\"},\"line\":{\"color\":\"white\"}},\"type\":\"table\"}],\"barpolar\":[{\"marker\":{\"line\":{\"color\":\"#E5ECF6\",\"width\":0.5},\"pattern\":{\"fillmode\":\"overlay\",\"size\":10,\"solidity\":0.2}},\"type\":\"barpolar\"}],\"pie\":[{\"automargin\":true,\"type\":\"pie\"}]},\"layout\":{\"autotypenumbers\":\"strict\",\"colorway\":[\"#636efa\",\"#EF553B\",\"#00cc96\",\"#ab63fa\",\"#FFA15A\",\"#19d3f3\",\"#FF6692\",\"#B6E880\",\"#FF97FF\",\"#FECB52\"],\"font\":{\"color\":\"#2a3f5f\"},\"hovermode\":\"closest\",\"hoverlabel\":{\"align\":\"left\"},\"paper_bgcolor\":\"white\",\"plot_bgcolor\":\"#E5ECF6\",\"polar\":{\"bgcolor\":\"#E5ECF6\",\"angularaxis\":{\"gridcolor\":\"white\",\"linecolor\":\"white\",\"ticks\":\"\"},\"radialaxis\":{\"gridcolor\":\"white\",\"linecolor\":\"white\",\"ticks\":\"\"}},\"ternary\":{\"bgcolor\":\"#E5ECF6\",\"aaxis\":{\"gridcolor\":\"white\",\"linecolor\":\"white\",\"ticks\":\"\"},\"baxis\":{\"gridcolor\":\"white\",\"linecolor\":\"white\",\"ticks\":\"\"},\"caxis\":{\"gridcolor\":\"white\",\"linecolor\":\"white\",\"ticks\":\"\"}},\"coloraxis\":{\"colorbar\":{\"outlinewidth\":0,\"ticks\":\"\"}},\"colorscale\":{\"sequential\":[[0.0,\"#0d0887\"],[0.1111111111111111,\"#46039f\"],[0.2222222222222222,\"#7201a8\"],[0.3333333333333333,\"#9c179e\"],[0.4444444444444444,\"#bd3786\"],[0.5555555555555556,\"#d8576b\"],[0.6666666666666666,\"#ed7953\"],[0.7777777777777778,\"#fb9f3a\"],[0.8888888888888888,\"#fdca26\"],[1.0,\"#f0f921\"]],\"sequentialminus\":[[0.0,\"#0d0887\"],[0.1111111111111111,\"#46039f\"],[0.2222222222222222,\"#7201a8\"],[0.3333333333333333,\"#9c179e\"],[0.4444444444444444,\"#bd3786\"],[0.5555555555555556,\"#d8576b\"],[0.6666666666666666,\"#ed7953\"],[0.7777777777777778,\"#fb9f3a\"],[0.8888888888888888,\"#fdca26\"],[1.0,\"#f0f921\"]],\"diverging\":[[0,\"#8e0152\"],[0.1,\"#c51b7d\"],[0.2,\"#de77ae\"],[0.3,\"#f1b6da\"],[0.4,\"#fde0ef\"],[0.5,\"#f7f7f7\"],[0.6,\"#e6f5d0\"],[0.7,\"#b8e186\"],[0.8,\"#7fbc41\"],[0.9,\"#4d9221\"],[1,\"#276419\"]]},\"xaxis\":{\"gridcolor\":\"white\",\"linecolor\":\"white\",\"ticks\":\"\",\"title\":{\"standoff\":15},\"zerolinecolor\":\"white\",\"automargin\":true,\"zerolinewidth\":2},\"yaxis\":{\"gridcolor\":\"white\",\"linecolor\":\"white\",\"ticks\":\"\",\"title\":{\"standoff\":15},\"zerolinecolor\":\"white\",\"automargin\":true,\"zerolinewidth\":2},\"scene\":{\"xaxis\":{\"backgroundcolor\":\"#E5ECF6\",\"gridcolor\":\"white\",\"linecolor\":\"white\",\"showbackground\":true,\"ticks\":\"\",\"zerolinecolor\":\"white\",\"gridwidth\":2},\"yaxis\":{\"backgroundcolor\":\"#E5ECF6\",\"gridcolor\":\"white\",\"linecolor\":\"white\",\"showbackground\":true,\"ticks\":\"\",\"zerolinecolor\":\"white\",\"gridwidth\":2},\"zaxis\":{\"backgroundcolor\":\"#E5ECF6\",\"gridcolor\":\"white\",\"linecolor\":\"white\",\"showbackground\":true,\"ticks\":\"\",\"zerolinecolor\":\"white\",\"gridwidth\":2}},\"shapedefaults\":{\"line\":{\"color\":\"#2a3f5f\"}},\"annotationdefaults\":{\"arrowcolor\":\"#2a3f5f\",\"arrowhead\":0,\"arrowwidth\":1},\"geo\":{\"bgcolor\":\"white\",\"landcolor\":\"#E5ECF6\",\"subunitcolor\":\"white\",\"showland\":true,\"showlakes\":true,\"lakecolor\":\"white\"},\"title\":{\"x\":0.05},\"mapbox\":{\"style\":\"light\"}}},\"xaxis\":{\"anchor\":\"y\",\"domain\":[0.0,1.0],\"title\":{\"text\":\"Points Per Game\"}},\"yaxis\":{\"anchor\":\"x\",\"domain\":[0.0,1.0],\"title\":{\"text\":\"Price\"},\"tickprefix\":\"\\u00a3\"},\"legend\":{\"title\":{\"text\":\"Player Type\"},\"tracegroupgap\":0,\"itemsizing\":\"constant\"},\"title\":{\"text\":\"Most Suitable Player to Buy Currently\"},\"showlegend\":true,\"annotations\":[{\"showarrow\":false,\"text\":\"Bubble Size : Player Form\",\"x\":1.15,\"xref\":\"paper\",\"y\":1.1,\"yref\":\"paper\"}]},                        {\"responsive\": true}                    ).then(function(){\n",
       "                            \n",
       "var gd = document.getElementById('45895baa-e93d-4646-86cc-4860f2f692d2');\n",
       "var x = new MutationObserver(function (mutations, observer) {{\n",
       "        var display = window.getComputedStyle(gd).display;\n",
       "        if (!display || display === 'none') {{\n",
       "            console.log([gd, 'removed!']);\n",
       "            Plotly.purge(gd);\n",
       "            observer.disconnect();\n",
       "        }}\n",
       "}});\n",
       "\n",
       "// Listen for the removal of the full notebook cells\n",
       "var notebookContainer = gd.closest('#notebook-container');\n",
       "if (notebookContainer) {{\n",
       "    x.observe(notebookContainer, {childList: true});\n",
       "}}\n",
       "\n",
       "// Listen for the clearing of the current output cell\n",
       "var outputEl = gd.closest('.output');\n",
       "if (outputEl) {{\n",
       "    x.observe(outputEl, {childList: true});\n",
       "}}\n",
       "\n",
       "                        })                };                });            </script>        </div>"
      ]
     },
     "metadata": {},
     "output_type": "display_data"
    }
   ],
   "source": [
    "cf.go_offline()\n",
    "\n",
    "df = players_details[['form','points_per_game','now_cost','team_name','singular_name','first_name','web_name']]\n",
    "df[\"now_cost\"] = df[\"now_cost\"]/10\n",
    "df.points_per_game = pd.to_numeric(df.points_per_game)\n",
    "df.rename(columns = {'singular_name' : \"Player Type\"}, inplace = True)\n",
    "df[\"name\"] = df[\"first_name\"] + ' ' + df[\"web_name\"]\n",
    "fig = px.scatter(df, x='points_per_game', \n",
    "                 y='now_cost',  \n",
    "                 size = (players_details[\"form\"].astype(float).values + abs(players_details[\"form\"].astype(float).values.min()))*1.5, \n",
    "                 hover_name = \"name\",\n",
    "                 hover_data= [\"team_name\"],\n",
    "                 color =\"Player Type\",\n",
    "                 title = \"Most Suitable Player to Buy Currently\"\n",
    "                )\n",
    "fig['layout']['yaxis'].update({'title': 'Price', 'tickprefix': '£'})\n",
    "fig['layout']['xaxis'].update({'title': 'Points Per Game'})\n",
    "fig.update_layout(\n",
    "    showlegend=True,\n",
    "    annotations=[\n",
    "        dict(\n",
    "            x=1.15,\n",
    "            y=1.10,\n",
    "            xref=\"paper\",\n",
    "            yref=\"paper\",\n",
    "            showarrow=False,\n",
    "            text=\"Bubble Size : Player Form\"\n",
    "        )\n",
    "    ]\n",
    ")\n",
    "\n",
    "fig.show()"
   ]
  },
  {
   "cell_type": "code",
   "execution_count": null,
   "metadata": {},
   "outputs": [],
   "source": []
  }
 ],
 "metadata": {
  "kernelspec": {
   "display_name": "Python 3",
   "language": "python",
   "name": "python3"
  },
  "language_info": {
   "codemirror_mode": {
    "name": "ipython",
    "version": 3
   },
   "file_extension": ".py",
   "mimetype": "text/x-python",
   "name": "python",
   "nbconvert_exporter": "python",
   "pygments_lexer": "ipython3",
   "version": "3.7.12"
  }
 },
 "nbformat": 4,
 "nbformat_minor": 2
}
